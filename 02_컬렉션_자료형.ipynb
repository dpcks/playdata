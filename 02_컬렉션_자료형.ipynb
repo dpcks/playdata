{
  "nbformat": 4,
  "nbformat_minor": 0,
  "metadata": {
    "colab": {
      "provenance": [],
      "toc_visible": true,
      "authorship_tag": "ABX9TyN2Aw3dRdSECjBzJYI6aFW+",
      "include_colab_link": true
    },
    "kernelspec": {
      "name": "python3",
      "display_name": "Python 3"
    },
    "language_info": {
      "name": "python"
    }
  },
  "cells": [
    {
      "cell_type": "markdown",
      "metadata": {
        "id": "view-in-github",
        "colab_type": "text"
      },
      "source": [
        "<a href=\"https://colab.research.google.com/github/dpcks/playdata/blob/main/02_%EC%BB%AC%EB%A0%89%EC%85%98_%EC%9E%90%EB%A3%8C%ED%98%95.ipynb\" target=\"_parent\"><img src=\"https://colab.research.google.com/assets/colab-badge.svg\" alt=\"Open In Colab\"/></a>"
      ]
    },
    {
      "cell_type": "markdown",
      "source": [
        "# 함수와 메소드\n",
        "## 함수 \n",
        "- 코드의 반복을 줄이거나 어떠한 기능을 하기 위해 특정 코드를 모아둔것\n",
        "$$\n",
        "f(x) = 2x\n",
        "$$\n",
        "## 메소드\n",
        "- 객체(값)에 소속되어 있는 함수\n"
      ],
      "metadata": {
        "id": "gSiAzHYZWLop"
      }
    },
    {
      "cell_type": "code",
      "source": [
        "s = \"ABCD\"\n",
        "\n",
        "len(s) #시퀀스 자료형의 길이를 반환하는 함수"
      ],
      "metadata": {
        "colab": {
          "base_uri": "https://localhost:8080/"
        },
        "id": "4u38abWRXJ_E",
        "outputId": "705fb50a-1cbe-440d-da47-01aa8045d6fc"
      },
      "execution_count": null,
      "outputs": [
        {
          "output_type": "execute_result",
          "data": {
            "text/plain": [
              "4"
            ]
          },
          "metadata": {},
          "execution_count": 1
        }
      ]
    },
    {
      "cell_type": "code",
      "source": [
        "s.lower() #대문자를 소문자로 바꿔주는 함수 (메소드)"
      ],
      "metadata": {
        "colab": {
          "base_uri": "https://localhost:8080/",
          "height": 35
        },
        "id": "szA5tkNKXPzO",
        "outputId": "722c2c77-abb3-4466-8c37-8296756dabb3"
      },
      "execution_count": null,
      "outputs": [
        {
          "output_type": "execute_result",
          "data": {
            "text/plain": [
              "'abcd'"
            ],
            "application/vnd.google.colaboratory.intrinsic+json": {
              "type": "string"
            }
          },
          "metadata": {},
          "execution_count": 2
        }
      ]
    },
    {
      "cell_type": "markdown",
      "source": [
        "# 컬렉션 자료형(Collection data type)\n",
        "- 여러가지 요소를 하나로 묶어서 담을 수 있는 데이터 타입\n",
        "    - 문법적인 요소들 빼고 다 담을 수 있다.\n",
        "    - 객체, 변수, 함수 ,클래스.......등 담을 수 있다.\n",
        "    - `list, set, dict ,tuple`"
      ],
      "metadata": {
        "id": "lJCccpYKXTRU"
      }
    },
    {
      "cell_type": "markdown",
      "source": [
        "# 자료형의 특징\n",
        "- Sequence 자료형\n",
        "    - 열거 되어있다. 연속 되어있다.\n",
        "    - 순서가 있다. 순번(index)도 있다.\n",
        "- mutable 자료형\n",
        "    - 수정 가능한 객체(값)\n",
        "    - 컬렉션 자료형: `list, set, dict`\n",
        "-immutable 자료형\n",
        "    - 수정 불가능한 객체\n",
        "    - `int, float, str, bool, tuple`(컬렉션 타입)"
      ],
      "metadata": {
        "id": "2OvnAkBNX-Sd"
      }
    },
    {
      "cell_type": "markdown",
      "source": [
        "## list\n",
        "- Sequence 자료형\n",
        "- mutable 자료형\n",
        "    - 변경 가능\n",
        "- 중복 데이터 저장이 가능\n",
        "- '[ ]' 를 이용해서 만들 수 있다."
      ],
      "metadata": {
        "id": "JkW2WbL3ZAgW"
      }
    },
    {
      "cell_type": "code",
      "source": [
        "lst = []\n",
        "lst"
      ],
      "metadata": {
        "colab": {
          "base_uri": "https://localhost:8080/"
        },
        "id": "qJ-8t7sbZXBz",
        "outputId": "653db733-fbe8-47d3-835b-398ae50e7cfc"
      },
      "execution_count": null,
      "outputs": [
        {
          "output_type": "execute_result",
          "data": {
            "text/plain": [
              "[]"
            ]
          },
          "metadata": {},
          "execution_count": 3
        }
      ]
    },
    {
      "cell_type": "code",
      "source": [
        "lst = [1,2,3,3,\"four\", None, 7.0, True]\n",
        "lst"
      ],
      "metadata": {
        "colab": {
          "base_uri": "https://localhost:8080/"
        },
        "id": "cNF2sLmKZf6E",
        "outputId": "c1878bf9-3bef-49fc-82cf-0dc96aee90d7"
      },
      "execution_count": null,
      "outputs": [
        {
          "output_type": "execute_result",
          "data": {
            "text/plain": [
              "[1, 2, 3, 3, 'four', None, 7.0, True]"
            ]
          },
          "metadata": {},
          "execution_count": 4
        }
      ]
    },
    {
      "cell_type": "code",
      "source": [
        "type(lst)"
      ],
      "metadata": {
        "colab": {
          "base_uri": "https://localhost:8080/"
        },
        "id": "c4A4D4VPZrFl",
        "outputId": "df2fdeac-7ab3-4a61-c9ee-b6ebf69bfc31"
      },
      "execution_count": null,
      "outputs": [
        {
          "output_type": "execute_result",
          "data": {
            "text/plain": [
              "list"
            ]
          },
          "metadata": {},
          "execution_count": 5
        }
      ]
    },
    {
      "cell_type": "code",
      "source": [
        "len(lst)"
      ],
      "metadata": {
        "colab": {
          "base_uri": "https://localhost:8080/"
        },
        "id": "N_BKzgb8ZvDb",
        "outputId": "e6ee63cb-566b-4a47-bbde-21cdc80eeade"
      },
      "execution_count": null,
      "outputs": [
        {
          "output_type": "execute_result",
          "data": {
            "text/plain": [
              "8"
            ]
          },
          "metadata": {},
          "execution_count": 6
        }
      ]
    },
    {
      "cell_type": "code",
      "source": [
        "lst = [1,2,3,[1,2]]\n",
        "len(lst)"
      ],
      "metadata": {
        "colab": {
          "base_uri": "https://localhost:8080/"
        },
        "id": "JIbn_OhjZxMy",
        "outputId": "3136db0e-af89-4b6e-d497-5e1b288fd75b"
      },
      "execution_count": null,
      "outputs": [
        {
          "output_type": "execute_result",
          "data": {
            "text/plain": [
              "4"
            ]
          },
          "metadata": {},
          "execution_count": 7
        }
      ]
    },
    {
      "cell_type": "code",
      "source": [
        "lst = [11, 200, 7, 9, 10]\n",
        "sorted(lst)    #정렬한 값을 반환"
      ],
      "metadata": {
        "colab": {
          "base_uri": "https://localhost:8080/"
        },
        "id": "V3vG4x0QZ_FL",
        "outputId": "9d2e8e11-71d5-4f30-ebc1-65ccdef757b2"
      },
      "execution_count": null,
      "outputs": [
        {
          "output_type": "execute_result",
          "data": {
            "text/plain": [
              "[7, 9, 10, 11, 200]"
            ]
          },
          "metadata": {},
          "execution_count": 8
        }
      ]
    },
    {
      "cell_type": "code",
      "source": [
        "max(lst)"
      ],
      "metadata": {
        "colab": {
          "base_uri": "https://localhost:8080/"
        },
        "id": "CCKY2iv5aHZH",
        "outputId": "91c6df45-3925-4ef7-a571-76a2094d6f72"
      },
      "execution_count": null,
      "outputs": [
        {
          "output_type": "execute_result",
          "data": {
            "text/plain": [
              "200"
            ]
          },
          "metadata": {},
          "execution_count": 9
        }
      ]
    },
    {
      "cell_type": "code",
      "source": [
        "min(lst)"
      ],
      "metadata": {
        "colab": {
          "base_uri": "https://localhost:8080/"
        },
        "id": "mkWW0NtAai-M",
        "outputId": "22fb5c43-ddc4-4022-f36b-1f374b87cc19"
      },
      "execution_count": null,
      "outputs": [
        {
          "output_type": "execute_result",
          "data": {
            "text/plain": [
              "7"
            ]
          },
          "metadata": {},
          "execution_count": 10
        }
      ]
    },
    {
      "cell_type": "code",
      "source": [
        "sum(lst)"
      ],
      "metadata": {
        "colab": {
          "base_uri": "https://localhost:8080/"
        },
        "id": "PARL2siyakdx",
        "outputId": "a135b379-3398-45a3-b80d-bc595cdad4eb"
      },
      "execution_count": null,
      "outputs": [
        {
          "output_type": "execute_result",
          "data": {
            "text/plain": [
              "237"
            ]
          },
          "metadata": {},
          "execution_count": 11
        }
      ]
    },
    {
      "cell_type": "code",
      "source": [
        "sum(lst)/len(lst)\n"
      ],
      "metadata": {
        "colab": {
          "base_uri": "https://localhost:8080/"
        },
        "id": "pnWHi5htanp7",
        "outputId": "8b21d159-130d-4371-8d52-edcc6c5e62a2"
      },
      "execution_count": null,
      "outputs": [
        {
          "output_type": "execute_result",
          "data": {
            "text/plain": [
              "47.4"
            ]
          },
          "metadata": {},
          "execution_count": 14
        }
      ]
    },
    {
      "cell_type": "markdown",
      "source": [
        "## 시퀀스 다루기\n",
        "- Sequence는 순번이 있다.\n",
        "    - 순번을 index 라고 한다.\n",
        "- 파이썬의 인덱스는 두종류가 있다.\n",
        "    - 양수 인덱스\n",
        "        - 0부터 시작한다.\n",
        "        - 왼쪽에서 오른쪽으로 1씩 증가\n",
        "    - 음수 인덱스\n",
        "        - -1 부터 시작한다.\n",
        "        - 오른쪽에서 왼쪽으로 1씩 감소\n",
        "- 인덱스는 무조건 정수!!\n"
      ],
      "metadata": {
        "id": "UwnOYoiDaw--"
      }
    },
    {
      "cell_type": "code",
      "source": [
        "lst = [1,2,3,3,\"four\", None, 7.0, True]\n",
        "lst"
      ],
      "metadata": {
        "colab": {
          "base_uri": "https://localhost:8080/"
        },
        "id": "G5dW6xYWcLV6",
        "outputId": "307318e8-f398-482f-e4de-13b964f08dba"
      },
      "execution_count": null,
      "outputs": [
        {
          "output_type": "execute_result",
          "data": {
            "text/plain": [
              "[1, 2, 3, 3, 'four', None, 7.0, True]"
            ]
          },
          "metadata": {},
          "execution_count": 113
        }
      ]
    },
    {
      "cell_type": "code",
      "source": [
        "lst[0]"
      ],
      "metadata": {
        "colab": {
          "base_uri": "https://localhost:8080/"
        },
        "id": "wX7LWCV8cQlS",
        "outputId": "8d79f616-d19c-4e4a-e68a-4ff209bfacf6"
      },
      "execution_count": null,
      "outputs": [
        {
          "output_type": "execute_result",
          "data": {
            "text/plain": [
              "1"
            ]
          },
          "metadata": {},
          "execution_count": 114
        }
      ]
    },
    {
      "cell_type": "code",
      "source": [
        "lst[4] # 0부터 시작이므로 다섯번째 값 추출"
      ],
      "metadata": {
        "colab": {
          "base_uri": "https://localhost:8080/",
          "height": 35
        },
        "id": "WdeBW8noclL9",
        "outputId": "bc00b476-42df-4049-88b7-0c9ab4f461a5"
      },
      "execution_count": null,
      "outputs": [
        {
          "output_type": "execute_result",
          "data": {
            "text/plain": [
              "'four'"
            ],
            "application/vnd.google.colaboratory.intrinsic+json": {
              "type": "string"
            }
          },
          "metadata": {},
          "execution_count": 115
        }
      ]
    },
    {
      "cell_type": "code",
      "source": [
        "lst[-2]"
      ],
      "metadata": {
        "colab": {
          "base_uri": "https://localhost:8080/"
        },
        "id": "1kuttKuNcqGo",
        "outputId": "76feb366-7b0d-4c91-ae52-120cfe16a286"
      },
      "execution_count": null,
      "outputs": [
        {
          "output_type": "execute_result",
          "data": {
            "text/plain": [
              "7.0"
            ]
          },
          "metadata": {},
          "execution_count": 116
        }
      ]
    },
    {
      "cell_type": "code",
      "source": [
        "lst[-1]"
      ],
      "metadata": {
        "colab": {
          "base_uri": "https://localhost:8080/"
        },
        "id": "XNnVHTkzc0Qx",
        "outputId": "8d6a2d4d-ffda-4afd-a8de-4c6f0539f4e2"
      },
      "execution_count": null,
      "outputs": [
        {
          "output_type": "execute_result",
          "data": {
            "text/plain": [
              "True"
            ]
          },
          "metadata": {},
          "execution_count": 117
        }
      ]
    },
    {
      "cell_type": "markdown",
      "source": [
        "## 슬라이싱(Slicing)\n",
        "- 인덱스를 사용해서 시퀀스를 잘라낸다.\n",
        "- 시퀀스에서 특정 범위를 가리킨다.\n",
        "- `[start:end:step]`\n",
        "    - `start ~ end-1` 부분을 step만큼 건너 뛰면서 잘라낸다."
      ],
      "metadata": {
        "id": "ymouvImcc2cr"
      }
    },
    {
      "cell_type": "code",
      "source": [
        "lst=[\"a\", \"b\",\"c\",\"d\",\"e\",\"f\",\"g\"]\n",
        "lst"
      ],
      "metadata": {
        "colab": {
          "base_uri": "https://localhost:8080/"
        },
        "id": "hzxCIxOEdiBl",
        "outputId": "25457488-4a25-433c-c70e-a91e9d380a36"
      },
      "execution_count": null,
      "outputs": [
        {
          "output_type": "execute_result",
          "data": {
            "text/plain": [
              "['a', 'b', 'c', 'd', 'e', 'f', 'g']"
            ]
          },
          "metadata": {},
          "execution_count": 2
        }
      ]
    },
    {
      "cell_type": "code",
      "source": [
        "lst[0:3]"
      ],
      "metadata": {
        "colab": {
          "base_uri": "https://localhost:8080/"
        },
        "id": "r1DzTDb6drWa",
        "outputId": "a5e3bf5a-2e72-49aa-827c-3d09d17e9ec6"
      },
      "execution_count": null,
      "outputs": [
        {
          "output_type": "execute_result",
          "data": {
            "text/plain": [
              "['a', 'b', 'c']"
            ]
          },
          "metadata": {},
          "execution_count": 22
        }
      ]
    },
    {
      "cell_type": "code",
      "source": [
        "lst[2:4]"
      ],
      "metadata": {
        "colab": {
          "base_uri": "https://localhost:8080/"
        },
        "id": "bFodyIPedznJ",
        "outputId": "2b508df8-1f09-492f-d5f6-7ae969593944"
      },
      "execution_count": null,
      "outputs": [
        {
          "output_type": "execute_result",
          "data": {
            "text/plain": [
              "['c', 'd']"
            ]
          },
          "metadata": {},
          "execution_count": 23
        }
      ]
    },
    {
      "cell_type": "code",
      "source": [
        "lst[-3:-1]"
      ],
      "metadata": {
        "colab": {
          "base_uri": "https://localhost:8080/"
        },
        "id": "Vf0xOeARd8xX",
        "outputId": "6f6c10c0-c1dd-48e0-f46a-3b09156a67c6"
      },
      "execution_count": null,
      "outputs": [
        {
          "output_type": "execute_result",
          "data": {
            "text/plain": [
              "['e', 'f']"
            ]
          },
          "metadata": {},
          "execution_count": 3
        }
      ]
    },
    {
      "cell_type": "markdown",
      "source": [
        "- `start, end, step` 생략이 가능하다.\n",
        "- `start`를 생략하면 자동으로 `0` 이 가능하다.\n",
        "- `end`를 생략하면 자동으로 시퀀스의 길이(len)가 들어간다."
      ],
      "metadata": {
        "id": "31rh0qqueRsn"
      }
    },
    {
      "cell_type": "code",
      "source": [
        "lst[:] #lst[0:len(lst)]"
      ],
      "metadata": {
        "colab": {
          "base_uri": "https://localhost:8080/"
        },
        "id": "Zl56PdbVfPgk",
        "outputId": "ad8703fb-f8ee-48c5-9484-e48d98774817"
      },
      "execution_count": null,
      "outputs": [
        {
          "output_type": "execute_result",
          "data": {
            "text/plain": [
              "['a', 'b', 'c', 'd', 'e', 'f', 'g']"
            ]
          },
          "metadata": {},
          "execution_count": 25
        }
      ]
    },
    {
      "cell_type": "code",
      "source": [
        "lst[]"
      ],
      "metadata": {
        "colab": {
          "base_uri": "https://localhost:8080/",
          "height": 136
        },
        "id": "6nQYY3jHfZGy",
        "outputId": "cd82d98d-edfc-42a1-ca1e-8b29c22f2231"
      },
      "execution_count": null,
      "outputs": [
        {
          "output_type": "error",
          "ename": "SyntaxError",
          "evalue": "ignored",
          "traceback": [
            "\u001b[0;36m  File \u001b[0;32m\"<ipython-input-26-e26c11592379>\"\u001b[0;36m, line \u001b[0;32m1\u001b[0m\n\u001b[0;31m    lst[]\u001b[0m\n\u001b[0m        ^\u001b[0m\n\u001b[0;31mSyntaxError\u001b[0m\u001b[0;31m:\u001b[0m invalid syntax\n"
          ]
        }
      ]
    },
    {
      "cell_type": "code",
      "source": [
        "lst[3:]"
      ],
      "metadata": {
        "colab": {
          "base_uri": "https://localhost:8080/"
        },
        "id": "eQnKmmKdfcXu",
        "outputId": "b7d874f9-7e38-453a-c18a-046151b95f74"
      },
      "execution_count": null,
      "outputs": [
        {
          "output_type": "execute_result",
          "data": {
            "text/plain": [
              "['d', 'e', 'f', 'g']"
            ]
          },
          "metadata": {},
          "execution_count": 27
        }
      ]
    },
    {
      "cell_type": "code",
      "source": [
        "lst[:5]"
      ],
      "metadata": {
        "colab": {
          "base_uri": "https://localhost:8080/"
        },
        "id": "hfVPaYDxfp8D",
        "outputId": "f58697f8-ea89-4892-e8cb-1d92292b143c"
      },
      "execution_count": null,
      "outputs": [
        {
          "output_type": "execute_result",
          "data": {
            "text/plain": [
              "['a', 'b', 'c', 'd', 'e']"
            ]
          },
          "metadata": {},
          "execution_count": 28
        }
      ]
    },
    {
      "cell_type": "code",
      "source": [
        "lst[-5:]"
      ],
      "metadata": {
        "colab": {
          "base_uri": "https://localhost:8080/"
        },
        "id": "RNNS4Rtdfw3M",
        "outputId": "74b45d0d-4776-4a1e-bf8e-53db57b27333"
      },
      "execution_count": null,
      "outputs": [
        {
          "output_type": "execute_result",
          "data": {
            "text/plain": [
              "['c', 'd', 'e', 'f', 'g']"
            ]
          },
          "metadata": {},
          "execution_count": 30
        }
      ]
    },
    {
      "cell_type": "code",
      "source": [
        "lst[:-1]"
      ],
      "metadata": {
        "colab": {
          "base_uri": "https://localhost:8080/"
        },
        "id": "6u_penfQf4xX",
        "outputId": "1d94dd81-2ec9-4210-fd6c-8cb25f31d2b3"
      },
      "execution_count": null,
      "outputs": [
        {
          "output_type": "execute_result",
          "data": {
            "text/plain": [
              "['a', 'b', 'c', 'd', 'e', 'f']"
            ]
          },
          "metadata": {},
          "execution_count": 31
        }
      ]
    },
    {
      "cell_type": "markdown",
      "source": [
        "- step\n",
        "    - 지정한 범위에서 `step` 만큼 건너뛰면서 슬라이싱\n",
        "    - 'step'을 생략하면 기본적으로 1이 주어진다.\n",
        "    "
      ],
      "metadata": {
        "id": "BLjI-v7Qf_zA"
      }
    },
    {
      "cell_type": "code",
      "source": [
        "lst[::]"
      ],
      "metadata": {
        "colab": {
          "base_uri": "https://localhost:8080/"
        },
        "id": "wx263exHkMw5",
        "outputId": "4124106e-2d3f-4a19-de22-593adb170322"
      },
      "execution_count": null,
      "outputs": [
        {
          "output_type": "execute_result",
          "data": {
            "text/plain": [
              "['a', 'b', 'c', 'd', 'e', 'f', 'g']"
            ]
          },
          "metadata": {},
          "execution_count": 32
        }
      ]
    },
    {
      "cell_type": "code",
      "source": [
        "lst[0:len(lst):1] # 위와 같은 의미"
      ],
      "metadata": {
        "colab": {
          "base_uri": "https://localhost:8080/"
        },
        "id": "Kj1AU7sKkTcz",
        "outputId": "d0e0d639-903c-43c2-d9c2-2580582093c6"
      },
      "execution_count": null,
      "outputs": [
        {
          "output_type": "execute_result",
          "data": {
            "text/plain": [
              "['a', 'b', 'c', 'd', 'e', 'f', 'g']"
            ]
          },
          "metadata": {},
          "execution_count": 33
        }
      ]
    },
    {
      "cell_type": "code",
      "source": [
        "lst[0:len(lst):2]"
      ],
      "metadata": {
        "colab": {
          "base_uri": "https://localhost:8080/"
        },
        "id": "CB6CYqDSkb16",
        "outputId": "f2fea5df-e1e8-449c-df00-4945a3963a2f"
      },
      "execution_count": null,
      "outputs": [
        {
          "output_type": "execute_result",
          "data": {
            "text/plain": [
              "['a', 'c', 'e', 'g']"
            ]
          },
          "metadata": {},
          "execution_count": 34
        }
      ]
    },
    {
      "cell_type": "markdown",
      "source": [
        "- `step` 부분을 양수, 음수를 이용해서 방향 설정 가능\n",
        "    - 양수: 정방향(왼쪽에서 오른쪽)\n",
        "    - 음수: 역방향(오른쪽에서 왼쪽)"
      ],
      "metadata": {
        "id": "VCJMKyeCkh33"
      }
    },
    {
      "cell_type": "code",
      "source": [
        "lst[::-2]"
      ],
      "metadata": {
        "colab": {
          "base_uri": "https://localhost:8080/"
        },
        "id": "LsvQTjuHk3K6",
        "outputId": "03f787f4-8d54-49e6-d330-f5f16509791e"
      },
      "execution_count": null,
      "outputs": [
        {
          "output_type": "execute_result",
          "data": {
            "text/plain": [
              "['g', 'e', 'c', 'a']"
            ]
          },
          "metadata": {},
          "execution_count": 35
        }
      ]
    },
    {
      "cell_type": "code",
      "source": [
        "lst[::-1]"
      ],
      "metadata": {
        "colab": {
          "base_uri": "https://localhost:8080/"
        },
        "id": "gmP3qYkwk-1s",
        "outputId": "b0078868-f2e6-4276-cf5d-8011254a3a2c"
      },
      "execution_count": null,
      "outputs": [
        {
          "output_type": "execute_result",
          "data": {
            "text/plain": [
              "['g', 'f', 'e', 'd', 'c', 'b', 'a']"
            ]
          },
          "metadata": {},
          "execution_count": 36
        }
      ]
    },
    {
      "cell_type": "code",
      "source": [
        "lst = [10,20,30,40,50,60,70]\n",
        "lst"
      ],
      "metadata": {
        "colab": {
          "base_uri": "https://localhost:8080/"
        },
        "id": "kfH9UTN0lMRK",
        "outputId": "d602ff51-0992-4e3f-aaa2-a9e750a87237"
      },
      "execution_count": null,
      "outputs": [
        {
          "output_type": "execute_result",
          "data": {
            "text/plain": [
              "[10, 20, 30, 40, 50, 60, 70]"
            ]
          },
          "metadata": {},
          "execution_count": 40
        }
      ]
    },
    {
      "cell_type": "code",
      "source": [
        "lst[3:4:1]"
      ],
      "metadata": {
        "colab": {
          "base_uri": "https://localhost:8080/"
        },
        "id": "-dq9QMWTlaQ6",
        "outputId": "c06f4513-7076-4dd6-8b6b-151c2a3d501e"
      },
      "execution_count": null,
      "outputs": [
        {
          "output_type": "execute_result",
          "data": {
            "text/plain": [
              "[40]"
            ]
          },
          "metadata": {},
          "execution_count": 41
        }
      ]
    },
    {
      "cell_type": "code",
      "source": [
        "lst[-1:-5:-1]"
      ],
      "metadata": {
        "colab": {
          "base_uri": "https://localhost:8080/"
        },
        "id": "eq0onn3ZlmG2",
        "outputId": "da3d4209-322a-41df-ee1f-65664fc4006e"
      },
      "execution_count": null,
      "outputs": [
        {
          "output_type": "execute_result",
          "data": {
            "text/plain": [
              "[70, 60, 50, 40]"
            ]
          },
          "metadata": {},
          "execution_count": 43
        }
      ]
    },
    {
      "cell_type": "code",
      "source": [
        "lst[-2:-6:-1]"
      ],
      "metadata": {
        "colab": {
          "base_uri": "https://localhost:8080/"
        },
        "id": "J1w0KQujl8qG",
        "outputId": "85d57866-ad10-411b-9d4a-7dcb6f84c4ea"
      },
      "execution_count": null,
      "outputs": [
        {
          "output_type": "execute_result",
          "data": {
            "text/plain": [
              "[60, 50, 40, 30]"
            ]
          },
          "metadata": {},
          "execution_count": 45
        }
      ]
    },
    {
      "cell_type": "code",
      "source": [
        "lst[5:1:-1]"
      ],
      "metadata": {
        "colab": {
          "base_uri": "https://localhost:8080/"
        },
        "id": "EznTds3kmM1s",
        "outputId": "42036b8f-b83a-4b5f-facf-0559a26aeb0a"
      },
      "execution_count": null,
      "outputs": [
        {
          "output_type": "execute_result",
          "data": {
            "text/plain": [
              "[60, 50, 40, 30]"
            ]
          },
          "metadata": {},
          "execution_count": 56
        }
      ]
    },
    {
      "cell_type": "code",
      "source": [
        "num_list = [2,3,4,5,6,7,8,9,10,11,12,13,14,15]\n",
        "num_list"
      ],
      "metadata": {
        "colab": {
          "base_uri": "https://localhost:8080/"
        },
        "id": "tlSYsQBnnUkc",
        "outputId": "add155ad-1943-4d08-b4af-aab9fb8b3900"
      },
      "execution_count": null,
      "outputs": [
        {
          "output_type": "execute_result",
          "data": {
            "text/plain": [
              "[2, 3, 4, 5, 6, 7, 8, 9, 10, 11, 12, 13, 14, 15]"
            ]
          },
          "metadata": {},
          "execution_count": 58
        }
      ]
    },
    {
      "cell_type": "code",
      "source": [
        "num_list[1:-6:3] # 10보다 작은 3의 배수만 오름차순으로 슬라이싱 하시오."
      ],
      "metadata": {
        "colab": {
          "base_uri": "https://localhost:8080/"
        },
        "id": "2br58-Vvm-z2",
        "outputId": "307d8f23-e4b0-4b76-9093-60de8794323c"
      },
      "execution_count": null,
      "outputs": [
        {
          "output_type": "execute_result",
          "data": {
            "text/plain": [
              "[3, 6, 9]"
            ]
          },
          "metadata": {},
          "execution_count": 59
        }
      ]
    },
    {
      "cell_type": "markdown",
      "source": [
        "## 리스트는 변경가능하다.\n"
      ],
      "metadata": {
        "id": "1AeL2irUokb1"
      }
    },
    {
      "cell_type": "code",
      "source": [
        "lst = [1,2,3,4,5,6,7,8,9,10]\n",
        "lst[1] = 10000\n",
        "lst"
      ],
      "metadata": {
        "colab": {
          "base_uri": "https://localhost:8080/"
        },
        "id": "y5PdtoJEpBYc",
        "outputId": "9bd92d54-9aeb-4144-f741-3c8687c75b5b"
      },
      "execution_count": null,
      "outputs": [
        {
          "output_type": "execute_result",
          "data": {
            "text/plain": [
              "[1, 10000, 3, 4, 5, 6, 7, 8, 9, 10]"
            ]
          },
          "metadata": {},
          "execution_count": 60
        }
      ]
    },
    {
      "cell_type": "code",
      "source": [
        "lst[:1] = 3 # 슬라이싱 해서 리스트가 반환 됐기 때문에 단일값 대입시 에러가 난다."
      ],
      "metadata": {
        "colab": {
          "base_uri": "https://localhost:8080/",
          "height": 190
        },
        "id": "9spoWsQ6pKaW",
        "outputId": "7c4b2620-3cdc-487a-d380-6c9ed4f9b3d1"
      },
      "execution_count": null,
      "outputs": [
        {
          "output_type": "error",
          "ename": "TypeError",
          "evalue": "ignored",
          "traceback": [
            "\u001b[0;31m---------------------------------------------------------------------------\u001b[0m",
            "\u001b[0;31mTypeError\u001b[0m                                 Traceback (most recent call last)",
            "\u001b[0;32m<ipython-input-62-b561a77f4450>\u001b[0m in \u001b[0;36m<module>\u001b[0;34m()\u001b[0m\n\u001b[0;32m----> 1\u001b[0;31m \u001b[0mlst\u001b[0m\u001b[0;34m[\u001b[0m\u001b[0;34m:\u001b[0m\u001b[0;36m1\u001b[0m\u001b[0;34m]\u001b[0m \u001b[0;34m=\u001b[0m \u001b[0;36m3\u001b[0m \u001b[0;31m# 슬라이싱 해서 리스트가 반환 됐기 때문에 단일값 대입시 에러가 난다.\u001b[0m\u001b[0;34m\u001b[0m\u001b[0;34m\u001b[0m\u001b[0m\n\u001b[0m",
            "\u001b[0;31mTypeError\u001b[0m: can only assign an iterable"
          ]
        }
      ]
    },
    {
      "cell_type": "markdown",
      "source": [
        "# 길이가 달라도 리스트에 리스트를 담는것은 가능하다."
      ],
      "metadata": {
        "id": "6PPdGqAesYiY"
      }
    },
    {
      "cell_type": "code",
      "source": [
        "lst[1:] = [3] # 길이가 달라도 리스트에 리스트를 담는것은 가능하다."
      ],
      "metadata": {
        "id": "dBLeDkj5ptgv"
      },
      "execution_count": null,
      "outputs": []
    },
    {
      "cell_type": "code",
      "source": [
        "lst[1:] = [1001, 1002, 1003, 1004 ]\n",
        "lst"
      ],
      "metadata": {
        "colab": {
          "base_uri": "https://localhost:8080/"
        },
        "id": "OyZchHK0pR1c",
        "outputId": "28c14f04-fca6-497b-e892-bd71dcf9abcb"
      },
      "execution_count": null,
      "outputs": [
        {
          "output_type": "execute_result",
          "data": {
            "text/plain": [
              "[1, 1001, 1002, 1003, 1004]"
            ]
          },
          "metadata": {},
          "execution_count": 14
        }
      ]
    },
    {
      "cell_type": "code",
      "source": [
        "lst = [1,2,3,4,5,6,7,8,9,10]\n",
        "lst"
      ],
      "metadata": {
        "colab": {
          "base_uri": "https://localhost:8080/"
        },
        "id": "nUC64HhaqGtV",
        "outputId": "6b40c54d-bb3c-4ee0-efdc-41cafc1f5816"
      },
      "execution_count": null,
      "outputs": [
        {
          "output_type": "execute_result",
          "data": {
            "text/plain": [
              "[1, 2, 3, 4, 5, 6, 7, 8, 9, 10]"
            ]
          },
          "metadata": {},
          "execution_count": 15
        }
      ]
    },
    {
      "cell_type": "markdown",
      "source": [
        "# step을 2이상 넣어 연속적인 공간이 아닌 리스트가 슬라이싱 되면 수정이 안된다.\n"
      ],
      "metadata": {
        "id": "rfmwcxnPqSYK"
      }
    },
    {
      "cell_type": "code",
      "source": [
        "lst[1::2] = [0]"
      ],
      "metadata": {
        "id": "MlO4wqiKqMpv",
        "colab": {
          "base_uri": "https://localhost:8080/",
          "height": 174
        },
        "outputId": "34c91fbb-60a8-45d8-97ec-159acaac8754"
      },
      "execution_count": null,
      "outputs": [
        {
          "output_type": "error",
          "ename": "ValueError",
          "evalue": "ignored",
          "traceback": [
            "\u001b[0;31m---------------------------------------------------------------------------\u001b[0m",
            "\u001b[0;31mValueError\u001b[0m                                Traceback (most recent call last)",
            "\u001b[0;32m<ipython-input-16-4f5f0a3a0fdc>\u001b[0m in \u001b[0;36m<module>\u001b[0;34m()\u001b[0m\n\u001b[0;32m----> 1\u001b[0;31m \u001b[0mlst\u001b[0m\u001b[0;34m[\u001b[0m\u001b[0;36m1\u001b[0m\u001b[0;34m:\u001b[0m\u001b[0;34m:\u001b[0m\u001b[0;36m2\u001b[0m\u001b[0;34m]\u001b[0m \u001b[0;34m=\u001b[0m \u001b[0;34m[\u001b[0m\u001b[0;36m0\u001b[0m\u001b[0;34m]\u001b[0m\u001b[0;34m\u001b[0m\u001b[0;34m\u001b[0m\u001b[0m\n\u001b[0m",
            "\u001b[0;31mValueError\u001b[0m: attempt to assign sequence of size 1 to extended slice of size 5"
          ]
        }
      ]
    },
    {
      "cell_type": "markdown",
      "source": [
        "## `list` 의 메소드\n"
      ],
      "metadata": {
        "id": "0jFmhesaqo7f"
      }
    },
    {
      "cell_type": "markdown",
      "source": [
        "- `append()`\n",
        "    - 리스트의 제일 뒤에 값을 추가"
      ],
      "metadata": {
        "id": "1F_wa7Dhqv-C"
      }
    },
    {
      "cell_type": "code",
      "source": [
        "lst = [1, 2, 3, 4]\n",
        "lst.append(0)\n",
        "lst"
      ],
      "metadata": {
        "colab": {
          "base_uri": "https://localhost:8080/"
        },
        "id": "II9YRIvaq1oy",
        "outputId": "ed6c0968-4efc-4ad1-f878-ecc67961e8ad"
      },
      "execution_count": null,
      "outputs": [
        {
          "output_type": "execute_result",
          "data": {
            "text/plain": [
              "[1, 2, 3, 4, 0]"
            ]
          },
          "metadata": {},
          "execution_count": 101
        }
      ]
    },
    {
      "cell_type": "code",
      "source": [
        "sorted(lst) #함수"
      ],
      "metadata": {
        "colab": {
          "base_uri": "https://localhost:8080/"
        },
        "id": "9trbWEZqrPlA",
        "outputId": "d6860aa5-4e67-4845-91bf-d52495630c82"
      },
      "execution_count": null,
      "outputs": [
        {
          "output_type": "execute_result",
          "data": {
            "text/plain": [
              "[0, 1, 2, 3, 4]"
            ]
          },
          "metadata": {},
          "execution_count": 102
        }
      ]
    },
    {
      "cell_type": "code",
      "source": [
        "lst.sort() #메소드\n",
        "lst"
      ],
      "metadata": {
        "colab": {
          "base_uri": "https://localhost:8080/"
        },
        "id": "SHvlQf68rIDP",
        "outputId": "938a48c1-f819-4051-ea36-8ff34385e4d8"
      },
      "execution_count": null,
      "outputs": [
        {
          "output_type": "execute_result",
          "data": {
            "text/plain": [
              "[0, 1, 2, 3, 4]"
            ]
          },
          "metadata": {},
          "execution_count": 103
        }
      ]
    },
    {
      "cell_type": "markdown",
      "source": [
        "- pop()\n",
        "    - 제일 뒤에 있는 데이터를 꺼내고 삭제\n",
        "    - 인덱스 값을 줄 경우 해당 인덱스 값을 꺼내고 삭제 "
      ],
      "metadata": {
        "id": "broXVqyArKlp"
      }
    },
    {
      "cell_type": "code",
      "source": [
        "lst"
      ],
      "metadata": {
        "colab": {
          "base_uri": "https://localhost:8080/"
        },
        "id": "FNP3t8zOswBm",
        "outputId": "0fef8fd3-8353-4d52-bd18-a12d626bfeec"
      },
      "execution_count": null,
      "outputs": [
        {
          "output_type": "execute_result",
          "data": {
            "text/plain": [
              "[0, 1, 2, 3, 4]"
            ]
          },
          "metadata": {},
          "execution_count": 104
        }
      ]
    },
    {
      "cell_type": "code",
      "source": [
        "print(lst.pop())\n",
        "print(lst)\n",
        "\n",
        "print(lst.pop())\n",
        "print(lst)"
      ],
      "metadata": {
        "colab": {
          "base_uri": "https://localhost:8080/"
        },
        "id": "RCuHSHTrs02z",
        "outputId": "5b139117-3495-4908-99a7-5989a7b09d46"
      },
      "execution_count": null,
      "outputs": [
        {
          "output_type": "stream",
          "name": "stdout",
          "text": [
            "4\n",
            "[0, 1, 2, 3]\n",
            "3\n",
            "[0, 1, 2]\n"
          ]
        }
      ]
    },
    {
      "cell_type": "code",
      "source": [
        "lst.pop(1)\n",
        "lst"
      ],
      "metadata": {
        "colab": {
          "base_uri": "https://localhost:8080/"
        },
        "id": "h3UJYzAstRFk",
        "outputId": "ba03fe2c-378a-4bd6-bc95-de35375881cd"
      },
      "execution_count": null,
      "outputs": [
        {
          "output_type": "execute_result",
          "data": {
            "text/plain": [
              "[0, 2]"
            ]
          },
          "metadata": {},
          "execution_count": 106
        }
      ]
    },
    {
      "cell_type": "markdown",
      "source": [
        "- `extend()`\n",
        "    - 리스트와 리스트를 합친다"
      ],
      "metadata": {
        "id": "KsbJi7f7tUlD"
      }
    },
    {
      "cell_type": "code",
      "source": [
        "lst = [1,2,3]\n",
        "lst.extend([4,5,6])\n",
        "lst"
      ],
      "metadata": {
        "colab": {
          "base_uri": "https://localhost:8080/"
        },
        "id": "wHrNkOwItfJt",
        "outputId": "87ba1f0c-72c6-45f9-c35b-75e756dc63c3"
      },
      "execution_count": null,
      "outputs": [
        {
          "output_type": "execute_result",
          "data": {
            "text/plain": [
              "[1, 2, 3, 4, 5, 6]"
            ]
          },
          "metadata": {},
          "execution_count": 107
        }
      ]
    },
    {
      "cell_type": "code",
      "source": [
        "lst = [1,2,3]\n",
        "lst.append([4,5,6])\n",
        "lst"
      ],
      "metadata": {
        "colab": {
          "base_uri": "https://localhost:8080/"
        },
        "id": "aXemP75xtnso",
        "outputId": "471b8c8b-1f69-44f0-806e-be8306f1a525"
      },
      "execution_count": null,
      "outputs": [
        {
          "output_type": "execute_result",
          "data": {
            "text/plain": [
              "[1, 2, 3, [4, 5, 6]]"
            ]
          },
          "metadata": {},
          "execution_count": 108
        }
      ]
    },
    {
      "cell_type": "markdown",
      "source": [
        "- insert()\n",
        "    - 인덱스 위치에 값을 추가한다.\n",
        "    "
      ],
      "metadata": {
        "id": "fGv8BgyQtwwg"
      }
    },
    {
      "cell_type": "code",
      "source": [
        "lst = [1,2,3]\n",
        "lst.insert(0,9)\n",
        "lst"
      ],
      "metadata": {
        "colab": {
          "base_uri": "https://localhost:8080/"
        },
        "id": "0Na_rTAlt-l9",
        "outputId": "2aa136ce-ad0a-43ae-b307-61a36459c2b2"
      },
      "execution_count": null,
      "outputs": [
        {
          "output_type": "execute_result",
          "data": {
            "text/plain": [
              "[9, 1, 2, 3]"
            ]
          },
          "metadata": {},
          "execution_count": 109
        }
      ]
    },
    {
      "cell_type": "markdown",
      "source": [
        "- remove()\n",
        "    - 리스트에서 값을 찾아 삭제한다."
      ],
      "metadata": {
        "id": "AgdBspXeuMMF"
      }
    },
    {
      "cell_type": "code",
      "source": [
        "lst = [10,20,30]\n",
        "lst.remove(20)\n",
        "lst\n"
      ],
      "metadata": {
        "colab": {
          "base_uri": "https://localhost:8080/"
        },
        "id": "hM6wZMVsuay5",
        "outputId": "70955998-fd73-4c25-85ed-37d6cf4cf16d"
      },
      "execution_count": null,
      "outputs": [
        {
          "output_type": "execute_result",
          "data": {
            "text/plain": [
              "[10, 30]"
            ]
          },
          "metadata": {},
          "execution_count": 110
        }
      ]
    },
    {
      "cell_type": "markdown",
      "source": [
        "- `del` \n",
        " - del 키워드를 사용하면 된다.\n",
        " - 리스트에 경우 특정 인덱스 값을 삭제\n"
      ],
      "metadata": {
        "id": "Z1wpNC86ugAw"
      }
    },
    {
      "cell_type": "code",
      "source": [
        "lst = [10,20,30]\n",
        "del lst [1]\n",
        "lst"
      ],
      "metadata": {
        "colab": {
          "base_uri": "https://localhost:8080/"
        },
        "id": "WmbnxkLyu1iJ",
        "outputId": "52d6476f-37c7-4694-a83d-ec371d0d2f68"
      },
      "execution_count": null,
      "outputs": [
        {
          "output_type": "execute_result",
          "data": {
            "text/plain": [
              "[10, 30]"
            ]
          },
          "metadata": {},
          "execution_count": 17
        }
      ]
    },
    {
      "cell_type": "code",
      "source": [
        "a = 1004\n",
        "del a\n",
        "a"
      ],
      "metadata": {
        "colab": {
          "base_uri": "https://localhost:8080/",
          "height": 209
        },
        "id": "QI1UZnjfvAMC",
        "outputId": "f20f0aa3-947f-4464-c6c9-3d4730334e56"
      },
      "execution_count": null,
      "outputs": [
        {
          "output_type": "error",
          "ename": "NameError",
          "evalue": "ignored",
          "traceback": [
            "\u001b[0;31m---------------------------------------------------------------------------\u001b[0m",
            "\u001b[0;31mNameError\u001b[0m                                 Traceback (most recent call last)",
            "\u001b[0;32m<ipython-input-112-922dae9cc0b7>\u001b[0m in \u001b[0;36m<module>\u001b[0;34m()\u001b[0m\n\u001b[1;32m      1\u001b[0m \u001b[0ma\u001b[0m \u001b[0;34m=\u001b[0m \u001b[0;36m1004\u001b[0m\u001b[0;34m\u001b[0m\u001b[0;34m\u001b[0m\u001b[0m\n\u001b[1;32m      2\u001b[0m \u001b[0;32mdel\u001b[0m \u001b[0ma\u001b[0m\u001b[0;34m\u001b[0m\u001b[0;34m\u001b[0m\u001b[0m\n\u001b[0;32m----> 3\u001b[0;31m \u001b[0ma\u001b[0m\u001b[0;34m\u001b[0m\u001b[0;34m\u001b[0m\u001b[0m\n\u001b[0m",
            "\u001b[0;31mNameError\u001b[0m: name 'a' is not defined"
          ]
        }
      ]
    },
    {
      "cell_type": "code",
      "source": [
        "#다음의 리스트에서 앞에서 부터 하나씩 꺼내 값을 출력하면서 모든 값을 꺼내시오. pop메소드\n",
        "lst = [1,2,3,4]\n",
        "print(lst.pop(0))\n",
        "print(lst)\n",
        "\n",
        "print(lst.pop(0))\n",
        "print(lst)\n",
        "\n",
        "print(lst.pop(0))\n",
        "print(lst)\n",
        "\n",
        "print(lst.pop(0))\n",
        "print(lst)"
      ],
      "metadata": {
        "colab": {
          "base_uri": "https://localhost:8080/"
        },
        "id": "d3LIJE2bvIwA",
        "outputId": "fbf1f6ff-f0af-4974-f26a-e2cfa269b7f3"
      },
      "execution_count": null,
      "outputs": [
        {
          "output_type": "stream",
          "name": "stdout",
          "text": [
            "1\n",
            "[2, 3, 4]\n",
            "2\n",
            "[3, 4]\n",
            "3\n",
            "[4]\n",
            "4\n",
            "[]\n"
          ]
        }
      ]
    },
    {
      "cell_type": "code",
      "source": [
        "#다음의 리스트에서 2의 배수만 내림차순으로 슬라이싱 하시오.\n",
        "num_list = [2,3,4,5,6,7,8,9,10,11,12,13,14,15]\n",
        "num_list [-2::-2]"
      ],
      "metadata": {
        "colab": {
          "base_uri": "https://localhost:8080/"
        },
        "id": "phYcT69mzZ3f",
        "outputId": "38572aff-2d44-4af7-a57d-a042011b9acf"
      },
      "execution_count": null,
      "outputs": [
        {
          "output_type": "execute_result",
          "data": {
            "text/plain": [
              "[14, 12, 10, 8, 6, 4, 2]"
            ]
          },
          "metadata": {},
          "execution_count": 135
        }
      ]
    },
    {
      "cell_type": "code",
      "source": [
        "#다음의 리스트에서 sort 메소드와 인덱싱만을 이용하여 최대값과 최소값을 구하시오.\n",
        "num_list = [6,7,8,9,11,12,13,14,15,2,3,4,5]\n",
        "num_list.sort()\n",
        "num_list\n",
        "num_list[-1::-12]"
      ],
      "metadata": {
        "colab": {
          "base_uri": "https://localhost:8080/"
        },
        "id": "kdsPgBrqzmSd",
        "outputId": "40bad26d-adee-4d18-b464-a3cb68a35e6b"
      },
      "execution_count": null,
      "outputs": [
        {
          "output_type": "execute_result",
          "data": {
            "text/plain": [
              "[15, 2]"
            ]
          },
          "metadata": {},
          "execution_count": 162
        }
      ]
    },
    {
      "cell_type": "markdown",
      "source": [
        "## 연산자를 이용한 리스트를 조작해보자"
      ],
      "metadata": {
        "id": "GNEDhtPK1D6w"
      }
    },
    {
      "cell_type": "code",
      "source": [
        "list1 = [1, 2, 3]\n",
        "list2 = [4, 5, 6]"
      ],
      "metadata": {
        "id": "Ol2DGvnQS-Yi"
      },
      "execution_count": null,
      "outputs": []
    },
    {
      "cell_type": "code",
      "source": [
        "list1 + list2 #extend보다 빠름"
      ],
      "metadata": {
        "colab": {
          "base_uri": "https://localhost:8080/"
        },
        "id": "lCWPrMADTDgE",
        "outputId": "8db41a3d-02e4-41c4-c255-27ac3ec31189"
      },
      "execution_count": null,
      "outputs": [
        {
          "output_type": "execute_result",
          "data": {
            "text/plain": [
              "[1, 2, 3, 4, 5, 6]"
            ]
          },
          "metadata": {},
          "execution_count": 2
        }
      ]
    },
    {
      "cell_type": "code",
      "source": [
        "list1 + [2] #append보다 느림"
      ],
      "metadata": {
        "colab": {
          "base_uri": "https://localhost:8080/"
        },
        "id": "Oe1bVkR0TKA3",
        "outputId": "d2eee993-2449-4d88-b9eb-6c49f8ab4b4b"
      },
      "execution_count": null,
      "outputs": [
        {
          "output_type": "execute_result",
          "data": {
            "text/plain": [
              "[1, 2, 3, 2]"
            ]
          },
          "metadata": {},
          "execution_count": 3
        }
      ]
    },
    {
      "cell_type": "markdown",
      "source": [
        "하나의 요소를 추가할때는 `append` 메소드가 더 빠르고 리스트 끼리 합칠때는 `+`(더하기 기호)가 조금 더빠르다."
      ],
      "metadata": {
        "id": "Y-5gSNWbTR1Z"
      }
    },
    {
      "cell_type": "code",
      "source": [
        "list1 * 3"
      ],
      "metadata": {
        "colab": {
          "base_uri": "https://localhost:8080/"
        },
        "id": "n7fn5-r_Tn_G",
        "outputId": "8b0d23a6-75fc-459d-c050-d85e542adbfe"
      },
      "execution_count": null,
      "outputs": [
        {
          "output_type": "execute_result",
          "data": {
            "text/plain": [
              "[1, 2, 3, 1, 2, 3, 1, 2, 3]"
            ]
          },
          "metadata": {},
          "execution_count": 4
        }
      ]
    },
    {
      "cell_type": "code",
      "source": [
        "list1 #원본 데이터의 수정 x"
      ],
      "metadata": {
        "colab": {
          "base_uri": "https://localhost:8080/"
        },
        "id": "Jrv3UJK8TrPP",
        "outputId": "01ded970-44f0-4427-97ff-b8ed304d2797"
      },
      "execution_count": null,
      "outputs": [
        {
          "output_type": "execute_result",
          "data": {
            "text/plain": [
              "[1, 2, 3]"
            ]
          },
          "metadata": {},
          "execution_count": 5
        }
      ]
    },
    {
      "cell_type": "code",
      "source": [
        "2 in list1 "
      ],
      "metadata": {
        "colab": {
          "base_uri": "https://localhost:8080/"
        },
        "id": "DbmOTMeGT1FK",
        "outputId": "f084273b-e8d9-48f5-f656-a90166e32c26"
      },
      "execution_count": null,
      "outputs": [
        {
          "output_type": "execute_result",
          "data": {
            "text/plain": [
              "True"
            ]
          },
          "metadata": {},
          "execution_count": 6
        }
      ]
    },
    {
      "cell_type": "code",
      "source": [
        "1004 not in list1"
      ],
      "metadata": {
        "colab": {
          "base_uri": "https://localhost:8080/"
        },
        "id": "fZC6PiFsT7fw",
        "outputId": "1343e1c6-8700-4da0-8aa3-467cde9590b1"
      },
      "execution_count": null,
      "outputs": [
        {
          "output_type": "execute_result",
          "data": {
            "text/plain": [
              "True"
            ]
          },
          "metadata": {},
          "execution_count": 7
        }
      ]
    },
    {
      "cell_type": "code",
      "source": [
        "list1 == [1, 2, 3] # 각 인덱스 위체에 맞는 요소의 값을 검사한다."
      ],
      "metadata": {
        "colab": {
          "base_uri": "https://localhost:8080/"
        },
        "id": "M1zQZmzgT-b4",
        "outputId": "905f1efa-321b-4171-9431-8d146a930f11"
      },
      "execution_count": null,
      "outputs": [
        {
          "output_type": "execute_result",
          "data": {
            "text/plain": [
              "True"
            ]
          },
          "metadata": {},
          "execution_count": 9
        }
      ]
    },
    {
      "cell_type": "code",
      "source": [
        "list1 != [1, 2, 3]"
      ],
      "metadata": {
        "colab": {
          "base_uri": "https://localhost:8080/"
        },
        "id": "Yey4uORrUJrW",
        "outputId": "3f8523c9-c5f4-4fd9-98c7-6a783a98af4d"
      },
      "execution_count": null,
      "outputs": [
        {
          "output_type": "execute_result",
          "data": {
            "text/plain": [
              "False"
            ]
          },
          "metadata": {},
          "execution_count": 11
        }
      ]
    },
    {
      "cell_type": "markdown",
      "source": [
        "## is 연산자와 is not 연산자\n",
        "- 같은 객체인지 아닌지 검사한다."
      ],
      "metadata": {
        "id": "NaX_XNc5UXni"
      }
    },
    {
      "cell_type": "code",
      "source": [
        "lst = [1, 2, 3]\n",
        "\n",
        "lst is [1, 2, 3]  #is 는 주소만 검사"
      ],
      "metadata": {
        "colab": {
          "base_uri": "https://localhost:8080/"
        },
        "id": "a6g0m3XvUs8b",
        "outputId": "7795ff7f-50fc-41ac-d0f6-25ac50c79191"
      },
      "execution_count": null,
      "outputs": [
        {
          "output_type": "execute_result",
          "data": {
            "text/plain": [
              "False"
            ]
          },
          "metadata": {},
          "execution_count": 13
        }
      ]
    },
    {
      "cell_type": "code",
      "source": [
        "tmp = lst"
      ],
      "metadata": {
        "id": "ZcSGrTBtUu6T"
      },
      "execution_count": null,
      "outputs": []
    },
    {
      "cell_type": "code",
      "source": [
        "tmp is lst"
      ],
      "metadata": {
        "colab": {
          "base_uri": "https://localhost:8080/"
        },
        "id": "XKRUJBW5U-8A",
        "outputId": "51ebf86b-5397-4bf4-ad56-10e3f43851cf"
      },
      "execution_count": null,
      "outputs": [
        {
          "output_type": "execute_result",
          "data": {
            "text/plain": [
              "True"
            ]
          },
          "metadata": {},
          "execution_count": 15
        }
      ]
    },
    {
      "cell_type": "code",
      "source": [
        "tmp is not lst"
      ],
      "metadata": {
        "colab": {
          "base_uri": "https://localhost:8080/"
        },
        "id": "iGdA5s8hVC_3",
        "outputId": "a2a38973-3822-4f15-807e-619ec8bd2d24"
      },
      "execution_count": null,
      "outputs": [
        {
          "output_type": "execute_result",
          "data": {
            "text/plain": [
              "False"
            ]
          },
          "metadata": {},
          "execution_count": 16
        }
      ]
    },
    {
      "cell_type": "markdown",
      "source": [
        "어떠한 연산결과로 나온 변수의 값을 `True` 인지 False인지와 None 값을 체크할때 주로 `is` 와 `is not` 연산자를 사용한다."
      ],
      "metadata": {
        "id": "M9Ir2LYQVKhy"
      }
    },
    {
      "cell_type": "code",
      "source": [
        "is_num = True\n",
        "is_num is True"
      ],
      "metadata": {
        "colab": {
          "base_uri": "https://localhost:8080/"
        },
        "id": "HRIjF0VbVzSH",
        "outputId": "ddd9f46e-55ac-4f4a-fcac-e355478d4db2"
      },
      "execution_count": null,
      "outputs": [
        {
          "output_type": "execute_result",
          "data": {
            "text/plain": [
              "True"
            ]
          },
          "metadata": {},
          "execution_count": 17
        }
      ]
    },
    {
      "cell_type": "code",
      "source": [
        "data_list = None\n",
        "data_list is not None"
      ],
      "metadata": {
        "colab": {
          "base_uri": "https://localhost:8080/"
        },
        "id": "PfzjfiMAV5BH",
        "outputId": "9c7e2e25-e804-4020-f950-66b142e0ee4d"
      },
      "execution_count": null,
      "outputs": [
        {
          "output_type": "execute_result",
          "data": {
            "text/plain": [
              "False"
            ]
          },
          "metadata": {},
          "execution_count": 18
        }
      ]
    },
    {
      "cell_type": "code",
      "source": [
        "a =1 \n",
        "b =1\n",
        "id(a) , id(b)"
      ],
      "metadata": {
        "colab": {
          "base_uri": "https://localhost:8080/"
        },
        "id": "CykWwRXfWASq",
        "outputId": "1d2c0f7a-915d-40ec-d505-31a28d37bbd9"
      },
      "execution_count": null,
      "outputs": [
        {
          "output_type": "execute_result",
          "data": {
            "text/plain": [
              "(11256064, 11256064)"
            ]
          },
          "metadata": {},
          "execution_count": 19
        }
      ]
    },
    {
      "cell_type": "markdown",
      "source": [
        "# tuple\n",
        "- Sequence 자료형\n",
        "- Immutable 자료형\n",
        "- 중복데이터 저장이 가능\n",
        "- `()` 를 활용해서 만들수 있다. (소괄호 생략가능)"
      ],
      "metadata": {
        "id": "ovbiGZoZWc-X"
      }
    },
    {
      "cell_type": "code",
      "source": [
        "tuples = ()\n",
        "tuples"
      ],
      "metadata": {
        "colab": {
          "base_uri": "https://localhost:8080/"
        },
        "id": "1Y5Mp9Dhda2y",
        "outputId": "627ca975-c243-4932-cc9d-1251508e181e"
      },
      "execution_count": null,
      "outputs": [
        {
          "output_type": "execute_result",
          "data": {
            "text/plain": [
              "()"
            ]
          },
          "metadata": {},
          "execution_count": 20
        }
      ]
    },
    {
      "cell_type": "code",
      "source": [
        "tuples = \"h\" , \"e\" ,\"l\", \"l\", \"o\"\n",
        "tuples"
      ],
      "metadata": {
        "colab": {
          "base_uri": "https://localhost:8080/"
        },
        "id": "ICFfxtT3d65m",
        "outputId": "fd402dc0-0bb9-4da3-8588-3016698cb34a"
      },
      "execution_count": null,
      "outputs": [
        {
          "output_type": "execute_result",
          "data": {
            "text/plain": [
              "('h', 'e', 'l', 'l', 'o')"
            ]
          },
          "metadata": {},
          "execution_count": 22
        }
      ]
    },
    {
      "cell_type": "code",
      "source": [
        "a = 1\n",
        "b = 2\n",
        "a,b "
      ],
      "metadata": {
        "colab": {
          "base_uri": "https://localhost:8080/"
        },
        "id": "S2CYgRxKeK_B",
        "outputId": "1163d607-85b4-48c3-9d08-f7184807579e"
      },
      "execution_count": null,
      "outputs": [
        {
          "output_type": "execute_result",
          "data": {
            "text/plain": [
              "(1, 2)"
            ]
          },
          "metadata": {},
          "execution_count": 23
        }
      ]
    },
    {
      "cell_type": "code",
      "source": [
        "type(tuples)"
      ],
      "metadata": {
        "colab": {
          "base_uri": "https://localhost:8080/"
        },
        "id": "sLUSlL6ZeVRj",
        "outputId": "57d8ecb0-1eb9-4c5e-cf79-e8e180685b62"
      },
      "execution_count": null,
      "outputs": [
        {
          "output_type": "execute_result",
          "data": {
            "text/plain": [
              "tuple"
            ]
          },
          "metadata": {},
          "execution_count": 24
        }
      ]
    },
    {
      "cell_type": "markdown",
      "source": [
        "- 프로그램에서 실행되는 동안 튜플은 안에있는 요소들이 변경이 일어나면 안되는 경우 사용\n",
        "- 리스트보다 메모리를 적게 차지하고, 속도가 더 빠르다!"
      ],
      "metadata": {
        "id": "QkHwTAXXebFl"
      }
    },
    {
      "cell_type": "code",
      "source": [
        "tuples[::-1]"
      ],
      "metadata": {
        "colab": {
          "base_uri": "https://localhost:8080/"
        },
        "id": "gHKHQCp_euR4",
        "outputId": "ceb7eabd-0f87-45f1-ec3d-be5932e66e5e"
      },
      "execution_count": null,
      "outputs": [
        {
          "output_type": "execute_result",
          "data": {
            "text/plain": [
              "('o', 'l', 'l', 'e', 'h')"
            ]
          },
          "metadata": {},
          "execution_count": 25
        }
      ]
    },
    {
      "cell_type": "code",
      "source": [
        "tuples[0] = \"j\""
      ],
      "metadata": {
        "colab": {
          "base_uri": "https://localhost:8080/",
          "height": 172
        },
        "id": "RgP__IVjeyjT",
        "outputId": "8fa0aaaa-0f80-43d7-ffab-7ca69fca0e55"
      },
      "execution_count": null,
      "outputs": [
        {
          "output_type": "error",
          "ename": "TypeError",
          "evalue": "ignored",
          "traceback": [
            "\u001b[0;31m---------------------------------------------------------------------------\u001b[0m",
            "\u001b[0;31mTypeError\u001b[0m                                 Traceback (most recent call last)",
            "\u001b[0;32m<ipython-input-28-b2eb1a7df413>\u001b[0m in \u001b[0;36m<module>\u001b[0;34m()\u001b[0m\n\u001b[0;32m----> 1\u001b[0;31m \u001b[0mtuples\u001b[0m\u001b[0;34m[\u001b[0m\u001b[0;36m0\u001b[0m\u001b[0;34m]\u001b[0m \u001b[0;34m=\u001b[0m \u001b[0;34m\"j\"\u001b[0m\u001b[0;34m\u001b[0m\u001b[0;34m\u001b[0m\u001b[0m\n\u001b[0m",
            "\u001b[0;31mTypeError\u001b[0m: 'tuple' object does not support item assignment"
          ]
        }
      ]
    },
    {
      "cell_type": "code",
      "source": [
        "tuples.count(\"l\") # 인자로 넣은 값이 몇개 있는 지 반환해준다."
      ],
      "metadata": {
        "colab": {
          "base_uri": "https://localhost:8080/"
        },
        "id": "DcToKGhQe9X9",
        "outputId": "f45a4f75-53bc-43a1-80ed-7439767081ee"
      },
      "execution_count": null,
      "outputs": [
        {
          "output_type": "execute_result",
          "data": {
            "text/plain": [
              "2"
            ]
          },
          "metadata": {},
          "execution_count": 27
        }
      ]
    },
    {
      "cell_type": "code",
      "source": [
        "tuples.count(10)"
      ],
      "metadata": {
        "colab": {
          "base_uri": "https://localhost:8080/"
        },
        "id": "QTaR6XG5fEHx",
        "outputId": "d9882d76-22ac-4e40-8b53-041060e4e07e"
      },
      "execution_count": null,
      "outputs": [
        {
          "output_type": "execute_result",
          "data": {
            "text/plain": [
              "0"
            ]
          },
          "metadata": {},
          "execution_count": 29
        }
      ]
    },
    {
      "cell_type": "code",
      "source": [
        "tuples + tuples"
      ],
      "metadata": {
        "colab": {
          "base_uri": "https://localhost:8080/"
        },
        "id": "yOz4mQ5EfTDG",
        "outputId": "540396b5-6d56-46d4-9c30-e2c94181b53b"
      },
      "execution_count": null,
      "outputs": [
        {
          "output_type": "execute_result",
          "data": {
            "text/plain": [
              "('h', 'e', 'l', 'l', 'o', 'h', 'e', 'l', 'l', 'o')"
            ]
          },
          "metadata": {},
          "execution_count": 30
        }
      ]
    },
    {
      "cell_type": "code",
      "source": [
        "tuples * 3"
      ],
      "metadata": {
        "colab": {
          "base_uri": "https://localhost:8080/"
        },
        "id": "WtLrQK2xfWnz",
        "outputId": "f6c5cea5-42a1-449b-8b81-a186d8e5a97f"
      },
      "execution_count": null,
      "outputs": [
        {
          "output_type": "execute_result",
          "data": {
            "text/plain": [
              "('h', 'e', 'l', 'l', 'o', 'h', 'e', 'l', 'l', 'o', 'h', 'e', 'l', 'l', 'o')"
            ]
          },
          "metadata": {},
          "execution_count": 31
        }
      ]
    },
    {
      "cell_type": "markdown",
      "source": [
        "- 슬라이싱 복습\n",
        "    - 다음의 튜플에서 슬라이싱을 활용하여 짝수만 출력해보자."
      ],
      "metadata": {
        "id": "CtWuXJjIfc_e"
      }
    },
    {
      "cell_type": "code",
      "source": [
        "num_tuple = (1,2,3,4,5,6,7,8,9,10)\n",
        "num_tuple"
      ],
      "metadata": {
        "colab": {
          "base_uri": "https://localhost:8080/"
        },
        "id": "w_FFYFJjffCf",
        "outputId": "69c85063-ab9a-4994-963c-7de8731102bc"
      },
      "execution_count": null,
      "outputs": [
        {
          "output_type": "execute_result",
          "data": {
            "text/plain": [
              "(1, 2, 3, 4, 5, 6, 7, 8, 9, 10)"
            ]
          },
          "metadata": {},
          "execution_count": 34
        }
      ]
    },
    {
      "cell_type": "code",
      "source": [
        "num_tuple [1::2]"
      ],
      "metadata": {
        "colab": {
          "base_uri": "https://localhost:8080/"
        },
        "id": "c8AHmXGAf60j",
        "outputId": "5d155381-35d1-4c6b-b6a3-932644e60f7a"
      },
      "execution_count": null,
      "outputs": [
        {
          "output_type": "execute_result",
          "data": {
            "text/plain": [
              "(2, 4, 6, 8, 10)"
            ]
          },
          "metadata": {},
          "execution_count": 37
        }
      ]
    },
    {
      "cell_type": "code",
      "source": [
        "num_tuple [-1::-2] # 짝수를 역순으로 출력"
      ],
      "metadata": {
        "colab": {
          "base_uri": "https://localhost:8080/"
        },
        "id": "dD5xFeK8gBw1",
        "outputId": "d62cbeb2-b6bd-404d-e1fc-23aeff0deb20"
      },
      "execution_count": null,
      "outputs": [
        {
          "output_type": "execute_result",
          "data": {
            "text/plain": [
              "(10, 8, 6, 4, 2)"
            ]
          },
          "metadata": {},
          "execution_count": 39
        }
      ]
    },
    {
      "cell_type": "markdown",
      "source": [
        "- 함수를 복습해봅시다.\n",
        "    - num_tuple의 최대값, 최소값, 합계, 튜플안에 요소개수를 출력해보자\n"
      ],
      "metadata": {
        "id": "JoMq0iXdgU0M"
      }
    },
    {
      "cell_type": "code",
      "source": [
        "max(num_tuple) , min(num_tuple) , sum(num_tuple) , len(num_tuple)"
      ],
      "metadata": {
        "colab": {
          "base_uri": "https://localhost:8080/"
        },
        "id": "gznnKiefgxX-",
        "outputId": "f0755e41-2c28-44b6-88c5-8a00268f2c71"
      },
      "execution_count": null,
      "outputs": [
        {
          "output_type": "execute_result",
          "data": {
            "text/plain": [
              "(10, 1, 55, 10)"
            ]
          },
          "metadata": {},
          "execution_count": 42
        }
      ]
    },
    {
      "cell_type": "markdown",
      "source": [
        "# `set`\n",
        "- Non-Sequence 자료형\n",
        "- 데이터의 저장의 순서를 보장하지 않는다.\n",
        "    - 인덱싱과 슬라이싱 지원하지 않는다.\n",
        "- mutable 자료형 (수정가능)\n",
        "- 중요한 특징으로 중복 데이터를 저장 허용 X\n",
        "- `{}` 중괄호를 이용해서 만들 수 있다.\n"
      ],
      "metadata": {
        "id": "Amnq6iBYhFKR"
      }
    },
    {
      "cell_type": "code",
      "source": [
        "sets = set()\n",
        "type(sets)"
      ],
      "metadata": {
        "colab": {
          "base_uri": "https://localhost:8080/"
        },
        "id": "_o5xRNQbiyXH",
        "outputId": "78ef8fec-2e34-44c9-ea97-3423cdc2a27b"
      },
      "execution_count": null,
      "outputs": [
        {
          "output_type": "execute_result",
          "data": {
            "text/plain": [
              "set"
            ]
          },
          "metadata": {},
          "execution_count": 44
        }
      ]
    },
    {
      "cell_type": "code",
      "source": [
        "sets = {1001,1001,1001,1001,1001,1004,1004,1004,1004,11,22,56,100}\n",
        "sets"
      ],
      "metadata": {
        "colab": {
          "base_uri": "https://localhost:8080/"
        },
        "id": "FUJ6CRq6i03Q",
        "outputId": "1cf3c3e8-fb11-49e8-ebef-2307c5e37659"
      },
      "execution_count": null,
      "outputs": [
        {
          "output_type": "execute_result",
          "data": {
            "text/plain": [
              "{11, 22, 56, 100, 1001, 1004}"
            ]
          },
          "metadata": {},
          "execution_count": 45
        }
      ]
    },
    {
      "cell_type": "code",
      "source": [
        "sets[0] #인덱싱 지원 x"
      ],
      "metadata": {
        "colab": {
          "base_uri": "https://localhost:8080/",
          "height": 172
        },
        "id": "KF1k19c9jL4H",
        "outputId": "affb28c6-7524-4816-cb31-538ddc606949"
      },
      "execution_count": null,
      "outputs": [
        {
          "output_type": "error",
          "ename": "TypeError",
          "evalue": "ignored",
          "traceback": [
            "\u001b[0;31m---------------------------------------------------------------------------\u001b[0m",
            "\u001b[0;31mTypeError\u001b[0m                                 Traceback (most recent call last)",
            "\u001b[0;32m<ipython-input-46-d3627dfb5037>\u001b[0m in \u001b[0;36m<module>\u001b[0;34m()\u001b[0m\n\u001b[0;32m----> 1\u001b[0;31m \u001b[0msets\u001b[0m\u001b[0;34m[\u001b[0m\u001b[0;36m0\u001b[0m\u001b[0;34m]\u001b[0m\u001b[0;34m\u001b[0m\u001b[0;34m\u001b[0m\u001b[0m\n\u001b[0m",
            "\u001b[0;31mTypeError\u001b[0m: 'set' object is not subscriptable"
          ]
        }
      ]
    },
    {
      "cell_type": "markdown",
      "source": [],
      "metadata": {
        "id": "xtlZPagFjPuz"
      }
    },
    {
      "cell_type": "markdown",
      "source": [
        "`in` 연산자와 `not in `연산자 지원된다.\n",
        "더하기나 곱하기 연산자는 지원하지 않는다. (의미가 없기 때문)\n"
      ],
      "metadata": {
        "id": "F0GXezhpjUtz"
      }
    },
    {
      "cell_type": "markdown",
      "source": [
        "- set객체의 메소드"
      ],
      "metadata": {
        "id": "PHbmswp0jnKZ"
      }
    },
    {
      "cell_type": "code",
      "source": [
        "A = {1,2,3}\n",
        "B = {2,3,4}\n",
        "A,B"
      ],
      "metadata": {
        "colab": {
          "base_uri": "https://localhost:8080/"
        },
        "id": "uekDbebNj82Q",
        "outputId": "58ed131e-8d3b-4dfd-80f9-25d667a94c2e"
      },
      "execution_count": null,
      "outputs": [
        {
          "output_type": "execute_result",
          "data": {
            "text/plain": [
              "({1, 2, 3}, {2, 3, 4})"
            ]
          },
          "metadata": {},
          "execution_count": 48
        }
      ]
    },
    {
      "cell_type": "code",
      "source": [
        "A.intersection(B)  # 교집합"
      ],
      "metadata": {
        "colab": {
          "base_uri": "https://localhost:8080/"
        },
        "id": "jHRdPe__kCoz",
        "outputId": "3b886d3e-41b4-40b1-81db-4a60b6e52c7a"
      },
      "execution_count": null,
      "outputs": [
        {
          "output_type": "execute_result",
          "data": {
            "text/plain": [
              "{2, 3}"
            ]
          },
          "metadata": {},
          "execution_count": 49
        }
      ]
    },
    {
      "cell_type": "code",
      "source": [
        "A.union(B) # 합집합"
      ],
      "metadata": {
        "colab": {
          "base_uri": "https://localhost:8080/"
        },
        "id": "Lm5OI5zpkIzT",
        "outputId": "64fbd55c-68c3-45fd-aa8b-6c1d5a90c18d"
      },
      "execution_count": null,
      "outputs": [
        {
          "output_type": "execute_result",
          "data": {
            "text/plain": [
              "{1, 2, 3, 4}"
            ]
          },
          "metadata": {},
          "execution_count": 50
        }
      ]
    },
    {
      "cell_type": "code",
      "source": [
        "A.difference(B) # 차집합"
      ],
      "metadata": {
        "colab": {
          "base_uri": "https://localhost:8080/"
        },
        "id": "NrkR7gV1kVku",
        "outputId": "dac2413f-506c-4a39-fb27-17508f9aa7bb"
      },
      "execution_count": null,
      "outputs": [
        {
          "output_type": "execute_result",
          "data": {
            "text/plain": [
              "{1}"
            ]
          },
          "metadata": {},
          "execution_count": 51
        }
      ]
    },
    {
      "cell_type": "markdown",
      "source": [
        "- 수정가능하다.\n"
      ],
      "metadata": {
        "id": "tHclkDAikbjH"
      }
    },
    {
      "cell_type": "code",
      "source": [
        "a = {1,2,3}\n",
        "a.add(100)     # 하나의 값을 추가하고 싶을때\n",
        "a"
      ],
      "metadata": {
        "colab": {
          "base_uri": "https://localhost:8080/"
        },
        "id": "Ff8ri14Xkhj5",
        "outputId": "fe8a03fb-5a9e-4b64-a7fd-2586c0cc7eb7"
      },
      "execution_count": null,
      "outputs": [
        {
          "output_type": "execute_result",
          "data": {
            "text/plain": [
              "{1, 2, 3, 100}"
            ]
          },
          "metadata": {},
          "execution_count": 52
        }
      ]
    },
    {
      "cell_type": "code",
      "source": [
        "a.update([1,2,3,4,5,6,7,8,9,10]) # 여러값들을 추가하고 싶을때\n",
        "a"
      ],
      "metadata": {
        "colab": {
          "base_uri": "https://localhost:8080/"
        },
        "id": "F8-1QcLTknCc",
        "outputId": "586dfddc-f535-4f9a-bafe-fa927bdc1481"
      },
      "execution_count": null,
      "outputs": [
        {
          "output_type": "execute_result",
          "data": {
            "text/plain": [
              "{1, 2, 3, 4, 5, 6, 7, 8, 9, 10, 100}"
            ]
          },
          "metadata": {},
          "execution_count": 54
        }
      ]
    },
    {
      "cell_type": "code",
      "source": [
        "a.remove(100) # 특정 값을 제거 하고 싶을때\n",
        "a"
      ],
      "metadata": {
        "colab": {
          "base_uri": "https://localhost:8080/"
        },
        "id": "pDBRx822ksYQ",
        "outputId": "9c624d9f-38c0-4098-a665-849e500c9f29"
      },
      "execution_count": null,
      "outputs": [
        {
          "output_type": "execute_result",
          "data": {
            "text/plain": [
              "{1, 2, 3, 4, 5, 6, 7, 8, 9, 10}"
            ]
          },
          "metadata": {},
          "execution_count": 55
        }
      ]
    },
    {
      "cell_type": "markdown",
      "source": [
        "# `dict`(Dictionary)\n",
        "- Non-Sequence 자료형\n",
        "- mutable 자료형\n",
        "- key-value 구조로 되어있다.\n",
        "- key 중복 X\n",
        "- value 중복 O\n",
        "```python\n",
        "{\n",
        "    key: value,\n",
        "    key: value,\n",
        "    ...\n",
        "}\n",
        "```"
      ],
      "metadata": {
        "id": "Rjl25gmdlD0j"
      }
    },
    {
      "cell_type": "code",
      "source": [
        "city = {}\n",
        "type(city)"
      ],
      "metadata": {
        "colab": {
          "base_uri": "https://localhost:8080/"
        },
        "id": "gyZ9z8XOpmsM",
        "outputId": "6f26aa58-42a0-4b2c-ec60-98dea0514ea9"
      },
      "execution_count": null,
      "outputs": [
        {
          "output_type": "execute_result",
          "data": {
            "text/plain": [
              "dict"
            ]
          },
          "metadata": {},
          "execution_count": 59
        }
      ]
    },
    {
      "cell_type": "code",
      "source": [
        "city = {\n",
        "    \"한국\" : \"부산\",\n",
        "    \"일본\" : \"쿄토\",\n",
        "    \"캐나다\" : \"오타와\"\n",
        "}\n",
        "city"
      ],
      "metadata": {
        "colab": {
          "base_uri": "https://localhost:8080/"
        },
        "id": "X0CoxUPIppM5",
        "outputId": "4347651d-0300-4117-985f-3315b8a2b8a6"
      },
      "execution_count": null,
      "outputs": [
        {
          "output_type": "execute_result",
          "data": {
            "text/plain": [
              "{'일본': '쿄토', '캐나다': '오타와', '한국': '부산'}"
            ]
          },
          "metadata": {},
          "execution_count": 72
        }
      ]
    },
    {
      "cell_type": "code",
      "source": [
        "city[\"한국\"]"
      ],
      "metadata": {
        "colab": {
          "base_uri": "https://localhost:8080/",
          "height": 35
        },
        "id": "uvnFbPXrrUXg",
        "outputId": "c38f6b23-329f-4aee-8bb3-82fdaf37002f"
      },
      "execution_count": null,
      "outputs": [
        {
          "output_type": "execute_result",
          "data": {
            "text/plain": [
              "'부산'"
            ],
            "application/vnd.google.colaboratory.intrinsic+json": {
              "type": "string"
            }
          },
          "metadata": {},
          "execution_count": 73
        }
      ]
    },
    {
      "cell_type": "code",
      "source": [
        "city[\"중국\"] # 없는 key의 value 를 가져오로할떄는 에러 발생!"
      ],
      "metadata": {
        "colab": {
          "base_uri": "https://localhost:8080/",
          "height": 172
        },
        "id": "bM2hV_LmqFDD",
        "outputId": "ccffa7c9-3c5c-4701-e381-873893a38d18"
      },
      "execution_count": null,
      "outputs": [
        {
          "output_type": "error",
          "ename": "KeyError",
          "evalue": "ignored",
          "traceback": [
            "\u001b[0;31m---------------------------------------------------------------------------\u001b[0m",
            "\u001b[0;31mKeyError\u001b[0m                                  Traceback (most recent call last)",
            "\u001b[0;32m<ipython-input-69-5c7358eb1241>\u001b[0m in \u001b[0;36m<module>\u001b[0;34m()\u001b[0m\n\u001b[0;32m----> 1\u001b[0;31m \u001b[0mcity\u001b[0m\u001b[0;34m[\u001b[0m\u001b[0;34m\"중국\"\u001b[0m\u001b[0;34m]\u001b[0m \u001b[0;31m# 없는 key의 value 를 가져오로할떄는 에러 발생!\u001b[0m\u001b[0;34m\u001b[0m\u001b[0;34m\u001b[0m\u001b[0m\n\u001b[0m",
            "\u001b[0;31mKeyError\u001b[0m: '중국'"
          ]
        }
      ]
    },
    {
      "cell_type": "code",
      "source": [
        "city.get(\"중국\") # 에러가 안난다."
      ],
      "metadata": {
        "id": "joj-Z5tUquyF"
      },
      "execution_count": null,
      "outputs": []
    },
    {
      "cell_type": "code",
      "source": [
        "city.get(\"중국\", \"없음\") # 중국이라는 키가 없을경우 없음이라는 문자열로 반환해라"
      ],
      "metadata": {
        "colab": {
          "base_uri": "https://localhost:8080/",
          "height": 35
        },
        "id": "1HdKmmuGrALm",
        "outputId": "26d09b3f-c4ea-4165-8f05-cd083e52aac7"
      },
      "execution_count": null,
      "outputs": [
        {
          "output_type": "execute_result",
          "data": {
            "text/plain": [
              "'없음'"
            ],
            "application/vnd.google.colaboratory.intrinsic+json": {
              "type": "string"
            }
          },
          "metadata": {},
          "execution_count": 71
        }
      ]
    },
    {
      "cell_type": "code",
      "source": [
        "city[\"중국\"] = \"베이징\" # 중국 키가 없으니 key와 value가 추가된다.\n",
        "city"
      ],
      "metadata": {
        "colab": {
          "base_uri": "https://localhost:8080/"
        },
        "id": "C7pU7Pz2sTvW",
        "outputId": "c293c2de-0786-4c00-fbbb-109fa69e56f6"
      },
      "execution_count": null,
      "outputs": [
        {
          "output_type": "execute_result",
          "data": {
            "text/plain": [
              "{'일본': '쿄토', '중국': '베이징', '캐나다': '오타와', '한국': '부산'}"
            ]
          },
          "metadata": {},
          "execution_count": 81
        }
      ]
    },
    {
      "cell_type": "code",
      "source": [
        "city[\"일본\"] = \"도쿄\" # key가 있어서 해당 key에 해당되는 value가 수정된다.\n",
        "city"
      ],
      "metadata": {
        "colab": {
          "base_uri": "https://localhost:8080/"
        },
        "id": "L9h33zZ5slst",
        "outputId": "6d1f7d70-4d6d-46ce-e521-f0f1b17aeb07"
      },
      "execution_count": null,
      "outputs": [
        {
          "output_type": "execute_result",
          "data": {
            "text/plain": [
              "{'일본': '도쿄', '중국': '베이징', '캐나다': '오타와', '한국': '부산'}"
            ]
          },
          "metadata": {},
          "execution_count": 83
        }
      ]
    },
    {
      "cell_type": "code",
      "source": [
        "add_city = {\"중국\" : \"상하이\", \"미국\" : \"워싱턴\"}\n",
        "city.update(add_city)  # update 함수는 여러개의 key와 value를 수정하거나 추가하고 싶을때 사용\n",
        "city"
      ],
      "metadata": {
        "colab": {
          "base_uri": "https://localhost:8080/"
        },
        "id": "evt-GtDfs-8F",
        "outputId": "3b567399-3459-4bab-e1e5-f03bb2f084dd"
      },
      "execution_count": null,
      "outputs": [
        {
          "output_type": "execute_result",
          "data": {
            "text/plain": [
              "{'미국': '워싱턴', '일본': '도쿄', '중국': '상하이', '캐나다': '오타와', '한국': '부산'}"
            ]
          },
          "metadata": {},
          "execution_count": 84
        }
      ]
    },
    {
      "cell_type": "code",
      "source": [
        "del city[\"일본\"] # key가 \"일본\"인 key와 value 쌍을 삭제하겠다.\n",
        "city"
      ],
      "metadata": {
        "colab": {
          "base_uri": "https://localhost:8080/"
        },
        "id": "39W3G00wtfcl",
        "outputId": "7e177aca-ae5b-41c1-c4ee-6808edfa9bcb"
      },
      "execution_count": null,
      "outputs": [
        {
          "output_type": "execute_result",
          "data": {
            "text/plain": [
              "{'미국': '워싱턴', '중국': '상하이', '캐나다': '오타와', '한국': '부산'}"
            ]
          },
          "metadata": {},
          "execution_count": 85
        }
      ]
    },
    {
      "cell_type": "code",
      "source": [
        "print(city.pop(\"중국\")) # 삭제를 하고자하는 key를 넣어서 삭제할수 있다. 해당 key의 value가 반환된다.\n",
        "city"
      ],
      "metadata": {
        "colab": {
          "base_uri": "https://localhost:8080/"
        },
        "id": "J3IAye_Rttv4",
        "outputId": "048ce4a0-3ab3-49dd-f2f3-84d9ac8de1bd"
      },
      "execution_count": null,
      "outputs": [
        {
          "output_type": "stream",
          "name": "stdout",
          "text": [
            "상하이\n"
          ]
        },
        {
          "output_type": "execute_result",
          "data": {
            "text/plain": [
              "{'미국': '워싱턴', '캐나다': '오타와', '한국': '부산'}"
            ]
          },
          "metadata": {},
          "execution_count": 86
        }
      ]
    },
    {
      "cell_type": "code",
      "source": [
        "city.keys() # dict 내의 전체 키를 확인 할 수 있다."
      ],
      "metadata": {
        "colab": {
          "base_uri": "https://localhost:8080/"
        },
        "id": "gu5HmZj8uG7Y",
        "outputId": "da666379-f91f-47b0-b908-2aee155d90c5"
      },
      "execution_count": null,
      "outputs": [
        {
          "output_type": "execute_result",
          "data": {
            "text/plain": [
              "dict_keys(['한국', '캐나다', '미국'])"
            ]
          },
          "metadata": {},
          "execution_count": 87
        }
      ]
    },
    {
      "cell_type": "code",
      "source": [
        "city.values() # dict 내의 전체 value를 확인 할 수 있다."
      ],
      "metadata": {
        "colab": {
          "base_uri": "https://localhost:8080/"
        },
        "id": "mPKmhP4YuYtd",
        "outputId": "a1a5dfe4-cbd6-432d-c3f3-eac7ae7222ec"
      },
      "execution_count": null,
      "outputs": [
        {
          "output_type": "execute_result",
          "data": {
            "text/plain": [
              "dict_values(['부산', '오타와', '워싱턴'])"
            ]
          },
          "metadata": {},
          "execution_count": 88
        }
      ]
    },
    {
      "cell_type": "code",
      "source": [
        "city.items() # dict 내의 전체 key,  value를 확인할수 있다."
      ],
      "metadata": {
        "colab": {
          "base_uri": "https://localhost:8080/"
        },
        "id": "H965SC-turZE",
        "outputId": "c888b29f-1255-4273-f2a1-bee1c7c31ac9"
      },
      "execution_count": null,
      "outputs": [
        {
          "output_type": "execute_result",
          "data": {
            "text/plain": [
              "dict_items([('한국', '부산'), ('캐나다', '오타와'), ('미국', '워싱턴')])"
            ]
          },
          "metadata": {},
          "execution_count": 89
        }
      ]
    },
    {
      "cell_type": "code",
      "source": [
        "\"한국\" in city.keys()"
      ],
      "metadata": {
        "colab": {
          "base_uri": "https://localhost:8080/"
        },
        "id": "4LOgFo3SvvIF",
        "outputId": "f9666584-6db7-417d-d3d8-fcbc73d7e77a"
      },
      "execution_count": null,
      "outputs": [
        {
          "output_type": "execute_result",
          "data": {
            "text/plain": [
              "True"
            ]
          },
          "metadata": {},
          "execution_count": 91
        }
      ]
    },
    {
      "cell_type": "code",
      "source": [
        "num_dict = {\n",
        "    0:\"제로\",\n",
        "    3.14: \"원주율\",\n",
        "    True: \"참\"\n",
        "}\n",
        "num_dict[0]"
      ],
      "metadata": {
        "colab": {
          "base_uri": "https://localhost:8080/",
          "height": 35
        },
        "id": "VwWcUt8nv7gt",
        "outputId": "400bd9d1-8644-48f7-cd2b-75d39f759e3b"
      },
      "execution_count": null,
      "outputs": [
        {
          "output_type": "execute_result",
          "data": {
            "text/plain": [
              "'제로'"
            ],
            "application/vnd.google.colaboratory.intrinsic+json": {
              "type": "string"
            }
          },
          "metadata": {},
          "execution_count": 94
        }
      ]
    },
    {
      "cell_type": "code",
      "source": [
        "num_dict[3.14]"
      ],
      "metadata": {
        "colab": {
          "base_uri": "https://localhost:8080/",
          "height": 35
        },
        "id": "m9PLld4hwKM7",
        "outputId": "7e9c0537-7bab-4c98-ce97-3790ff03bfab"
      },
      "execution_count": null,
      "outputs": [
        {
          "output_type": "execute_result",
          "data": {
            "text/plain": [
              "'원주율'"
            ],
            "application/vnd.google.colaboratory.intrinsic+json": {
              "type": "string"
            }
          },
          "metadata": {},
          "execution_count": 95
        }
      ]
    },
    {
      "cell_type": "code",
      "source": [
        "num_dict[True]"
      ],
      "metadata": {
        "colab": {
          "base_uri": "https://localhost:8080/",
          "height": 35
        },
        "id": "8dilbbxasKk1",
        "outputId": "6de327b0-baf4-4d32-dc61-4126078395e4"
      },
      "execution_count": null,
      "outputs": [
        {
          "output_type": "execute_result",
          "data": {
            "text/plain": [
              "'참'"
            ],
            "application/vnd.google.colaboratory.intrinsic+json": {
              "type": "string"
            }
          },
          "metadata": {},
          "execution_count": 96
        }
      ]
    },
    {
      "cell_type": "code",
      "source": [
        "info_dict = {\n",
        "    \"name\" : \"이예찬\",\n",
        "    \"age\" : 25,\n",
        "    \"score\" : [100,100,100,100,100],\n",
        "    \"etc\" : {\n",
        "        \"my_dream\" : \"hacker\"\n",
        "    }\n",
        "}\n",
        "info_dict"
      ],
      "metadata": {
        "colab": {
          "base_uri": "https://localhost:8080/"
        },
        "id": "j9D9vkJrwca5",
        "outputId": "c583f166-56a6-4206-cc6f-da3ba95965c1"
      },
      "execution_count": null,
      "outputs": [
        {
          "output_type": "execute_result",
          "data": {
            "text/plain": [
              "{'age': 25,\n",
              " 'etc': {'my_dream': 'hacker'},\n",
              " 'name': '이예찬',\n",
              " 'score': [100, 100, 100, 100, 100]}"
            ]
          },
          "metadata": {},
          "execution_count": 97
        }
      ]
    },
    {
      "cell_type": "code",
      "source": [
        "num_dict = {\n",
        "    \"mean\" : 80,\n",
        "    \"std\" : 3.5,\n",
        "}\n",
        "num_dict"
      ],
      "metadata": {
        "colab": {
          "base_uri": "https://localhost:8080/"
        },
        "id": "VQqQoGkmxFAi",
        "outputId": "e8943d77-d741-4549-e61b-f0c509d5997d"
      },
      "execution_count": null,
      "outputs": [
        {
          "output_type": "execute_result",
          "data": {
            "text/plain": [
              "{'mean': 80, 'std': 3.5}"
            ]
          },
          "metadata": {},
          "execution_count": 110
        }
      ]
    },
    {
      "cell_type": "markdown",
      "source": [
        "mean의 키를 avg 라는 키로 변경해라. pop 메소드를 이용하시면 된다."
      ],
      "metadata": {
        "id": "hYo97aWMxeRh"
      }
    },
    {
      "cell_type": "code",
      "source": [
        "num_dict[\"avg\"] = num_dict.pop(\"mean\")\n",
        "num_dict"
      ],
      "metadata": {
        "colab": {
          "base_uri": "https://localhost:8080/"
        },
        "id": "sR4q-dbLxoGo",
        "outputId": "8626739c-1a9e-4cba-e3c1-e396c68cf96b"
      },
      "execution_count": null,
      "outputs": [
        {
          "output_type": "execute_result",
          "data": {
            "text/plain": [
              "{'avg': 80, 'std': 3.5}"
            ]
          },
          "metadata": {},
          "execution_count": 111
        }
      ]
    },
    {
      "cell_type": "markdown",
      "source": [
        "# 컬렉션 자료형 변환\n"
      ],
      "metadata": {
        "id": "R20KCBvLxyw-"
      }
    },
    {
      "cell_type": "markdown",
      "source": [
        "- `list` -> tuple"
      ],
      "metadata": {
        "id": "kPtHRA0H25h5"
      }
    },
    {
      "cell_type": "code",
      "source": [
        "lst = [1,2,3]\n",
        "tuple(lst)"
      ],
      "metadata": {
        "colab": {
          "base_uri": "https://localhost:8080/"
        },
        "id": "StbkR6dd3A1B",
        "outputId": "16e5e45a-b344-4540-8c7b-83a165130e56"
      },
      "execution_count": null,
      "outputs": [
        {
          "output_type": "execute_result",
          "data": {
            "text/plain": [
              "(1, 2, 3)"
            ]
          },
          "metadata": {},
          "execution_count": 113
        }
      ]
    },
    {
      "cell_type": "markdown",
      "source": [
        "- `tuple` -> list"
      ],
      "metadata": {
        "id": "RGNgBc8k3GBA"
      }
    },
    {
      "cell_type": "code",
      "source": [
        "tup = 1,2,3\n",
        "list(tup)"
      ],
      "metadata": {
        "colab": {
          "base_uri": "https://localhost:8080/"
        },
        "id": "znzW1afr3Nxb",
        "outputId": "d18a97ae-31d5-4175-fea1-d01605caa195"
      },
      "execution_count": null,
      "outputs": [
        {
          "output_type": "execute_result",
          "data": {
            "text/plain": [
              "[1, 2, 3]"
            ]
          },
          "metadata": {},
          "execution_count": 114
        }
      ]
    },
    {
      "cell_type": "markdown",
      "source": [
        "- `set` -> `list`"
      ],
      "metadata": {
        "id": "cKRgwV1h3Rt-"
      }
    },
    {
      "cell_type": "code",
      "source": [
        "sets = {\"Apple\", \"Banana\", \"Mango\"}\n",
        "list(sets)"
      ],
      "metadata": {
        "colab": {
          "base_uri": "https://localhost:8080/"
        },
        "id": "W24K9ttt3fTL",
        "outputId": "a48c998f-ae92-4082-b554-6c88dc1a50b1"
      },
      "execution_count": null,
      "outputs": [
        {
          "output_type": "execute_result",
          "data": {
            "text/plain": [
              "['Apple', 'Banana', 'Mango']"
            ]
          },
          "metadata": {},
          "execution_count": 115
        }
      ]
    },
    {
      "cell_type": "markdown",
      "source": [
        "- `dict`-> `list`\n",
        "    - key 가 리스트로 반환된다."
      ],
      "metadata": {
        "id": "aEvp92PB3oU0"
      }
    },
    {
      "cell_type": "code",
      "source": [
        "city = {\n",
        "    \"한국\" : \"서울\",\n",
        "    \"일본\" : \"도쿄\",\n",
        "    \"미국\" : \"워싱턴\"\n",
        "}\n",
        "list(city)"
      ],
      "metadata": {
        "colab": {
          "base_uri": "https://localhost:8080/"
        },
        "id": "lmpTL6Xc36_u",
        "outputId": "9caf9a59-8f19-4ce4-abfe-acdbbf2950f8"
      },
      "execution_count": null,
      "outputs": [
        {
          "output_type": "execute_result",
          "data": {
            "text/plain": [
              "['한국', '일본', '미국']"
            ]
          },
          "metadata": {},
          "execution_count": 116
        }
      ]
    },
    {
      "cell_type": "code",
      "source": [
        "list(city.keys())"
      ],
      "metadata": {
        "colab": {
          "base_uri": "https://localhost:8080/"
        },
        "id": "z8Btrnm94J2q",
        "outputId": "6e9de2be-6eb4-4af7-a204-cc5cccca3e26"
      },
      "execution_count": null,
      "outputs": [
        {
          "output_type": "execute_result",
          "data": {
            "text/plain": [
              "['한국', '일본', '미국']"
            ]
          },
          "metadata": {},
          "execution_count": 117
        }
      ]
    },
    {
      "cell_type": "code",
      "source": [
        "list(city.values())"
      ],
      "metadata": {
        "colab": {
          "base_uri": "https://localhost:8080/"
        },
        "id": "eJlCTKKQ4Nd6",
        "outputId": "caadd13e-aacc-41dc-aa30-752a4512401a"
      },
      "execution_count": null,
      "outputs": [
        {
          "output_type": "execute_result",
          "data": {
            "text/plain": [
              "['서울', '도쿄', '워싱턴']"
            ]
          },
          "metadata": {},
          "execution_count": 118
        }
      ]
    },
    {
      "cell_type": "code",
      "source": [
        "city.items()"
      ],
      "metadata": {
        "colab": {
          "base_uri": "https://localhost:8080/"
        },
        "id": "6i3Z0yDc4Wbx",
        "outputId": "874bfb0e-1b37-4a20-e2f9-fbaca582d9a0"
      },
      "execution_count": null,
      "outputs": [
        {
          "output_type": "execute_result",
          "data": {
            "text/plain": [
              "dict_items([('한국', '서울'), ('일본', '도쿄'), ('미국', '워싱턴')])"
            ]
          },
          "metadata": {},
          "execution_count": 120
        }
      ]
    },
    {
      "cell_type": "code",
      "source": [
        "tup_list = list(city.items())\n",
        "tup_list"
      ],
      "metadata": {
        "colab": {
          "base_uri": "https://localhost:8080/"
        },
        "id": "iR-wucTd4jw5",
        "outputId": "fc8fc2bd-4381-4643-d3cb-fa0674557b87"
      },
      "execution_count": null,
      "outputs": [
        {
          "output_type": "execute_result",
          "data": {
            "text/plain": [
              "[('한국', '서울'), ('일본', '도쿄'), ('미국', '워싱턴')]"
            ]
          },
          "metadata": {},
          "execution_count": 122
        }
      ]
    },
    {
      "cell_type": "code",
      "source": [
        "dict(tup_list)"
      ],
      "metadata": {
        "colab": {
          "base_uri": "https://localhost:8080/"
        },
        "id": "ZN0Ncp6m4rfj",
        "outputId": "c0449bf3-d81b-4474-f1e7-199e5328da92"
      },
      "execution_count": null,
      "outputs": [
        {
          "output_type": "execute_result",
          "data": {
            "text/plain": [
              "{'미국': '워싱턴', '일본': '도쿄', '한국': '서울'}"
            ]
          },
          "metadata": {},
          "execution_count": 123
        }
      ]
    },
    {
      "cell_type": "code",
      "source": [
        "text = \"hello\" \n",
        "list(text)      # 문자열에 각 문자가 리스트에 하나의 요소로 들어간다."
      ],
      "metadata": {
        "colab": {
          "base_uri": "https://localhost:8080/"
        },
        "id": "gQNKySKw5Adr",
        "outputId": "39493c8c-78ab-4819-b6b0-156fb2976d59"
      },
      "execution_count": null,
      "outputs": [
        {
          "output_type": "execute_result",
          "data": {
            "text/plain": [
              "['h', 'e', 'l', 'l', 'o']"
            ]
          },
          "metadata": {},
          "execution_count": 124
        }
      ]
    },
    {
      "cell_type": "code",
      "source": [
        "# text의 문자열이 어떠한 알파벳으로 구성되어있을까?\n",
        "set(text)"
      ],
      "metadata": {
        "colab": {
          "base_uri": "https://localhost:8080/"
        },
        "id": "Cu5bP1E25M4g",
        "outputId": "7723c920-96ca-4a2b-d9bc-2a169aa9ae1d"
      },
      "execution_count": null,
      "outputs": [
        {
          "output_type": "execute_result",
          "data": {
            "text/plain": [
              "{'e', 'h', 'l', 'o'}"
            ]
          },
          "metadata": {},
          "execution_count": 125
        }
      ]
    },
    {
      "cell_type": "code",
      "source": [],
      "metadata": {
        "id": "cC_0AinL5Z7q"
      },
      "execution_count": null,
      "outputs": []
    }
  ]
}