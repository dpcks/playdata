{
  "nbformat": 4,
  "nbformat_minor": 0,
  "metadata": {
    "colab": {
      "provenance": [],
      "authorship_tag": "ABX9TyMNfYozFpY3/TPXWENwP/L+",
      "include_colab_link": true
    },
    "kernelspec": {
      "name": "python3",
      "display_name": "Python 3"
    },
    "language_info": {
      "name": "python"
    }
  },
  "cells": [
    {
      "cell_type": "markdown",
      "metadata": {
        "id": "view-in-github",
        "colab_type": "text"
      },
      "source": [
        "<a href=\"https://colab.research.google.com/github/dpcks/playdata/blob/main/Machine_Learning/10_%EB%B9%84%EC%A7%80%EB%8F%84%ED%95%99%EC%8A%B5_%EA%B5%B0%EC%A7%91.ipynb\" target=\"_parent\"><img src=\"https://colab.research.google.com/assets/colab-badge.svg\" alt=\"Open In Colab\"/></a>"
      ]
    },
    {
      "cell_type": "markdown",
      "source": [
        "# 군집화 (clustering)\n",
        "- 주어진 데이터 집합을 유사한 데이터들의 그룹으로 나누는 것\n"
      ],
      "metadata": {
        "id": "y1EzE2VKyJxJ"
      }
    },
    {
      "cell_type": "code",
      "source": [
        "import numpy as np\n",
        "import pandas as pd"
      ],
      "metadata": {
        "id": "4mgqpeFMyuWf"
      },
      "execution_count": null,
      "outputs": []
    },
    {
      "cell_type": "code",
      "source": [
        "SEED = 42"
      ],
      "metadata": {
        "id": "3WSPMDSty1A2"
      },
      "execution_count": null,
      "outputs": []
    },
    {
      "cell_type": "markdown",
      "source": [
        "- 손글씨 데이터받기"
      ],
      "metadata": {
        "id": "TXdwzFAGy-So"
      }
    },
    {
      "cell_type": "code",
      "source": [
        "from sklearn.datasets import load_digits\n",
        "digits = load_digits()\n",
        "x = digits.data / 255\n",
        "y = digits.target\n",
        "x.shape , y.shape"
      ],
      "metadata": {
        "colab": {
          "base_uri": "https://localhost:8080/"
        },
        "id": "DSlCnarQy2lH",
        "outputId": "3fc95f50-c219-4dee-b351-aa8b7fe36d92"
      },
      "execution_count": null,
      "outputs": [
        {
          "output_type": "execute_result",
          "data": {
            "text/plain": [
              "((1797, 64), (1797,))"
            ]
          },
          "metadata": {},
          "execution_count": 22
        }
      ]
    },
    {
      "cell_type": "markdown",
      "source": [
        "- 데이터 섞어주기\n",
        "    - 데이터의 일정한 규칙들이 있을수도 있어서 데이터가 편향적으로 나올수있어 없앨려고 "
      ],
      "metadata": {
        "id": "YZ2ZMoK5zG5b"
      }
    },
    {
      "cell_type": "code",
      "source": [
        "np.random.seed(SEED)\n",
        "idx = np.arange(x.shape[0])\n",
        "np.random.shuffle(idx)\n",
        "x = x[idx]\n",
        "y = y[idx]"
      ],
      "metadata": {
        "id": "qfVEilJczeIq"
      },
      "execution_count": null,
      "outputs": []
    },
    {
      "cell_type": "markdown",
      "source": [
        "K-means\n",
        "- K개의 랜덤한 중심점으로부터 가까운 데이터들을 묶는 군집화 기법\n",
        "- 평균을 사용함에 따라 이상치에 민감하다\n",
        "- 거리를 재기 때문에 스케일링 필수 \n",
        "- 초기 중심에 민감\n",
        "- K-means++\n",
        "    - 초기 중심점 선정의 어려움을 해결하기 위한 방법\n",
        "- 주요 파라미터\n",
        "    - n_clusters : 군집수\n",
        "    - init : 기본값이 k-means++\n",
        "    "
      ],
      "metadata": {
        "id": "yuwzpSs_zf5v"
      }
    },
    {
      "cell_type": "code",
      "source": [
        "from sklearn.cluster import KMeans \n",
        "kmeans = KMeans(n_clusters=10,random_state=SEED)\n",
        "kmeans.fit(x) # 비지도학습들은 x값만 넣어줘도 된다. y값 안넣어줘도 됨"
      ],
      "metadata": {
        "colab": {
          "base_uri": "https://localhost:8080/"
        },
        "id": "yVLauOn70K31",
        "outputId": "6747b919-d47d-4b3e-8883-6a5ab58ff8d2"
      },
      "execution_count": null,
      "outputs": [
        {
          "output_type": "execute_result",
          "data": {
            "text/plain": [
              "KMeans(n_clusters=10, random_state=42)"
            ]
          },
          "metadata": {},
          "execution_count": 24
        }
      ]
    },
    {
      "cell_type": "code",
      "source": [
        "kmeans.labels_ # 클래스 정답번호와 군집번호는 전혀 다르다 / 같은 클래스를 같은 군집번호를 넣으면 그건 잘했다고 볼수 있다"
      ],
      "metadata": {
        "colab": {
          "base_uri": "https://localhost:8080/"
        },
        "id": "8P6M1HJU2lf4",
        "outputId": "0113e1c5-c2ab-4cbd-bb01-9ec40f44f2f7"
      },
      "execution_count": null,
      "outputs": [
        {
          "output_type": "execute_result",
          "data": {
            "text/plain": [
              "array([4, 9, 1, ..., 3, 3, 2], dtype=int32)"
            ]
          },
          "metadata": {},
          "execution_count": 26
        }
      ]
    },
    {
      "cell_type": "code",
      "source": [
        "kmeans.predict(x) # 학습데이터를 넣었기 때문에 위에와 같은 값이 나온다"
      ],
      "metadata": {
        "colab": {
          "base_uri": "https://localhost:8080/"
        },
        "id": "HkqfoNX42vxQ",
        "outputId": "254cf85d-86ba-4a63-bad1-257996e9cfee"
      },
      "execution_count": null,
      "outputs": [
        {
          "output_type": "execute_result",
          "data": {
            "text/plain": [
              "array([4, 9, 1, ..., 3, 3, 2], dtype=int32)"
            ]
          },
          "metadata": {},
          "execution_count": 28
        }
      ]
    },
    {
      "cell_type": "markdown",
      "source": [
        "# 대표적인 군집화 성능 평가지표\n"
      ],
      "metadata": {
        "id": "Ke_XR8DU3eY-"
      }
    },
    {
      "cell_type": "markdown",
      "source": [
        "# 사전에 정의된 그룹이 있는 경우\n",
        "- 예시 )정답 레이블이 있다 , 그룹을 나타내는 컬럼이 있다.\n",
        "\n"
      ],
      "metadata": {
        "id": "CW7qrJVt4A1-"
      }
    },
    {
      "cell_type": "markdown",
      "source": [
        "- homogeneity\n",
        "    - 각 군집(예측값)이 동일한 클래스(실제값)로 구성되어있는 정도\n",
        "    - 1에 가까울수록 군집화가 잘되있다"
      ],
      "metadata": {
        "id": "p1GyRWWt4sMB"
      }
    },
    {
      "cell_type": "code",
      "source": [
        "from sklearn.metrics import homogeneity_score\n",
        "homogeneity_score(y,kmeans.labels_)"
      ],
      "metadata": {
        "colab": {
          "base_uri": "https://localhost:8080/"
        },
        "id": "3iKU7wJw9cWB",
        "outputId": "db9e9477-0beb-431a-a168-2fd3717a7c7d"
      },
      "execution_count": null,
      "outputs": [
        {
          "output_type": "execute_result",
          "data": {
            "text/plain": [
              "0.7378058968326526"
            ]
          },
          "metadata": {},
          "execution_count": 30
        }
      ]
    },
    {
      "cell_type": "markdown",
      "source": [
        "- completeness\n",
        "    - 각 클래스(실제값)에 대하여 동일한 군집(예측값)으로 구성되어 있는 정도\n",
        "    - 1에 가까울수록 군집화가 잘되있다"
      ],
      "metadata": {
        "id": "-xGN0zuQ490M"
      }
    },
    {
      "cell_type": "code",
      "source": [
        "from sklearn.metrics import completeness_score\n",
        "completeness_score(y,kmeans.labels_)"
      ],
      "metadata": {
        "colab": {
          "base_uri": "https://localhost:8080/"
        },
        "id": "0JSfoRIf9w-A",
        "outputId": "d59e27dc-b49b-4d05-f9a0-60b32e186a23"
      },
      "execution_count": null,
      "outputs": [
        {
          "output_type": "execute_result",
          "data": {
            "text/plain": [
              "0.7458562193736206"
            ]
          },
          "metadata": {},
          "execution_count": 31
        }
      ]
    },
    {
      "cell_type": "markdown",
      "source": [
        "- v-measure \n",
        "    - homogeneity와 completness 조화평균\n",
        "    - 1에 가까울수록 군집화가 잘되었다는 의미\n",
        "    "
      ],
      "metadata": {
        "id": "OYe8TIFd5J6o"
      }
    },
    {
      "cell_type": "code",
      "source": [
        "from sklearn.metrics import v_measure_score\n",
        "v_measure_score(y,kmeans.labels_)"
      ],
      "metadata": {
        "colab": {
          "base_uri": "https://localhost:8080/"
        },
        "id": "wvGUdXNw5vTW",
        "outputId": "e62a3b57-8806-4aa2-d6de-ea288e85af6a"
      },
      "execution_count": null,
      "outputs": [
        {
          "output_type": "execute_result",
          "data": {
            "text/plain": [
              "0.7418092176543222"
            ]
          },
          "metadata": {},
          "execution_count": 32
        }
      ]
    },
    {
      "cell_type": "markdown",
      "source": [
        "## 사전에 정의된 그룹이 없는 경우\n",
        "- silhouette coefficent(실루엣 계수)\n",
        "    - 군집내의 거리는 짧을수록, 군집간의 거리는 길수록 좋은 군집화이다. 이 부분을 평가하기 위한 지표\n",
        "    - -1 ~ 1 의 값을 가진다.\n",
        "        - 1에 가까울 수록 명확하게 군집화됨을 의미\n",
        "        - 0에 가까울 수록 군집간의 거리가 가까워 진다는 것을 의미\n",
        "        - 음수일 경우 잘못된 방식으로 군집화 되었다는 의미\n"
      ],
      "metadata": {
        "id": "vxdIqisO-FEm"
      }
    },
    {
      "cell_type": "code",
      "source": [
        "from sklearn.metrics import silhouette_score\n",
        "silhouette_score(x,kmeans.labels_)"
      ],
      "metadata": {
        "colab": {
          "base_uri": "https://localhost:8080/"
        },
        "id": "fBzwwtlA_nym",
        "outputId": "c86d90a5-0e75-46c2-9e47-c6e5b099a4e2"
      },
      "execution_count": null,
      "outputs": [
        {
          "output_type": "execute_result",
          "data": {
            "text/plain": [
              "0.18226446312670963"
            ]
          },
          "metadata": {},
          "execution_count": 34
        }
      ]
    },
    {
      "cell_type": "code",
      "source": [
        "def print_score(x,y,pred):\n",
        "    print(f\"homogeneity: {homogeneity_score(y,pred)}\")\n",
        "    print(f\"completeness: {completeness_score(y,pred)}\")\n",
        "    print(f\"v_measure: {v_measure_score(y,pred)}\")\n",
        "    print(f\"silhouette: {silhouette_score(x,pred)}\")"
      ],
      "metadata": {
        "id": "MIJP2XYe_8rC"
      },
      "execution_count": null,
      "outputs": []
    },
    {
      "cell_type": "code",
      "source": [
        "print_score(x,y,kmeans.labels_)"
      ],
      "metadata": {
        "colab": {
          "base_uri": "https://localhost:8080/"
        },
        "id": "SqfjbinrA-jb",
        "outputId": "c16211fa-19d6-4113-f00d-bf3a6ba84152"
      },
      "execution_count": null,
      "outputs": [
        {
          "output_type": "stream",
          "name": "stdout",
          "text": [
            "homogeneity: 0.7378058968326526\n",
            "completeness: 0.7458562193736206\n",
            "v_measure: 0.7418092176543222\n",
            "silhouette: 0.18226446312670963\n"
          ]
        }
      ]
    },
    {
      "cell_type": "markdown",
      "source": [
        "- MiniBatchKMeans\n",
        "    - mini-batch 개수만큼 무작위로 분리하여 K-means 군집화를 한다.\n",
        "    - 속도가 훨씬 빠르다\n",
        "    "
      ],
      "metadata": {
        "id": "GhWH68j4BY_5"
      }
    },
    {
      "cell_type": "code",
      "source": [
        "from sklearn.cluster import MiniBatchKMeans \n",
        "kmeans = MiniBatchKMeans(n_clusters=10,random_state=SEED,batch_size=512)\n",
        "kmeans.fit(x)"
      ],
      "metadata": {
        "colab": {
          "base_uri": "https://localhost:8080/"
        },
        "id": "qajsR_yXBCQv",
        "outputId": "9dd22458-87e4-454c-b636-00df9130d1c6"
      },
      "execution_count": null,
      "outputs": [
        {
          "output_type": "execute_result",
          "data": {
            "text/plain": [
              "MiniBatchKMeans(batch_size=512, n_clusters=10, random_state=42)"
            ]
          },
          "metadata": {},
          "execution_count": 37
        }
      ]
    },
    {
      "cell_type": "code",
      "source": [
        "print_score(x,y,kmeans.labels_)"
      ],
      "metadata": {
        "colab": {
          "base_uri": "https://localhost:8080/"
        },
        "id": "uxXQqjluB6Ms",
        "outputId": "5845ac6d-fca3-4734-f96d-c839ddf4b82a"
      },
      "execution_count": null,
      "outputs": [
        {
          "output_type": "stream",
          "name": "stdout",
          "text": [
            "homogeneity: 0.7129288903522628\n",
            "completeness: 0.7288991277425318\n",
            "v_measure: 0.7208255628252749\n",
            "silhouette: 0.18472538252636414\n"
          ]
        }
      ]
    },
    {
      "cell_type": "markdown",
      "source": [
        "# Mean Shift\n",
        "- K-means 와 유사하게 중심을 이동하면서 군집화하지만 다른점은 평균지점이 아니라, 데이터의 밀도가 가장 높은 지점을 중심으로 이동한다\n",
        "- 군집개수를 지정해줄수 없다\n",
        "- 중심점을 기준으로 일정 반경 내를 같은 군집으로 묶는다.\n",
        "- 반경을 벗어나는 데이터 포인트(샘플, 하나의 행)들에 대해서는 묶지 않는다.\n",
        "- 이상치를 걸러낼때 사용\n",
        "- 주요 파라미터\n",
        "    - bandwidth : None or Float\n",
        "        - None 일 경우에는 자동으로 반경을 추정\n",
        "    - cluster_all : 모든 샘플 군집 부여 여부\n",
        "        - True일 경우 모든 샘플에 강제로 군집부여\n",
        "        - False일 경우 반경 밖에 샘플들은 -1 부여\n",
        "        "
      ],
      "metadata": {
        "id": "paMahe0jCBh0"
      }
    },
    {
      "cell_type": "code",
      "source": [
        "from sklearn.cluster import MeanShift\n",
        "ms = MeanShift(bandwidth=0.1,cluster_all=False,n_jobs=-1)\n",
        "ms.fit(x)"
      ],
      "metadata": {
        "colab": {
          "base_uri": "https://localhost:8080/"
        },
        "id": "PmdgE_ExCScq",
        "outputId": "9427725c-5273-40f5-cf05-18be1f128c22"
      },
      "execution_count": null,
      "outputs": [
        {
          "output_type": "execute_result",
          "data": {
            "text/plain": [
              "MeanShift(bandwidth=0.1, cluster_all=False, n_jobs=-1)"
            ]
          },
          "metadata": {},
          "execution_count": 46
        }
      ]
    },
    {
      "cell_type": "code",
      "source": [
        "np.unique(ms.labels_)"
      ],
      "metadata": {
        "colab": {
          "base_uri": "https://localhost:8080/"
        },
        "id": "PRY5X3xDFDZs",
        "outputId": "e390138b-eb1e-4da6-b072-10160680dbf2"
      },
      "execution_count": null,
      "outputs": [
        {
          "output_type": "execute_result",
          "data": {
            "text/plain": [
              "array([-1,  0,  1,  2,  3,  4,  5,  6,  7,  8,  9, 10, 11, 12, 13, 14, 15,\n",
              "       16, 17, 18, 19, 20, 21, 22, 23, 24, 25, 26, 27, 28, 29, 30, 31, 32,\n",
              "       33, 34, 35, 36, 37, 38, 39, 40, 41, 42, 43, 44])"
            ]
          },
          "metadata": {},
          "execution_count": 47
        }
      ]
    },
    {
      "cell_type": "markdown",
      "source": [
        "# DBSCAN\n",
        "- 밀도기반 클러스터링\n",
        "- 데이터 샘플들이 몰려있는 지점을 찾아 묶어서 군집화\n",
        "- 주요 파라미터\n",
        "    - eps : 이웃으로 판단하는 최대거리\n",
        "    - min_samples : 이웃 반경내 최소 샘플수\n",
        "    "
      ],
      "metadata": {
        "id": "F1b1U3Z5FI1k"
      }
    },
    {
      "cell_type": "markdown",
      "source": [
        "- 사진"
      ],
      "metadata": {
        "id": "CHpFiVJQm_0_"
      }
    },
    {
      "cell_type": "code",
      "source": [
        "from sklearn.cluster import DBSCAN\n",
        "dbscan = DBSCAN(min_samples=3,eps=0.05,n_jobs=-1)\n",
        "dbscan.fit(x)"
      ],
      "metadata": {
        "colab": {
          "base_uri": "https://localhost:8080/"
        },
        "id": "EZKV_b01nUrQ",
        "outputId": "f699ec7c-b3f8-49fe-f1da-960b6a39e724"
      },
      "execution_count": null,
      "outputs": [
        {
          "output_type": "execute_result",
          "data": {
            "text/plain": [
              "DBSCAN(eps=0.05, min_samples=3, n_jobs=-1)"
            ]
          },
          "metadata": {},
          "execution_count": 53
        }
      ]
    },
    {
      "cell_type": "code",
      "source": [
        "np.unique(dbscan.labels_) # 안묶이는 애들 이상치로 -1로 나옴"
      ],
      "metadata": {
        "colab": {
          "base_uri": "https://localhost:8080/"
        },
        "id": "jZ60tqKKoM43",
        "outputId": "456c6089-c81b-4d11-bc72-b2dc0c82fa79"
      },
      "execution_count": null,
      "outputs": [
        {
          "output_type": "execute_result",
          "data": {
            "text/plain": [
              "array([-1,  0,  1,  2,  3,  4,  5,  6,  7,  8,  9, 10, 11, 12, 13, 14, 15,\n",
              "       16, 17, 18, 19, 20, 21, 22, 23, 24])"
            ]
          },
          "metadata": {},
          "execution_count": 55
        }
      ]
    },
    {
      "cell_type": "markdown",
      "source": [
        "# OPTICS\n",
        "- DBSCAN과 유사\n",
        "    - DBSCAN 을 빠르게 만든것\n",
        "- 주요 파라미터\n",
        "    - max_eps : 이웃으로 판단하는 최대거리\n",
        "    - min_samples : 이웃 반경내 최소 샘플수\n",
        "    "
      ],
      "metadata": {
        "id": "XlOKxgaPofsG"
      }
    },
    {
      "cell_type": "code",
      "source": [
        "from sklearn.cluster import OPTICS\n",
        "optics = OPTICS(max_eps=0.05, min_samples=3, n_jobs=-1)\n",
        "optics.fit(x)"
      ],
      "metadata": {
        "colab": {
          "base_uri": "https://localhost:8080/"
        },
        "id": "bP67r5AkpeHV",
        "outputId": "a3959e44-ebe5-4cbf-d02b-475000a30bd9"
      },
      "execution_count": null,
      "outputs": [
        {
          "output_type": "execute_result",
          "data": {
            "text/plain": [
              "OPTICS(max_eps=0.05, min_samples=3, n_jobs=-1)"
            ]
          },
          "metadata": {},
          "execution_count": 58
        }
      ]
    },
    {
      "cell_type": "code",
      "source": [
        "np.unique(optics.labels_)"
      ],
      "metadata": {
        "colab": {
          "base_uri": "https://localhost:8080/"
        },
        "id": "CuLn5VEBpyNc",
        "outputId": "7a61fa28-6997-4a92-b33a-0dcbf4a827c3"
      },
      "execution_count": null,
      "outputs": [
        {
          "output_type": "execute_result",
          "data": {
            "text/plain": [
              "array([-1,  0,  1,  2,  3,  4,  5,  6,  7,  8,  9, 10, 11, 12, 13, 14, 15,\n",
              "       16, 17, 18, 19])"
            ]
          },
          "metadata": {},
          "execution_count": 59
        }
      ]
    },
    {
      "cell_type": "markdown",
      "source": [
        "# AgglomerativeClustering\n"
      ],
      "metadata": {
        "id": "qXTI9_0eqyqT"
      }
    },
    {
      "cell_type": "code",
      "source": [
        "from sklearn.cluster import AgglomerativeClustering\n",
        "ac = AgglomerativeClustering(n_clusters=10)\n",
        "ac.fit(x)"
      ],
      "metadata": {
        "colab": {
          "base_uri": "https://localhost:8080/"
        },
        "id": "pgfjsGrQqbQz",
        "outputId": "116e5e74-5bae-4214-8c8a-9a0a015712d6"
      },
      "execution_count": null,
      "outputs": [
        {
          "output_type": "execute_result",
          "data": {
            "text/plain": [
              "AgglomerativeClustering(n_clusters=10)"
            ]
          },
          "metadata": {},
          "execution_count": 60
        }
      ]
    },
    {
      "cell_type": "code",
      "source": [
        "print_score(x,y,ac.labels_)"
      ],
      "metadata": {
        "colab": {
          "base_uri": "https://localhost:8080/"
        },
        "id": "CoipdXlwra0U",
        "outputId": "3eac1d93-da34-4d32-db5f-cba38b232ca5"
      },
      "execution_count": null,
      "outputs": [
        {
          "output_type": "stream",
          "name": "stdout",
          "text": [
            "homogeneity: 0.8575128719504723\n",
            "completeness: 0.8790955851724198\n",
            "v_measure: 0.8681701126909083\n",
            "silhouette: 0.17849659940596496\n"
          ]
        }
      ]
    },
    {
      "cell_type": "code",
      "source": [],
      "metadata": {
        "id": "bK0ekCDdrhw1"
      },
      "execution_count": null,
      "outputs": []
    }
  ]
}