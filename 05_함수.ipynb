{
  "nbformat": 4,
  "nbformat_minor": 0,
  "metadata": {
    "colab": {
      "provenance": [],
      "authorship_tag": "ABX9TyP1b34TWk6lPjy2WXxaJklv",
      "include_colab_link": true
    },
    "kernelspec": {
      "name": "python3",
      "display_name": "Python 3"
    },
    "language_info": {
      "name": "python"
    }
  },
  "cells": [
    {
      "cell_type": "markdown",
      "metadata": {
        "id": "view-in-github",
        "colab_type": "text"
      },
      "source": [
        "<a href=\"https://colab.research.google.com/github/dpcks/playdata/blob/main/05_%ED%95%A8%EC%88%98.ipynb\" target=\"_parent\"><img src=\"https://colab.research.google.com/assets/colab-badge.svg\" alt=\"Open In Colab\"/></a>"
      ]
    },
    {
      "cell_type": "markdown",
      "source": [
        "# 함수 (Function)\n",
        "- 코드의 반복을 줄이거나 어떠한 용도를 위해 코드를 모아둔 것\n",
        "- 어떠한 결과를 만들어내는 코드의 집합\n",
        "- (재사용할) 코드 묶음"
      ],
      "metadata": {
        "id": "IyWwHC6P8Kud"
      }
    },
    {
      "cell_type": "code",
      "source": [
        "num_list = [80, 90, 71,60,55,86] #몸무게 열\n",
        "\n",
        "avg = sum(num_list)/len(num_list)\n",
        "\n",
        "deviation_list = []# 편차를 담을 리스트\n",
        "\n",
        "for num in num_list:\n",
        "    deviation = avg - num\n",
        "    deviation_list.append(deviation**2)\n",
        "\n",
        "var = sum(deviation_list) / len(deviation_list)\n",
        "var ** 0.5"
      ],
      "metadata": {
        "colab": {
          "base_uri": "https://localhost:8080/"
        },
        "id": "XtFGJCP38xJS",
        "outputId": "6d6e05dc-f44e-44cd-9b8e-5668f67127e4"
      },
      "execution_count": null,
      "outputs": [
        {
          "output_type": "execute_result",
          "data": {
            "text/plain": [
              "12.918548250050733"
            ]
          },
          "metadata": {},
          "execution_count": 4
        }
      ]
    },
    {
      "cell_type": "code",
      "source": [
        "num_list = [180, 175,164,155,170]\n",
        "\n",
        "avg = sum(num_list)/len(num_list)\n",
        "\n",
        "deviation_list = []# 편차를 담을 리스트\n",
        "\n",
        "for num in num_list:\n",
        "    deviation = avg - num\n",
        "    deviation_list.append(deviation**2)\n",
        "\n",
        "var = sum(deviation_list) / len(deviation_list)\n",
        "var ** 0.5"
      ],
      "metadata": {
        "colab": {
          "base_uri": "https://localhost:8080/"
        },
        "id": "9HkxYRw59I0f",
        "outputId": "34f57874-bf7c-43a3-ab1b-f0e7201da765"
      },
      "execution_count": null,
      "outputs": [
        {
          "output_type": "execute_result",
          "data": {
            "text/plain": [
              "8.704022058795578"
            ]
          },
          "metadata": {},
          "execution_count": 5
        }
      ]
    },
    {
      "cell_type": "markdown",
      "source": [
        "## 함수 정의 방법\n",
        "```python\n",
        "def <function_name>(parameter1,parameter2, ...):\n",
        "    code context\n",
        "```"
      ],
      "metadata": {
        "id": "HqayUUdy-Bck"
      }
    },
    {
      "cell_type": "code",
      "source": [
        "def get_std(num_list):\n",
        "    avg = sum(num_list)/len(num_list)\n",
        "\n",
        "    deviation_list = []# 편차를 담을 리스트\n",
        "\n",
        "    for num in num_list:\n",
        "        deviation = avg - num\n",
        "        deviation_list.append(deviation**2)\n",
        "\n",
        "    var = sum(deviation_list) / len(deviation_list)\n",
        "    return var ** 0.5"
      ],
      "metadata": {
        "id": "x4WhULu3-l0t"
      },
      "execution_count": null,
      "outputs": []
    },
    {
      "cell_type": "code",
      "source": [
        "num_list = [23,5324,3234,332,12]\n",
        "get_std(num_list)"
      ],
      "metadata": {
        "colab": {
          "base_uri": "https://localhost:8080/"
        },
        "id": "fXbIoqFn_RtQ",
        "outputId": "6f9edd20-1adb-499e-b2f5-32584ca2ac5a"
      },
      "execution_count": null,
      "outputs": [
        {
          "output_type": "execute_result",
          "data": {
            "text/plain": [
              "2143.9917910290606"
            ]
          },
          "metadata": {},
          "execution_count": 7
        }
      ]
    },
    {
      "cell_type": "markdown",
      "source": [
        "## 함수를 정의할때의 형태는 4가지가 있다."
      ],
      "metadata": {
        "id": "6mBteebx_btM"
      }
    },
    {
      "cell_type": "markdown",
      "source": [
        "- 파라미터 X, 리턴 X"
      ],
      "metadata": {
        "id": "OT0rGtoIAcWr"
      }
    },
    {
      "cell_type": "code",
      "source": [
        "def do_func_type1():\n",
        "    print(\"파라미터X, 리턴X\")\n",
        "do_func_type1()"
      ],
      "metadata": {
        "colab": {
          "base_uri": "https://localhost:8080/"
        },
        "id": "2azlA44hAgSr",
        "outputId": "3ded6fe7-5bd2-42df-c479-1c83254cda5f"
      },
      "execution_count": null,
      "outputs": [
        {
          "output_type": "stream",
          "name": "stdout",
          "text": [
            "파라미터X, 리턴X\n"
          ]
        }
      ]
    },
    {
      "cell_type": "code",
      "source": [
        "a = print(1,2,3)\n",
        "print(a)"
      ],
      "metadata": {
        "colab": {
          "base_uri": "https://localhost:8080/"
        },
        "id": "_3P4yKVHAuEk",
        "outputId": "0fed600f-3935-47ee-ceca-a8ab4ffcdb84"
      },
      "execution_count": null,
      "outputs": [
        {
          "output_type": "stream",
          "name": "stdout",
          "text": [
            "1 2 3\n",
            "None\n"
          ]
        }
      ]
    },
    {
      "cell_type": "markdown",
      "source": [
        "-  파라미터O ,리턴 X"
      ],
      "metadata": {
        "id": "WprU4tVpA3v0"
      }
    },
    {
      "cell_type": "code",
      "source": [
        "def do_func_type2(num1,num2):\n",
        "    if num1>num2:\n",
        "        print(\"BIG\")\n",
        "    else:\n",
        "        print(\"SMALL\")\n",
        "do_func_type2(2,3)"
      ],
      "metadata": {
        "colab": {
          "base_uri": "https://localhost:8080/"
        },
        "id": "Xx_VxxysA8ej",
        "outputId": "2a29611d-d044-4abc-867c-edd741b6765e"
      },
      "execution_count": null,
      "outputs": [
        {
          "output_type": "stream",
          "name": "stdout",
          "text": [
            "SMALL\n"
          ]
        }
      ]
    },
    {
      "cell_type": "markdown",
      "source": [
        "- 파라미터 X , 리턴 O"
      ],
      "metadata": {
        "id": "kgpww7BUBMLU"
      }
    },
    {
      "cell_type": "code",
      "source": [
        "def do_func_type3():\n",
        "    lst = list(range(1,101,2))\n",
        "    return sum(lst)\n",
        "do_func_type3()"
      ],
      "metadata": {
        "colab": {
          "base_uri": "https://localhost:8080/"
        },
        "id": "U4VHG8GzBXDD",
        "outputId": "00a4b27e-9cc4-41b6-8f93-3aa4e425c97f"
      },
      "execution_count": null,
      "outputs": [
        {
          "output_type": "execute_result",
          "data": {
            "text/plain": [
              "2500"
            ]
          },
          "metadata": {},
          "execution_count": 16
        }
      ]
    },
    {
      "cell_type": "markdown",
      "source": [
        "- 파라미터 O, 리턴 O"
      ],
      "metadata": {
        "id": "xXbqagPEBmgr"
      }
    },
    {
      "cell_type": "code",
      "source": [
        "def do_func_type4(num1,num2):\n",
        "    return num1+num2\n",
        "do_func_type4(10,20)"
      ],
      "metadata": {
        "colab": {
          "base_uri": "https://localhost:8080/"
        },
        "id": "LCESDqmdB2xr",
        "outputId": "303509d1-5f0f-45b7-cb0a-425acef2eaf2"
      },
      "execution_count": null,
      "outputs": [
        {
          "output_type": "execute_result",
          "data": {
            "text/plain": [
              "30"
            ]
          },
          "metadata": {},
          "execution_count": 15
        }
      ]
    },
    {
      "cell_type": "markdown",
      "source": [
        "## 함수를 정의할때 명명 규칙에 대한 관례\n",
        "- 함수이름은 동사로 시작하며, 어떠한 기능을 추측할수 있게한다.\n",
        "- 함수이름은 소문자로 작성하며, snake case 따른다.(ex, add_number)\n"
      ],
      "metadata": {
        "id": "FHQ6Hl0xB64t"
      }
    },
    {
      "cell_type": "markdown",
      "source": [
        "```\n",
        "리스트를 아규먼트(인자)로 받아서 짝수만 출력하는 함수를 만들어 보세요.\n",
        "```"
      ],
      "metadata": {
        "id": "ob2T_rljCzMR"
      }
    },
    {
      "cell_type": "code",
      "source": [
        "def print_even(lst):\n",
        "    for i in lst:\n",
        "        if i % 2==0:\n",
        "            print(i)"
      ],
      "metadata": {
        "id": "yCrq5K7RJ3IT"
      },
      "execution_count": null,
      "outputs": []
    },
    {
      "cell_type": "code",
      "source": [
        "print_even(list(range(1,10)))"
      ],
      "metadata": {
        "colab": {
          "base_uri": "https://localhost:8080/"
        },
        "id": "T5_Igd6HKWA-",
        "outputId": "93955bf1-3275-43d2-99fd-9121940960e0"
      },
      "execution_count": null,
      "outputs": [
        {
          "output_type": "stream",
          "name": "stdout",
          "text": [
            "2\n",
            "4\n",
            "6\n",
            "8\n"
          ]
        }
      ]
    },
    {
      "cell_type": "code",
      "source": [
        "num_list = [10,20,1]"
      ],
      "metadata": {
        "id": "so8bEzpLEkOp"
      },
      "execution_count": null,
      "outputs": []
    },
    {
      "cell_type": "code",
      "source": [
        "def even_number(lst):\n",
        "    for i in lst:\n",
        "        if i % 2 == 0:\n",
        "            print(i)\n"
      ],
      "metadata": {
        "id": "v_My54xpDbUC"
      },
      "execution_count": null,
      "outputs": []
    },
    {
      "cell_type": "code",
      "source": [
        "even_number(num_list)"
      ],
      "metadata": {
        "colab": {
          "base_uri": "https://localhost:8080/"
        },
        "id": "pfOX1Q_tDx0D",
        "outputId": "a52c4524-dfe6-4cb8-fc8c-33a2b45a05d6"
      },
      "execution_count": null,
      "outputs": [
        {
          "output_type": "stream",
          "name": "stdout",
          "text": [
            "10\n",
            "20\n"
          ]
        }
      ]
    },
    {
      "cell_type": "markdown",
      "source": [
        "```\n",
        "두개의 숫자를 입력받고, 세번째 인자로 plus,minus,multiply,divide 중에 입력을 받아 덧셈,뺄셈,곱하기,나누기 중에 결과를 반환하는 함수를 만드시오.\n",
        "```"
      ],
      "metadata": {
        "id": "xj2mQPsHGDSR"
      }
    },
    {
      "cell_type": "code",
      "source": [
        "def calculate(n1,n2,act):\n",
        "\n",
        "    if act == \"plus\":\n",
        "        result = n1 + n2\n",
        "    elif act == \"minus\":\n",
        "        result = n1 - n2\n",
        "    elif act == \"multiply\":\n",
        "        result == n1 * n2\n",
        "    else:\n",
        "        result = n1 / n2 if n2 else 0\n",
        "    return result\n",
        "calculate(10,0,\"divide\")"
      ],
      "metadata": {
        "colab": {
          "base_uri": "https://localhost:8080/"
        },
        "id": "PscQR33-LBrJ",
        "outputId": "249e21d2-2f2a-4575-844e-97954652d5b2"
      },
      "execution_count": null,
      "outputs": [
        {
          "output_type": "execute_result",
          "data": {
            "text/plain": [
              "0"
            ]
          },
          "metadata": {},
          "execution_count": 46
        }
      ]
    },
    {
      "cell_type": "markdown",
      "source": [
        "- 이메일이 담긴 리스트를 인자로 받아 아이디만 추출해서 다시 새로운 리스트에 담아 해당 리스트를 반환하는 함수를 만들어주세요.\n",
        "```\n",
        "email_list = [\"user1004@gmail.com\",\"user22@naver.com\",\"user30@gmail.com\",\"user100@hanmail.net\"]\n",
        "```"
      ],
      "metadata": {
        "id": "5VDf9XTqL293"
      }
    },
    {
      "cell_type": "code",
      "source": [
        "email_list = [\"user1004@gmail.com\",\"user22@naver.com\",\"user30@gmail.com\",\"user100@hanmail.net\"]\n",
        "\n",
        "def id(email_list):\n",
        "    tmp = []\n",
        "    for email in email_list:\n",
        "        email.split(\"@\")[0]\n",
        "        tmp.append(email)\n",
        "    return tmp\n"
      ],
      "metadata": {
        "id": "dovf8OcpMp6o"
      },
      "execution_count": null,
      "outputs": []
    },
    {
      "cell_type": "code",
      "source": [
        "def email2id(email_list):\n",
        "    return [email.split(\"@\")[0] for email in email_list]\n",
        "email2id(email_list)"
      ],
      "metadata": {
        "colab": {
          "base_uri": "https://localhost:8080/"
        },
        "id": "E4cOaSKNOLaV",
        "outputId": "22da76da-41cc-493f-9aa0-6c4e239d0571"
      },
      "execution_count": null,
      "outputs": [
        {
          "output_type": "execute_result",
          "data": {
            "text/plain": [
              "['user1004', 'user22', 'user30', 'user100']"
            ]
          },
          "metadata": {},
          "execution_count": 78
        }
      ]
    },
    {
      "cell_type": "markdown",
      "source": [
        "```\n",
        "리스트를 인자로 받아 Min-Max Scaling 적용하여\n",
        "리스트로 반환하는 함수를 만드시오\n",
        "```"
      ],
      "metadata": {
        "id": "aTpZS8H9QSc1"
      }
    },
    {
      "cell_type": "code",
      "source": [],
      "metadata": {
        "id": "l3Y5YrorQ-iM"
      },
      "execution_count": null,
      "outputs": []
    },
    {
      "cell_type": "code",
      "source": [
        "def scale_minmax(lst):\n",
        "    minmax = []\n",
        "    min_value = min(lst)\n",
        "    size_value = max(lst)-min_value\n",
        "    \n",
        "    for x in lst:\n",
        "        x = (x-min_value) / size_value\n",
        "        minmax.append(x)\n",
        "\n",
        "    return minmax\n",
        "scale_minmax(lst)"
      ],
      "metadata": {
        "colab": {
          "base_uri": "https://localhost:8080/"
        },
        "id": "3ERsimUXRJD0",
        "outputId": "0b42192b-655e-4189-ff7a-d9f84e7d9c89"
      },
      "execution_count": null,
      "outputs": [
        {
          "output_type": "execute_result",
          "data": {
            "text/plain": [
              "[0.19642857142857142,\n",
              " 0.24107142857142858,\n",
              " 0.2857142857142857,\n",
              " 0.7321428571428571,\n",
              " 0.0,\n",
              " 1.0]"
            ]
          },
          "metadata": {},
          "execution_count": 86
        }
      ]
    },
    {
      "cell_type": "code",
      "source": [
        "lst = [3000,3500,4000,9000,800,12000]\n",
        "scale_minmax(lst)"
      ],
      "metadata": {
        "colab": {
          "base_uri": "https://localhost:8080/"
        },
        "id": "jzOj6Pp_SHck",
        "outputId": "0d3745b9-4b1c-4338-99a2-b016b33af02f"
      },
      "execution_count": null,
      "outputs": [
        {
          "output_type": "execute_result",
          "data": {
            "text/plain": [
              "[0.19642857142857142,\n",
              " 0.24107142857142858,\n",
              " 0.2857142857142857,\n",
              " 0.7321428571428571,\n",
              " 0.0,\n",
              " 1.0]"
            ]
          },
          "metadata": {},
          "execution_count": 87
        }
      ]
    },
    {
      "cell_type": "code",
      "source": [
        "def scale_minmax(lst):\n",
        "    min_value = min(lst)\n",
        "    size_value = max(lst)-min_value\n",
        "    return [(x-min_value) / size_value for x in lst]"
      ],
      "metadata": {
        "id": "pUTVu19qST1b"
      },
      "execution_count": null,
      "outputs": []
    },
    {
      "cell_type": "markdown",
      "source": [
        "```\n",
        "리스트를 인자로 받아 평균을 구하는 함수와 표준편차를 구하는 함수를 각각 구현하세요.\n",
        "```"
      ],
      "metadata": {
        "id": "HVBZ7ex5T1LL"
      }
    },
    {
      "cell_type": "code",
      "source": [
        "score1 = [100,80,62]\n",
        "score2 = [90,81,70]\n",
        "\n",
        "def get_avg(lst):\n",
        "    avg = sum(lst) / len(lst)\n",
        "    return avg\n",
        "def get_std(lst):\n",
        "    avg = get_avg(lst)\n",
        "    diff_list = [(avg - i) ** 2 for i in lst]\n",
        "    var = sum(diff_list) / len(diff_list)\n",
        "    return var **0.5"
      ],
      "metadata": {
        "id": "PfwbkGrbYIQg"
      },
      "execution_count": null,
      "outputs": []
    },
    {
      "cell_type": "code",
      "source": [
        "    get_avg(score1) , get_std(score1)"
      ],
      "metadata": {
        "colab": {
          "base_uri": "https://localhost:8080/"
        },
        "id": "0ncdRyk6YZyo",
        "outputId": "8f8e5474-5db7-4fc5-d51c-147831c3ab24"
      },
      "execution_count": null,
      "outputs": [
        {
          "output_type": "execute_result",
          "data": {
            "text/plain": [
              "(80.66666666666667, 15.520595635763755)"
            ]
          },
          "metadata": {},
          "execution_count": 97
        }
      ]
    },
    {
      "cell_type": "markdown",
      "source": [
        "## 변수의 사용범위(Scope)\n",
        "- 지역변수(local): 함수 내부에서 만들어진 지역변수는 함수 내에서만 사용가능(파라미터포함)\n",
        "- 전역변수(global): 함수 밖에서 만들어진 변수 (어디서든 사용가능)\n",
        "- 파이썬의 제어문은 해당 안된다. 제어문에 변수는 전역변수이다."
      ],
      "metadata": {
        "id": "2NOP_SniZBPR"
      }
    },
    {
      "cell_type": "code",
      "source": [
        "gv = 10   # 함수를 만들때 전역변수를 사용하는건 안좋은 습관 항상 함수안에서 파라미터로 받아와야한다.\n",
        "\n",
        "def do_func():\n",
        "    print(gv)\n",
        "do_func()  "
      ],
      "metadata": {
        "colab": {
          "base_uri": "https://localhost:8080/"
        },
        "id": "9spoKPm0ba__",
        "outputId": "510a7a30-2451-4ade-f082-159ecdb2c848"
      },
      "execution_count": null,
      "outputs": [
        {
          "output_type": "stream",
          "name": "stdout",
          "text": [
            "10\n"
          ]
        }
      ]
    },
    {
      "cell_type": "code",
      "source": [
        "gv = 10\n",
        "\n",
        "def do_func():\n",
        "    gv = 100    #지역변수는 별도의 공간이 있기때문 전역변수랑 상관없음\n",
        "    print(gv)\n",
        "do_func()\n"
      ],
      "metadata": {
        "colab": {
          "base_uri": "https://localhost:8080/"
        },
        "id": "h6Lipw0xcseW",
        "outputId": "b8b2c639-6d67-49f6-dfd9-05fca2fa9b19"
      },
      "execution_count": null,
      "outputs": [
        {
          "output_type": "stream",
          "name": "stdout",
          "text": [
            "100\n"
          ]
        }
      ]
    },
    {
      "cell_type": "code",
      "source": [
        "gv"
      ],
      "metadata": {
        "colab": {
          "base_uri": "https://localhost:8080/"
        },
        "id": "FSfssg8DdpOH",
        "outputId": "e9b2f0ef-8aef-411a-bdd4-c7d194153b5c"
      },
      "execution_count": null,
      "outputs": [
        {
          "output_type": "execute_result",
          "data": {
            "text/plain": [
              "10"
            ]
          },
          "metadata": {},
          "execution_count": 101
        }
      ]
    },
    {
      "cell_type": "code",
      "source": [
        "def do_func():\n",
        "    loc = 10\n",
        "    print(loc)\n",
        "\n",
        "do_func()"
      ],
      "metadata": {
        "colab": {
          "base_uri": "https://localhost:8080/"
        },
        "id": "BeIrfoFqdwNf",
        "outputId": "43026fcf-f7df-4964-c57f-449d04f9d1bb"
      },
      "execution_count": null,
      "outputs": [
        {
          "output_type": "stream",
          "name": "stdout",
          "text": [
            "10\n"
          ]
        }
      ]
    },
    {
      "cell_type": "code",
      "source": [
        "print(loc)  #지역변수는 밖에서는 불가"
      ],
      "metadata": {
        "colab": {
          "base_uri": "https://localhost:8080/",
          "height": 176
        },
        "id": "-mpvmysId6ze",
        "outputId": "f1bb9b43-eff8-4aad-cca4-6cae58938a8b"
      },
      "execution_count": null,
      "outputs": [
        {
          "output_type": "error",
          "ename": "NameError",
          "evalue": "ignored",
          "traceback": [
            "\u001b[0;31m---------------------------------------------------------------------------\u001b[0m",
            "\u001b[0;31mNameError\u001b[0m                                 Traceback (most recent call last)",
            "\u001b[0;32m<ipython-input-103-d793374fc475>\u001b[0m in \u001b[0;36m<module>\u001b[0;34m()\u001b[0m\n\u001b[0;32m----> 1\u001b[0;31m \u001b[0mprint\u001b[0m\u001b[0;34m(\u001b[0m\u001b[0mloc\u001b[0m\u001b[0;34m)\u001b[0m  \u001b[0;31m#지역변수는 밖에서는 불가\u001b[0m\u001b[0;34m\u001b[0m\u001b[0;34m\u001b[0m\u001b[0m\n\u001b[0m",
            "\u001b[0;31mNameError\u001b[0m: name 'loc' is not defined"
          ]
        }
      ]
    },
    {
      "cell_type": "code",
      "source": [
        "# bad  사용하지 말것 되도록이면 \n",
        "def do_func():\n",
        "    global loc\n",
        "    loc = 100\n",
        "do_func()"
      ],
      "metadata": {
        "id": "xMf96dLbeFK7"
      },
      "execution_count": null,
      "outputs": []
    },
    {
      "cell_type": "code",
      "source": [
        "print(loc)"
      ],
      "metadata": {
        "colab": {
          "base_uri": "https://localhost:8080/"
        },
        "id": "tVWEwpzVeSCd",
        "outputId": "77958dea-a7ee-4543-eae0-93ea4aa14029"
      },
      "execution_count": null,
      "outputs": [
        {
          "output_type": "stream",
          "name": "stdout",
          "text": [
            "100\n"
          ]
        }
      ]
    },
    {
      "cell_type": "markdown",
      "source": [
        "*** 결론은 함수내에서 변수를 사용할때는 파라미터를 정의해서 인자를 받거나 지역변수를 선언해서 사용하세요 ***"
      ],
      "metadata": {
        "id": "PQcbBZUqea6d"
      }
    },
    {
      "cell_type": "code",
      "source": [
        "# 얕은 복사 vs 깊은 복사 "
      ],
      "metadata": {
        "id": "fvVyekeee-pV"
      },
      "execution_count": null,
      "outputs": []
    },
    {
      "cell_type": "code",
      "source": [
        "data =[\n",
        "    [None,2,3],\n",
        "    [4,5,6]\n",
        "]"
      ],
      "metadata": {
        "id": "n3vyB4smfQnV"
      },
      "execution_count": null,
      "outputs": []
    },
    {
      "cell_type": "code",
      "source": [
        "def do_func(lst):\n",
        "    lst[0][0] = 100\n",
        "    return lst"
      ],
      "metadata": {
        "id": "TLCl7hrefcOJ"
      },
      "execution_count": null,
      "outputs": []
    },
    {
      "cell_type": "code",
      "source": [
        "fill_data = do_func(data[:])\n",
        "fill_data"
      ],
      "metadata": {
        "colab": {
          "base_uri": "https://localhost:8080/"
        },
        "id": "4ryWATTZfvPd",
        "outputId": "3bae1d36-6dc6-404d-9356-f785641dd3a7"
      },
      "execution_count": null,
      "outputs": [
        {
          "output_type": "execute_result",
          "data": {
            "text/plain": [
              "[[100, 2, 3], [4, 5, 6]]"
            ]
          },
          "metadata": {},
          "execution_count": 114
        }
      ]
    },
    {
      "cell_type": "code",
      "source": [
        "data"
      ],
      "metadata": {
        "colab": {
          "base_uri": "https://localhost:8080/"
        },
        "id": "vbg60ln5f6h9",
        "outputId": "90dffce3-92e0-44f7-c4a2-5938b9c763c8"
      },
      "execution_count": null,
      "outputs": [
        {
          "output_type": "execute_result",
          "data": {
            "text/plain": [
              "[[100, 2, 3], [4, 5, 6]]"
            ]
          },
          "metadata": {},
          "execution_count": 115
        }
      ]
    },
    {
      "cell_type": "code",
      "source": [
        "a = [1,2,3]\n",
        "b = a\n",
        "b.append(5)\n",
        "print(a)\n",
        "print(b)"
      ],
      "metadata": {
        "colab": {
          "base_uri": "https://localhost:8080/"
        },
        "id": "_c-4FlP2gBAV",
        "outputId": "c9b8dd43-7a97-408b-af22-bd078b76be20"
      },
      "execution_count": null,
      "outputs": [
        {
          "output_type": "stream",
          "name": "stdout",
          "text": [
            "[1, 2, 3, 5]\n",
            "[1, 2, 3, 5]\n"
          ]
        }
      ]
    },
    {
      "cell_type": "code",
      "source": [
        "a = [1,2,3]\n",
        "b = a[:]\n",
        "\n",
        "b.append(5)\n",
        "print(a)\n",
        "print(b)"
      ],
      "metadata": {
        "colab": {
          "base_uri": "https://localhost:8080/"
        },
        "id": "Gmf3yQGhgOs8",
        "outputId": "910ec5d9-b087-4a0a-dc77-2b568783e10e"
      },
      "execution_count": null,
      "outputs": [
        {
          "output_type": "stream",
          "name": "stdout",
          "text": [
            "[1, 2, 3]\n",
            "[1, 2, 3, 5]\n"
          ]
        }
      ]
    },
    {
      "cell_type": "code",
      "source": [
        "a = [1,2,[3,4]]\n",
        "b = a[:]\n",
        "\n",
        "b[2].append(5)\n",
        "print(a)\n",
        "print(b)"
      ],
      "metadata": {
        "colab": {
          "base_uri": "https://localhost:8080/"
        },
        "id": "Kq8OVRqmgl1k",
        "outputId": "ad1873ad-b627-4877-9ed8-b602fde73fdf"
      },
      "execution_count": null,
      "outputs": [
        {
          "output_type": "stream",
          "name": "stdout",
          "text": [
            "[1, 2, [3, 4, 5]]\n",
            "[1, 2, [3, 4, 5]]\n"
          ]
        }
      ]
    },
    {
      "cell_type": "code",
      "source": [
        "import copy\n",
        "\n",
        "a = [1,2,[3,4]]\n",
        "b = copy.deepcopy(a)\n",
        "\n",
        "b[2].append(5)\n",
        "print(a)\n",
        "print(b)"
      ],
      "metadata": {
        "colab": {
          "base_uri": "https://localhost:8080/"
        },
        "id": "SbEYG9Ttg89k",
        "outputId": "5df89bc1-d57a-4809-c344-0aa8f7ed35a7"
      },
      "execution_count": null,
      "outputs": [
        {
          "output_type": "stream",
          "name": "stdout",
          "text": [
            "[1, 2, [3, 4]]\n",
            "[1, 2, [3, 4, 5]]\n"
          ]
        }
      ]
    },
    {
      "cell_type": "markdown",
      "source": [
        "# 키워드 아규먼트"
      ],
      "metadata": {
        "id": "FnEXif0nhy_D"
      }
    },
    {
      "cell_type": "code",
      "source": [
        "def do_func(a,b,c):\n",
        "    print(a,b,c)\n",
        "\n",
        "do_func(1,2,3) #positional argument"
      ],
      "metadata": {
        "colab": {
          "base_uri": "https://localhost:8080/"
        },
        "id": "hx9aMVZuBNIj",
        "outputId": "ae3f5dbe-756d-4793-a456-a1881bfa15d9"
      },
      "execution_count": null,
      "outputs": [
        {
          "output_type": "stream",
          "name": "stdout",
          "text": [
            "1 2 3\n"
          ]
        }
      ]
    },
    {
      "cell_type": "code",
      "source": [
        "do_func(a=1, b=2, c=3)"
      ],
      "metadata": {
        "colab": {
          "base_uri": "https://localhost:8080/"
        },
        "id": "SiBb2OX5BYHo",
        "outputId": "4ab5fb09-2524-43d4-c5bc-25df00f98ab0"
      },
      "execution_count": null,
      "outputs": [
        {
          "output_type": "stream",
          "name": "stdout",
          "text": [
            "1 2 3\n"
          ]
        }
      ]
    },
    {
      "cell_type": "code",
      "source": [
        "do_func(b=2,a=1,c=3) "
      ],
      "metadata": {
        "colab": {
          "base_uri": "https://localhost:8080/"
        },
        "id": "_hKYS3I2Bs4i",
        "outputId": "60093d3b-177a-4d94-a381-abdb37253ea5"
      },
      "execution_count": null,
      "outputs": [
        {
          "output_type": "stream",
          "name": "stdout",
          "text": [
            "1 2 3\n"
          ]
        }
      ]
    },
    {
      "cell_type": "markdown",
      "source": [
        "#  파라미터를 정의하는 방식"
      ],
      "metadata": {
        "id": "j6Ecno0RBxJw"
      }
    },
    {
      "cell_type": "markdown",
      "source": [
        "## 디폴트(default) 파라미터\n",
        "- 아규먼트를 넣어주지 않을때 파라미터에 지정된 초깃값을 사용한다."
      ],
      "metadata": {
        "id": "u323R70ECJ-L"
      }
    },
    {
      "cell_type": "code",
      "source": [
        "print(1,2,3,sep=\"/\")"
      ],
      "metadata": {
        "colab": {
          "base_uri": "https://localhost:8080/"
        },
        "id": "QuakiKHYCO7h",
        "outputId": "f50a8e7a-555b-4852-de6b-fcf70c7aa34f"
      },
      "execution_count": null,
      "outputs": [
        {
          "output_type": "stream",
          "name": "stdout",
          "text": [
            "1/2/3\n"
          ]
        }
      ]
    },
    {
      "cell_type": "code",
      "source": [
        "def do_func(a,b,c=1):\n",
        "    print(a,b,c)\n",
        "do_func(\"hello\",30)"
      ],
      "metadata": {
        "colab": {
          "base_uri": "https://localhost:8080/"
        },
        "id": "9jGiy1HdCZro",
        "outputId": "f83568b2-0547-4110-a55d-6b46978cd60c"
      },
      "execution_count": null,
      "outputs": [
        {
          "output_type": "stream",
          "name": "stdout",
          "text": [
            "hello 30 1\n"
          ]
        }
      ]
    },
    {
      "cell_type": "markdown",
      "source": [
        "- 디폴트 파라미터는 일반 파라미터 뒤에 넣어줘야한다."
      ],
      "metadata": {
        "id": "QRUhnxQXDjkK"
      }
    },
    {
      "cell_type": "code",
      "source": [
        "def do_func(a,b=1,c):\n",
        "    print(a,b,c)"
      ],
      "metadata": {
        "colab": {
          "base_uri": "https://localhost:8080/",
          "height": 138
        },
        "id": "CvOepl6EC-3Z",
        "outputId": "eb6faa12-7e75-4aa2-e42f-fe1d103766a1"
      },
      "execution_count": null,
      "outputs": [
        {
          "output_type": "error",
          "ename": "SyntaxError",
          "evalue": "ignored",
          "traceback": [
            "\u001b[0;36m  File \u001b[0;32m\"<ipython-input-133-0ceec5e1e3f9>\"\u001b[0;36m, line \u001b[0;32m1\u001b[0m\n\u001b[0;31m    def do_func(a,b=1,c):\u001b[0m\n\u001b[0m               ^\u001b[0m\n\u001b[0;31mSyntaxError\u001b[0m\u001b[0;31m:\u001b[0m non-default argument follows default argument\n"
          ]
        }
      ]
    },
    {
      "cell_type": "markdown",
      "source": [
        "```\n",
        "행과 열로 구성되어 있는 리스트를 인자로 받고 추가로 열을 선택할 수 있는 정수를 인자로 받아 열부분 리스트로 반환하는 함수를 만드세요.\n",
        "\n",
        "lst = [\n",
        "    [1,2,3]\n",
        "    [4,5,6]\n",
        "    [7,8,9]\n",
        "]\n",
        "\n",
        "def get_column(lst, i=0):\n",
        "    code context\n",
        "    \n",
        "get_column(lst,1)\n",
        "\n",
        "output:\n",
        "[2,5,8]\n",
        "```"
      ],
      "metadata": {
        "id": "FuDlyaf1DaXR"
      }
    },
    {
      "cell_type": "code",
      "source": [
        "lst = [\n",
        "    [1,2,3],\n",
        "    [4,5,6],\n",
        "    [7,8,9]\n",
        "]\n",
        "\n",
        "def get_column(lst, i=0):\n",
        "    return[n[i] for n in lst]"
      ],
      "metadata": {
        "id": "ob6hIbGcEVs3"
      },
      "execution_count": null,
      "outputs": []
    },
    {
      "cell_type": "code",
      "source": [
        "lst = [\n",
        "    [1,2,3],\n",
        "    [4,5,6],\n",
        "    [7,8,9]\n",
        "]\n",
        "lst[1]"
      ],
      "metadata": {
        "colab": {
          "base_uri": "https://localhost:8080/"
        },
        "id": "FszW_fE0FxZe",
        "outputId": "1983319d-7c36-49f3-d8e0-5ec527e364b2"
      },
      "execution_count": null,
      "outputs": [
        {
          "output_type": "execute_result",
          "data": {
            "text/plain": [
              "[4, 5, 6]"
            ]
          },
          "metadata": {},
          "execution_count": 135
        }
      ]
    },
    {
      "cell_type": "markdown",
      "source": [
        "## 가변 파라미터\n",
        "- 함수를 정의하면서 아규먼트가 n개 이상이 들어 올수 있다면 가변파라미터를 정의해주면된다.(0개포함)\n",
        "- `*` 를 이용해서 파라미터명을 정의해주면된다.\n",
        "- 일반적으로 `*args` 표현\n",
        "- 함수내부에서는 튜플 묶인다.\n",
        " "
      ],
      "metadata": {
        "id": "n1KKNBqDFyrg"
      }
    },
    {
      "cell_type": "code",
      "source": [
        "print(1,2,3,4,55,56)"
      ],
      "metadata": {
        "colab": {
          "base_uri": "https://localhost:8080/"
        },
        "id": "CAcz5TcuHF2C",
        "outputId": "af5d60bd-9f09-43dc-e811-1ca4fe6515fd"
      },
      "execution_count": null,
      "outputs": [
        {
          "output_type": "stream",
          "name": "stdout",
          "text": [
            "1 2 3 4 55 56\n"
          ]
        }
      ]
    },
    {
      "cell_type": "code",
      "source": [
        "def do_func(*args):# packing\n",
        "    print(args) \n",
        "    print(sum(args))\n",
        "    print(list(args))\n",
        "\n",
        "do_func(1,2,3,4,5)"
      ],
      "metadata": {
        "colab": {
          "base_uri": "https://localhost:8080/"
        },
        "id": "YFPQnA-iHv3m",
        "outputId": "c61a5257-a682-4132-950d-9792de95e770"
      },
      "execution_count": null,
      "outputs": [
        {
          "output_type": "stream",
          "name": "stdout",
          "text": [
            "(1, 2, 3, 4, 5)\n",
            "15\n",
            "[1, 2, 3, 4, 5]\n"
          ]
        }
      ]
    },
    {
      "cell_type": "code",
      "source": [
        "def do_func(a,*args, b=100):\n",
        "    print(a)\n",
        "    print(args)\n",
        "    print(b)\n",
        "\n",
        "do_func(1,2,3,4,5,6,7,200)"
      ],
      "metadata": {
        "colab": {
          "base_uri": "https://localhost:8080/"
        },
        "id": "ozO9IsGjIAam",
        "outputId": "74486137-c71e-4a85-c96b-4d1b8b533973"
      },
      "execution_count": null,
      "outputs": [
        {
          "output_type": "stream",
          "name": "stdout",
          "text": [
            "1\n",
            "(2, 3, 4, 5, 6, 7, 200)\n",
            "100\n"
          ]
        }
      ]
    },
    {
      "cell_type": "code",
      "source": [
        "do_func(1,2,3,4,5,6,7,b=200)"
      ],
      "metadata": {
        "colab": {
          "base_uri": "https://localhost:8080/"
        },
        "id": "NNK3t2H8I9e1",
        "outputId": "470430f1-ecbc-46c3-9c01-08e337f633c8"
      },
      "execution_count": null,
      "outputs": [
        {
          "output_type": "stream",
          "name": "stdout",
          "text": [
            "1\n",
            "(2, 3, 4, 5, 6, 7)\n",
            "200\n"
          ]
        }
      ]
    },
    {
      "cell_type": "code",
      "source": [
        "def do_func(*args):\n",
        "    print(args)"
      ],
      "metadata": {
        "id": "O7nrlfuBJMI3"
      },
      "execution_count": null,
      "outputs": []
    },
    {
      "cell_type": "code",
      "source": [
        "tup = (1,2,3,4,5,6,7)\n",
        "do_func(*tup) #do_func(1, 2, 3, 4, 5, 6, 7)"
      ],
      "metadata": {
        "colab": {
          "base_uri": "https://localhost:8080/"
        },
        "id": "bQJc0c9ZJh8s",
        "outputId": "45dbddb0-d606-4639-c964-4465b95e7a8b"
      },
      "execution_count": null,
      "outputs": [
        {
          "output_type": "stream",
          "name": "stdout",
          "text": [
            "(1, 2, 3, 4, 5, 6, 7)\n"
          ]
        }
      ]
    },
    {
      "cell_type": "code",
      "source": [
        "lst = [1,2,3,4,5,6]\n",
        "do_func(*lst)"
      ],
      "metadata": {
        "colab": {
          "base_uri": "https://localhost:8080/"
        },
        "id": "qEbx4J4pJm0U",
        "outputId": "683c5767-90a0-4de8-aea6-d567e1d712e7"
      },
      "execution_count": null,
      "outputs": [
        {
          "output_type": "stream",
          "name": "stdout",
          "text": [
            "(1, 2, 3, 4, 5, 6)\n"
          ]
        }
      ]
    },
    {
      "cell_type": "markdown",
      "source": [
        "- packing, unpacking\n",
        "    - packing: 하나의 변수에 여러 객체를 묶어서 담는 방식\n",
        "    - unpacking: 묶여 있는  여러객체를 여러변수에 풀어서 담는 방식"
      ],
      "metadata": {
        "id": "7vKaAeVlKEpO"
      }
    },
    {
      "cell_type": "markdown",
      "source": [
        "## 키워드 가변 파라미터\n",
        "- 함수를 정의하면서 키워드 아규먼트가 n개이상 들어 올수 있다(0개 포함)\n",
        "- 일반적으로 `**kwargs` 로 표현\n",
        "- 함수내부에 딕셔너리 형태로 묶인다.\n",
        "- 키워드 아규먼트에서 키워드가 key값이 되고, 아규먼트가  value 된다.\n"
      ],
      "metadata": {
        "id": "YTH292D_Ke9h"
      }
    },
    {
      "cell_type": "code",
      "source": [
        "def do_func(a,b,**kwargs):\n",
        "    print(a)\n",
        "    print(b)\n",
        "    print(kwargs)"
      ],
      "metadata": {
        "id": "wd_itGONPdZa"
      },
      "execution_count": null,
      "outputs": []
    },
    {
      "cell_type": "code",
      "source": [
        "do_func(10,20,c=30,name=\"예찬\",age=40)"
      ],
      "metadata": {
        "colab": {
          "base_uri": "https://localhost:8080/"
        },
        "id": "n_WVCdPIPix1",
        "outputId": "59828745-da79-4930-bda4-4bc3a0a3df1f"
      },
      "execution_count": null,
      "outputs": [
        {
          "output_type": "stream",
          "name": "stdout",
          "text": [
            "10\n",
            "20\n",
            "{'c': 30, 'name': '예찬', 'age': 40}\n"
          ]
        }
      ]
    },
    {
      "cell_type": "code",
      "source": [
        "kwargs_dict = {\n",
        "    \"c\" : 30,\n",
        "    \"name\" : \"예찬\",\n",
        "    \"age\" : 25\n",
        "}\n",
        "\n",
        "do_func(20,30,**kwargs_dict) "
      ],
      "metadata": {
        "colab": {
          "base_uri": "https://localhost:8080/"
        },
        "id": "qrVnxI6PQCVK",
        "outputId": "f0e9d9a7-604b-4efb-920b-7bdf354bf6c9"
      },
      "execution_count": null,
      "outputs": [
        {
          "output_type": "stream",
          "name": "stdout",
          "text": [
            "20\n",
            "30\n",
            "{'c': 30, 'name': '예찬', 'age': 25}\n"
          ]
        }
      ]
    },
    {
      "cell_type": "code",
      "source": [
        "def train_model(loss_fn,learning_rate,num_iterations):\n",
        "    print(loss_fn)\n",
        "    print(learning_rate)\n",
        "    print(num_iterations)"
      ],
      "metadata": {
        "id": "U5vlcZwSQq8z"
      },
      "execution_count": null,
      "outputs": []
    },
    {
      "cell_type": "code",
      "source": [
        "dict_args = {\n",
        "    \"loss_fn\" : \"mse\",\n",
        "    \"learning_rate\" : 0.001,\n",
        "    \"num_iterations\" : 100\n",
        "}\n",
        "\n",
        "train_model(**dict_args) # 딕셔너리를 언패킹하면 키워드 아규먼트 형식으로 풀린다."
      ],
      "metadata": {
        "colab": {
          "base_uri": "https://localhost:8080/"
        },
        "id": "qbLMStEjRA3T",
        "outputId": "fa22d452-3fbf-4678-c546-3a84f9d61b50"
      },
      "execution_count": null,
      "outputs": [
        {
          "output_type": "stream",
          "name": "stdout",
          "text": [
            "mse\n",
            "0.001\n",
            "100\n"
          ]
        }
      ]
    },
    {
      "cell_type": "markdown",
      "source": [
        "```\n",
        "print 함수의 sep , end 를 dict 정의해서 언패킹하여 넣오보세요\n",
        "출력결과는 다음과 같습니다.\n",
        "\n",
        "output\n",
        "파이썬#자바!\n",
        "```"
      ],
      "metadata": {
        "id": "ShjRKfVWRx1q"
      }
    },
    {
      "cell_type": "code",
      "source": [
        "dict_arg = {\n",
        "    \"sep\" : \"#\",\n",
        "    \"end\" : \"!\"\n",
        "}\n",
        "print(\"파이썬\",\"자바\",**dict_arg)\n"
      ],
      "metadata": {
        "colab": {
          "base_uri": "https://localhost:8080/"
        },
        "id": "JlSbAIblSWRK",
        "outputId": "7c5d828d-65fb-47fd-ff83-8b3806da7dc8"
      },
      "execution_count": null,
      "outputs": [
        {
          "output_type": "stream",
          "name": "stdout",
          "text": [
            "파이썬#자바!"
          ]
        }
      ]
    },
    {
      "cell_type": "markdown",
      "source": [
        "- 여러 종류의 파라미터를 정의할때 순서"
      ],
      "metadata": {
        "id": "Tc52hfOBSndq"
      }
    },
    {
      "cell_type": "code",
      "source": [
        "def do_func(postional_param,default_param=\"default_value\", *args,**kwargs):\n",
        "    pass"
      ],
      "metadata": {
        "id": "Huj2QM8_T_5z"
      },
      "execution_count": null,
      "outputs": []
    },
    {
      "cell_type": "markdown",
      "source": [
        "|"
      ],
      "metadata": {
        "id": "9wJ9zw24Usdx"
      }
    },
    {
      "cell_type": "code",
      "source": [
        "data = [80,70,60,99,87,86]\n",
        "\n",
        "def argmax(lst):\n",
        "    return lst.index(max(lst))\n",
        "def argmin(lst):\n",
        "    return lst.index(min(lst))\n",
        "\n",
        "print(argmax(data))\n",
        "print(argmin(data))"
      ],
      "metadata": {
        "colab": {
          "base_uri": "https://localhost:8080/"
        },
        "id": "crFtCQRzUz4j",
        "outputId": "0c3f0839-bf88-4ade-f7df-639ffbb5bd44"
      },
      "execution_count": null,
      "outputs": [
        {
          "output_type": "stream",
          "name": "stdout",
          "text": [
            "3\n",
            "2\n"
          ]
        }
      ]
    },
    {
      "cell_type": "markdown",
      "source": [
        "\n",
        "```\n",
        "start , end 값을 입력 받아 리스트를 반환하는 함수를 생성하시오.\n",
        "\n",
        "ex)\n",
        "arange(1,5) -> [1,2,3,4]\n",
        "arange(5) -> [0,1,2,3,4]\n",
        "```"
      ],
      "metadata": {
        "id": "PzGLao-BWfzB"
      }
    },
    {
      "cell_type": "code",
      "source": [
        "def arange(start,end=0):\n",
        "    if end is None: \n",
        "        result=list(range(start))\n",
        "    else:    \n",
        "        result=list(range(start,end))\n",
        "    return result\n",
        "\n",
        "print(arange(10))\n",
        "print(arange(2,9))\n",
        "print(arange(-10,2))\n",
        "print(arange(4,0))"
      ],
      "metadata": {
        "colab": {
          "base_uri": "https://localhost:8080/"
        },
        "id": "mRukmIYB4I4-",
        "outputId": "8c6c7370-aab3-44c7-9ef3-f65a3b0c82ce"
      },
      "execution_count": null,
      "outputs": [
        {
          "output_type": "stream",
          "name": "stdout",
          "text": [
            "[]\n",
            "[2, 3, 4, 5, 6, 7, 8]\n",
            "[-10, -9, -8, -7, -6, -5, -4, -3, -2, -1, 0, 1]\n",
            "[]\n"
          ]
        }
      ]
    },
    {
      "cell_type": "code",
      "source": [
        "def arange(start,end=None):\n",
        "    tmp = []\n",
        "    if end != None:\n",
        "        for i in range(start,end):\n",
        "            tmp.append(i)\n",
        "    else:\n",
        "        for i in range(start):\n",
        "            tmp.append(i)\n",
        "\n",
        "    return tmp\n",
        "\n",
        "print(arange(1,5))\n",
        "print(arange(5))"
      ],
      "metadata": {
        "colab": {
          "base_uri": "https://localhost:8080/"
        },
        "id": "1Zkyw8MziTzR",
        "outputId": "1cab46aa-7c67-4b92-bab2-c5272d94ca15"
      },
      "execution_count": null,
      "outputs": [
        {
          "output_type": "stream",
          "name": "stdout",
          "text": [
            "[1, 2, 3, 4]\n",
            "[0, 1, 2, 3, 4]\n"
          ]
        }
      ]
    },
    {
      "cell_type": "code",
      "source": [
        "def arange(start, end = None):\n",
        "    result=[]\n",
        "    if end != None:\n",
        "        for i in range(start,end):\n",
        "            result.append(i)\n",
        "    else :\n",
        "            for i in range(start):\n",
        "                result.append(i)\n",
        "    return result\n",
        "print(arange(1,5))\n",
        "print(arange(5))"
      ],
      "metadata": {
        "colab": {
          "base_uri": "https://localhost:8080/"
        },
        "id": "TfW-UBJGYN06",
        "outputId": "3240239f-18ae-451c-8cda-0404d49dba29"
      },
      "execution_count": null,
      "outputs": [
        {
          "output_type": "stream",
          "name": "stdout",
          "text": [
            "[1, 2, 3, 4]\n",
            "[0, 1, 2, 3, 4]\n"
          ]
        }
      ]
    },
    {
      "cell_type": "markdown",
      "source": [
        "```\n",
        "정수 혹은 튜플을 입력받아 0으로만 채워진 행렬 형태의 리스트를 반환하는 함수를 작성하시오.\n",
        "\n",
        "ex)\n",
        "zeros(3) -> [0,0,0]\n",
        "zeros((2,3)) -> [[0,0,0], [0,0,0]]\n",
        "\n",
        "data = [\n",
        "    [0,0,0],\n",
        "    [0,0,0]\n",
        "]\n",
        "```"
      ],
      "metadata": {
        "id": "dMVham__YO8P"
      }
    },
    {
      "cell_type": "code",
      "source": [
        "data = [\n",
        "    [0,0,0],\n",
        "    [0,0,0]\n",
        "]\n",
        "def zeros(shape):\n",
        "    if type(shape) is int:\n",
        "       result = [0] * shape\n",
        "    else:\n",
        "        result = [ [0] * shape[1] for i in range(shape[0])]\n",
        "    return result\n",
        "print(zeros(5))\n",
        "print(zeros([3,3]))"
      ],
      "metadata": {
        "id": "VQfMyMdKYRm3",
        "colab": {
          "base_uri": "https://localhost:8080/"
        },
        "outputId": "ff8db630-1f7d-4181-ccea-c9e98a12d49d"
      },
      "execution_count": null,
      "outputs": [
        {
          "output_type": "stream",
          "name": "stdout",
          "text": [
            "[0, 0, 0, 0, 0]\n",
            "[[0, 0, 0], [0, 0, 0], [0, 0, 0]]\n"
          ]
        }
      ]
    },
    {
      "cell_type": "markdown",
      "source": [
        "# 람다 함수(lambda)\n",
        "\n",
        "- 한줄 짜리 간단한 함수를 만들때 사용\n",
        "- 1회용 함수를 만들때 많이 사용\n",
        "- 람다 함수는 아주 간단한 파라미터가 정의되거나 반환하는 함수일 경우 사용\n",
        "[링크 텍스트](https://)\n"
      ],
      "metadata": {
        "id": "0em945YesOKf"
      }
    },
    {
      "cell_type": "code",
      "source": [
        "def add(num1,num2):\n",
        "    return num1+num2\n",
        "add(1,2)"
      ],
      "metadata": {
        "colab": {
          "base_uri": "https://localhost:8080/"
        },
        "id": "3p1tvO099EG8",
        "outputId": "a1ba9030-8898-4b25-a1d3-5e2b4987e530"
      },
      "execution_count": null,
      "outputs": [
        {
          "output_type": "execute_result",
          "data": {
            "text/plain": [
              "3"
            ]
          },
          "metadata": {},
          "execution_count": 18
        }
      ]
    },
    {
      "cell_type": "code",
      "source": [
        "add_lambda = lambda num1,num2: num1+ num2 # 함수도 객체다!(파이썬은 다 객체다.)\n",
        "add_lambda(1,2)"
      ],
      "metadata": {
        "colab": {
          "base_uri": "https://localhost:8080/"
        },
        "id": "QANn8xX29K-k",
        "outputId": "01df71fb-aaff-4568-9148-3a005e1629a1"
      },
      "execution_count": null,
      "outputs": [
        {
          "output_type": "execute_result",
          "data": {
            "text/plain": [
              "3"
            ]
          },
          "metadata": {},
          "execution_count": 19
        }
      ]
    },
    {
      "cell_type": "code",
      "source": [
        "my_max = max\n",
        "my_max([100,101,34])"
      ],
      "metadata": {
        "colab": {
          "base_uri": "https://localhost:8080/"
        },
        "id": "C9sWh_du9utc",
        "outputId": "86d7653b-8807-4535-ac55-e424187f5a7f"
      },
      "execution_count": null,
      "outputs": [
        {
          "output_type": "execute_result",
          "data": {
            "text/plain": [
              "101"
            ]
          },
          "metadata": {},
          "execution_count": 20
        }
      ]
    },
    {
      "cell_type": "code",
      "source": [
        "square = lambda x:x**2\n",
        "square(5)"
      ],
      "metadata": {
        "colab": {
          "base_uri": "https://localhost:8080/"
        },
        "id": "2PFZreUX-JVt",
        "outputId": "11cc3b31-c3f0-48ae-99a1-c9e61c37ffd0"
      },
      "execution_count": null,
      "outputs": [
        {
          "output_type": "execute_result",
          "data": {
            "text/plain": [
              "25"
            ]
          },
          "metadata": {},
          "execution_count": 21
        }
      ]
    },
    {
      "cell_type": "markdown",
      "source": [
        "```python\n",
        "def get_max(lst):\n",
        "    result = max(lst)\n",
        "    return result\n",
        "```"
      ],
      "metadata": {
        "id": "fwREAqpf-b9D"
      }
    },
    {
      "cell_type": "code",
      "source": [
        "get_max = lambda x: max(x)\n",
        "\n",
        "get_max([1,2,3,4,5])"
      ],
      "metadata": {
        "colab": {
          "base_uri": "https://localhost:8080/"
        },
        "id": "YaC9EqHy-vvc",
        "outputId": "b107ca32-f6a5-4ba2-aed9-6ec67f8b84a3"
      },
      "execution_count": null,
      "outputs": [
        {
          "output_type": "execute_result",
          "data": {
            "text/plain": [
              "5"
            ]
          },
          "metadata": {},
          "execution_count": 23
        }
      ]
    },
    {
      "cell_type": "markdown",
      "source": [
        "```python\n",
        "def get_size(lst):\n",
        "    result = max(lst) - min(lst)\n",
        "    return result\n",
        "```"
      ],
      "metadata": {
        "id": "vwQLASCk_SXE"
      }
    },
    {
      "cell_type": "code",
      "source": [
        "get_size = lambda x: max(x) - min(x)\n",
        "\n",
        "get_size([1,2,3,4,5])"
      ],
      "metadata": {
        "colab": {
          "base_uri": "https://localhost:8080/"
        },
        "id": "skEDz5cBAYYE",
        "outputId": "e9f50c7c-8546-4a4c-a813-c630e73e709b"
      },
      "execution_count": null,
      "outputs": [
        {
          "output_type": "execute_result",
          "data": {
            "text/plain": [
              "4"
            ]
          },
          "metadata": {},
          "execution_count": 24
        }
      ]
    },
    {
      "cell_type": "markdown",
      "source": [
        "```python\n",
        "def get_even(lst):\n",
        "    result=[]\n",
        "    for n in lst:\n",
        "        if n % 2 == 0:\n",
        "            result.append(n)\n",
        "    return result\n",
        "```"
      ],
      "metadata": {
        "id": "YwQlZ1TmAlRf"
      }
    },
    {
      "cell_type": "code",
      "source": [
        "get_even = lambda x: [ n for n in x if n % 2 ==0]\n",
        "\n",
        "get_even([1,2,3,4,5,6,7,8,9,10])"
      ],
      "metadata": {
        "colab": {
          "base_uri": "https://localhost:8080/"
        },
        "id": "oMsyhSQqBVC9",
        "outputId": "6904f1ec-0a51-4dcb-be52-56094c5a2994"
      },
      "execution_count": null,
      "outputs": [
        {
          "output_type": "execute_result",
          "data": {
            "text/plain": [
              "[2, 4, 6, 8, 10]"
            ]
          },
          "metadata": {},
          "execution_count": 28
        }
      ]
    },
    {
      "cell_type": "markdown",
      "source": [
        "# 클로져(Closure) \n",
        "- 함수안에 함수(내부함수)를 만들수 있다.\n",
        "- 함수를 둘러썬 상태(지역변수)를 기억하고 있다가, 내부함수를 실행할때 기억한 지역변수를 처리한다."
      ],
      "metadata": {
        "id": "2sOIJajTBsNz"
      }
    },
    {
      "cell_type": "code",
      "source": [
        "def outer(outer_param):\n",
        "    a = 10\n",
        "    pass\n",
        "    def inner(): # 내부함수 ,a 변수와, outer_param 파라미터 접근 가능!\n",
        "        # outer_param 대해서 처리\n",
        "        pass"
      ],
      "metadata": {
        "id": "gyaREjzJGYN2"
      },
      "execution_count": null,
      "outputs": []
    },
    {
      "cell_type": "code",
      "source": [
        "def do_outer(a,b):\n",
        "    def do_inner(): # 내부함수 입장에서 외부함수 지역변수와 파라미터 접근 가능!\n",
        "        return a + b\n",
        "    return do_inner # 내부 함수의 주소를 반환\n",
        "\n",
        "inner_result1 = do_outer(10,20)\n",
        "inner_result2 = do_outer(30,50)\n",
        "print(inner_result1, inner_result2)"
      ],
      "metadata": {
        "colab": {
          "base_uri": "https://localhost:8080/"
        },
        "id": "WdSuSy_hHYCI",
        "outputId": "12766abc-b909-4fbb-bc54-c67813145936"
      },
      "execution_count": null,
      "outputs": [
        {
          "output_type": "stream",
          "name": "stdout",
          "text": [
            "<function do_outer.<locals>.do_inner at 0x7f4e0267e050> <function do_outer.<locals>.do_inner at 0x7f4e0267e0e0>\n"
          ]
        }
      ]
    },
    {
      "cell_type": "code",
      "source": [
        "inner_result2()"
      ],
      "metadata": {
        "colab": {
          "base_uri": "https://localhost:8080/"
        },
        "id": "X6MQCLUKIHb4",
        "outputId": "0a1ab176-b75e-4389-f337-25c4597a3b00"
      },
      "execution_count": null,
      "outputs": [
        {
          "output_type": "execute_result",
          "data": {
            "text/plain": [
              "80"
            ]
          },
          "metadata": {},
          "execution_count": 33
        }
      ]
    },
    {
      "cell_type": "markdown",
      "source": [
        "# 콜백함수(callback Function)\n",
        "- 함수의 인자로 사용되는 함수를 말한다.\n"
      ],
      "metadata": {
        "id": "LQjCUFLyISIA"
      }
    },
    {
      "cell_type": "markdown",
      "source": [
        "- 두 수를 인자로 받아 더하는 함수와 빼는 함수를 만든다고 가정\n",
        "- 두개의 함수 모두 실수가 들어올경우 정수로 변경해야하는 공통 기능이 있어야한다고 가정\n",
        "- 실수를 정수로 변경하는 공통기능은 어떠한 함수에 구현\n",
        "- 그래서 어떠한 함수에 인자로 더하는 함수와 뺴는 함수를 넣어서 더하는 처리와 빼는 처리를 한다면....."
      ],
      "metadata": {
        "id": "TuIkZz0bJ3TH"
      }
    },
    {
      "cell_type": "code",
      "source": [
        "def convert_int(callback,a,b):\n",
        "    # 공통기능 부분\n",
        "    a = int(a)\n",
        "    b = int(b)\n",
        "    return callback(a,b) # 인자로 받은 콜백함수를 실행하여 결과값을 반환!!\n",
        "    "
      ],
      "metadata": {
        "id": "3WjsG684Kl7N"
      },
      "execution_count": null,
      "outputs": []
    },
    {
      "cell_type": "code",
      "source": [
        "def add_func(num1,num2):\n",
        "    return num1+num2\n",
        "def sub_func(num1,num2):\n",
        "    return num1-num2\n",
        "\n",
        "convert_int(add_func,11.5,20.222)"
      ],
      "metadata": {
        "colab": {
          "base_uri": "https://localhost:8080/"
        },
        "id": "qhl7ZFCiLfzh",
        "outputId": "1a6824b3-8334-49b2-f133-db0c4aa5aadb"
      },
      "execution_count": null,
      "outputs": [
        {
          "output_type": "execute_result",
          "data": {
            "text/plain": [
              "31"
            ]
          },
          "metadata": {},
          "execution_count": 36
        }
      ]
    },
    {
      "cell_type": "code",
      "source": [
        "convert_int(lambda a,b:a*b, 10.11,3.0)"
      ],
      "metadata": {
        "colab": {
          "base_uri": "https://localhost:8080/"
        },
        "id": "YT0qmhunL3BB",
        "outputId": "44dc6014-37b5-4f4e-95e8-b51e601f7342"
      },
      "execution_count": null,
      "outputs": [
        {
          "output_type": "execute_result",
          "data": {
            "text/plain": [
              "30"
            ]
          },
          "metadata": {},
          "execution_count": 37
        }
      ]
    },
    {
      "cell_type": "code",
      "source": [
        "map_obj = map(lambda x:x**0.5 , range(2,10))\n",
        "map_obj"
      ],
      "metadata": {
        "colab": {
          "base_uri": "https://localhost:8080/"
        },
        "id": "KG-sgeP-NTj5",
        "outputId": "a28c7fad-41a1-4e5b-8fe9-91830065c7a2"
      },
      "execution_count": null,
      "outputs": [
        {
          "output_type": "execute_result",
          "data": {
            "text/plain": [
              "<map at 0x7f4e0274ff10>"
            ]
          },
          "metadata": {},
          "execution_count": 44
        }
      ]
    },
    {
      "cell_type": "code",
      "source": [
        "list(map_obj)"
      ],
      "metadata": {
        "colab": {
          "base_uri": "https://localhost:8080/"
        },
        "id": "_clJCVpkNtpS",
        "outputId": "17f593b4-fb56-4aea-b9d9-10bf9a60a3dc"
      },
      "execution_count": null,
      "outputs": [
        {
          "output_type": "execute_result",
          "data": {
            "text/plain": [
              "[]"
            ]
          },
          "metadata": {},
          "execution_count": 46
        }
      ]
    },
    {
      "cell_type": "code",
      "source": [
        "map_obj = map(lambda x1,x2 : x1 + x2 ,[1,2,3], [4,5,6])\n",
        "list(map_obj)"
      ],
      "metadata": {
        "colab": {
          "base_uri": "https://localhost:8080/"
        },
        "id": "fqxvhKGwO0A5",
        "outputId": "48155e0c-b21b-4a06-b47c-cca9447ecbb8"
      },
      "execution_count": null,
      "outputs": [
        {
          "output_type": "execute_result",
          "data": {
            "text/plain": [
              "[5, 7, 9]"
            ]
          },
          "metadata": {},
          "execution_count": 47
        }
      ]
    },
    {
      "cell_type": "code",
      "source": [
        "list1 = [1,2,3]\n",
        "list2 = [4,5,6]\n",
        "list3 = [7,8,9]\n",
        "\n",
        "map_obj=map(lambda x1,x2,x3 : x1*x2*x3 , list1,list2,list3)\n",
        "list(map_obj)"
      ],
      "metadata": {
        "colab": {
          "base_uri": "https://localhost:8080/"
        },
        "id": "YNoOkYq7PfES",
        "outputId": "355241f2-ddec-4e44-ea3b-de8723db4134"
      },
      "execution_count": null,
      "outputs": [
        {
          "output_type": "execute_result",
          "data": {
            "text/plain": [
              "[28, 80, 162]"
            ]
          },
          "metadata": {},
          "execution_count": 48
        }
      ]
    },
    {
      "cell_type": "code",
      "source": [
        "def do_func(x):\n",
        "    if x % 2 == 0:\n",
        "        return x\n",
        "    else:\n",
        "        return 0"
      ],
      "metadata": {
        "id": "dQBSkadeVSh9"
      },
      "execution_count": null,
      "outputs": []
    },
    {
      "cell_type": "code",
      "source": [
        "lst = [1,2,3,4,5,6,7,8,9]\n",
        "map_obj = map(do_func,lst)\n",
        "list(map_obj)"
      ],
      "metadata": {
        "colab": {
          "base_uri": "https://localhost:8080/"
        },
        "id": "sxL9Be4DVo58",
        "outputId": "0ce19806-e18f-4289-f482-3a08aac1e649"
      },
      "execution_count": null,
      "outputs": [
        {
          "output_type": "execute_result",
          "data": {
            "text/plain": [
              "[0, 2, 0, 4, 0, 6, 0, 8, 0]"
            ]
          },
          "metadata": {},
          "execution_count": 51
        }
      ]
    },
    {
      "cell_type": "code",
      "source": [
        "list1 = [100,200,300]\n",
        "list2 = [400,500,600]\n",
        "\n",
        "zip_func = map(lambda x1,x2:(x1,x2),list1,list2)\n",
        "for x1,x2 in zip_func:\n",
        "        print(x1,x2)\n"
      ],
      "metadata": {
        "colab": {
          "base_uri": "https://localhost:8080/"
        },
        "id": "F4nbf1E5V_TT",
        "outputId": "e17de95e-eab1-488e-a234-b8dbcad50e05"
      },
      "execution_count": null,
      "outputs": [
        {
          "output_type": "stream",
          "name": "stdout",
          "text": [
            "100 400\n",
            "200 500\n",
            "300 600\n"
          ]
        }
      ]
    },
    {
      "cell_type": "markdown",
      "source": [
        "```\n",
        "map 함수를 이용해서 enumerate 함수 구현해보자\n",
        "enumerate 함수가 없다고 가정한다.\n",
        "ex)\n",
        "lst = [100,200,300]\n",
        "enumerate_func = map(func, iterables)\n",
        "for i,v in enumerate_func:\n",
        "    print(i,v)\n",
        "Output:\n",
        "0 100\n",
        "1 200\n",
        "2 300\n",
        "```"
      ],
      "metadata": {
        "id": "7SziRs6nXKBV"
      }
    },
    {
      "cell_type": "code",
      "source": [
        "lst = [100,200,300]\n",
        "\n",
        "enumerate_func = map(lambda i,v:(i,v),range(len(lst)) ,lst )\n",
        "for i,v in enumerate_func:\n",
        "    print(i,v)"
      ],
      "metadata": {
        "colab": {
          "base_uri": "https://localhost:8080/"
        },
        "id": "cdn-wlGBZ_B-",
        "outputId": "d3643cbd-fdf0-42ec-861c-a988b098101c"
      },
      "execution_count": null,
      "outputs": [
        {
          "output_type": "stream",
          "name": "stdout",
          "text": [
            "0 100\n",
            "1 200\n",
            "2 300\n"
          ]
        }
      ]
    },
    {
      "cell_type": "markdown",
      "source": [
        "# Decorator(장식하다, 꾸미다)\n",
        "- 코드를 변경하지 않고 기능을 추가하거나 수정하고 싶을때 정의하는 표현식\n",
        "- 내부함수의 주소를 리턴하는 쿨로져와 비슷하고 함수를 다른함수의 인자로 전달하는 방식과 비슷하다.\n",
        "- 그냥 두가지 방식을 합쳤다고 보면 된다.\n"
      ],
      "metadata": {
        "id": "q-i0VX9_a9T_"
      }
    },
    {
      "cell_type": "code",
      "source": [
        "def decorator_func(org_func): # 함수를 인자로 받는다.\n",
        "    def wrapper_func(): # 내부함수를 구현한다.\n",
        "        print(\"org_func 가 실행 되기전 입니다.\")\n",
        "        org_func() # org_func 함수를 실행\n",
        "    return wrapper_func # 내부함수의 주소를 반환\n",
        "\n",
        "def do_func():\n",
        "    print(\"original 함수가 실행되었습니다.\")\n",
        "\n",
        "result = decorator_func(do_func) # 데코레이터 함수에 감싸고자하는 함수의 주소를 인자로 넣는다."
      ],
      "metadata": {
        "id": "t2QsygIKh0t_"
      },
      "execution_count": null,
      "outputs": []
    },
    {
      "cell_type": "code",
      "source": [
        "result() # wrapper_func() -> 그안에 코드가 실행된다. -> 인자로 받은 함수가 실행된다."
      ],
      "metadata": {
        "colab": {
          "base_uri": "https://localhost:8080/"
        },
        "id": "9Zil-T-FjEWQ",
        "outputId": "7cc62be5-89e1-4fd6-815c-7dcdc736a7e5"
      },
      "execution_count": null,
      "outputs": [
        {
          "output_type": "stream",
          "name": "stdout",
          "text": [
            "org_func 가 실행 되기전 입니다.\n",
            "original 함수가 실행되었습니다.\n"
          ]
        }
      ]
    },
    {
      "cell_type": "code",
      "source": [
        "def decorator_func(org_func): # 함수를 인자로 받는다.\n",
        "    def wrapper_func(): # 내부함수를 구현한다.\n",
        "        print(\"org_func 가 실행 되기전 입니다.\")\n",
        "        org_func() # org_func 함수를 실행\n",
        "    return wrapper_func # 내부함수의 주소를 반환\n",
        "\n",
        "#  decorator_func(do_func)\n",
        "@decorator_func   \n",
        "def do_func():\n",
        "    print(\"original 함수가 실행되었습니다.\")"
      ],
      "metadata": {
        "id": "DjHh1GHmmp3x"
      },
      "execution_count": null,
      "outputs": []
    },
    {
      "cell_type": "code",
      "source": [
        "do_func()"
      ],
      "metadata": {
        "colab": {
          "base_uri": "https://localhost:8080/"
        },
        "id": "WG5Nc1HsnRnr",
        "outputId": "c1c8bfb5-6ae0-4ffe-acdd-4c64a636ccec"
      },
      "execution_count": null,
      "outputs": [
        {
          "output_type": "stream",
          "name": "stdout",
          "text": [
            "org_func 가 실행 되기전 입니다.\n",
            "original 함수가 실행되었습니다.\n"
          ]
        }
      ]
    },
    {
      "cell_type": "markdown",
      "source": [
        "- 데코레이터로 감싸는 함수의 파라미터를 정의해야한다면?\n"
      ],
      "metadata": {
        "id": "qls8BcinnS2y"
      }
    },
    {
      "cell_type": "code",
      "source": [
        "def decorator_func(org_func):\n",
        "    def wrapper_func(*args,**kwargs):\n",
        "        print(f\"콜백함수가 실행되기 전입니다.\")\n",
        "        result = org_func(*args,**kwargs)\n",
        "        print(f\"콜백함수가 실행 완료ㄷ 되었습니다.\")\n",
        "        return result\n",
        "    return wrapper_func\n",
        "\n",
        "# decorator_func(do_func)\n",
        "@decorator_func\n",
        "def do_func(a,b):   # wrapper_func(*args,**kwargs):\n",
        "    return a +b\n",
        "\n",
        "do_func(3,5)"
      ],
      "metadata": {
        "colab": {
          "base_uri": "https://localhost:8080/"
        },
        "id": "nLJN1ijsn7ij",
        "outputId": "5c223277-334e-4925-e95c-5048bae77f4e"
      },
      "execution_count": null,
      "outputs": [
        {
          "output_type": "stream",
          "name": "stdout",
          "text": [
            "콜백함수가 실행되기 전입니다.\n",
            "콜백함수가 실행 완료ㄷ 되었습니다.\n"
          ]
        },
        {
          "output_type": "execute_result",
          "data": {
            "text/plain": [
              "8"
            ]
          },
          "metadata": {},
          "execution_count": 187
        }
      ]
    },
    {
      "cell_type": "markdown",
      "source": [
        "# 문제 1)\n",
        "\n",
        "```\n",
        "행 혹은 행렬 형태의 리스트를 입력 받아 행의 크기와 열의 크기를 튜플로 반환하는 함수를 작성하시오\n",
        "\n",
        "ex)\n",
        "shape([]) -> (0,)\n",
        "shape([1,2,3]) -> (3,)\n",
        "shape([[1,2,3],[4,5,6]]) -> (2,3)\n",
        "\n",
        "2차원 행렬 예시:\n",
        "[\n",
        "    [1,2,3],\n",
        "    [4,5,6]\n",
        "]\n",
        "\n",
        "```"
      ],
      "metadata": {
        "id": "7qoa1D5Eow4B"
      }
    },
    {
      "cell_type": "code",
      "source": [
        "def shape(lst):\n",
        "    if len(lst) == 0:\n",
        "        res = (0,)\n",
        "    elif type(lst[0]) is list:\n",
        "        res = (len(lst),len(lst[0]))\n",
        "    else:\n",
        "        res= (len(lst),)\n",
        "    return res\n",
        "\n",
        "print(shape([[1,2,3],[4,5,6]]))\n",
        "\n"
      ],
      "metadata": {
        "colab": {
          "base_uri": "https://localhost:8080/"
        },
        "id": "bIXx7hJf-6Bh",
        "outputId": "614199a2-f86b-406f-b305-be21ea5e99ef"
      },
      "execution_count": null,
      "outputs": [
        {
          "output_type": "stream",
          "name": "stdout",
          "text": [
            "(2, 3)\n"
          ]
        }
      ]
    },
    {
      "cell_type": "code",
      "source": [
        "def shape(lst):\n",
        "    if len(lst) == 0:\n",
        "        result = 0\n",
        "    elif type(lst) is list:\n",
        "        "
      ],
      "metadata": {
        "id": "qBDGeWkhdZ53"
      },
      "execution_count": null,
      "outputs": []
    },
    {
      "cell_type": "markdown",
      "source": [
        "# 문제 2)\n",
        "\n",
        "```\n",
        "행렬 형태의 리스트를 입력 받고 변경하고자하는 행의 크기와 열의 크기로 변환해서 \n",
        "리스트로  반환 함수를 작성하시오\n",
        "행과 열의 크기는 튜플로 받는다 . \n",
        "무조건 튜플 아니면 -1 입력이 들어온다고 가정한다.\n",
        "튜플은 무조건 2개의 요소가 포함되서 들어온다고 가정한다.\n",
        "튜플이 아닌 -1 이 들어올경우 1차원 형태로 flatten 시킨다.\n",
        "\n",
        "ex)\n",
        "data = [\n",
        "       [1,2,3],\n",
        "       [4,5,6]\n",
        "]\n",
        "reshape(data,-1) -> [1,2,3,4,5,6]\n",
        "reshape(data,(3,2)) -> [[1,2],[3,4],[5,6]]\n",
        "\n",
        "2차원 행렬 예시:\n",
        "[\n",
        "    [1,2],\n",
        "    [3,4],\n",
        "    [5,6]\n",
        "]\n",
        "\n",
        "```"
      ],
      "metadata": {
        "id": "VkAiWY5Q-yPh"
      }
    },
    {
      "cell_type": "code",
      "source": [
        "data = [\n",
        "       [1,2,3],\n",
        "       [4,5,6]\n",
        "]"
      ],
      "metadata": {
        "id": "kA3Qq7FFhDnW"
      },
      "execution_count": null,
      "outputs": []
    },
    {
      "cell_type": "code",
      "source": [
        "def reshape(lst,shape):\n",
        "    flatten = []\n",
        "    for item in lst:\n",
        "        flatten.extend(item)\n",
        "    result = flatten\n",
        "\n",
        "    if shape != -1: # -1이 아닐경우 즉, 튜플일경우\n",
        "        row = shape[0]\n",
        "        col = shape[1]\n",
        "        result = []\n",
        "        for i in range(row):\n",
        "            start_index = i * col\n",
        "            end_index = start_index + col\n",
        "            items = flatten[start_index:end_index]\n",
        "            result.append(items)\n",
        "\n",
        "\n",
        "    return result\n",
        "reshape(data,(1.6))"
      ],
      "metadata": {
        "colab": {
          "base_uri": "https://localhost:8080/",
          "height": 344
        },
        "id": "9XVWz21ZeNam",
        "outputId": "5b106b99-5fa1-4ab3-b32c-f93177d66123"
      },
      "execution_count": null,
      "outputs": [
        {
          "output_type": "error",
          "ename": "TypeError",
          "evalue": "ignored",
          "traceback": [
            "\u001b[0;31m---------------------------------------------------------------------------\u001b[0m",
            "\u001b[0;31mTypeError\u001b[0m                                 Traceback (most recent call last)",
            "\u001b[0;32m<ipython-input-14-db14b218670a>\u001b[0m in \u001b[0;36m<module>\u001b[0;34m()\u001b[0m\n\u001b[1;32m     17\u001b[0m \u001b[0;34m\u001b[0m\u001b[0m\n\u001b[1;32m     18\u001b[0m     \u001b[0;32mreturn\u001b[0m \u001b[0mresult\u001b[0m\u001b[0;34m\u001b[0m\u001b[0;34m\u001b[0m\u001b[0m\n\u001b[0;32m---> 19\u001b[0;31m \u001b[0mreshape\u001b[0m\u001b[0;34m(\u001b[0m\u001b[0mdata\u001b[0m\u001b[0;34m,\u001b[0m\u001b[0;34m(\u001b[0m\u001b[0;36m1.6\u001b[0m\u001b[0;34m)\u001b[0m\u001b[0;34m)\u001b[0m\u001b[0;34m\u001b[0m\u001b[0;34m\u001b[0m\u001b[0m\n\u001b[0m",
            "\u001b[0;32m<ipython-input-14-db14b218670a>\u001b[0m in \u001b[0;36mreshape\u001b[0;34m(lst, shape)\u001b[0m\n\u001b[1;32m      6\u001b[0m \u001b[0;34m\u001b[0m\u001b[0m\n\u001b[1;32m      7\u001b[0m     \u001b[0;32mif\u001b[0m \u001b[0mshape\u001b[0m \u001b[0;34m!=\u001b[0m \u001b[0;34m-\u001b[0m\u001b[0;36m1\u001b[0m\u001b[0;34m:\u001b[0m \u001b[0;31m# -1이 아닐경우 즉, 튜플일경우\u001b[0m\u001b[0;34m\u001b[0m\u001b[0;34m\u001b[0m\u001b[0m\n\u001b[0;32m----> 8\u001b[0;31m         \u001b[0mrow\u001b[0m \u001b[0;34m=\u001b[0m \u001b[0mshape\u001b[0m\u001b[0;34m[\u001b[0m\u001b[0;36m0\u001b[0m\u001b[0;34m]\u001b[0m\u001b[0;34m\u001b[0m\u001b[0;34m\u001b[0m\u001b[0m\n\u001b[0m\u001b[1;32m      9\u001b[0m         \u001b[0mcol\u001b[0m \u001b[0;34m=\u001b[0m \u001b[0mshape\u001b[0m\u001b[0;34m[\u001b[0m\u001b[0;36m1\u001b[0m\u001b[0;34m]\u001b[0m\u001b[0;34m\u001b[0m\u001b[0;34m\u001b[0m\u001b[0m\n\u001b[1;32m     10\u001b[0m         \u001b[0mresult\u001b[0m \u001b[0;34m=\u001b[0m \u001b[0;34m[\u001b[0m\u001b[0;34m]\u001b[0m\u001b[0;34m\u001b[0m\u001b[0;34m\u001b[0m\u001b[0m\n",
            "\u001b[0;31mTypeError\u001b[0m: 'float' object is not subscriptable"
          ]
        }
      ]
    },
    {
      "cell_type": "markdown",
      "source": [
        "# 문제 3)\n",
        "\n",
        "```\n",
        "행렬 형태의 리스트를 입력 받고 행렬을 전치하는 함수를 작성하시오\n",
        "행렬 전치는 열이 행이 되고 행은 열이 된다.\n",
        "\n",
        "ex)\n",
        "data = [\n",
        "       [1,2,3],\n",
        "       [4,5,6]\n",
        "]\n",
        "transpose(data) -> [[1, 4], [2, 5], [3, 6]]\n",
        "\n",
        "2차원 행렬 예시:\n",
        "[\n",
        "    [1, 4], \n",
        "    [2, 5], \n",
        "    [3, 6]\n",
        "]\n",
        "\n",
        "```"
      ],
      "metadata": {
        "id": "05Z8GOuE-0dg"
      }
    },
    {
      "cell_type": "code",
      "source": [
        "data = [\n",
        "       [1,2,3],\n",
        "       [4,5,6]\n",
        "]\n",
        "\n",
        "def transpose(lst):\n",
        "    return [ list(tup) for tup in zip(*lst)] #zip([1,2,3],[4,5,6])\n",
        "transpose(data)"
      ],
      "metadata": {
        "id": "ZYbcC0Ly-29h",
        "colab": {
          "base_uri": "https://localhost:8080/"
        },
        "outputId": "05b4b5ef-eb90-498d-9996-862a7260267b"
      },
      "execution_count": null,
      "outputs": [
        {
          "output_type": "execute_result",
          "data": {
            "text/plain": [
              "[[1, 4], [2, 5], [3, 6]]"
            ]
          },
          "metadata": {},
          "execution_count": 21
        }
      ]
    },
    {
      "cell_type": "code",
      "source": [],
      "metadata": {
        "id": "T7-OfwmEYqrQ"
      },
      "execution_count": null,
      "outputs": []
    }
  ]
}