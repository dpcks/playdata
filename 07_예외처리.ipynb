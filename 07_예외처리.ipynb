{
  "nbformat": 4,
  "nbformat_minor": 0,
  "metadata": {
    "colab": {
      "provenance": [],
      "toc_visible": true,
      "authorship_tag": "ABX9TyOhW3j/NjZxpuXrok86g2BH",
      "include_colab_link": true
    },
    "kernelspec": {
      "name": "python3",
      "display_name": "Python 3"
    },
    "language_info": {
      "name": "python"
    }
  },
  "cells": [
    {
      "cell_type": "markdown",
      "metadata": {
        "id": "view-in-github",
        "colab_type": "text"
      },
      "source": [
        "<a href=\"https://colab.research.google.com/github/dpcks/playdata/blob/main/07_%EC%98%88%EC%99%B8%EC%B2%98%EB%A6%AC.ipynb\" target=\"_parent\"><img src=\"https://colab.research.google.com/assets/colab-badge.svg\" alt=\"Open In Colab\"/></a>"
      ]
    },
    {
      "cell_type": "markdown",
      "source": [
        "# 구문적 오류(Syntax Error)\n",
        "- 문법 오류에 의하여 기계어 변환 과정에서 발생하는 오류"
      ],
      "metadata": {
        "id": "jvwPX4Pvx0qx"
      }
    },
    {
      "cell_type": "code",
      "source": [
        "# def do_func:\n",
        "#     print(\"hello\")"
      ],
      "metadata": {
        "colab": {
          "base_uri": "https://localhost:8080/",
          "height": 136
        },
        "id": "RC6H5-GFy6Iv",
        "outputId": "77f6b995-b339-4d80-f241-2cc4c5382d31"
      },
      "execution_count": null,
      "outputs": [
        {
          "output_type": "error",
          "ename": "SyntaxError",
          "evalue": "ignored",
          "traceback": [
            "\u001b[0;36m  File \u001b[0;32m\"<ipython-input-1-d72adb05a20c>\"\u001b[0;36m, line \u001b[0;32m1\u001b[0m\n\u001b[0;31m    def do_func:\u001b[0m\n\u001b[0m               ^\u001b[0m\n\u001b[0;31mSyntaxError\u001b[0m\u001b[0;31m:\u001b[0m invalid syntax\n"
          ]
        }
      ]
    },
    {
      "cell_type": "markdown",
      "source": [
        "# 실행 오류(Runtime Error)\n",
        "- 프로그램 실행중 발생하여 프로그램이 비정상적으로 종료되는 오류"
      ],
      "metadata": {
        "id": "45AKkjNszFb8"
      }
    },
    {
      "cell_type": "code",
      "source": [
        "def do_func(text):\n",
        "    return int(text)\n",
        "\n",
        "text = \"3\"\n",
        "do_func(text)"
      ],
      "metadata": {
        "colab": {
          "base_uri": "https://localhost:8080/"
        },
        "id": "oInwk9YJzXds",
        "outputId": "b1e9c46e-2c6b-4354-9440-814d038c2c4a"
      },
      "execution_count": null,
      "outputs": [
        {
          "output_type": "execute_result",
          "data": {
            "text/plain": [
              "3"
            ]
          },
          "metadata": {},
          "execution_count": 2
        }
      ]
    },
    {
      "cell_type": "code",
      "source": [
        "text = \"3.0\"\n",
        "do_func(text)"
      ],
      "metadata": {
        "colab": {
          "base_uri": "https://localhost:8080/",
          "height": 317
        },
        "id": "IQsqNBqZzoNI",
        "outputId": "549ae16d-4a9c-40f1-8252-8d668b757491"
      },
      "execution_count": null,
      "outputs": [
        {
          "output_type": "error",
          "ename": "ValueError",
          "evalue": "ignored",
          "traceback": [
            "\u001b[0;31m---------------------------------------------------------------------------\u001b[0m",
            "\u001b[0;31mValueError\u001b[0m                                Traceback (most recent call last)",
            "\u001b[0;32m<ipython-input-3-7ac4698e8a41>\u001b[0m in \u001b[0;36m<module>\u001b[0;34m()\u001b[0m\n\u001b[1;32m      1\u001b[0m \u001b[0mtext\u001b[0m \u001b[0;34m=\u001b[0m \u001b[0;34m\"3.0\"\u001b[0m\u001b[0;34m\u001b[0m\u001b[0;34m\u001b[0m\u001b[0m\n\u001b[0;32m----> 2\u001b[0;31m \u001b[0mdo_func\u001b[0m\u001b[0;34m(\u001b[0m\u001b[0mtext\u001b[0m\u001b[0;34m)\u001b[0m\u001b[0;34m\u001b[0m\u001b[0;34m\u001b[0m\u001b[0m\n\u001b[0m",
            "\u001b[0;32m<ipython-input-2-e105883d5104>\u001b[0m in \u001b[0;36mdo_func\u001b[0;34m(text)\u001b[0m\n\u001b[1;32m      1\u001b[0m \u001b[0;32mdef\u001b[0m \u001b[0mdo_func\u001b[0m\u001b[0;34m(\u001b[0m\u001b[0mtext\u001b[0m\u001b[0;34m)\u001b[0m\u001b[0;34m:\u001b[0m\u001b[0;34m\u001b[0m\u001b[0;34m\u001b[0m\u001b[0m\n\u001b[0;32m----> 2\u001b[0;31m     \u001b[0;32mreturn\u001b[0m \u001b[0mint\u001b[0m\u001b[0;34m(\u001b[0m\u001b[0mtext\u001b[0m\u001b[0;34m)\u001b[0m\u001b[0;34m\u001b[0m\u001b[0;34m\u001b[0m\u001b[0m\n\u001b[0m\u001b[1;32m      3\u001b[0m \u001b[0;34m\u001b[0m\u001b[0m\n\u001b[1;32m      4\u001b[0m \u001b[0mtext\u001b[0m \u001b[0;34m=\u001b[0m \u001b[0;34m\"3\"\u001b[0m\u001b[0;34m\u001b[0m\u001b[0;34m\u001b[0m\u001b[0m\n\u001b[1;32m      5\u001b[0m \u001b[0mdo_func\u001b[0m\u001b[0;34m(\u001b[0m\u001b[0mtext\u001b[0m\u001b[0;34m)\u001b[0m\u001b[0;34m\u001b[0m\u001b[0;34m\u001b[0m\u001b[0m\n",
            "\u001b[0;31mValueError\u001b[0m: invalid literal for int() with base 10: '3.0'"
          ]
        }
      ]
    },
    {
      "cell_type": "code",
      "source": [
        "def div(n1,n2):\n",
        "    return n1/n2\n",
        "div(10,0)"
      ],
      "metadata": {
        "colab": {
          "base_uri": "https://localhost:8080/",
          "height": 299
        },
        "id": "UYbysdgKzwhL",
        "outputId": "386cae30-d5c9-44d0-cd90-deafbb5d607e"
      },
      "execution_count": null,
      "outputs": [
        {
          "output_type": "error",
          "ename": "ZeroDivisionError",
          "evalue": "ignored",
          "traceback": [
            "\u001b[0;31m---------------------------------------------------------------------------\u001b[0m",
            "\u001b[0;31mZeroDivisionError\u001b[0m                         Traceback (most recent call last)",
            "\u001b[0;32m<ipython-input-4-66e37f637637>\u001b[0m in \u001b[0;36m<module>\u001b[0;34m()\u001b[0m\n\u001b[1;32m      1\u001b[0m \u001b[0;32mdef\u001b[0m \u001b[0mdiv\u001b[0m\u001b[0;34m(\u001b[0m\u001b[0mn1\u001b[0m\u001b[0;34m,\u001b[0m\u001b[0mn2\u001b[0m\u001b[0;34m)\u001b[0m\u001b[0;34m:\u001b[0m\u001b[0;34m\u001b[0m\u001b[0;34m\u001b[0m\u001b[0m\n\u001b[1;32m      2\u001b[0m     \u001b[0;32mreturn\u001b[0m \u001b[0mn1\u001b[0m\u001b[0;34m/\u001b[0m\u001b[0mn2\u001b[0m\u001b[0;34m\u001b[0m\u001b[0;34m\u001b[0m\u001b[0m\n\u001b[0;32m----> 3\u001b[0;31m \u001b[0mdiv\u001b[0m\u001b[0;34m(\u001b[0m\u001b[0;36m10\u001b[0m\u001b[0;34m,\u001b[0m\u001b[0;36m0\u001b[0m\u001b[0;34m)\u001b[0m\u001b[0;34m\u001b[0m\u001b[0;34m\u001b[0m\u001b[0m\n\u001b[0m",
            "\u001b[0;32m<ipython-input-4-66e37f637637>\u001b[0m in \u001b[0;36mdiv\u001b[0;34m(n1, n2)\u001b[0m\n\u001b[1;32m      1\u001b[0m \u001b[0;32mdef\u001b[0m \u001b[0mdiv\u001b[0m\u001b[0;34m(\u001b[0m\u001b[0mn1\u001b[0m\u001b[0;34m,\u001b[0m\u001b[0mn2\u001b[0m\u001b[0;34m)\u001b[0m\u001b[0;34m:\u001b[0m\u001b[0;34m\u001b[0m\u001b[0;34m\u001b[0m\u001b[0m\n\u001b[0;32m----> 2\u001b[0;31m     \u001b[0;32mreturn\u001b[0m \u001b[0mn1\u001b[0m\u001b[0;34m/\u001b[0m\u001b[0mn2\u001b[0m\u001b[0;34m\u001b[0m\u001b[0;34m\u001b[0m\u001b[0m\n\u001b[0m\u001b[1;32m      3\u001b[0m \u001b[0mdiv\u001b[0m\u001b[0;34m(\u001b[0m\u001b[0;36m10\u001b[0m\u001b[0;34m,\u001b[0m\u001b[0;36m0\u001b[0m\u001b[0;34m)\u001b[0m\u001b[0;34m\u001b[0m\u001b[0;34m\u001b[0m\u001b[0m\n",
            "\u001b[0;31mZeroDivisionError\u001b[0m: division by zero"
          ]
        }
      ]
    },
    {
      "cell_type": "markdown",
      "source": [
        "# 의미적 오류(Semantiic Error)\n",
        "- 문법은 정상이지만 실행의 결과가 원하는 대로 나오지 않는 오류\n"
      ],
      "metadata": {
        "id": "L9SbKEIrz2k_"
      }
    },
    {
      "cell_type": "code",
      "source": [
        "a = (2)\n",
        "b = (2,)\n",
        "\n",
        "a == b"
      ],
      "metadata": {
        "colab": {
          "base_uri": "https://localhost:8080/"
        },
        "id": "kwO1UoVR0OKb",
        "outputId": "0895bc54-2df3-4d4f-95e5-8e6f886b57bb"
      },
      "execution_count": null,
      "outputs": [
        {
          "output_type": "execute_result",
          "data": {
            "text/plain": [
              "False"
            ]
          },
          "metadata": {},
          "execution_count": 5
        }
      ]
    },
    {
      "cell_type": "code",
      "source": [
        "def do_func(n1,n2):\n",
        "    return print(n1*n2)\n",
        "\n",
        "a = do_func(3,4)\n",
        "print(a)"
      ],
      "metadata": {
        "colab": {
          "base_uri": "https://localhost:8080/"
        },
        "id": "NZgyuQM00X_3",
        "outputId": "e54fbcae-95be-40f4-dc7a-7e8a61ba6de4"
      },
      "execution_count": null,
      "outputs": [
        {
          "output_type": "stream",
          "name": "stdout",
          "text": [
            "12\n",
            "None\n"
          ]
        }
      ]
    },
    {
      "cell_type": "code",
      "source": [
        "7.5 * 0.1 == 0.75"
      ],
      "metadata": {
        "colab": {
          "base_uri": "https://localhost:8080/"
        },
        "id": "MRwDwbND0tnR",
        "outputId": "2ce3a6b9-c307-46ca-c318-bfe1e3d6b7c6"
      },
      "execution_count": null,
      "outputs": [
        {
          "output_type": "execute_result",
          "data": {
            "text/plain": [
              "True"
            ]
          },
          "metadata": {},
          "execution_count": 8
        }
      ]
    },
    {
      "cell_type": "code",
      "source": [
        "6*0.1 == 0.6"
      ],
      "metadata": {
        "colab": {
          "base_uri": "https://localhost:8080/"
        },
        "id": "ucYtc9iw08MO",
        "outputId": "343bb6e6-373d-4ac1-c99b-a560551d0b74"
      },
      "execution_count": null,
      "outputs": [
        {
          "output_type": "execute_result",
          "data": {
            "text/plain": [
              "False"
            ]
          },
          "metadata": {},
          "execution_count": 9
        }
      ]
    },
    {
      "cell_type": "code",
      "source": [
        "6 * 0.1"
      ],
      "metadata": {
        "colab": {
          "base_uri": "https://localhost:8080/"
        },
        "id": "ENcBmV5G1CW_",
        "outputId": "b329007d-1fb4-43d8-958e-3ca4a83f441d"
      },
      "execution_count": null,
      "outputs": [
        {
          "output_type": "execute_result",
          "data": {
            "text/plain": [
              "0.6000000000000001"
            ]
          },
          "metadata": {},
          "execution_count": 11
        }
      ]
    },
    {
      "cell_type": "code",
      "source": [
        "round(6*0.1,1) == 0.6"
      ],
      "metadata": {
        "colab": {
          "base_uri": "https://localhost:8080/"
        },
        "id": "abU3s-o51GJz",
        "outputId": "542fcabc-0d7a-4e13-862d-e682ae13e8d6"
      },
      "execution_count": null,
      "outputs": [
        {
          "output_type": "execute_result",
          "data": {
            "text/plain": [
              "True"
            ]
          },
          "metadata": {},
          "execution_count": 12
        }
      ]
    },
    {
      "cell_type": "markdown",
      "source": [
        "# 예외처리\n",
        "- 프로그램 개발하면서 예상치 못한 상황 발생시 처리\n",
        "- 입출력 오류와 같은 상황 발생시 프로그램 종료를 방지하기 위함.\n",
        "- 개발자가 예외 발생 가능 부분을 어떻게 대응하라고 지정해 줄 수 있다.\n",
        "\n",
        "```pytjon\n",
        "try:\n",
        "    code context\n",
        "except:\n",
        "    cod context\n",
        "```\n",
        "\n"
      ],
      "metadata": {
        "id": "m5_9jTu51NQa"
      }
    },
    {
      "cell_type": "code",
      "source": [
        "n = 100\n",
        "for i in range(10):\n",
        "    print(100/i)"
      ],
      "metadata": {
        "colab": {
          "base_uri": "https://localhost:8080/",
          "height": 208
        },
        "id": "vTN83mC_1jZO",
        "outputId": "af1dd2c3-f40a-421a-f5c6-abb72e9b5782"
      },
      "execution_count": null,
      "outputs": [
        {
          "output_type": "error",
          "ename": "ZeroDivisionError",
          "evalue": "ignored",
          "traceback": [
            "\u001b[0;31m---------------------------------------------------------------------------\u001b[0m",
            "\u001b[0;31mZeroDivisionError\u001b[0m                         Traceback (most recent call last)",
            "\u001b[0;32m<ipython-input-13-681cd6123672>\u001b[0m in \u001b[0;36m<module>\u001b[0;34m()\u001b[0m\n\u001b[1;32m      1\u001b[0m \u001b[0mn\u001b[0m \u001b[0;34m=\u001b[0m \u001b[0;36m100\u001b[0m\u001b[0;34m\u001b[0m\u001b[0;34m\u001b[0m\u001b[0m\n\u001b[1;32m      2\u001b[0m \u001b[0;32mfor\u001b[0m \u001b[0mi\u001b[0m \u001b[0;32min\u001b[0m \u001b[0mrange\u001b[0m\u001b[0;34m(\u001b[0m\u001b[0;36m10\u001b[0m\u001b[0;34m)\u001b[0m\u001b[0;34m:\u001b[0m\u001b[0;34m\u001b[0m\u001b[0;34m\u001b[0m\u001b[0m\n\u001b[0;32m----> 3\u001b[0;31m     \u001b[0mprint\u001b[0m\u001b[0;34m(\u001b[0m\u001b[0;36m100\u001b[0m\u001b[0;34m/\u001b[0m\u001b[0mi\u001b[0m\u001b[0;34m)\u001b[0m\u001b[0;34m\u001b[0m\u001b[0;34m\u001b[0m\u001b[0m\n\u001b[0m",
            "\u001b[0;31mZeroDivisionError\u001b[0m: division by zero"
          ]
        }
      ]
    },
    {
      "cell_type": "code",
      "source": [
        "n = 100\n",
        "for i in range(10):\n",
        "    try:\n",
        "        print(n/i)\n",
        "    except:\n",
        "        print(\"에러발생\")"
      ],
      "metadata": {
        "colab": {
          "base_uri": "https://localhost:8080/"
        },
        "id": "rhZzwoJa2cOq",
        "outputId": "14a22c4c-99cf-443f-b9e8-ed1b389719ee"
      },
      "execution_count": null,
      "outputs": [
        {
          "output_type": "stream",
          "name": "stdout",
          "text": [
            "에러발생\n",
            "100.0\n",
            "50.0\n",
            "33.333333333333336\n",
            "25.0\n",
            "20.0\n",
            "16.666666666666668\n",
            "14.285714285714286\n",
            "12.5\n",
            "11.11111111111111\n"
          ]
        }
      ]
    },
    {
      "cell_type": "markdown",
      "source": [
        "- 에러를 지정해서 메시지를 볼 수 있다."
      ],
      "metadata": {
        "id": "5n3dAugS2uqA"
      }
    },
    {
      "cell_type": "code",
      "source": [
        "n = 100\n",
        "for i in range(10):\n",
        "    try:\n",
        "        print(n/i)\n",
        "    except ZeroDivisionError as e:\n",
        "        print(e)"
      ],
      "metadata": {
        "colab": {
          "base_uri": "https://localhost:8080/"
        },
        "id": "4YXgZKg-2-TR",
        "outputId": "82f918fd-d40e-4b8f-ae4d-affa292a91e3"
      },
      "execution_count": null,
      "outputs": [
        {
          "output_type": "stream",
          "name": "stdout",
          "text": [
            "division by zero\n",
            "100.0\n",
            "50.0\n",
            "33.333333333333336\n",
            "25.0\n",
            "20.0\n",
            "16.666666666666668\n",
            "14.285714285714286\n",
            "12.5\n",
            "11.11111111111111\n"
          ]
        }
      ]
    },
    {
      "cell_type": "markdown",
      "source": [
        "- IndexError\n",
        "    - 리스트의 인덱스 범위를 넘어갈때 발생\n",
        "    "
      ],
      "metadata": {
        "id": "XlF3jxST3PDo"
      }
    },
    {
      "cell_type": "code",
      "source": [
        "a = [1,2,3]\n",
        "a[5]"
      ],
      "metadata": {
        "colab": {
          "base_uri": "https://localhost:8080/",
          "height": 190
        },
        "id": "31FnmZsj3kXE",
        "outputId": "b19c4088-78bb-4480-a71c-db0e35b8941b"
      },
      "execution_count": null,
      "outputs": [
        {
          "output_type": "error",
          "ename": "IndexError",
          "evalue": "ignored",
          "traceback": [
            "\u001b[0;31m---------------------------------------------------------------------------\u001b[0m",
            "\u001b[0;31mIndexError\u001b[0m                                Traceback (most recent call last)",
            "\u001b[0;32m<ipython-input-18-4a30d506aea3>\u001b[0m in \u001b[0;36m<module>\u001b[0;34m()\u001b[0m\n\u001b[1;32m      1\u001b[0m \u001b[0ma\u001b[0m \u001b[0;34m=\u001b[0m \u001b[0;34m[\u001b[0m\u001b[0;36m1\u001b[0m\u001b[0;34m,\u001b[0m\u001b[0;36m2\u001b[0m\u001b[0;34m,\u001b[0m\u001b[0;36m3\u001b[0m\u001b[0;34m]\u001b[0m\u001b[0;34m\u001b[0m\u001b[0;34m\u001b[0m\u001b[0m\n\u001b[0;32m----> 2\u001b[0;31m \u001b[0ma\u001b[0m\u001b[0;34m[\u001b[0m\u001b[0;36m5\u001b[0m\u001b[0;34m]\u001b[0m\u001b[0;34m\u001b[0m\u001b[0;34m\u001b[0m\u001b[0m\n\u001b[0m",
            "\u001b[0;31mIndexError\u001b[0m: list index out of range"
          ]
        }
      ]
    },
    {
      "cell_type": "markdown",
      "source": [
        "- NameError\n",
        "    - 정의되지 않은 변수를 사용하려 할때"
      ],
      "metadata": {
        "id": "pFSetjrU3usJ"
      }
    },
    {
      "cell_type": "code",
      "source": [
        "karns"
      ],
      "metadata": {
        "colab": {
          "base_uri": "https://localhost:8080/",
          "height": 172
        },
        "id": "G64tKLHe3no_",
        "outputId": "1147641a-ef76-457e-9660-8387ae3f6518"
      },
      "execution_count": null,
      "outputs": [
        {
          "output_type": "error",
          "ename": "NameError",
          "evalue": "ignored",
          "traceback": [
            "\u001b[0;31m---------------------------------------------------------------------------\u001b[0m",
            "\u001b[0;31mNameError\u001b[0m                                 Traceback (most recent call last)",
            "\u001b[0;32m<ipython-input-19-abc70f1e7fd0>\u001b[0m in \u001b[0;36m<module>\u001b[0;34m()\u001b[0m\n\u001b[0;32m----> 1\u001b[0;31m \u001b[0mkarns\u001b[0m\u001b[0;34m\u001b[0m\u001b[0;34m\u001b[0m\u001b[0m\n\u001b[0m",
            "\u001b[0;31mNameError\u001b[0m: name 'karns' is not defined"
          ]
        }
      ]
    },
    {
      "cell_type": "markdown",
      "source": [
        "- ValueError\n",
        "    - 변환할수 없는 자료형 변환을 시도 할때 "
      ],
      "metadata": {
        "id": "kJioWucw36tb"
      }
    },
    {
      "cell_type": "code",
      "source": [
        "a = \"이예찬\"\n",
        "int(a)"
      ],
      "metadata": {
        "colab": {
          "base_uri": "https://localhost:8080/",
          "height": 190
        },
        "id": "O5wqRzp34HBA",
        "outputId": "428a3505-7749-4814-d559-ca02d588cb96"
      },
      "execution_count": null,
      "outputs": [
        {
          "output_type": "error",
          "ename": "ValueError",
          "evalue": "ignored",
          "traceback": [
            "\u001b[0;31m---------------------------------------------------------------------------\u001b[0m",
            "\u001b[0;31mValueError\u001b[0m                                Traceback (most recent call last)",
            "\u001b[0;32m<ipython-input-20-19a0165e7381>\u001b[0m in \u001b[0;36m<module>\u001b[0;34m()\u001b[0m\n\u001b[1;32m      1\u001b[0m \u001b[0ma\u001b[0m \u001b[0;34m=\u001b[0m \u001b[0;34m\"이예찬\"\u001b[0m\u001b[0;34m\u001b[0m\u001b[0;34m\u001b[0m\u001b[0m\n\u001b[0;32m----> 2\u001b[0;31m \u001b[0mint\u001b[0m\u001b[0;34m(\u001b[0m\u001b[0ma\u001b[0m\u001b[0;34m)\u001b[0m\u001b[0;34m\u001b[0m\u001b[0;34m\u001b[0m\u001b[0m\n\u001b[0m",
            "\u001b[0;31mValueError\u001b[0m: invalid literal for int() with base 10: '이예찬'"
          ]
        }
      ]
    },
    {
      "cell_type": "markdown",
      "source": [
        "- TypeError\n",
        "    - 자료형이 맞지 않는 연산을 시도할때\n",
        "    - 호출할수 없는 객체를 함수처럼 호출할때\n",
        "    "
      ],
      "metadata": {
        "id": "ZL5e0dyf4LAH"
      }
    },
    {
      "cell_type": "code",
      "source": [
        "20 / \"예찬\""
      ],
      "metadata": {
        "colab": {
          "base_uri": "https://localhost:8080/",
          "height": 172
        },
        "id": "bXUnZou14rGJ",
        "outputId": "1ab83045-e40d-4c31-9b54-58b5d5a91e2e"
      },
      "execution_count": null,
      "outputs": [
        {
          "output_type": "error",
          "ename": "TypeError",
          "evalue": "ignored",
          "traceback": [
            "\u001b[0;31m---------------------------------------------------------------------------\u001b[0m",
            "\u001b[0;31mTypeError\u001b[0m                                 Traceback (most recent call last)",
            "\u001b[0;32m<ipython-input-21-7fe885dfaa27>\u001b[0m in \u001b[0;36m<module>\u001b[0;34m()\u001b[0m\n\u001b[0;32m----> 1\u001b[0;31m \u001b[0;36m20\u001b[0m \u001b[0;34m/\u001b[0m \u001b[0;34m\"예찬\"\u001b[0m\u001b[0;34m\u001b[0m\u001b[0;34m\u001b[0m\u001b[0m\n\u001b[0m",
            "\u001b[0;31mTypeError\u001b[0m: unsupported operand type(s) for /: 'int' and 'str'"
          ]
        }
      ]
    },
    {
      "cell_type": "code",
      "source": [
        "a = 3\n",
        "a()"
      ],
      "metadata": {
        "colab": {
          "base_uri": "https://localhost:8080/",
          "height": 190
        },
        "id": "K8_TuqvW4wlr",
        "outputId": "cd72fb27-1ef1-4ab1-d386-a558c7754b38"
      },
      "execution_count": null,
      "outputs": [
        {
          "output_type": "error",
          "ename": "TypeError",
          "evalue": "ignored",
          "traceback": [
            "\u001b[0;31m---------------------------------------------------------------------------\u001b[0m",
            "\u001b[0;31mTypeError\u001b[0m                                 Traceback (most recent call last)",
            "\u001b[0;32m<ipython-input-22-0bf2a3b2549b>\u001b[0m in \u001b[0;36m<module>\u001b[0;34m()\u001b[0m\n\u001b[1;32m      1\u001b[0m \u001b[0ma\u001b[0m \u001b[0;34m=\u001b[0m \u001b[0;36m3\u001b[0m\u001b[0;34m\u001b[0m\u001b[0;34m\u001b[0m\u001b[0m\n\u001b[0;32m----> 2\u001b[0;31m \u001b[0ma\u001b[0m\u001b[0;34m(\u001b[0m\u001b[0;34m)\u001b[0m\u001b[0;34m\u001b[0m\u001b[0;34m\u001b[0m\u001b[0m\n\u001b[0m",
            "\u001b[0;31mTypeError\u001b[0m: 'int' object is not callable"
          ]
        }
      ]
    },
    {
      "cell_type": "markdown",
      "source": [
        "- FileNotFoundError\n",
        "    -없는 파일을 읽어드리려 할때"
      ],
      "metadata": {
        "id": "WdssTz864zKb"
      }
    },
    {
      "cell_type": "code",
      "source": [
        "open(\"text.txt\")"
      ],
      "metadata": {
        "colab": {
          "base_uri": "https://localhost:8080/",
          "height": 172
        },
        "id": "cXGYPwij5DZ3",
        "outputId": "3f2b4780-bc9b-4062-816f-9d570d8d9b04"
      },
      "execution_count": null,
      "outputs": [
        {
          "output_type": "error",
          "ename": "FileNotFoundError",
          "evalue": "ignored",
          "traceback": [
            "\u001b[0;31m---------------------------------------------------------------------------\u001b[0m",
            "\u001b[0;31mFileNotFoundError\u001b[0m                         Traceback (most recent call last)",
            "\u001b[0;32m<ipython-input-24-4a8bace7e47e>\u001b[0m in \u001b[0;36m<module>\u001b[0;34m()\u001b[0m\n\u001b[0;32m----> 1\u001b[0;31m \u001b[0mopen\u001b[0m\u001b[0;34m(\u001b[0m\u001b[0;34m\"text.txt\"\u001b[0m\u001b[0;34m)\u001b[0m\u001b[0;34m\u001b[0m\u001b[0;34m\u001b[0m\u001b[0m\n\u001b[0m",
            "\u001b[0;31mFileNotFoundError\u001b[0m: [Errno 2] No such file or directory: 'text.txt'"
          ]
        }
      ]
    },
    {
      "cell_type": "markdown",
      "source": [
        "- AttibuteError\n",
        "    - 객체에 없는 속성을 사용하려 할때"
      ],
      "metadata": {
        "id": "D3g-vQ1q5Pam"
      }
    },
    {
      "cell_type": "code",
      "source": [
        "class MyClass:\n",
        "    def do_func(self):\n",
        "        self.a = self.a + 2\n",
        "mc = MyClass()\n",
        "mc.do_func()"
      ],
      "metadata": {
        "colab": {
          "base_uri": "https://localhost:8080/",
          "height": 335
        },
        "id": "2P8fBxip5heB",
        "outputId": "ca6e5da7-913c-4e0d-daac-f353e620530b"
      },
      "execution_count": null,
      "outputs": [
        {
          "output_type": "error",
          "ename": "AttributeError",
          "evalue": "ignored",
          "traceback": [
            "\u001b[0;31m---------------------------------------------------------------------------\u001b[0m",
            "\u001b[0;31mAttributeError\u001b[0m                            Traceback (most recent call last)",
            "\u001b[0;32m<ipython-input-25-bc354ea2e2ee>\u001b[0m in \u001b[0;36m<module>\u001b[0;34m()\u001b[0m\n\u001b[1;32m      3\u001b[0m         \u001b[0mself\u001b[0m\u001b[0;34m.\u001b[0m\u001b[0ma\u001b[0m \u001b[0;34m=\u001b[0m \u001b[0mself\u001b[0m\u001b[0;34m.\u001b[0m\u001b[0ma\u001b[0m \u001b[0;34m+\u001b[0m \u001b[0;36m2\u001b[0m\u001b[0;34m\u001b[0m\u001b[0;34m\u001b[0m\u001b[0m\n\u001b[1;32m      4\u001b[0m \u001b[0mmc\u001b[0m \u001b[0;34m=\u001b[0m \u001b[0mMyClass\u001b[0m\u001b[0;34m(\u001b[0m\u001b[0;34m)\u001b[0m\u001b[0;34m\u001b[0m\u001b[0;34m\u001b[0m\u001b[0m\n\u001b[0;32m----> 5\u001b[0;31m \u001b[0mmc\u001b[0m\u001b[0;34m.\u001b[0m\u001b[0mdo_func\u001b[0m\u001b[0;34m(\u001b[0m\u001b[0;34m)\u001b[0m\u001b[0;34m\u001b[0m\u001b[0;34m\u001b[0m\u001b[0m\n\u001b[0m",
            "\u001b[0;32m<ipython-input-25-bc354ea2e2ee>\u001b[0m in \u001b[0;36mdo_func\u001b[0;34m(self)\u001b[0m\n\u001b[1;32m      1\u001b[0m \u001b[0;32mclass\u001b[0m \u001b[0mMyClass\u001b[0m\u001b[0;34m:\u001b[0m\u001b[0;34m\u001b[0m\u001b[0;34m\u001b[0m\u001b[0m\n\u001b[1;32m      2\u001b[0m     \u001b[0;32mdef\u001b[0m \u001b[0mdo_func\u001b[0m\u001b[0;34m(\u001b[0m\u001b[0mself\u001b[0m\u001b[0;34m)\u001b[0m\u001b[0;34m:\u001b[0m\u001b[0;34m\u001b[0m\u001b[0;34m\u001b[0m\u001b[0m\n\u001b[0;32m----> 3\u001b[0;31m         \u001b[0mself\u001b[0m\u001b[0;34m.\u001b[0m\u001b[0ma\u001b[0m \u001b[0;34m=\u001b[0m \u001b[0mself\u001b[0m\u001b[0;34m.\u001b[0m\u001b[0ma\u001b[0m \u001b[0;34m+\u001b[0m \u001b[0;36m2\u001b[0m\u001b[0;34m\u001b[0m\u001b[0;34m\u001b[0m\u001b[0m\n\u001b[0m\u001b[1;32m      4\u001b[0m \u001b[0mmc\u001b[0m \u001b[0;34m=\u001b[0m \u001b[0mMyClass\u001b[0m\u001b[0;34m(\u001b[0m\u001b[0;34m)\u001b[0m\u001b[0;34m\u001b[0m\u001b[0;34m\u001b[0m\u001b[0m\n\u001b[1;32m      5\u001b[0m \u001b[0mmc\u001b[0m\u001b[0;34m.\u001b[0m\u001b[0mdo_func\u001b[0m\u001b[0;34m(\u001b[0m\u001b[0;34m)\u001b[0m\u001b[0;34m\u001b[0m\u001b[0;34m\u001b[0m\u001b[0m\n",
            "\u001b[0;31mAttributeError\u001b[0m: 'MyClass' object has no attribute 'a'"
          ]
        }
      ]
    },
    {
      "cell_type": "markdown",
      "source": [
        "```\n",
        "리스트 형태의 데이터가 있다.\n",
        "정수형으로 변환해서 새로운 리스트에 담자.\n",
        "정수형으로 변환이 안되는 예외 발생시 \"정수형으로 변환되지 않습니다.\" 라는 출력과 함께 실수로 변경해서 다시 정수형으로 변경하는 코드를 작성해봅시다.\n",
        "```"
      ],
      "metadata": {
        "id": "W8kzlH915xEj"
      }
    },
    {
      "cell_type": "code",
      "source": [
        "lst = [\"3\",\"5\",\"3.\",\"3.0\",\"10\"]\n",
        "num_list = []\n",
        "for i in lst:\n",
        "    try:\n",
        "        num_list.append(int(i))\n",
        "    except:\n",
        "        print(\"정수형으로 변환되지 않습니다.\")\n",
        "        num_list.append(int(float(i)))\n",
        "num_list\n"
      ],
      "metadata": {
        "colab": {
          "base_uri": "https://localhost:8080/"
        },
        "id": "4TnLeU3A6MeD",
        "outputId": "6137d189-aa3f-4afb-adf5-776a4608814d"
      },
      "execution_count": null,
      "outputs": [
        {
          "output_type": "stream",
          "name": "stdout",
          "text": [
            "정수형으로 변환되지 않습니다.\n",
            "정수형으로 변환되지 않습니다.\n"
          ]
        },
        {
          "output_type": "execute_result",
          "data": {
            "text/plain": [
              "[3, 5, 3, 3, 10]"
            ]
          },
          "metadata": {},
          "execution_count": 37
        }
      ]
    },
    {
      "cell_type": "markdown",
      "source": [
        "- 여러개의 예외가 발생할 수 있거나 어떤 예외가 발생할지 알수 없을때"
      ],
      "metadata": {
        "id": "dRgVOrZ461U4"
      }
    },
    {
      "cell_type": "code",
      "source": [
        "try:\n",
        "    open(\"text.txt\")\n",
        "    a = 5 / 0\n",
        "except Exception as e:\n",
        "    print(e)"
      ],
      "metadata": {
        "colab": {
          "base_uri": "https://localhost:8080/"
        },
        "id": "bdbAz6V2AHfT",
        "outputId": "eed34521-7e0a-4cfc-c11b-4a3d69ac10e5"
      },
      "execution_count": null,
      "outputs": [
        {
          "output_type": "stream",
          "name": "stdout",
          "text": [
            "[Errno 2] No such file or directory: 'text.txt'\n"
          ]
        }
      ]
    },
    {
      "cell_type": "markdown",
      "source": [
        "- else 문\n",
        "    - 해당 예외가 발생하지 않을 경우 수행할 코드\n",
        "    "
      ],
      "metadata": {
        "id": "UStS3-jSAYAu"
      }
    },
    {
      "cell_type": "code",
      "source": [
        "n = 100\n",
        "for i in range(10):\n",
        "    try:\n",
        "        result = n/i\n",
        "    except ZeroDivisionError as e:\n",
        "        print(e)\n",
        "    else:\n",
        "        result **= 2\n",
        "        print(result)"
      ],
      "metadata": {
        "colab": {
          "base_uri": "https://localhost:8080/"
        },
        "id": "VkQwwnSaAryW",
        "outputId": "aa524e71-164e-4b6e-b08c-d3edf29d3a0b"
      },
      "execution_count": null,
      "outputs": [
        {
          "output_type": "stream",
          "name": "stdout",
          "text": [
            "division by zero\n",
            "10000.0\n",
            "2500.0\n",
            "1111.1111111111113\n",
            "625.0\n",
            "400.0\n",
            "277.7777777777778\n",
            "204.08163265306123\n",
            "156.25\n",
            "123.45679012345678\n"
          ]
        }
      ]
    },
    {
      "cell_type": "markdown",
      "source": [
        "- finally 문\n",
        "    - 예외 발생여부와 상관없이 무조건 수행할 코드\n"
      ],
      "metadata": {
        "id": "epywtfqwBMCX"
      }
    },
    {
      "cell_type": "code",
      "source": [
        "for n in range(3):\n",
        "    try:\n",
        "        result = 100/n\n",
        "    except ZeroDivisionError as e:\n",
        "        print(e)\n",
        "    else:\n",
        "        print(\"정상적으로 연산되었습니다.\")\n",
        "    finally:\n",
        "        print()"
      ],
      "metadata": {
        "colab": {
          "base_uri": "https://localhost:8080/"
        },
        "id": "DfnaghGvBrLh",
        "outputId": "c8bc0295-3d0b-4704-f6a4-2e076034c7a8"
      },
      "execution_count": null,
      "outputs": [
        {
          "output_type": "stream",
          "name": "stdout",
          "text": [
            "division by zero\n",
            "\n",
            "정상적으로 연산되었습니다.\n",
            "\n",
            "정상적으로 연산되었습니다.\n",
            "\n"
          ]
        }
      ]
    },
    {
      "cell_type": "markdown",
      "source": [
        "- 정리\n",
        "```\n",
        "try:\n",
        "    예외 발생 가능성이 있는 실행 코드 \n",
        "except:\n",
        "    예외 발생시 실행 코드\n",
        "else:\n",
        "    예외 발생하지 않았을 경우 실행코드\n",
        "finally:\n",
        "    예외 발생 여부와 상관없이 항상 실행할 코드\n",
        "```"
      ],
      "metadata": {
        "id": "IfpWl88rCERK"
      }
    },
    {
      "cell_type": "markdown",
      "source": [
        "```\n",
        "- 숫자형태의 문자열을 담은 리스트가 있다.\n",
        "- 정수형으로 변환해서 새로운 리스트에 담자.\n",
        "- 정수형으로 변환시 예외가 발생하지 않을 경우 \"정상적으로 정수형으로 변경합니다.\" 출력\n",
        "- 정수형으로 변환이 안되는 예외 발생시\n",
        "\"정수형으로 변환되지 않습니다. 실수형으로 변환후에 시도하겠습니다.\"라는 출력과 함꼐 실수형으로 변경해서 다시 정수형으로 변경하는 코드를 작성\n",
        "- 예외 발생여부와 상관없이 \"정수형으로 변환 및 저장 완료\"를 출력\n",
        "```"
      ],
      "metadata": {
        "id": "PurW1Br2CgWo"
      }
    },
    {
      "cell_type": "code",
      "source": [
        "lst = [\"3\",\"5\",\"3\",\"3.0\",\"10\"]\n",
        "num_list = []\n",
        "for i in lst:\n",
        "    try:\n",
        "        num = int(i)\n",
        "    except ValueError as e:\n",
        "        print(\"정수형으로 변환되지 않습니다. 실수형으로 변환후 시도하겠습니다.\")\n",
        "        num = int(float(i))\n",
        "    else:\n",
        "        print(\"정상적으로 정수형으로 변경합니다.\")\n",
        "    finally:\n",
        "        num_list.append(num)\n",
        "        print(\"정수형으로 변환 및 저장 완료\")\n",
        "\n",
        "num_list"
      ],
      "metadata": {
        "colab": {
          "base_uri": "https://localhost:8080/"
        },
        "id": "olDtpfkwDNr7",
        "outputId": "33d75eae-0366-4f84-875e-0fbcb5f0a36d"
      },
      "execution_count": null,
      "outputs": [
        {
          "output_type": "stream",
          "name": "stdout",
          "text": [
            "정상적으로 정수형으로 변경합니다.\n",
            "정수형으로 변환 및 저장 완료\n",
            "정상적으로 정수형으로 변경합니다.\n",
            "정수형으로 변환 및 저장 완료\n",
            "정상적으로 정수형으로 변경합니다.\n",
            "정수형으로 변환 및 저장 완료\n",
            "정수형으로 변환되지 않습니다. 실수형으로 변환후 시도하겠습니다.\n",
            "정수형으로 변환 및 저장 완료\n",
            "정상적으로 정수형으로 변경합니다.\n",
            "정수형으로 변환 및 저장 완료\n"
          ]
        },
        {
          "output_type": "execute_result",
          "data": {
            "text/plain": [
              "[3, 5, 3, 3, 10]"
            ]
          },
          "metadata": {},
          "execution_count": 48
        }
      ]
    },
    {
      "cell_type": "markdown",
      "source": [
        "- raise 문\n",
        "    - 필요할때 에러를 발생 시키는 코드\n",
        "    - if문과 함께 많이 사용된다.\n",
        "    "
      ],
      "metadata": {
        "id": "0E1vE86qELsL"
      }
    },
    {
      "cell_type": "code",
      "source": [
        "num = 0\n",
        "if num == 0:\n",
        "    raise ValueError\n"
      ],
      "metadata": {
        "colab": {
          "base_uri": "https://localhost:8080/",
          "height": 208
        },
        "id": "NnS3SShlF1zM",
        "outputId": "005675c3-230d-4905-e653-0ecfe1ae2000"
      },
      "execution_count": null,
      "outputs": [
        {
          "output_type": "error",
          "ename": "ValueError",
          "evalue": "ignored",
          "traceback": [
            "\u001b[0;31m---------------------------------------------------------------------------\u001b[0m",
            "\u001b[0;31mValueError\u001b[0m                                Traceback (most recent call last)",
            "\u001b[0;32m<ipython-input-49-ba8385f89054>\u001b[0m in \u001b[0;36m<module>\u001b[0;34m()\u001b[0m\n\u001b[1;32m      1\u001b[0m \u001b[0mnum\u001b[0m \u001b[0;34m=\u001b[0m \u001b[0;36m0\u001b[0m\u001b[0;34m\u001b[0m\u001b[0;34m\u001b[0m\u001b[0m\n\u001b[1;32m      2\u001b[0m \u001b[0;32mif\u001b[0m \u001b[0mnum\u001b[0m \u001b[0;34m==\u001b[0m \u001b[0;36m0\u001b[0m\u001b[0;34m:\u001b[0m\u001b[0;34m\u001b[0m\u001b[0;34m\u001b[0m\u001b[0m\n\u001b[0;32m----> 3\u001b[0;31m     \u001b[0;32mraise\u001b[0m \u001b[0mValueError\u001b[0m\u001b[0;34m\u001b[0m\u001b[0;34m\u001b[0m\u001b[0m\n\u001b[0m",
            "\u001b[0;31mValueError\u001b[0m: "
          ]
        }
      ]
    },
    {
      "cell_type": "markdown",
      "source": [
        "- 메세지도 넣을 수 있다.\n"
      ],
      "metadata": {
        "id": "cNc7Nq_SGCE4"
      }
    },
    {
      "cell_type": "code",
      "source": [
        "num = 0 \n",
        "if num == 0:\n",
        "    raise ValueError(\"0으로 나눌수 없어요\")"
      ],
      "metadata": {
        "colab": {
          "base_uri": "https://localhost:8080/",
          "height": 208
        },
        "id": "AeMA2AdMGI4h",
        "outputId": "259a514d-ebd6-462c-85f9-c294650811f4"
      },
      "execution_count": null,
      "outputs": [
        {
          "output_type": "error",
          "ename": "ValueError",
          "evalue": "ignored",
          "traceback": [
            "\u001b[0;31m---------------------------------------------------------------------------\u001b[0m",
            "\u001b[0;31mValueError\u001b[0m                                Traceback (most recent call last)",
            "\u001b[0;32m<ipython-input-50-345d7f4b6e98>\u001b[0m in \u001b[0;36m<module>\u001b[0;34m()\u001b[0m\n\u001b[1;32m      1\u001b[0m \u001b[0mnum\u001b[0m \u001b[0;34m=\u001b[0m \u001b[0;36m0\u001b[0m\u001b[0;34m\u001b[0m\u001b[0;34m\u001b[0m\u001b[0m\n\u001b[1;32m      2\u001b[0m \u001b[0;32mif\u001b[0m \u001b[0mnum\u001b[0m \u001b[0;34m==\u001b[0m \u001b[0;36m0\u001b[0m\u001b[0;34m:\u001b[0m\u001b[0;34m\u001b[0m\u001b[0;34m\u001b[0m\u001b[0m\n\u001b[0;32m----> 3\u001b[0;31m     \u001b[0;32mraise\u001b[0m \u001b[0mValueError\u001b[0m\u001b[0;34m(\u001b[0m\u001b[0;34m\"0으로 나눌수 없어요\"\u001b[0m\u001b[0;34m)\u001b[0m\u001b[0;34m\u001b[0m\u001b[0;34m\u001b[0m\u001b[0m\n\u001b[0m",
            "\u001b[0;31mValueError\u001b[0m: 0으로 나눌수 없어요"
          ]
        }
      ]
    },
    {
      "cell_type": "markdown",
      "source": [
        "```\n",
        "두개의 정수를 인수로 받아 두수를 나누는 함수를 작성하세요\n",
        "두번째 인수가 1보다 작을 경우 ValueError 발생시키고\n",
        "\"1이상의 정수만 입력하세요\" 출력\n",
        "```"
      ],
      "metadata": {
        "id": "jazFqB0FGR-8"
      }
    },
    {
      "cell_type": "code",
      "source": [
        "def div(a,b):\n",
        "    if b <= 1:\n",
        "        raise ValueError(\"1이상의 정수만 입력하세요\")\n",
        "    else:\n",
        "        return int(a/b)\n",
        "\n",
        "            \n"
      ],
      "metadata": {
        "id": "p6Gv1zCpGm4M"
      },
      "execution_count": null,
      "outputs": []
    },
    {
      "cell_type": "code",
      "source": [
        "div(3,0)\n",
        "\n"
      ],
      "metadata": {
        "colab": {
          "base_uri": "https://localhost:8080/",
          "height": 317
        },
        "id": "MkCxEJIaHbhQ",
        "outputId": "3c0fdabb-d57c-44c7-ff8b-bc9b34446510"
      },
      "execution_count": null,
      "outputs": [
        {
          "output_type": "error",
          "ename": "ValueError",
          "evalue": "ignored",
          "traceback": [
            "\u001b[0;31m---------------------------------------------------------------------------\u001b[0m",
            "\u001b[0;31mValueError\u001b[0m                                Traceback (most recent call last)",
            "\u001b[0;32m<ipython-input-57-afa189ceaa49>\u001b[0m in \u001b[0;36m<module>\u001b[0;34m()\u001b[0m\n\u001b[0;32m----> 1\u001b[0;31m \u001b[0mdiv\u001b[0m\u001b[0;34m(\u001b[0m\u001b[0;36m3\u001b[0m\u001b[0;34m,\u001b[0m\u001b[0;36m0\u001b[0m\u001b[0;34m)\u001b[0m\u001b[0;34m\u001b[0m\u001b[0;34m\u001b[0m\u001b[0m\n\u001b[0m\u001b[1;32m      2\u001b[0m \u001b[0;34m\u001b[0m\u001b[0m\n",
            "\u001b[0;32m<ipython-input-54-7203aa5d6720>\u001b[0m in \u001b[0;36mdiv\u001b[0;34m(a, b)\u001b[0m\n\u001b[1;32m      1\u001b[0m \u001b[0;32mdef\u001b[0m \u001b[0mdiv\u001b[0m\u001b[0;34m(\u001b[0m\u001b[0ma\u001b[0m\u001b[0;34m,\u001b[0m\u001b[0mb\u001b[0m\u001b[0;34m)\u001b[0m\u001b[0;34m:\u001b[0m\u001b[0;34m\u001b[0m\u001b[0;34m\u001b[0m\u001b[0m\n\u001b[1;32m      2\u001b[0m     \u001b[0;32mif\u001b[0m \u001b[0mb\u001b[0m \u001b[0;34m<=\u001b[0m \u001b[0;36m1\u001b[0m\u001b[0;34m:\u001b[0m\u001b[0;34m\u001b[0m\u001b[0;34m\u001b[0m\u001b[0m\n\u001b[0;32m----> 3\u001b[0;31m         \u001b[0;32mraise\u001b[0m \u001b[0mValueError\u001b[0m\u001b[0;34m(\u001b[0m\u001b[0;34m\"1이상의 정수만 입력하세요\"\u001b[0m\u001b[0;34m)\u001b[0m\u001b[0;34m\u001b[0m\u001b[0;34m\u001b[0m\u001b[0m\n\u001b[0m\u001b[1;32m      4\u001b[0m     \u001b[0;32melse\u001b[0m\u001b[0;34m:\u001b[0m\u001b[0;34m\u001b[0m\u001b[0;34m\u001b[0m\u001b[0m\n\u001b[1;32m      5\u001b[0m         \u001b[0;32mreturn\u001b[0m \u001b[0mint\u001b[0m\u001b[0;34m(\u001b[0m\u001b[0ma\u001b[0m\u001b[0;34m/\u001b[0m\u001b[0mb\u001b[0m\u001b[0;34m)\u001b[0m\u001b[0;34m\u001b[0m\u001b[0;34m\u001b[0m\u001b[0m\n",
            "\u001b[0;31mValueError\u001b[0m: 1이상의 정수만 입력하세요"
          ]
        }
      ]
    },
    {
      "cell_type": "markdown",
      "source": [
        "- assert 문\n",
        "    - 조건이 거짓일 경우 오류를 발생 시킴\n",
        "    "
      ],
      "metadata": {
        "id": "bpvpXK6wHxXu"
      }
    },
    {
      "cell_type": "code",
      "source": [
        "def div(num1,num2):\n",
        "    assert num2 > 0, \"1이상의 정수만 입력하세요\" \n",
        "    return num1/num2\n",
        "div(1,1)"
      ],
      "metadata": {
        "colab": {
          "base_uri": "https://localhost:8080/"
        },
        "id": "ES4VlR2lIr94",
        "outputId": "dcfd8bb1-b036-4592-f6f9-5b5cfa68a63b"
      },
      "execution_count": null,
      "outputs": [
        {
          "output_type": "execute_result",
          "data": {
            "text/plain": [
              "1.0"
            ]
          },
          "metadata": {},
          "execution_count": 59
        }
      ]
    },
    {
      "cell_type": "code",
      "source": [],
      "metadata": {
        "id": "C5fyw2_eI-NP"
      },
      "execution_count": null,
      "outputs": []
    }
  ]
}