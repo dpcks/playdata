{
  "nbformat": 4,
  "nbformat_minor": 0,
  "metadata": {
    "colab": {
      "provenance": [],
      "toc_visible": true,
      "authorship_tag": "ABX9TyNJMR92LvHi8YT2L2J37hJ8",
      "include_colab_link": true
    },
    "kernelspec": {
      "name": "python3",
      "display_name": "Python 3"
    },
    "language_info": {
      "name": "python"
    }
  },
  "cells": [
    {
      "cell_type": "markdown",
      "metadata": {
        "id": "view-in-github",
        "colab_type": "text"
      },
      "source": [
        "<a href=\"https://colab.research.google.com/github/dpcks/playdata/blob/main/01_%EA%B0%9D%EC%B2%B4%EC%99%80%EB%B3%80%EC%88%98_%EA%B8%B0%EB%B3%B8%EC%9E%90%EB%A3%8C%ED%96%89_%EC%97%B0%EC%82%B0%EC%9E%90.ipynb\" target=\"_parent\"><img src=\"https://colab.research.google.com/assets/colab-badge.svg\" alt=\"Open In Colab\"/></a>"
      ]
    },
    {
      "cell_type": "markdown",
      "source": [
        "# 값(객체) , 변수 , 키워드(Keyword)\n",
        "\n",
        "## 값(객체)\n",
        "- 객체라고 함\n",
        "- 프로그래밍에서 처리해야하는 대상\n",
        "- 수, 문자, 이미지, 음성 등\n",
        "\n",
        "## 변수\n",
        "- 값을 담을 수 있는 공간\n",
        "- 객체의 위치(주소)를 갖고 있는 공간\n",
        "\n",
        "## 키워드\n",
        "- 파이썬에서 이미 예약되어있는 예약어다(문법적인 요소)\n"
      ],
      "metadata": {
        "id": "1hYso90jmEI8"
      }
    },
    {
      "cell_type": "code",
      "source": [
        "x = 1004\n",
        "x"
      ],
      "metadata": {
        "colab": {
          "base_uri": "https://localhost:8080/"
        },
        "id": "8CVzhmMDoTdS",
        "outputId": "87569657-63c9-44a2-8ceb-d8cb29224d48"
      },
      "execution_count": null,
      "outputs": [
        {
          "output_type": "execute_result",
          "data": {
            "text/plain": [
              "1004"
            ]
          },
          "metadata": {},
          "execution_count": 1
        }
      ]
    },
    {
      "cell_type": "code",
      "source": [
        "y = x\n",
        "y"
      ],
      "metadata": {
        "colab": {
          "base_uri": "https://localhost:8080/"
        },
        "id": "kMwPa5NAoYLL",
        "outputId": "2097cfbe-7863-42e7-e643-0c5b057fb079"
      },
      "execution_count": null,
      "outputs": [
        {
          "output_type": "execute_result",
          "data": {
            "text/plain": [
              "1004"
            ]
          },
          "metadata": {},
          "execution_count": 2
        }
      ]
    },
    {
      "cell_type": "code",
      "source": [
        "id(x) , id(y)"
      ],
      "metadata": {
        "colab": {
          "base_uri": "https://localhost:8080/"
        },
        "id": "S7qdu7d8ofj6",
        "outputId": "4ed19d9f-3b2c-482a-992f-bc0b428897a7"
      },
      "execution_count": null,
      "outputs": [
        {
          "output_type": "execute_result",
          "data": {
            "text/plain": [
              "(139661437308432, 139661437308432)"
            ]
          },
          "metadata": {},
          "execution_count": 3
        }
      ]
    },
    {
      "cell_type": "code",
      "source": [
        "x = 1001\n",
        "y = 1001\n",
        "\n",
        "id(x), id(y) "
      ],
      "metadata": {
        "colab": {
          "base_uri": "https://localhost:8080/"
        },
        "id": "jm4FM1oPoxap",
        "outputId": "0e1139b4-3f6b-46a4-b6f6-440d556be393"
      },
      "execution_count": null,
      "outputs": [
        {
          "output_type": "execute_result",
          "data": {
            "text/plain": [
              "(139661437370608, 139661437372976)"
            ]
          },
          "metadata": {},
          "execution_count": 5
        }
      ]
    },
    {
      "cell_type": "markdown",
      "source": [
        "## 변수를 왜 사용하는가?\n",
        "- 코드의 재활용성과 가독성을 높여주고, 중복을 제거하여 유지보수 용이"
      ],
      "metadata": {
        "id": "Fs2zD-lbo6zE"
      }
    },
    {
      "cell_type": "code",
      "source": [
        "print(9*1)\n",
        "print(9*2)\n",
        "print(9*3)\n",
        "print(9*4)\n",
        "print(9*5)\n",
        "print(9*6)\n",
        "print(9*7)\n",
        "print(9*8)\n",
        "print(9*9)"
      ],
      "metadata": {
        "colab": {
          "base_uri": "https://localhost:8080/"
        },
        "id": "OJf2oUsPpccP",
        "outputId": "007657c7-9893-4618-d451-6760410337a2"
      },
      "execution_count": null,
      "outputs": [
        {
          "output_type": "stream",
          "name": "stdout",
          "text": [
            "9\n",
            "18\n",
            "27\n",
            "36\n",
            "45\n",
            "54\n",
            "63\n",
            "72\n",
            "81\n"
          ]
        }
      ]
    },
    {
      "cell_type": "code",
      "source": [
        "n = 3\n",
        "print(n*1)\n",
        "print(n*2)\n",
        "print(n*3)\n",
        "print(n*4)\n",
        "print(n*5)\n",
        "print(n*6)\n",
        "print(n*7)\n",
        "print(n*8)\n",
        "print(n*9)"
      ],
      "metadata": {
        "colab": {
          "base_uri": "https://localhost:8080/"
        },
        "id": "VgAomxc6pq2Y",
        "outputId": "24ba3f86-1dc0-4a5c-adfd-1763a210bce5"
      },
      "execution_count": null,
      "outputs": [
        {
          "output_type": "stream",
          "name": "stdout",
          "text": [
            "3\n",
            "6\n",
            "9\n",
            "12\n",
            "15\n",
            "18\n",
            "21\n",
            "24\n",
            "27\n"
          ]
        }
      ]
    },
    {
      "cell_type": "markdown",
      "source": [
        "## 특별한 변수 언더바('_')\n",
        "- 대화형 환경에서 마지막으로 실행된 반환 결과를 '_' 에 자동 할당"
      ],
      "metadata": {
        "id": "Ich3U9Btp-L5"
      }
    },
    {
      "cell_type": "code",
      "source": [
        "a=3\n",
        "a"
      ],
      "metadata": {
        "colab": {
          "base_uri": "https://localhost:8080/"
        },
        "id": "pUbVSLIup2zH",
        "outputId": "07829e3c-040a-469b-916a-cee0e73d0d5c"
      },
      "execution_count": null,
      "outputs": [
        {
          "output_type": "execute_result",
          "data": {
            "text/plain": [
              "3"
            ]
          },
          "metadata": {},
          "execution_count": 11
        }
      ]
    },
    {
      "cell_type": "code",
      "source": [
        "_"
      ],
      "metadata": {
        "colab": {
          "base_uri": "https://localhost:8080/"
        },
        "id": "nN3qWmLbqQQ5",
        "outputId": "537fdaa1-5fc1-477f-b781-1a29ff9babb6"
      },
      "execution_count": null,
      "outputs": [
        {
          "output_type": "execute_result",
          "data": {
            "text/plain": [
              "3"
            ]
          },
          "metadata": {},
          "execution_count": 10
        }
      ]
    },
    {
      "cell_type": "markdown",
      "source": [
        "## 상수 \n",
        "- 변하지 않는 수\n",
        "- 프로그램 시작부터 종료까지 변하지 않는 변수\n",
        "- 파이썬에서는 상수를 지원해주지 않는다.\n"
      ],
      "metadata": {
        "id": "usuNbfOGqSuW"
      }
    },
    {
      "cell_type": "code",
      "source": [
        "DATA_PATH = \"/dir/train/\""
      ],
      "metadata": {
        "id": "gM41N4NHtJFb"
      },
      "execution_count": null,
      "outputs": []
    },
    {
      "cell_type": "markdown",
      "source": [
        "## 변수 이름 규칙\n",
        "- 대소문자를 구분\n",
        "- 알파벳, 숫자, 언더바(_)\n",
        "- 변수명 첫글자에 숫자는 문법오류\n",
        "-python 키워드 및 정의된 함수 및 클래스명으로 사용 불가"
      ],
      "metadata": {
        "id": "uTiL9epKtVpr"
      }
    },
    {
      "cell_type": "code",
      "source": [
        "1a = 1"
      ],
      "metadata": {
        "id": "8JivXBuLtzUx"
      },
      "execution_count": null,
      "outputs": []
    },
    {
      "cell_type": "code",
      "source": [
        "if = 1"
      ],
      "metadata": {
        "colab": {
          "base_uri": "https://localhost:8080/",
          "height": 136
        },
        "id": "AVf82gL8t1-w",
        "outputId": "e04eda87-cb11-4979-ca3a-c80077d58359"
      },
      "execution_count": null,
      "outputs": [
        {
          "output_type": "error",
          "ename": "SyntaxError",
          "evalue": "ignored",
          "traceback": [
            "\u001b[0;36m  File \u001b[0;32m\"<ipython-input-14-773eba7f7781>\"\u001b[0;36m, line \u001b[0;32m1\u001b[0m\n\u001b[0;31m    if = 1\u001b[0m\n\u001b[0m       ^\u001b[0m\n\u001b[0;31mSyntaxError\u001b[0m\u001b[0;31m:\u001b[0m invalid syntax\n"
          ]
        }
      ]
    },
    {
      "cell_type": "markdown",
      "source": [
        "#  자료형(data type)\n",
        "- 파이썬은 기본적으로 4가지 자료형이 있다.\n",
        "    - 'int' : -1,0,3, 정수를 의미\n",
        "    - 'float' : 3.14, 3.0, -1.5와 같은 실수를 의미\n",
        "    - 'bool' : 참(True) /거짓(False) 을 나타내는 논리자료형을 의미\n",
        "    - 'str' : 문자열 의미"
      ],
      "metadata": {
        "id": "o2vAGu00t8pt"
      }
    },
    {
      "cell_type": "code",
      "source": [
        "a = 1\n",
        "type(a)"
      ],
      "metadata": {
        "colab": {
          "base_uri": "https://localhost:8080/"
        },
        "id": "fShB4DiGuxYB",
        "outputId": "da09e638-cd2b-43a2-8ba8-ccce6aedf0f9"
      },
      "execution_count": null,
      "outputs": [
        {
          "output_type": "execute_result",
          "data": {
            "text/plain": [
              "int"
            ]
          },
          "metadata": {},
          "execution_count": 16
        }
      ]
    },
    {
      "cell_type": "code",
      "source": [
        "a = 1.0\n",
        "type(a)"
      ],
      "metadata": {
        "colab": {
          "base_uri": "https://localhost:8080/"
        },
        "id": "qh7SMqyHu22Y",
        "outputId": "098bff9e-7dc9-4b9f-f376-758ca3bff4a0"
      },
      "execution_count": null,
      "outputs": [
        {
          "output_type": "execute_result",
          "data": {
            "text/plain": [
              "float"
            ]
          },
          "metadata": {},
          "execution_count": 17
        }
      ]
    },
    {
      "cell_type": "code",
      "source": [
        "a = True\n",
        "type(a)"
      ],
      "metadata": {
        "colab": {
          "base_uri": "https://localhost:8080/"
        },
        "id": "cRfaxiatu8Nk",
        "outputId": "c3d6b60a-3624-40e2-d4d2-3b644643c3a4"
      },
      "execution_count": null,
      "outputs": [
        {
          "output_type": "execute_result",
          "data": {
            "text/plain": [
              "bool"
            ]
          },
          "metadata": {},
          "execution_count": 24
        }
      ]
    },
    {
      "cell_type": "code",
      "source": [
        "a = 'Python'\n",
        "type(a)"
      ],
      "metadata": {
        "colab": {
          "base_uri": "https://localhost:8080/"
        },
        "id": "I18CgXA_u_T7",
        "outputId": "fbc489d1-ac30-433b-ef19-137bb0692986"
      },
      "execution_count": null,
      "outputs": [
        {
          "output_type": "execute_result",
          "data": {
            "text/plain": [
              "str"
            ]
          },
          "metadata": {},
          "execution_count": 19
        }
      ]
    },
    {
      "cell_type": "markdown",
      "source": [
        "## 자료형 변환(Casting)"
      ],
      "metadata": {
        "id": "WwfhLLxpvErX"
      }
    },
    {
      "cell_type": "code",
      "source": [
        "int_value = 3\n",
        "float_value = 3.14\n",
        "bool_value = True\n",
        "str_value = '3'"
      ],
      "metadata": {
        "id": "qAFTYSQyvQ5G"
      },
      "execution_count": null,
      "outputs": []
    },
    {
      "cell_type": "code",
      "source": [
        "int(float_value)"
      ],
      "metadata": {
        "colab": {
          "base_uri": "https://localhost:8080/"
        },
        "id": "5BbcpEXqvfIH",
        "outputId": "93fb6558-cd0e-4698-8c43-652fb532183d"
      },
      "execution_count": null,
      "outputs": [
        {
          "output_type": "execute_result",
          "data": {
            "text/plain": [
              "3"
            ]
          },
          "metadata": {},
          "execution_count": 23
        }
      ]
    },
    {
      "cell_type": "code",
      "source": [
        "float(int_value)"
      ],
      "metadata": {
        "colab": {
          "base_uri": "https://localhost:8080/"
        },
        "id": "T7Uzr72hvj12",
        "outputId": "acb875ce-aa12-4455-e657-53155456d27d"
      },
      "execution_count": null,
      "outputs": [
        {
          "output_type": "execute_result",
          "data": {
            "text/plain": [
              "3.0"
            ]
          },
          "metadata": {},
          "execution_count": 25
        }
      ]
    },
    {
      "cell_type": "code",
      "source": [
        "str(float_value)"
      ],
      "metadata": {
        "colab": {
          "base_uri": "https://localhost:8080/",
          "height": 35
        },
        "id": "nMshtH45vrWF",
        "outputId": "63d08436-54ce-408a-8833-25b23a20ab7b"
      },
      "execution_count": null,
      "outputs": [
        {
          "output_type": "execute_result",
          "data": {
            "text/plain": [
              "'3.14'"
            ],
            "application/vnd.google.colaboratory.intrinsic+json": {
              "type": "string"
            }
          },
          "metadata": {},
          "execution_count": 26
        }
      ]
    },
    {
      "cell_type": "code",
      "source": [
        "bool(int_value) #0만 아니면 True"
      ],
      "metadata": {
        "colab": {
          "base_uri": "https://localhost:8080/"
        },
        "id": "lPTsBM5tvvii",
        "outputId": "84d7e045-ebd1-4d95-9913-3061c1f5f052"
      },
      "execution_count": null,
      "outputs": [
        {
          "output_type": "execute_result",
          "data": {
            "text/plain": [
              "True"
            ]
          },
          "metadata": {},
          "execution_count": 27
        }
      ]
    },
    {
      "cell_type": "code",
      "source": [
        "bool(0)"
      ],
      "metadata": {
        "colab": {
          "base_uri": "https://localhost:8080/"
        },
        "id": "97xjxHUkv0qa",
        "outputId": "6500b893-f972-4f2a-f851-ddd9452e3c18"
      },
      "execution_count": null,
      "outputs": [
        {
          "output_type": "execute_result",
          "data": {
            "text/plain": [
              "False"
            ]
          },
          "metadata": {},
          "execution_count": 28
        }
      ]
    },
    {
      "cell_type": "code",
      "source": [
        "int(str_value)"
      ],
      "metadata": {
        "colab": {
          "base_uri": "https://localhost:8080/"
        },
        "id": "bhzlMhtxv-PA",
        "outputId": "0d23245c-44b1-4eda-db74-d280bbdb5a54"
      },
      "execution_count": null,
      "outputs": [
        {
          "output_type": "execute_result",
          "data": {
            "text/plain": [
              "3"
            ]
          },
          "metadata": {},
          "execution_count": 29
        }
      ]
    },
    {
      "cell_type": "markdown",
      "source": [
        "# None\n",
        "- 없음을 나타내는 파이썬의 특수한 객체"
      ],
      "metadata": {
        "id": "5IL_zWyMwDuq"
      }
    },
    {
      "cell_type": "code",
      "source": [
        "a = None\n",
        "a"
      ],
      "metadata": {
        "id": "GrC6TI3CwWFg"
      },
      "execution_count": null,
      "outputs": []
    },
    {
      "cell_type": "markdown",
      "source": [
        "# 변수의 이름을 지을 때의 관례\n",
        "- 명사로 시작하며, 의미 있는 단어로 명명\n",
        "- 소문자로만 작성하며, 단어와 단어 사이를 언더바(_) 를 이용해 이어주기(snake case)\n",
        "- 'bool' 자료형은 담는 변수명은 'is_'로 시작하며, 뒤에 나오는 명사가 참인지 거짓인지를 추측하게 한다. "
      ],
      "metadata": {
        "id": "6VvhKywYwYU2"
      }
    },
    {
      "cell_type": "code",
      "source": [
        "student_name = '이예찬'\n",
        "is_number = False"
      ],
      "metadata": {
        "id": "yM0ck4YvxRpb"
      },
      "execution_count": null,
      "outputs": []
    },
    {
      "cell_type": "markdown",
      "source": [
        "# 연산자\n"
      ],
      "metadata": {
        "id": "es0iv71ixqS_"
      }
    },
    {
      "cell_type": "markdown",
      "source": [
        "##산술 연산자\n",
        "- 산술연산의 결과를 반환한다.\n",
        "- +, -, *, /, //, %, **"
      ],
      "metadata": {
        "id": "Zv9QBzwpx2xi"
      }
    },
    {
      "cell_type": "code",
      "source": [
        "print(5+2) # 더하기\n",
        "print(5-1) # 빼기\n",
        "print(5*2) # 곱하기\n",
        "print(5/2) # 나누기\n",
        "print(5//2) # 몫\n",
        "print(5%2) # 나머지\n",
        "print(5**2) # 거듭제곱"
      ],
      "metadata": {
        "colab": {
          "base_uri": "https://localhost:8080/"
        },
        "id": "AHw4VKP2yNHQ",
        "outputId": "514e7c09-4d6a-4fa7-91e0-de47c9967f31"
      },
      "execution_count": null,
      "outputs": [
        {
          "output_type": "stream",
          "name": "stdout",
          "text": [
            "7\n",
            "4\n",
            "10\n",
            "2.5\n",
            "2\n",
            "1\n",
            "25\n"
          ]
        }
      ]
    },
    {
      "cell_type": "code",
      "source": [
        "4 ** 0.5 #루트"
      ],
      "metadata": {
        "colab": {
          "base_uri": "https://localhost:8080/"
        },
        "id": "6TaqWJi1ymz9",
        "outputId": "2cd35fd3-866b-49a3-fc9d-811b790aae4c"
      },
      "execution_count": null,
      "outputs": [
        {
          "output_type": "execute_result",
          "data": {
            "text/plain": [
              "2.0"
            ]
          },
          "metadata": {},
          "execution_count": 33
        }
      ]
    },
    {
      "cell_type": "markdown",
      "source": [
        "## 대입연산자\n",
        "- 값을 변수에 할당한다.\n",
        "- 산술연산자의 값을 변수에 할당한다.\n",
        "-=, +=, -=, ....... "
      ],
      "metadata": {
        "id": "EoBNUP1Xy2Na"
      }
    },
    {
      "cell_type": "code",
      "source": [
        "num = 3\n",
        "num -= 3 #num = num -3\n",
        "num"
      ],
      "metadata": {
        "colab": {
          "base_uri": "https://localhost:8080/"
        },
        "id": "pJtSBgbczLgb",
        "outputId": "cf76fba3-d222-4efe-8895-1cabde0b633c"
      },
      "execution_count": null,
      "outputs": [
        {
          "output_type": "execute_result",
          "data": {
            "text/plain": [
              "0"
            ]
          },
          "metadata": {},
          "execution_count": 35
        }
      ]
    },
    {
      "cell_type": "code",
      "source": [
        "num = 3\n",
        "num **= 2\n",
        "num"
      ],
      "metadata": {
        "colab": {
          "base_uri": "https://localhost:8080/"
        },
        "id": "hfp1ww5ozbz5",
        "outputId": "fcf5de39-55b2-477f-e6c2-107d891f8d5a"
      },
      "execution_count": null,
      "outputs": [
        {
          "output_type": "execute_result",
          "data": {
            "text/plain": [
              "9"
            ]
          },
          "metadata": {},
          "execution_count": 36
        }
      ]
    },
    {
      "cell_type": "code",
      "source": [
        "num = 3\n",
        "num //= 2\n",
        "num"
      ],
      "metadata": {
        "colab": {
          "base_uri": "https://localhost:8080/"
        },
        "id": "DAXe4kamziPJ",
        "outputId": "84c44db1-873b-418c-c218-69c14f972b16"
      },
      "execution_count": null,
      "outputs": [
        {
          "output_type": "execute_result",
          "data": {
            "text/plain": [
              "1"
            ]
          },
          "metadata": {},
          "execution_count": 37
        }
      ]
    },
    {
      "cell_type": "code",
      "source": [
        "num = 3\n",
        "num %= 2\n",
        "num"
      ],
      "metadata": {
        "colab": {
          "base_uri": "https://localhost:8080/"
        },
        "id": "LTaIKf3vznTH",
        "outputId": "d75d350b-6b10-48c2-c77f-f682e05a0c1e"
      },
      "execution_count": null,
      "outputs": [
        {
          "output_type": "execute_result",
          "data": {
            "text/plain": [
              "1"
            ]
          },
          "metadata": {},
          "execution_count": 38
        }
      ]
    },
    {
      "cell_type": "markdown",
      "source": [
        "## 비교 연산자\n",
        "- 변수 또는 객체를 비교하여 bool 객체를 반환\n",
        "- > , < , >= , <=, !=, == "
      ],
      "metadata": {
        "id": "TvwpjuHUzq5H"
      }
    },
    {
      "cell_type": "code",
      "source": [
        "a = 5\n",
        "b = 3\n",
        "\n",
        "print(a > b) # a가 b보다 크다\n",
        "print(a < b) # a가 b보다 작다\n",
        "print(a >= 5) # a가 5보다 크거나 같다\n",
        "print(b <= 3) # b가 3보다 작거나 같다\n",
        "print(a == b) # a는 b와 같다\n",
        "print(a != b) # a는 b와 다르다."
      ],
      "metadata": {
        "colab": {
          "base_uri": "https://localhost:8080/"
        },
        "id": "QIlfNTYR0HhX",
        "outputId": "4bc12bd2-30ca-4c37-eda8-feb4e93964ca"
      },
      "execution_count": null,
      "outputs": [
        {
          "output_type": "stream",
          "name": "stdout",
          "text": [
            "True\n",
            "False\n",
            "True\n",
            "True\n",
            "False\n",
            "True\n"
          ]
        }
      ]
    },
    {
      "cell_type": "markdown",
      "source": [
        "## 논리연산자\n",
        "- 논리 자료형인 bool객체를 연산해서 bool객제를 변환한다.\n",
        "- `and, or, not`\n",
        "- `is_a and is_b` : 모두 참이면 True , 하나라도 거짓이면 False\n",
        "- `is_a or is_b` : 둘중에 하나라도 참이면 True 둘다 거짓이면 False\n",
        "- `not is_a` : is_a가 참이면 False, 거짓이면 True"
      ],
      "metadata": {
        "id": "mQBCxqvJ0qFE"
      }
    },
    {
      "cell_type": "code",
      "source": [
        "1 < 3 and 3 > 1"
      ],
      "metadata": {
        "colab": {
          "base_uri": "https://localhost:8080/"
        },
        "id": "CxqrQFFz1l8Y",
        "outputId": "65385e13-453f-4d1e-a92b-d22fe074b28c"
      },
      "execution_count": null,
      "outputs": [
        {
          "output_type": "execute_result",
          "data": {
            "text/plain": [
              "True"
            ]
          },
          "metadata": {},
          "execution_count": 40
        }
      ]
    },
    {
      "cell_type": "code",
      "source": [
        "1 < 3 and 1 < 1"
      ],
      "metadata": {
        "colab": {
          "base_uri": "https://localhost:8080/"
        },
        "id": "-Gyc2C-e1pk9",
        "outputId": "b9bf5a6f-f854-47db-b33c-6ae72ca1aa15"
      },
      "execution_count": null,
      "outputs": [
        {
          "output_type": "execute_result",
          "data": {
            "text/plain": [
              "False"
            ]
          },
          "metadata": {},
          "execution_count": 41
        }
      ]
    },
    {
      "cell_type": "code",
      "source": [
        "1 < 3 or 1 < 1"
      ],
      "metadata": {
        "colab": {
          "base_uri": "https://localhost:8080/"
        },
        "id": "5YYjcGzo1tXa",
        "outputId": "7692c3ae-6cac-4a25-dcbe-e9cc37ec8621"
      },
      "execution_count": null,
      "outputs": [
        {
          "output_type": "execute_result",
          "data": {
            "text/plain": [
              "True"
            ]
          },
          "metadata": {},
          "execution_count": 42
        }
      ]
    },
    {
      "cell_type": "code",
      "source": [
        "not False"
      ],
      "metadata": {
        "colab": {
          "base_uri": "https://localhost:8080/"
        },
        "id": "jxX388HY1vYE",
        "outputId": "6051da71-1180-4ad2-dec9-725f4445a4eb"
      },
      "execution_count": null,
      "outputs": [
        {
          "output_type": "execute_result",
          "data": {
            "text/plain": [
              "True"
            ]
          },
          "metadata": {},
          "execution_count": 43
        }
      ]
    },
    {
      "cell_type": "code",
      "source": [
        "not True"
      ],
      "metadata": {
        "colab": {
          "base_uri": "https://localhost:8080/"
        },
        "id": "1BdfWsmj1yOt",
        "outputId": "5d964ed7-5a7a-4b37-a21d-db7cb9d5755a"
      },
      "execution_count": null,
      "outputs": [
        {
          "output_type": "execute_result",
          "data": {
            "text/plain": [
              "False"
            ]
          },
          "metadata": {},
          "execution_count": 44
        }
      ]
    },
    {
      "cell_type": "code",
      "source": [
        "1 < 3 and 1 < 2 and 1 < 1\n"
      ],
      "metadata": {
        "colab": {
          "base_uri": "https://localhost:8080/"
        },
        "id": "m09S9mOk11Bp",
        "outputId": "a3961e81-6a2c-4d67-a6db-191570be267e"
      },
      "execution_count": null,
      "outputs": [
        {
          "output_type": "execute_result",
          "data": {
            "text/plain": [
              "False"
            ]
          },
          "metadata": {},
          "execution_count": 45
        }
      ]
    },
    {
      "cell_type": "code",
      "source": [
        "(1 < 3 and 1) < 2 or 1 < 1"
      ],
      "metadata": {
        "colab": {
          "base_uri": "https://localhost:8080/"
        },
        "id": "w9WFJWaw1_az",
        "outputId": "518a240e-8f54-4a54-b93a-908dfd19bf30"
      },
      "execution_count": null,
      "outputs": [
        {
          "output_type": "execute_result",
          "data": {
            "text/plain": [
              "True"
            ]
          },
          "metadata": {},
          "execution_count": 47
        }
      ]
    },
    {
      "cell_type": "code",
      "source": [
        "not (1 < 3 and 1 < 2)"
      ],
      "metadata": {
        "colab": {
          "base_uri": "https://localhost:8080/"
        },
        "id": "0CchDmUZ2FZ0",
        "outputId": "6b126676-c2c9-41d5-9ac7-e887bf72680b"
      },
      "execution_count": null,
      "outputs": [
        {
          "output_type": "execute_result",
          "data": {
            "text/plain": [
              "False"
            ]
          },
          "metadata": {},
          "execution_count": 48
        }
      ]
    },
    {
      "cell_type": "markdown",
      "source": [
        "## 포함 연산자\n",
        "- 어떠한 값이 포함 되어있는지 여부에 따라 bool 객체를 반환"
      ],
      "metadata": {
        "id": "s_dTTGTp2N92"
      }
    },
    {
      "cell_type": "code",
      "source": [
        "\"a\" in \"abcd\""
      ],
      "metadata": {
        "colab": {
          "base_uri": "https://localhost:8080/"
        },
        "id": "RHRV9XNt2q9r",
        "outputId": "5a1bd9bf-91e9-4c29-f95b-efc9f5e27576"
      },
      "execution_count": null,
      "outputs": [
        {
          "output_type": "execute_result",
          "data": {
            "text/plain": [
              "True"
            ]
          },
          "metadata": {},
          "execution_count": 49
        }
      ]
    },
    {
      "cell_type": "code",
      "source": [
        "\"a\" not in \"abcd\""
      ],
      "metadata": {
        "colab": {
          "base_uri": "https://localhost:8080/"
        },
        "id": "CXoENvIS2uS9",
        "outputId": "9e41db59-4035-472d-dc51-dee36f78a594"
      },
      "execution_count": null,
      "outputs": [
        {
          "output_type": "execute_result",
          "data": {
            "text/plain": [
              "False"
            ]
          },
          "metadata": {},
          "execution_count": 50
        }
      ]
    },
    {
      "cell_type": "code",
      "source": [],
      "metadata": {
        "colab": {
          "base_uri": "https://localhost:8080/"
        },
        "id": "uQ_YJC6n20A3",
        "outputId": "b5af97d3-70ae-433f-b8a3-db1375bed34b"
      },
      "execution_count": null,
      "outputs": [
        {
          "output_type": "stream",
          "name": "stdout",
          "text": [
            "Object `section` not found.\n"
          ]
        }
      ]
    },
    {
      "cell_type": "code",
      "source": [],
      "metadata": {
        "id": "T-AAsrnq3U4E"
      },
      "execution_count": null,
      "outputs": []
    }
  ]
}