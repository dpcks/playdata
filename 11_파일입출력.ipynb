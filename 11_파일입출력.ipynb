{
  "nbformat": 4,
  "nbformat_minor": 0,
  "metadata": {
    "colab": {
      "provenance": [],
      "authorship_tag": "ABX9TyMrlfu3vpXXNMgyhSgFJOTR",
      "include_colab_link": true
    },
    "kernelspec": {
      "name": "python3",
      "display_name": "Python 3"
    },
    "language_info": {
      "name": "python"
    }
  },
  "cells": [
    {
      "cell_type": "markdown",
      "metadata": {
        "id": "view-in-github",
        "colab_type": "text"
      },
      "source": [
        "<a href=\"https://colab.research.google.com/github/dpcks/playdata/blob/main/11_%ED%8C%8C%EC%9D%BC%EC%9E%85%EC%B6%9C%EB%A0%A5.ipynb\" target=\"_parent\"><img src=\"https://colab.research.google.com/assets/colab-badge.svg\" alt=\"Open In Colab\"/></a>"
      ]
    },
    {
      "cell_type": "markdown",
      "source": [
        "# 파일 입출력\n",
        "- open 함수\n",
        "    - 파일을 열수 있는 함수\n",
        "    - 파일 객체를 반환\n",
        "    - `w`: 쓰기 모드\n",
        "    - `a`: 추가 모드\n",
        "    - `r`: 읽기 모드\n",
        "    "
      ],
      "metadata": {
        "id": "TxLGZe-cFZ3t"
      }
    },
    {
      "cell_type": "markdown",
      "source": [
        "- 쓰기 모드"
      ],
      "metadata": {
        "id": "zW74jhB8GgrO"
      }
    },
    {
      "cell_type": "code",
      "source": [
        "f = open(\"memo.txt\",\"w\") # 해당 파일이 없을 경우 새로 생성\n",
        "print(f)\n",
        "f.close() # 파일을 열면 항상 닫아줘야한다.\n"
      ],
      "metadata": {
        "colab": {
          "base_uri": "https://localhost:8080/"
        },
        "id": "-lPDBpxxGfwm",
        "outputId": "02106174-41c8-4859-8a3f-2fcedef2d9a0"
      },
      "execution_count": null,
      "outputs": [
        {
          "output_type": "stream",
          "name": "stdout",
          "text": [
            "<_io.TextIOWrapper name='memo.txt' mode='w' encoding='UTF-8'>\n"
          ]
        }
      ]
    },
    {
      "cell_type": "code",
      "source": [
        "f = open(\"memo.txt\", \"w\")\n",
        "for i in range(1,11):\n",
        "    data = f\"{i} 번째 줄\\n\"\n",
        "    f.write(data)\n",
        "f.close()"
      ],
      "metadata": {
        "id": "yqwZddlvGymG"
      },
      "execution_count": null,
      "outputs": []
    },
    {
      "cell_type": "markdown",
      "source": [
        "- 쓰기 모드로 여는 순간 안에 파일 내용이 사라진다."
      ],
      "metadata": {
        "id": "MR770etPH_-1"
      }
    },
    {
      "cell_type": "code",
      "source": [
        "# f = open(\"memo.txt\",\"w\")\n",
        "# f.close"
      ],
      "metadata": {
        "id": "Mq0t36SeHRUQ",
        "colab": {
          "base_uri": "https://localhost:8080/"
        },
        "outputId": "78c92a17-69f3-411d-bd37-e4b42536278c"
      },
      "execution_count": null,
      "outputs": [
        {
          "output_type": "execute_result",
          "data": {
            "text/plain": [
              "<function TextIOWrapper.close>"
            ]
          },
          "metadata": {},
          "execution_count": 8
        }
      ]
    },
    {
      "cell_type": "markdown",
      "source": [
        "- 추가모드"
      ],
      "metadata": {
        "id": "2bYAWfwCIEbI"
      }
    },
    {
      "cell_type": "code",
      "source": [
        "f = open(\"memo.txt\",\"a\")\n",
        "data = \"11 번째 줄\\n\"\n",
        "f.write(data)\n",
        "f.close()"
      ],
      "metadata": {
        "id": "5tcpawIdHzVN"
      },
      "execution_count": null,
      "outputs": []
    },
    {
      "cell_type": "markdown",
      "source": [
        "- 읽기 모드"
      ],
      "metadata": {
        "id": "dCJT7VHAITwH"
      }
    },
    {
      "cell_type": "code",
      "source": [
        "f = open(\"memo.txt\",\"r\")\n",
        "data = f.read() # 파일 전체의 내용을 읽어서 반환한다.\n",
        "f.close()\n",
        "print(data)"
      ],
      "metadata": {
        "colab": {
          "base_uri": "https://localhost:8080/"
        },
        "id": "w0i_pAHfIypg",
        "outputId": "b47054c2-2d3e-4dad-c999-f65733759541"
      },
      "execution_count": null,
      "outputs": [
        {
          "output_type": "stream",
          "name": "stdout",
          "text": [
            "1 번째 줄\n",
            "2 번째 줄\n",
            "3 번째 줄\n",
            "4 번째 줄\n",
            "5 번째 줄\n",
            "6 번째 줄\n",
            "7 번째 줄\n",
            "8 번째 줄\n",
            "9 번째 줄\n",
            "10 번째 줄\n",
            "11 번째 줄\n",
            "\n"
          ]
        }
      ]
    },
    {
      "cell_type": "code",
      "source": [
        "f = open(\"memo.txt\",\"r\")\n",
        "while True:\n",
        "    data = f.readline() # 한줄씩 읽는데 줄바꿈 문자도 포함된다.\n",
        "    if not data:\n",
        "        break\n",
        "    print(data , end=\"\")\n",
        "f.close()"
      ],
      "metadata": {
        "colab": {
          "base_uri": "https://localhost:8080/"
        },
        "id": "hXpIdAYiJDmH",
        "outputId": "c7cb9986-a165-4121-90b0-3d5bf7b12974"
      },
      "execution_count": null,
      "outputs": [
        {
          "output_type": "stream",
          "name": "stdout",
          "text": [
            "1 번째 줄\n",
            "2 번째 줄\n",
            "3 번째 줄\n",
            "4 번째 줄\n",
            "5 번째 줄\n",
            "6 번째 줄\n",
            "7 번째 줄\n",
            "8 번째 줄\n",
            "9 번째 줄\n",
            "10 번째 줄\n",
            "11 번째 줄\n"
          ]
        }
      ]
    },
    {
      "cell_type": "code",
      "source": [
        "f = open(\"memo.txt\",\"r\")\n",
        "data = f.readlines()\n",
        "f.close()\n",
        "print(data)"
      ],
      "metadata": {
        "colab": {
          "base_uri": "https://localhost:8080/"
        },
        "id": "Vdal5-sdKXi8",
        "outputId": "4b14a43c-b593-4a61-8a5b-4880d252aa10"
      },
      "execution_count": null,
      "outputs": [
        {
          "output_type": "stream",
          "name": "stdout",
          "text": [
            "['1 번째 줄\\n', '2 번째 줄\\n', '3 번째 줄\\n', '4 번째 줄\\n', '5 번째 줄\\n', '6 번째 줄\\n', '7 번째 줄\\n', '8 번째 줄\\n', '9 번째 줄\\n', '10 번째 줄\\n', '11 번째 줄\\n']\n"
          ]
        }
      ]
    },
    {
      "cell_type": "markdown",
      "source": [
        "- `with` 문\n",
        "    - 자동으로 파일을 닫아준다.\n",
        "    "
      ],
      "metadata": {
        "id": "8BRh7tfkK3Le"
      }
    },
    {
      "cell_type": "code",
      "source": [
        "with open(\"memo.txt\",\"r\") as f: # open 함수로 인해 변환된 파일객체를 f 변수가 받아준다.\n",
        "    data = f.read()\n",
        "    print(data)"
      ],
      "metadata": {
        "colab": {
          "base_uri": "https://localhost:8080/"
        },
        "id": "DO4vNrvyLNY8",
        "outputId": "91bad0d5-5b2a-4540-d78f-8552d10198bb"
      },
      "execution_count": null,
      "outputs": [
        {
          "output_type": "stream",
          "name": "stdout",
          "text": [
            "1 번째 줄\n",
            "2 번째 줄\n",
            "3 번째 줄\n",
            "4 번째 줄\n",
            "5 번째 줄\n",
            "6 번째 줄\n",
            "7 번째 줄\n",
            "8 번째 줄\n",
            "9 번째 줄\n",
            "10 번째 줄\n",
            "11 번째 줄\n",
            "\n"
          ]
        }
      ]
    },
    {
      "cell_type": "markdown",
      "source": [
        "- with 문은 파일을 자동으로 닫아 주기 때문에 다음 처럼 메소드를 실행시 오류가 발생한다."
      ],
      "metadata": {
        "id": "VO8B6QwwLyDX"
      }
    },
    {
      "cell_type": "code",
      "source": [
        "f.read()"
      ],
      "metadata": {
        "colab": {
          "base_uri": "https://localhost:8080/",
          "height": 171
        },
        "id": "BhjkJeAALiTb",
        "outputId": "befc9738-8562-4d40-96cc-d41de3fc0978"
      },
      "execution_count": null,
      "outputs": [
        {
          "output_type": "error",
          "ename": "ValueError",
          "evalue": "ignored",
          "traceback": [
            "\u001b[0;31m---------------------------------------------------------------------------\u001b[0m",
            "\u001b[0;31mValueError\u001b[0m                                Traceback (most recent call last)",
            "\u001b[0;32m<ipython-input-19-571e9fb02258>\u001b[0m in \u001b[0;36m<module>\u001b[0;34m()\u001b[0m\n\u001b[0;32m----> 1\u001b[0;31m \u001b[0mf\u001b[0m\u001b[0;34m.\u001b[0m\u001b[0mread\u001b[0m\u001b[0;34m(\u001b[0m\u001b[0;34m)\u001b[0m\u001b[0;34m\u001b[0m\u001b[0;34m\u001b[0m\u001b[0m\n\u001b[0m",
            "\u001b[0;31mValueError\u001b[0m: I/O operation on closed file."
          ]
        }
      ]
    },
    {
      "cell_type": "code",
      "source": [
        "with open(\"memo.txt\",\"r\") as f:\n",
        "    while True:\n",
        "        data = f.readline()\n",
        "        if not data: break\n",
        "        print(data,end=\"\")\n"
      ],
      "metadata": {
        "colab": {
          "base_uri": "https://localhost:8080/"
        },
        "id": "b_OljXzNLvpz",
        "outputId": "40824ac6-ea5b-461c-a762-a5aa15b7248c"
      },
      "execution_count": null,
      "outputs": [
        {
          "output_type": "stream",
          "name": "stdout",
          "text": [
            "1 번째 줄\n",
            "2 번째 줄\n",
            "3 번째 줄\n",
            "4 번째 줄\n",
            "5 번째 줄\n",
            "6 번째 줄\n",
            "7 번째 줄\n",
            "8 번째 줄\n",
            "9 번째 줄\n",
            "10 번째 줄\n",
            "11 번째 줄\n"
          ]
        }
      ]
    },
    {
      "cell_type": "code",
      "source": [
        "with open(\"memo.txt\",\"r\")as f:\n",
        "    data=f.readlines()\n",
        "    print(data)"
      ],
      "metadata": {
        "colab": {
          "base_uri": "https://localhost:8080/"
        },
        "id": "y4XREbEyMVYT",
        "outputId": "2e854081-974b-4657-f386-2f1563af366e"
      },
      "execution_count": null,
      "outputs": [
        {
          "output_type": "stream",
          "name": "stdout",
          "text": [
            "['1 번째 줄\\n', '2 번째 줄\\n', '3 번째 줄\\n', '4 번째 줄\\n', '5 번째 줄\\n', '6 번째 줄\\n', '7 번째 줄\\n', '8 번째 줄\\n', '9 번째 줄\\n', '10 번째 줄\\n', '11 번째 줄\\n']\n"
          ]
        }
      ]
    },
    {
      "cell_type": "markdown",
      "source": [
        "- for문을 이용한 방법"
      ],
      "metadata": {
        "id": "EYFvm3OcMyOE"
      }
    },
    {
      "cell_type": "code",
      "source": [
        "with open(\"memo.txt\",\"r\") as f:\n",
        "    for line in f:\n",
        "        print(line,end=\"\")"
      ],
      "metadata": {
        "colab": {
          "base_uri": "https://localhost:8080/"
        },
        "id": "vHWarkSSM5Ak",
        "outputId": "d6558b05-36dc-4e31-8030-5c6de01c3363"
      },
      "execution_count": null,
      "outputs": [
        {
          "output_type": "stream",
          "name": "stdout",
          "text": [
            "1 번째 줄\n",
            "2 번째 줄\n",
            "3 번째 줄\n",
            "4 번째 줄\n",
            "5 번째 줄\n",
            "6 번째 줄\n",
            "7 번째 줄\n",
            "8 번째 줄\n",
            "9 번째 줄\n",
            "10 번째 줄\n",
            "11 번째 줄\n"
          ]
        }
      ]
    },
    {
      "cell_type": "code",
      "source": [
        "with open(\"memo.txt\",\"r\") as f:\n",
        "    for line in f:\n",
        "        line = line.strip()\n",
        "        print(line)"
      ],
      "metadata": {
        "colab": {
          "base_uri": "https://localhost:8080/"
        },
        "id": "MBL5yZreNB4L",
        "outputId": "41bbb5ef-ed83-4eec-ffe0-e9261af6a05d"
      },
      "execution_count": null,
      "outputs": [
        {
          "output_type": "stream",
          "name": "stdout",
          "text": [
            "1 번째 줄\n",
            "2 번째 줄\n",
            "3 번째 줄\n",
            "4 번째 줄\n",
            "5 번째 줄\n",
            "6 번째 줄\n",
            "7 번째 줄\n",
            "8 번째 줄\n",
            "9 번째 줄\n",
            "10 번째 줄\n",
            "11 번째 줄\n"
          ]
        }
      ]
    },
    {
      "cell_type": "code",
      "source": [
        "with open(\"memo.txt\",\"r\") as f:\n",
        "    for i,line in enumerate(f,1):\n",
        "        print(f\"No.{i} {line}\",end=\"\")"
      ],
      "metadata": {
        "colab": {
          "base_uri": "https://localhost:8080/"
        },
        "id": "2EvkyrWzNozC",
        "outputId": "0f19524e-6b23-4271-909f-315177146f45"
      },
      "execution_count": null,
      "outputs": [
        {
          "output_type": "stream",
          "name": "stdout",
          "text": [
            "No.1 1 번째 줄\n",
            "No.2 2 번째 줄\n",
            "No.3 3 번째 줄\n",
            "No.4 4 번째 줄\n",
            "No.5 5 번째 줄\n",
            "No.6 6 번째 줄\n",
            "No.7 7 번째 줄\n",
            "No.8 8 번째 줄\n",
            "No.9 9 번째 줄\n",
            "No.10 10 번째 줄\n",
            "No.11 11 번째 줄\n"
          ]
        }
      ]
    },
    {
      "cell_type": "markdown",
      "source": [
        "```\n",
        "2X1=2\n",
        "...\n",
        "2X9=18\n",
        "...\n",
        "...\n",
        "...\n",
        "9X1=9\n",
        "...\n",
        "9X9=81\n",
        "```"
      ],
      "metadata": {
        "id": "NDtF0f-9OlfS"
      }
    },
    {
      "cell_type": "code",
      "source": [
        "f = open(\"gugudan.txt\", \"w\")\n",
        "for i in range(2,10):\n",
        "    for v in range(1,10):\n",
        "        data = f\"{i}X{v}={i*v}\\n\"\n",
        "        f.write(data)\n",
        "f.close()"
      ],
      "metadata": {
        "id": "TT8w7GU4Tw2J"
      },
      "execution_count": null,
      "outputs": []
    },
    {
      "cell_type": "code",
      "source": [
        "with open(\"구구단.txt\",\"w\")as f:\n",
        "    for i in range(2,10):\n",
        "        for v in range(1,10):\n",
        "            f.write(f\"{i}X{v}={i*v}\\n\")\n",
        "    "
      ],
      "metadata": {
        "id": "qhr4SICEV0hO"
      },
      "execution_count": null,
      "outputs": []
    },
    {
      "cell_type": "markdown",
      "source": [
        "```\n",
        "구구단.txt 파일 을 읽어서 구구단의 결과값들만 정수형태로 변경해서 리스트에 담으세요\n",
        "```"
      ],
      "metadata": {
        "id": "sVpRVKMRWaCU"
      }
    },
    {
      "cell_type": "code",
      "source": [
        "with open(\"구구단.txt\",\"r\") as f:\n",
        "   lst = [int(line.strip().split(\"=\")[1])  for line in f]\n",
        "lst       \n",
        "        \n",
        "        "
      ],
      "metadata": {
        "colab": {
          "base_uri": "https://localhost:8080/"
        },
        "id": "91uQKA10WjZ-",
        "outputId": "a8731819-187b-45b1-fe3d-59666021db7f"
      },
      "execution_count": null,
      "outputs": [
        {
          "output_type": "execute_result",
          "data": {
            "text/plain": [
              "[2,\n",
              " 4,\n",
              " 6,\n",
              " 8,\n",
              " 10,\n",
              " 12,\n",
              " 14,\n",
              " 16,\n",
              " 18,\n",
              " 3,\n",
              " 6,\n",
              " 9,\n",
              " 12,\n",
              " 15,\n",
              " 18,\n",
              " 21,\n",
              " 24,\n",
              " 27,\n",
              " 4,\n",
              " 8,\n",
              " 12,\n",
              " 16,\n",
              " 20,\n",
              " 24,\n",
              " 28,\n",
              " 32,\n",
              " 36,\n",
              " 5,\n",
              " 10,\n",
              " 15,\n",
              " 20,\n",
              " 25,\n",
              " 30,\n",
              " 35,\n",
              " 40,\n",
              " 45,\n",
              " 6,\n",
              " 12,\n",
              " 18,\n",
              " 24,\n",
              " 30,\n",
              " 36,\n",
              " 42,\n",
              " 48,\n",
              " 54,\n",
              " 7,\n",
              " 14,\n",
              " 21,\n",
              " 28,\n",
              " 35,\n",
              " 42,\n",
              " 49,\n",
              " 56,\n",
              " 63,\n",
              " 8,\n",
              " 16,\n",
              " 24,\n",
              " 32,\n",
              " 40,\n",
              " 48,\n",
              " 56,\n",
              " 64,\n",
              " 72,\n",
              " 9,\n",
              " 18,\n",
              " 27,\n",
              " 36,\n",
              " 45,\n",
              " 54,\n",
              " 63,\n",
              " 72,\n",
              " 81]"
            ]
          },
          "metadata": {},
          "execution_count": 72
        }
      ]
    },
    {
      "cell_type": "code",
      "source": [
        "lst=[1,2,3,4]\n",
        "lst[-1:]"
      ],
      "metadata": {
        "colab": {
          "base_uri": "https://localhost:8080/"
        },
        "id": "OmthVbHGXWXd",
        "outputId": "67c37ce6-099c-4a14-8761-368b43412841"
      },
      "execution_count": null,
      "outputs": [
        {
          "output_type": "execute_result",
          "data": {
            "text/plain": [
              "[4]"
            ]
          },
          "metadata": {},
          "execution_count": 60
        }
      ]
    },
    {
      "cell_type": "markdown",
      "source": [
        "# 구글드라이브 연결해서 파일 가져오기\n",
        "- 마운트(mount)란?\n",
        "    - 리눅스 환경에서 하드디스크나 usb 메모리 같은 물리적인 장치를 사용하기 위해 리눅스 환경에서 지정한 디렉토리에 연결해주는 과정을 말한다."
      ],
      "metadata": {
        "id": "pzOqXqboa6WE"
      }
    },
    {
      "cell_type": "code",
      "source": [
        "!uname"
      ],
      "metadata": {
        "colab": {
          "base_uri": "https://localhost:8080/"
        },
        "id": "WobshZ2WbujL",
        "outputId": "a2b2553e-8c1d-4497-f1a1-d693dc94eea2"
      },
      "execution_count": null,
      "outputs": [
        {
          "output_type": "stream",
          "name": "stdout",
          "text": [
            "Linux\n"
          ]
        }
      ]
    },
    {
      "cell_type": "code",
      "source": [
        "!cat /etc/issue"
      ],
      "metadata": {
        "colab": {
          "base_uri": "https://localhost:8080/"
        },
        "id": "CYggJ9KRgTrA",
        "outputId": "e7e5d0da-f0a7-4273-9050-6e30c9055044"
      },
      "execution_count": null,
      "outputs": [
        {
          "output_type": "stream",
          "name": "stdout",
          "text": [
            "Ubuntu 18.04.6 LTS \\n \\l\n",
            "\n"
          ]
        }
      ]
    },
    {
      "cell_type": "code",
      "source": [
        "!pwd"
      ],
      "metadata": {
        "colab": {
          "base_uri": "https://localhost:8080/"
        },
        "id": "dfLUVWAFg-9f",
        "outputId": "6f7e397c-6ff7-4e67-e51d-feac51b9f0d9"
      },
      "execution_count": null,
      "outputs": [
        {
          "output_type": "stream",
          "name": "stdout",
          "text": [
            "/content\n"
          ]
        }
      ]
    },
    {
      "cell_type": "code",
      "source": [
        "from google.colab import drive\n",
        "drive.mount(\"/content/drive\")"
      ],
      "metadata": {
        "colab": {
          "base_uri": "https://localhost:8080/"
        },
        "id": "0-gHD1p6gfl4",
        "outputId": "bc84e3d7-88f4-4be8-83f1-7548c0ce8a05"
      },
      "execution_count": null,
      "outputs": [
        {
          "output_type": "stream",
          "name": "stdout",
          "text": [
            "Mounted at /content/drive\n"
          ]
        }
      ]
    },
    {
      "cell_type": "code",
      "source": [
        "DATA_PATH =\"/content/drive/MyDrive/01-python/data/\"\n",
        "DATA_PATH"
      ],
      "metadata": {
        "colab": {
          "base_uri": "https://localhost:8080/",
          "height": 35
        },
        "id": "OH075FS3h4MC",
        "outputId": "a48c02f9-4f74-4ecd-bcdc-59d60427865b"
      },
      "execution_count": null,
      "outputs": [
        {
          "output_type": "execute_result",
          "data": {
            "text/plain": [
              "'/content/drive/MyDrive/01-python/data/'"
            ],
            "application/vnd.google.colaboratory.intrinsic+json": {
              "type": "string"
            }
          },
          "metadata": {},
          "execution_count": 80
        }
      ]
    },
    {
      "cell_type": "code",
      "source": [
        " with open(f\"{DATA_PATH}memo.txt\",\"r\") as f:\n",
        "     data = f.readlines()\n",
        "     print(data)"
      ],
      "metadata": {
        "colab": {
          "base_uri": "https://localhost:8080/"
        },
        "id": "as-cjksXiDYp",
        "outputId": "6f9eb42e-ae44-49f3-9748-2ea172ae5a90"
      },
      "execution_count": null,
      "outputs": [
        {
          "output_type": "stream",
          "name": "stdout",
          "text": [
            "['1 번째 줄\\n', '2 번째 줄\\n', '3 번째 줄\\n', '4 번째 줄\\n', '5 번째 줄\\n', '6 번째 줄\\n', '7 번째 줄\\n', '8 번째 줄\\n', '9 번째 줄\\n', '10 번째 줄\\n', '11 번째 줄\\n']\n"
          ]
        }
      ]
    },
    {
      "cell_type": "markdown",
      "source": [
        "# JOSN  파일 입출력\n",
        "- 자바 스크립트에서 사용되는 객체 표현식 \n",
        "- 데이터를 저장하거나 전송할때 많이 사용\n",
        "- 서버와 클라이언트간의 데이터 전송과정에서 많이 사용\n",
        "- 파이썬의 딕셔너리와 매우 유사"
      ],
      "metadata": {
        "id": "Whu0XSB6kMzV"
      }
    },
    {
      "cell_type": "code",
      "source": [
        "import json"
      ],
      "metadata": {
        "id": "oGw_r65ilMyH"
      },
      "execution_count": null,
      "outputs": []
    },
    {
      "cell_type": "code",
      "source": [
        "DATA_PATH"
      ],
      "metadata": {
        "colab": {
          "base_uri": "https://localhost:8080/",
          "height": 35
        },
        "id": "_K8xv0C3mBf9",
        "outputId": "26f836d6-a2d5-4018-befb-4d3b3444f21c"
      },
      "execution_count": null,
      "outputs": [
        {
          "output_type": "execute_result",
          "data": {
            "text/plain": [
              "'/content/drive/MyDrive/01-python/data/'"
            ],
            "application/vnd.google.colaboratory.intrinsic+json": {
              "type": "string"
            }
          },
          "metadata": {},
          "execution_count": 84
        }
      ]
    },
    {
      "cell_type": "code",
      "source": [
        "with open(f\"{DATA_PATH}info.json\",\"r\")as f:\n",
        "    data = json.load(f) # json 파일을 딕셔너리 형태로 변환해서 반환\n",
        "type(data)"
      ],
      "metadata": {
        "colab": {
          "base_uri": "https://localhost:8080/"
        },
        "id": "GWWclIejmGz3",
        "outputId": "401b9782-c675-4e17-8974-bce9315b5dce"
      },
      "execution_count": null,
      "outputs": [
        {
          "output_type": "execute_result",
          "data": {
            "text/plain": [
              "dict"
            ]
          },
          "metadata": {},
          "execution_count": 85
        }
      ]
    },
    {
      "cell_type": "code",
      "source": [
        "data"
      ],
      "metadata": {
        "colab": {
          "base_uri": "https://localhost:8080/"
        },
        "id": "EuK34_I7mlc-",
        "outputId": "e3e05336-191b-421d-9505-f2e238470852"
      },
      "execution_count": null,
      "outputs": [
        {
          "output_type": "execute_result",
          "data": {
            "text/plain": [
              "{'Daniel': {'age': 20, 'height': 170},\n",
              " 'John': {'age': 20, 'height': 175, 'weight': 80}}"
            ]
          },
          "metadata": {},
          "execution_count": 86
        }
      ]
    },
    {
      "cell_type": "code",
      "source": [
        "data[\"예찬\"]={\"age\":42}\n",
        "data"
      ],
      "metadata": {
        "colab": {
          "base_uri": "https://localhost:8080/"
        },
        "id": "LZbvYRG_mqzn",
        "outputId": "5ea5e335-6f92-41fa-c9d7-521af8af59bd"
      },
      "execution_count": null,
      "outputs": [
        {
          "output_type": "execute_result",
          "data": {
            "text/plain": [
              "{'Daniel': {'age': 20, 'height': 170},\n",
              " 'John': {'age': 20, 'height': 175, 'weight': 80},\n",
              " '예찬': {'age': 42}}"
            ]
          },
          "metadata": {},
          "execution_count": 87
        }
      ]
    },
    {
      "cell_type": "code",
      "source": [
        "with open(\"info.json\", \"w\") as f:\n",
        "    # 한글 포함시: ensure_ascii=False \n",
        "    # 들여쓰기 :indent= 4 or 2\n",
        "    json.dump(data,f,ensure_ascii=False,indent= 4)"
      ],
      "metadata": {
        "id": "FirwHQIDm23E"
      },
      "execution_count": null,
      "outputs": []
    },
    {
      "cell_type": "markdown",
      "source": [
        "# YAML(Yet Another Markup Language)\n",
        "- 사람이 쉽게 읽을 수 있는 데이터 직력화 양식\n",
        "- 데이터를 저장하거나 전송할때 많이 사용\n",
        "    "
      ],
      "metadata": {
        "id": "tc8WqQV8o99U"
      }
    },
    {
      "cell_type": "code",
      "source": [
        "import yaml"
      ],
      "metadata": {
        "id": "62QV4b8KpKyS"
      },
      "execution_count": null,
      "outputs": []
    },
    {
      "cell_type": "code",
      "source": [
        "data"
      ],
      "metadata": {
        "colab": {
          "base_uri": "https://localhost:8080/"
        },
        "id": "3-BJ4vk7pirK",
        "outputId": "8814654d-ef9b-4c83-f8fe-145f7a6e14ac"
      },
      "execution_count": null,
      "outputs": [
        {
          "output_type": "execute_result",
          "data": {
            "text/plain": [
              "{'Daniel': {'age': 20, 'height': 170},\n",
              " 'John': {'age': 20, 'height': 175, 'weight': 80},\n",
              " '예찬': {'age': 42}}"
            ]
          },
          "metadata": {},
          "execution_count": 96
        }
      ]
    },
    {
      "cell_type": "code",
      "source": [
        "with open(\"data.yml\",\"w\") as f:\n",
        "    yaml.dump(data,f,default_flow_style=False,indent= 4,allow_unicode=True)"
      ],
      "metadata": {
        "id": "JwdnK8H2pn9i"
      },
      "execution_count": null,
      "outputs": []
    },
    {
      "cell_type": "code",
      "source": [
        "with open(\"data.yml\",\"r\")as f:\n",
        "    data1 = yaml.load(f)\n",
        "type(data1)"
      ],
      "metadata": {
        "colab": {
          "base_uri": "https://localhost:8080/"
        },
        "id": "Fr6wpJTLp3pJ",
        "outputId": "7f6b2d55-01c3-4963-dfd2-5b3b16c6c7e5"
      },
      "execution_count": null,
      "outputs": [
        {
          "output_type": "execute_result",
          "data": {
            "text/plain": [
              "dict"
            ]
          },
          "metadata": {},
          "execution_count": 101
        }
      ]
    },
    {
      "cell_type": "code",
      "source": [
        "data1[\"리스트\"] = [True,False,\"문자열\",3.14]"
      ],
      "metadata": {
        "id": "k1GkmPAkuCr4"
      },
      "execution_count": null,
      "outputs": []
    },
    {
      "cell_type": "code",
      "source": [
        "with open(\"data1.yaml\",\"w\") as f:\n",
        "    yaml.dump(data1,f,default_flow_style=False,indent= 4, allow_unicode=True)"
      ],
      "metadata": {
        "id": "gz1iH48DubXu"
      },
      "execution_count": null,
      "outputs": []
    },
    {
      "cell_type": "code",
      "source": [
        "with open(\"data1.yaml\",\"r\")as f:\n",
        "    data1 = yaml.load(f)\n",
        "data1"
      ],
      "metadata": {
        "colab": {
          "base_uri": "https://localhost:8080/"
        },
        "id": "_5MIx62duwaX",
        "outputId": "bd8daf64-e756-4a9e-ad2c-d7032a1753f3"
      },
      "execution_count": null,
      "outputs": [
        {
          "output_type": "execute_result",
          "data": {
            "text/plain": [
              "{'Daniel': {'age': 20, 'height': 170},\n",
              " 'John': {'age': 20, 'height': 175, 'weight': 80},\n",
              " '리스트': [True, False, '문자열', 3.14],\n",
              " '예찬': {'age': 42}}"
            ]
          },
          "metadata": {},
          "execution_count": 108
        }
      ]
    },
    {
      "cell_type": "markdown",
      "source": [
        "# pickle 모듈\n",
        "- 우리가 사용하는 다양한 객체들을 파일로 저장하고 싶다면?\n",
        "- 객체의 구조를 직렬화해서 파일로 저장한다.\n"
      ],
      "metadata": {
        "id": "-I31vU_jvOIP"
      }
    },
    {
      "cell_type": "code",
      "source": [
        "import pickle"
      ],
      "metadata": {
        "id": "vxl39Kb4v_PP"
      },
      "execution_count": null,
      "outputs": []
    },
    {
      "cell_type": "code",
      "source": [
        "data = [1,2,3,4,[10,20],\"hi\"]"
      ],
      "metadata": {
        "id": "_yfzVJtVwBoV"
      },
      "execution_count": null,
      "outputs": []
    },
    {
      "cell_type": "code",
      "source": [
        "with open(\"data.pkl\",\"wb\") as f:\n",
        "    pickle.dump(data,f)"
      ],
      "metadata": {
        "id": "vlswI_D4wMOS"
      },
      "execution_count": null,
      "outputs": []
    },
    {
      "cell_type": "code",
      "source": [
        "with open(\"data.pkl\",\"rb\") as f:\n",
        "    rdata = pickle.load(f)\n",
        "rdata"
      ],
      "metadata": {
        "colab": {
          "base_uri": "https://localhost:8080/"
        },
        "id": "Z4MTESPtwjad",
        "outputId": "ce4c289e-4ced-4d85-bd3b-51e2b94c81a0"
      },
      "execution_count": null,
      "outputs": [
        {
          "output_type": "execute_result",
          "data": {
            "text/plain": [
              "[1, 2, 3, 4, [10, 20], 'hi']"
            ]
          },
          "metadata": {},
          "execution_count": 112
        }
      ]
    },
    {
      "cell_type": "code",
      "source": [
        "data1 =(1,2,3,4,(10,20),\"hi\")"
      ],
      "metadata": {
        "id": "7m3mC0hzw61G"
      },
      "execution_count": null,
      "outputs": []
    },
    {
      "cell_type": "code",
      "source": [
        "with open(\"data1.pkl\",\"wb\") as f:\n",
        "    pickle.dump(data,f)"
      ],
      "metadata": {
        "id": "T_O0R2WOxsPW"
      },
      "execution_count": null,
      "outputs": []
    },
    {
      "cell_type": "code",
      "source": [
        "with open(\"data1.pkl\",\"rb\") as f:\n",
        "    rdata1 = pickle.load(f)\n",
        "rdata"
      ],
      "metadata": {
        "colab": {
          "base_uri": "https://localhost:8080/"
        },
        "id": "XSEHeAV3x4yh",
        "outputId": "4dfe7edc-b1ab-4425-c93d-5d885f9e0e27"
      },
      "execution_count": null,
      "outputs": [
        {
          "output_type": "execute_result",
          "data": {
            "text/plain": [
              "[1, 2, 3, 4, [10, 20], 'hi']"
            ]
          },
          "metadata": {},
          "execution_count": 117
        }
      ]
    },
    {
      "cell_type": "code",
      "source": [],
      "metadata": {
        "id": "vQv9aMaEyBh9"
      },
      "execution_count": null,
      "outputs": []
    }
  ]
}