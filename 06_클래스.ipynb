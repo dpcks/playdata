{
  "nbformat": 4,
  "nbformat_minor": 0,
  "metadata": {
    "colab": {
      "provenance": [],
      "authorship_tag": "ABX9TyNbFYwTNaLNMsmeflwq7Psn",
      "include_colab_link": true
    },
    "kernelspec": {
      "name": "python3",
      "display_name": "Python 3"
    },
    "language_info": {
      "name": "python"
    }
  },
  "cells": [
    {
      "cell_type": "markdown",
      "metadata": {
        "id": "view-in-github",
        "colab_type": "text"
      },
      "source": [
        "<a href=\"https://colab.research.google.com/github/dpcks/playdata/blob/main/06_%ED%81%B4%EB%9E%98%EC%8A%A4.ipynb\" target=\"_parent\"><img src=\"https://colab.research.google.com/assets/colab-badge.svg\" alt=\"Open In Colab\"/></a>"
      ]
    },
    {
      "cell_type": "markdown",
      "source": [
        "# 클래스(Class)\n",
        "- 변수와 함수를 묶어놓은 개념\n",
        "- 클래스는 객체(데이터와 기능을 갖고있는...)를 만들기 위한 설계도\n",
        "- 클래스를 메모리에 객체화 하면 그걸 인스턴스(instance)라고 한다.\n"
      ],
      "metadata": {
        "id": "iHCNKn1UBnvm"
      }
    },
    {
      "cell_type": "markdown",
      "source": [
        "## 클래스의 구조\n",
        "- 변수: 인스턴스 변수(객체화되면 사용가능한 변수), 클래스 변수가 있다(클래스 정의시 에도 사용가능한변수)가 있다.\n",
        "- 함수 : 메소드(객체의 소속되어있는 함수)\n",
        "\n",
        "-`__init__` 메소드: 생성자\n",
        "    - 객체의 초기화를 담당, 객체의 변수의 값을 초기 설정\n",
        "    - 객체화가 되었을때 생성해야하거나 초기값을 세팅해야하는 인스턴스 변수들이 있다면 `__init__`메소드 안에 선언(정의)하면 된다.\n"
      ],
      "metadata": {
        "id": "JG1mmU18B7JX"
      }
    },
    {
      "cell_type": "markdown",
      "source": [
        "## 클래스 정의 하는 방법\n",
        "```python\n",
        "class <ClassName>: # pascalcase , upper camel case\n",
        "    def __init__(self):\n",
        "        code cntext\n",
        "        ...\n",
        "    def <method_name>(self):\n",
        "        code context\n",
        "        ...\n",
        "```"
      ],
      "metadata": {
        "id": "bqK7mVm8DzUw"
      }
    },
    {
      "cell_type": "code",
      "source": [
        "class PlayerCharacter:\n",
        "    def __init__(self,hp,exp):\n",
        "        self.hp = hp\n",
        "        self.exp = exp\n",
        "        "
      ],
      "metadata": {
        "id": "kw5wtm-uFKB6"
      },
      "execution_count": null,
      "outputs": []
    },
    {
      "cell_type": "code",
      "source": [
        "player1 = PlayerCharacter(100,0)\n",
        "player2 = PlayerCharacter(200,50)\n",
        "\n",
        "player1.hp , player1.exp, player2.hp ,player2.exp "
      ],
      "metadata": {
        "colab": {
          "base_uri": "https://localhost:8080/"
        },
        "id": "5FQ-MycQF_Bf",
        "outputId": "4f081c02-59c0-453d-966c-3f1f238b8946"
      },
      "execution_count": null,
      "outputs": [
        {
          "output_type": "execute_result",
          "data": {
            "text/plain": [
              "(100, 0, 200, 50)"
            ]
          },
          "metadata": {},
          "execution_count": 2
        }
      ]
    },
    {
      "cell_type": "markdown",
      "source": [
        "- self\n",
        "    - 클래스가 객체화 되었을때 자기 자신의 주소를 받는 파라미터\n",
        "    - 클래스가 인스턴스화 되면 메모리상에서 어디에 있는지 self 파라미터의 주소값을 참조해서 객체의 변수의 접근한다.\n",
        "    - 클래스를 정의할때 메소드에 무조건 첫번째 파라미터로 정의해줘야한다.\n",
        "    - 클래스가 객체화 되었을때 메소드 사용시 아규먼트로 넣어주지 않아도 자동으로 들어간다."
      ],
      "metadata": {
        "id": "GZR3mgKlGfy4"
      }
    },
    {
      "cell_type": "code",
      "source": [
        "PlayerCharacter(\"0x123123\",100,0)"
      ],
      "metadata": {
        "colab": {
          "base_uri": "https://localhost:8080/",
          "height": 176
        },
        "id": "wRXVvg6yIUq3",
        "outputId": "958b3469-082e-45e0-d7c6-3a65b648be0c"
      },
      "execution_count": null,
      "outputs": [
        {
          "output_type": "error",
          "ename": "TypeError",
          "evalue": "ignored",
          "traceback": [
            "\u001b[0;31m---------------------------------------------------------------------------\u001b[0m",
            "\u001b[0;31mTypeError\u001b[0m                                 Traceback (most recent call last)",
            "\u001b[0;32m<ipython-input-3-f7f7069f21e8>\u001b[0m in \u001b[0;36m<module>\u001b[0;34m()\u001b[0m\n\u001b[0;32m----> 1\u001b[0;31m \u001b[0mPlayerCharacter\u001b[0m\u001b[0;34m(\u001b[0m\u001b[0;34m\"0x123123\"\u001b[0m\u001b[0;34m,\u001b[0m\u001b[0;36m100\u001b[0m\u001b[0;34m,\u001b[0m\u001b[0;36m0\u001b[0m\u001b[0;34m)\u001b[0m\u001b[0;34m\u001b[0m\u001b[0;34m\u001b[0m\u001b[0m\n\u001b[0m",
            "\u001b[0;31mTypeError\u001b[0m: __init__() takes 3 positional arguments but 4 were given"
          ]
        }
      ]
    },
    {
      "cell_type": "code",
      "source": [
        "class MyClass:\n",
        "    def __init__(self):\n",
        "        print(id(self))"
      ],
      "metadata": {
        "id": "tIWtpNR2IlvN"
      },
      "execution_count": null,
      "outputs": []
    },
    {
      "cell_type": "code",
      "source": [
        "mc = MyClass()"
      ],
      "metadata": {
        "id": "GeygwIkmJE9J"
      },
      "execution_count": null,
      "outputs": []
    },
    {
      "cell_type": "code",
      "source": [
        "id(mc)"
      ],
      "metadata": {
        "id": "wiJViU7PJJOB"
      },
      "execution_count": null,
      "outputs": []
    },
    {
      "cell_type": "code",
      "source": [
        "class PlayerCharacter:\n",
        "\n",
        "    def attack(self):\n",
        "        print(\"공격하기\")\n",
        "        self.exp += 2 # self.exp = self.exp + 2\n",
        "\n",
        "    def set_exp(self,exp):\n",
        "        self.exp = exp"
      ],
      "metadata": {
        "id": "0GfxIelHJOLE"
      },
      "execution_count": null,
      "outputs": []
    },
    {
      "cell_type": "code",
      "source": [
        "player = PlayerCharacter()\n",
        "\n",
        "player.set_exp(10)\n",
        "player.exp"
      ],
      "metadata": {
        "id": "dwgfP8KfKO9o"
      },
      "execution_count": null,
      "outputs": []
    },
    {
      "cell_type": "code",
      "source": [
        "player.attack()\n",
        "player.exp"
      ],
      "metadata": {
        "id": "14XlUEX-KgxX"
      },
      "execution_count": null,
      "outputs": []
    },
    {
      "cell_type": "code",
      "source": [
        "player = PlayerCharacter()\n",
        "player.attack()"
      ],
      "metadata": {
        "id": "nd2MJXdUKtdT"
      },
      "execution_count": null,
      "outputs": []
    },
    {
      "cell_type": "markdown",
      "source": [
        "# 우선 외우자\n",
        "- 클래스를 정의할때 `__init__`를 무조건 정의하자 \n",
        "    -객체화 되었을때 사용할 변수들을 이안에 정의해주자.\n",
        "- 클래스 안에 메소드(`__init__` 포함)들을 정의할때는 무조건 첫번째 파라미터로 `self`를 정의해주자\n",
        "- 클래스의 객체화되서 해당 객체의 메소들르 실행때는 `self`는 자동으로 파이썬이 넣어주니까 신경쓰지 말자."
      ],
      "metadata": {
        "id": "lNMy8rGgK6tr"
      }
    },
    {
      "cell_type": "code",
      "source": [
        "class PlayerCharacter:\n",
        "    def __init__(self,hp,exp): \n",
        "        self.hp = hp # 인스턴스 변수 선언됨\n",
        "        self.exp = exp # 인스턴스 변수 선언됨\n",
        "    \n",
        "    def attack(self): # 내가 있는 인스턴스 위치에 접근하기 위해 self를 받는것이다.\n",
        "        print(\"공격하기\")\n",
        "        self.exp += 2 # 인스턴스 변수에 접근하려면 self 를 참조해야한다.\n",
        "\n",
        "    def defend(self):\n",
        "        print(\"방어하기\")\n",
        "        self.exp += 1\n",
        "\n",
        "    def attacked(self,attack_size):\n",
        "        print(\"공격받음\")\n",
        "        self.hp -= attack_size\n",
        "\n"
      ],
      "metadata": {
        "id": "bmTYm477R7wy"
      },
      "execution_count": null,
      "outputs": []
    },
    {
      "cell_type": "code",
      "source": [
        "player1 = PlayerCharacter(100,0)\n",
        "player2 = PlayerCharacter(120,10)"
      ],
      "metadata": {
        "id": "sjlY6ShTUFV3"
      },
      "execution_count": null,
      "outputs": []
    },
    {
      "cell_type": "code",
      "source": [
        "player1.attack()\n",
        "player1.defend()\n",
        "player1.attacked(3)"
      ],
      "metadata": {
        "id": "srGeUjyPUZrI"
      },
      "execution_count": null,
      "outputs": []
    },
    {
      "cell_type": "code",
      "source": [
        "player2.attack()\n",
        "player2.attack()\n",
        "player2.attack()\n",
        "player2.attacked(10)"
      ],
      "metadata": {
        "id": "jCU6-TnoUqwc"
      },
      "execution_count": null,
      "outputs": []
    },
    {
      "cell_type": "code",
      "source": [
        "player1.hp"
      ],
      "metadata": {
        "id": "I1TzQIueU1iZ"
      },
      "execution_count": null,
      "outputs": []
    },
    {
      "cell_type": "markdown",
      "source": [
        "- 인스턴스 변수 수정하기\n"
      ],
      "metadata": {
        "id": "yiegMfiiVmMN"
      }
    },
    {
      "cell_type": "code",
      "source": [
        "player1.hp = 20"
      ],
      "metadata": {
        "id": "IhFGzSBeVo7D"
      },
      "execution_count": null,
      "outputs": []
    },
    {
      "cell_type": "code",
      "source": [
        "player1.hp"
      ],
      "metadata": {
        "id": "330nJHMDVtRk"
      },
      "execution_count": null,
      "outputs": []
    },
    {
      "cell_type": "code",
      "source": [
        "player2.hp"
      ],
      "metadata": {
        "id": "af7Dztv6U9_q"
      },
      "execution_count": null,
      "outputs": []
    },
    {
      "cell_type": "markdown",
      "source": [
        "# 클래스 변수 (참고용)"
      ],
      "metadata": {
        "id": "uO_ytTzzU_R7"
      }
    },
    {
      "cell_type": "code",
      "source": [
        "class PlayerCharacter:\n",
        "    character = \"Wizard\"\n",
        "    def __init__(self,hp=100,exp=0):\n",
        "        self.hp = hp\n",
        "        self.exp = exp"
      ],
      "metadata": {
        "id": "ZVk-hJHsVykb"
      },
      "execution_count": null,
      "outputs": []
    },
    {
      "cell_type": "code",
      "source": [
        "PlayerCharacter.hp # 객체화 되지 않았기 떄문에 인슽턴스 변수인 hp 참조 불가 \n"
      ],
      "metadata": {
        "id": "S9ggGvnhWPs2"
      },
      "execution_count": null,
      "outputs": []
    },
    {
      "cell_type": "code",
      "source": [
        "PlayerCharacter.character # 클래스 변수는 객체화 되지 않아도 참조 가능!"
      ],
      "metadata": {
        "id": "uY4sCL_TWfRq"
      },
      "execution_count": null,
      "outputs": []
    },
    {
      "cell_type": "code",
      "source": [
        "player1 = PlayerCharacter()\n",
        "player2 = PlayerCharacter(200,20)\n",
        "\n",
        "player1.character, player2.character"
      ],
      "metadata": {
        "id": "LfPFABtgWj7q"
      },
      "execution_count": null,
      "outputs": []
    },
    {
      "cell_type": "markdown",
      "source": [
        "- 클래스 메소드 (참고형)\n",
        "    - 객체화 하지 않아도 사용 가능한 메소드"
      ],
      "metadata": {
        "id": "gZIOO_IrXD4m"
      }
    },
    {
      "cell_type": "code",
      "source": [
        "class PlayerCharacter:\n",
        "    character_type = \"Wizard\"\n",
        "\n",
        "    @classmethod\n",
        "    def print_character_type(cls): # 클래스의 주소를 받는 첫번째 파라미터를 cls라고 한다.\n",
        "        print(cls.character_type)\n",
        "        \n",
        "PlayerCharacter.print_character_type()"
      ],
      "metadata": {
        "id": "CbKzHzGZXsoh"
      },
      "execution_count": null,
      "outputs": []
    },
    {
      "cell_type": "code",
      "source": [
        "class CFG:\n",
        "     train_data_parh = \"/data/train/\"\n",
        "     test_data_path = \"/data/test/\"\n",
        "     model_name = \"deep_model\""
      ],
      "metadata": {
        "id": "VhhKb4ZlYrJ7"
      },
      "execution_count": null,
      "outputs": []
    },
    {
      "cell_type": "code",
      "source": [
        "CFG.model_name"
      ],
      "metadata": {
        "id": "1R3dtvsjZnYw"
      },
      "execution_count": null,
      "outputs": []
    },
    {
      "cell_type": "code",
      "source": [
        "def preprocess(cfg):\n",
        "    pass\n",
        "preprocess(CFG)"
      ],
      "metadata": {
        "id": "pKSSLKXWZrGI"
      },
      "execution_count": null,
      "outputs": []
    },
    {
      "cell_type": "markdown",
      "source": [
        "```\n",
        "Wizard 클래슬 만들어주세요\n",
        "인스턴스 변수: hp, exp ,mp\n",
        "메소드: \n",
        "    attack: 공격하기 출력 함께 exp가 5씩 증가\\\n",
        "    defend: 방어하기 출력과 함께 exp가 1씩 증가\n",
        "    attacked: 공격받은 사이즈를 인자로 받아 공격받음 출력과 함께 hp 를 공격받은 사이즈 만큼 감소\n",
        "    magic_skill: mp 가 3씩 감소\n",
        "```"
      ],
      "metadata": {
        "id": "C7mw6xXpZ9p4"
      }
    },
    {
      "cell_type": "code",
      "source": [
        "class Wizard:\n",
        "    def __init__(self, hp, exp, mp):\n",
        "        self.hp = hp\n",
        "        self.exp = exp\n",
        "        self.mp = mp\n",
        "\n",
        "    def attack(self):\n",
        "        print(\"공격하기\")\n",
        "        self.exp += 5\n",
        "\n",
        "    def defend(self):\n",
        "        print(\"방어하기\")\n",
        "        self.exp += 1\n",
        "    \n",
        "    def attacked(self, attack_size):\n",
        "        print(\"공격받음\")\n",
        "        self.hp -= attack_size\n",
        "\n",
        "    def magic_skill(self):\n",
        "        self.mp -= 3\n"
      ],
      "metadata": {
        "id": "2etqlHWOfGuS"
      },
      "execution_count": null,
      "outputs": []
    },
    {
      "cell_type": "code",
      "source": [
        "player = Wizard(100,0,100)\n",
        "player.attack()"
      ],
      "metadata": {
        "id": "6ttTGiLsgcGC"
      },
      "execution_count": null,
      "outputs": []
    },
    {
      "cell_type": "code",
      "source": [
        "class Car:\n",
        "    def __init__(self, name, color, num):\n",
        "        self.name = name\n",
        "        self.color = color\n",
        "        self.num = num"
      ],
      "metadata": {
        "id": "6MJjbTgcjp7G"
      },
      "execution_count": null,
      "outputs": []
    },
    {
      "cell_type": "code",
      "source": [
        "morning = Car(\"모닝\",\"blue\",\"1234\")\n",
        "print(morning.name)"
      ],
      "metadata": {
        "id": "I0WNdGkZljvK"
      },
      "execution_count": null,
      "outputs": []
    },
    {
      "cell_type": "code",
      "source": [
        "class Car:\n",
        "    def __init__(self, name, color, num):\n",
        "        self.name = name\n",
        "        self.color = color\n",
        "        self.num = num\n",
        "        \n",
        "    def set_info(self, name, color, num):\n",
        "        self.name = name\n",
        "        self.color = color\n",
        "        self.num = num\n",
        "\n",
        "    def info(self):\n",
        "        print(f\"차종: {self.name}, 색깔: {self.color}, 번호: {self.num}\")\n",
        "    \n",
        "    "
      ],
      "metadata": {
        "id": "lt-Pbp9zltDL"
      },
      "execution_count": null,
      "outputs": []
    },
    {
      "cell_type": "code",
      "source": [
        "morning= Car(\"모닝\",\"blue\",1234)\n",
        "morning.set_info(\"렉서스\", \"Red\", 1001)\n",
        "print(morning.name)\n",
        "morning.info()"
      ],
      "metadata": {
        "id": "tiCuorx_rUn5"
      },
      "execution_count": null,
      "outputs": []
    },
    {
      "cell_type": "markdown",
      "source": [
        "```\n",
        "다음과 같은 형태의 리스트를 입력받고 , key 이름들을 리스트로 입력 받아 dict 자료형을 생성하는 클래스를 만드시오\n",
        "ex)\n",
        "class DictDataset:\n",
        "    code context\n",
        "data = [\n",
        "        [1,2,3,4,5,6,7,8,9],\n",
        "        [10,20,30,40,50,60,70,80,90]\n",
        "]\n",
        "dict_dt = DictDataset(data,[\"col1\",\"col2\"])\n",
        "dict_dt.dataset\n",
        "Ouput:\n",
        "{'col1': [1, 2, 3, 4, 5, 6, 7, 8, 9],\n",
        " 'col2': [10, 20, 30, 40, 50, 60, 70, 80, 90]}\n",
        "```"
      ],
      "metadata": {
        "id": "qapA0Q6KrYD-"
      }
    },
    {
      "cell_type": "code",
      "source": [
        "class DictDataset:\n",
        "    def __init__(self,lst,keys):\n",
        "       # self.dataset = dict(zip(keys,lst))\n",
        "        self.dataset = self.trans_dict(lst,keys)\n",
        "    \n",
        "    def trans_dict(self,lst,keys):\n",
        "        tmp = {}\n",
        "        \n",
        "        for k,v in zip(keys,lst):\n",
        "            tmp[k] = v\n",
        "            \n",
        "            return tmp\n",
        "\n",
        "data = [\n",
        "        [1,2,3,4,5,6,7,8,9],\n",
        "        [10,20,30,40,50,60,70,80,90]\n",
        "]\n",
        "\n",
        "dict_dt = DictDataset(data,[\"col1\",\"col2\"])\n",
        "dict_dt.dataset"
      ],
      "metadata": {
        "id": "ufgiIHtsx6u6",
        "colab": {
          "base_uri": "https://localhost:8080/"
        },
        "outputId": "8978cc95-696d-4221-bd58-0622c6fd8c8a"
      },
      "execution_count": null,
      "outputs": [
        {
          "output_type": "execute_result",
          "data": {
            "text/plain": [
              "{'col1': [1, 2, 3, 4, 5, 6, 7, 8, 9]}"
            ]
          },
          "metadata": {},
          "execution_count": 15
        }
      ]
    },
    {
      "cell_type": "markdown",
      "source": [
        "```\n",
        "위에 구현한 클래스에서 추가 메소드를 작성하시오\n",
        "head 메소드와 tail 메소드를 작성하세요\n",
        "head 메소드의 경우 인자값이 없을경우 dict의 모든 value의 앞에서 5개의 값들이 key 와 함께 dict 형태로 리턴되게 하세요\n",
        "tail 메소드의 경우 인자값이 없을경우 dict의 모든 value의 뒤에서 5개의 값들이 key 와 함께 dict 형태로 리턴되게 하세요.\n",
        "(역순으로 출력되는 것이 아님)\n",
        "head , tail 모두 인자값이 주어질경우 인자값 개수만큼 value가 나오게 한다.\n",
        "(1 이상 인자값을 받는다는 가정을 하기 때문에 조건문으로 체크 안해도 됩니다.)\n",
        "ex)\n",
        "class DictDataset:\n",
        "    def __init__(self,lst,keys):\n",
        "        self.dataset = dict(zip(keys,lst))\n",
        "dict_dt = DictDataset(data,[\"col1\",\"col2\"])\n",
        "dict_dt.head()\n",
        "Output:\n",
        "{'col1': [1, 2, 3, 4, 5], 'col2': [10, 20, 30, 40, 50]}\n",
        "dict_dt.head(3)\n",
        "Output:\n",
        "{'col1': [1, 2, 3], 'col2': [10, 20, 30]}\n",
        "dict_dt.tail()\n",
        "Output:\n",
        "{'col1': [5, 6, 7, 8, 9], 'col2': [50, 60, 70, 80, 90]}\n",
        "dict_dt.tail(3)\n",
        "Output:\n",
        "{'col1': [7, 8, 9], 'col2': [70, 80, 90]}\n",
        "```"
      ],
      "metadata": {
        "id": "1vgfATEezmEy"
      }
    },
    {
      "cell_type": "code",
      "source": [
        "class DictDataset:\n",
        "    def __init__(self,lst,keys):\n",
        "        self.dataset = dict(zip(keys,lst))\n",
        "    \n",
        "    def head(self, n = 5):\n",
        "        return { k:v[:n] for k,v in self.dataset.items()}\n",
        "\n",
        "    def tail(self, n=5):\n",
        "        return { k:v[-n:] for k,v in self.dataset.items()}    \n",
        "\n",
        "data = [\n",
        "        [1,2,3,4,5,6,7,8,9],\n",
        "        [10,20,30,40,50,60,70,80,90]\n",
        "]\n",
        "dict_dt = DictDataset(data,[\"col1\",\"col2\"])\n",
        "dict_dt.tail(3)           \n",
        "        "
      ],
      "metadata": {
        "id": "OmDY3J1yLAy7"
      },
      "execution_count": null,
      "outputs": []
    },
    {
      "cell_type": "markdown",
      "source": [
        "- 초기 숫자를 받아서 객체로 생성하는 클래스를 만드세요."
      ],
      "metadata": {
        "id": "PpligdTmV_CI"
      }
    },
    {
      "cell_type": "code",
      "source": [
        "class Calculator:\n",
        "    def __init__(self,n):\n",
        "          self.result = n\n",
        "\n",
        "    # self, result 변수에 인자값을 더해서 다시 self.resul 변수에 저장해주는...\n",
        "    def add(self,n):\n",
        "        self.result += n \n",
        "\n",
        "    def sub(self,n):\n",
        "        self.result -= n \n",
        "\n",
        "    def mul(self,n):\n",
        "        self.result *= n \n",
        "\n",
        "    def div(self,n):\n",
        "        if n:\n",
        "            self.result = self.result/ n\n",
        "    \n",
        "    def print_result(self):\n",
        "        n = int(self.result)\n",
        "        return n\n"
      ],
      "metadata": {
        "id": "7soFCcCNLGu8"
      },
      "execution_count": null,
      "outputs": []
    },
    {
      "cell_type": "code",
      "source": [
        "cc = Calculator(2)\n",
        "cc.result\n",
        "cc.add(2)\n",
        "cc.div(2)"
      ],
      "metadata": {
        "id": "kaneFfFtWQV0"
      },
      "execution_count": null,
      "outputs": []
    },
    {
      "cell_type": "markdown",
      "source": [
        "```\n",
        "구현한 클래스에서 추가 메소드를 작성하시오\n",
        "rename 메소드를 작성하세요\n",
        "딕셔너리를 입력 받아 인스턴스 변수인 dataset의 key의 값을 변경하는 메소드를 작성하세요.\n",
        "ex)\n",
        "dict_dt = DictDataset(data,[\"col1\",\"col2\"])\n",
        "keys_rename = {\n",
        "    \"col1\" : \"num1\",\n",
        "    \"col2\" : \"num2\"\n",
        "}\n",
        "dict_dt.rename(keys_rename)\n",
        "dict_dt.dataset\n",
        "Output:\n",
        "{'num1': [1, 2, 3, 4, 5, 6, 7, 8, 9],\n",
        " 'num2': [10, 20, 30, 40, 50, 60, 70, 80, 90]}\n",
        "```"
      ],
      "metadata": {
        "id": "ixWSdNaiaua-"
      }
    },
    {
      "cell_type": "code",
      "source": [
        "class DictDataset:\n",
        "    def __init__(self,lst,keys):\n",
        "        self.dataset = dict(zip(keys,lst))\n",
        "    \n",
        "    def head(self, n = 5):\n",
        "        result = { k:v[:n] for k,v in self.dataset.items()}\n",
        "        return result\n",
        "    def tail(self, n=5):\n",
        "        result = { k:v[-n:] for k,v in self.dataset.items()}\n",
        "        return result    \n",
        "    \n",
        "    def rename(self,keys):\n",
        "        for k,v in keys.items():\n",
        "            # k == \"col1\"\n",
        "            # v == \"num1\"\n",
        "            self.dataset[v] = self.dataset.pop(k)\n",
        "\n",
        "        \n",
        "\n",
        "dict_dt = DictDataset(data,[\"col1\",\"col2\"])\n",
        "keys_rename = {\n",
        "    \"col1\" : \"num1\",\n",
        "    \"col2\" : \"num2\"\n",
        "}\n",
        "dict_dt.rename(keys_rename)\n",
        "dict_dt.dataset\n"
      ],
      "metadata": {
        "id": "e-e2hsC_YK3d"
      },
      "execution_count": null,
      "outputs": []
    },
    {
      "cell_type": "markdown",
      "source": [
        "# 상속\n",
        "- 구현된 클래스의 기능(메소드)을 그대로 가져다가 사용하거나 아니면 그 기능을 수정하거나 기능을 추가하거나 할때 사용하는 개념 \n",
        "- 부모클래스의 속성(인스턴스변수와 메소드)들을 자식클래스가 그대로 물려받는 개념\n",
        "- 확장 개념, 부모클래스와 자식클래스가 합쳐지는 개념\n"
      ],
      "metadata": {
        "id": "qBepdYujaCG2"
      }
    },
    {
      "cell_type": "markdown",
      "source": [
        "- 부모 클래스 먼저 정의해보자."
      ],
      "metadata": {
        "id": "UnlUZDwAO8Vy"
      }
    },
    {
      "cell_type": "code",
      "source": [
        "class PlayerCharacter:\n",
        "    def __init__(self,hp=100, exp=0,):\n",
        "        self.hp = hp\n",
        "        self.exp = exp\n",
        "    \n",
        "    def attack(self):\n",
        "        print(\"공격하기\")\n",
        "        self.exp += 2\n",
        "    \n",
        "    def defend(self):\n",
        "        print(\"방어하기\")\n",
        "        self.exp += 1"
      ],
      "metadata": {
        "id": "onDX8-3xPDbT"
      },
      "execution_count": null,
      "outputs": []
    },
    {
      "cell_type": "code",
      "source": [
        "class Wizard(PlayerCharacter):\n",
        "    def __init__(self,mp):\n",
        "        self.mp = mp\n",
        "        super().__init__() # 부모클래스의 생성자를 실행하겠다.\n",
        "\n",
        "    def magic_skill(self):\n",
        "        print(\"마법 공격하기\")\n",
        "        self.mp -= 2"
      ],
      "metadata": {
        "id": "_74cuP6KP--M"
      },
      "execution_count": null,
      "outputs": []
    },
    {
      "cell_type": "code",
      "source": [
        "player = Wizard(10)\n",
        "player.magic_skill()\n",
        "player.mp"
      ],
      "metadata": {
        "id": "95nhmDNxRTXn",
        "colab": {
          "base_uri": "https://localhost:8080/"
        },
        "outputId": "00de1592-0686-4df5-d372-37738330fef0"
      },
      "execution_count": null,
      "outputs": [
        {
          "output_type": "stream",
          "name": "stdout",
          "text": [
            "마법 공격하기\n"
          ]
        },
        {
          "output_type": "execute_result",
          "data": {
            "text/plain": [
              "8"
            ]
          },
          "metadata": {},
          "execution_count": 3
        }
      ]
    },
    {
      "cell_type": "markdown",
      "source": [
        "- 상속을 하면 정말 합쳐지는게 맞는지 주소값 확인해보자."
      ],
      "metadata": {
        "id": "TIa7XTPBSitx"
      }
    },
    {
      "cell_type": "code",
      "source": [
        "class PlayerCharacter:\n",
        "    def __init__(self,hp=100, exp=0,):\n",
        "        print(f\"부모의 주소값:{id(self)}\")\n",
        "        self.hp = hp\n",
        "        self.exp = exp\n",
        "    \n",
        "    def attack(self):\n",
        "        print(\"공격하기\")\n",
        "        self.exp += 2\n",
        "    \n",
        "    def defend(self):\n",
        "        print(\"방어하기\")\n",
        "        self.exp += 1\n",
        "\n",
        "class Wizard(PlayerCharacter): # 상속받기\n",
        "    def __init__(self,mp):\n",
        "        print(f\"자식의 주소값:{id(self)}\")\n",
        "        self.mp = mp\n",
        "        super().__init__() # 부모클래스의 생성자를 실행하겠다.\n",
        "\n",
        "    def magic_skill(self):\n",
        "        print(\"마법 공격하기\")\n",
        "        self.mp -= 2"
      ],
      "metadata": {
        "id": "B8mSLx_qRVEb"
      },
      "execution_count": null,
      "outputs": []
    },
    {
      "cell_type": "code",
      "source": [
        "Wizard(30)"
      ],
      "metadata": {
        "id": "lugQwRdmTAvv",
        "colab": {
          "base_uri": "https://localhost:8080/"
        },
        "outputId": "4ab9494d-084f-4a46-b457-0a0aae2eb429"
      },
      "execution_count": null,
      "outputs": [
        {
          "output_type": "stream",
          "name": "stdout",
          "text": [
            "자식의 주소값:140252764312784\n",
            "부모의 주소값:140252764312784\n"
          ]
        },
        {
          "output_type": "execute_result",
          "data": {
            "text/plain": [
              "<__main__.Wizard at 0x7f8f243214d0>"
            ]
          },
          "metadata": {},
          "execution_count": 5
        }
      ]
    },
    {
      "cell_type": "markdown",
      "source": [
        "## 오버라이딩(Override)\n",
        "- 부모로부터 받는 메소드를 수정하고 싶을때 자식클래스에서 재정의 한다.\n"
      ],
      "metadata": {
        "id": "tSMAH8DzTEJj"
      }
    },
    {
      "cell_type": "code",
      "source": [
        "class PlayerCharacter:\n",
        "    def __init__(self,hp=100, exp=0,):\n",
        "        \n",
        "        self.hp = hp\n",
        "        self.exp = exp\n",
        "    \n",
        "    def attack(self):\n",
        "        print(\"공격하기\")\n",
        "        self.exp += 2\n",
        "    \n",
        "    def defend(self):\n",
        "        print(\"방어하기\")\n",
        "        self.exp += 1\n",
        "\n",
        "class Wizard(PlayerCharacter): # 상속받기\n",
        "    def __init__(self,mp):\n",
        "        \n",
        "        self.mp = mp\n",
        "        super().__init__() # 부모클래스의 생성자를 실행하겠다.\n",
        "\n",
        "    def magic_skill(self):\n",
        "        print(\"마법 공격하기\")\n",
        "        self.mp -= 2\n",
        "\n",
        "    # 메소드 오버라이딩\n",
        "    def defend(self):\n",
        "        print(\"마법사가 방어하기\")\n",
        "        self.exp += 3"
      ],
      "metadata": {
        "id": "-RKJs_-dUEKz"
      },
      "execution_count": null,
      "outputs": []
    },
    {
      "cell_type": "code",
      "source": [
        "player = Wizard(30)\n",
        "print(player.exp)\n",
        "player.defend()\n",
        "player.exp"
      ],
      "metadata": {
        "id": "KDHmMTw6Ua-A",
        "colab": {
          "base_uri": "https://localhost:8080/"
        },
        "outputId": "dc5e9cd1-9d1c-4d8e-e4d3-52dccd408243"
      },
      "execution_count": null,
      "outputs": [
        {
          "output_type": "stream",
          "name": "stdout",
          "text": [
            "0\n",
            "마법사가 방어하기\n"
          ]
        },
        {
          "output_type": "execute_result",
          "data": {
            "text/plain": [
              "3"
            ]
          },
          "metadata": {},
          "execution_count": 7
        }
      ]
    },
    {
      "cell_type": "code",
      "source": [
        "class Calculator:\n",
        "    def __init__(self,num=0):\n",
        "        self.num = num\n",
        "    def add(self,num): # 한개의 정수를 입력 받아 self.num 더하기, 반환값 X\n",
        "        pass\n",
        "    def sub(self,num): # 한개의 정수를 입력 받아 self.num 빼기, 반환값 X\n",
        "        pass\n",
        "    def mul(self,num): # 한개의 정수를 입력 받아 self.num 곱하기, 반환값 X\n",
        "        pass\n",
        "    def div(self,num): # 한개의 정수를 입력 받아 self.num 나누기, 반환값 X\n",
        "        pass\n",
        "    def result(self):\n",
        "        return self.num\n",
        "    def reset(self):\n",
        "        self.num = 0\n",
        "\n",
        "class cal(Calculator):\n",
        "    def __init__(self,num):\n",
        "        super().__init__(num) #부모생성자에 아규먼트 넣어주기\n",
        "        \n",
        "\n",
        "    def add(self,num):\n",
        "        self.num += self.check_num(num) # 정수가 아닐경우 0이 반환됨\n",
        "        \n",
        "    def sub(self,num):\n",
        "        self.num -= self.check_num(num) # 정수가 아닐경우 0이 반환됨\n",
        "\n",
        "    def mul(self,num):\n",
        "        if self.check_num(num): #0이 아닐경우는 참!\n",
        "            self.num *= num\n",
        "\n",
        "    def div(self,num):\n",
        "        if self.check_num(num): #0이 아닐경우는 참!\n",
        "            self.num /= num\n",
        "\n",
        "    \n",
        "    def check_num(self,num):\n",
        "        if type(num) is not int:\n",
        "            print(\"입력값이 정수가 아닙니다. 입력값을 0으로 변경합니다.\")\n",
        "            num = 0\n",
        "        return num\n",
        "\n",
        "    \n",
        "c = cal(1)\n",
        "c.add(3)\n",
        "\n",
        " "
      ],
      "metadata": {
        "id": "EbP2AD5AY8OX"
      },
      "execution_count": null,
      "outputs": []
    },
    {
      "cell_type": "markdown",
      "source": [],
      "metadata": {
        "id": "h21X6PpqgYLW"
      }
    },
    {
      "cell_type": "code",
      "source": [
        "class MyCalculator(Calculator): # 강사님 답\n",
        "    def __init__(self,num):\n",
        "        super().__init__(num)   # 부모 생성자에 아규먼트 넣어주기\n",
        "    def add(self,num):\n",
        "        if type(num) is int:\n",
        "            self.num = self.num + num\n",
        "        else:\n",
        "            print(\"입력값이 정수가 아닙니다. 입력값을 0으로 변경합니다.\")\n",
        "    def sub(self,num):\n",
        "        self.num = self.num - self.check_num(num)   # 정수가 아닐 경우 0이 반환됨\n",
        "    def mul(self,num):\n",
        "        if self.check_num(num): # 0이 아닐 경우는 참!\n",
        "            self.num = self.num * num\n",
        "    def div(self,num):\n",
        "        if self.check_num(num): # 0이 아닐 경우는 참!\n",
        "            self.num = self.num / num\n",
        "    def check_num(self,num):        # 이것을 넣어 하드코딩을 방지!\n",
        "        if type(num) is not int:\n",
        "             print(\"입력값이 정수가 아닙니다. 입력값을 0으로 변경합니다.\")\n",
        "             num = 0\n",
        "        return num\n",
        "\n",
        "c = MyCalculator(4)\n",
        "c.mul(3)\n",
        "c.result()"
      ],
      "metadata": {
        "id": "JxeJzwHadBzZ"
      },
      "execution_count": null,
      "outputs": []
    },
    {
      "cell_type": "code",
      "source": [
        "class Scaler:\n",
        "    def fit_transform(self,data):\n",
        "        pass\n",
        "    def transform(self,data):\n",
        "        pass"
      ],
      "metadata": {
        "id": "IZRGdemQmx67"
      },
      "execution_count": null,
      "outputs": []
    },
    {
      "cell_type": "code",
      "source": [
        "class StandardScaler(Scaler):\n",
        "    def fit_transform(self,data):\n",
        "        self.data=data\n",
        "    \n",
        "        self.avg=sum(self.data)/len(self.data)\n",
        "\n",
        "        dev_list=[]\n",
        "        for i in data:\n",
        "            dev = self.avg-i\n",
        "            dev_list.append(dev ** 2)\n",
        "        \n",
        "        var = sum(dev_list)/len(dev_list)\n",
        "        self.vars = var ** 0.5\n",
        "\n",
        "        self.res = (i-self.avg)/self.vars\n",
        "    \n",
        "    def transform(self,data):\n",
        "        self.res = (i)\n",
        "\n",
        "\n",
        "\n",
        "        "
      ],
      "metadata": {
        "id": "08PL-gi9qn6k"
      },
      "execution_count": null,
      "outputs": []
    },
    {
      "cell_type": "code",
      "source": [
        "class StandardScaler(Scaler):\n",
        "    def fit_transform(self,data):\n",
        "        avg = sum(data)/len(data)\n",
        "        dev = [(avg-i)**2 for i in data]\n",
        "        var =  [sum(dev)/len(dev)] ** 0.5\n",
        "        res = [(j-avg)/var for j in data]\n",
        "\n",
        "        return res\n",
        "\n",
        "    def transform(self,data):\n",
        "        return self.fit_transform(data)"
      ],
      "metadata": {
        "id": "4lJbWfEp0bFg"
      },
      "execution_count": null,
      "outputs": []
    },
    {
      "cell_type": "code",
      "source": [
        "class StandardScaler(Scaler):  #강사님\n",
        "    def fit_transform(self,data):\n",
        "        self.avg_ = self.get_avg(data)\n",
        "        self.std_ = self.get_std(data)\n",
        "        return [(x - self.avg_) / self.std_ for x in data]\n",
        "        #return self.transform(data)\n",
        "\n",
        "    def transform(self,data):\n",
        "        return [(x - self.avg_) / self.std_ for x in data]\n",
        "\n",
        "    def get_avg(self,data):\n",
        "        return sum(data) / len(data)\n",
        "\n",
        "    def get_std(self,data):\n",
        "        avg = self.get_avg(data)\n",
        "        diff_list = [ (avg-x)**2 for x in data]\n",
        "        var = sum(diff_list) / len(data)\n",
        "        return var ** 0.5"
      ],
      "metadata": {
        "id": "Iq3ABEBR2waU"
      },
      "execution_count": null,
      "outputs": []
    },
    {
      "cell_type": "markdown",
      "source": [
        "```\n",
        "- Scaler 클래스를 상속받아 MinMaxScaler 클래스를 구현하시오\n",
        "- Scaler 클래스 fit, fit_transform , transform, inverse_transform 를 오버라이딩하시오\n",
        "- fit 은 데이터의 최소값과 사이즈값(최대값- 최소값)을 인스턴스변수에 저장하는 기능을 구현하시오\n",
        "- fit_transform 은 데이터의 최소값과 사이즈값(최대값- 최소값)을 인스턴스변수에 저장하는 기능과 함께 \n",
        "입력받은 데이터를 minmax 스케일링을 적용하고 반환하시오\n",
        "- transform 은 저장된 인스턴스변수를 이용하여 입력받은 데이터를 minmax 스케일링을 적용하고 반환하시오\n",
        "- inverse_transform 은 minmax 스케일이 적용된 데이터를 입력받아 원래의 수치로 변경하는 기능을 구현하시오.\n",
        "```"
      ],
      "metadata": {
        "id": "THdpTRZp59UK"
      }
    },
    {
      "cell_type": "markdown",
      "source": [
        "$$\n",
        "\\frac{x-Min(X)}{Max(X)-Min(X)}\n",
        "$$ \n",
        "\n",
        "- 역변환\n",
        "$$\n",
        "x \\times (Max(X)-Min(X)) + Min(X)  \n",
        "$$ \n"
      ],
      "metadata": {
        "id": "gY3n42R57ILM"
      }
    },
    {
      "cell_type": "code",
      "source": [
        "class Scaler:\n",
        "    def fit(self,data):\n",
        "        pass\n",
        "    def fit_transform(self,data):\n",
        "        pass\n",
        "    def transform(self,data):\n",
        "        pass\n",
        "    def inverse_rtansform(self,data):\n",
        "        pass"
      ],
      "metadata": {
        "id": "EoplsTYr7OQ9"
      },
      "execution_count": null,
      "outputs": []
    },
    {
      "cell_type": "code",
      "source": [
        "class MinMaxScaler(Scaler):\n",
        "    def fit(self,data):\n",
        "        self.min_ = self.get_min(data)\n",
        "        self.size_ = self.get_size(data)\n",
        "\n",
        "    def fit_transform(self,data):\n",
        "        self.min_ = self.get_min(data)\n",
        "        self.size_ = self.get_size(data)\n",
        "        return [(x-self.min_)/self.size_ for x in data]\n",
        "\n",
        "    def transform(self,data):\n",
        "        self.minmax_=[(x-self.min_)/self.size_ for x in data]\n",
        "        return self.minmax_\n",
        "        \n",
        "    def inverse_rtansform(self,data):\n",
        "        return[ x * self.size_ + self.min_ for x in data]\n",
        "        \n",
        "\n",
        "    def get_min(self,data):\n",
        "        return min(data)\n",
        "    def get_size(self,data):\n",
        "        return max(data)-min(data)"
      ],
      "metadata": {
        "id": "6ZjF8XIq7Q9D"
      },
      "execution_count": null,
      "outputs": []
    },
    {
      "cell_type": "code",
      "source": [],
      "metadata": {
        "id": "gozuPtCFBgKt"
      },
      "execution_count": null,
      "outputs": []
    },
    {
      "cell_type": "code",
      "source": [
        "class MinMaxScaler(Scaler):\n",
        "    def fit(self,data):\n",
        "        self.min_ = min(data)\n",
        "        self.size_ = max(data) - self.min_\n",
        "\n",
        "    def fit_transform(self,data):\n",
        "        self.fit(data)\n",
        "        return [(x-self.min_)/self.size_ for x in data]\n",
        "\n",
        "    def transform(self,data):\n",
        "        self.minmax_=[(x-self.min_)/self.size_ for x in data]\n",
        "        return self.minmax_\n",
        "        \n",
        "    def inverse_rtansform(self,data):\n",
        "        return[ x * self.size_ + self.min_ for x in data]"
      ],
      "metadata": {
        "id": "_yK7sxP1bLnW"
      },
      "execution_count": null,
      "outputs": []
    },
    {
      "cell_type": "markdown",
      "source": [
        "# non public(private화)\n",
        "- `private`: 인스턴스 변수나 메소드를 클래스 내부에서만 사용하게 하는것\n",
        "- 바깥에서 사용이 불가능하도록 하는 설정\n",
        "-맹글링(mangling) 기법을 이용해서 외부에서 직접적으로 인스턴스변수나 메소드에 접근하는 것을 막을수 있다. "
      ],
      "metadata": {
        "id": "BLlM04eufoMZ"
      }
    },
    {
      "cell_type": "code",
      "source": [
        "class PlayerCharacter:\n",
        "    def __init__(self,hp=100,exp=0):\n",
        "        self.hp = hp\n",
        "        self.exp = exp\n",
        "    \n",
        "    def attack(self):\n",
        "        print(\"공격하기\")\n",
        "        self.exp += 2\n",
        "\n",
        "    def defend(self):\n",
        "        print(\"방어하기\")\n",
        "        self.exp += 1\n",
        "    \n",
        "    def attatcked(self,attack_size):\n",
        "        print(\"공격받음\")\n",
        "        self.hp -= attack_size"
      ],
      "metadata": {
        "id": "j6ygYxuGf29n"
      },
      "execution_count": null,
      "outputs": []
    },
    {
      "cell_type": "code",
      "source": [
        "class Wizard(PlayerCharacter):\n",
        "    def __init__(self,mp):\n",
        "        super().__init__()\n",
        "        self.__mp = mp # private\n",
        "    \n",
        "    def __magic_skill(self): # private\n",
        "        print(\"마법 공격하기\")\n",
        "        self.__mp -= 2\n",
        "\n",
        "    def magic_skill(self):\n",
        "        if self.__mp > 1:\n",
        "            self.__magic_skill()\n",
        "        else:\n",
        "            print(\"MP가 부족합니다.\")\n",
        "            "
      ],
      "metadata": {
        "id": "YWKRUSvZhjnE"
      },
      "execution_count": null,
      "outputs": []
    },
    {
      "cell_type": "code",
      "source": [
        "player = Wizard(50)\n",
        "player.__magic_skill()"
      ],
      "metadata": {
        "id": "LdszU3URitzR",
        "colab": {
          "base_uri": "https://localhost:8080/",
          "height": 193
        },
        "outputId": "f4df7f71-22ad-4e6e-d8dc-611039f0da39"
      },
      "execution_count": null,
      "outputs": [
        {
          "output_type": "error",
          "ename": "AttributeError",
          "evalue": "ignored",
          "traceback": [
            "\u001b[0;31m---------------------------------------------------------------------------\u001b[0m",
            "\u001b[0;31mAttributeError\u001b[0m                            Traceback (most recent call last)",
            "\u001b[0;32m<ipython-input-16-4ad15eaae4fe>\u001b[0m in \u001b[0;36m<module>\u001b[0;34m\u001b[0m\n\u001b[1;32m      1\u001b[0m \u001b[0mplayer\u001b[0m \u001b[0;34m=\u001b[0m \u001b[0mWizard\u001b[0m\u001b[0;34m(\u001b[0m\u001b[0;36m50\u001b[0m\u001b[0;34m)\u001b[0m\u001b[0;34m\u001b[0m\u001b[0;34m\u001b[0m\u001b[0m\n\u001b[0;32m----> 2\u001b[0;31m \u001b[0mplayer\u001b[0m\u001b[0;34m.\u001b[0m\u001b[0m__magic_skill\u001b[0m\u001b[0;34m(\u001b[0m\u001b[0;34m)\u001b[0m\u001b[0;34m\u001b[0m\u001b[0;34m\u001b[0m\u001b[0m\n\u001b[0m",
            "\u001b[0;31mAttributeError\u001b[0m: 'Wizard' object has no attribute '__magic_skill'"
          ]
        }
      ]
    },
    {
      "cell_type": "code",
      "source": [
        "player.magic_skill()"
      ],
      "metadata": {
        "id": "MtQu-meNizcP",
        "colab": {
          "base_uri": "https://localhost:8080/"
        },
        "outputId": "0d8ef9fe-305e-42e1-d8c4-797a411530b7"
      },
      "execution_count": null,
      "outputs": [
        {
          "output_type": "stream",
          "name": "stdout",
          "text": [
            "마법 공격하기\n"
          ]
        }
      ]
    },
    {
      "cell_type": "code",
      "source": [
        "player = Wizard(1)\n",
        "player.magic_skill()"
      ],
      "metadata": {
        "id": "plyfrSfyi7zB",
        "colab": {
          "base_uri": "https://localhost:8080/"
        },
        "outputId": "413d4463-7f94-4e01-9b3b-444a15b5c8eb"
      },
      "execution_count": null,
      "outputs": [
        {
          "output_type": "stream",
          "name": "stdout",
          "text": [
            "MP가 부족합니다.\n"
          ]
        }
      ]
    },
    {
      "cell_type": "code",
      "source": [
        "player.__mp"
      ],
      "metadata": {
        "id": "ew9pBwTHjBVR",
        "colab": {
          "base_uri": "https://localhost:8080/",
          "height": 174
        },
        "outputId": "447641b5-be3a-4ce3-f6ec-0c5dc4ea087f"
      },
      "execution_count": null,
      "outputs": [
        {
          "output_type": "error",
          "ename": "AttributeError",
          "evalue": "ignored",
          "traceback": [
            "\u001b[0;31m---------------------------------------------------------------------------\u001b[0m",
            "\u001b[0;31mAttributeError\u001b[0m                            Traceback (most recent call last)",
            "\u001b[0;32m<ipython-input-19-b1c0a85b281e>\u001b[0m in \u001b[0;36m<module>\u001b[0;34m\u001b[0m\n\u001b[0;32m----> 1\u001b[0;31m \u001b[0mplayer\u001b[0m\u001b[0;34m.\u001b[0m\u001b[0m__mp\u001b[0m\u001b[0;34m\u001b[0m\u001b[0;34m\u001b[0m\u001b[0m\n\u001b[0m",
            "\u001b[0;31mAttributeError\u001b[0m: 'Wizard' object has no attribute '__mp'"
          ]
        }
      ]
    },
    {
      "cell_type": "code",
      "source": [
        "player.__mp = 100"
      ],
      "metadata": {
        "id": "QniqfXFMjVyY"
      },
      "execution_count": null,
      "outputs": []
    },
    {
      "cell_type": "markdown",
      "source": [
        "# getter & setter (참고용)\n",
        "- 인스턴스 변수에 접근할때 특정 로직을 거쳐서 접근시키는 방법\n",
        "- getter & setter 정의할 인스턴스 변수는 private화 하자"
      ],
      "metadata": {
        "id": "nzn_GJXljdyq"
      }
    },
    {
      "cell_type": "code",
      "source": [
        "class Wizard(PlayerCharacter):\n",
        "\n",
        "    def __init__(self,mp):\n",
        "        super().__init__()\n",
        "        self.mp = mp\n",
        "\n",
        "    # getter  세팅할때는 다음의 데코레이터 정의\n",
        "    @property\n",
        "    def mp(self):\n",
        "        print(\"getter 동작\")\n",
        "        return self.__mp\n",
        "\n",
        "    # setter 세팅할때는  getter의 메소드명.setter\n",
        "    @mp.setter\n",
        "    def mp(self,mp):\n",
        "        print(\"setter 동작\")\n",
        "        if mp < 0:\n",
        "            mp = 0\n",
        "\n",
        "        self.__mp = mp\n"
      ],
      "metadata": {
        "id": "RgYZQ74XkRQ5"
      },
      "execution_count": null,
      "outputs": []
    },
    {
      "cell_type": "code",
      "source": [
        "player = Wizard(5)"
      ],
      "metadata": {
        "id": "nkcKMo2vlpW7",
        "colab": {
          "base_uri": "https://localhost:8080/"
        },
        "outputId": "313778ce-f1d7-44bc-93ef-7aee56c7f15d"
      },
      "execution_count": null,
      "outputs": [
        {
          "output_type": "stream",
          "name": "stdout",
          "text": [
            "setter 동작\n"
          ]
        }
      ]
    },
    {
      "cell_type": "code",
      "source": [
        "player.mp"
      ],
      "metadata": {
        "id": "iHvRl8gplxvq",
        "colab": {
          "base_uri": "https://localhost:8080/"
        },
        "outputId": "7001061f-84aa-480d-95da-36e9dd3756d8"
      },
      "execution_count": null,
      "outputs": [
        {
          "output_type": "stream",
          "name": "stdout",
          "text": [
            "getter 동작\n"
          ]
        },
        {
          "output_type": "execute_result",
          "data": {
            "text/plain": [
              "5"
            ]
          },
          "metadata": {},
          "execution_count": 23
        }
      ]
    },
    {
      "cell_type": "code",
      "source": [
        "player.mp = -1"
      ],
      "metadata": {
        "id": "SrKLgUe0l126",
        "colab": {
          "base_uri": "https://localhost:8080/"
        },
        "outputId": "3d4b1948-0efc-40af-88b3-5feba44a135e"
      },
      "execution_count": null,
      "outputs": [
        {
          "output_type": "stream",
          "name": "stdout",
          "text": [
            "setter 동작\n"
          ]
        }
      ]
    },
    {
      "cell_type": "code",
      "source": [
        "player.mp"
      ],
      "metadata": {
        "id": "-d4h0ZtCl5Gy",
        "colab": {
          "base_uri": "https://localhost:8080/"
        },
        "outputId": "767090f6-bbc2-4eb9-f494-41c8d66d368c"
      },
      "execution_count": null,
      "outputs": [
        {
          "output_type": "stream",
          "name": "stdout",
          "text": [
            "getter 동작\n"
          ]
        },
        {
          "output_type": "execute_result",
          "data": {
            "text/plain": [
              "0"
            ]
          },
          "metadata": {},
          "execution_count": 25
        }
      ]
    },
    {
      "cell_type": "markdown",
      "source": [
        "# 매직 메소드\n",
        "- 메소드 명이 두개의 언더바로 감싸져 있다.\n",
        "- 파이썬의 다양한 내장함수들이 클래스의 매직 메소드들을 호출하여 결과를 만들어 낸다."
      ],
      "metadata": {
        "id": "EV3h2HDYrgjC"
      }
    },
    {
      "cell_type": "code",
      "source": [
        "class MyDataset:\n",
        "    def __init__(self,data):\n",
        "        self.data = data\n",
        "\n",
        "    def __call__(self,a):\n",
        "        print(f\"{a} 함수 호출 방법처럼 객체를 함수 호출하듯이 만들어주는 메소드\")\n",
        "\n",
        "    def __str__(self): # print 함수에 이 클래스의 객체를 넣을 경우 이메소드에 리턴값을 출력해준다.\n",
        "        return \"Mydataset Class\"\n",
        "\n",
        "    def __len__(self): # len()내장함수는  객체의 이 매직 메소드를 호출한다고 생각하면 된다.\n",
        "        return len(self.data)\n",
        "\n",
        "    def __getitem__(self,idx):# 인덱싱과 슬라이싱을 가능하게한다.\n",
        "        return self.data[idx]"
      ],
      "metadata": {
        "id": "cJtfhIktriYE"
      },
      "execution_count": null,
      "outputs": []
    },
    {
      "cell_type": "code",
      "source": [
        "data = list(range(50,100))\n",
        "dt = MyDataset(data)\n",
        "dt"
      ],
      "metadata": {
        "colab": {
          "base_uri": "https://localhost:8080/"
        },
        "id": "v3ggwWt8s5oW",
        "outputId": "4968dcf0-b6a5-4dbb-c5ec-88497a93e0ba"
      },
      "execution_count": null,
      "outputs": [
        {
          "output_type": "execute_result",
          "data": {
            "text/plain": [
              "<__main__.MyDataset at 0x7fd5f4f3b4d0>"
            ]
          },
          "metadata": {},
          "execution_count": 25
        }
      ]
    },
    {
      "cell_type": "code",
      "source": [
        "dt(1004)"
      ],
      "metadata": {
        "colab": {
          "base_uri": "https://localhost:8080/"
        },
        "id": "2R0QFCngtEME",
        "outputId": "c45a0da4-84c7-42c1-ce2b-89804bc9dc2b"
      },
      "execution_count": null,
      "outputs": [
        {
          "output_type": "stream",
          "name": "stdout",
          "text": [
            "1004 함수 호출 방법처럼 객체를 함수 호출하듯이 만들어주는 메소드\n"
          ]
        }
      ]
    },
    {
      "cell_type": "code",
      "source": [
        "print(dt)"
      ],
      "metadata": {
        "id": "6Ypaa9U_tE7T"
      },
      "execution_count": null,
      "outputs": []
    },
    {
      "cell_type": "code",
      "source": [
        "len(dt)"
      ],
      "metadata": {
        "colab": {
          "base_uri": "https://localhost:8080/"
        },
        "id": "E0lM7IHHtgvM",
        "outputId": "afb0ec02-21d6-4388-ddcd-cad4453814a0"
      },
      "execution_count": null,
      "outputs": [
        {
          "output_type": "execute_result",
          "data": {
            "text/plain": [
              "50"
            ]
          },
          "metadata": {},
          "execution_count": 26
        }
      ]
    },
    {
      "cell_type": "code",
      "source": [
        "dt[0]"
      ],
      "metadata": {
        "colab": {
          "base_uri": "https://localhost:8080/"
        },
        "id": "wTHie0Kyt6Vl",
        "outputId": "0115a4fa-4375-447b-c200-a068da93b490"
      },
      "execution_count": null,
      "outputs": [
        {
          "output_type": "execute_result",
          "data": {
            "text/plain": [
              "50"
            ]
          },
          "metadata": {},
          "execution_count": 13
        }
      ]
    },
    {
      "cell_type": "markdown",
      "source": [
        "```\n",
        "객체 생성시 딕셔너리 데이터를 입력 받아 다음과 같은 예시로 데이터를 반환하는\n",
        "클래스를 만드시오.\n",
        "ex)\n",
        "data = {\n",
        "    \"x\" : [0.4,0.3,0.8,0.2,0.3,0.9,0.7],\n",
        "    \"y\" : [0,1,0,0,1,0,0]\n",
        "}\n",
        "dt = Dataset(data)\n",
        "len(dt)\n",
        "Output:\n",
        "7\n",
        "dt[0]\n",
        "Output:\n",
        "(0.4, 0)\n",
        "class Dataset:\n",
        "    def __init__(self,data):\n",
        "        pass\n",
        "    def __len__(self):\n",
        "        pass\n",
        "    def __getitem__(self,idx):\n",
        "        pass\n",
        "```"
      ],
      "metadata": {
        "id": "nO5AO0_lvhHK"
      }
    },
    {
      "cell_type": "code",
      "source": [
        "class Dataset:\n",
        "    def __init__(self,data):\n",
        "        self.x = data[\"x\"]\n",
        "        self.y = data[\"y\"]\n",
        "\n",
        "    def __len__(self): # len()내장함수는  객체의 이 매직 메소드를 호출한다고 생각하면 된다.\n",
        "        return len(self.x)\n",
        "\n",
        "    def __getitem__(self,idx):# 인덱싱과 슬라이싱을 가능하게한다.\n",
        "            return self.x[idx], self.y[idx]"
      ],
      "metadata": {
        "id": "s_BrO8eut_ce"
      },
      "execution_count": null,
      "outputs": []
    },
    {
      "cell_type": "code",
      "source": [
        "data = {\n",
        "    \"x\" : [0.4,0.3,0.8,0.2,0.3,0.9,0.7],\n",
        "    \"y\" : [0,1,0,0,1,0,0]\n",
        "}\n",
        "\n",
        "dt = Dataset(data)\n",
        "dt[0]\n"
      ],
      "metadata": {
        "id": "tVgBPgWnwMH2",
        "colab": {
          "base_uri": "https://localhost:8080/"
        },
        "outputId": "89f5d9e8-02a4-47d1-f7ac-0b9024bb0a74"
      },
      "execution_count": null,
      "outputs": [
        {
          "output_type": "execute_result",
          "data": {
            "text/plain": [
              "(0.4, 0)"
            ]
          },
          "metadata": {},
          "execution_count": 62
        }
      ]
    },
    {
      "cell_type": "code",
      "source": [
        "class Dataset:\n",
        "    def __init__(self,data):\n",
        "        self.x = data[\"x\"]\n",
        "        self.y = data[\"y\"]\n",
        "\n",
        "    def __len__(self): # len()내장함수는  객체의 이 매직 메소드를 호출한다고 생각하면 된다.\n",
        "        return len(self.y)\n",
        "\n",
        "    def __getitem__(self,idx):# 인덱싱과 슬라이싱을 가능하게한다.\n",
        "            return self.x[idx], self.y[idx]"
      ],
      "metadata": {
        "id": "GgcEi6ZVzQ86"
      },
      "execution_count": null,
      "outputs": []
    },
    {
      "cell_type": "code",
      "source": [],
      "metadata": {
        "id": "GHAz0OhLziOe"
      },
      "execution_count": null,
      "outputs": []
    }
  ]
}