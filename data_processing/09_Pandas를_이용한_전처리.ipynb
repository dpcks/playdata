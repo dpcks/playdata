{
  "nbformat": 4,
  "nbformat_minor": 0,
  "metadata": {
    "colab": {
      "provenance": [],
      "mount_file_id": "17AePqUK6PQ0tcrPIMUp8Fm3C3UpYTDqy",
      "authorship_tag": "ABX9TyPZitZOZ3YCSdhMWkrc05DD",
      "include_colab_link": true
    },
    "kernelspec": {
      "name": "python3",
      "display_name": "Python 3"
    },
    "language_info": {
      "name": "python"
    }
  },
  "cells": [
    {
      "cell_type": "markdown",
      "metadata": {
        "id": "view-in-github",
        "colab_type": "text"
      },
      "source": [
        "<a href=\"https://colab.research.google.com/github/dpcks/playdata/blob/main/data_processing/09_Pandas%EB%A5%BC_%EC%9D%B4%EC%9A%A9%ED%95%9C_%EC%A0%84%EC%B2%98%EB%A6%AC.ipynb\" target=\"_parent\"><img src=\"https://colab.research.google.com/assets/colab-badge.svg\" alt=\"Open In Colab\"/></a>"
      ]
    },
    {
      "cell_type": "code",
      "execution_count": null,
      "metadata": {
        "id": "q7tSjO13G1hY"
      },
      "outputs": [],
      "source": [
        "import pandas as pd\n",
        "import numpy as np"
      ]
    },
    {
      "cell_type": "code",
      "source": [
        "DATA_PATH = \"/content/drive/MyDrive/data/\""
      ],
      "metadata": {
        "id": "6z73cx5xHBIN"
      },
      "execution_count": null,
      "outputs": []
    },
    {
      "cell_type": "code",
      "source": [
        "df = pd.read_csv(f\"{DATA_PATH}titanic.csv\")\n",
        "df.head()"
      ],
      "metadata": {
        "colab": {
          "base_uri": "https://localhost:8080/",
          "height": 548
        },
        "id": "znbuAhCaHJmH",
        "outputId": "3d14535a-37ea-4db3-ce6e-af94684edf29"
      },
      "execution_count": null,
      "outputs": [
        {
          "output_type": "execute_result",
          "data": {
            "text/plain": [
              "   passengerid  survived  pclass  \\\n",
              "0            1         0       3   \n",
              "1            2         1       1   \n",
              "2            3         1       3   \n",
              "3            4         1       1   \n",
              "4            5         0       3   \n",
              "\n",
              "                                                name  gender   age  sibsp  \\\n",
              "0                            Braund, Mr. Owen Harris    male  22.0      1   \n",
              "1  Cumings, Mrs. John Bradley (Florence Briggs Th...  female  38.0      1   \n",
              "2                             Heikkinen, Miss. Laina  female  26.0      0   \n",
              "3       Futrelle, Mrs. Jacques Heath (Lily May Peel)  female  35.0      1   \n",
              "4                           Allen, Mr. William Henry    male  35.0      0   \n",
              "\n",
              "   parch            ticket     fare cabin embarked  \n",
              "0      0         A/5 21171   7.2500   NaN        S  \n",
              "1      0          PC 17599  71.2833   C85        C  \n",
              "2      0  STON/O2. 3101282   7.9250   NaN        S  \n",
              "3      0            113803  53.1000  C123        S  \n",
              "4      0            373450   8.0500   NaN        S  "
            ],
            "text/html": [
              "\n",
              "  <div id=\"df-d8a41edc-e73f-4205-a9d4-f7fb246d615d\">\n",
              "    <div class=\"colab-df-container\">\n",
              "      <div>\n",
              "<style scoped>\n",
              "    .dataframe tbody tr th:only-of-type {\n",
              "        vertical-align: middle;\n",
              "    }\n",
              "\n",
              "    .dataframe tbody tr th {\n",
              "        vertical-align: top;\n",
              "    }\n",
              "\n",
              "    .dataframe thead th {\n",
              "        text-align: right;\n",
              "    }\n",
              "</style>\n",
              "<table border=\"1\" class=\"dataframe\">\n",
              "  <thead>\n",
              "    <tr style=\"text-align: right;\">\n",
              "      <th></th>\n",
              "      <th>passengerid</th>\n",
              "      <th>survived</th>\n",
              "      <th>pclass</th>\n",
              "      <th>name</th>\n",
              "      <th>gender</th>\n",
              "      <th>age</th>\n",
              "      <th>sibsp</th>\n",
              "      <th>parch</th>\n",
              "      <th>ticket</th>\n",
              "      <th>fare</th>\n",
              "      <th>cabin</th>\n",
              "      <th>embarked</th>\n",
              "    </tr>\n",
              "  </thead>\n",
              "  <tbody>\n",
              "    <tr>\n",
              "      <th>0</th>\n",
              "      <td>1</td>\n",
              "      <td>0</td>\n",
              "      <td>3</td>\n",
              "      <td>Braund, Mr. Owen Harris</td>\n",
              "      <td>male</td>\n",
              "      <td>22.0</td>\n",
              "      <td>1</td>\n",
              "      <td>0</td>\n",
              "      <td>A/5 21171</td>\n",
              "      <td>7.2500</td>\n",
              "      <td>NaN</td>\n",
              "      <td>S</td>\n",
              "    </tr>\n",
              "    <tr>\n",
              "      <th>1</th>\n",
              "      <td>2</td>\n",
              "      <td>1</td>\n",
              "      <td>1</td>\n",
              "      <td>Cumings, Mrs. John Bradley (Florence Briggs Th...</td>\n",
              "      <td>female</td>\n",
              "      <td>38.0</td>\n",
              "      <td>1</td>\n",
              "      <td>0</td>\n",
              "      <td>PC 17599</td>\n",
              "      <td>71.2833</td>\n",
              "      <td>C85</td>\n",
              "      <td>C</td>\n",
              "    </tr>\n",
              "    <tr>\n",
              "      <th>2</th>\n",
              "      <td>3</td>\n",
              "      <td>1</td>\n",
              "      <td>3</td>\n",
              "      <td>Heikkinen, Miss. Laina</td>\n",
              "      <td>female</td>\n",
              "      <td>26.0</td>\n",
              "      <td>0</td>\n",
              "      <td>0</td>\n",
              "      <td>STON/O2. 3101282</td>\n",
              "      <td>7.9250</td>\n",
              "      <td>NaN</td>\n",
              "      <td>S</td>\n",
              "    </tr>\n",
              "    <tr>\n",
              "      <th>3</th>\n",
              "      <td>4</td>\n",
              "      <td>1</td>\n",
              "      <td>1</td>\n",
              "      <td>Futrelle, Mrs. Jacques Heath (Lily May Peel)</td>\n",
              "      <td>female</td>\n",
              "      <td>35.0</td>\n",
              "      <td>1</td>\n",
              "      <td>0</td>\n",
              "      <td>113803</td>\n",
              "      <td>53.1000</td>\n",
              "      <td>C123</td>\n",
              "      <td>S</td>\n",
              "    </tr>\n",
              "    <tr>\n",
              "      <th>4</th>\n",
              "      <td>5</td>\n",
              "      <td>0</td>\n",
              "      <td>3</td>\n",
              "      <td>Allen, Mr. William Henry</td>\n",
              "      <td>male</td>\n",
              "      <td>35.0</td>\n",
              "      <td>0</td>\n",
              "      <td>0</td>\n",
              "      <td>373450</td>\n",
              "      <td>8.0500</td>\n",
              "      <td>NaN</td>\n",
              "      <td>S</td>\n",
              "    </tr>\n",
              "  </tbody>\n",
              "</table>\n",
              "</div>\n",
              "      <button class=\"colab-df-convert\" onclick=\"convertToInteractive('df-d8a41edc-e73f-4205-a9d4-f7fb246d615d')\"\n",
              "              title=\"Convert this dataframe to an interactive table.\"\n",
              "              style=\"display:none;\">\n",
              "        \n",
              "  <svg xmlns=\"http://www.w3.org/2000/svg\" height=\"24px\"viewBox=\"0 0 24 24\"\n",
              "       width=\"24px\">\n",
              "    <path d=\"M0 0h24v24H0V0z\" fill=\"none\"/>\n",
              "    <path d=\"M18.56 5.44l.94 2.06.94-2.06 2.06-.94-2.06-.94-.94-2.06-.94 2.06-2.06.94zm-11 1L8.5 8.5l.94-2.06 2.06-.94-2.06-.94L8.5 2.5l-.94 2.06-2.06.94zm10 10l.94 2.06.94-2.06 2.06-.94-2.06-.94-.94-2.06-.94 2.06-2.06.94z\"/><path d=\"M17.41 7.96l-1.37-1.37c-.4-.4-.92-.59-1.43-.59-.52 0-1.04.2-1.43.59L10.3 9.45l-7.72 7.72c-.78.78-.78 2.05 0 2.83L4 21.41c.39.39.9.59 1.41.59.51 0 1.02-.2 1.41-.59l7.78-7.78 2.81-2.81c.8-.78.8-2.07 0-2.86zM5.41 20L4 18.59l7.72-7.72 1.47 1.35L5.41 20z\"/>\n",
              "  </svg>\n",
              "      </button>\n",
              "      \n",
              "  <style>\n",
              "    .colab-df-container {\n",
              "      display:flex;\n",
              "      flex-wrap:wrap;\n",
              "      gap: 12px;\n",
              "    }\n",
              "\n",
              "    .colab-df-convert {\n",
              "      background-color: #E8F0FE;\n",
              "      border: none;\n",
              "      border-radius: 50%;\n",
              "      cursor: pointer;\n",
              "      display: none;\n",
              "      fill: #1967D2;\n",
              "      height: 32px;\n",
              "      padding: 0 0 0 0;\n",
              "      width: 32px;\n",
              "    }\n",
              "\n",
              "    .colab-df-convert:hover {\n",
              "      background-color: #E2EBFA;\n",
              "      box-shadow: 0px 1px 2px rgba(60, 64, 67, 0.3), 0px 1px 3px 1px rgba(60, 64, 67, 0.15);\n",
              "      fill: #174EA6;\n",
              "    }\n",
              "\n",
              "    [theme=dark] .colab-df-convert {\n",
              "      background-color: #3B4455;\n",
              "      fill: #D2E3FC;\n",
              "    }\n",
              "\n",
              "    [theme=dark] .colab-df-convert:hover {\n",
              "      background-color: #434B5C;\n",
              "      box-shadow: 0px 1px 3px 1px rgba(0, 0, 0, 0.15);\n",
              "      filter: drop-shadow(0px 1px 2px rgba(0, 0, 0, 0.3));\n",
              "      fill: #FFFFFF;\n",
              "    }\n",
              "  </style>\n",
              "\n",
              "      <script>\n",
              "        const buttonEl =\n",
              "          document.querySelector('#df-d8a41edc-e73f-4205-a9d4-f7fb246d615d button.colab-df-convert');\n",
              "        buttonEl.style.display =\n",
              "          google.colab.kernel.accessAllowed ? 'block' : 'none';\n",
              "\n",
              "        async function convertToInteractive(key) {\n",
              "          const element = document.querySelector('#df-d8a41edc-e73f-4205-a9d4-f7fb246d615d');\n",
              "          const dataTable =\n",
              "            await google.colab.kernel.invokeFunction('convertToInteractive',\n",
              "                                                     [key], {});\n",
              "          if (!dataTable) return;\n",
              "\n",
              "          const docLinkHtml = 'Like what you see? Visit the ' +\n",
              "            '<a target=\"_blank\" href=https://colab.research.google.com/notebooks/data_table.ipynb>data table notebook</a>'\n",
              "            + ' to learn more about interactive tables.';\n",
              "          element.innerHTML = '';\n",
              "          dataTable['output_type'] = 'display_data';\n",
              "          await google.colab.output.renderOutput(dataTable, element);\n",
              "          const docLink = document.createElement('div');\n",
              "          docLink.innerHTML = docLinkHtml;\n",
              "          element.appendChild(docLink);\n",
              "        }\n",
              "      </script>\n",
              "    </div>\n",
              "  </div>\n",
              "  "
            ]
          },
          "metadata": {},
          "execution_count": 4
        }
      ]
    },
    {
      "cell_type": "code",
      "source": [
        "df.info()"
      ],
      "metadata": {
        "colab": {
          "base_uri": "https://localhost:8080/"
        },
        "id": "Vk8ilSYoHUM6",
        "outputId": "f89fd680-d839-455e-8d7a-0f6dadb4975a"
      },
      "execution_count": null,
      "outputs": [
        {
          "output_type": "stream",
          "name": "stdout",
          "text": [
            "<class 'pandas.core.frame.DataFrame'>\n",
            "RangeIndex: 1309 entries, 0 to 1308\n",
            "Data columns (total 12 columns):\n",
            " #   Column       Non-Null Count  Dtype  \n",
            "---  ------       --------------  -----  \n",
            " 0   passengerid  1309 non-null   int64  \n",
            " 1   survived     1309 non-null   int64  \n",
            " 2   pclass       1309 non-null   int64  \n",
            " 3   name         1309 non-null   object \n",
            " 4   gender       1309 non-null   object \n",
            " 5   age          1046 non-null   float64\n",
            " 6   sibsp        1309 non-null   int64  \n",
            " 7   parch        1309 non-null   int64  \n",
            " 8   ticket       1309 non-null   object \n",
            " 9   fare         1308 non-null   float64\n",
            " 10  cabin        295 non-null    object \n",
            " 11  embarked     1307 non-null   object \n",
            "dtypes: float64(2), int64(5), object(5)\n",
            "memory usage: 122.8+ KB\n"
          ]
        }
      ]
    },
    {
      "cell_type": "markdown",
      "source": [
        "# 결측치 다루기"
      ],
      "metadata": {
        "id": "rxkMEOulHfZO"
      }
    },
    {
      "cell_type": "code",
      "source": [
        "df.isnull() # 한행에 한열에 해당하는 값을 데이터포인트라고 함."
      ],
      "metadata": {
        "colab": {
          "base_uri": "https://localhost:8080/",
          "height": 488
        },
        "id": "ED-iYlPAHidF",
        "outputId": "033580c3-149d-4674-ca08-6334e375ff96"
      },
      "execution_count": null,
      "outputs": [
        {
          "output_type": "execute_result",
          "data": {
            "text/plain": [
              "      passengerid  survived  pclass   name  gender    age  sibsp  parch  \\\n",
              "0           False     False   False  False   False  False  False  False   \n",
              "1           False     False   False  False   False  False  False  False   \n",
              "2           False     False   False  False   False  False  False  False   \n",
              "3           False     False   False  False   False  False  False  False   \n",
              "4           False     False   False  False   False  False  False  False   \n",
              "...           ...       ...     ...    ...     ...    ...    ...    ...   \n",
              "1304        False     False   False  False   False   True  False  False   \n",
              "1305        False     False   False  False   False  False  False  False   \n",
              "1306        False     False   False  False   False  False  False  False   \n",
              "1307        False     False   False  False   False   True  False  False   \n",
              "1308        False     False   False  False   False   True  False  False   \n",
              "\n",
              "      ticket   fare  cabin  embarked  \n",
              "0      False  False   True     False  \n",
              "1      False  False  False     False  \n",
              "2      False  False   True     False  \n",
              "3      False  False  False     False  \n",
              "4      False  False   True     False  \n",
              "...      ...    ...    ...       ...  \n",
              "1304   False  False   True     False  \n",
              "1305   False  False  False     False  \n",
              "1306   False  False   True     False  \n",
              "1307   False  False   True     False  \n",
              "1308   False  False   True     False  \n",
              "\n",
              "[1309 rows x 12 columns]"
            ],
            "text/html": [
              "\n",
              "  <div id=\"df-b13c3063-13f2-482e-aa36-a359f589bd19\">\n",
              "    <div class=\"colab-df-container\">\n",
              "      <div>\n",
              "<style scoped>\n",
              "    .dataframe tbody tr th:only-of-type {\n",
              "        vertical-align: middle;\n",
              "    }\n",
              "\n",
              "    .dataframe tbody tr th {\n",
              "        vertical-align: top;\n",
              "    }\n",
              "\n",
              "    .dataframe thead th {\n",
              "        text-align: right;\n",
              "    }\n",
              "</style>\n",
              "<table border=\"1\" class=\"dataframe\">\n",
              "  <thead>\n",
              "    <tr style=\"text-align: right;\">\n",
              "      <th></th>\n",
              "      <th>passengerid</th>\n",
              "      <th>survived</th>\n",
              "      <th>pclass</th>\n",
              "      <th>name</th>\n",
              "      <th>gender</th>\n",
              "      <th>age</th>\n",
              "      <th>sibsp</th>\n",
              "      <th>parch</th>\n",
              "      <th>ticket</th>\n",
              "      <th>fare</th>\n",
              "      <th>cabin</th>\n",
              "      <th>embarked</th>\n",
              "    </tr>\n",
              "  </thead>\n",
              "  <tbody>\n",
              "    <tr>\n",
              "      <th>0</th>\n",
              "      <td>False</td>\n",
              "      <td>False</td>\n",
              "      <td>False</td>\n",
              "      <td>False</td>\n",
              "      <td>False</td>\n",
              "      <td>False</td>\n",
              "      <td>False</td>\n",
              "      <td>False</td>\n",
              "      <td>False</td>\n",
              "      <td>False</td>\n",
              "      <td>True</td>\n",
              "      <td>False</td>\n",
              "    </tr>\n",
              "    <tr>\n",
              "      <th>1</th>\n",
              "      <td>False</td>\n",
              "      <td>False</td>\n",
              "      <td>False</td>\n",
              "      <td>False</td>\n",
              "      <td>False</td>\n",
              "      <td>False</td>\n",
              "      <td>False</td>\n",
              "      <td>False</td>\n",
              "      <td>False</td>\n",
              "      <td>False</td>\n",
              "      <td>False</td>\n",
              "      <td>False</td>\n",
              "    </tr>\n",
              "    <tr>\n",
              "      <th>2</th>\n",
              "      <td>False</td>\n",
              "      <td>False</td>\n",
              "      <td>False</td>\n",
              "      <td>False</td>\n",
              "      <td>False</td>\n",
              "      <td>False</td>\n",
              "      <td>False</td>\n",
              "      <td>False</td>\n",
              "      <td>False</td>\n",
              "      <td>False</td>\n",
              "      <td>True</td>\n",
              "      <td>False</td>\n",
              "    </tr>\n",
              "    <tr>\n",
              "      <th>3</th>\n",
              "      <td>False</td>\n",
              "      <td>False</td>\n",
              "      <td>False</td>\n",
              "      <td>False</td>\n",
              "      <td>False</td>\n",
              "      <td>False</td>\n",
              "      <td>False</td>\n",
              "      <td>False</td>\n",
              "      <td>False</td>\n",
              "      <td>False</td>\n",
              "      <td>False</td>\n",
              "      <td>False</td>\n",
              "    </tr>\n",
              "    <tr>\n",
              "      <th>4</th>\n",
              "      <td>False</td>\n",
              "      <td>False</td>\n",
              "      <td>False</td>\n",
              "      <td>False</td>\n",
              "      <td>False</td>\n",
              "      <td>False</td>\n",
              "      <td>False</td>\n",
              "      <td>False</td>\n",
              "      <td>False</td>\n",
              "      <td>False</td>\n",
              "      <td>True</td>\n",
              "      <td>False</td>\n",
              "    </tr>\n",
              "    <tr>\n",
              "      <th>...</th>\n",
              "      <td>...</td>\n",
              "      <td>...</td>\n",
              "      <td>...</td>\n",
              "      <td>...</td>\n",
              "      <td>...</td>\n",
              "      <td>...</td>\n",
              "      <td>...</td>\n",
              "      <td>...</td>\n",
              "      <td>...</td>\n",
              "      <td>...</td>\n",
              "      <td>...</td>\n",
              "      <td>...</td>\n",
              "    </tr>\n",
              "    <tr>\n",
              "      <th>1304</th>\n",
              "      <td>False</td>\n",
              "      <td>False</td>\n",
              "      <td>False</td>\n",
              "      <td>False</td>\n",
              "      <td>False</td>\n",
              "      <td>True</td>\n",
              "      <td>False</td>\n",
              "      <td>False</td>\n",
              "      <td>False</td>\n",
              "      <td>False</td>\n",
              "      <td>True</td>\n",
              "      <td>False</td>\n",
              "    </tr>\n",
              "    <tr>\n",
              "      <th>1305</th>\n",
              "      <td>False</td>\n",
              "      <td>False</td>\n",
              "      <td>False</td>\n",
              "      <td>False</td>\n",
              "      <td>False</td>\n",
              "      <td>False</td>\n",
              "      <td>False</td>\n",
              "      <td>False</td>\n",
              "      <td>False</td>\n",
              "      <td>False</td>\n",
              "      <td>False</td>\n",
              "      <td>False</td>\n",
              "    </tr>\n",
              "    <tr>\n",
              "      <th>1306</th>\n",
              "      <td>False</td>\n",
              "      <td>False</td>\n",
              "      <td>False</td>\n",
              "      <td>False</td>\n",
              "      <td>False</td>\n",
              "      <td>False</td>\n",
              "      <td>False</td>\n",
              "      <td>False</td>\n",
              "      <td>False</td>\n",
              "      <td>False</td>\n",
              "      <td>True</td>\n",
              "      <td>False</td>\n",
              "    </tr>\n",
              "    <tr>\n",
              "      <th>1307</th>\n",
              "      <td>False</td>\n",
              "      <td>False</td>\n",
              "      <td>False</td>\n",
              "      <td>False</td>\n",
              "      <td>False</td>\n",
              "      <td>True</td>\n",
              "      <td>False</td>\n",
              "      <td>False</td>\n",
              "      <td>False</td>\n",
              "      <td>False</td>\n",
              "      <td>True</td>\n",
              "      <td>False</td>\n",
              "    </tr>\n",
              "    <tr>\n",
              "      <th>1308</th>\n",
              "      <td>False</td>\n",
              "      <td>False</td>\n",
              "      <td>False</td>\n",
              "      <td>False</td>\n",
              "      <td>False</td>\n",
              "      <td>True</td>\n",
              "      <td>False</td>\n",
              "      <td>False</td>\n",
              "      <td>False</td>\n",
              "      <td>False</td>\n",
              "      <td>True</td>\n",
              "      <td>False</td>\n",
              "    </tr>\n",
              "  </tbody>\n",
              "</table>\n",
              "<p>1309 rows × 12 columns</p>\n",
              "</div>\n",
              "      <button class=\"colab-df-convert\" onclick=\"convertToInteractive('df-b13c3063-13f2-482e-aa36-a359f589bd19')\"\n",
              "              title=\"Convert this dataframe to an interactive table.\"\n",
              "              style=\"display:none;\">\n",
              "        \n",
              "  <svg xmlns=\"http://www.w3.org/2000/svg\" height=\"24px\"viewBox=\"0 0 24 24\"\n",
              "       width=\"24px\">\n",
              "    <path d=\"M0 0h24v24H0V0z\" fill=\"none\"/>\n",
              "    <path d=\"M18.56 5.44l.94 2.06.94-2.06 2.06-.94-2.06-.94-.94-2.06-.94 2.06-2.06.94zm-11 1L8.5 8.5l.94-2.06 2.06-.94-2.06-.94L8.5 2.5l-.94 2.06-2.06.94zm10 10l.94 2.06.94-2.06 2.06-.94-2.06-.94-.94-2.06-.94 2.06-2.06.94z\"/><path d=\"M17.41 7.96l-1.37-1.37c-.4-.4-.92-.59-1.43-.59-.52 0-1.04.2-1.43.59L10.3 9.45l-7.72 7.72c-.78.78-.78 2.05 0 2.83L4 21.41c.39.39.9.59 1.41.59.51 0 1.02-.2 1.41-.59l7.78-7.78 2.81-2.81c.8-.78.8-2.07 0-2.86zM5.41 20L4 18.59l7.72-7.72 1.47 1.35L5.41 20z\"/>\n",
              "  </svg>\n",
              "      </button>\n",
              "      \n",
              "  <style>\n",
              "    .colab-df-container {\n",
              "      display:flex;\n",
              "      flex-wrap:wrap;\n",
              "      gap: 12px;\n",
              "    }\n",
              "\n",
              "    .colab-df-convert {\n",
              "      background-color: #E8F0FE;\n",
              "      border: none;\n",
              "      border-radius: 50%;\n",
              "      cursor: pointer;\n",
              "      display: none;\n",
              "      fill: #1967D2;\n",
              "      height: 32px;\n",
              "      padding: 0 0 0 0;\n",
              "      width: 32px;\n",
              "    }\n",
              "\n",
              "    .colab-df-convert:hover {\n",
              "      background-color: #E2EBFA;\n",
              "      box-shadow: 0px 1px 2px rgba(60, 64, 67, 0.3), 0px 1px 3px 1px rgba(60, 64, 67, 0.15);\n",
              "      fill: #174EA6;\n",
              "    }\n",
              "\n",
              "    [theme=dark] .colab-df-convert {\n",
              "      background-color: #3B4455;\n",
              "      fill: #D2E3FC;\n",
              "    }\n",
              "\n",
              "    [theme=dark] .colab-df-convert:hover {\n",
              "      background-color: #434B5C;\n",
              "      box-shadow: 0px 1px 3px 1px rgba(0, 0, 0, 0.15);\n",
              "      filter: drop-shadow(0px 1px 2px rgba(0, 0, 0, 0.3));\n",
              "      fill: #FFFFFF;\n",
              "    }\n",
              "  </style>\n",
              "\n",
              "      <script>\n",
              "        const buttonEl =\n",
              "          document.querySelector('#df-b13c3063-13f2-482e-aa36-a359f589bd19 button.colab-df-convert');\n",
              "        buttonEl.style.display =\n",
              "          google.colab.kernel.accessAllowed ? 'block' : 'none';\n",
              "\n",
              "        async function convertToInteractive(key) {\n",
              "          const element = document.querySelector('#df-b13c3063-13f2-482e-aa36-a359f589bd19');\n",
              "          const dataTable =\n",
              "            await google.colab.kernel.invokeFunction('convertToInteractive',\n",
              "                                                     [key], {});\n",
              "          if (!dataTable) return;\n",
              "\n",
              "          const docLinkHtml = 'Like what you see? Visit the ' +\n",
              "            '<a target=\"_blank\" href=https://colab.research.google.com/notebooks/data_table.ipynb>data table notebook</a>'\n",
              "            + ' to learn more about interactive tables.';\n",
              "          element.innerHTML = '';\n",
              "          dataTable['output_type'] = 'display_data';\n",
              "          await google.colab.output.renderOutput(dataTable, element);\n",
              "          const docLink = document.createElement('div');\n",
              "          docLink.innerHTML = docLinkHtml;\n",
              "          element.appendChild(docLink);\n",
              "        }\n",
              "      </script>\n",
              "    </div>\n",
              "  </div>\n",
              "  "
            ]
          },
          "metadata": {},
          "execution_count": 6
        }
      ]
    },
    {
      "cell_type": "code",
      "source": [
        "df.isnull().sum() #axis 기본값은 0 즉 열별로 결측지 확인가능"
      ],
      "metadata": {
        "colab": {
          "base_uri": "https://localhost:8080/"
        },
        "id": "aKBUlXCyHuS2",
        "outputId": "ef3ce590-37f0-4749-eea6-90cfd3d12a15"
      },
      "execution_count": null,
      "outputs": [
        {
          "output_type": "execute_result",
          "data": {
            "text/plain": [
              "passengerid       0\n",
              "survived          0\n",
              "pclass            0\n",
              "name              0\n",
              "gender            0\n",
              "age             263\n",
              "sibsp             0\n",
              "parch             0\n",
              "ticket            0\n",
              "fare              1\n",
              "cabin          1014\n",
              "embarked          2\n",
              "dtype: int64"
            ]
          },
          "metadata": {},
          "execution_count": 7
        }
      ]
    },
    {
      "cell_type": "markdown",
      "source": [
        "- 시리즈에서 인덱스 가져오기"
      ],
      "metadata": {
        "id": "opfYZsHmIVZC"
      }
    },
    {
      "cell_type": "code",
      "source": [
        "df.isnull().sum().index"
      ],
      "metadata": {
        "colab": {
          "base_uri": "https://localhost:8080/"
        },
        "id": "bSvYdYvSH7Mz",
        "outputId": "f4de1391-247a-414e-bf78-39b70b10fa68"
      },
      "execution_count": null,
      "outputs": [
        {
          "output_type": "execute_result",
          "data": {
            "text/plain": [
              "Index(['passengerid', 'survived', 'pclass', 'name', 'gender', 'age', 'sibsp',\n",
              "       'parch', 'ticket', 'fare', 'cabin', 'embarked'],\n",
              "      dtype='object')"
            ]
          },
          "metadata": {},
          "execution_count": 8
        }
      ]
    },
    {
      "cell_type": "markdown",
      "source": [
        "- 시리즈에서 값들만 가져오기"
      ],
      "metadata": {
        "id": "Gf94m1QnITkE"
      }
    },
    {
      "cell_type": "code",
      "source": [
        "df.isnull().sum().values"
      ],
      "metadata": {
        "colab": {
          "base_uri": "https://localhost:8080/"
        },
        "id": "yznDkaIqIXw6",
        "outputId": "1c876d61-6cbb-4c16-a9e5-833cf3750008"
      },
      "execution_count": null,
      "outputs": [
        {
          "output_type": "execute_result",
          "data": {
            "text/plain": [
              "array([   0,    0,    0,    0,    0,  263,    0,    0,    0,    1, 1014,\n",
              "          2])"
            ]
          },
          "metadata": {},
          "execution_count": 9
        }
      ]
    },
    {
      "cell_type": "code",
      "source": [
        "df.isnull().sum().to_numpy()"
      ],
      "metadata": {
        "colab": {
          "base_uri": "https://localhost:8080/"
        },
        "id": "YKUodttPIdSm",
        "outputId": "7e3948c6-06c9-4b64-b4d8-334060f32f87"
      },
      "execution_count": null,
      "outputs": [
        {
          "output_type": "execute_result",
          "data": {
            "text/plain": [
              "array([   0,    0,    0,    0,    0,  263,    0,    0,    0,    1, 1014,\n",
              "          2])"
            ]
          },
          "metadata": {},
          "execution_count": 10
        }
      ]
    },
    {
      "cell_type": "code",
      "source": [
        "df.to_numpy()"
      ],
      "metadata": {
        "colab": {
          "base_uri": "https://localhost:8080/"
        },
        "id": "__Z75b5HIijm",
        "outputId": "2f48526a-f6aa-46d0-a73a-61916b198e15"
      },
      "execution_count": null,
      "outputs": [
        {
          "output_type": "execute_result",
          "data": {
            "text/plain": [
              "array([[1, 0, 3, ..., 7.25, nan, 'S'],\n",
              "       [2, 1, 1, ..., 71.2833, 'C85', 'C'],\n",
              "       [3, 1, 3, ..., 7.925, nan, 'S'],\n",
              "       ...,\n",
              "       [1307, 0, 3, ..., 7.25, nan, 'S'],\n",
              "       [1308, 0, 3, ..., 8.05, nan, 'S'],\n",
              "       [1309, 0, 3, ..., 22.3583, nan, 'C']], dtype=object)"
            ]
          },
          "metadata": {},
          "execution_count": 11
        }
      ]
    },
    {
      "cell_type": "markdown",
      "source": [
        "- 행에 결측치가 하나라도 있으면 삭제하기"
      ],
      "metadata": {
        "id": "mLwHIwwuIlVq"
      }
    },
    {
      "cell_type": "code",
      "source": [
        "df.dropna() #how=\"any\" <== 기본값 데이터는 소중하기때문에 잘안씀"
      ],
      "metadata": {
        "colab": {
          "base_uri": "https://localhost:8080/",
          "height": 973
        },
        "id": "izvdjlKTImsm",
        "outputId": "75adb831-0c55-454c-9a44-a5f2eb315ccd"
      },
      "execution_count": null,
      "outputs": [
        {
          "output_type": "execute_result",
          "data": {
            "text/plain": [
              "      passengerid  survived  pclass  \\\n",
              "1               2         1       1   \n",
              "3               4         1       1   \n",
              "6               7         0       1   \n",
              "10             11         1       3   \n",
              "11             12         1       1   \n",
              "...           ...       ...     ...   \n",
              "1295         1296         0       1   \n",
              "1296         1297         0       2   \n",
              "1298         1299         0       1   \n",
              "1302         1303         1       1   \n",
              "1305         1306         1       1   \n",
              "\n",
              "                                                   name  gender   age  sibsp  \\\n",
              "1     Cumings, Mrs. John Bradley (Florence Briggs Th...  female  38.0      1   \n",
              "3          Futrelle, Mrs. Jacques Heath (Lily May Peel)  female  35.0      1   \n",
              "6                               McCarthy, Mr. Timothy J    male  54.0      0   \n",
              "10                      Sandstrom, Miss. Marguerite Rut  female   4.0      1   \n",
              "11                             Bonnell, Miss. Elizabeth  female  58.0      0   \n",
              "...                                                 ...     ...   ...    ...   \n",
              "1295                       Frauenthal, Mr. Isaac Gerald    male  43.0      1   \n",
              "1296       Nourney, Mr. Alfred (Baron von Drachstedt\")\"    male  20.0      0   \n",
              "1298                         Widener, Mr. George Dunton    male  50.0      1   \n",
              "1302    Minahan, Mrs. William Edward (Lillian E Thorpe)  female  37.0      1   \n",
              "1305                       Oliva y Ocana, Dona. Fermina  female  39.0      0   \n",
              "\n",
              "      parch         ticket      fare cabin embarked  \n",
              "1         0       PC 17599   71.2833   C85        C  \n",
              "3         0         113803   53.1000  C123        S  \n",
              "6         0          17463   51.8625   E46        S  \n",
              "10        1        PP 9549   16.7000    G6        S  \n",
              "11        0         113783   26.5500  C103        S  \n",
              "...     ...            ...       ...   ...      ...  \n",
              "1295      0          17765   27.7208   D40        C  \n",
              "1296      0  SC/PARIS 2166   13.8625   D38        C  \n",
              "1298      1         113503  211.5000   C80        C  \n",
              "1302      0          19928   90.0000   C78        Q  \n",
              "1305      0       PC 17758  108.9000  C105        C  \n",
              "\n",
              "[270 rows x 12 columns]"
            ],
            "text/html": [
              "\n",
              "  <div id=\"df-774b7daa-ba2b-45f6-b11e-daf9fcf5eef6\">\n",
              "    <div class=\"colab-df-container\">\n",
              "      <div>\n",
              "<style scoped>\n",
              "    .dataframe tbody tr th:only-of-type {\n",
              "        vertical-align: middle;\n",
              "    }\n",
              "\n",
              "    .dataframe tbody tr th {\n",
              "        vertical-align: top;\n",
              "    }\n",
              "\n",
              "    .dataframe thead th {\n",
              "        text-align: right;\n",
              "    }\n",
              "</style>\n",
              "<table border=\"1\" class=\"dataframe\">\n",
              "  <thead>\n",
              "    <tr style=\"text-align: right;\">\n",
              "      <th></th>\n",
              "      <th>passengerid</th>\n",
              "      <th>survived</th>\n",
              "      <th>pclass</th>\n",
              "      <th>name</th>\n",
              "      <th>gender</th>\n",
              "      <th>age</th>\n",
              "      <th>sibsp</th>\n",
              "      <th>parch</th>\n",
              "      <th>ticket</th>\n",
              "      <th>fare</th>\n",
              "      <th>cabin</th>\n",
              "      <th>embarked</th>\n",
              "    </tr>\n",
              "  </thead>\n",
              "  <tbody>\n",
              "    <tr>\n",
              "      <th>1</th>\n",
              "      <td>2</td>\n",
              "      <td>1</td>\n",
              "      <td>1</td>\n",
              "      <td>Cumings, Mrs. John Bradley (Florence Briggs Th...</td>\n",
              "      <td>female</td>\n",
              "      <td>38.0</td>\n",
              "      <td>1</td>\n",
              "      <td>0</td>\n",
              "      <td>PC 17599</td>\n",
              "      <td>71.2833</td>\n",
              "      <td>C85</td>\n",
              "      <td>C</td>\n",
              "    </tr>\n",
              "    <tr>\n",
              "      <th>3</th>\n",
              "      <td>4</td>\n",
              "      <td>1</td>\n",
              "      <td>1</td>\n",
              "      <td>Futrelle, Mrs. Jacques Heath (Lily May Peel)</td>\n",
              "      <td>female</td>\n",
              "      <td>35.0</td>\n",
              "      <td>1</td>\n",
              "      <td>0</td>\n",
              "      <td>113803</td>\n",
              "      <td>53.1000</td>\n",
              "      <td>C123</td>\n",
              "      <td>S</td>\n",
              "    </tr>\n",
              "    <tr>\n",
              "      <th>6</th>\n",
              "      <td>7</td>\n",
              "      <td>0</td>\n",
              "      <td>1</td>\n",
              "      <td>McCarthy, Mr. Timothy J</td>\n",
              "      <td>male</td>\n",
              "      <td>54.0</td>\n",
              "      <td>0</td>\n",
              "      <td>0</td>\n",
              "      <td>17463</td>\n",
              "      <td>51.8625</td>\n",
              "      <td>E46</td>\n",
              "      <td>S</td>\n",
              "    </tr>\n",
              "    <tr>\n",
              "      <th>10</th>\n",
              "      <td>11</td>\n",
              "      <td>1</td>\n",
              "      <td>3</td>\n",
              "      <td>Sandstrom, Miss. Marguerite Rut</td>\n",
              "      <td>female</td>\n",
              "      <td>4.0</td>\n",
              "      <td>1</td>\n",
              "      <td>1</td>\n",
              "      <td>PP 9549</td>\n",
              "      <td>16.7000</td>\n",
              "      <td>G6</td>\n",
              "      <td>S</td>\n",
              "    </tr>\n",
              "    <tr>\n",
              "      <th>11</th>\n",
              "      <td>12</td>\n",
              "      <td>1</td>\n",
              "      <td>1</td>\n",
              "      <td>Bonnell, Miss. Elizabeth</td>\n",
              "      <td>female</td>\n",
              "      <td>58.0</td>\n",
              "      <td>0</td>\n",
              "      <td>0</td>\n",
              "      <td>113783</td>\n",
              "      <td>26.5500</td>\n",
              "      <td>C103</td>\n",
              "      <td>S</td>\n",
              "    </tr>\n",
              "    <tr>\n",
              "      <th>...</th>\n",
              "      <td>...</td>\n",
              "      <td>...</td>\n",
              "      <td>...</td>\n",
              "      <td>...</td>\n",
              "      <td>...</td>\n",
              "      <td>...</td>\n",
              "      <td>...</td>\n",
              "      <td>...</td>\n",
              "      <td>...</td>\n",
              "      <td>...</td>\n",
              "      <td>...</td>\n",
              "      <td>...</td>\n",
              "    </tr>\n",
              "    <tr>\n",
              "      <th>1295</th>\n",
              "      <td>1296</td>\n",
              "      <td>0</td>\n",
              "      <td>1</td>\n",
              "      <td>Frauenthal, Mr. Isaac Gerald</td>\n",
              "      <td>male</td>\n",
              "      <td>43.0</td>\n",
              "      <td>1</td>\n",
              "      <td>0</td>\n",
              "      <td>17765</td>\n",
              "      <td>27.7208</td>\n",
              "      <td>D40</td>\n",
              "      <td>C</td>\n",
              "    </tr>\n",
              "    <tr>\n",
              "      <th>1296</th>\n",
              "      <td>1297</td>\n",
              "      <td>0</td>\n",
              "      <td>2</td>\n",
              "      <td>Nourney, Mr. Alfred (Baron von Drachstedt\")\"</td>\n",
              "      <td>male</td>\n",
              "      <td>20.0</td>\n",
              "      <td>0</td>\n",
              "      <td>0</td>\n",
              "      <td>SC/PARIS 2166</td>\n",
              "      <td>13.8625</td>\n",
              "      <td>D38</td>\n",
              "      <td>C</td>\n",
              "    </tr>\n",
              "    <tr>\n",
              "      <th>1298</th>\n",
              "      <td>1299</td>\n",
              "      <td>0</td>\n",
              "      <td>1</td>\n",
              "      <td>Widener, Mr. George Dunton</td>\n",
              "      <td>male</td>\n",
              "      <td>50.0</td>\n",
              "      <td>1</td>\n",
              "      <td>1</td>\n",
              "      <td>113503</td>\n",
              "      <td>211.5000</td>\n",
              "      <td>C80</td>\n",
              "      <td>C</td>\n",
              "    </tr>\n",
              "    <tr>\n",
              "      <th>1302</th>\n",
              "      <td>1303</td>\n",
              "      <td>1</td>\n",
              "      <td>1</td>\n",
              "      <td>Minahan, Mrs. William Edward (Lillian E Thorpe)</td>\n",
              "      <td>female</td>\n",
              "      <td>37.0</td>\n",
              "      <td>1</td>\n",
              "      <td>0</td>\n",
              "      <td>19928</td>\n",
              "      <td>90.0000</td>\n",
              "      <td>C78</td>\n",
              "      <td>Q</td>\n",
              "    </tr>\n",
              "    <tr>\n",
              "      <th>1305</th>\n",
              "      <td>1306</td>\n",
              "      <td>1</td>\n",
              "      <td>1</td>\n",
              "      <td>Oliva y Ocana, Dona. Fermina</td>\n",
              "      <td>female</td>\n",
              "      <td>39.0</td>\n",
              "      <td>0</td>\n",
              "      <td>0</td>\n",
              "      <td>PC 17758</td>\n",
              "      <td>108.9000</td>\n",
              "      <td>C105</td>\n",
              "      <td>C</td>\n",
              "    </tr>\n",
              "  </tbody>\n",
              "</table>\n",
              "<p>270 rows × 12 columns</p>\n",
              "</div>\n",
              "      <button class=\"colab-df-convert\" onclick=\"convertToInteractive('df-774b7daa-ba2b-45f6-b11e-daf9fcf5eef6')\"\n",
              "              title=\"Convert this dataframe to an interactive table.\"\n",
              "              style=\"display:none;\">\n",
              "        \n",
              "  <svg xmlns=\"http://www.w3.org/2000/svg\" height=\"24px\"viewBox=\"0 0 24 24\"\n",
              "       width=\"24px\">\n",
              "    <path d=\"M0 0h24v24H0V0z\" fill=\"none\"/>\n",
              "    <path d=\"M18.56 5.44l.94 2.06.94-2.06 2.06-.94-2.06-.94-.94-2.06-.94 2.06-2.06.94zm-11 1L8.5 8.5l.94-2.06 2.06-.94-2.06-.94L8.5 2.5l-.94 2.06-2.06.94zm10 10l.94 2.06.94-2.06 2.06-.94-2.06-.94-.94-2.06-.94 2.06-2.06.94z\"/><path d=\"M17.41 7.96l-1.37-1.37c-.4-.4-.92-.59-1.43-.59-.52 0-1.04.2-1.43.59L10.3 9.45l-7.72 7.72c-.78.78-.78 2.05 0 2.83L4 21.41c.39.39.9.59 1.41.59.51 0 1.02-.2 1.41-.59l7.78-7.78 2.81-2.81c.8-.78.8-2.07 0-2.86zM5.41 20L4 18.59l7.72-7.72 1.47 1.35L5.41 20z\"/>\n",
              "  </svg>\n",
              "      </button>\n",
              "      \n",
              "  <style>\n",
              "    .colab-df-container {\n",
              "      display:flex;\n",
              "      flex-wrap:wrap;\n",
              "      gap: 12px;\n",
              "    }\n",
              "\n",
              "    .colab-df-convert {\n",
              "      background-color: #E8F0FE;\n",
              "      border: none;\n",
              "      border-radius: 50%;\n",
              "      cursor: pointer;\n",
              "      display: none;\n",
              "      fill: #1967D2;\n",
              "      height: 32px;\n",
              "      padding: 0 0 0 0;\n",
              "      width: 32px;\n",
              "    }\n",
              "\n",
              "    .colab-df-convert:hover {\n",
              "      background-color: #E2EBFA;\n",
              "      box-shadow: 0px 1px 2px rgba(60, 64, 67, 0.3), 0px 1px 3px 1px rgba(60, 64, 67, 0.15);\n",
              "      fill: #174EA6;\n",
              "    }\n",
              "\n",
              "    [theme=dark] .colab-df-convert {\n",
              "      background-color: #3B4455;\n",
              "      fill: #D2E3FC;\n",
              "    }\n",
              "\n",
              "    [theme=dark] .colab-df-convert:hover {\n",
              "      background-color: #434B5C;\n",
              "      box-shadow: 0px 1px 3px 1px rgba(0, 0, 0, 0.15);\n",
              "      filter: drop-shadow(0px 1px 2px rgba(0, 0, 0, 0.3));\n",
              "      fill: #FFFFFF;\n",
              "    }\n",
              "  </style>\n",
              "\n",
              "      <script>\n",
              "        const buttonEl =\n",
              "          document.querySelector('#df-774b7daa-ba2b-45f6-b11e-daf9fcf5eef6 button.colab-df-convert');\n",
              "        buttonEl.style.display =\n",
              "          google.colab.kernel.accessAllowed ? 'block' : 'none';\n",
              "\n",
              "        async function convertToInteractive(key) {\n",
              "          const element = document.querySelector('#df-774b7daa-ba2b-45f6-b11e-daf9fcf5eef6');\n",
              "          const dataTable =\n",
              "            await google.colab.kernel.invokeFunction('convertToInteractive',\n",
              "                                                     [key], {});\n",
              "          if (!dataTable) return;\n",
              "\n",
              "          const docLinkHtml = 'Like what you see? Visit the ' +\n",
              "            '<a target=\"_blank\" href=https://colab.research.google.com/notebooks/data_table.ipynb>data table notebook</a>'\n",
              "            + ' to learn more about interactive tables.';\n",
              "          element.innerHTML = '';\n",
              "          dataTable['output_type'] = 'display_data';\n",
              "          await google.colab.output.renderOutput(dataTable, element);\n",
              "          const docLink = document.createElement('div');\n",
              "          docLink.innerHTML = docLinkHtml;\n",
              "          element.appendChild(docLink);\n",
              "        }\n",
              "      </script>\n",
              "    </div>\n",
              "  </div>\n",
              "  "
            ]
          },
          "metadata": {},
          "execution_count": 12
        }
      ]
    },
    {
      "cell_type": "markdown",
      "source": [
        "- 행에 모든 값이 결측치라면 삭제하기"
      ],
      "metadata": {
        "id": "3h-DTIRnImyh"
      }
    },
    {
      "cell_type": "code",
      "source": [
        "df.dropna(how=\"all\")"
      ],
      "metadata": {
        "colab": {
          "base_uri": "https://localhost:8080/",
          "height": 921
        },
        "id": "EvkHbUMwIm4q",
        "outputId": "83f7eb67-0617-4c18-bb97-dfeb395576eb"
      },
      "execution_count": null,
      "outputs": [
        {
          "output_type": "execute_result",
          "data": {
            "text/plain": [
              "      passengerid  survived  pclass  \\\n",
              "0               1         0       3   \n",
              "1               2         1       1   \n",
              "2               3         1       3   \n",
              "3               4         1       1   \n",
              "4               5         0       3   \n",
              "...           ...       ...     ...   \n",
              "1304         1305         0       3   \n",
              "1305         1306         1       1   \n",
              "1306         1307         0       3   \n",
              "1307         1308         0       3   \n",
              "1308         1309         0       3   \n",
              "\n",
              "                                                   name  gender   age  sibsp  \\\n",
              "0                               Braund, Mr. Owen Harris    male  22.0      1   \n",
              "1     Cumings, Mrs. John Bradley (Florence Briggs Th...  female  38.0      1   \n",
              "2                                Heikkinen, Miss. Laina  female  26.0      0   \n",
              "3          Futrelle, Mrs. Jacques Heath (Lily May Peel)  female  35.0      1   \n",
              "4                              Allen, Mr. William Henry    male  35.0      0   \n",
              "...                                                 ...     ...   ...    ...   \n",
              "1304                                 Spector, Mr. Woolf    male   NaN      0   \n",
              "1305                       Oliva y Ocana, Dona. Fermina  female  39.0      0   \n",
              "1306                       Saether, Mr. Simon Sivertsen    male  38.5      0   \n",
              "1307                                Ware, Mr. Frederick    male   NaN      0   \n",
              "1308                           Peter, Master. Michael J    male   NaN      1   \n",
              "\n",
              "      parch              ticket      fare cabin embarked  \n",
              "0         0           A/5 21171    7.2500   NaN        S  \n",
              "1         0            PC 17599   71.2833   C85        C  \n",
              "2         0    STON/O2. 3101282    7.9250   NaN        S  \n",
              "3         0              113803   53.1000  C123        S  \n",
              "4         0              373450    8.0500   NaN        S  \n",
              "...     ...                 ...       ...   ...      ...  \n",
              "1304      0           A.5. 3236    8.0500   NaN        S  \n",
              "1305      0            PC 17758  108.9000  C105        C  \n",
              "1306      0  SOTON/O.Q. 3101262    7.2500   NaN        S  \n",
              "1307      0              359309    8.0500   NaN        S  \n",
              "1308      1                2668   22.3583   NaN        C  \n",
              "\n",
              "[1309 rows x 12 columns]"
            ],
            "text/html": [
              "\n",
              "  <div id=\"df-355dd1fe-58e6-4167-975a-b62c96acb51b\">\n",
              "    <div class=\"colab-df-container\">\n",
              "      <div>\n",
              "<style scoped>\n",
              "    .dataframe tbody tr th:only-of-type {\n",
              "        vertical-align: middle;\n",
              "    }\n",
              "\n",
              "    .dataframe tbody tr th {\n",
              "        vertical-align: top;\n",
              "    }\n",
              "\n",
              "    .dataframe thead th {\n",
              "        text-align: right;\n",
              "    }\n",
              "</style>\n",
              "<table border=\"1\" class=\"dataframe\">\n",
              "  <thead>\n",
              "    <tr style=\"text-align: right;\">\n",
              "      <th></th>\n",
              "      <th>passengerid</th>\n",
              "      <th>survived</th>\n",
              "      <th>pclass</th>\n",
              "      <th>name</th>\n",
              "      <th>gender</th>\n",
              "      <th>age</th>\n",
              "      <th>sibsp</th>\n",
              "      <th>parch</th>\n",
              "      <th>ticket</th>\n",
              "      <th>fare</th>\n",
              "      <th>cabin</th>\n",
              "      <th>embarked</th>\n",
              "    </tr>\n",
              "  </thead>\n",
              "  <tbody>\n",
              "    <tr>\n",
              "      <th>0</th>\n",
              "      <td>1</td>\n",
              "      <td>0</td>\n",
              "      <td>3</td>\n",
              "      <td>Braund, Mr. Owen Harris</td>\n",
              "      <td>male</td>\n",
              "      <td>22.0</td>\n",
              "      <td>1</td>\n",
              "      <td>0</td>\n",
              "      <td>A/5 21171</td>\n",
              "      <td>7.2500</td>\n",
              "      <td>NaN</td>\n",
              "      <td>S</td>\n",
              "    </tr>\n",
              "    <tr>\n",
              "      <th>1</th>\n",
              "      <td>2</td>\n",
              "      <td>1</td>\n",
              "      <td>1</td>\n",
              "      <td>Cumings, Mrs. John Bradley (Florence Briggs Th...</td>\n",
              "      <td>female</td>\n",
              "      <td>38.0</td>\n",
              "      <td>1</td>\n",
              "      <td>0</td>\n",
              "      <td>PC 17599</td>\n",
              "      <td>71.2833</td>\n",
              "      <td>C85</td>\n",
              "      <td>C</td>\n",
              "    </tr>\n",
              "    <tr>\n",
              "      <th>2</th>\n",
              "      <td>3</td>\n",
              "      <td>1</td>\n",
              "      <td>3</td>\n",
              "      <td>Heikkinen, Miss. Laina</td>\n",
              "      <td>female</td>\n",
              "      <td>26.0</td>\n",
              "      <td>0</td>\n",
              "      <td>0</td>\n",
              "      <td>STON/O2. 3101282</td>\n",
              "      <td>7.9250</td>\n",
              "      <td>NaN</td>\n",
              "      <td>S</td>\n",
              "    </tr>\n",
              "    <tr>\n",
              "      <th>3</th>\n",
              "      <td>4</td>\n",
              "      <td>1</td>\n",
              "      <td>1</td>\n",
              "      <td>Futrelle, Mrs. Jacques Heath (Lily May Peel)</td>\n",
              "      <td>female</td>\n",
              "      <td>35.0</td>\n",
              "      <td>1</td>\n",
              "      <td>0</td>\n",
              "      <td>113803</td>\n",
              "      <td>53.1000</td>\n",
              "      <td>C123</td>\n",
              "      <td>S</td>\n",
              "    </tr>\n",
              "    <tr>\n",
              "      <th>4</th>\n",
              "      <td>5</td>\n",
              "      <td>0</td>\n",
              "      <td>3</td>\n",
              "      <td>Allen, Mr. William Henry</td>\n",
              "      <td>male</td>\n",
              "      <td>35.0</td>\n",
              "      <td>0</td>\n",
              "      <td>0</td>\n",
              "      <td>373450</td>\n",
              "      <td>8.0500</td>\n",
              "      <td>NaN</td>\n",
              "      <td>S</td>\n",
              "    </tr>\n",
              "    <tr>\n",
              "      <th>...</th>\n",
              "      <td>...</td>\n",
              "      <td>...</td>\n",
              "      <td>...</td>\n",
              "      <td>...</td>\n",
              "      <td>...</td>\n",
              "      <td>...</td>\n",
              "      <td>...</td>\n",
              "      <td>...</td>\n",
              "      <td>...</td>\n",
              "      <td>...</td>\n",
              "      <td>...</td>\n",
              "      <td>...</td>\n",
              "    </tr>\n",
              "    <tr>\n",
              "      <th>1304</th>\n",
              "      <td>1305</td>\n",
              "      <td>0</td>\n",
              "      <td>3</td>\n",
              "      <td>Spector, Mr. Woolf</td>\n",
              "      <td>male</td>\n",
              "      <td>NaN</td>\n",
              "      <td>0</td>\n",
              "      <td>0</td>\n",
              "      <td>A.5. 3236</td>\n",
              "      <td>8.0500</td>\n",
              "      <td>NaN</td>\n",
              "      <td>S</td>\n",
              "    </tr>\n",
              "    <tr>\n",
              "      <th>1305</th>\n",
              "      <td>1306</td>\n",
              "      <td>1</td>\n",
              "      <td>1</td>\n",
              "      <td>Oliva y Ocana, Dona. Fermina</td>\n",
              "      <td>female</td>\n",
              "      <td>39.0</td>\n",
              "      <td>0</td>\n",
              "      <td>0</td>\n",
              "      <td>PC 17758</td>\n",
              "      <td>108.9000</td>\n",
              "      <td>C105</td>\n",
              "      <td>C</td>\n",
              "    </tr>\n",
              "    <tr>\n",
              "      <th>1306</th>\n",
              "      <td>1307</td>\n",
              "      <td>0</td>\n",
              "      <td>3</td>\n",
              "      <td>Saether, Mr. Simon Sivertsen</td>\n",
              "      <td>male</td>\n",
              "      <td>38.5</td>\n",
              "      <td>0</td>\n",
              "      <td>0</td>\n",
              "      <td>SOTON/O.Q. 3101262</td>\n",
              "      <td>7.2500</td>\n",
              "      <td>NaN</td>\n",
              "      <td>S</td>\n",
              "    </tr>\n",
              "    <tr>\n",
              "      <th>1307</th>\n",
              "      <td>1308</td>\n",
              "      <td>0</td>\n",
              "      <td>3</td>\n",
              "      <td>Ware, Mr. Frederick</td>\n",
              "      <td>male</td>\n",
              "      <td>NaN</td>\n",
              "      <td>0</td>\n",
              "      <td>0</td>\n",
              "      <td>359309</td>\n",
              "      <td>8.0500</td>\n",
              "      <td>NaN</td>\n",
              "      <td>S</td>\n",
              "    </tr>\n",
              "    <tr>\n",
              "      <th>1308</th>\n",
              "      <td>1309</td>\n",
              "      <td>0</td>\n",
              "      <td>3</td>\n",
              "      <td>Peter, Master. Michael J</td>\n",
              "      <td>male</td>\n",
              "      <td>NaN</td>\n",
              "      <td>1</td>\n",
              "      <td>1</td>\n",
              "      <td>2668</td>\n",
              "      <td>22.3583</td>\n",
              "      <td>NaN</td>\n",
              "      <td>C</td>\n",
              "    </tr>\n",
              "  </tbody>\n",
              "</table>\n",
              "<p>1309 rows × 12 columns</p>\n",
              "</div>\n",
              "      <button class=\"colab-df-convert\" onclick=\"convertToInteractive('df-355dd1fe-58e6-4167-975a-b62c96acb51b')\"\n",
              "              title=\"Convert this dataframe to an interactive table.\"\n",
              "              style=\"display:none;\">\n",
              "        \n",
              "  <svg xmlns=\"http://www.w3.org/2000/svg\" height=\"24px\"viewBox=\"0 0 24 24\"\n",
              "       width=\"24px\">\n",
              "    <path d=\"M0 0h24v24H0V0z\" fill=\"none\"/>\n",
              "    <path d=\"M18.56 5.44l.94 2.06.94-2.06 2.06-.94-2.06-.94-.94-2.06-.94 2.06-2.06.94zm-11 1L8.5 8.5l.94-2.06 2.06-.94-2.06-.94L8.5 2.5l-.94 2.06-2.06.94zm10 10l.94 2.06.94-2.06 2.06-.94-2.06-.94-.94-2.06-.94 2.06-2.06.94z\"/><path d=\"M17.41 7.96l-1.37-1.37c-.4-.4-.92-.59-1.43-.59-.52 0-1.04.2-1.43.59L10.3 9.45l-7.72 7.72c-.78.78-.78 2.05 0 2.83L4 21.41c.39.39.9.59 1.41.59.51 0 1.02-.2 1.41-.59l7.78-7.78 2.81-2.81c.8-.78.8-2.07 0-2.86zM5.41 20L4 18.59l7.72-7.72 1.47 1.35L5.41 20z\"/>\n",
              "  </svg>\n",
              "      </button>\n",
              "      \n",
              "  <style>\n",
              "    .colab-df-container {\n",
              "      display:flex;\n",
              "      flex-wrap:wrap;\n",
              "      gap: 12px;\n",
              "    }\n",
              "\n",
              "    .colab-df-convert {\n",
              "      background-color: #E8F0FE;\n",
              "      border: none;\n",
              "      border-radius: 50%;\n",
              "      cursor: pointer;\n",
              "      display: none;\n",
              "      fill: #1967D2;\n",
              "      height: 32px;\n",
              "      padding: 0 0 0 0;\n",
              "      width: 32px;\n",
              "    }\n",
              "\n",
              "    .colab-df-convert:hover {\n",
              "      background-color: #E2EBFA;\n",
              "      box-shadow: 0px 1px 2px rgba(60, 64, 67, 0.3), 0px 1px 3px 1px rgba(60, 64, 67, 0.15);\n",
              "      fill: #174EA6;\n",
              "    }\n",
              "\n",
              "    [theme=dark] .colab-df-convert {\n",
              "      background-color: #3B4455;\n",
              "      fill: #D2E3FC;\n",
              "    }\n",
              "\n",
              "    [theme=dark] .colab-df-convert:hover {\n",
              "      background-color: #434B5C;\n",
              "      box-shadow: 0px 1px 3px 1px rgba(0, 0, 0, 0.15);\n",
              "      filter: drop-shadow(0px 1px 2px rgba(0, 0, 0, 0.3));\n",
              "      fill: #FFFFFF;\n",
              "    }\n",
              "  </style>\n",
              "\n",
              "      <script>\n",
              "        const buttonEl =\n",
              "          document.querySelector('#df-355dd1fe-58e6-4167-975a-b62c96acb51b button.colab-df-convert');\n",
              "        buttonEl.style.display =\n",
              "          google.colab.kernel.accessAllowed ? 'block' : 'none';\n",
              "\n",
              "        async function convertToInteractive(key) {\n",
              "          const element = document.querySelector('#df-355dd1fe-58e6-4167-975a-b62c96acb51b');\n",
              "          const dataTable =\n",
              "            await google.colab.kernel.invokeFunction('convertToInteractive',\n",
              "                                                     [key], {});\n",
              "          if (!dataTable) return;\n",
              "\n",
              "          const docLinkHtml = 'Like what you see? Visit the ' +\n",
              "            '<a target=\"_blank\" href=https://colab.research.google.com/notebooks/data_table.ipynb>data table notebook</a>'\n",
              "            + ' to learn more about interactive tables.';\n",
              "          element.innerHTML = '';\n",
              "          dataTable['output_type'] = 'display_data';\n",
              "          await google.colab.output.renderOutput(dataTable, element);\n",
              "          const docLink = document.createElement('div');\n",
              "          docLink.innerHTML = docLinkHtml;\n",
              "          element.appendChild(docLink);\n",
              "        }\n",
              "      </script>\n",
              "    </div>\n",
              "  </div>\n",
              "  "
            ]
          },
          "metadata": {},
          "execution_count": 13
        }
      ]
    },
    {
      "cell_type": "markdown",
      "source": [
        "## 결측치 채우기\n"
      ],
      "metadata": {
        "id": "2VyFR0adIm-M"
      }
    },
    {
      "cell_type": "code",
      "source": [
        "df.isnull().sum()"
      ],
      "metadata": {
        "colab": {
          "base_uri": "https://localhost:8080/"
        },
        "id": "COB9LOS6InDn",
        "outputId": "3b5a30b9-c598-4d21-b5bc-44dd6e1603cb"
      },
      "execution_count": null,
      "outputs": [
        {
          "output_type": "execute_result",
          "data": {
            "text/plain": [
              "passengerid       0\n",
              "survived          0\n",
              "pclass            0\n",
              "name              0\n",
              "gender            0\n",
              "age             263\n",
              "sibsp             0\n",
              "parch             0\n",
              "ticket            0\n",
              "fare              1\n",
              "cabin          1014\n",
              "embarked          2\n",
              "dtype: int64"
            ]
          },
          "metadata": {},
          "execution_count": 14
        }
      ]
    },
    {
      "cell_type": "markdown",
      "source": [
        "- 최빈값으로 결측치 채우기"
      ],
      "metadata": {
        "id": "ZHrXUeUbJ5Yq"
      }
    },
    {
      "cell_type": "code",
      "source": [
        "mode_value = df[\"embarked\"].mode()[0] # 최빈값   범주형데이터일땐 보통 최빈값 , 수치형데이터일땐 평균값으로 보통한다.\n",
        "df[\"embarked\"] = df[\"embarked\"].fillna(mode_value)"
      ],
      "metadata": {
        "id": "6sN9U1MZInI5"
      },
      "execution_count": null,
      "outputs": []
    },
    {
      "cell_type": "code",
      "source": [
        "df[\"cabin\"] = df[\"cabin\"].fillna(\"UNK\")"
      ],
      "metadata": {
        "id": "lbW9FavYInOS"
      },
      "execution_count": null,
      "outputs": []
    },
    {
      "cell_type": "code",
      "source": [
        "median_value = df[\"fare\"].median() # 표준편차가 높아서 중앙값을 넣음\n",
        "df[\"fare\"] = df[\"fare\"].fillna(median_value)"
      ],
      "metadata": {
        "id": "wXDHVAM0InTe"
      },
      "execution_count": null,
      "outputs": []
    },
    {
      "cell_type": "code",
      "source": [
        "df[\"age\"] = df[\"age\"].fillna(df[\"age\"].median())"
      ],
      "metadata": {
        "id": "naRxe3ghInYU"
      },
      "execution_count": null,
      "outputs": []
    },
    {
      "cell_type": "code",
      "source": [
        "df.isnull().sum().sum()"
      ],
      "metadata": {
        "colab": {
          "base_uri": "https://localhost:8080/"
        },
        "id": "mdpkoRZzInde",
        "outputId": "4071a485-794b-4d51-e7c6-8ee20aa92ec5"
      },
      "execution_count": null,
      "outputs": [
        {
          "output_type": "execute_result",
          "data": {
            "text/plain": [
              "0"
            ]
          },
          "metadata": {},
          "execution_count": 19
        }
      ]
    },
    {
      "cell_type": "markdown",
      "source": [
        "# 특정 값들 포함 여부"
      ],
      "metadata": {
        "id": "IsPB3A1BInif"
      }
    },
    {
      "cell_type": "markdown",
      "source": [
        "- `isin` 메소드"
      ],
      "metadata": {
        "id": "1w_3U6jBInnH"
      }
    },
    {
      "cell_type": "code",
      "source": [
        " # S이거나 C인 항구를 보고싶다면?\n",
        "lst = [\"S\",\"C\"]\n",
        "mask = df[\"embarked\"].isin(lst)\n",
        "df.loc[mask]"
      ],
      "metadata": {
        "colab": {
          "base_uri": "https://localhost:8080/",
          "height": 921
        },
        "id": "E_eKO1xZInsD",
        "outputId": "8467426b-57db-4375-d274-feb5d35c8d5d"
      },
      "execution_count": null,
      "outputs": [
        {
          "output_type": "execute_result",
          "data": {
            "text/plain": [
              "      passengerid  survived  pclass  \\\n",
              "0               1         0       3   \n",
              "1               2         1       1   \n",
              "2               3         1       3   \n",
              "3               4         1       1   \n",
              "4               5         0       3   \n",
              "...           ...       ...     ...   \n",
              "1304         1305         0       3   \n",
              "1305         1306         1       1   \n",
              "1306         1307         0       3   \n",
              "1307         1308         0       3   \n",
              "1308         1309         0       3   \n",
              "\n",
              "                                                   name  gender   age  sibsp  \\\n",
              "0                               Braund, Mr. Owen Harris    male  22.0      1   \n",
              "1     Cumings, Mrs. John Bradley (Florence Briggs Th...  female  38.0      1   \n",
              "2                                Heikkinen, Miss. Laina  female  26.0      0   \n",
              "3          Futrelle, Mrs. Jacques Heath (Lily May Peel)  female  35.0      1   \n",
              "4                              Allen, Mr. William Henry    male  35.0      0   \n",
              "...                                                 ...     ...   ...    ...   \n",
              "1304                                 Spector, Mr. Woolf    male  28.0      0   \n",
              "1305                       Oliva y Ocana, Dona. Fermina  female  39.0      0   \n",
              "1306                       Saether, Mr. Simon Sivertsen    male  38.5      0   \n",
              "1307                                Ware, Mr. Frederick    male  28.0      0   \n",
              "1308                           Peter, Master. Michael J    male  28.0      1   \n",
              "\n",
              "      parch              ticket      fare cabin embarked  \n",
              "0         0           A/5 21171    7.2500   UNK        S  \n",
              "1         0            PC 17599   71.2833   C85        C  \n",
              "2         0    STON/O2. 3101282    7.9250   UNK        S  \n",
              "3         0              113803   53.1000  C123        S  \n",
              "4         0              373450    8.0500   UNK        S  \n",
              "...     ...                 ...       ...   ...      ...  \n",
              "1304      0           A.5. 3236    8.0500   UNK        S  \n",
              "1305      0            PC 17758  108.9000  C105        C  \n",
              "1306      0  SOTON/O.Q. 3101262    7.2500   UNK        S  \n",
              "1307      0              359309    8.0500   UNK        S  \n",
              "1308      1                2668   22.3583   UNK        C  \n",
              "\n",
              "[1186 rows x 12 columns]"
            ],
            "text/html": [
              "\n",
              "  <div id=\"df-ba1fabd3-4318-49b8-9993-674b36018626\">\n",
              "    <div class=\"colab-df-container\">\n",
              "      <div>\n",
              "<style scoped>\n",
              "    .dataframe tbody tr th:only-of-type {\n",
              "        vertical-align: middle;\n",
              "    }\n",
              "\n",
              "    .dataframe tbody tr th {\n",
              "        vertical-align: top;\n",
              "    }\n",
              "\n",
              "    .dataframe thead th {\n",
              "        text-align: right;\n",
              "    }\n",
              "</style>\n",
              "<table border=\"1\" class=\"dataframe\">\n",
              "  <thead>\n",
              "    <tr style=\"text-align: right;\">\n",
              "      <th></th>\n",
              "      <th>passengerid</th>\n",
              "      <th>survived</th>\n",
              "      <th>pclass</th>\n",
              "      <th>name</th>\n",
              "      <th>gender</th>\n",
              "      <th>age</th>\n",
              "      <th>sibsp</th>\n",
              "      <th>parch</th>\n",
              "      <th>ticket</th>\n",
              "      <th>fare</th>\n",
              "      <th>cabin</th>\n",
              "      <th>embarked</th>\n",
              "    </tr>\n",
              "  </thead>\n",
              "  <tbody>\n",
              "    <tr>\n",
              "      <th>0</th>\n",
              "      <td>1</td>\n",
              "      <td>0</td>\n",
              "      <td>3</td>\n",
              "      <td>Braund, Mr. Owen Harris</td>\n",
              "      <td>male</td>\n",
              "      <td>22.0</td>\n",
              "      <td>1</td>\n",
              "      <td>0</td>\n",
              "      <td>A/5 21171</td>\n",
              "      <td>7.2500</td>\n",
              "      <td>UNK</td>\n",
              "      <td>S</td>\n",
              "    </tr>\n",
              "    <tr>\n",
              "      <th>1</th>\n",
              "      <td>2</td>\n",
              "      <td>1</td>\n",
              "      <td>1</td>\n",
              "      <td>Cumings, Mrs. John Bradley (Florence Briggs Th...</td>\n",
              "      <td>female</td>\n",
              "      <td>38.0</td>\n",
              "      <td>1</td>\n",
              "      <td>0</td>\n",
              "      <td>PC 17599</td>\n",
              "      <td>71.2833</td>\n",
              "      <td>C85</td>\n",
              "      <td>C</td>\n",
              "    </tr>\n",
              "    <tr>\n",
              "      <th>2</th>\n",
              "      <td>3</td>\n",
              "      <td>1</td>\n",
              "      <td>3</td>\n",
              "      <td>Heikkinen, Miss. Laina</td>\n",
              "      <td>female</td>\n",
              "      <td>26.0</td>\n",
              "      <td>0</td>\n",
              "      <td>0</td>\n",
              "      <td>STON/O2. 3101282</td>\n",
              "      <td>7.9250</td>\n",
              "      <td>UNK</td>\n",
              "      <td>S</td>\n",
              "    </tr>\n",
              "    <tr>\n",
              "      <th>3</th>\n",
              "      <td>4</td>\n",
              "      <td>1</td>\n",
              "      <td>1</td>\n",
              "      <td>Futrelle, Mrs. Jacques Heath (Lily May Peel)</td>\n",
              "      <td>female</td>\n",
              "      <td>35.0</td>\n",
              "      <td>1</td>\n",
              "      <td>0</td>\n",
              "      <td>113803</td>\n",
              "      <td>53.1000</td>\n",
              "      <td>C123</td>\n",
              "      <td>S</td>\n",
              "    </tr>\n",
              "    <tr>\n",
              "      <th>4</th>\n",
              "      <td>5</td>\n",
              "      <td>0</td>\n",
              "      <td>3</td>\n",
              "      <td>Allen, Mr. William Henry</td>\n",
              "      <td>male</td>\n",
              "      <td>35.0</td>\n",
              "      <td>0</td>\n",
              "      <td>0</td>\n",
              "      <td>373450</td>\n",
              "      <td>8.0500</td>\n",
              "      <td>UNK</td>\n",
              "      <td>S</td>\n",
              "    </tr>\n",
              "    <tr>\n",
              "      <th>...</th>\n",
              "      <td>...</td>\n",
              "      <td>...</td>\n",
              "      <td>...</td>\n",
              "      <td>...</td>\n",
              "      <td>...</td>\n",
              "      <td>...</td>\n",
              "      <td>...</td>\n",
              "      <td>...</td>\n",
              "      <td>...</td>\n",
              "      <td>...</td>\n",
              "      <td>...</td>\n",
              "      <td>...</td>\n",
              "    </tr>\n",
              "    <tr>\n",
              "      <th>1304</th>\n",
              "      <td>1305</td>\n",
              "      <td>0</td>\n",
              "      <td>3</td>\n",
              "      <td>Spector, Mr. Woolf</td>\n",
              "      <td>male</td>\n",
              "      <td>28.0</td>\n",
              "      <td>0</td>\n",
              "      <td>0</td>\n",
              "      <td>A.5. 3236</td>\n",
              "      <td>8.0500</td>\n",
              "      <td>UNK</td>\n",
              "      <td>S</td>\n",
              "    </tr>\n",
              "    <tr>\n",
              "      <th>1305</th>\n",
              "      <td>1306</td>\n",
              "      <td>1</td>\n",
              "      <td>1</td>\n",
              "      <td>Oliva y Ocana, Dona. Fermina</td>\n",
              "      <td>female</td>\n",
              "      <td>39.0</td>\n",
              "      <td>0</td>\n",
              "      <td>0</td>\n",
              "      <td>PC 17758</td>\n",
              "      <td>108.9000</td>\n",
              "      <td>C105</td>\n",
              "      <td>C</td>\n",
              "    </tr>\n",
              "    <tr>\n",
              "      <th>1306</th>\n",
              "      <td>1307</td>\n",
              "      <td>0</td>\n",
              "      <td>3</td>\n",
              "      <td>Saether, Mr. Simon Sivertsen</td>\n",
              "      <td>male</td>\n",
              "      <td>38.5</td>\n",
              "      <td>0</td>\n",
              "      <td>0</td>\n",
              "      <td>SOTON/O.Q. 3101262</td>\n",
              "      <td>7.2500</td>\n",
              "      <td>UNK</td>\n",
              "      <td>S</td>\n",
              "    </tr>\n",
              "    <tr>\n",
              "      <th>1307</th>\n",
              "      <td>1308</td>\n",
              "      <td>0</td>\n",
              "      <td>3</td>\n",
              "      <td>Ware, Mr. Frederick</td>\n",
              "      <td>male</td>\n",
              "      <td>28.0</td>\n",
              "      <td>0</td>\n",
              "      <td>0</td>\n",
              "      <td>359309</td>\n",
              "      <td>8.0500</td>\n",
              "      <td>UNK</td>\n",
              "      <td>S</td>\n",
              "    </tr>\n",
              "    <tr>\n",
              "      <th>1308</th>\n",
              "      <td>1309</td>\n",
              "      <td>0</td>\n",
              "      <td>3</td>\n",
              "      <td>Peter, Master. Michael J</td>\n",
              "      <td>male</td>\n",
              "      <td>28.0</td>\n",
              "      <td>1</td>\n",
              "      <td>1</td>\n",
              "      <td>2668</td>\n",
              "      <td>22.3583</td>\n",
              "      <td>UNK</td>\n",
              "      <td>C</td>\n",
              "    </tr>\n",
              "  </tbody>\n",
              "</table>\n",
              "<p>1186 rows × 12 columns</p>\n",
              "</div>\n",
              "      <button class=\"colab-df-convert\" onclick=\"convertToInteractive('df-ba1fabd3-4318-49b8-9993-674b36018626')\"\n",
              "              title=\"Convert this dataframe to an interactive table.\"\n",
              "              style=\"display:none;\">\n",
              "        \n",
              "  <svg xmlns=\"http://www.w3.org/2000/svg\" height=\"24px\"viewBox=\"0 0 24 24\"\n",
              "       width=\"24px\">\n",
              "    <path d=\"M0 0h24v24H0V0z\" fill=\"none\"/>\n",
              "    <path d=\"M18.56 5.44l.94 2.06.94-2.06 2.06-.94-2.06-.94-.94-2.06-.94 2.06-2.06.94zm-11 1L8.5 8.5l.94-2.06 2.06-.94-2.06-.94L8.5 2.5l-.94 2.06-2.06.94zm10 10l.94 2.06.94-2.06 2.06-.94-2.06-.94-.94-2.06-.94 2.06-2.06.94z\"/><path d=\"M17.41 7.96l-1.37-1.37c-.4-.4-.92-.59-1.43-.59-.52 0-1.04.2-1.43.59L10.3 9.45l-7.72 7.72c-.78.78-.78 2.05 0 2.83L4 21.41c.39.39.9.59 1.41.59.51 0 1.02-.2 1.41-.59l7.78-7.78 2.81-2.81c.8-.78.8-2.07 0-2.86zM5.41 20L4 18.59l7.72-7.72 1.47 1.35L5.41 20z\"/>\n",
              "  </svg>\n",
              "      </button>\n",
              "      \n",
              "  <style>\n",
              "    .colab-df-container {\n",
              "      display:flex;\n",
              "      flex-wrap:wrap;\n",
              "      gap: 12px;\n",
              "    }\n",
              "\n",
              "    .colab-df-convert {\n",
              "      background-color: #E8F0FE;\n",
              "      border: none;\n",
              "      border-radius: 50%;\n",
              "      cursor: pointer;\n",
              "      display: none;\n",
              "      fill: #1967D2;\n",
              "      height: 32px;\n",
              "      padding: 0 0 0 0;\n",
              "      width: 32px;\n",
              "    }\n",
              "\n",
              "    .colab-df-convert:hover {\n",
              "      background-color: #E2EBFA;\n",
              "      box-shadow: 0px 1px 2px rgba(60, 64, 67, 0.3), 0px 1px 3px 1px rgba(60, 64, 67, 0.15);\n",
              "      fill: #174EA6;\n",
              "    }\n",
              "\n",
              "    [theme=dark] .colab-df-convert {\n",
              "      background-color: #3B4455;\n",
              "      fill: #D2E3FC;\n",
              "    }\n",
              "\n",
              "    [theme=dark] .colab-df-convert:hover {\n",
              "      background-color: #434B5C;\n",
              "      box-shadow: 0px 1px 3px 1px rgba(0, 0, 0, 0.15);\n",
              "      filter: drop-shadow(0px 1px 2px rgba(0, 0, 0, 0.3));\n",
              "      fill: #FFFFFF;\n",
              "    }\n",
              "  </style>\n",
              "\n",
              "      <script>\n",
              "        const buttonEl =\n",
              "          document.querySelector('#df-ba1fabd3-4318-49b8-9993-674b36018626 button.colab-df-convert');\n",
              "        buttonEl.style.display =\n",
              "          google.colab.kernel.accessAllowed ? 'block' : 'none';\n",
              "\n",
              "        async function convertToInteractive(key) {\n",
              "          const element = document.querySelector('#df-ba1fabd3-4318-49b8-9993-674b36018626');\n",
              "          const dataTable =\n",
              "            await google.colab.kernel.invokeFunction('convertToInteractive',\n",
              "                                                     [key], {});\n",
              "          if (!dataTable) return;\n",
              "\n",
              "          const docLinkHtml = 'Like what you see? Visit the ' +\n",
              "            '<a target=\"_blank\" href=https://colab.research.google.com/notebooks/data_table.ipynb>data table notebook</a>'\n",
              "            + ' to learn more about interactive tables.';\n",
              "          element.innerHTML = '';\n",
              "          dataTable['output_type'] = 'display_data';\n",
              "          await google.colab.output.renderOutput(dataTable, element);\n",
              "          const docLink = document.createElement('div');\n",
              "          docLink.innerHTML = docLinkHtml;\n",
              "          element.appendChild(docLink);\n",
              "        }\n",
              "      </script>\n",
              "    </div>\n",
              "  </div>\n",
              "  "
            ]
          },
          "metadata": {},
          "execution_count": 20
        }
      ]
    },
    {
      "cell_type": "code",
      "source": [
        "display(df.head())\n",
        "df.info #노트북환경일떄 마지막 값말고도 위에도 볼수있다 display사용하면"
      ],
      "metadata": {
        "colab": {
          "base_uri": "https://localhost:8080/",
          "height": 1000
        },
        "id": "pzYOdkDlIn6X",
        "outputId": "ebab13e9-44a0-44ed-b1d3-b589eea9351e"
      },
      "execution_count": null,
      "outputs": [
        {
          "output_type": "display_data",
          "data": {
            "text/plain": [
              "   passengerid  survived  pclass  \\\n",
              "0            1         0       3   \n",
              "1            2         1       1   \n",
              "2            3         1       3   \n",
              "3            4         1       1   \n",
              "4            5         0       3   \n",
              "\n",
              "                                                name  gender   age  sibsp  \\\n",
              "0                            Braund, Mr. Owen Harris    male  22.0      1   \n",
              "1  Cumings, Mrs. John Bradley (Florence Briggs Th...  female  38.0      1   \n",
              "2                             Heikkinen, Miss. Laina  female  26.0      0   \n",
              "3       Futrelle, Mrs. Jacques Heath (Lily May Peel)  female  35.0      1   \n",
              "4                           Allen, Mr. William Henry    male  35.0      0   \n",
              "\n",
              "   parch            ticket     fare cabin embarked  \n",
              "0      0         A/5 21171   7.2500   UNK        S  \n",
              "1      0          PC 17599  71.2833   C85        C  \n",
              "2      0  STON/O2. 3101282   7.9250   UNK        S  \n",
              "3      0            113803  53.1000  C123        S  \n",
              "4      0            373450   8.0500   UNK        S  "
            ],
            "text/html": [
              "\n",
              "  <div id=\"df-85ad88af-86cf-4224-a5e0-e33c0c294ad6\">\n",
              "    <div class=\"colab-df-container\">\n",
              "      <div>\n",
              "<style scoped>\n",
              "    .dataframe tbody tr th:only-of-type {\n",
              "        vertical-align: middle;\n",
              "    }\n",
              "\n",
              "    .dataframe tbody tr th {\n",
              "        vertical-align: top;\n",
              "    }\n",
              "\n",
              "    .dataframe thead th {\n",
              "        text-align: right;\n",
              "    }\n",
              "</style>\n",
              "<table border=\"1\" class=\"dataframe\">\n",
              "  <thead>\n",
              "    <tr style=\"text-align: right;\">\n",
              "      <th></th>\n",
              "      <th>passengerid</th>\n",
              "      <th>survived</th>\n",
              "      <th>pclass</th>\n",
              "      <th>name</th>\n",
              "      <th>gender</th>\n",
              "      <th>age</th>\n",
              "      <th>sibsp</th>\n",
              "      <th>parch</th>\n",
              "      <th>ticket</th>\n",
              "      <th>fare</th>\n",
              "      <th>cabin</th>\n",
              "      <th>embarked</th>\n",
              "    </tr>\n",
              "  </thead>\n",
              "  <tbody>\n",
              "    <tr>\n",
              "      <th>0</th>\n",
              "      <td>1</td>\n",
              "      <td>0</td>\n",
              "      <td>3</td>\n",
              "      <td>Braund, Mr. Owen Harris</td>\n",
              "      <td>male</td>\n",
              "      <td>22.0</td>\n",
              "      <td>1</td>\n",
              "      <td>0</td>\n",
              "      <td>A/5 21171</td>\n",
              "      <td>7.2500</td>\n",
              "      <td>UNK</td>\n",
              "      <td>S</td>\n",
              "    </tr>\n",
              "    <tr>\n",
              "      <th>1</th>\n",
              "      <td>2</td>\n",
              "      <td>1</td>\n",
              "      <td>1</td>\n",
              "      <td>Cumings, Mrs. John Bradley (Florence Briggs Th...</td>\n",
              "      <td>female</td>\n",
              "      <td>38.0</td>\n",
              "      <td>1</td>\n",
              "      <td>0</td>\n",
              "      <td>PC 17599</td>\n",
              "      <td>71.2833</td>\n",
              "      <td>C85</td>\n",
              "      <td>C</td>\n",
              "    </tr>\n",
              "    <tr>\n",
              "      <th>2</th>\n",
              "      <td>3</td>\n",
              "      <td>1</td>\n",
              "      <td>3</td>\n",
              "      <td>Heikkinen, Miss. Laina</td>\n",
              "      <td>female</td>\n",
              "      <td>26.0</td>\n",
              "      <td>0</td>\n",
              "      <td>0</td>\n",
              "      <td>STON/O2. 3101282</td>\n",
              "      <td>7.9250</td>\n",
              "      <td>UNK</td>\n",
              "      <td>S</td>\n",
              "    </tr>\n",
              "    <tr>\n",
              "      <th>3</th>\n",
              "      <td>4</td>\n",
              "      <td>1</td>\n",
              "      <td>1</td>\n",
              "      <td>Futrelle, Mrs. Jacques Heath (Lily May Peel)</td>\n",
              "      <td>female</td>\n",
              "      <td>35.0</td>\n",
              "      <td>1</td>\n",
              "      <td>0</td>\n",
              "      <td>113803</td>\n",
              "      <td>53.1000</td>\n",
              "      <td>C123</td>\n",
              "      <td>S</td>\n",
              "    </tr>\n",
              "    <tr>\n",
              "      <th>4</th>\n",
              "      <td>5</td>\n",
              "      <td>0</td>\n",
              "      <td>3</td>\n",
              "      <td>Allen, Mr. William Henry</td>\n",
              "      <td>male</td>\n",
              "      <td>35.0</td>\n",
              "      <td>0</td>\n",
              "      <td>0</td>\n",
              "      <td>373450</td>\n",
              "      <td>8.0500</td>\n",
              "      <td>UNK</td>\n",
              "      <td>S</td>\n",
              "    </tr>\n",
              "  </tbody>\n",
              "</table>\n",
              "</div>\n",
              "      <button class=\"colab-df-convert\" onclick=\"convertToInteractive('df-85ad88af-86cf-4224-a5e0-e33c0c294ad6')\"\n",
              "              title=\"Convert this dataframe to an interactive table.\"\n",
              "              style=\"display:none;\">\n",
              "        \n",
              "  <svg xmlns=\"http://www.w3.org/2000/svg\" height=\"24px\"viewBox=\"0 0 24 24\"\n",
              "       width=\"24px\">\n",
              "    <path d=\"M0 0h24v24H0V0z\" fill=\"none\"/>\n",
              "    <path d=\"M18.56 5.44l.94 2.06.94-2.06 2.06-.94-2.06-.94-.94-2.06-.94 2.06-2.06.94zm-11 1L8.5 8.5l.94-2.06 2.06-.94-2.06-.94L8.5 2.5l-.94 2.06-2.06.94zm10 10l.94 2.06.94-2.06 2.06-.94-2.06-.94-.94-2.06-.94 2.06-2.06.94z\"/><path d=\"M17.41 7.96l-1.37-1.37c-.4-.4-.92-.59-1.43-.59-.52 0-1.04.2-1.43.59L10.3 9.45l-7.72 7.72c-.78.78-.78 2.05 0 2.83L4 21.41c.39.39.9.59 1.41.59.51 0 1.02-.2 1.41-.59l7.78-7.78 2.81-2.81c.8-.78.8-2.07 0-2.86zM5.41 20L4 18.59l7.72-7.72 1.47 1.35L5.41 20z\"/>\n",
              "  </svg>\n",
              "      </button>\n",
              "      \n",
              "  <style>\n",
              "    .colab-df-container {\n",
              "      display:flex;\n",
              "      flex-wrap:wrap;\n",
              "      gap: 12px;\n",
              "    }\n",
              "\n",
              "    .colab-df-convert {\n",
              "      background-color: #E8F0FE;\n",
              "      border: none;\n",
              "      border-radius: 50%;\n",
              "      cursor: pointer;\n",
              "      display: none;\n",
              "      fill: #1967D2;\n",
              "      height: 32px;\n",
              "      padding: 0 0 0 0;\n",
              "      width: 32px;\n",
              "    }\n",
              "\n",
              "    .colab-df-convert:hover {\n",
              "      background-color: #E2EBFA;\n",
              "      box-shadow: 0px 1px 2px rgba(60, 64, 67, 0.3), 0px 1px 3px 1px rgba(60, 64, 67, 0.15);\n",
              "      fill: #174EA6;\n",
              "    }\n",
              "\n",
              "    [theme=dark] .colab-df-convert {\n",
              "      background-color: #3B4455;\n",
              "      fill: #D2E3FC;\n",
              "    }\n",
              "\n",
              "    [theme=dark] .colab-df-convert:hover {\n",
              "      background-color: #434B5C;\n",
              "      box-shadow: 0px 1px 3px 1px rgba(0, 0, 0, 0.15);\n",
              "      filter: drop-shadow(0px 1px 2px rgba(0, 0, 0, 0.3));\n",
              "      fill: #FFFFFF;\n",
              "    }\n",
              "  </style>\n",
              "\n",
              "      <script>\n",
              "        const buttonEl =\n",
              "          document.querySelector('#df-85ad88af-86cf-4224-a5e0-e33c0c294ad6 button.colab-df-convert');\n",
              "        buttonEl.style.display =\n",
              "          google.colab.kernel.accessAllowed ? 'block' : 'none';\n",
              "\n",
              "        async function convertToInteractive(key) {\n",
              "          const element = document.querySelector('#df-85ad88af-86cf-4224-a5e0-e33c0c294ad6');\n",
              "          const dataTable =\n",
              "            await google.colab.kernel.invokeFunction('convertToInteractive',\n",
              "                                                     [key], {});\n",
              "          if (!dataTable) return;\n",
              "\n",
              "          const docLinkHtml = 'Like what you see? Visit the ' +\n",
              "            '<a target=\"_blank\" href=https://colab.research.google.com/notebooks/data_table.ipynb>data table notebook</a>'\n",
              "            + ' to learn more about interactive tables.';\n",
              "          element.innerHTML = '';\n",
              "          dataTable['output_type'] = 'display_data';\n",
              "          await google.colab.output.renderOutput(dataTable, element);\n",
              "          const docLink = document.createElement('div');\n",
              "          docLink.innerHTML = docLinkHtml;\n",
              "          element.appendChild(docLink);\n",
              "        }\n",
              "      </script>\n",
              "    </div>\n",
              "  </div>\n",
              "  "
            ]
          },
          "metadata": {}
        },
        {
          "output_type": "execute_result",
          "data": {
            "text/plain": [
              "<bound method DataFrame.info of       passengerid  survived  pclass  \\\n",
              "0               1         0       3   \n",
              "1               2         1       1   \n",
              "2               3         1       3   \n",
              "3               4         1       1   \n",
              "4               5         0       3   \n",
              "...           ...       ...     ...   \n",
              "1304         1305         0       3   \n",
              "1305         1306         1       1   \n",
              "1306         1307         0       3   \n",
              "1307         1308         0       3   \n",
              "1308         1309         0       3   \n",
              "\n",
              "                                                   name  gender   age  sibsp  \\\n",
              "0                               Braund, Mr. Owen Harris    male  22.0      1   \n",
              "1     Cumings, Mrs. John Bradley (Florence Briggs Th...  female  38.0      1   \n",
              "2                                Heikkinen, Miss. Laina  female  26.0      0   \n",
              "3          Futrelle, Mrs. Jacques Heath (Lily May Peel)  female  35.0      1   \n",
              "4                              Allen, Mr. William Henry    male  35.0      0   \n",
              "...                                                 ...     ...   ...    ...   \n",
              "1304                                 Spector, Mr. Woolf    male  28.0      0   \n",
              "1305                       Oliva y Ocana, Dona. Fermina  female  39.0      0   \n",
              "1306                       Saether, Mr. Simon Sivertsen    male  38.5      0   \n",
              "1307                                Ware, Mr. Frederick    male  28.0      0   \n",
              "1308                           Peter, Master. Michael J    male  28.0      1   \n",
              "\n",
              "      parch              ticket      fare cabin embarked  \n",
              "0         0           A/5 21171    7.2500   UNK        S  \n",
              "1         0            PC 17599   71.2833   C85        C  \n",
              "2         0    STON/O2. 3101282    7.9250   UNK        S  \n",
              "3         0              113803   53.1000  C123        S  \n",
              "4         0              373450    8.0500   UNK        S  \n",
              "...     ...                 ...       ...   ...      ...  \n",
              "1304      0           A.5. 3236    8.0500   UNK        S  \n",
              "1305      0            PC 17758  108.9000  C105        C  \n",
              "1306      0  SOTON/O.Q. 3101262    7.2500   UNK        S  \n",
              "1307      0              359309    8.0500   UNK        S  \n",
              "1308      1                2668   22.3583   UNK        C  \n",
              "\n",
              "[1309 rows x 12 columns]>"
            ]
          },
          "metadata": {},
          "execution_count": 21
        }
      ]
    },
    {
      "cell_type": "markdown",
      "source": [
        "# 타입 변환하기"
      ],
      "metadata": {
        "id": "ttiA3J7bP8o5"
      }
    },
    {
      "cell_type": "code",
      "source": [
        "df[\"age\"] = df[\"age\"].astype(\"int32\")\n",
        "df[\"age\"]"
      ],
      "metadata": {
        "colab": {
          "base_uri": "https://localhost:8080/"
        },
        "id": "t7EMjFwhIn-n",
        "outputId": "651a7808-40dc-4614-e17b-cd119095312f"
      },
      "execution_count": null,
      "outputs": [
        {
          "output_type": "execute_result",
          "data": {
            "text/plain": [
              "0       22\n",
              "1       38\n",
              "2       26\n",
              "3       35\n",
              "4       35\n",
              "        ..\n",
              "1304    28\n",
              "1305    39\n",
              "1306    38\n",
              "1307    28\n",
              "1308    28\n",
              "Name: age, Length: 1309, dtype: int32"
            ]
          },
          "metadata": {},
          "execution_count": 25
        }
      ]
    },
    {
      "cell_type": "code",
      "source": [
        "df[\"embarked\"].astype(\"category\") # 메모리를 많이 차지할땐 타입을 변환시켜 메모리를 줄여줄수있다."
      ],
      "metadata": {
        "id": "Iz9SxW7qIoDB"
      },
      "execution_count": null,
      "outputs": []
    },
    {
      "cell_type": "markdown",
      "source": [
        "# 문자열다루기\n",
        "- objecct 타입의 하위 속성인 `str` 을 이용하여 다양한 문자열 관련 메소드를 사용할수 있다.\n"
      ],
      "metadata": {
        "id": "bX-qmHSFIoHi"
      }
    },
    {
      "cell_type": "code",
      "source": [
        "df.head()"
      ],
      "metadata": {
        "id": "9VM_OSr3IoMN"
      },
      "execution_count": null,
      "outputs": []
    },
    {
      "cell_type": "code",
      "source": [
        "df[\"ticket\"].str.strip() #앞뒤 공백제거, lstrip, rstirp"
      ],
      "metadata": {
        "id": "X6k7cnerIoRe"
      },
      "execution_count": null,
      "outputs": []
    },
    {
      "cell_type": "code",
      "source": [
        "df[\"ticket\"].str.replace(\"/\",\"_\") # regex = True <= 정규표현식 옵션"
      ],
      "metadata": {
        "id": "pdIt2-_TIoVf"
      },
      "execution_count": null,
      "outputs": []
    },
    {
      "cell_type": "code",
      "source": [
        "df[\"ticket\"].str.split() # 리스트로바뀜"
      ],
      "metadata": {
        "id": "RwY7R07wIoaR"
      },
      "execution_count": null,
      "outputs": []
    },
    {
      "cell_type": "code",
      "source": [
        "df[\"name\"].str.split(\",\",expand=True) # 데이터프레임 형태로 반환"
      ],
      "metadata": {
        "id": "Em7VPFWtIofD"
      },
      "execution_count": null,
      "outputs": []
    },
    {
      "cell_type": "code",
      "source": [
        "df[\"name\"].str.len() # 문자열 길이 측정"
      ],
      "metadata": {
        "id": "vhswFMi6Iojr"
      },
      "execution_count": null,
      "outputs": []
    },
    {
      "cell_type": "code",
      "source": [
        "df[\"name\"].str[::-1]"
      ],
      "metadata": {
        "id": "OVZrPENeIon1"
      },
      "execution_count": null,
      "outputs": []
    },
    {
      "cell_type": "code",
      "source": [
        "df[\"name\"]"
      ],
      "metadata": {
        "id": "ffhXP-DdSYEC"
      },
      "execution_count": null,
      "outputs": []
    },
    {
      "cell_type": "code",
      "source": [
        "df[\"name\"].str.lower() # upper <== 대문자   , 자연어 처리할때 주로 소문자로 바꿔서 처리"
      ],
      "metadata": {
        "id": "BahfAa-ESFSI"
      },
      "execution_count": null,
      "outputs": []
    },
    {
      "cell_type": "code",
      "source": [
        "df[\"gender\"].str.startswith(\"fe\")"
      ],
      "metadata": {
        "id": "PdEfm_aOSVb4"
      },
      "execution_count": null,
      "outputs": []
    },
    {
      "cell_type": "code",
      "source": [
        "df[\"name\"].str.contains(\"Mrs.\") #문자열 포함 여부"
      ],
      "metadata": {
        "id": "EkQIrZ6jS8XY"
      },
      "execution_count": null,
      "outputs": []
    },
    {
      "cell_type": "markdown",
      "source": [
        "# 피벗 테이블 사용해보기\n",
        "- `pd.pivot_table`\n",
        "- 데이터를 기준이 되는 컬럼을 집계하여 새롭게 표현대로 작성해주는 기능\n",
        "- index: 행으로 사용할 컬럼이름\n",
        "- columns: 열로 사용할 컬럼이름\n",
        "- values : 집계 대상 컬럼\n",
        "- aggfunc : values 에 대한 집계함수\n",
        "    - std, var, mean, count, sum 등등\n",
        "- fill_value: NaN에 대해 채울 값 \n",
        "\n",
        "group by 컬럼1 컬럼2 <컬럼1 : index 컬럼2 : columns>"
      ],
      "metadata": {
        "id": "4M6ELJzQrXbV"
      }
    },
    {
      "cell_type": "code",
      "source": [
        "df[\"age2\"] = df[\"age\"] // 10\n",
        "df"
      ],
      "metadata": {
        "id": "GmdCdydoFC2w"
      },
      "execution_count": null,
      "outputs": []
    },
    {
      "cell_type": "markdown",
      "source": [
        "- 나이대별 운임료의 평균을 알고 싶다면?\n",
        "    - `group by age2`"
      ],
      "metadata": {
        "id": "86HY0gzBGa_2"
      }
    },
    {
      "cell_type": "code",
      "source": [
        "tmp = pd.pivot_table(\n",
        "    df, # 대상이 되는 데이터프레임\n",
        "    index = \"age2\",\n",
        "    values = \"fare\",\n",
        "    aggfunc = \"mean\" # np.mean도 가능\n",
        ")\n",
        "tmp   # 표에 나온 age2는 컬럼이 아니라 인덱스 이름이다."
      ],
      "metadata": {
        "id": "7C-6mYx4Gv-s"
      },
      "execution_count": null,
      "outputs": []
    },
    {
      "cell_type": "code",
      "source": [
        "tmp.reset_index() # 인덱스를 컬럼으로 사용할려고 함 새로운 인덱스가 생기면서 age2가 밀려나면서 컬럼이 됨 "
      ],
      "metadata": {
        "id": "AGJu8dAVHHQt"
      },
      "execution_count": null,
      "outputs": []
    },
    {
      "cell_type": "markdown",
      "source": [
        "- 각 나이대에서 pclass 별로 생존률을 알고 싶다면?\n",
        "    - group by age2, pclass 와 비슷한 효과"
      ],
      "metadata": {
        "id": "ADeZLWdnHjfl"
      }
    },
    {
      "cell_type": "code",
      "source": [
        "tmp = pd.pivot_table(\n",
        "    df,\n",
        "    index = \"age2\",\n",
        "    columns = \"pclass\",\n",
        "    values =\"survived\",\n",
        "    aggfunc =\"mean\",\n",
        "    # fill_value = 0 # 결측치 채우기\n",
        ")\n",
        "tmp # 컬럼은 1 2 3 "
      ],
      "metadata": {
        "id": "r6KTc7j1IBj_"
      },
      "execution_count": null,
      "outputs": []
    },
    {
      "cell_type": "code",
      "source": [
        "tmp.reset_index() # age2 가 밀려서 컬럼이 됨"
      ],
      "metadata": {
        "id": "YI3dUTeiIo3r"
      },
      "execution_count": null,
      "outputs": []
    },
    {
      "cell_type": "markdown",
      "source": [
        "- 각 나이대에 대하여 pclass 별 운임료에 대한 표준편차와 평균을 보고싶다면?"
      ],
      "metadata": {
        "id": "ksrxSZ04I4lw"
      }
    },
    {
      "cell_type": "code",
      "source": [
        "tmp = pd.pivot_table(\n",
        "    df, \n",
        "    index =\"age2\",\n",
        "    columns = \"pclass\",\n",
        "    values = \"fare\",\n",
        "    aggfunc = [\"std\",\"mean\"]\n",
        ")\n",
        "tmp # 멀티컬럼으로 되어있음"
      ],
      "metadata": {
        "id": "bulpVJQ7Js5H"
      },
      "execution_count": null,
      "outputs": []
    },
    {
      "cell_type": "code",
      "source": [
        "# 강사님 정답\n",
        "# tmp.columns = [ f\"{s1}_{s2}\"for s1,s2 in tmp.columns]\n",
        "# tmp"
      ],
      "metadata": {
        "id": "i0e4NdawSxWI"
      },
      "execution_count": null,
      "outputs": []
    },
    {
      "cell_type": "code",
      "source": [
        "tmp_cols = []\n",
        "for i,v in tmp.columns:\n",
        "    a = f\"{i}_{v}\"\n",
        "    tmp_cols.append(a)\n",
        "tmp_cols"
      ],
      "metadata": {
        "id": "ptSOvZ5wKB5h"
      },
      "execution_count": null,
      "outputs": []
    },
    {
      "cell_type": "code",
      "source": [
        "tmp.columns = tmp_cols"
      ],
      "metadata": {
        "id": "NsiGYmVBOEPt"
      },
      "execution_count": null,
      "outputs": []
    },
    {
      "cell_type": "code",
      "source": [
        "tmp.reset_index() #데이터는 소중하니까 innerjoin 안하고 leftjoin"
      ],
      "metadata": {
        "id": "2taBmj3dPWVF"
      },
      "execution_count": null,
      "outputs": []
    },
    {
      "cell_type": "markdown",
      "source": [
        "- 나이대별 pclass의 최빈값을 피봇테이블로 만들어보세요"
      ],
      "metadata": {
        "id": "uqGJdYVgToN8"
      }
    },
    {
      "cell_type": "code",
      "source": [
        "tmp = pd.pivot_table(\n",
        "    df, \n",
        "    index =\"age2\",\n",
        "    values = \"pclass\",\n",
        "    aggfunc = lambda x : x.mode() # 콜백함수 시리즈로 넘어옴 def do _agg(x): return x.mode() dhkrkxdma\n",
        ")\n",
        "tmp"
      ],
      "metadata": {
        "id": "HwhMED4QUMjX"
      },
      "execution_count": null,
      "outputs": []
    },
    {
      "cell_type": "markdown",
      "source": [
        "# `groupby` 메소드 사용하기\n",
        "- 데이터를 그룹화하여 집계해서 가공하는데 매우 중요하다.\n",
        "\n",
        "```python\n",
        "DataFrame.groupby(<그룹핑대상이되는컬럼>)[\"집계대상이되는컬럼\"].<집계메소드>()\n",
        "```\n",
        "- 그룹핑 대상이 되는 컬럼: 문자열 혹은 리스트로 전달"
      ],
      "metadata": {
        "id": "312rENL0UXHt"
      }
    },
    {
      "cell_type": "code",
      "source": [
        "df.head()"
      ],
      "metadata": {
        "id": "ke9kwjsIXkYa"
      },
      "execution_count": null,
      "outputs": []
    },
    {
      "cell_type": "markdown",
      "source": [
        "- 항구별 생존률"
      ],
      "metadata": {
        "id": "GDPzV2a8Xke0"
      }
    },
    {
      "cell_type": "code",
      "source": [
        "df.groupby(\"embarked\")[\"survived\"].mean() # 시리즈형태로 반환"
      ],
      "metadata": {
        "id": "OVFy7WtBXkld"
      },
      "execution_count": null,
      "outputs": []
    },
    {
      "cell_type": "code",
      "source": [
        "tmp = df.groupby(\"embarked\")[\"fare\"].std()\n",
        "tmp.reset_index()"
      ],
      "metadata": {
        "id": "sVBnLDeLXkqb"
      },
      "execution_count": null,
      "outputs": []
    },
    {
      "cell_type": "markdown",
      "source": [
        "- `agg` 메소드를 이용한 방법"
      ],
      "metadata": {
        "id": "1myJTsUQXkux"
      }
    },
    {
      "cell_type": "code",
      "source": [
        "df.groupby(\"age2\")[\"fare\"].agg(\"mean\").reset_index()"
      ],
      "metadata": {
        "id": "2kYWF99WXkzt"
      },
      "execution_count": null,
      "outputs": []
    },
    {
      "cell_type": "markdown",
      "source": [
        "- groupby 결과에 대한 딕셔너리를 이용하여 집계하는 예시\n",
        "```python\n",
        "DataFrame.groupby(<그루핑대상컬럼>).agg(<딕셔너리>)\n",
        "```\n",
        "- 딕셔너리 예시\n",
        "```python\n",
        "{\n",
        "    \"집계대상컬럼\": <함수 or 문자열>\n",
        "}\n",
        "```"
      ],
      "metadata": {
        "id": "lwDDbxpjXk4D"
      }
    },
    {
      "cell_type": "markdown",
      "source": [
        "- 나이대별 운임료에 대한 평균\n",
        "(딕셔너리 이용)"
      ],
      "metadata": {
        "id": "5gJtv2vbXk8H"
      }
    },
    {
      "cell_type": "code",
      "source": [
        "agg_dict = {\"fare\":\"mean\"}\n",
        "df.groupby(\"age2\").agg(agg_dict).reset_index()"
      ],
      "metadata": {
        "id": "vA2KtwOmXlA2"
      },
      "execution_count": null,
      "outputs": []
    },
    {
      "cell_type": "markdown",
      "source": [
        "- 각 나이대에 대하여 pclass 별 생존률을 보고싶다면?"
      ],
      "metadata": {
        "id": "DLbSSgkJXlFU"
      }
    },
    {
      "cell_type": "code",
      "source": [
        "cols = [\"age2\",\"pclass\"]\n",
        "agg_dict = {\"survived\":\"mean\"}\n",
        "tmp = df.groupby(cols).agg(agg_dict)\n",
        "tmp.reset_index() # 조인을 하기위해서 함"
      ],
      "metadata": {
        "id": "iBW_N17UXlJn"
      },
      "execution_count": null,
      "outputs": []
    },
    {
      "cell_type": "markdown",
      "source": [
        "- 여러 컬럼에 대한 집계"
      ],
      "metadata": {
        "id": "6YaCvJUKXlNz"
      }
    },
    {
      "cell_type": "code",
      "source": [
        "# 나이대별 생존률과 객실의 고유값개수 (다양성)\n",
        "agg_dict = {\"survived\":\"mean\", \"cabin\" : \"nunique\"}\n",
        "tmp  = df.groupby(\"age2\").agg(agg_dict)\n",
        "tmp"
      ],
      "metadata": {
        "id": "dQLIRn19XlSP"
      },
      "execution_count": null,
      "outputs": []
    },
    {
      "cell_type": "code",
      "source": [
        "tmp.reset_index()"
      ],
      "metadata": {
        "id": "wCxkoyouXlWo"
      },
      "execution_count": null,
      "outputs": []
    },
    {
      "cell_type": "markdown",
      "source": [
        "- 집계 대상 컬럼안에서 다양하게 집계하기"
      ],
      "metadata": {
        "id": "NugQ_lUKXlaz"
      }
    },
    {
      "cell_type": "code",
      "source": [
        "#항구별 운임료의 표준편차와 평균, 객실의 다양성과 객실의 최빈값\n",
        "agg_dict = {\n",
        "    \"fare\" : [\"std\",\"mean\"],\n",
        "    \"cabin\" : [\"nunique\",lambda x :x.mode()]\n",
        "}\n",
        "tmp = df.groupby(\"embarked\").agg(agg_dict)\n",
        "tmp"
      ],
      "metadata": {
        "id": "FJmk8jcBXliz"
      },
      "execution_count": null,
      "outputs": []
    },
    {
      "cell_type": "markdown",
      "source": [
        "- 집계 컬럼명 정의해주기"
      ],
      "metadata": {
        "id": "R_ghQBenhqVp"
      }
    },
    {
      "cell_type": "code",
      "source": [
        "agg_dict = {\n",
        "    \"fare\" : [\n",
        "        (\"운임료_표준편차\",\"std\"),\n",
        "        (\"운임료_평균\",\"mean\")\n",
        "        ],\n",
        "    \"cabin\" : [\n",
        "        (\"객실_다양성\",\"nunique\"),\n",
        "        (\"객실_최빈값\",lambda x :x.mode())\n",
        "        ]\n",
        "}\n",
        "tmp = df.groupby(\"embarked\").agg(agg_dict)\n",
        "tmp"
      ],
      "metadata": {
        "id": "7fzJbdw3hcCF"
      },
      "execution_count": null,
      "outputs": []
    },
    {
      "cell_type": "code",
      "source": [
        "tmp.columns = tmp.columns.droplevel()\n",
        "tmp"
      ],
      "metadata": {
        "id": "qsE3clXbiWbZ"
      },
      "execution_count": null,
      "outputs": []
    },
    {
      "cell_type": "code",
      "source": [
        "tmp.reset_index()"
      ],
      "metadata": {
        "id": "yI1JH2Quiwho"
      },
      "execution_count": null,
      "outputs": []
    },
    {
      "cell_type": "code",
      "source": [
        "agg_dict ={\n",
        "    \"survived\" : [\n",
        "        (\"생존률\",\"mean\")\n",
        "    ],\n",
        "    \"embarked\" : [\n",
        "        (\"항구_최빈값\",lambda x:x.mode()),\n",
        "        (\"항구_다양성\",\"nunique\")\n",
        "    ]\n",
        "}\n",
        "tmp = df.groupby(\"gender\").agg(agg_dict)\n",
        "tmp"
      ],
      "metadata": {
        "id": "vGf4C_tnjJdc"
      },
      "execution_count": null,
      "outputs": []
    },
    {
      "cell_type": "code",
      "source": [
        "tmp.columns = tmp.columns.droplevel()\n",
        "tmp"
      ],
      "metadata": {
        "id": "NWQoblZXknm4"
      },
      "execution_count": null,
      "outputs": []
    },
    {
      "cell_type": "code",
      "source": [
        "tmp.reset_index()"
      ],
      "metadata": {
        "id": "bviDjv28ktId"
      },
      "execution_count": null,
      "outputs": []
    },
    {
      "cell_type": "code",
      "source": [
        "agg_dict={\n",
        "    \"survived\":[\n",
        "        (\"생존률\",\"mean\")\n",
        "    ]\n",
        "}\n",
        "tmp = df.groupby(\"pclass\").agg(agg_dict)"
      ],
      "metadata": {
        "id": "L4I_gn1Ck5hZ"
      },
      "execution_count": null,
      "outputs": []
    },
    {
      "cell_type": "markdown",
      "source": [
        "#  데이터 프레임 병합하기"
      ],
      "metadata": {
        "id": "OuBwwWn-lH_V"
      }
    },
    {
      "cell_type": "markdown",
      "source": [
        "- concat\n",
        "    - 수직 또는 수평으로 병합\n",
        "    - `pd.concat` 함수에 데이터프레임 객체들을 리스트에 담아서 전달"
      ],
      "metadata": {
        "id": "1XuJLkL5lZCs"
      }
    },
    {
      "cell_type": "code",
      "source": [
        "pd.concat([df,df]) # axis = 0"
      ],
      "metadata": {
        "id": "1_wmcPadljCm"
      },
      "execution_count": null,
      "outputs": []
    },
    {
      "cell_type": "code",
      "source": [
        "pd.concat([df,df],axis=1)"
      ],
      "metadata": {
        "id": "bnXm2JWAllzm"
      },
      "execution_count": null,
      "outputs": []
    },
    {
      "cell_type": "markdown",
      "source": [
        "- merge\n",
        "    - 매우 자주 사용된다.\n",
        "    - how 기본값은 inner(교집합)이다.\n",
        "\n",
        "\n",
        "```python\n",
        "pd.merge(<left df>,<right df>,on=\"기준컬럼\",how=\"left\")\n",
        "```"
      ],
      "metadata": {
        "id": "jbJO2jrXmCCp"
      }
    },
    {
      "cell_type": "code",
      "source": [
        "features = df.copy()\n",
        "features.head()"
      ],
      "metadata": {
        "id": "lRyDfzuQmhIU"
      },
      "execution_count": null,
      "outputs": []
    },
    {
      "cell_type": "markdown",
      "source": [
        "- cabin 의 등장 빈도수를 특성으로 추가하고 싶다면?"
      ],
      "metadata": {
        "id": "emVUSM4lmvTv"
      }
    },
    {
      "cell_type": "code",
      "source": [
        "tmp = df[\"cabin\"].value_counts().reset_index()\n",
        "tmp.columns = [\"cabin\",\"cabin_cnt\"]\n",
        "tmp"
      ],
      "metadata": {
        "id": "dsXkF-fZmzUl"
      },
      "execution_count": null,
      "outputs": []
    },
    {
      "cell_type": "code",
      "source": [
        "# features = features.iloc[:,:11] # 머지가 중복됬을때 슬라이싱 방법으로도 할수 있따.\n",
        "# features"
      ],
      "metadata": {
        "id": "_Wvw0Z7Hq6gx"
      },
      "execution_count": null,
      "outputs": []
    },
    {
      "cell_type": "code",
      "source": [
        "features = pd.merge(features,tmp,how=\"left\",on=\"cabin\")  # on 생략시 동일한 널럼을 기준으로 머지한다.\n",
        "features.head()"
      ],
      "metadata": {
        "id": "UC8RrmwCnRsN"
      },
      "execution_count": null,
      "outputs": []
    },
    {
      "cell_type": "markdown",
      "source": [
        "- 머지되는 기준 컬럼이 다수인 경우"
      ],
      "metadata": {
        "id": "PsY4UpL_nv2R"
      }
    },
    {
      "cell_type": "code",
      "source": [
        "# 각 항구에 대하여 pclass 별 운임료의 평균과 티켓의 다양성을 집계 한 결과를 특성으로 추가\n",
        "\n",
        "agg_dict = {\n",
        "    \"fare\" : \"mean\", # 운임료의 평균\n",
        "    \"ticket\": \"nunique\" # 티켓의 다양성\n",
        "}\n",
        "tmp = df.groupby([\"embarked\",\"pclass\"]).agg(agg_dict)\n",
        "tmp =tmp.add_prefix(\"feature_\").reset_index()\n",
        "tmp"
      ],
      "metadata": {
        "id": "g8oxDifPoCMJ"
      },
      "execution_count": null,
      "outputs": []
    },
    {
      "cell_type": "code",
      "source": [
        "features = pd.merge(features,tmp,how=\"left\",on=[\"embarked\",\"pclass\"])\n",
        "features.head()"
      ],
      "metadata": {
        "id": "x0HpTT86r1aA"
      },
      "execution_count": null,
      "outputs": []
    },
    {
      "cell_type": "markdown",
      "source": [
        "# apply 메소드\n",
        "- Series , DataFrame 에 대한 단순한 집계가 아닌 구체적인 로직을 적용하고 싶을때 사용\n",
        "- 각 데이터에 대해 조건 검사등 과 같은 복잡한 처리 가능\n",
        "- `apply` 메소드 우리가 정의한 함수를 넣어주면 된다.\n"
      ],
      "metadata": {
        "id": "fiBvkT3htrGo"
      }
    },
    {
      "cell_type": "markdown",
      "source": [
        "- 항구별 가족수(sibsp+parch)의 합계의 평균을 구하고 싶다면?\n",
        "    - agg 메소드로는 안된다. agg 메소드는 각컬럼에 대해서만 집계가 가능하다."
      ],
      "metadata": {
        "id": "mtI-oComuT80"
      }
    },
    {
      "cell_type": "code",
      "source": [
        "def do_apply(x):\n",
        "    return (x[\"sibsp\"] + x[\"parch\"]).mean()\n",
        "df.groupby(\"embarked\").apply(do_apply)"
      ],
      "metadata": {
        "id": "q9EoIBDPuuti"
      },
      "execution_count": null,
      "outputs": []
    },
    {
      "cell_type": "markdown",
      "source": [
        "- apply 경우 apply 의 대상이 되는 데이터의 구조에 따라 다르게 처리하거나 축개념이 있다."
      ],
      "metadata": {
        "id": "bJ6BBHufvOc9"
      }
    },
    {
      "cell_type": "markdown",
      "source": [
        "- seires에 대한 apply\n",
        "    - 축개념이 없고 한 행씩 처리한다.\n",
        "    "
      ],
      "metadata": {
        "id": "JZ4nwuQWvqH5"
      }
    },
    {
      "cell_type": "code",
      "source": [
        "df[\"gender\"].apply(lambda x : 1 if x == \"male\" else 0)"
      ],
      "metadata": {
        "id": "KVH5CNxMv2W6"
      },
      "execution_count": null,
      "outputs": []
    },
    {
      "cell_type": "markdown",
      "source": [
        "- DataFrame에 대한 apply \n",
        "    - 축개념이 있다.\n",
        "    - `axis = 0` : 행방향, 컬럼단위로 처리, 기본값\n",
        "    - `axis = 1` : 열방향, 행단위로 처리"
      ],
      "metadata": {
        "id": "HFIC5ywbwEfR"
      }
    },
    {
      "cell_type": "code",
      "source": [
        "def do_apply(x):\n",
        "    print(x.shape)\n",
        "    return x\n",
        "tmp = df.apply(do_apply) # 컬럼단위"
      ],
      "metadata": {
        "id": "4QXvmIf_wIEI"
      },
      "execution_count": null,
      "outputs": []
    },
    {
      "cell_type": "code",
      "source": [
        "tmp"
      ],
      "metadata": {
        "id": "caFTb8x0wII5"
      },
      "execution_count": null,
      "outputs": []
    },
    {
      "cell_type": "code",
      "source": [
        "df2 = df.iloc[:5]\n",
        "df2"
      ],
      "metadata": {
        "id": "1hj7DEz8xllG"
      },
      "execution_count": null,
      "outputs": []
    },
    {
      "cell_type": "code",
      "source": [
        "def dp_apply(x):\n",
        "    print(x.shape)\n",
        "    return x\n",
        "tmp = df2.apply(do_apply,axis =1 )"
      ],
      "metadata": {
        "id": "pfpyJsAawIPQ"
      },
      "execution_count": null,
      "outputs": []
    },
    {
      "cell_type": "code",
      "source": [
        "df2.iloc[0].shape"
      ],
      "metadata": {
        "id": "-X4jplR6wIUL"
      },
      "execution_count": null,
      "outputs": []
    },
    {
      "cell_type": "markdown",
      "source": [
        "- groupby 에 대한 apply\n",
        "    - 데이터프레임이 넘어간다."
      ],
      "metadata": {
        "id": "25SEZ9PBwIZT"
      }
    },
    {
      "cell_type": "code",
      "source": [
        "def do_apply(x):\n",
        "    display(x)\n",
        "    print(\"=\"*50) # 구분선\n",
        "    return x\n",
        "tmp = df.groupby(\"embarked\").apply(do_apply)"
      ],
      "metadata": {
        "id": "7XbCh2C8wIfE"
      },
      "execution_count": null,
      "outputs": []
    },
    {
      "cell_type": "markdown",
      "source": [
        "- 아규먼트 전달 예시\n"
      ],
      "metadata": {
        "id": "dWjK6HK5yXAq"
      }
    },
    {
      "cell_type": "code",
      "source": [
        "age_mean = df[\"age\"].mean()\n",
        "age_mean"
      ],
      "metadata": {
        "id": "j4u08W-QzETc"
      },
      "execution_count": null,
      "outputs": []
    },
    {
      "cell_type": "code",
      "source": [
        "def do_apply(x,age_mean):\n",
        "    # 항구별 평균나이와 전체 평균나이의 차이를 집계 \n",
        "    return x[\"age\"].mean() - age_mean\n",
        "# apply에 대한 콜백함수에 대해 추가 아규먼트를 전달하고 싶다면 \n",
        "# 키워드 아규먼트 전달방식으로 하면 된다.\n",
        "df.groupby(\"embarked\").apply(do_apply,age_mean = age_mean)"
      ],
      "metadata": {
        "id": "_ar1RVthzIZd"
      },
      "execution_count": null,
      "outputs": []
    },
    {
      "cell_type": "markdown",
      "source": [
        "# pandas 에서 progress bar 사용하기"
      ],
      "metadata": {
        "id": "lEqYlXaB0MbQ"
      }
    },
    {
      "cell_type": "code",
      "source": [
        "from tqdm.auto import tqdm"
      ],
      "metadata": {
        "id": "N9w785GK0SHN"
      },
      "execution_count": null,
      "outputs": []
    },
    {
      "cell_type": "code",
      "source": [
        "tqdm.pandas() # 판다스에서 progress_apply 메소드를 사용할 수 있게 된다."
      ],
      "metadata": {
        "id": "ezyXfolq0Y1R"
      },
      "execution_count": null,
      "outputs": []
    },
    {
      "cell_type": "code",
      "source": [
        "import time\n",
        "def do_apply(x):\n",
        "    time.sleep(0.01)\n",
        "    return x\n",
        "tmp = df.progress_apply(do_apply,axis = 1)"
      ],
      "metadata": {
        "id": "d0V4Vefn0uCZ"
      },
      "execution_count": null,
      "outputs": []
    },
    {
      "cell_type": "markdown",
      "source": [
        "# 백화점 구매기록 데이터"
      ],
      "metadata": {
        "id": "7aDlg0_R1FIe"
      }
    },
    {
      "cell_type": "code",
      "source": [
        "DATA_PATH"
      ],
      "metadata": {
        "id": "puu7ldjuXd4G"
      },
      "execution_count": null,
      "outputs": []
    },
    {
      "cell_type": "code",
      "source": [
        "df = pd.read_csv(f\"{DATA_PATH}trans_train.csv\")\n",
        "df.tail(50)"
      ],
      "metadata": {
        "id": "MHacq_amXaVY"
      },
      "execution_count": null,
      "outputs": []
    },
    {
      "cell_type": "code",
      "source": [
        "df.info()"
      ],
      "metadata": {
        "id": "xlAk3OcYZQbm"
      },
      "execution_count": null,
      "outputs": []
    },
    {
      "cell_type": "code",
      "source": [
        "df.head()"
      ],
      "metadata": {
        "id": "Ee8n2FnbZ1zI"
      },
      "execution_count": null,
      "outputs": []
    },
    {
      "cell_type": "code",
      "source": [
        "df[\"지점\"].isin([\"본  점\"])"
      ],
      "metadata": {
        "id": "-OGUHHhQaL-V"
      },
      "execution_count": null,
      "outputs": []
    },
    {
      "cell_type": "code",
      "source": [
        "df.iloc[2,2]"
      ],
      "metadata": {
        "id": "FUifkgzGac5M"
      },
      "execution_count": null,
      "outputs": []
    },
    {
      "cell_type": "markdown",
      "source": [
        "# datatime 으로 변환하기\n",
        "- `pd.to_datetime` 함수\n",
        "- 날짜형 자료형으로 변환하였을 경우 이점\n",
        "    - 년, 월, 일, 시간 등등 datetime 관련 정보를 쉽게 추출할 수 있다.\n",
        "    - datetime 자료형의 dt 라는 하위 속성을 이용하여 필요한 날짜관련 정보를 쉽게 가져올 수 있다."
      ],
      "metadata": {
        "id": "3aY8Uh07af4X"
      }
    },
    {
      "cell_type": "code",
      "source": [
        "df[\"구매일자\"] = pd.to_datetime(df[\"구매일자\"])\n",
        "df[\"구매일자\"]"
      ],
      "metadata": {
        "id": "2KRffQXdayf6"
      },
      "execution_count": null,
      "outputs": []
    },
    {
      "cell_type": "code",
      "source": [
        "df[\"구매일자\"].dt.year # 연도"
      ],
      "metadata": {
        "id": "oDDfA63sbiq2"
      },
      "execution_count": null,
      "outputs": []
    },
    {
      "cell_type": "code",
      "source": [
        "df[\"구매일자\"].dt.month # 월"
      ],
      "metadata": {
        "id": "H4EQo6rZb8IS"
      },
      "execution_count": null,
      "outputs": []
    },
    {
      "cell_type": "code",
      "source": [
        "df[\"구매일자\"].dt.quarter # 분기"
      ],
      "metadata": {
        "id": "-yYGiUkncF_2"
      },
      "execution_count": null,
      "outputs": []
    },
    {
      "cell_type": "code",
      "source": [
        "df[\"구매일자\"].dt.weekday # 요일 : 0~6 (월요일 ~일요일)"
      ],
      "metadata": {
        "id": "Sc2rnr9vcVsT"
      },
      "execution_count": null,
      "outputs": []
    },
    {
      "cell_type": "code",
      "source": [
        "df[\"구매일자\"].dt.dayofyear # 연기준 몇일째인지.."
      ],
      "metadata": {
        "id": "JEHJ3PUXcfNR"
      },
      "execution_count": null,
      "outputs": []
    },
    {
      "cell_type": "markdown",
      "source": [
        "# 문제"
      ],
      "metadata": {
        "id": "u1uhzsL5qsjO"
      }
    },
    {
      "cell_type": "markdown",
      "source": [
        "```\n",
        "지점 컬럼에서 \"본  점\"사이에 띄어쓰기 두칸을 한칸으로 변경하시오.\n",
        "```"
      ],
      "metadata": {
        "id": "8phIpDpYc2Gf"
      }
    },
    {
      "cell_type": "code",
      "source": [
        "df[\"지점\"] = df[\"지점\"].str.replace(\"본  점\",\"본 점\")\n",
        "df[\"지점\"]"
      ],
      "metadata": {
        "id": "6Q2zwR8MdnWm"
      },
      "execution_count": null,
      "outputs": []
    },
    {
      "cell_type": "markdown",
      "source": [
        "```\n",
        "pivot_table 함수를 이용하여 고객별 구매가격의 평균값을 확인하시오.\n",
        "```"
      ],
      "metadata": {
        "id": "oMtFOeZ8dMAx"
      }
    },
    {
      "cell_type": "code",
      "source": [
        "tmp = pd.pivot_table(\n",
        "    df,\n",
        "    index = \"고객번호\",\n",
        "    values = \"구매가격\",\n",
        "    aggfunc = \"mean\"\n",
        ")\n",
        "tmp.reset_index()"
      ],
      "metadata": {
        "id": "hDCToe5RdTcv"
      },
      "execution_count": null,
      "outputs": []
    },
    {
      "cell_type": "markdown",
      "source": [
        "```\n",
        "pivot_table 함수를 이용하여 각 고객에 대하여 대분류별로 구매가격의 표준편차를 확인하시오.\n",
        "```"
      ],
      "metadata": {
        "id": "1eD7V0F-fOn7"
      }
    },
    {
      "cell_type": "code",
      "source": [
        "tmp = pd.pivot_table(\n",
        "    df,\n",
        "    index = \"고객번호\",\n",
        "    columns = \"대분류\",\n",
        "    values = \"구매가격\",\n",
        "    aggfunc = \"std\"\n",
        ")\n",
        "tmp.reset_index()"
      ],
      "metadata": {
        "id": "yrJst8CqfoBw"
      },
      "execution_count": null,
      "outputs": []
    },
    {
      "cell_type": "markdown",
      "source": [
        "```\n",
        "- 고유한 고객번호로만 이루어진 데이터프레임을 만들어 features 변수에 넣으시오.\n",
        "- 컬럼명은 고객번호로 하시오.\n",
        "- 컬럼이 고객번호만 있는 데이터프레임을 만들라는 의미\n",
        "- 중복 고객 번호가 있으면 안된다.\n",
        "```"
      ],
      "metadata": {
        "id": "EIQhpLnZf_a2"
      }
    },
    {
      "cell_type": "code",
      "source": [
        "data = {\n",
        "    \"고객번호\":df[\"고객번호\"].unique()\n",
        "}\n",
        "features = pd.DataFrame(data)\n",
        "features\n",
        "\n",
        "# pd.DataFrame(df[\"고객번호\"].unique(),columns=[\"고객번호\"])"
      ],
      "metadata": {
        "id": "P01OjPP_mGum"
      },
      "execution_count": null,
      "outputs": []
    },
    {
      "cell_type": "markdown",
      "source": [
        "```\n",
        "groupby 메소드를 이용하여 고객별로 구매가격의 평균을 구하고 \n",
        "데이터프레임 형식으로 정돈하여 구매가격의 컬럼명을 변경하여\n",
        "features 변수의 데이터프레임과 left merge 하시오.\n",
        "```"
      ],
      "metadata": {
        "id": "l0eUOeiZjvxQ"
      }
    },
    {
      "cell_type": "code",
      "source": [
        "agg_dict = {\n",
        "    \"구매가격\": [(\"구매가격_평균\",\"mean\")]\n",
        "}\n",
        "tmp = df.groupby(\"고객번호\").agg(agg_dict)\n",
        "tmp.columns = tmp.columns.droplevel()\n",
        "tmp.reset_index()"
      ],
      "metadata": {
        "id": "lif0fZQUj4bO"
      },
      "execution_count": null,
      "outputs": []
    },
    {
      "cell_type": "code",
      "source": [
        "features = pd.merge(features,tmp,how=\"left\",on=\"고객번호\")\n",
        "features\n",
        "# features.merge(tmp,how=\"left\",on=\"고객번호\")"
      ],
      "metadata": {
        "id": "nyFxXoqrpGHn"
      },
      "execution_count": null,
      "outputs": []
    },
    {
      "cell_type": "markdown",
      "source": [
        "```\n",
        "groupby 메소드를 이용하여 고객별로 구매가격의 최대값과 대분류의 고유값개수(다양성)를 데이터프레임 형식으로 정돈하고\n",
        "구매가격과 대분류의 컬럼명을 변경하여\n",
        "features 변수의 데이터프레임과 left merge 하시오.\n",
        "```"
      ],
      "metadata": {
        "id": "WsMe3q28pOkf"
      }
    },
    {
      "cell_type": "code",
      "source": [
        "agg_dict = {\n",
        "    \"구매가격\": [(\"구매가격_최대값\",\"max\")],\n",
        "    \"대분류\" : [(\"대분류_다양성\",\"nunique\")]\n",
        "}\n",
        "tmp = df.groupby(\"고객번호\").agg(agg_dict)\n",
        "tmp.columns = tmp.columns.droplevel()\n",
        "tmp.reset_index()"
      ],
      "metadata": {
        "id": "VCxs9YbWpT7f"
      },
      "execution_count": null,
      "outputs": []
    },
    {
      "cell_type": "code",
      "source": [
        "features = pd.merge(features,tmp,how=\"left\",on=\"고객번호\")\n",
        "features"
      ],
      "metadata": {
        "id": "F6O1-_GBpv-a"
      },
      "execution_count": null,
      "outputs": []
    },
    {
      "cell_type": "markdown",
      "source": [
        "```\n",
        "groupby 메소드를 이용하여 고객별로 구매가격의 최소값과, 총구매액,\n",
        "그리고 지점의 고유값 개수와 최빈값을 구하시오\n",
        "구하는 과정에서 집계 컬럼에 대한 컬럼명도 정의하시오.\n",
        "데이터 프레임 형식으로 정돈하여 \n",
        "features 변수의 데이터프레임과 left merge 하시오.\n",
        "```"
      ],
      "metadata": {
        "id": "I9ROcLlApzoW"
      }
    },
    {
      "cell_type": "code",
      "source": [
        "df[\"구매가격\"][df[\"구매가격\"]>0]"
      ],
      "metadata": {
        "id": "oOXMMNEBMge0"
      },
      "execution_count": null,
      "outputs": []
    },
    {
      "cell_type": "code",
      "source": [
        "agg_dict = {\n",
        "    \"구매가격\": [(\"구매가격_최소값\",lambda x :x[x>0].min()),\n",
        "             (\"구매가격_총구매액\",\"sum\")],\n",
        "    \"지점\" : [(\"지점_다양성\",\"nunique\"),\n",
        "            (\"지점_최빈값\",lambda x : x.mode())]\n",
        "}\n",
        "tmp = df.groupby(\"고객번호\").agg(agg_dict)\n",
        "tmp.columns = tmp.columns.droplevel()\n",
        "tmp.reset_index()"
      ],
      "metadata": {
        "id": "AFo8Pno4p31_"
      },
      "execution_count": null,
      "outputs": []
    },
    {
      "cell_type": "code",
      "source": [
        "features = pd.merge(features,tmp,how=\"left\",on=\"고객번호\")\n",
        "features"
      ],
      "metadata": {
        "id": "vyF9Y85KqooQ"
      },
      "execution_count": null,
      "outputs": []
    }
  ]
}