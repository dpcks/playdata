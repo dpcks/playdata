{
  "nbformat": 4,
  "nbformat_minor": 0,
  "metadata": {
    "colab": {
      "provenance": [],
      "authorship_tag": "ABX9TyPtImATDyd/N6mEiYslzJHK",
      "include_colab_link": true
    },
    "kernelspec": {
      "name": "python3",
      "display_name": "Python 3"
    },
    "language_info": {
      "name": "python"
    }
  },
  "cells": [
    {
      "cell_type": "markdown",
      "metadata": {
        "id": "view-in-github",
        "colab_type": "text"
      },
      "source": [
        "<a href=\"https://colab.research.google.com/github/dpcks/playdata/blob/main/08_%EB%AA%A8%EB%93%88%EA%B3%BC_%ED%8C%A8%ED%82%A4%EC%A7%80.ipynb\" target=\"_parent\"><img src=\"https://colab.research.google.com/assets/colab-badge.svg\" alt=\"Open In Colab\"/></a>"
      ]
    },
    {
      "cell_type": "markdown",
      "source": [
        "# 모듈(Module),패키지(Package)\n",
        "- 모듈: 변수, 함수, 클래스를 모아놓은 `.py` 확장자 파일\n",
        "    - `.py` 파일: 마크다운이나 셀같은 정보는 없고 순수한 파이썬 코드만 존재\n",
        "    - `.ipynb` 파일: 데이터분석가(과학자)들이 파이썬 언어와 데이터로 작업하고 실험할수 있도록 도와주는 interactive 한 개발 환경에서 실행되는 파일\n",
        "- 패키지: 모듈의 기능을 폴더별로 정리한 개념\n",
        "    - 패키지생성: 기능별로 폴더를 정리하는것과 비슷한 개념"
      ],
      "metadata": {
        "id": "vkEkpr-zNUHL"
      }
    },
    {
      "cell_type": "markdown",
      "source": [
        "```python\n",
        "# 모듈 불러오기\n",
        "import <모듈명>\n",
        "\n",
        "# 패키지에서 모듈 불러오기\n",
        "from <패키지명> import <모듈명>\n",
        "\n",
        "# 모듈 안에 함수와 클래스 불러오기\n",
        "from <모듈명> import <함수 or 클래스>\n",
        "\n",
        "# 별칭 주기\n",
        "import <모듈명> as <별칭>\n",
        "```"
      ],
      "metadata": {
        "id": "pEepiZh7PzwH"
      }
    },
    {
      "cell_type": "markdown",
      "source": [
        "# sys,os 모듈 사용해보기"
      ],
      "metadata": {
        "id": "TLkTYX5qQiWU"
      }
    },
    {
      "cell_type": "code",
      "source": [
        "import sys,os"
      ],
      "metadata": {
        "id": "53-Bco6vEJAr"
      },
      "execution_count": null,
      "outputs": []
    },
    {
      "cell_type": "code",
      "source": [
        "sys.path"
      ],
      "metadata": {
        "colab": {
          "base_uri": "https://localhost:8080/"
        },
        "id": "UAIUvkGfEMV0",
        "outputId": "b1f46190-8d40-46c8-860e-5f3fab129de7"
      },
      "execution_count": null,
      "outputs": [
        {
          "output_type": "execute_result",
          "data": {
            "text/plain": [
              "['',\n",
              " '/content',\n",
              " '/env/python',\n",
              " '/usr/lib/python37.zip',\n",
              " '/usr/lib/python3.7',\n",
              " '/usr/lib/python3.7/lib-dynload',\n",
              " '/usr/local/lib/python3.7/dist-packages',\n",
              " '/usr/lib/python3/dist-packages',\n",
              " '/usr/local/lib/python3.7/dist-packages/IPython/extensions',\n",
              " '/root/.ipython']"
            ]
          },
          "metadata": {},
          "execution_count": 2
        }
      ]
    },
    {
      "cell_type": "code",
      "source": [
        "os.getcwd() # = !pwd"
      ],
      "metadata": {
        "colab": {
          "base_uri": "https://localhost:8080/",
          "height": 35
        },
        "id": "MT8e-BnNEOAX",
        "outputId": "eb598d7b-40ff-4654-a0c2-6feb62beaef8"
      },
      "execution_count": null,
      "outputs": [
        {
          "output_type": "execute_result",
          "data": {
            "text/plain": [
              "'/content'"
            ],
            "application/vnd.google.colaboratory.intrinsic+json": {
              "type": "string"
            }
          },
          "metadata": {},
          "execution_count": 3
        }
      ]
    },
    {
      "cell_type": "code",
      "source": [
        "sys.version"
      ],
      "metadata": {
        "colab": {
          "base_uri": "https://localhost:8080/",
          "height": 35
        },
        "id": "esdkg_UZEZog",
        "outputId": "1f134527-89d3-47cf-c1c7-f55c8a476565"
      },
      "execution_count": null,
      "outputs": [
        {
          "output_type": "execute_result",
          "data": {
            "text/plain": [
              "'3.7.13 (default, Apr 24 2022, 01:04:09) \\n[GCC 7.5.0]'"
            ],
            "application/vnd.google.colaboratory.intrinsic+json": {
              "type": "string"
            }
          },
          "metadata": {},
          "execution_count": 5
        }
      ]
    },
    {
      "cell_type": "code",
      "source": [
        "__file__ # 주피터환경에선 지원 X"
      ],
      "metadata": {
        "colab": {
          "base_uri": "https://localhost:8080/",
          "height": 172
        },
        "id": "YbaUZC4XEbNG",
        "outputId": "b4fe36fa-6891-4cee-f14d-59e93a52949b"
      },
      "execution_count": null,
      "outputs": [
        {
          "output_type": "error",
          "ename": "NameError",
          "evalue": "ignored",
          "traceback": [
            "\u001b[0;31m---------------------------------------------------------------------------\u001b[0m",
            "\u001b[0;31mNameError\u001b[0m                                 Traceback (most recent call last)",
            "\u001b[0;32m<ipython-input-7-8e4fa50d990d>\u001b[0m in \u001b[0;36m<module>\u001b[0;34m()\u001b[0m\n\u001b[0;32m----> 1\u001b[0;31m \u001b[0m__file__\u001b[0m \u001b[0;31m# 주피터환경에선 지원 X\u001b[0m\u001b[0;34m\u001b[0m\u001b[0;34m\u001b[0m\u001b[0m\n\u001b[0m",
            "\u001b[0;31mNameError\u001b[0m: name '__file__' is not defined"
          ]
        }
      ]
    },
    {
      "cell_type": "markdown",
      "source": [
        "- cpu 개수 확인하기\n"
      ],
      "metadata": {
        "id": "wp_RxH68Egc6"
      }
    },
    {
      "cell_type": "code",
      "source": [
        "os.cpu_count()"
      ],
      "metadata": {
        "colab": {
          "base_uri": "https://localhost:8080/"
        },
        "id": "If8sXek3EnDI",
        "outputId": "4bb53c5c-b250-42a3-fbfe-5923300378a3"
      },
      "execution_count": null,
      "outputs": [
        {
          "output_type": "execute_result",
          "data": {
            "text/plain": [
              "2"
            ]
          },
          "metadata": {},
          "execution_count": 8
        }
      ]
    },
    {
      "cell_type": "markdown",
      "source": [
        "- 폴더 만들기\n",
        "    - 폴더가 이미 있을 경우 에러가 발생\n",
        "    "
      ],
      "metadata": {
        "id": "SAC2QqDcEpnF"
      }
    },
    {
      "cell_type": "code",
      "source": [
        "os.mkdir(\"data\") # 이미존재하기에 두번이상 실행할경우 에러"
      ],
      "metadata": {
        "colab": {
          "base_uri": "https://localhost:8080/",
          "height": 172
        },
        "id": "kkszLMf6EwBx",
        "outputId": "fb4369a5-c986-4d55-983e-ba869d15dd54"
      },
      "execution_count": null,
      "outputs": [
        {
          "output_type": "error",
          "ename": "FileExistsError",
          "evalue": "ignored",
          "traceback": [
            "\u001b[0;31m---------------------------------------------------------------------------\u001b[0m",
            "\u001b[0;31mFileExistsError\u001b[0m                           Traceback (most recent call last)",
            "\u001b[0;32m<ipython-input-11-984015026b96>\u001b[0m in \u001b[0;36m<module>\u001b[0;34m()\u001b[0m\n\u001b[0;32m----> 1\u001b[0;31m \u001b[0mos\u001b[0m\u001b[0;34m.\u001b[0m\u001b[0mmkdir\u001b[0m\u001b[0;34m(\u001b[0m\u001b[0;34m\"data\"\u001b[0m\u001b[0;34m)\u001b[0m \u001b[0;31m# 이미존재하기에 두번이상 실행할경우 에러\u001b[0m\u001b[0;34m\u001b[0m\u001b[0;34m\u001b[0m\u001b[0m\n\u001b[0m",
            "\u001b[0;31mFileExistsError\u001b[0m: [Errno 17] File exists: 'data'"
          ]
        }
      ]
    },
    {
      "cell_type": "code",
      "source": [
        "os.mkdir(\"/content/data/files\")"
      ],
      "metadata": {
        "id": "LZS7HekXE46F"
      },
      "execution_count": null,
      "outputs": []
    },
    {
      "cell_type": "markdown",
      "source": [
        "- 폴더 또는 파일명 변경하기\n"
      ],
      "metadata": {
        "id": "pF7pkAsEFHej"
      }
    },
    {
      "cell_type": "code",
      "source": [
        "os.rename(\"data\",\"data2\")"
      ],
      "metadata": {
        "id": "Qrhn-VZZFL4a"
      },
      "execution_count": null,
      "outputs": []
    },
    {
      "cell_type": "markdown",
      "source": [
        "- 폴더 삭제하기"
      ],
      "metadata": {
        "id": "q0sBAg4gFP4l"
      }
    },
    {
      "cell_type": "code",
      "source": [
        "os.rmdir(\"data2/files\")"
      ],
      "metadata": {
        "id": "f7yOGqwZFaSr"
      },
      "execution_count": null,
      "outputs": []
    },
    {
      "cell_type": "markdown",
      "source": [
        "- 폴더 존재 여부 확인\n"
      ],
      "metadata": {
        "id": "rcjURPYkFeUD"
      }
    },
    {
      "cell_type": "code",
      "source": [
        "os.path.isdir(\"data1\") , os.path.isdir(\"data2\")"
      ],
      "metadata": {
        "colab": {
          "base_uri": "https://localhost:8080/"
        },
        "id": "XGuHChxqF2ne",
        "outputId": "b70e1c76-5dd4-4bff-f85d-fc42684dfe9e"
      },
      "execution_count": null,
      "outputs": [
        {
          "output_type": "execute_result",
          "data": {
            "text/plain": [
              "(False, True)"
            ]
          },
          "metadata": {},
          "execution_count": 16
        }
      ]
    },
    {
      "cell_type": "markdown",
      "source": [
        "- 파일 존재 여부 확인"
      ],
      "metadata": {
        "id": "G4HBoKURF-UY"
      }
    },
    {
      "cell_type": "code",
      "source": [
        "os.path.isfile(\"demo.py\")"
      ],
      "metadata": {
        "colab": {
          "base_uri": "https://localhost:8080/"
        },
        "id": "zEKDEdrOGZZy",
        "outputId": "b17a46fe-e390-4f15-d040-09a53e024452"
      },
      "execution_count": null,
      "outputs": [
        {
          "output_type": "execute_result",
          "data": {
            "text/plain": [
              "True"
            ]
          },
          "metadata": {},
          "execution_count": 17
        }
      ]
    },
    {
      "cell_type": "markdown",
      "source": [
        "- 파일 및 폴더 존재 여부 확인"
      ],
      "metadata": {
        "id": "-CT-IOXDGcSl"
      }
    },
    {
      "cell_type": "code",
      "source": [
        "os.path.exists(\"data2\") , os.path.exists(\"demo.py\")"
      ],
      "metadata": {
        "colab": {
          "base_uri": "https://localhost:8080/"
        },
        "id": "PxFgFN2ZGmVJ",
        "outputId": "d56ae866-b4dc-45c3-dbdb-145458a75ebf"
      },
      "execution_count": null,
      "outputs": [
        {
          "output_type": "execute_result",
          "data": {
            "text/plain": [
              "(True, True)"
            ]
          },
          "metadata": {},
          "execution_count": 18
        }
      ]
    },
    {
      "cell_type": "markdown",
      "source": [
        "- 파일 삭제하기\n"
      ],
      "metadata": {
        "id": "RO_Nkn36GucI"
      }
    },
    {
      "cell_type": "code",
      "source": [
        "os.remove(\"demo.py\")"
      ],
      "metadata": {
        "id": "3JoGkejUG7Y8"
      },
      "execution_count": null,
      "outputs": []
    },
    {
      "cell_type": "markdown",
      "source": [
        "# random 모듈 사용해보기"
      ],
      "metadata": {
        "id": "5bX9H4ANG9-I"
      }
    },
    {
      "cell_type": "code",
      "source": [
        "import random"
      ],
      "metadata": {
        "id": "I_4A2iLJHKPp"
      },
      "execution_count": null,
      "outputs": []
    },
    {
      "cell_type": "markdown",
      "source": [
        "- random 함수\n",
        "    - 0 ~1 사이에 랜덤한 실수를 반환한다.\n",
        "    "
      ],
      "metadata": {
        "id": "5tTBswdKHS7t"
      }
    },
    {
      "cell_type": "code",
      "source": [
        "random.random()"
      ],
      "metadata": {
        "colab": {
          "base_uri": "https://localhost:8080/"
        },
        "id": "vaDnFtaIHbk4",
        "outputId": "1fc901d3-a4c6-4552-b300-e01bca6d3bf5"
      },
      "execution_count": null,
      "outputs": [
        {
          "output_type": "execute_result",
          "data": {
            "text/plain": [
              "0.4448625009088083"
            ]
          },
          "metadata": {},
          "execution_count": 30
        }
      ]
    },
    {
      "cell_type": "markdown",
      "source": [
        "- uniform 함수\n",
        "    - 두개의 숫자 사이의 랜덤한 실수를 반환한다.\n"
      ],
      "metadata": {
        "id": "syBDVP17HeeX"
      }
    },
    {
      "cell_type": "code",
      "source": [
        "random.uniform(1,10)"
      ],
      "metadata": {
        "colab": {
          "base_uri": "https://localhost:8080/"
        },
        "id": "0iivypdoHugL",
        "outputId": "85f9dc48-4e1a-438b-8ab8-83a3b0e708e5"
      },
      "execution_count": null,
      "outputs": [
        {
          "output_type": "execute_result",
          "data": {
            "text/plain": [
              "9.052627600533148"
            ]
          },
          "metadata": {},
          "execution_count": 48
        }
      ]
    },
    {
      "cell_type": "markdown",
      "source": [
        "- randint 함수\n",
        "    - 2개의 숫자사이의 랜덤한 정수를 반환한다."
      ],
      "metadata": {
        "id": "OSbv58DNHz13"
      }
    },
    {
      "cell_type": "code",
      "source": [
        "random.randint(0,5)"
      ],
      "metadata": {
        "colab": {
          "base_uri": "https://localhost:8080/"
        },
        "id": "AD-r7ga6IA-M",
        "outputId": "751c82ef-dccd-48ca-d44b-91407d57770f"
      },
      "execution_count": null,
      "outputs": [
        {
          "output_type": "execute_result",
          "data": {
            "text/plain": [
              "5"
            ]
          },
          "metadata": {},
          "execution_count": 68
        }
      ]
    },
    {
      "cell_type": "markdown",
      "source": [
        "- randrange 함수\n",
        "    - start,stop,step 으로 만들어진 정수 중에 랜덤값을 반환한다.\n"
      ],
      "metadata": {
        "id": "NemPXaBGIFee"
      }
    },
    {
      "cell_type": "code",
      "source": [
        "random.randrange(20)"
      ],
      "metadata": {
        "colab": {
          "base_uri": "https://localhost:8080/"
        },
        "id": "Kc3mKAUmIiKO",
        "outputId": "fdafd9b3-a333-4bae-9d49-7402d56d8bd5"
      },
      "execution_count": null,
      "outputs": [
        {
          "output_type": "execute_result",
          "data": {
            "text/plain": [
              "1"
            ]
          },
          "metadata": {},
          "execution_count": 73
        }
      ]
    },
    {
      "cell_type": "code",
      "source": [
        "random.randrange(0,10,2)"
      ],
      "metadata": {
        "colab": {
          "base_uri": "https://localhost:8080/"
        },
        "id": "6V8vG72vIsKJ",
        "outputId": "15956b13-1dac-4ef7-e7c8-b73318ff3a50"
      },
      "execution_count": null,
      "outputs": [
        {
          "output_type": "execute_result",
          "data": {
            "text/plain": [
              "2"
            ]
          },
          "metadata": {},
          "execution_count": 90
        }
      ]
    },
    {
      "cell_type": "markdown",
      "source": [
        "- choice 함수\n",
        "    - 시퀀스 자료형에서 랜덤하게 하나의 요소를 선택해서 반환"
      ],
      "metadata": {
        "id": "oOlE7W0zI7Ox"
      }
    },
    {
      "cell_type": "code",
      "source": [
        "lst = [1,2,3,4,5,6]\n",
        "random.choice(lst)"
      ],
      "metadata": {
        "colab": {
          "base_uri": "https://localhost:8080/"
        },
        "id": "DiTIfi8pJYOA",
        "outputId": "285d92a3-078f-41f4-f24f-53aa033347d6"
      },
      "execution_count": null,
      "outputs": [
        {
          "output_type": "execute_result",
          "data": {
            "text/plain": [
              "6"
            ]
          },
          "metadata": {},
          "execution_count": 103
        }
      ]
    },
    {
      "cell_type": "markdown",
      "source": [
        "- sample 함수\n",
        "    - 시퀀스 자료형에서 랜덤하게 두번째 인수의 개수로 선택해서 반환"
      ],
      "metadata": {
        "id": "DlPHdMI3Jlo4"
      }
    },
    {
      "cell_type": "code",
      "source": [
        "lst = [1,2,3,4,5,6]\n",
        "random.sample(lst,2)"
      ],
      "metadata": {
        "colab": {
          "base_uri": "https://localhost:8080/"
        },
        "id": "beeBZUmDJxqf",
        "outputId": "3b6134b2-4793-459e-b359-db0b6c284ca4"
      },
      "execution_count": null,
      "outputs": [
        {
          "output_type": "execute_result",
          "data": {
            "text/plain": [
              "[1, 6]"
            ]
          },
          "metadata": {},
          "execution_count": 110
        }
      ]
    },
    {
      "cell_type": "markdown",
      "source": [
        "- shuffle 함수\n",
        "    - 요소의 순서를 랜덤하게 변경한다."
      ],
      "metadata": {
        "id": "OgaPVIcIJ-Ou"
      }
    },
    {
      "cell_type": "code",
      "source": [
        "lst = [1,2,3,4,5,6]\n",
        "random.shuffle(lst) # 원본을 변경한다.\n",
        "lst"
      ],
      "metadata": {
        "colab": {
          "base_uri": "https://localhost:8080/"
        },
        "id": "OIJ3zoOFKJ2d",
        "outputId": "31f581ef-b864-41a7-93fe-22e9994f3176"
      },
      "execution_count": null,
      "outputs": [
        {
          "output_type": "execute_result",
          "data": {
            "text/plain": [
              "[1, 6, 3, 2, 5, 4]"
            ]
          },
          "metadata": {},
          "execution_count": 115
        }
      ]
    },
    {
      "cell_type": "code",
      "source": [
        "random.shuffle(\"안녕하세요 반갑습니다.\")"
      ],
      "metadata": {
        "colab": {
          "base_uri": "https://localhost:8080/",
          "height": 299
        },
        "id": "N9UCMErnKS_7",
        "outputId": "7b2d6f60-004d-44bd-a4f7-d7298735770f"
      },
      "execution_count": null,
      "outputs": [
        {
          "output_type": "error",
          "ename": "TypeError",
          "evalue": "ignored",
          "traceback": [
            "\u001b[0;31m---------------------------------------------------------------------------\u001b[0m",
            "\u001b[0;31mTypeError\u001b[0m                                 Traceback (most recent call last)",
            "\u001b[0;32m<ipython-input-116-881d46322301>\u001b[0m in \u001b[0;36m<module>\u001b[0;34m()\u001b[0m\n\u001b[0;32m----> 1\u001b[0;31m \u001b[0mrandom\u001b[0m\u001b[0;34m.\u001b[0m\u001b[0mshuffle\u001b[0m\u001b[0;34m(\u001b[0m\u001b[0;34m\"안녕하세요 반갑습니다.\"\u001b[0m\u001b[0;34m)\u001b[0m\u001b[0;34m\u001b[0m\u001b[0;34m\u001b[0m\u001b[0m\n\u001b[0m",
            "\u001b[0;32m/usr/lib/python3.7/random.py\u001b[0m in \u001b[0;36mshuffle\u001b[0;34m(self, x, random)\u001b[0m\n\u001b[1;32m    276\u001b[0m                 \u001b[0;31m# pick an element in x[:i+1] with which to exchange x[i]\u001b[0m\u001b[0;34m\u001b[0m\u001b[0;34m\u001b[0m\u001b[0;34m\u001b[0m\u001b[0m\n\u001b[1;32m    277\u001b[0m                 \u001b[0mj\u001b[0m \u001b[0;34m=\u001b[0m \u001b[0mrandbelow\u001b[0m\u001b[0;34m(\u001b[0m\u001b[0mi\u001b[0m\u001b[0;34m+\u001b[0m\u001b[0;36m1\u001b[0m\u001b[0;34m)\u001b[0m\u001b[0;34m\u001b[0m\u001b[0;34m\u001b[0m\u001b[0m\n\u001b[0;32m--> 278\u001b[0;31m                 \u001b[0mx\u001b[0m\u001b[0;34m[\u001b[0m\u001b[0mi\u001b[0m\u001b[0;34m]\u001b[0m\u001b[0;34m,\u001b[0m \u001b[0mx\u001b[0m\u001b[0;34m[\u001b[0m\u001b[0mj\u001b[0m\u001b[0;34m]\u001b[0m \u001b[0;34m=\u001b[0m \u001b[0mx\u001b[0m\u001b[0;34m[\u001b[0m\u001b[0mj\u001b[0m\u001b[0;34m]\u001b[0m\u001b[0;34m,\u001b[0m \u001b[0mx\u001b[0m\u001b[0;34m[\u001b[0m\u001b[0mi\u001b[0m\u001b[0;34m]\u001b[0m\u001b[0;34m\u001b[0m\u001b[0;34m\u001b[0m\u001b[0m\n\u001b[0m\u001b[1;32m    279\u001b[0m         \u001b[0;32melse\u001b[0m\u001b[0;34m:\u001b[0m\u001b[0;34m\u001b[0m\u001b[0;34m\u001b[0m\u001b[0m\n\u001b[1;32m    280\u001b[0m             \u001b[0m_int\u001b[0m \u001b[0;34m=\u001b[0m \u001b[0mint\u001b[0m\u001b[0;34m\u001b[0m\u001b[0;34m\u001b[0m\u001b[0m\n",
            "\u001b[0;31mTypeError\u001b[0m: 'str' object does not support item assignment"
          ]
        }
      ]
    },
    {
      "cell_type": "code",
      "source": [
        "random.shuffle(1,2)"
      ],
      "metadata": {
        "colab": {
          "base_uri": "https://localhost:8080/",
          "height": 299
        },
        "id": "VjnpuVhsKeKN",
        "outputId": "9d9a28a2-fd91-4303-ee67-6fe523ba1371"
      },
      "execution_count": null,
      "outputs": [
        {
          "output_type": "error",
          "ename": "TypeError",
          "evalue": "ignored",
          "traceback": [
            "\u001b[0;31m---------------------------------------------------------------------------\u001b[0m",
            "\u001b[0;31mTypeError\u001b[0m                                 Traceback (most recent call last)",
            "\u001b[0;32m<ipython-input-118-48e40bf68d3a>\u001b[0m in \u001b[0;36m<module>\u001b[0;34m()\u001b[0m\n\u001b[0;32m----> 1\u001b[0;31m \u001b[0mrandom\u001b[0m\u001b[0;34m.\u001b[0m\u001b[0mshuffle\u001b[0m\u001b[0;34m(\u001b[0m\u001b[0;36m1\u001b[0m\u001b[0;34m,\u001b[0m\u001b[0;36m2\u001b[0m\u001b[0;34m)\u001b[0m\u001b[0;34m\u001b[0m\u001b[0;34m\u001b[0m\u001b[0m\n\u001b[0m",
            "\u001b[0;32m/usr/lib/python3.7/random.py\u001b[0m in \u001b[0;36mshuffle\u001b[0;34m(self, x, random)\u001b[0m\n\u001b[1;32m    279\u001b[0m         \u001b[0;32melse\u001b[0m\u001b[0;34m:\u001b[0m\u001b[0;34m\u001b[0m\u001b[0;34m\u001b[0m\u001b[0m\n\u001b[1;32m    280\u001b[0m             \u001b[0m_int\u001b[0m \u001b[0;34m=\u001b[0m \u001b[0mint\u001b[0m\u001b[0;34m\u001b[0m\u001b[0;34m\u001b[0m\u001b[0m\n\u001b[0;32m--> 281\u001b[0;31m             \u001b[0;32mfor\u001b[0m \u001b[0mi\u001b[0m \u001b[0;32min\u001b[0m \u001b[0mreversed\u001b[0m\u001b[0;34m(\u001b[0m\u001b[0mrange\u001b[0m\u001b[0;34m(\u001b[0m\u001b[0;36m1\u001b[0m\u001b[0;34m,\u001b[0m \u001b[0mlen\u001b[0m\u001b[0;34m(\u001b[0m\u001b[0mx\u001b[0m\u001b[0;34m)\u001b[0m\u001b[0;34m)\u001b[0m\u001b[0;34m)\u001b[0m\u001b[0;34m:\u001b[0m\u001b[0;34m\u001b[0m\u001b[0;34m\u001b[0m\u001b[0m\n\u001b[0m\u001b[1;32m    282\u001b[0m                 \u001b[0;31m# pick an element in x[:i+1] with which to exchange x[i]\u001b[0m\u001b[0;34m\u001b[0m\u001b[0;34m\u001b[0m\u001b[0;34m\u001b[0m\u001b[0m\n\u001b[1;32m    283\u001b[0m                 \u001b[0mj\u001b[0m \u001b[0;34m=\u001b[0m \u001b[0m_int\u001b[0m\u001b[0;34m(\u001b[0m\u001b[0mrandom\u001b[0m\u001b[0;34m(\u001b[0m\u001b[0;34m)\u001b[0m \u001b[0;34m*\u001b[0m \u001b[0;34m(\u001b[0m\u001b[0mi\u001b[0m\u001b[0;34m+\u001b[0m\u001b[0;36m1\u001b[0m\u001b[0;34m)\u001b[0m\u001b[0;34m)\u001b[0m\u001b[0;34m\u001b[0m\u001b[0;34m\u001b[0m\u001b[0m\n",
            "\u001b[0;31mTypeError\u001b[0m: object of type 'int' has no len()"
          ]
        }
      ]
    },
    {
      "cell_type": "code",
      "source": [
        "random.seed(42)\n",
        "lst = [1,2,3,4,5,6]\n",
        "random.shuffle(lst)\n",
        "lst"
      ],
      "metadata": {
        "colab": {
          "base_uri": "https://localhost:8080/"
        },
        "id": "9vT76pOKKiVb",
        "outputId": "b9c2037a-e214-47b4-963f-6fe25ce55de4"
      },
      "execution_count": null,
      "outputs": [
        {
          "output_type": "execute_result",
          "data": {
            "text/plain": [
              "[4, 2, 3, 5, 1, 6]"
            ]
          },
          "metadata": {},
          "execution_count": 121
        }
      ]
    },
    {
      "cell_type": "markdown",
      "source": [
        "# collections 모듈\n",
        "- 파이썬의 내장 자료 구조\n",
        "- 기존 자료구조를 확장하여 제작된 파이썬 내장모듈"
      ],
      "metadata": {
        "id": "I_-1xAPCLDhh"
      }
    },
    {
      "cell_type": "markdown",
      "source": [
        "## deque "
      ],
      "metadata": {
        "id": "BeWYKXQ2L2yy"
      }
    },
    {
      "cell_type": "code",
      "source": [
        "from collections import deque"
      ],
      "metadata": {
        "id": "bQmMa5x0L6bL"
      },
      "execution_count": null,
      "outputs": []
    },
    {
      "cell_type": "code",
      "source": [
        "dq = deque()\n",
        "dq"
      ],
      "metadata": {
        "colab": {
          "base_uri": "https://localhost:8080/"
        },
        "id": "GiqUP-_hL-2A",
        "outputId": "5523190f-0a4f-4a40-c9c5-905056acd08d"
      },
      "execution_count": null,
      "outputs": [
        {
          "output_type": "execute_result",
          "data": {
            "text/plain": [
              "deque([])"
            ]
          },
          "metadata": {},
          "execution_count": 123
        }
      ]
    },
    {
      "cell_type": "markdown",
      "source": [
        "- append"
      ],
      "metadata": {
        "id": "jooaFow_MMq8"
      }
    },
    {
      "cell_type": "code",
      "source": [
        "dq.append(100)\n",
        "dq"
      ],
      "metadata": {
        "colab": {
          "base_uri": "https://localhost:8080/"
        },
        "id": "diOYGqTtMQYm",
        "outputId": "5f69e9a8-ee72-4e14-94a5-b8ee0ac6fa32"
      },
      "execution_count": null,
      "outputs": [
        {
          "output_type": "execute_result",
          "data": {
            "text/plain": [
              "deque([100, 100, 100])"
            ]
          },
          "metadata": {},
          "execution_count": 126
        }
      ]
    },
    {
      "cell_type": "markdown",
      "source": [
        "- apendleft\n",
        "    - 인자로 넣은 값을 왼쪽 부터 추가\n",
        "    "
      ],
      "metadata": {
        "id": "jthqDqyiMjvG"
      }
    },
    {
      "cell_type": "code",
      "source": [
        "dq.appendleft(300)\n",
        "dq"
      ],
      "metadata": {
        "colab": {
          "base_uri": "https://localhost:8080/"
        },
        "id": "wEZYOmsoMSmD",
        "outputId": "cf2200d7-1b4a-4481-e05a-0f8896321a9b"
      },
      "execution_count": null,
      "outputs": [
        {
          "output_type": "execute_result",
          "data": {
            "text/plain": [
              "deque([300, 300, 300, 100, 100, 100])"
            ]
          },
          "metadata": {},
          "execution_count": 129
        }
      ]
    },
    {
      "cell_type": "code",
      "source": [
        "lst = [100]\n",
        "lst.insert(0,300)\n",
        "lst"
      ],
      "metadata": {
        "colab": {
          "base_uri": "https://localhost:8080/"
        },
        "id": "U6EinD4AMwcz",
        "outputId": "b87eaf7e-f20f-4327-f5b2-eefd04370c38"
      },
      "execution_count": null,
      "outputs": [
        {
          "output_type": "execute_result",
          "data": {
            "text/plain": [
              "[300, 100]"
            ]
          },
          "metadata": {},
          "execution_count": 132
        }
      ]
    },
    {
      "cell_type": "markdown",
      "source": [
        "- 디큐 개게 생성시 반복가능한 객체를 인자로 넣어야 된다."
      ],
      "metadata": {
        "id": "qdLFb4RcM3uy"
      }
    },
    {
      "cell_type": "code",
      "source": [
        "dq = deque(range(10))\n",
        "dq"
      ],
      "metadata": {
        "colab": {
          "base_uri": "https://localhost:8080/"
        },
        "id": "EyZ89MKKNIbn",
        "outputId": "0594258d-0ec5-47a3-f852-800a8e0813cd"
      },
      "execution_count": null,
      "outputs": [
        {
          "output_type": "execute_result",
          "data": {
            "text/plain": [
              "deque([0, 1, 2, 3, 4, 5, 6, 7, 8, 9])"
            ]
          },
          "metadata": {},
          "execution_count": 133
        }
      ]
    },
    {
      "cell_type": "markdown",
      "source": [
        "- rotate\n",
        "    - dq 객체 안에 요소를 회전한다.\n",
        "    "
      ],
      "metadata": {
        "id": "p40hHsa7NLE9"
      }
    },
    {
      "cell_type": "code",
      "source": [
        "dq.rotate()\n",
        "dq"
      ],
      "metadata": {
        "colab": {
          "base_uri": "https://localhost:8080/"
        },
        "id": "x20nJ9cjNQ3N",
        "outputId": "9a6e819a-cd96-463d-fce9-3c4cde89c955"
      },
      "execution_count": null,
      "outputs": [
        {
          "output_type": "execute_result",
          "data": {
            "text/plain": [
              "deque([9, 0, 1, 2, 3, 4, 5, 6, 7, 8])"
            ]
          },
          "metadata": {},
          "execution_count": 134
        }
      ]
    },
    {
      "cell_type": "code",
      "source": [
        "dq = deque(range(10))\n",
        "dq.rotate(-1)\n",
        "dq"
      ],
      "metadata": {
        "colab": {
          "base_uri": "https://localhost:8080/"
        },
        "id": "fYFX1kScNUnG",
        "outputId": "0514712b-19f9-4454-fae5-419048f39779"
      },
      "execution_count": null,
      "outputs": [
        {
          "output_type": "execute_result",
          "data": {
            "text/plain": [
              "deque([1, 2, 3, 4, 5, 6, 7, 8, 9, 0])"
            ]
          },
          "metadata": {},
          "execution_count": 137
        }
      ]
    },
    {
      "cell_type": "code",
      "source": [
        "dq[-1] # 인덱싱 지원"
      ],
      "metadata": {
        "colab": {
          "base_uri": "https://localhost:8080/"
        },
        "id": "sfIpBNzgNX5f",
        "outputId": "8cf3b670-630e-45a1-9a97-40ee24a84d9e"
      },
      "execution_count": null,
      "outputs": [
        {
          "output_type": "execute_result",
          "data": {
            "text/plain": [
              "0"
            ]
          },
          "metadata": {},
          "execution_count": 139
        }
      ]
    },
    {
      "cell_type": "code",
      "source": [
        "dq[:] # 슬라이싱은 지원 안한다."
      ],
      "metadata": {
        "colab": {
          "base_uri": "https://localhost:8080/",
          "height": 172
        },
        "id": "Qbm5zdNCNz1b",
        "outputId": "8f9d75b4-314a-498f-edf8-0fff0a4df61a"
      },
      "execution_count": null,
      "outputs": [
        {
          "output_type": "error",
          "ename": "TypeError",
          "evalue": "ignored",
          "traceback": [
            "\u001b[0;31m---------------------------------------------------------------------------\u001b[0m",
            "\u001b[0;31mTypeError\u001b[0m                                 Traceback (most recent call last)",
            "\u001b[0;32m<ipython-input-140-888fff7fa2dc>\u001b[0m in \u001b[0;36m<module>\u001b[0;34m()\u001b[0m\n\u001b[0;32m----> 1\u001b[0;31m \u001b[0mdq\u001b[0m\u001b[0;34m[\u001b[0m\u001b[0;34m:\u001b[0m\u001b[0;34m]\u001b[0m \u001b[0;31m# 슬라이싱은 지원 안한다.\u001b[0m\u001b[0;34m\u001b[0m\u001b[0;34m\u001b[0m\u001b[0m\n\u001b[0m",
            "\u001b[0;31mTypeError\u001b[0m: sequence index must be integer, not 'slice'"
          ]
        }
      ]
    },
    {
      "cell_type": "markdown",
      "source": [
        "- 속도도 비교해 봅시다."
      ],
      "metadata": {
        "id": "4tA0lXbhN71u"
      }
    },
    {
      "cell_type": "code",
      "source": [
        "%%timeit\n",
        "dq = deque()\n",
        "for i in range(1000000):\n",
        "    dq.append(i)"
      ],
      "metadata": {
        "colab": {
          "base_uri": "https://localhost:8080/"
        },
        "id": "zlJzlNMCRrcH",
        "outputId": "8fc04969-b220-4ad2-d249-c808a6596022"
      },
      "execution_count": null,
      "outputs": [
        {
          "output_type": "stream",
          "name": "stdout",
          "text": [
            "10 loops, best of 5: 102 ms per loop\n"
          ]
        }
      ]
    },
    {
      "cell_type": "code",
      "source": [
        "%%timeit\n",
        "lst = []\n",
        "for i in range(1000000):\n",
        "    lst.append(i)"
      ],
      "metadata": {
        "colab": {
          "base_uri": "https://localhost:8080/"
        },
        "id": "7BRmuV8wR3iJ",
        "outputId": "d5a017c7-acaa-4368-f834-2d7311c24cb9"
      },
      "execution_count": null,
      "outputs": [
        {
          "output_type": "stream",
          "name": "stdout",
          "text": [
            "10 loops, best of 5: 109 ms per loop\n"
          ]
        }
      ]
    },
    {
      "cell_type": "code",
      "source": [
        "%%timeit\n",
        "lst = [i for i in range(1000000)]"
      ],
      "metadata": {
        "colab": {
          "base_uri": "https://localhost:8080/"
        },
        "id": "U5UqGn5lSEEH",
        "outputId": "ca0c2e5a-e66c-4e06-fdca-832212f24915"
      },
      "execution_count": null,
      "outputs": [
        {
          "output_type": "stream",
          "name": "stdout",
          "text": [
            "10 loops, best of 5: 72.7 ms per loop\n"
          ]
        }
      ]
    },
    {
      "cell_type": "markdown",
      "source": [
        "## defaultdict\n",
        "- 딕셔너리의 단점으로 없는 key 접근시 에러가 발생하는 단점을 보완\n",
        "- 딕셔너리에 없는 key에 접근시 지정한 기본값을 이용하여 key,value 를 생성\n"
      ],
      "metadata": {
        "id": "5EMVQcrQSNaK"
      }
    },
    {
      "cell_type": "code",
      "source": [
        "d = {}\n",
        "d[\"key1\"]\n"
      ],
      "metadata": {
        "colab": {
          "base_uri": "https://localhost:8080/",
          "height": 190
        },
        "id": "CC87mXbqSxED",
        "outputId": "114c9acb-3bda-4703-cf0a-484ff42354ae"
      },
      "execution_count": null,
      "outputs": [
        {
          "output_type": "error",
          "ename": "KeyError",
          "evalue": "ignored",
          "traceback": [
            "\u001b[0;31m---------------------------------------------------------------------------\u001b[0m",
            "\u001b[0;31mKeyError\u001b[0m                                  Traceback (most recent call last)",
            "\u001b[0;32m<ipython-input-144-98cebd65e778>\u001b[0m in \u001b[0;36m<module>\u001b[0;34m()\u001b[0m\n\u001b[1;32m      1\u001b[0m \u001b[0md\u001b[0m \u001b[0;34m=\u001b[0m \u001b[0;34m{\u001b[0m\u001b[0;34m}\u001b[0m\u001b[0;34m\u001b[0m\u001b[0;34m\u001b[0m\u001b[0m\n\u001b[0;32m----> 2\u001b[0;31m \u001b[0md\u001b[0m\u001b[0;34m[\u001b[0m\u001b[0;34m\"key1\"\u001b[0m\u001b[0;34m]\u001b[0m\u001b[0;34m\u001b[0m\u001b[0;34m\u001b[0m\u001b[0m\n\u001b[0m",
            "\u001b[0;31mKeyError\u001b[0m: 'key1'"
          ]
        }
      ]
    },
    {
      "cell_type": "code",
      "source": [
        "from collections import defaultdict\n",
        "\n",
        "default_dict = defaultdict(lambda:0)\n",
        "default_dict[\"key1\"]"
      ],
      "metadata": {
        "colab": {
          "base_uri": "https://localhost:8080/"
        },
        "id": "85iEjLoaS1s7",
        "outputId": "79165e7e-4f98-41a7-8cae-c89d87eecde8"
      },
      "execution_count": null,
      "outputs": [
        {
          "output_type": "execute_result",
          "data": {
            "text/plain": [
              "0"
            ]
          },
          "metadata": {},
          "execution_count": 147
        }
      ]
    },
    {
      "cell_type": "code",
      "source": [
        "default_dict"
      ],
      "metadata": {
        "colab": {
          "base_uri": "https://localhost:8080/"
        },
        "id": "AUvFr-tdTHhS",
        "outputId": "62e4e2a8-293c-4f2a-b2fd-92faa250dd8c"
      },
      "execution_count": null,
      "outputs": [
        {
          "output_type": "execute_result",
          "data": {
            "text/plain": [
              "defaultdict(<function __main__.<lambda>>, {'key1': 0})"
            ]
          },
          "metadata": {},
          "execution_count": 148
        }
      ]
    },
    {
      "cell_type": "code",
      "source": [
        "dict(default_dict)"
      ],
      "metadata": {
        "colab": {
          "base_uri": "https://localhost:8080/"
        },
        "id": "4IV59T8gTXxf",
        "outputId": "1da872dd-75cc-4d71-bb40-f9f458fbd6cc"
      },
      "execution_count": null,
      "outputs": [
        {
          "output_type": "execute_result",
          "data": {
            "text/plain": [
              "{'key1': 0}"
            ]
          },
          "metadata": {},
          "execution_count": 149
        }
      ]
    },
    {
      "cell_type": "code",
      "source": [
        "d = {\n",
        "    \"key1\" : 0,\n",
        "     \"key2\" :1\n",
        "}\n",
        "defaultdict(lambda:0,d)"
      ],
      "metadata": {
        "colab": {
          "base_uri": "https://localhost:8080/"
        },
        "id": "6pjJNeneTcFf",
        "outputId": "23768fcb-b3f9-4aa4-dfe5-9d0d9f0e7ad2"
      },
      "execution_count": null,
      "outputs": [
        {
          "output_type": "execute_result",
          "data": {
            "text/plain": [
              "defaultdict(<function __main__.<lambda>>, {'key1': 0, 'key2': 1})"
            ]
          },
          "metadata": {},
          "execution_count": 150
        }
      ]
    },
    {
      "cell_type": "markdown",
      "source": [
        "### defaultdict 활용방법\n"
      ],
      "metadata": {
        "id": "MdDFejxOTp63"
      }
    },
    {
      "cell_type": "markdown",
      "source": [],
      "metadata": {
        "id": "Xou74NttUPL6"
      }
    },
    {
      "cell_type": "code",
      "source": [
        "tup_list = [\n",
        "    (\"경제\",\"10시 경제기사\"),\n",
        "    (\"정치\",\"10시 정치기사\"),\n",
        "    (\"사회\",\"10시 사회기사\"),\n",
        "    (\"경제\",\"14시 경제기사\"),\n",
        "    (\"정치\",\"15시 정치기사\")\n",
        "]\n",
        "\n",
        "news_dict = {}\n",
        "for k,v in tup_list:\n",
        "    if news_dict.get(k) is None:\n",
        "        news_dict[k] = []\n",
        "    news_dict[k].append(v)\n",
        "news_dict"
      ],
      "metadata": {
        "colab": {
          "base_uri": "https://localhost:8080/"
        },
        "id": "3z5bFyByTxNh",
        "outputId": "eee4d1ac-a710-4598-d858-baa1d95a4b3d"
      },
      "execution_count": null,
      "outputs": [
        {
          "output_type": "execute_result",
          "data": {
            "text/plain": [
              "{'경제': ['10시 경제기사', '14시 경제기사'],\n",
              " '사회': ['10시 사회기사'],\n",
              " '정치': ['10시 정치기사', '15시 정치기사']}"
            ]
          },
          "metadata": {},
          "execution_count": 151
        }
      ]
    },
    {
      "cell_type": "code",
      "source": [
        "news_dict = defaultdict(list)\n",
        "for k,v in tup_list:\n",
        "    news_dict[k].append(v)\n",
        "news_dict"
      ],
      "metadata": {
        "colab": {
          "base_uri": "https://localhost:8080/"
        },
        "id": "X_AXORb9UlIx",
        "outputId": "2eea8a0e-9dd9-4d28-90e3-45e60c1b902b"
      },
      "execution_count": null,
      "outputs": [
        {
          "output_type": "execute_result",
          "data": {
            "text/plain": [
              "defaultdict(list,\n",
              "            {'경제': ['10시 경제기사', '14시 경제기사'],\n",
              "             '사회': ['10시 사회기사'],\n",
              "             '정치': ['10시 정치기사', '15시 정치기사']})"
            ]
          },
          "metadata": {},
          "execution_count": 154
        }
      ]
    },
    {
      "cell_type": "markdown",
      "source": [
        "## OrderedDict\n",
        "- 순서를 가진 딕셔너리 객체\n",
        "- key, value 생성한 순서대로 저장된다."
      ],
      "metadata": {
        "id": "evYZabIyUwZa"
      }
    },
    {
      "cell_type": "code",
      "source": [
        "from collections import OrderedDict\n",
        "order_dict = OrderedDict()\n",
        "order_dict[\"사과\"] = 200\n",
        "order_dict[\"딸기\"] = 100\n",
        "order_dict[\"포도\"] = 500\n",
        "\n",
        "for k,v in order_dict.items():\n",
        "    print(k,v)"
      ],
      "metadata": {
        "colab": {
          "base_uri": "https://localhost:8080/"
        },
        "id": "TEfnMePzVNjc",
        "outputId": "7fdfe1bb-cfb6-4dc1-e6a6-058442db359d"
      },
      "execution_count": null,
      "outputs": [
        {
          "output_type": "stream",
          "name": "stdout",
          "text": [
            "사과 200\n",
            "딸기 100\n",
            "포도 500\n"
          ]
        }
      ]
    },
    {
      "cell_type": "markdown",
      "source": [
        "## Counter \n",
        "- 시퀀스 자료형의 데이터의 값의 개수를 딕셔너리 형태로 반환"
      ],
      "metadata": {
        "id": "dHhLQUnFVpH-"
      }
    },
    {
      "cell_type": "code",
      "source": [
        "from collections import Counter\n",
        "Counter(\"aaabbc\")"
      ],
      "metadata": {
        "colab": {
          "base_uri": "https://localhost:8080/"
        },
        "id": "ruVIv-idV5n3",
        "outputId": "4273ab36-2b27-4aad-d196-4a16e24f8cce"
      },
      "execution_count": null,
      "outputs": [
        {
          "output_type": "execute_result",
          "data": {
            "text/plain": [
              "Counter({'a': 3, 'b': 2, 'c': 1})"
            ]
          },
          "metadata": {},
          "execution_count": 158
        }
      ]
    },
    {
      "cell_type": "code",
      "source": [
        "counter = Counter({\"사과\":3,\"포도\":2,\"딸기\":1,\"참외\":4})\n",
        "counter"
      ],
      "metadata": {
        "colab": {
          "base_uri": "https://localhost:8080/"
        },
        "id": "w6Pz3W3YV_hj",
        "outputId": "3d4914ec-673f-4287-ddc3-6402e807fc0a"
      },
      "execution_count": null,
      "outputs": [
        {
          "output_type": "execute_result",
          "data": {
            "text/plain": [
              "Counter({'딸기': 1, '사과': 3, '참외': 4, '포도': 2})"
            ]
          },
          "metadata": {},
          "execution_count": 160
        }
      ]
    },
    {
      "cell_type": "markdown",
      "source": [
        "- most_common\n",
        "    - values 를 기준으로 내림차순 정렬하여 key,value를 튜플에 담고 리스트에 담아 반환"
      ],
      "metadata": {
        "id": "WPJsKOwCWWgS"
      }
    },
    {
      "cell_type": "code",
      "source": [
        "counter.most_common()"
      ],
      "metadata": {
        "colab": {
          "base_uri": "https://localhost:8080/"
        },
        "id": "Zb5wdnPzWo-d",
        "outputId": "f854e99e-40e7-4b08-b00c-e9247e0a2ebc"
      },
      "execution_count": null,
      "outputs": [
        {
          "output_type": "execute_result",
          "data": {
            "text/plain": [
              "[('참외', 4), ('사과', 3), ('포도', 2), ('딸기', 1)]"
            ]
          },
          "metadata": {},
          "execution_count": 161
        }
      ]
    },
    {
      "cell_type": "markdown",
      "source": [
        "- elements\n",
        "    - value의 갯수 만큼 key를 반복할수있는 객체를 반환"
      ],
      "metadata": {
        "id": "UnvP7PVdWrfh"
      }
    },
    {
      "cell_type": "code",
      "source": [
        "for i in counter.elements():\n",
        "    print(i)"
      ],
      "metadata": {
        "colab": {
          "base_uri": "https://localhost:8080/"
        },
        "id": "QkvyBUypWyfU",
        "outputId": "fb8b7ead-1025-427d-cff6-0690777c3850"
      },
      "execution_count": null,
      "outputs": [
        {
          "output_type": "stream",
          "name": "stdout",
          "text": [
            "사과\n",
            "사과\n",
            "사과\n",
            "포도\n",
            "포도\n",
            "딸기\n",
            "참외\n",
            "참외\n",
            "참외\n",
            "참외\n"
          ]
        }
      ]
    },
    {
      "cell_type": "markdown",
      "source": [
        "# 파이썬 속도 향상을 위한 팁"
      ],
      "metadata": {
        "id": "tokbRcr0XEjd"
      }
    },
    {
      "cell_type": "markdown",
      "source": [
        "- 단순하게 반복해서 데이터를 담아야하는 경우"
      ],
      "metadata": {
        "id": "Lo1dHFgPXQle"
      }
    },
    {
      "cell_type": "code",
      "source": [
        "#bad\n",
        "lst = []\n",
        "for i in range(1,1000):\n",
        "    if i % 2 == 0:\n",
        "        lst.append(i) "
      ],
      "metadata": {
        "id": "6yJml3WbXUqZ"
      },
      "execution_count": null,
      "outputs": []
    },
    {
      "cell_type": "code",
      "source": [
        "#good\n",
        "lst = [i for i in range(1,1000) if i % 2 == 0]"
      ],
      "metadata": {
        "id": "zj5CYqsBXh1n"
      },
      "execution_count": null,
      "outputs": []
    },
    {
      "cell_type": "markdown",
      "source": [
        "- 여러개의 변수를 초기화 할때..."
      ],
      "metadata": {
        "id": "GhJrf9EaXowx"
      }
    },
    {
      "cell_type": "code",
      "source": [
        "#bad\n",
        "a = None\n",
        "b = 0 \n",
        "c = \"\""
      ],
      "metadata": {
        "id": "dpV5uJ8eXvTW"
      },
      "execution_count": null,
      "outputs": []
    },
    {
      "cell_type": "code",
      "source": [
        "#good\n",
        "a,b,c = None,0,\"\""
      ],
      "metadata": {
        "id": "N9MdirehX1Ge"
      },
      "execution_count": null,
      "outputs": []
    },
    {
      "cell_type": "markdown",
      "source": [
        "- 컬랙션에 있는 문자열을 연결할때 "
      ],
      "metadata": {
        "id": "yeRbq7NHX-eE"
      }
    },
    {
      "cell_type": "code",
      "source": [
        "# bad\n",
        "lst = [\n",
        "    (\"A반\",\"90점\"),\n",
        "    (\"B반\",\"88점\"),\n",
        "    (\"C반\",\"95점\")\n",
        "]\n",
        "for s1,s2 in lst:\n",
        "    print(f\"{s1}{s1}\")"
      ],
      "metadata": {
        "colab": {
          "base_uri": "https://localhost:8080/"
        },
        "id": "2yAL-lHRYERU",
        "outputId": "e54646bb-9489-4c19-8850-4dff2ce08e45"
      },
      "execution_count": null,
      "outputs": [
        {
          "output_type": "stream",
          "name": "stdout",
          "text": [
            "A반A반\n",
            "B반B반\n",
            "C반C반\n"
          ]
        }
      ]
    },
    {
      "cell_type": "code",
      "source": [
        "#good\n",
        "for s in lst:\n",
        "    print(\" \".join(s))"
      ],
      "metadata": {
        "colab": {
          "base_uri": "https://localhost:8080/"
        },
        "id": "pJMj6-6PYbtQ",
        "outputId": "3879604f-6351-4535-d967-ae916928a867"
      },
      "execution_count": null,
      "outputs": [
        {
          "output_type": "stream",
          "name": "stdout",
          "text": [
            "A반 90점\n",
            "B반 88점\n",
            "C반 95점\n"
          ]
        }
      ]
    },
    {
      "cell_type": "markdown",
      "source": [
        "- 함수 호출은 컴퓨터 비용이 많이 든다."
      ],
      "metadata": {
        "id": "kZZgV1DSYkc9"
      }
    },
    {
      "cell_type": "code",
      "source": [
        "#bad\n",
        "%%timeit\n",
        "def square(n):\n",
        "    return n**2\n",
        "square_list = []\n",
        "for i in range(1000000):\n",
        "    square_list.append(square(i))"
      ],
      "metadata": {
        "colab": {
          "base_uri": "https://localhost:8080/"
        },
        "id": "X2tYWXa9YvJd",
        "outputId": "84b59850-dc0b-4525-8c2a-922dd98d20e0"
      },
      "execution_count": null,
      "outputs": [
        {
          "output_type": "stream",
          "name": "stdout",
          "text": [
            "1 loop, best of 5: 393 ms per loop\n"
          ]
        }
      ]
    },
    {
      "cell_type": "code",
      "source": [
        "#good\n",
        "%%timeit\n",
        "def square():\n",
        "    square_list = []\n",
        "    for i in range(1000000):\n",
        "        square_list.append(i**2)\n",
        "    return square_list\n",
        "square()"
      ],
      "metadata": {
        "colab": {
          "base_uri": "https://localhost:8080/"
        },
        "id": "yihFApEIZGVr",
        "outputId": "a9a4ca52-a790-4ce2-faa5-945d716d369f"
      },
      "execution_count": null,
      "outputs": [
        {
          "output_type": "stream",
          "name": "stdout",
          "text": [
            "1 loop, best of 5: 364 ms per loop\n"
          ]
        }
      ]
    },
    {
      "cell_type": "markdown",
      "source": [
        "- 모드를 불러올때...\n"
      ],
      "metadata": {
        "id": "TvoEz5zLZaxg"
      }
    },
    {
      "cell_type": "code",
      "source": [
        "#bad\n",
        "import collections\n",
        "counter=collections.Counter()\n",
        "counter"
      ],
      "metadata": {
        "colab": {
          "base_uri": "https://localhost:8080/"
        },
        "id": "bwHvTGHgZvnZ",
        "outputId": "2ad323f3-1133-422f-a80d-82f5e2fe7438"
      },
      "execution_count": null,
      "outputs": [
        {
          "output_type": "execute_result",
          "data": {
            "text/plain": [
              "Counter()"
            ]
          },
          "metadata": {},
          "execution_count": 174
        }
      ]
    },
    {
      "cell_type": "code",
      "source": [
        "# good\n",
        "from collections import Counter\n",
        "counter = Counter()\n",
        "counter"
      ],
      "metadata": {
        "colab": {
          "base_uri": "https://localhost:8080/"
        },
        "id": "Wb6LnhT5Z58L",
        "outputId": "4ff9b70a-54b9-4d53-c060-d01ae7947b99"
      },
      "execution_count": null,
      "outputs": [
        {
          "output_type": "execute_result",
          "data": {
            "text/plain": [
              "Counter()"
            ]
          },
          "metadata": {},
          "execution_count": 176
        }
      ]
    },
    {
      "cell_type": "code",
      "source": [],
      "metadata": {
        "id": "qkyhKO-naJxp"
      },
      "execution_count": null,
      "outputs": []
    }
  ]
}