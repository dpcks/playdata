{
  "nbformat": 4,
  "nbformat_minor": 0,
  "metadata": {
    "colab": {
      "provenance": [],
      "authorship_tag": "ABX9TyPwhUV+i9pTk6j5fdvK5imz",
      "include_colab_link": true
    },
    "kernelspec": {
      "name": "python3",
      "display_name": "Python 3"
    },
    "language_info": {
      "name": "python"
    }
  },
  "cells": [
    {
      "cell_type": "markdown",
      "metadata": {
        "id": "view-in-github",
        "colab_type": "text"
      },
      "source": [
        "<a href=\"https://colab.research.google.com/github/dpcks/playdata/blob/main/06_numpy.ipynb\" target=\"_parent\"><img src=\"https://colab.research.google.com/assets/colab-badge.svg\" alt=\"Open In Colab\"/></a>"
      ]
    },
    {
      "cell_type": "markdown",
      "source": [
        "# Numpy 란?\n",
        "- 수치계산을 하기위한 파이썬 라이브러리\n",
        "- 딥러닝에서 사용되는 텐서와 매우 유사\n",
        "- 벡터와 행렬 단위의 대용량 수치 연산을 빠르게 진행\n",
        "    - 병렬 연산한다.\n",
        "\n",
        "- 벡터(vector)\n",
        "    - 1차원 데이터(1차원 배열)\n",
        "    - 스칼라가 연속적으로 여러개 모여 있는것\n",
        "        - 스칼라(scalar): 단순하게 측정한 하나의 값\n",
        "- 행렬 (Matrix)\n",
        "    - 2차원 데이터(2차원 배열)\n",
        "    - 1차원 데이터가 여러개 모여 있는 것\n",
        "\n"
      ],
      "metadata": {
        "id": "reG-oWY_cU1G"
      }
    },
    {
      "cell_type": "code",
      "source": [
        "import numpy as np"
      ],
      "metadata": {
        "id": "2i85Dpjce2Xj"
      },
      "execution_count": null,
      "outputs": []
    },
    {
      "cell_type": "markdown",
      "source": [
        "## 벡터"
      ],
      "metadata": {
        "id": "QaUoubZPe536"
      }
    },
    {
      "cell_type": "code",
      "source": [
        "lst = [1,2,3,4,5,6]\n",
        "arr = np.array(lst)\n",
        "arr "
      ],
      "metadata": {
        "colab": {
          "base_uri": "https://localhost:8080/"
        },
        "id": "sME2F1Bpe871",
        "outputId": "d0de5eef-c92e-413b-a5fe-16683c5a1e21"
      },
      "execution_count": null,
      "outputs": [
        {
          "output_type": "execute_result",
          "data": {
            "text/plain": [
              "array([1, 2, 3, 4, 5, 6])"
            ]
          },
          "metadata": {},
          "execution_count": 5
        }
      ]
    },
    {
      "cell_type": "markdown",
      "source": [
        "## 행렬\n"
      ],
      "metadata": {
        "id": "xrFB9xlIfD7a"
      }
    },
    {
      "cell_type": "code",
      "source": [
        "lst =[\n",
        "    [1,2,3],\n",
        "    [4,5,6]\n",
        "]\n",
        "arr = np.array(lst)\n",
        "arr"
      ],
      "metadata": {
        "colab": {
          "base_uri": "https://localhost:8080/"
        },
        "id": "_FSB7vUqfTJY",
        "outputId": "21a47b96-2065-4f08-90de-58e4894d4df3"
      },
      "execution_count": null,
      "outputs": [
        {
          "output_type": "execute_result",
          "data": {
            "text/plain": [
              "array([[1, 2, 3],\n",
              "       [4, 5, 6]])"
            ]
          },
          "metadata": {},
          "execution_count": 6
        }
      ]
    },
    {
      "cell_type": "markdown",
      "source": [
        "- 3차원 배열"
      ],
      "metadata": {
        "id": "_E1ullFIfc7Y"
      }
    },
    {
      "cell_type": "code",
      "source": [
        "lst = [\n",
        "    [\n",
        "        [1,2,3],\n",
        "        [4,5,6]\n",
        "    ],\n",
        "    [\n",
        "        [7,8,9],\n",
        "        [10,11,12]\n",
        "    ]\n",
        "]\n",
        "\n",
        "arr = np.array(lst)\n",
        "arr"
      ],
      "metadata": {
        "colab": {
          "base_uri": "https://localhost:8080/"
        },
        "id": "RCYD5La3ftk_",
        "outputId": "3308fb5d-dae8-4e20-ccf7-67caf9e63f7f"
      },
      "execution_count": null,
      "outputs": [
        {
          "output_type": "execute_result",
          "data": {
            "text/plain": [
              "array([[[ 1,  2,  3],\n",
              "        [ 4,  5,  6]],\n",
              "\n",
              "       [[ 7,  8,  9],\n",
              "        [10, 11, 12]]])"
            ]
          },
          "metadata": {},
          "execution_count": 7
        }
      ]
    },
    {
      "cell_type": "code",
      "source": [
        "type(arr) # 타입 확인"
      ],
      "metadata": {
        "colab": {
          "base_uri": "https://localhost:8080/"
        },
        "id": "jb1gEeZBgFxK",
        "outputId": "e4618b33-ccd8-46fa-9789-3088639a6e04"
      },
      "execution_count": null,
      "outputs": [
        {
          "output_type": "execute_result",
          "data": {
            "text/plain": [
              "numpy.ndarray"
            ]
          },
          "metadata": {},
          "execution_count": 8
        }
      ]
    },
    {
      "cell_type": "code",
      "source": [
        "arr.__len__()"
      ],
      "metadata": {
        "colab": {
          "base_uri": "https://localhost:8080/"
        },
        "id": "uZy4mRFXgfh7",
        "outputId": "8e9d4427-7241-467a-ad8f-fb8666f5a45e"
      },
      "execution_count": null,
      "outputs": [
        {
          "output_type": "execute_result",
          "data": {
            "text/plain": [
              "2"
            ]
          },
          "metadata": {},
          "execution_count": 9
        }
      ]
    },
    {
      "cell_type": "code",
      "source": [
        "len(arr) # 첫번째 차원의 길이를 변환한다."
      ],
      "metadata": {
        "colab": {
          "base_uri": "https://localhost:8080/"
        },
        "id": "fwVLy2UIgrmR",
        "outputId": "1e97c904-aea6-4f06-df0c-eafa41022330"
      },
      "execution_count": null,
      "outputs": [
        {
          "output_type": "execute_result",
          "data": {
            "text/plain": [
              "2"
            ]
          },
          "metadata": {},
          "execution_count": 11
        }
      ]
    },
    {
      "cell_type": "code",
      "source": [
        "arr.shape # 2행 2열 3차원"
      ],
      "metadata": {
        "colab": {
          "base_uri": "https://localhost:8080/"
        },
        "id": "IPBK9D_tguA5",
        "outputId": "bd21c5d8-bbf7-4278-ff3d-260cecef1fa6"
      },
      "execution_count": null,
      "outputs": [
        {
          "output_type": "execute_result",
          "data": {
            "text/plain": [
              "(2, 2, 3)"
            ]
          },
          "metadata": {},
          "execution_count": 13
        }
      ]
    },
    {
      "cell_type": "code",
      "source": [
        "arr = np.array([1,2,3,4,5])\n",
        "arr.shape # 요소가 5개인 1차원"
      ],
      "metadata": {
        "colab": {
          "base_uri": "https://localhost:8080/"
        },
        "id": "TQBLoah3g7mr",
        "outputId": "dbe0a2d1-d54c-4703-dcef-3d837ec77dd5"
      },
      "execution_count": null,
      "outputs": [
        {
          "output_type": "execute_result",
          "data": {
            "text/plain": [
              "(5,)"
            ]
          },
          "metadata": {},
          "execution_count": 146
        }
      ]
    },
    {
      "cell_type": "markdown",
      "source": [
        "## 인덱싱과 슬라이싱\n",
        "- 기본적으로 파이썬에서 사용되는 인덱싱과 슬라이싱을 그대로 따라간다.\n"
      ],
      "metadata": {
        "id": "pBwIL_KuhJpu"
      }
    },
    {
      "cell_type": "code",
      "source": [
        "arr[-1]"
      ],
      "metadata": {
        "colab": {
          "base_uri": "https://localhost:8080/"
        },
        "id": "1ORc3yHyhjd7",
        "outputId": "bde7de63-765b-471d-ff7c-35f6cf247c87"
      },
      "execution_count": null,
      "outputs": [
        {
          "output_type": "execute_result",
          "data": {
            "text/plain": [
              "5"
            ]
          },
          "metadata": {},
          "execution_count": 16
        }
      ]
    },
    {
      "cell_type": "code",
      "source": [
        "print(arr[::-1])"
      ],
      "metadata": {
        "colab": {
          "base_uri": "https://localhost:8080/"
        },
        "id": "Xx253yK1hm_0",
        "outputId": "99f58689-ffdd-4e52-d4fe-0e4cdfd35e1f"
      },
      "execution_count": null,
      "outputs": [
        {
          "output_type": "stream",
          "name": "stdout",
          "text": [
            "[5 4 3 2 1]\n"
          ]
        }
      ]
    },
    {
      "cell_type": "markdown",
      "source": [
        "## 자주쓰는 numpy 데이터 타입"
      ],
      "metadata": {
        "id": "zg3_8eMkhrFf"
      }
    },
    {
      "cell_type": "code",
      "source": [
        "np.array([1,2,3],dtype = np.int32) # 4바이트 크기의 정수 1바이트가 8"
      ],
      "metadata": {
        "colab": {
          "base_uri": "https://localhost:8080/"
        },
        "id": "0pcylaozhz0L",
        "outputId": "9aba1b14-782a-4053-8015-5918b37c8a1a"
      },
      "execution_count": null,
      "outputs": [
        {
          "output_type": "execute_result",
          "data": {
            "text/plain": [
              "array([1, 2, 3], dtype=int32)"
            ]
          },
          "metadata": {},
          "execution_count": 20
        }
      ]
    },
    {
      "cell_type": "code",
      "source": [
        "np.array([1,2,3],dtype=np.int64) # 8바이트 크기의 정수"
      ],
      "metadata": {
        "colab": {
          "base_uri": "https://localhost:8080/"
        },
        "id": "duys7zyQiFWv",
        "outputId": "7acf9ad2-3c86-427e-b70a-35ea8269e6be"
      },
      "execution_count": null,
      "outputs": [
        {
          "output_type": "execute_result",
          "data": {
            "text/plain": [
              "array([1, 2, 3])"
            ]
          },
          "metadata": {},
          "execution_count": 21
        }
      ]
    },
    {
      "cell_type": "code",
      "source": [
        "np.array([1,2,3],dtype=np.uint8) # 1바이트 크기의 부호 없는 정수(0~255) ex) 이미지파일 ,u는 언사인이라는 의미 0부터 음수는 안댐"
      ],
      "metadata": {
        "colab": {
          "base_uri": "https://localhost:8080/"
        },
        "id": "y1vidlw_iQ_x",
        "outputId": "b94d6e13-d60c-4730-c5b4-93a0221cfaf2"
      },
      "execution_count": null,
      "outputs": [
        {
          "output_type": "execute_result",
          "data": {
            "text/plain": [
              "array([1, 2, 3], dtype=uint8)"
            ]
          },
          "metadata": {},
          "execution_count": 22
        }
      ]
    },
    {
      "cell_type": "code",
      "source": [
        "np.array([1,2,3],dtype=np.float32) # 4바이트 크기의 실수, 파이토치 딥러닝에서 기본값으로 사용"
      ],
      "metadata": {
        "colab": {
          "base_uri": "https://localhost:8080/"
        },
        "id": "TAl_x4SJiyG5",
        "outputId": "b023740b-aa8e-43ee-8762-610ddf5b5992"
      },
      "execution_count": null,
      "outputs": [
        {
          "output_type": "execute_result",
          "data": {
            "text/plain": [
              "array([1., 2., 3.], dtype=float32)"
            ]
          },
          "metadata": {},
          "execution_count": 23
        }
      ]
    },
    {
      "cell_type": "code",
      "source": [
        "np.array([1,2,3],dtype=np.float64) # 4바이트 크기의 실수"
      ],
      "metadata": {
        "colab": {
          "base_uri": "https://localhost:8080/"
        },
        "id": "8s2g_15Oi5F2",
        "outputId": "c5143371-ee2b-48c4-a7e4-58c41366c0db"
      },
      "execution_count": null,
      "outputs": [
        {
          "output_type": "execute_result",
          "data": {
            "text/plain": [
              "array([1., 2., 3.])"
            ]
          },
          "metadata": {},
          "execution_count": 25
        }
      ]
    },
    {
      "cell_type": "code",
      "source": [
        "np.array([1,0,1],dtype=np.bool_)"
      ],
      "metadata": {
        "colab": {
          "base_uri": "https://localhost:8080/"
        },
        "id": "RvGTR-n1jAXx",
        "outputId": "2a8bb40b-ec62-4255-f931-19553cb9641f"
      },
      "execution_count": null,
      "outputs": [
        {
          "output_type": "execute_result",
          "data": {
            "text/plain": [
              "array([ True, False,  True])"
            ]
          },
          "metadata": {},
          "execution_count": 26
        }
      ]
    },
    {
      "cell_type": "code",
      "source": [
        "arr = np.array([\n",
        "    [1,2,3],\n",
        "    [4,5,6],\n",
        "    [7,8,9],\n",
        "    [10,11,12]\n",
        "])\n",
        "arr"
      ],
      "metadata": {
        "colab": {
          "base_uri": "https://localhost:8080/"
        },
        "id": "jTIh7MiDjhy7",
        "outputId": "cdc14572-dd3d-472d-c537-24829bbebfd3"
      },
      "execution_count": null,
      "outputs": [
        {
          "output_type": "execute_result",
          "data": {
            "text/plain": [
              "array([[ 1,  2,  3],\n",
              "       [ 4,  5,  6],\n",
              "       [ 7,  8,  9],\n",
              "       [10, 11, 12]])"
            ]
          },
          "metadata": {},
          "execution_count": 27
        }
      ]
    },
    {
      "cell_type": "code",
      "source": [
        "print(arr)"
      ],
      "metadata": {
        "colab": {
          "base_uri": "https://localhost:8080/"
        },
        "id": "GiAZurRsmqrT",
        "outputId": "cb2d9ada-d08a-4cde-f673-e4c05eb90510"
      },
      "execution_count": null,
      "outputs": [
        {
          "output_type": "stream",
          "name": "stdout",
          "text": [
            "[[ 1  2  3]\n",
            " [ 4  5  6]\n",
            " [ 7  8  9]\n",
            " [10 11 12]]\n"
          ]
        }
      ]
    },
    {
      "cell_type": "code",
      "source": [
        "arr.shape[0] # 열개수   "
      ],
      "metadata": {
        "colab": {
          "base_uri": "https://localhost:8080/"
        },
        "id": "aM4vB3rNmtjl",
        "outputId": "5f9d15f2-ca14-4987-dafb-3b00faf00e1a"
      },
      "execution_count": null,
      "outputs": [
        {
          "output_type": "execute_result",
          "data": {
            "text/plain": [
              "4"
            ]
          },
          "metadata": {},
          "execution_count": 29
        }
      ]
    },
    {
      "cell_type": "code",
      "source": [
        "arr.shape[1] # 행 개수"
      ],
      "metadata": {
        "colab": {
          "base_uri": "https://localhost:8080/"
        },
        "id": "IsHEqfuzm4VI",
        "outputId": "f50de843-8ed6-4b77-fe96-f8d3e3288f3a"
      },
      "execution_count": null,
      "outputs": [
        {
          "output_type": "execute_result",
          "data": {
            "text/plain": [
              "3"
            ]
          },
          "metadata": {},
          "execution_count": 30
        }
      ]
    },
    {
      "cell_type": "markdown",
      "source": [
        "- 다차원 슬라이싱"
      ],
      "metadata": {
        "id": "ZiMTCfgCnAzh"
      }
    },
    {
      "cell_type": "code",
      "source": [
        "arr[:,1]"
      ],
      "metadata": {
        "colab": {
          "base_uri": "https://localhost:8080/"
        },
        "id": "J4O5la1hnG9V",
        "outputId": "611ecf53-bf8c-4e9e-9f53-2d56319e62ba"
      },
      "execution_count": null,
      "outputs": [
        {
          "output_type": "execute_result",
          "data": {
            "text/plain": [
              "array([ 2,  5,  8, 11])"
            ]
          },
          "metadata": {},
          "execution_count": 31
        }
      ]
    },
    {
      "cell_type": "code",
      "source": [
        "arr[:,::2]"
      ],
      "metadata": {
        "colab": {
          "base_uri": "https://localhost:8080/"
        },
        "id": "-grJSyFWnT87",
        "outputId": "1d7c6609-adcf-4ff2-e46a-90964ae1c452"
      },
      "execution_count": null,
      "outputs": [
        {
          "output_type": "execute_result",
          "data": {
            "text/plain": [
              "array([[ 1,  3],\n",
              "       [ 4,  6],\n",
              "       [ 7,  9],\n",
              "       [10, 12]])"
            ]
          },
          "metadata": {},
          "execution_count": 32
        }
      ]
    },
    {
      "cell_type": "code",
      "source": [
        "arr"
      ],
      "metadata": {
        "colab": {
          "base_uri": "https://localhost:8080/"
        },
        "id": "c3yVG8URnfw3",
        "outputId": "cd3d27fa-4628-4929-e796-3ce14c9fe11f"
      },
      "execution_count": null,
      "outputs": [
        {
          "output_type": "execute_result",
          "data": {
            "text/plain": [
              "array([[ 1,  2,  3],\n",
              "       [ 4,  5,  6],\n",
              "       [ 7,  8,  9],\n",
              "       [10, 11, 12]])"
            ]
          },
          "metadata": {},
          "execution_count": 33
        }
      ]
    },
    {
      "cell_type": "code",
      "source": [
        "arr[:,0]"
      ],
      "metadata": {
        "colab": {
          "base_uri": "https://localhost:8080/"
        },
        "id": "aRquLePenzLg",
        "outputId": "b7fd3ff1-297d-4718-9190-4dbbdf3484c0"
      },
      "execution_count": null,
      "outputs": [
        {
          "output_type": "execute_result",
          "data": {
            "text/plain": [
              "array([ 1,  4,  7, 10])"
            ]
          },
          "metadata": {},
          "execution_count": 34
        }
      ]
    },
    {
      "cell_type": "code",
      "source": [
        "arr[:,:1] # 슬라이싱할때는 범위를 가져오므로 차원으로 가져온다"
      ],
      "metadata": {
        "colab": {
          "base_uri": "https://localhost:8080/"
        },
        "id": "vwi51dmYn5rY",
        "outputId": "9de60edc-0356-4a20-9224-0ed618782897"
      },
      "execution_count": null,
      "outputs": [
        {
          "output_type": "execute_result",
          "data": {
            "text/plain": [
              "array([[ 1],\n",
              "       [ 4],\n",
              "       [ 7],\n",
              "       [10]])"
            ]
          },
          "metadata": {},
          "execution_count": 36
        }
      ]
    },
    {
      "cell_type": "code",
      "source": [
        "arr"
      ],
      "metadata": {
        "colab": {
          "base_uri": "https://localhost:8080/"
        },
        "id": "PnBxKag9n9C0",
        "outputId": "f197db50-1239-4be1-c3fb-9f98a35b21fb"
      },
      "execution_count": null,
      "outputs": [
        {
          "output_type": "execute_result",
          "data": {
            "text/plain": [
              "array([[ 1,  2,  3],\n",
              "       [ 4,  5,  6],\n",
              "       [ 7,  8,  9],\n",
              "       [10, 11, 12]])"
            ]
          },
          "metadata": {},
          "execution_count": 37
        }
      ]
    },
    {
      "cell_type": "code",
      "source": [
        "arr[0::2]"
      ],
      "metadata": {
        "colab": {
          "base_uri": "https://localhost:8080/"
        },
        "id": "O632v4zOoIef",
        "outputId": "0f2e3de5-c637-4cca-e016-99f86c0c8ccb"
      },
      "execution_count": null,
      "outputs": [
        {
          "output_type": "execute_result",
          "data": {
            "text/plain": [
              "array([[1, 2, 3],\n",
              "       [7, 8, 9]])"
            ]
          },
          "metadata": {},
          "execution_count": 41
        }
      ]
    },
    {
      "cell_type": "code",
      "source": [
        "arr[:,1:]"
      ],
      "metadata": {
        "colab": {
          "base_uri": "https://localhost:8080/"
        },
        "id": "kU0-YSknoRFJ",
        "outputId": "261b8755-9fec-4334-e5cd-517762d624a2"
      },
      "execution_count": null,
      "outputs": [
        {
          "output_type": "execute_result",
          "data": {
            "text/plain": [
              "array([[ 2,  3],\n",
              "       [ 5,  6],\n",
              "       [ 8,  9],\n",
              "       [11, 12]])"
            ]
          },
          "metadata": {},
          "execution_count": 70
        }
      ]
    },
    {
      "cell_type": "code",
      "source": [
        "arr[::2,::2]"
      ],
      "metadata": {
        "colab": {
          "base_uri": "https://localhost:8080/"
        },
        "id": "-TDiYjZuolli",
        "outputId": "31c27c2a-a2e5-4a93-9740-16d3a5d14605"
      },
      "execution_count": null,
      "outputs": [
        {
          "output_type": "execute_result",
          "data": {
            "text/plain": [
              "array([[1, 3],\n",
              "       [7, 9]])"
            ]
          },
          "metadata": {},
          "execution_count": 64
        }
      ]
    },
    {
      "cell_type": "markdown",
      "source": [
        "## 마스킹(masking)\n",
        "- bool 배열을 마스크로 사용하여 데이터의 특정 부분을 선택할 수 있다.\n"
      ],
      "metadata": {
        "id": "N8ajc89-pbvf"
      }
    },
    {
      "cell_type": "code",
      "source": [
        "arr"
      ],
      "metadata": {
        "colab": {
          "base_uri": "https://localhost:8080/"
        },
        "id": "Bcu-XWE4p1E0",
        "outputId": "23d0f4f7-4cd2-4cef-9a3d-ea348aab4b26"
      },
      "execution_count": null,
      "outputs": [
        {
          "output_type": "execute_result",
          "data": {
            "text/plain": [
              "array([[ 1,  2,  3],\n",
              "       [ 4,  5,  6],\n",
              "       [ 7,  8,  9],\n",
              "       [10, 11, 12]])"
            ]
          },
          "metadata": {},
          "execution_count": 53
        }
      ]
    },
    {
      "cell_type": "code",
      "source": [
        "mask_list = [True,False,True,False]\n",
        "arr[mask_list]"
      ],
      "metadata": {
        "colab": {
          "base_uri": "https://localhost:8080/"
        },
        "id": "8H4upC88p27c",
        "outputId": "67cf96bb-761a-439d-857e-81bed24f8b7f"
      },
      "execution_count": null,
      "outputs": [
        {
          "output_type": "execute_result",
          "data": {
            "text/plain": [
              "array([[1, 2, 3],\n",
              "       [7, 8, 9]])"
            ]
          },
          "metadata": {},
          "execution_count": 54
        }
      ]
    },
    {
      "cell_type": "code",
      "source": [
        "mask_list = [True,False,True]\n",
        "arr[:,mask_list]"
      ],
      "metadata": {
        "colab": {
          "base_uri": "https://localhost:8080/"
        },
        "id": "EoSt4pecqGVG",
        "outputId": "38c59d01-0dc2-47ea-d582-9e0486623774"
      },
      "execution_count": null,
      "outputs": [
        {
          "output_type": "execute_result",
          "data": {
            "text/plain": [
              "array([[ 1,  3],\n",
              "       [ 4,  6],\n",
              "       [ 7,  9],\n",
              "       [10, 12]])"
            ]
          },
          "metadata": {},
          "execution_count": 57
        }
      ]
    },
    {
      "cell_type": "code",
      "source": [
        "mask = arr > 2\n",
        "mask"
      ],
      "metadata": {
        "colab": {
          "base_uri": "https://localhost:8080/"
        },
        "id": "HRz9DAmRqSEb",
        "outputId": "34e1d3ce-c997-4681-ac58-6914e8aa849f"
      },
      "execution_count": null,
      "outputs": [
        {
          "output_type": "execute_result",
          "data": {
            "text/plain": [
              "array([[False, False,  True],\n",
              "       [ True,  True,  True],\n",
              "       [ True,  True,  True],\n",
              "       [ True,  True,  True]])"
            ]
          },
          "metadata": {},
          "execution_count": 58
        }
      ]
    },
    {
      "cell_type": "code",
      "source": [
        "arr[mask] # 모든 스칼라에 마스킹을 할경우 벡터로 변환된다."
      ],
      "metadata": {
        "colab": {
          "base_uri": "https://localhost:8080/"
        },
        "id": "WCXW8dmGqfj9",
        "outputId": "8f912041-c774-430c-9b63-6b281423938d"
      },
      "execution_count": null,
      "outputs": [
        {
          "output_type": "execute_result",
          "data": {
            "text/plain": [
              "array([ 3,  4,  5,  6,  7,  8,  9, 10, 11, 12])"
            ]
          },
          "metadata": {},
          "execution_count": 60
        }
      ]
    },
    {
      "cell_type": "markdown",
      "source": [
        "- 여러개의 인덱스 값들을 이용해서 가져오기"
      ],
      "metadata": {
        "id": "WqI2vMHnqmv9"
      }
    },
    {
      "cell_type": "code",
      "source": [
        "index_list = [0,2]\n",
        "arr[index_list] # 행"
      ],
      "metadata": {
        "colab": {
          "base_uri": "https://localhost:8080/"
        },
        "id": "ihpYe8C9q5j-",
        "outputId": "26b510fe-3eb8-4e38-f127-87df8510cfea"
      },
      "execution_count": null,
      "outputs": [
        {
          "output_type": "execute_result",
          "data": {
            "text/plain": [
              "array([[1, 2, 3],\n",
              "       [7, 8, 9]])"
            ]
          },
          "metadata": {},
          "execution_count": 61
        }
      ]
    },
    {
      "cell_type": "code",
      "source": [
        "index_list = [0,2]\n",
        "arr[:,index_list] # 열"
      ],
      "metadata": {
        "colab": {
          "base_uri": "https://localhost:8080/"
        },
        "id": "onKk8G76rETP",
        "outputId": "626ff298-39db-443a-9f26-93d7681ed4b4"
      },
      "execution_count": null,
      "outputs": [
        {
          "output_type": "execute_result",
          "data": {
            "text/plain": [
              "array([[ 1,  3],\n",
              "       [ 4,  6],\n",
              "       [ 7,  9],\n",
              "       [10, 12]])"
            ]
          },
          "metadata": {},
          "execution_count": 62
        }
      ]
    },
    {
      "cell_type": "markdown",
      "source": [
        "# numpy 함수 알아보기"
      ],
      "metadata": {
        "id": "iJtFZv9CrJAs"
      }
    },
    {
      "cell_type": "markdown",
      "source": [
        "## 배열의 각 요소별로 연산"
      ],
      "metadata": {
        "id": "IE-glzTIsDxE"
      }
    },
    {
      "cell_type": "code",
      "source": [
        "arr1 = np.array([1,5,1])\n",
        "arr2 = np.array([3,2,7])\n",
        "\n",
        "np.add(arr1,arr2) # arr1 + arr2  # 병렬연산 가능"
      ],
      "metadata": {
        "colab": {
          "base_uri": "https://localhost:8080/"
        },
        "id": "Zvk72ZiksG86",
        "outputId": "a8034a57-f6f5-4335-ce8c-e73297ba60c4"
      },
      "execution_count": null,
      "outputs": [
        {
          "output_type": "execute_result",
          "data": {
            "text/plain": [
              "array([4, 7, 8])"
            ]
          },
          "metadata": {},
          "execution_count": 71
        }
      ]
    },
    {
      "cell_type": "code",
      "source": [
        "np.subtract(arr1,arr2) # arr1 - arr2 "
      ],
      "metadata": {
        "colab": {
          "base_uri": "https://localhost:8080/"
        },
        "id": "KUgV5PudsQo6",
        "outputId": "9bc8d2f4-77f2-484a-e0cc-dec32bdc97e6"
      },
      "execution_count": null,
      "outputs": [
        {
          "output_type": "execute_result",
          "data": {
            "text/plain": [
              "array([-2,  3, -6])"
            ]
          },
          "metadata": {},
          "execution_count": 72
        }
      ]
    },
    {
      "cell_type": "code",
      "source": [
        "np.multiply(arr1,arr2) #arr * arr2"
      ],
      "metadata": {
        "colab": {
          "base_uri": "https://localhost:8080/"
        },
        "id": "ivqNdXX-sRAk",
        "outputId": "f32a2d6f-3750-4453-b7dc-3724646334e6"
      },
      "execution_count": null,
      "outputs": [
        {
          "output_type": "execute_result",
          "data": {
            "text/plain": [
              "array([ 3, 10,  7])"
            ]
          },
          "metadata": {},
          "execution_count": 73
        }
      ]
    },
    {
      "cell_type": "code",
      "source": [
        "np.divide(arr1,arr2) # arr1 / arr2"
      ],
      "metadata": {
        "colab": {
          "base_uri": "https://localhost:8080/"
        },
        "id": "5P6gEhC6sRLZ",
        "outputId": "f69eca51-c709-4010-b265-5da35be14520"
      },
      "execution_count": null,
      "outputs": [
        {
          "output_type": "execute_result",
          "data": {
            "text/plain": [
              "array([0.33333333, 2.5       , 0.14285714])"
            ]
          },
          "metadata": {},
          "execution_count": 74
        }
      ]
    },
    {
      "cell_type": "code",
      "source": [
        "np.abs(arr1 - arr2)  # 절대값"
      ],
      "metadata": {
        "colab": {
          "base_uri": "https://localhost:8080/"
        },
        "id": "gKzozq3vsROf",
        "outputId": "0797265f-142f-49f8-f3a1-33b0c024a487"
      },
      "execution_count": null,
      "outputs": [
        {
          "output_type": "execute_result",
          "data": {
            "text/plain": [
              "array([2, 3, 6])"
            ]
          },
          "metadata": {},
          "execution_count": 75
        }
      ]
    },
    {
      "cell_type": "markdown",
      "source": [
        "- 브로드캐스팅(Broadcasting)\n",
        "    - 배열의 모양이 다르더라도 어떠한 조건이 만족했을때 작은 배열을 자동으로 큰배열 크기에 맞춘다.\n",
        "    "
      ],
      "metadata": {
        "id": "gipb_Yc6sRRV"
      }
    },
    {
      "cell_type": "code",
      "source": [
        "np.array([\n",
        "    [1,2,3],\n",
        "    [4,5,6],\n",
        "    [7,8,9],\n",
        "    [10,11,12]\n",
        "])\n",
        "arr "
      ],
      "metadata": {
        "colab": {
          "base_uri": "https://localhost:8080/"
        },
        "id": "N_v3NC6JsRUK",
        "outputId": "e74d8203-1860-4131-e6fe-1b6cdf2adcbe"
      },
      "execution_count": null,
      "outputs": [
        {
          "output_type": "execute_result",
          "data": {
            "text/plain": [
              "array([[ 1,  2,  3],\n",
              "       [ 4,  5,  6],\n",
              "       [ 7,  8,  9],\n",
              "       [10, 11, 12]])"
            ]
          },
          "metadata": {},
          "execution_count": 76
        }
      ]
    },
    {
      "cell_type": "code",
      "source": [
        "arr * 2 "
      ],
      "metadata": {
        "colab": {
          "base_uri": "https://localhost:8080/"
        },
        "id": "IUG-W5hLsRW6",
        "outputId": "442daa79-bdb7-427b-aca8-34eb84eaf502"
      },
      "execution_count": null,
      "outputs": [
        {
          "output_type": "execute_result",
          "data": {
            "text/plain": [
              "array([[ 2,  4,  6],\n",
              "       [ 8, 10, 12],\n",
              "       [14, 16, 18],\n",
              "       [20, 22, 24]])"
            ]
          },
          "metadata": {},
          "execution_count": 77
        }
      ]
    },
    {
      "cell_type": "code",
      "source": [
        "[2,2,2],\n",
        "[2,2,2],\n",
        "[2,2,2],\n",
        "[2,2,2]"
      ],
      "metadata": {
        "id": "auKH5GpTuLkM"
      },
      "execution_count": null,
      "outputs": []
    },
    {
      "cell_type": "code",
      "source": [
        "arr * np.array([1,2,3]) # 열의 크기를 맞춰주면 행이 늘어난다."
      ],
      "metadata": {
        "colab": {
          "base_uri": "https://localhost:8080/"
        },
        "id": "paH4HYUOsRZu",
        "outputId": "0165ab05-592d-4e21-e43e-bcdb0624845b"
      },
      "execution_count": null,
      "outputs": [
        {
          "output_type": "execute_result",
          "data": {
            "text/plain": [
              "array([[ 1,  4,  9],\n",
              "       [ 4, 10, 18],\n",
              "       [ 7, 16, 27],\n",
              "       [10, 22, 36]])"
            ]
          },
          "metadata": {},
          "execution_count": 78
        }
      ]
    },
    {
      "cell_type": "code",
      "source": [
        "arr * np.array([ # 행의 크기를 맞춰주면 열이 늘어난다.\n",
        "    [1],\n",
        "    [2],\n",
        "    [3],\n",
        "    [4]\n",
        "])"
      ],
      "metadata": {
        "colab": {
          "base_uri": "https://localhost:8080/"
        },
        "id": "GFIXvZf4sRcw",
        "outputId": "a252795d-9e00-4839-c452-51c3e2645be0"
      },
      "execution_count": null,
      "outputs": [
        {
          "output_type": "execute_result",
          "data": {
            "text/plain": [
              "array([[ 1,  2,  3],\n",
              "       [ 8, 10, 12],\n",
              "       [21, 24, 27],\n",
              "       [40, 44, 48]])"
            ]
          },
          "metadata": {},
          "execution_count": 80
        }
      ]
    },
    {
      "cell_type": "markdown",
      "source": [
        "- Norm\n",
        "    - 벡터의 크기를 측정하는 함수"
      ],
      "metadata": {
        "id": "apYtpg9PvBBU"
      }
    },
    {
      "cell_type": "code",
      "source": [
        "np.linalg.norm([-1,2,3],1) # L1 norm"
      ],
      "metadata": {
        "colab": {
          "base_uri": "https://localhost:8080/"
        },
        "id": "9fsNR4gisRfs",
        "outputId": "1094913d-5946-43f1-d417-5e195ff01e9c"
      },
      "execution_count": null,
      "outputs": [
        {
          "output_type": "execute_result",
          "data": {
            "text/plain": [
              "6.0"
            ]
          },
          "metadata": {},
          "execution_count": 81
        }
      ]
    },
    {
      "cell_type": "code",
      "source": [
        "np.linalg.norm([-1,2,3]) # L2 norm"
      ],
      "metadata": {
        "colab": {
          "base_uri": "https://localhost:8080/"
        },
        "id": "sjG4KY5nsRiy",
        "outputId": "b1ab213e-ee44-4185-d81a-302ebd57b91a"
      },
      "execution_count": null,
      "outputs": [
        {
          "output_type": "execute_result",
          "data": {
            "text/plain": [
              "3.7416573867739413"
            ]
          },
          "metadata": {},
          "execution_count": 82
        }
      ]
    },
    {
      "cell_type": "markdown",
      "source": [
        "- 내적(dot product)\n",
        "    - 두 벡터의 각 요소끼리 곱의 합\n",
        "    - 결과값은 스칼라가 나온다"
      ],
      "metadata": {
        "id": "aWxUs01FsRlW"
      }
    },
    {
      "cell_type": "code",
      "source": [
        "a = np.array([3,2,2]) # 사과, 딸기 ,참외 빈도수\n",
        "b = np.array([2,1,2]) \n",
        "np.dot(a,b)"
      ],
      "metadata": {
        "colab": {
          "base_uri": "https://localhost:8080/"
        },
        "id": "oIG7DM7asRoD",
        "outputId": "b5e0762b-4794-438e-bb6e-5c23a8470200"
      },
      "execution_count": null,
      "outputs": [
        {
          "output_type": "execute_result",
          "data": {
            "text/plain": [
              "12"
            ]
          },
          "metadata": {},
          "execution_count": 91
        }
      ]
    },
    {
      "cell_type": "code",
      "source": [
        "a @ b"
      ],
      "metadata": {
        "colab": {
          "base_uri": "https://localhost:8080/"
        },
        "id": "MEdcDpkvwZx3",
        "outputId": "50118a4b-0e0b-4d45-95c2-8b947e118052"
      },
      "execution_count": null,
      "outputs": [
        {
          "output_type": "execute_result",
          "data": {
            "text/plain": [
              "12"
            ]
          },
          "metadata": {},
          "execution_count": 92
        }
      ]
    },
    {
      "cell_type": "markdown",
      "source": [
        "- 행렬곱\n",
        "    - 2차원 공간에서 내적을 한다.\n",
        "    - 앞에 행렬의 열개수와 뒤에 행렬의 행개수가 동일해야한다.\n",
        "    - 연산결과의 shape는 앞에 행렬의 행개수와 뒤에 행렬의 열개수가 나온다.\n"
      ],
      "metadata": {
        "id": "eeW6WMPcwfAu"
      }
    },
    {
      "cell_type": "code",
      "source": [
        "x = np.array([\n",
        "    # 한행은 한학생의 과거 모의고사 점수\n",
        "    [80,90,70],\n",
        "    [81,93,72],\n",
        "    [71,73,62],\n",
        "    [61,10,12] \n",
        "]) "
      ],
      "metadata": {
        "id": "IKYDnRMo1chB"
      },
      "execution_count": null,
      "outputs": []
    },
    {
      "cell_type": "code",
      "source": [
        "w = np.array([ # 가중치를 구하고 내적한후 실제점수와 오차값을 구한다. 다중회귀로 활용할 수 있다.\n",
        "    [0.4],\n",
        "    [0.2],\n",
        "    [0.3]\n",
        "])\n",
        "x @ w"
      ],
      "metadata": {
        "colab": {
          "base_uri": "https://localhost:8080/"
        },
        "id": "9pDcm1JG2KVL",
        "outputId": "2e0a2750-4db0-4b29-ed26-c14a063e7db6"
      },
      "execution_count": null,
      "outputs": [
        {
          "output_type": "execute_result",
          "data": {
            "text/plain": [
              "array([[71. ],\n",
              "       [72.6],\n",
              "       [61.6],\n",
              "       [30. ]])"
            ]
          },
          "metadata": {},
          "execution_count": 96
        }
      ]
    },
    {
      "cell_type": "code",
      "source": [
        "y = np.array([\n",
        "    # 실제 시험에서의 점수\n",
        "    [77],\n",
        "    [80],\n",
        "    [71],\n",
        "    [65]\n",
        "])"
      ],
      "metadata": {
        "id": "Lrk0O4RZ10zS"
      },
      "execution_count": null,
      "outputs": []
    },
    {
      "cell_type": "markdown",
      "source": [
        "# 배열 만들기"
      ],
      "metadata": {
        "id": "l1u5r-2y25GM"
      }
    },
    {
      "cell_type": "markdown",
      "source": [
        "- `np.arange`\n",
        "    - `range` 함수와 비슷하지만 ndarray 가 반환된다."
      ],
      "metadata": {
        "id": "Rmp2nf7F3yZZ"
      }
    },
    {
      "cell_type": "code",
      "source": [
        "np.arange(10)"
      ],
      "metadata": {
        "colab": {
          "base_uri": "https://localhost:8080/"
        },
        "id": "JuUJAQnY30my",
        "outputId": "3aa173fb-5099-4b4c-f048-a2f6b78a2dcb"
      },
      "execution_count": null,
      "outputs": [
        {
          "output_type": "execute_result",
          "data": {
            "text/plain": [
              "array([0, 1, 2, 3, 4, 5, 6, 7, 8, 9])"
            ]
          },
          "metadata": {},
          "execution_count": 97
        }
      ]
    },
    {
      "cell_type": "code",
      "source": [
        "np.arange(3,6,2)"
      ],
      "metadata": {
        "colab": {
          "base_uri": "https://localhost:8080/"
        },
        "id": "oOR-se0x30v1",
        "outputId": "950d5546-ddf4-463e-fe8d-7418e913254a"
      },
      "execution_count": null,
      "outputs": [
        {
          "output_type": "execute_result",
          "data": {
            "text/plain": [
              "array([3, 5])"
            ]
          },
          "metadata": {},
          "execution_count": 103
        }
      ]
    },
    {
      "cell_type": "markdown",
      "source": [
        "- `np.zeros`\n",
        "    - 0 으로 채워진 배열 만들기"
      ],
      "metadata": {
        "id": "TRDFzJv130yV"
      }
    },
    {
      "cell_type": "code",
      "source": [
        "np.zeros(10)"
      ],
      "metadata": {
        "colab": {
          "base_uri": "https://localhost:8080/"
        },
        "id": "13ikCaJU300O",
        "outputId": "69445b31-4d07-449c-d49c-f3a06a2256b9"
      },
      "execution_count": null,
      "outputs": [
        {
          "output_type": "execute_result",
          "data": {
            "text/plain": [
              "array([0., 0., 0., 0., 0., 0., 0., 0., 0., 0.])"
            ]
          },
          "metadata": {},
          "execution_count": 104
        }
      ]
    },
    {
      "cell_type": "code",
      "source": [
        "np.zeros((2,3))"
      ],
      "metadata": {
        "colab": {
          "base_uri": "https://localhost:8080/"
        },
        "id": "mPF7fKNX302Q",
        "outputId": "7d811186-8ca3-433f-9dc4-cfe3183b2ace"
      },
      "execution_count": null,
      "outputs": [
        {
          "output_type": "execute_result",
          "data": {
            "text/plain": [
              "array([[0., 0., 0.],\n",
              "       [0., 0., 0.]])"
            ]
          },
          "metadata": {},
          "execution_count": 106
        }
      ]
    },
    {
      "cell_type": "markdown",
      "source": [
        "- `np.ones`\n",
        "    - 1로 채워진 배열 만들기"
      ],
      "metadata": {
        "id": "fUbPFUb1304V"
      }
    },
    {
      "cell_type": "code",
      "source": [
        "np.ones([3,4])"
      ],
      "metadata": {
        "colab": {
          "base_uri": "https://localhost:8080/"
        },
        "id": "-_YbhnQb308Q",
        "outputId": "47814ab1-b923-4d30-9cf3-92a831d2ac88"
      },
      "execution_count": null,
      "outputs": [
        {
          "output_type": "execute_result",
          "data": {
            "text/plain": [
              "array([[1., 1., 1., 1.],\n",
              "       [1., 1., 1., 1.],\n",
              "       [1., 1., 1., 1.]])"
            ]
          },
          "metadata": {},
          "execution_count": 108
        }
      ]
    },
    {
      "cell_type": "markdown",
      "source": [
        "- `np.full`\n",
        "    - 지정한 값으로 채워진 배열을 만들때.."
      ],
      "metadata": {
        "id": "SCx_c2lw309-"
      }
    },
    {
      "cell_type": "code",
      "source": [
        "np.full([3,5],True)"
      ],
      "metadata": {
        "colab": {
          "base_uri": "https://localhost:8080/"
        },
        "id": "76MEqpvZ31B4",
        "outputId": "f3c68df4-5739-4c63-fb22-ad1287250814"
      },
      "execution_count": null,
      "outputs": [
        {
          "output_type": "execute_result",
          "data": {
            "text/plain": [
              "array([[ True,  True,  True,  True,  True],\n",
              "       [ True,  True,  True,  True,  True],\n",
              "       [ True,  True,  True,  True,  True]])"
            ]
          },
          "metadata": {},
          "execution_count": 109
        }
      ]
    },
    {
      "cell_type": "code",
      "source": [
        "np.full([3,5],100)"
      ],
      "metadata": {
        "colab": {
          "base_uri": "https://localhost:8080/"
        },
        "id": "kV18pU5l31EY",
        "outputId": "e969b802-6cac-4b30-c792-64d448af5b9f"
      },
      "execution_count": null,
      "outputs": [
        {
          "output_type": "execute_result",
          "data": {
            "text/plain": [
              "array([[100, 100, 100, 100, 100],\n",
              "       [100, 100, 100, 100, 100],\n",
              "       [100, 100, 100, 100, 100]])"
            ]
          },
          "metadata": {},
          "execution_count": 110
        }
      ]
    },
    {
      "cell_type": "markdown",
      "source": [
        "# numpy 집계함수"
      ],
      "metadata": {
        "id": "cn5POmZZ31GM"
      }
    },
    {
      "cell_type": "code",
      "source": [
        "scores = np.array([80,90,100,70,40,90])"
      ],
      "metadata": {
        "id": "leDUcg7g31KN"
      },
      "execution_count": null,
      "outputs": []
    },
    {
      "cell_type": "code",
      "source": [
        "np.sum(scores) , scores.sum()"
      ],
      "metadata": {
        "colab": {
          "base_uri": "https://localhost:8080/"
        },
        "id": "25vi7q6A5hOV",
        "outputId": "2b3d6fe0-ee45-49f5-95ab-e7fcbd98659c"
      },
      "execution_count": null,
      "outputs": [
        {
          "output_type": "execute_result",
          "data": {
            "text/plain": [
              "(470, 470)"
            ]
          },
          "metadata": {},
          "execution_count": 114
        }
      ]
    },
    {
      "cell_type": "code",
      "source": [
        "np.mean(scores), scores.mean()"
      ],
      "metadata": {
        "colab": {
          "base_uri": "https://localhost:8080/"
        },
        "id": "xiOLDc1-5hdK",
        "outputId": "b5cfc58f-c64e-416e-9baa-092c621d270f"
      },
      "execution_count": null,
      "outputs": [
        {
          "output_type": "execute_result",
          "data": {
            "text/plain": [
              "(78.33333333333333, 78.33333333333333)"
            ]
          },
          "metadata": {},
          "execution_count": 115
        }
      ]
    },
    {
      "cell_type": "code",
      "source": [
        "np.median(scores) # 중앙값 함수만 있음"
      ],
      "metadata": {
        "colab": {
          "base_uri": "https://localhost:8080/"
        },
        "id": "z17QjDv85hf1",
        "outputId": "c04422c7-6951-45b6-89e4-bb6f2a58213a"
      },
      "execution_count": null,
      "outputs": [
        {
          "output_type": "execute_result",
          "data": {
            "text/plain": [
              "85.0"
            ]
          },
          "metadata": {},
          "execution_count": 118
        }
      ]
    },
    {
      "cell_type": "code",
      "source": [
        "np.std(scores) # 표준편차"
      ],
      "metadata": {
        "colab": {
          "base_uri": "https://localhost:8080/"
        },
        "id": "yfb8oYow5hh4",
        "outputId": "c8d964ba-46bf-445e-b611-9368428a5d10"
      },
      "execution_count": null,
      "outputs": [
        {
          "output_type": "execute_result",
          "data": {
            "text/plain": [
              "19.50783318453271"
            ]
          },
          "metadata": {},
          "execution_count": 119
        }
      ]
    },
    {
      "cell_type": "code",
      "source": [
        "np.var(scores) # 분산"
      ],
      "metadata": {
        "colab": {
          "base_uri": "https://localhost:8080/"
        },
        "id": "L8mGYKvP5hkB",
        "outputId": "9bb2dbf8-5d18-4576-a353-e4a425289e8b"
      },
      "execution_count": null,
      "outputs": [
        {
          "output_type": "execute_result",
          "data": {
            "text/plain": [
              "380.5555555555556"
            ]
          },
          "metadata": {},
          "execution_count": 120
        }
      ]
    },
    {
      "cell_type": "code",
      "source": [
        "np.max(scores) , scores.max() # 최댓값"
      ],
      "metadata": {
        "colab": {
          "base_uri": "https://localhost:8080/"
        },
        "id": "kpDfpMCe5hmD",
        "outputId": "31652675-59fe-4dee-810d-a7c0308b783e"
      },
      "execution_count": null,
      "outputs": [
        {
          "output_type": "execute_result",
          "data": {
            "text/plain": [
              "(100, 100)"
            ]
          },
          "metadata": {},
          "execution_count": 123
        }
      ]
    },
    {
      "cell_type": "code",
      "source": [
        "np.min(scores), scores.min() # 최솟값 "
      ],
      "metadata": {
        "colab": {
          "base_uri": "https://localhost:8080/"
        },
        "id": "vsRYh_t85hoI",
        "outputId": "602ddfcd-0a07-466f-8932-d212d4111732"
      },
      "execution_count": null,
      "outputs": [
        {
          "output_type": "execute_result",
          "data": {
            "text/plain": [
              "(40, 40)"
            ]
          },
          "metadata": {},
          "execution_count": 126
        }
      ]
    },
    {
      "cell_type": "code",
      "source": [
        "np.argmin(scores) # 데이터의 최솟값 인덱스 반환"
      ],
      "metadata": {
        "colab": {
          "base_uri": "https://localhost:8080/"
        },
        "id": "X-o-w6ny5hqD",
        "outputId": "81d6b33a-fef1-4e6d-e859-0a8dce61b696"
      },
      "execution_count": null,
      "outputs": [
        {
          "output_type": "execute_result",
          "data": {
            "text/plain": [
              "4"
            ]
          },
          "metadata": {},
          "execution_count": 127
        }
      ]
    },
    {
      "cell_type": "code",
      "source": [
        "np.argmax(scores) # 데이터의 최대값 인덱스 반환"
      ],
      "metadata": {
        "colab": {
          "base_uri": "https://localhost:8080/"
        },
        "id": "yR2ELSUr5hsi",
        "outputId": "6cb9c964-f3bd-4380-94fb-df4b3db92b76"
      },
      "execution_count": null,
      "outputs": [
        {
          "output_type": "execute_result",
          "data": {
            "text/plain": [
              "2"
            ]
          },
          "metadata": {},
          "execution_count": 128
        }
      ]
    },
    {
      "cell_type": "code",
      "source": [
        "arr = np.array([1,3,3,3,6,6,6,6,6])\n",
        "np.unique(arr) # 고유값만 보기(중복제거)"
      ],
      "metadata": {
        "colab": {
          "base_uri": "https://localhost:8080/"
        },
        "id": "Muj3R_AC5huZ",
        "outputId": "3f2ad15a-2c22-498e-dfbd-3567b664dd8c"
      },
      "execution_count": null,
      "outputs": [
        {
          "output_type": "execute_result",
          "data": {
            "text/plain": [
              "array([1, 3, 6])"
            ]
          },
          "metadata": {},
          "execution_count": 129
        }
      ]
    },
    {
      "cell_type": "code",
      "source": [
        "np.square([2,3,4]) # 각 요소에 제곱"
      ],
      "metadata": {
        "colab": {
          "base_uri": "https://localhost:8080/"
        },
        "id": "3OESlbAn5hwd",
        "outputId": "082521fc-bf6e-4a35-a879-bffa42213b1d"
      },
      "execution_count": null,
      "outputs": [
        {
          "output_type": "execute_result",
          "data": {
            "text/plain": [
              "array([ 4,  9, 16])"
            ]
          },
          "metadata": {},
          "execution_count": 130
        }
      ]
    },
    {
      "cell_type": "code",
      "source": [
        "np.sqrt([2,3,4]) # 각 요소에 루트"
      ],
      "metadata": {
        "colab": {
          "base_uri": "https://localhost:8080/"
        },
        "id": "8IZlM6kc5hyh",
        "outputId": "333c2eb0-87c2-4968-a2f9-c76bb9e63744"
      },
      "execution_count": null,
      "outputs": [
        {
          "output_type": "execute_result",
          "data": {
            "text/plain": [
              "array([1.41421356, 1.73205081, 2.        ])"
            ]
          },
          "metadata": {},
          "execution_count": 131
        }
      ]
    },
    {
      "cell_type": "code",
      "source": [
        "np.round([5.3,7.5,8.8],1) # 반올림 , 소수점 첫째짜리까지만 반올림하겠다"
      ],
      "metadata": {
        "colab": {
          "base_uri": "https://localhost:8080/"
        },
        "id": "xvvYYg7r5h05",
        "outputId": "1b3fb364-e657-4902-bbfb-561505b506a4"
      },
      "execution_count": null,
      "outputs": [
        {
          "output_type": "execute_result",
          "data": {
            "text/plain": [
              "array([5.3, 7.5, 8.8])"
            ]
          },
          "metadata": {},
          "execution_count": 134
        }
      ]
    },
    {
      "cell_type": "code",
      "source": [
        "np.ceil([5.2,4.8,5.9]) # 올림"
      ],
      "metadata": {
        "colab": {
          "base_uri": "https://localhost:8080/"
        },
        "id": "3VkXiqCN5h3C",
        "outputId": "767d9948-721e-4e76-fab6-416e4764fc0a"
      },
      "execution_count": null,
      "outputs": [
        {
          "output_type": "execute_result",
          "data": {
            "text/plain": [
              "array([6., 5., 6.])"
            ]
          },
          "metadata": {},
          "execution_count": 133
        }
      ]
    },
    {
      "cell_type": "code",
      "source": [
        "np.floor([5.2,4.8,5.9]) #버림"
      ],
      "metadata": {
        "colab": {
          "base_uri": "https://localhost:8080/"
        },
        "id": "eQw21GQr5h5J",
        "outputId": "69a04341-66e6-4c07-ecec-8ef0d874607d"
      },
      "execution_count": null,
      "outputs": [
        {
          "output_type": "execute_result",
          "data": {
            "text/plain": [
              "array([5., 4., 5.])"
            ]
          },
          "metadata": {},
          "execution_count": 135
        }
      ]
    },
    {
      "cell_type": "markdown",
      "source": [
        "- exp 함수 : $y=e^x$\n",
        "    - 자연상수인 오일러의 수를 밑으로하는 지수함수\n",
        "    - x 에 0이 들어가면 1, 1이 들어가면 오일러의 수가 나온다.\n",
        "    - x 값이 조금만 커져도 무한대로 빠진다."
      ],
      "metadata": {
        "id": "aQjY2Lg05h7Q"
      }
    },
    {
      "cell_type": "code",
      "source": [
        "np.exp(1000)"
      ],
      "metadata": {
        "colab": {
          "base_uri": "https://localhost:8080/"
        },
        "id": "3uFLr8nv5h9a",
        "outputId": "489a32f2-524e-4634-925c-78d71d9651a4"
      },
      "execution_count": null,
      "outputs": [
        {
          "output_type": "stream",
          "name": "stderr",
          "text": [
            "/usr/local/lib/python3.7/dist-packages/ipykernel_launcher.py:1: RuntimeWarning: overflow encountered in exp\n",
            "  \"\"\"Entry point for launching an IPython kernel.\n"
          ]
        },
        {
          "output_type": "execute_result",
          "data": {
            "text/plain": [
              "inf"
            ]
          },
          "metadata": {},
          "execution_count": 136
        }
      ]
    },
    {
      "cell_type": "code",
      "source": [
        "np.exp(0)"
      ],
      "metadata": {
        "colab": {
          "base_uri": "https://localhost:8080/"
        },
        "id": "AQ9Oaw675h_l",
        "outputId": "15df109d-b861-43ed-e28b-b51d47d03c37"
      },
      "execution_count": null,
      "outputs": [
        {
          "output_type": "execute_result",
          "data": {
            "text/plain": [
              "1.0"
            ]
          },
          "metadata": {},
          "execution_count": 137
        }
      ]
    },
    {
      "cell_type": "code",
      "source": [
        "np.exp(1)"
      ],
      "metadata": {
        "colab": {
          "base_uri": "https://localhost:8080/"
        },
        "id": "jJgfNw_A5iBs",
        "outputId": "7c6f5a69-ab1f-40b2-939e-e0812f923c79"
      },
      "execution_count": null,
      "outputs": [
        {
          "output_type": "execute_result",
          "data": {
            "text/plain": [
              "2.718281828459045"
            ]
          },
          "metadata": {},
          "execution_count": 139
        }
      ]
    },
    {
      "cell_type": "code",
      "source": [
        "np.exp([1,2,3])"
      ],
      "metadata": {
        "colab": {
          "base_uri": "https://localhost:8080/"
        },
        "id": "0LqZsnsA5iD7",
        "outputId": "56592fa4-2b67-4617-a217-fa83e2558d47"
      },
      "execution_count": null,
      "outputs": [
        {
          "output_type": "execute_result",
          "data": {
            "text/plain": [
              "array([ 2.71828183,  7.3890561 , 20.08553692])"
            ]
          },
          "metadata": {},
          "execution_count": 140
        }
      ]
    },
    {
      "cell_type": "markdown",
      "source": [
        "## 자연로그 함수: $y=\\log_e x$\n",
        "- 오일러수를 밑으로하는 로그함수\n",
        "- x에 0이하가 들어가면 무한대, 1이 들어가면 0\n",
        "\n"
      ],
      "metadata": {
        "id": "FkyHOutt5iGG"
      }
    },
    {
      "cell_type": "code",
      "source": [
        "np.log([0,1])"
      ],
      "metadata": {
        "colab": {
          "base_uri": "https://localhost:8080/"
        },
        "id": "QxAlrSNX-Hig",
        "outputId": "bebc6152-ff49-4004-df5b-c7d749037884"
      },
      "execution_count": null,
      "outputs": [
        {
          "output_type": "stream",
          "name": "stderr",
          "text": [
            "/usr/local/lib/python3.7/dist-packages/ipykernel_launcher.py:1: RuntimeWarning: divide by zero encountered in log\n",
            "  \"\"\"Entry point for launching an IPython kernel.\n"
          ]
        },
        {
          "output_type": "execute_result",
          "data": {
            "text/plain": [
              "array([-inf,   0.])"
            ]
          },
          "metadata": {},
          "execution_count": 141
        }
      ]
    },
    {
      "cell_type": "code",
      "source": [
        "np.log(12312323123123123)"
      ],
      "metadata": {
        "colab": {
          "base_uri": "https://localhost:8080/"
        },
        "id": "GSpY1HWr-Wvm",
        "outputId": "ca33afaf-00ab-4c1a-d373-0b13353bcdd0"
      },
      "execution_count": null,
      "outputs": [
        {
          "output_type": "execute_result",
          "data": {
            "text/plain": [
              "37.049377035671036"
            ]
          },
          "metadata": {},
          "execution_count": 144
        }
      ]
    },
    {
      "cell_type": "markdown",
      "source": [
        "- 분위수\n",
        "    - 데이터를 크기 순서에 따른 위치값\n",
        "    - 이상치 영향을 덜 받는다.\n",
        "    - 0.5를 줄 경우 중앙값이 나온다"
      ],
      "metadata": {
        "id": "TRAa8aKX-aT0"
      }
    },
    {
      "cell_type": "code",
      "source": [
        "arr = np.array([100,3,3,6,7,9,20,10,9])\n",
        "np.quantile(arr,0.5) , np.median(arr) , np.mean(arr)"
      ],
      "metadata": {
        "colab": {
          "base_uri": "https://localhost:8080/"
        },
        "id": "IO2mCn9qdqpc",
        "outputId": "c8cabaaa-d71e-4407-dea8-6948953b851c"
      },
      "execution_count": null,
      "outputs": [
        {
          "output_type": "execute_result",
          "data": {
            "text/plain": [
              "(9.0, 9.0, 18.555555555555557)"
            ]
          },
          "metadata": {},
          "execution_count": 149
        }
      ]
    },
    {
      "cell_type": "code",
      "source": [
        "np.max(arr) * 0.9"
      ],
      "metadata": {
        "colab": {
          "base_uri": "https://localhost:8080/"
        },
        "id": "hlmRKg0zdyMp",
        "outputId": "adcadb78-551a-484c-b19d-3da935c6e85e"
      },
      "execution_count": null,
      "outputs": [
        {
          "output_type": "execute_result",
          "data": {
            "text/plain": [
              "90.0"
            ]
          },
          "metadata": {},
          "execution_count": 150
        }
      ]
    },
    {
      "cell_type": "code",
      "source": [
        "np.quantile(arr,0.9)"
      ],
      "metadata": {
        "colab": {
          "base_uri": "https://localhost:8080/"
        },
        "id": "jts6O6N7eIcW",
        "outputId": "041d82b2-b0d3-4454-c3a4-664abd707a7c"
      },
      "execution_count": null,
      "outputs": [
        {
          "output_type": "execute_result",
          "data": {
            "text/plain": [
              "36.000000000000014"
            ]
          },
          "metadata": {},
          "execution_count": 151
        }
      ]
    },
    {
      "cell_type": "code",
      "source": [
        "np.quantile(arr,[0,0.25,0.5,0.75,1]) # 4등분한 경우"
      ],
      "metadata": {
        "colab": {
          "base_uri": "https://localhost:8080/"
        },
        "id": "CWKaSE5leNjG",
        "outputId": "100b6fa7-0554-45ae-9795-b37b476b0ef6"
      },
      "execution_count": null,
      "outputs": [
        {
          "output_type": "execute_result",
          "data": {
            "text/plain": [
              "array([  3.,   6.,   9.,  10., 100.])"
            ]
          },
          "metadata": {},
          "execution_count": 153
        }
      ]
    },
    {
      "cell_type": "markdown",
      "source": [
        "- 정렬\n"
      ],
      "metadata": {
        "id": "JHbyLKIKeXJG"
      }
    },
    {
      "cell_type": "code",
      "source": [
        "np.sort(arr)"
      ],
      "metadata": {
        "colab": {
          "base_uri": "https://localhost:8080/"
        },
        "id": "FtaZOM5jeq6t",
        "outputId": "74cd34b4-cf8f-42df-92d7-193c90e1ea21"
      },
      "execution_count": null,
      "outputs": [
        {
          "output_type": "execute_result",
          "data": {
            "text/plain": [
              "array([  3,   3,   6,   7,   9,   9,  10,  20, 100])"
            ]
          },
          "metadata": {},
          "execution_count": 154
        }
      ]
    },
    {
      "cell_type": "code",
      "source": [
        "np.sort(arr)[::-1] # 내림차순"
      ],
      "metadata": {
        "colab": {
          "base_uri": "https://localhost:8080/"
        },
        "id": "P1Vq8K-Zetf7",
        "outputId": "216f8e36-e0fa-48c3-daf7-5dea85bf76fd"
      },
      "execution_count": null,
      "outputs": [
        {
          "output_type": "execute_result",
          "data": {
            "text/plain": [
              "array([100,  20,  10,   9,   9,   7,   6,   3,   3])"
            ]
          },
          "metadata": {},
          "execution_count": 156
        }
      ]
    },
    {
      "cell_type": "markdown",
      "source": [
        "## 배열 조건연산"
      ],
      "metadata": {
        "id": "4mD2CrKSe0fv"
      }
    },
    {
      "cell_type": "code",
      "source": [
        "scores = np.array([80,90,100,70,40,90])\n",
        "scores"
      ],
      "metadata": {
        "colab": {
          "base_uri": "https://localhost:8080/"
        },
        "id": "ox_L-iUTfE9z",
        "outputId": "313edab1-a9cf-4bf2-e2b3-787f0144ccff"
      },
      "execution_count": null,
      "outputs": [
        {
          "output_type": "execute_result",
          "data": {
            "text/plain": [
              "array([ 80,  90, 100,  70,  40,  90])"
            ]
          },
          "metadata": {},
          "execution_count": 158
        }
      ]
    },
    {
      "cell_type": "code",
      "source": [
        "scores >= 80"
      ],
      "metadata": {
        "colab": {
          "base_uri": "https://localhost:8080/"
        },
        "id": "N3LfyPnXfMUw",
        "outputId": "a8fea143-3938-441e-efac-4a24193665cc"
      },
      "execution_count": null,
      "outputs": [
        {
          "output_type": "execute_result",
          "data": {
            "text/plain": [
              "array([ True,  True,  True, False, False,  True])"
            ]
          },
          "metadata": {},
          "execution_count": 161
        }
      ]
    },
    {
      "cell_type": "markdown",
      "source": [
        "- `np.any`\n",
        "     - 조건에 참이 하나라도 있으면 True"
      ],
      "metadata": {
        "id": "vx2w4SSyfQfy"
      }
    },
    {
      "cell_type": "code",
      "source": [
        "np.any(scores >= 100)"
      ],
      "metadata": {
        "colab": {
          "base_uri": "https://localhost:8080/"
        },
        "id": "jQt-lm2Tfhpg",
        "outputId": "3512d224-1f88-44ef-fdba-452c3d98b0ca"
      },
      "execution_count": null,
      "outputs": [
        {
          "output_type": "execute_result",
          "data": {
            "text/plain": [
              "True"
            ]
          },
          "metadata": {},
          "execution_count": 162
        }
      ]
    },
    {
      "cell_type": "markdown",
      "source": [
        "- `np.all`\n",
        "    - 조건이 모두 참이면 True"
      ],
      "metadata": {
        "id": "0EIeNIo_fkrv"
      }
    },
    {
      "cell_type": "code",
      "source": [
        "np.all(scores >= 70) # 2개의 배열 요소가 같은지 확인할때 사용"
      ],
      "metadata": {
        "colab": {
          "base_uri": "https://localhost:8080/"
        },
        "id": "-_wlDWGCfvLX",
        "outputId": "ddfecc1b-314d-4ff5-df50-b153e5db91b1"
      },
      "execution_count": null,
      "outputs": [
        {
          "output_type": "execute_result",
          "data": {
            "text/plain": [
              "False"
            ]
          },
          "metadata": {},
          "execution_count": 165
        }
      ]
    },
    {
      "cell_type": "code",
      "source": [
        "np.all(scores == scores) # 2개의 배열 요소가 같은지 확인할때 사용"
      ],
      "metadata": {
        "colab": {
          "base_uri": "https://localhost:8080/"
        },
        "id": "mlffVb39fzbC",
        "outputId": "bf3afd87-aca1-47c9-c0b3-fa9324d41209"
      },
      "execution_count": null,
      "outputs": [
        {
          "output_type": "execute_result",
          "data": {
            "text/plain": [
              "True"
            ]
          },
          "metadata": {},
          "execution_count": 166
        }
      ]
    },
    {
      "cell_type": "markdown",
      "source": [
        "- `np.where`\n",
        "    "
      ],
      "metadata": {
        "id": "_GgUUnoVf_2-"
      }
    },
    {
      "cell_type": "code",
      "source": [
        "np.where(scores >= 80 , 1, 0)"
      ],
      "metadata": {
        "colab": {
          "base_uri": "https://localhost:8080/"
        },
        "id": "yMKar-2YgIfD",
        "outputId": "9b5834ca-3573-474b-854c-d45f93f6c28b"
      },
      "execution_count": null,
      "outputs": [
        {
          "output_type": "execute_result",
          "data": {
            "text/plain": [
              "array([1, 1, 1, 0, 0, 1])"
            ]
          },
          "metadata": {},
          "execution_count": 167
        }
      ]
    },
    {
      "cell_type": "code",
      "source": [
        "np.where(scores >= 80 , scores,0)"
      ],
      "metadata": {
        "colab": {
          "base_uri": "https://localhost:8080/"
        },
        "id": "4yRBhlnDgRB8",
        "outputId": "085b7623-d2f2-42a9-890a-6eb0877eafe1"
      },
      "execution_count": null,
      "outputs": [
        {
          "output_type": "execute_result",
          "data": {
            "text/plain": [
              "array([ 80,  90, 100,   0,   0,  90])"
            ]
          },
          "metadata": {},
          "execution_count": 168
        }
      ]
    },
    {
      "cell_type": "code",
      "source": [
        "arr = np.array([\n",
        "    [1,2,3],\n",
        "    [0,0,3],\n",
        "    [0,5,3]\n",
        "])\n",
        "arr"
      ],
      "metadata": {
        "colab": {
          "base_uri": "https://localhost:8080/"
        },
        "id": "xx2nRHdpgq7i",
        "outputId": "38fb7627-fb03-4098-d282-5eb3bc812f22"
      },
      "execution_count": null,
      "outputs": [
        {
          "output_type": "execute_result",
          "data": {
            "text/plain": [
              "array([[1, 2, 3],\n",
              "       [0, 0, 3],\n",
              "       [0, 5, 3]])"
            ]
          },
          "metadata": {},
          "execution_count": 170
        }
      ]
    },
    {
      "cell_type": "code",
      "source": [
        "np.where(arr > 0, 1,arr)"
      ],
      "metadata": {
        "colab": {
          "base_uri": "https://localhost:8080/"
        },
        "id": "qsF0tD1ZghE5",
        "outputId": "fa31f964-feea-458b-cd6a-b8a9ef36f8f3"
      },
      "execution_count": null,
      "outputs": [
        {
          "output_type": "execute_result",
          "data": {
            "text/plain": [
              "array([[1, 1, 1],\n",
              "       [0, 0, 1],\n",
              "       [0, 1, 1]])"
            ]
          },
          "metadata": {},
          "execution_count": 172
        }
      ]
    },
    {
      "cell_type": "markdown",
      "source": [
        "- `np.clip`\n",
        "    - (array,min,max)\n",
        "    - 배열에 요소에 min 보다 작으면 min으로 변경\n",
        "    - max 보다 크면 max값으로 변경"
      ],
      "metadata": {
        "id": "DsaKIiz7gjtF"
      }
    },
    {
      "cell_type": "code",
      "source": [
        "arr"
      ],
      "metadata": {
        "colab": {
          "base_uri": "https://localhost:8080/"
        },
        "id": "PPSs5Gsygj6_",
        "outputId": "b92bea8c-c9b3-4498-feca-521e92ce2a09"
      },
      "execution_count": null,
      "outputs": [
        {
          "output_type": "execute_result",
          "data": {
            "text/plain": [
              "array([[1, 2, 3],\n",
              "       [0, 0, 3],\n",
              "       [0, 5, 3]])"
            ]
          },
          "metadata": {},
          "execution_count": 173
        }
      ]
    },
    {
      "cell_type": "code",
      "source": [
        "np.clip(arr, 1,3)"
      ],
      "metadata": {
        "colab": {
          "base_uri": "https://localhost:8080/"
        },
        "id": "aff3UyOPgj9L",
        "outputId": "1cce3822-9ed7-466a-810b-68e63706b780"
      },
      "execution_count": null,
      "outputs": [
        {
          "output_type": "execute_result",
          "data": {
            "text/plain": [
              "array([[1, 2, 3],\n",
              "       [1, 1, 3],\n",
              "       [1, 3, 3]])"
            ]
          },
          "metadata": {},
          "execution_count": 174
        }
      ]
    },
    {
      "cell_type": "code",
      "source": [
        "np.clip(arr,[1,3,1],[3,4,2]) #하나의 열이라고 생각하면됨"
      ],
      "metadata": {
        "colab": {
          "base_uri": "https://localhost:8080/"
        },
        "id": "rd-BXmj2gj--",
        "outputId": "c0cc6879-8f76-484d-8ed3-ec6a64a27d21"
      },
      "execution_count": null,
      "outputs": [
        {
          "output_type": "execute_result",
          "data": {
            "text/plain": [
              "array([[1, 3, 2],\n",
              "       [1, 3, 2],\n",
              "       [1, 4, 2]])"
            ]
          },
          "metadata": {},
          "execution_count": 177
        }
      ]
    },
    {
      "cell_type": "markdown",
      "source": [
        "- 무한대값"
      ],
      "metadata": {
        "id": "ERIOQ1x4gkBK"
      }
    },
    {
      "cell_type": "code",
      "source": [
        "np.inf"
      ],
      "metadata": {
        "colab": {
          "base_uri": "https://localhost:8080/"
        },
        "id": "sfcg7fSKgkEx",
        "outputId": "1e8a12f3-d997-4b16-9cb7-80e455fd9bcd"
      },
      "execution_count": null,
      "outputs": [
        {
          "output_type": "execute_result",
          "data": {
            "text/plain": [
              "inf"
            ]
          },
          "metadata": {},
          "execution_count": 179
        }
      ]
    },
    {
      "cell_type": "markdown",
      "source": [
        "nan 값(결측치)\n"
      ],
      "metadata": {
        "id": "LlkpCKsPgkHI"
      }
    },
    {
      "cell_type": "code",
      "source": [
        "np.nan"
      ],
      "metadata": {
        "colab": {
          "base_uri": "https://localhost:8080/"
        },
        "id": "yUWTAHBLgkJp",
        "outputId": "11864148-0fab-449d-fa40-1c8fcc51710b"
      },
      "execution_count": null,
      "outputs": [
        {
          "output_type": "execute_result",
          "data": {
            "text/plain": [
              "nan"
            ]
          },
          "metadata": {},
          "execution_count": 180
        }
      ]
    },
    {
      "cell_type": "markdown",
      "source": [
        "- 전처리 과정에서 nan, inf값이 생겼다고 가정"
      ],
      "metadata": {
        "id": "sOBmavEbgkLu"
      }
    },
    {
      "cell_type": "code",
      "source": [
        "arr = np.array([np.inf,np.nan, 4,5,7,8.1])\n",
        "arr"
      ],
      "metadata": {
        "colab": {
          "base_uri": "https://localhost:8080/"
        },
        "id": "XNRYPR0fgkOG",
        "outputId": "d3a7312a-3329-463c-9c28-777ad1ef5924"
      },
      "execution_count": null,
      "outputs": [
        {
          "output_type": "execute_result",
          "data": {
            "text/plain": [
              "array([inf, nan, 4. , 5. , 7. , 8.1])"
            ]
          },
          "metadata": {},
          "execution_count": 321
        }
      ]
    },
    {
      "cell_type": "markdown",
      "source": [
        "- 무한대값 찾기"
      ],
      "metadata": {
        "id": "vR7eW324gkQO"
      }
    },
    {
      "cell_type": "code",
      "source": [
        "np.isinf(arr)"
      ],
      "metadata": {
        "colab": {
          "base_uri": "https://localhost:8080/"
        },
        "id": "MWeOs1v8gkbk",
        "outputId": "4bce25b7-bbeb-4b97-e1d9-97ab48dd320b"
      },
      "execution_count": null,
      "outputs": [
        {
          "output_type": "execute_result",
          "data": {
            "text/plain": [
              "array([ True, False, False, False, False, False])"
            ]
          },
          "metadata": {},
          "execution_count": 322
        }
      ]
    },
    {
      "cell_type": "code",
      "source": [
        "# arr[np.isinf(arr)]=0\n",
        "# arr"
      ],
      "metadata": {
        "id": "NTtLXqECkE4j"
      },
      "execution_count": null,
      "outputs": []
    },
    {
      "cell_type": "markdown",
      "source": [
        "- nan 값 찾기"
      ],
      "metadata": {
        "id": "Joqx6R28kFBq"
      }
    },
    {
      "cell_type": "code",
      "source": [
        "np.isnan(arr)"
      ],
      "metadata": {
        "colab": {
          "base_uri": "https://localhost:8080/"
        },
        "id": "NW0wZbRGkFJV",
        "outputId": "fbec3699-f912-495d-abc2-3ad29ffaa9ca"
      },
      "execution_count": null,
      "outputs": [
        {
          "output_type": "execute_result",
          "data": {
            "text/plain": [
              "array([False,  True, False, False, False, False])"
            ]
          },
          "metadata": {},
          "execution_count": 324
        }
      ]
    },
    {
      "cell_type": "markdown",
      "source": [
        "- 셀수 있는 정상 수치 찾기"
      ],
      "metadata": {
        "id": "e754cMsDkFQP"
      }
    },
    {
      "cell_type": "code",
      "source": [
        "np.isfinite(arr)"
      ],
      "metadata": {
        "colab": {
          "base_uri": "https://localhost:8080/"
        },
        "id": "Chm4GKBckFV5",
        "outputId": "0f8b4f26-12ee-417d-c0ce-b7c38a05cf41"
      },
      "execution_count": null,
      "outputs": [
        {
          "output_type": "execute_result",
          "data": {
            "text/plain": [
              "array([False, False,  True,  True,  True,  True])"
            ]
          },
          "metadata": {},
          "execution_count": 325
        }
      ]
    },
    {
      "cell_type": "code",
      "source": [
        "arr[np.isfinite(arr) == False] = 0 # 무한대 값과 nan 값 0으로 초기화하기\n",
        "arr"
      ],
      "metadata": {
        "colab": {
          "base_uri": "https://localhost:8080/"
        },
        "id": "zp03uG1BgkeD",
        "outputId": "2b965ff0-3d53-435c-fab4-855d6d6e0a15"
      },
      "execution_count": null,
      "outputs": [
        {
          "output_type": "execute_result",
          "data": {
            "text/plain": [
              "array([0. , 0. , 4. , 5. , 7. , 8.1])"
            ]
          },
          "metadata": {},
          "execution_count": 326
        }
      ]
    },
    {
      "cell_type": "code",
      "source": [
        "arr = np.array([4,5,np.inf,7,8.1,np.nan])\n",
        "arr"
      ],
      "metadata": {
        "colab": {
          "base_uri": "https://localhost:8080/"
        },
        "id": "wZ-q5SIklAfh",
        "outputId": "9555eaf6-d748-4a72-be03-9d67b5ad4eef"
      },
      "execution_count": null,
      "outputs": [
        {
          "output_type": "execute_result",
          "data": {
            "text/plain": [
              "array([4. , 5. , inf, 7. , 8.1, nan])"
            ]
          },
          "metadata": {},
          "execution_count": 196
        }
      ]
    },
    {
      "cell_type": "code",
      "source": [
        "np.isnan(arr)"
      ],
      "metadata": {
        "colab": {
          "base_uri": "https://localhost:8080/"
        },
        "id": "-dn1J-rClRqI",
        "outputId": "78a57a52-f36f-4d58-a5c2-edb11f52bf2a"
      },
      "execution_count": null,
      "outputs": [
        {
          "output_type": "execute_result",
          "data": {
            "text/plain": [
              "array([False, False, False, False, False,  True])"
            ]
          },
          "metadata": {},
          "execution_count": 197
        }
      ]
    },
    {
      "cell_type": "code",
      "source": [
        "np.isinf(arr)"
      ],
      "metadata": {
        "colab": {
          "base_uri": "https://localhost:8080/"
        },
        "id": "eTwitNb1lf2R",
        "outputId": "ce02c229-35d9-42be-e1cd-45bd2608b892"
      },
      "execution_count": null,
      "outputs": [
        {
          "output_type": "execute_result",
          "data": {
            "text/plain": [
              "array([False, False,  True, False, False, False])"
            ]
          },
          "metadata": {},
          "execution_count": 198
        }
      ]
    },
    {
      "cell_type": "code",
      "source": [
        "np.isfinite(arr)"
      ],
      "metadata": {
        "colab": {
          "base_uri": "https://localhost:8080/"
        },
        "id": "KMchr61llirC",
        "outputId": "76787dce-0cb3-45d4-88dc-a69d4dd46197"
      },
      "execution_count": null,
      "outputs": [
        {
          "output_type": "execute_result",
          "data": {
            "text/plain": [
              "array([ True,  True, False,  True,  True, False])"
            ]
          },
          "metadata": {},
          "execution_count": 199
        }
      ]
    },
    {
      "cell_type": "code",
      "source": [
        "arr[np.isfinite(arr)== False] = 100\n",
        "arr"
      ],
      "metadata": {
        "colab": {
          "base_uri": "https://localhost:8080/"
        },
        "id": "WBhOHROWln6c",
        "outputId": "e6fc22d8-548e-4bf4-ab5c-432cf54840bd"
      },
      "execution_count": null,
      "outputs": [
        {
          "output_type": "execute_result",
          "data": {
            "text/plain": [
              "array([  4. ,   5. , 100. ,   7. ,   8.1, 100. ])"
            ]
          },
          "metadata": {},
          "execution_count": 200
        }
      ]
    },
    {
      "cell_type": "code",
      "source": [
        "arr = np.array([\n",
        "    [1,2,3],\n",
        "    [np.inf,0,3],\n",
        "    [0,5,np.nan]\n",
        "])\n",
        "arr"
      ],
      "metadata": {
        "colab": {
          "base_uri": "https://localhost:8080/"
        },
        "id": "FRvqSjIBlv0F",
        "outputId": "c9ea2a28-4595-4dcd-ab82-6ce05a26f616"
      },
      "execution_count": null,
      "outputs": [
        {
          "output_type": "execute_result",
          "data": {
            "text/plain": [
              "array([[ 1.,  2.,  3.],\n",
              "       [inf,  0.,  3.],\n",
              "       [ 0.,  5., nan]])"
            ]
          },
          "metadata": {},
          "execution_count": 201
        }
      ]
    },
    {
      "cell_type": "code",
      "source": [
        "np.isnan(arr)"
      ],
      "metadata": {
        "colab": {
          "base_uri": "https://localhost:8080/"
        },
        "id": "1JJaD3zAmTnJ",
        "outputId": "f2e32767-25fb-47e9-e6db-1028c15edbf9"
      },
      "execution_count": null,
      "outputs": [
        {
          "output_type": "execute_result",
          "data": {
            "text/plain": [
              "array([[False, False, False],\n",
              "       [False, False, False],\n",
              "       [False, False,  True]])"
            ]
          },
          "metadata": {},
          "execution_count": 202
        }
      ]
    },
    {
      "cell_type": "code",
      "source": [
        "arr[np.isfinite(arr)== False ]= 0\n",
        "arr"
      ],
      "metadata": {
        "colab": {
          "base_uri": "https://localhost:8080/"
        },
        "id": "S_X_bH9RmWV0",
        "outputId": "fcb08c65-560d-499d-f871-4178a0847bf8"
      },
      "execution_count": null,
      "outputs": [
        {
          "output_type": "execute_result",
          "data": {
            "text/plain": [
              "array([[1., 2., 3.],\n",
              "       [0., 0., 3.],\n",
              "       [0., 5., 0.]])"
            ]
          },
          "metadata": {},
          "execution_count": 205
        }
      ]
    },
    {
      "cell_type": "markdown",
      "source": [
        "# numpy random"
      ],
      "metadata": {
        "id": "ZWa1YU2kmcHF"
      }
    },
    {
      "cell_type": "markdown",
      "source": [
        "- rand 함수\n",
        "    - 0~1 사이에 랜덤값 반환"
      ],
      "metadata": {
        "id": "hcxybq6pmpDB"
      }
    },
    {
      "cell_type": "code",
      "source": [
        "np.random.seed(42)\n",
        "np.random.rand()"
      ],
      "metadata": {
        "colab": {
          "base_uri": "https://localhost:8080/"
        },
        "id": "xkPG6oHWmuID",
        "outputId": "981f8335-0899-41a9-ddcb-5b05f42680a0"
      },
      "execution_count": null,
      "outputs": [
        {
          "output_type": "execute_result",
          "data": {
            "text/plain": [
              "0.3745401188473625"
            ]
          },
          "metadata": {},
          "execution_count": 211
        }
      ]
    },
    {
      "cell_type": "code",
      "source": [
        "np.random.rand(3,3,4)"
      ],
      "metadata": {
        "colab": {
          "base_uri": "https://localhost:8080/"
        },
        "id": "Lapu8FMEm1B2",
        "outputId": "e4196c82-f976-4198-9308-ad2a1184e82d"
      },
      "execution_count": null,
      "outputs": [
        {
          "output_type": "execute_result",
          "data": {
            "text/plain": [
              "array([[[0.15601864, 0.15599452, 0.05808361, 0.86617615],\n",
              "        [0.60111501, 0.70807258, 0.02058449, 0.96990985],\n",
              "        [0.83244264, 0.21233911, 0.18182497, 0.18340451]],\n",
              "\n",
              "       [[0.30424224, 0.52475643, 0.43194502, 0.29122914],\n",
              "        [0.61185289, 0.13949386, 0.29214465, 0.36636184],\n",
              "        [0.45606998, 0.78517596, 0.19967378, 0.51423444]],\n",
              "\n",
              "       [[0.59241457, 0.04645041, 0.60754485, 0.17052412],\n",
              "        [0.06505159, 0.94888554, 0.96563203, 0.80839735],\n",
              "        [0.30461377, 0.09767211, 0.68423303, 0.44015249]]])"
            ]
          },
          "metadata": {},
          "execution_count": 213
        }
      ]
    },
    {
      "cell_type": "markdown",
      "source": [
        "- `randn`\n",
        "    - 평균이 0이고 분산이 1인 정규분포 형태의 랜덤값들을 반환"
      ],
      "metadata": {
        "id": "nWechY_Gm7lx"
      }
    },
    {
      "cell_type": "code",
      "source": [
        "np.random.seed(42)\n",
        "arr = np.random.randn(100000)\n",
        "arr"
      ],
      "metadata": {
        "colab": {
          "base_uri": "https://localhost:8080/"
        },
        "id": "NsChimj5rLO5",
        "outputId": "d5b1ff53-75c9-408b-c684-01984424dbd7"
      },
      "execution_count": null,
      "outputs": [
        {
          "output_type": "execute_result",
          "data": {
            "text/plain": [
              "array([ 0.49671415, -0.1382643 ,  0.64768854, ...,  0.40918508,\n",
              "       -0.21109167,  0.12006294])"
            ]
          },
          "metadata": {},
          "execution_count": 216
        }
      ]
    },
    {
      "cell_type": "code",
      "source": [
        "arr.var(), arr.mean()"
      ],
      "metadata": {
        "colab": {
          "base_uri": "https://localhost:8080/"
        },
        "id": "kdZ4spyLrc_V",
        "outputId": "61441ce3-9822-4282-c257-a95fabeafd5c"
      },
      "execution_count": null,
      "outputs": [
        {
          "output_type": "execute_result",
          "data": {
            "text/plain": [
              "(1.0018027203084223, 0.000966868140949598)"
            ]
          },
          "metadata": {},
          "execution_count": 217
        }
      ]
    },
    {
      "cell_type": "markdown",
      "source": [
        "- randint\n",
        "    - 랜덤한 정수 반환\n",
        "    - start ~ end-1\n",
        "    - 세번째 인자는 크기\n",
        "    "
      ],
      "metadata": {
        "id": "HvLUlGEJr3p0"
      }
    },
    {
      "cell_type": "code",
      "source": [
        "np.random.seed(42)\n",
        "arr = np.random.randint(50,100)\n",
        "arr"
      ],
      "metadata": {
        "colab": {
          "base_uri": "https://localhost:8080/"
        },
        "id": "qUV0TOCdri2g",
        "outputId": "1a444f18-4d50-4551-fd02-31ece9a8975b"
      },
      "execution_count": null,
      "outputs": [
        {
          "output_type": "execute_result",
          "data": {
            "text/plain": [
              "88"
            ]
          },
          "metadata": {},
          "execution_count": 218
        }
      ]
    },
    {
      "cell_type": "code",
      "source": [
        "np.random.randint(50,100,(4,3))"
      ],
      "metadata": {
        "colab": {
          "base_uri": "https://localhost:8080/"
        },
        "id": "xqg7-nIqsKvO",
        "outputId": "e6323ec6-ee1a-444d-871e-6b2dd7d6aeca"
      },
      "execution_count": null,
      "outputs": [
        {
          "output_type": "execute_result",
          "data": {
            "text/plain": [
              "array([[78, 64, 92],\n",
              "       [57, 70, 88],\n",
              "       [68, 72, 60],\n",
              "       [60, 73, 85]])"
            ]
          },
          "metadata": {},
          "execution_count": 219
        }
      ]
    },
    {
      "cell_type": "markdown",
      "source": [
        "- `shuffle`\n",
        "    - 반환값이 없고 배열 자체를 섞는다."
      ],
      "metadata": {
        "id": "ygBeN8WJsRWt"
      }
    },
    {
      "cell_type": "code",
      "source": [
        "np.random.seed(42)\n",
        "arr = np.arange(1,7)\n",
        "np.random.shuffle(arr)\n",
        "arr"
      ],
      "metadata": {
        "colab": {
          "base_uri": "https://localhost:8080/"
        },
        "id": "TNH8K72Msj6x",
        "outputId": "4b30cd60-2293-46fb-c912-2a5bf79cadee"
      },
      "execution_count": null,
      "outputs": [
        {
          "output_type": "execute_result",
          "data": {
            "text/plain": [
              "array([1, 2, 6, 3, 5, 4])"
            ]
          },
          "metadata": {},
          "execution_count": 221
        }
      ]
    },
    {
      "cell_type": "markdown",
      "source": [
        "- `choice`\n",
        "    - 지정한 개수 만큼 랜덤하게 선택해서 추출"
      ],
      "metadata": {
        "id": "OGzZmKzxtXTQ"
      }
    },
    {
      "cell_type": "code",
      "source": [
        "np.random.choice(5,3) # 0~4 사이에 3개의 값을 랜덤하게 추출하겠다."
      ],
      "metadata": {
        "colab": {
          "base_uri": "https://localhost:8080/"
        },
        "id": "tVfP0fJitzm3",
        "outputId": "179991fc-7a9a-4c95-a484-fd5bd97c4bd1"
      },
      "execution_count": null,
      "outputs": [
        {
          "output_type": "execute_result",
          "data": {
            "text/plain": [
              "array([3, 3, 2])"
            ]
          },
          "metadata": {},
          "execution_count": 232
        }
      ]
    },
    {
      "cell_type": "code",
      "source": [
        "np.random.choice(5,3,replace=False) # 중복값이 안나오게 하기"
      ],
      "metadata": {
        "colab": {
          "base_uri": "https://localhost:8080/"
        },
        "id": "_mF1lEYwt7zA",
        "outputId": "4d1c7763-4bbb-4812-9546-49bc8adbdc49"
      },
      "execution_count": null,
      "outputs": [
        {
          "output_type": "execute_result",
          "data": {
            "text/plain": [
              "array([1, 0, 3])"
            ]
          },
          "metadata": {},
          "execution_count": 235
        }
      ]
    },
    {
      "cell_type": "code",
      "source": [
        "np.random.choice(5,3,p=[1,0,0,0,0]) # 확률주기"
      ],
      "metadata": {
        "colab": {
          "base_uri": "https://localhost:8080/"
        },
        "id": "UlAMkmM4uKXJ",
        "outputId": "e91da5ef-f978-4718-caa3-331352782673"
      },
      "execution_count": null,
      "outputs": [
        {
          "output_type": "execute_result",
          "data": {
            "text/plain": [
              "array([0, 0, 0])"
            ]
          },
          "metadata": {},
          "execution_count": 237
        }
      ]
    },
    {
      "cell_type": "code",
      "source": [
        "np.random.choice(5,3,p=[0.5,0.2,0.1,0.1,0.1]) # 확률도 줄수있다. p 인수의 합은 1 !"
      ],
      "metadata": {
        "colab": {
          "base_uri": "https://localhost:8080/"
        },
        "id": "WWhssrE5ukaT",
        "outputId": "a7ad6124-a9fa-437b-ce94-74e9fdc69712"
      },
      "execution_count": null,
      "outputs": [
        {
          "output_type": "execute_result",
          "data": {
            "text/plain": [
              "array([0, 4, 2])"
            ]
          },
          "metadata": {},
          "execution_count": 244
        }
      ]
    },
    {
      "cell_type": "code",
      "source": [
        "arr = np.array([10,20,30,40,50,60,70])\n",
        "np.random.choice(arr,3,replace = False)"
      ],
      "metadata": {
        "colab": {
          "base_uri": "https://localhost:8080/"
        },
        "id": "8PNyxgG3u2bJ",
        "outputId": "bc7833a2-dd96-42d7-c7ba-10aed416f184"
      },
      "execution_count": null,
      "outputs": [
        {
          "output_type": "execute_result",
          "data": {
            "text/plain": [
              "array([60, 30, 40])"
            ]
          },
          "metadata": {},
          "execution_count": 248
        }
      ]
    },
    {
      "cell_type": "code",
      "source": [
        "arr= np.random.randint(50,100,(5,3))\n",
        "idx_list = np.random.choice(len(arr),3, replace=False)\n",
        "arr[idx_list]"
      ],
      "metadata": {
        "colab": {
          "base_uri": "https://localhost:8080/"
        },
        "id": "8644C3oOvLVo",
        "outputId": "e8163700-03c5-4492-f256-c4f1abdbee26"
      },
      "execution_count": null,
      "outputs": [
        {
          "output_type": "execute_result",
          "data": {
            "text/plain": [
              "array([[81, 88, 98],\n",
              "       [94, 64, 92],\n",
              "       [81, 53, 79]])"
            ]
          },
          "metadata": {},
          "execution_count": 256
        }
      ]
    },
    {
      "cell_type": "markdown",
      "source": [
        "# axis 이해하기"
      ],
      "metadata": {
        "id": "3bDrjbdNwP8R"
      }
    },
    {
      "cell_type": "code",
      "source": [
        "np.random.seed(42)\n",
        "arr = np.random.randint(50,91,[4,3])\n",
        "arr"
      ],
      "metadata": {
        "colab": {
          "base_uri": "https://localhost:8080/"
        },
        "id": "CLmti-ivwpBw",
        "outputId": "bf73fbf3-4612-4ba2-eda5-9c68026feb65"
      },
      "execution_count": null,
      "outputs": [
        {
          "output_type": "execute_result",
          "data": {
            "text/plain": [
              "array([[88, 78, 64],\n",
              "       [57, 70, 88],\n",
              "       [68, 72, 60],\n",
              "       [60, 73, 85]])"
            ]
          },
          "metadata": {},
          "execution_count": 261
        }
      ]
    },
    {
      "cell_type": "code",
      "source": [
        "arr.sum(axis=0) # 각 열에 대한 총합"
      ],
      "metadata": {
        "colab": {
          "base_uri": "https://localhost:8080/"
        },
        "id": "2UpVf50mwyGm",
        "outputId": "55f27a1d-7d58-4581-d2e0-8129a4be7c0c"
      },
      "execution_count": null,
      "outputs": [
        {
          "output_type": "execute_result",
          "data": {
            "text/plain": [
              "array([273, 293, 297])"
            ]
          },
          "metadata": {},
          "execution_count": 262
        }
      ]
    },
    {
      "cell_type": "code",
      "source": [
        "arr.sum(axis=1)"
      ],
      "metadata": {
        "colab": {
          "base_uri": "https://localhost:8080/"
        },
        "id": "ZHsrtULExID3",
        "outputId": "03f482f2-cff4-4028-b3d9-667ad98ed011"
      },
      "execution_count": null,
      "outputs": [
        {
          "output_type": "execute_result",
          "data": {
            "text/plain": [
              "array([230, 215, 200, 218])"
            ]
          },
          "metadata": {},
          "execution_count": 263
        }
      ]
    },
    {
      "cell_type": "markdown",
      "source": [
        "- 3차원 "
      ],
      "metadata": {
        "id": "ks0k1T6xxUGt"
      }
    },
    {
      "cell_type": "code",
      "source": [
        "np.random.seed(42)\n",
        "arr = np.random.randint(50,91,[4,3,2])\n",
        "arr"
      ],
      "metadata": {
        "colab": {
          "base_uri": "https://localhost:8080/"
        },
        "id": "m2ZPF5-2xaDz",
        "outputId": "14dac0ca-1f04-4d2c-e74f-b04eb92f77ac"
      },
      "execution_count": null,
      "outputs": [
        {
          "output_type": "execute_result",
          "data": {
            "text/plain": [
              "array([[[88, 78],\n",
              "        [64, 57],\n",
              "        [70, 88]],\n",
              "\n",
              "       [[68, 72],\n",
              "        [60, 60],\n",
              "        [73, 85]],\n",
              "\n",
              "       [[89, 73],\n",
              "        [52, 71],\n",
              "        [51, 73]],\n",
              "\n",
              "       [[79, 87],\n",
              "        [51, 70],\n",
              "        [82, 61]]])"
            ]
          },
          "metadata": {},
          "execution_count": 264
        }
      ]
    },
    {
      "cell_type": "code",
      "source": [
        "arr.sum(axis=1)"
      ],
      "metadata": {
        "colab": {
          "base_uri": "https://localhost:8080/"
        },
        "id": "BF1DaqmSxhqd",
        "outputId": "26ff5268-b0ac-46fa-8ccb-c35f327ccfb4"
      },
      "execution_count": null,
      "outputs": [
        {
          "output_type": "execute_result",
          "data": {
            "text/plain": [
              "array([[222, 223],\n",
              "       [201, 217],\n",
              "       [192, 217],\n",
              "       [212, 218]])"
            ]
          },
          "metadata": {},
          "execution_count": 278
        }
      ]
    },
    {
      "cell_type": "code",
      "source": [
        "arr.mean(axis=1)"
      ],
      "metadata": {
        "colab": {
          "base_uri": "https://localhost:8080/"
        },
        "id": "W_qnHrGW0F8c",
        "outputId": "37f5be0d-ec3a-48c5-8945-2aefbb143b08"
      },
      "execution_count": null,
      "outputs": [
        {
          "output_type": "execute_result",
          "data": {
            "text/plain": [
              "array([[74.        , 74.33333333],\n",
              "       [67.        , 72.33333333],\n",
              "       [64.        , 72.33333333],\n",
              "       [70.66666667, 72.66666667]])"
            ]
          },
          "metadata": {},
          "execution_count": 281
        }
      ]
    },
    {
      "cell_type": "code",
      "source": [
        "arr.sum(axis =2)"
      ],
      "metadata": {
        "colab": {
          "base_uri": "https://localhost:8080/"
        },
        "id": "lvo8L3XGyDIB",
        "outputId": "26e98dd3-17e8-4c48-bdf7-e4f7e9c05560"
      },
      "execution_count": null,
      "outputs": [
        {
          "output_type": "execute_result",
          "data": {
            "text/plain": [
              "array([[166, 121, 158],\n",
              "       [140, 120, 158],\n",
              "       [162, 123, 124],\n",
              "       [166, 121, 143]])"
            ]
          },
          "metadata": {},
          "execution_count": 283
        }
      ]
    },
    {
      "cell_type": "code",
      "source": [
        "arr.mean(axis=2)"
      ],
      "metadata": {
        "colab": {
          "base_uri": "https://localhost:8080/"
        },
        "id": "4pDB2JTm0a_i",
        "outputId": "5bccb4f7-add4-4aca-87c1-8d62dc98618e"
      },
      "execution_count": null,
      "outputs": [
        {
          "output_type": "execute_result",
          "data": {
            "text/plain": [
              "array([[83. , 60.5, 79. ],\n",
              "       [70. , 60. , 79. ],\n",
              "       [81. , 61.5, 62. ],\n",
              "       [83. , 60.5, 71.5]])"
            ]
          },
          "metadata": {},
          "execution_count": 284
        }
      ]
    },
    {
      "cell_type": "code",
      "source": [
        "np.random.seed(42)\n",
        "arr = np.random.randint(50,91,[4,3,2])\n",
        "arr"
      ],
      "metadata": {
        "colab": {
          "base_uri": "https://localhost:8080/"
        },
        "id": "WExe5fPE0fHl",
        "outputId": "4a48da9b-3444-46bb-d535-f403799cceca"
      },
      "execution_count": null,
      "outputs": [
        {
          "output_type": "execute_result",
          "data": {
            "text/plain": [
              "array([[[88, 78],\n",
              "        [64, 57],\n",
              "        [70, 88]],\n",
              "\n",
              "       [[68, 72],\n",
              "        [60, 60],\n",
              "        [73, 85]],\n",
              "\n",
              "       [[89, 73],\n",
              "        [52, 71],\n",
              "        [51, 73]],\n",
              "\n",
              "       [[79, 87],\n",
              "        [51, 70],\n",
              "        [82, 61]]])"
            ]
          },
          "metadata": {},
          "execution_count": 307
        }
      ]
    },
    {
      "cell_type": "code",
      "source": [
        "arr.sum(axis=2)[1::]"
      ],
      "metadata": {
        "colab": {
          "base_uri": "https://localhost:8080/"
        },
        "id": "U49ZePGL0mhU",
        "outputId": "e350bcf9-ad48-4690-a2f6-51bfab2a5852"
      },
      "execution_count": null,
      "outputs": [
        {
          "output_type": "execute_result",
          "data": {
            "text/plain": [
              "array([[140, 120, 158],\n",
              "       [162, 123, 124],\n",
              "       [166, 121, 143]])"
            ]
          },
          "metadata": {},
          "execution_count": 319
        }
      ]
    },
    {
      "cell_type": "markdown",
      "source": [
        "# 배열 차원 변경 및 새로운 차원 추가"
      ],
      "metadata": {
        "id": "IP7nBYue0qCr"
      }
    },
    {
      "cell_type": "code",
      "source": [
        "import numpy as np"
      ],
      "metadata": {
        "id": "INBbtUbnVMYc"
      },
      "execution_count": null,
      "outputs": []
    },
    {
      "cell_type": "code",
      "source": [
        "arr = np.arange(6)\n",
        "arr"
      ],
      "metadata": {
        "colab": {
          "base_uri": "https://localhost:8080/"
        },
        "id": "eqQkU_tBVDur",
        "outputId": "0a23e037-e7ac-443c-a869-8bee246caacc"
      },
      "execution_count": null,
      "outputs": [
        {
          "output_type": "execute_result",
          "data": {
            "text/plain": [
              "array([0, 1, 2, 3, 4, 5])"
            ]
          },
          "metadata": {},
          "execution_count": 3
        }
      ]
    },
    {
      "cell_type": "code",
      "source": [
        "arr[:,np.newaxis] # 6행 1열  2차원 열벡터"
      ],
      "metadata": {
        "colab": {
          "base_uri": "https://localhost:8080/"
        },
        "id": "Gwkg_APdVQzZ",
        "outputId": "4a4e8585-5ecf-4a9f-c778-bfb832778331"
      },
      "execution_count": null,
      "outputs": [
        {
          "output_type": "execute_result",
          "data": {
            "text/plain": [
              "array([[0],\n",
              "       [1],\n",
              "       [2],\n",
              "       [3],\n",
              "       [4],\n",
              "       [5]])"
            ]
          },
          "metadata": {},
          "execution_count": 5
        }
      ]
    },
    {
      "cell_type": "code",
      "source": [
        "np.expand_dims(arr,axis = 1)"
      ],
      "metadata": {
        "colab": {
          "base_uri": "https://localhost:8080/"
        },
        "id": "DYw1eKZoVQ26",
        "outputId": "10d4a412-7876-46a6-de92-6e5c633c255b"
      },
      "execution_count": null,
      "outputs": [
        {
          "output_type": "execute_result",
          "data": {
            "text/plain": [
              "array([[0],\n",
              "       [1],\n",
              "       [2],\n",
              "       [3],\n",
              "       [4],\n",
              "       [5]])"
            ]
          },
          "metadata": {},
          "execution_count": 6
        }
      ]
    },
    {
      "cell_type": "markdown",
      "source": [
        "- reshape는 요소의 순번대로 차원을 변경한다."
      ],
      "metadata": {
        "id": "SnofHDtUWgXV"
      }
    },
    {
      "cell_type": "code",
      "source": [
        "arr.reshape(-1,1) # -1 요소들을 다쓰고 차원들을 추가 하겠다."
      ],
      "metadata": {
        "colab": {
          "base_uri": "https://localhost:8080/"
        },
        "id": "sCKVqsDgVQ5J",
        "outputId": "c6ad4418-5cfc-44fd-9a4b-cee387e5b464"
      },
      "execution_count": null,
      "outputs": [
        {
          "output_type": "execute_result",
          "data": {
            "text/plain": [
              "array([[0],\n",
              "       [1],\n",
              "       [2],\n",
              "       [3],\n",
              "       [4],\n",
              "       [5]])"
            ]
          },
          "metadata": {},
          "execution_count": 9
        }
      ]
    },
    {
      "cell_type": "code",
      "source": [
        "arr.reshape(2,3) # 2행 3열로 바꾸겠다"
      ],
      "metadata": {
        "colab": {
          "base_uri": "https://localhost:8080/"
        },
        "id": "wWdhr-DRVQ7u",
        "outputId": "a8a714fe-2b19-4a1d-9d70-2858d4c403d0"
      },
      "execution_count": null,
      "outputs": [
        {
          "output_type": "execute_result",
          "data": {
            "text/plain": [
              "array([[0, 1, 2],\n",
              "       [3, 4, 5]])"
            ]
          },
          "metadata": {},
          "execution_count": 11
        }
      ]
    },
    {
      "cell_type": "code",
      "source": [
        "arr2 = np.reshape(arr,[2,3])\n",
        "arr2"
      ],
      "metadata": {
        "colab": {
          "base_uri": "https://localhost:8080/"
        },
        "id": "Ge91NhduVQ_k",
        "outputId": "45d51581-ee0b-40bd-c58f-53be554702c1"
      },
      "execution_count": null,
      "outputs": [
        {
          "output_type": "execute_result",
          "data": {
            "text/plain": [
              "array([[0, 1, 2],\n",
              "       [3, 4, 5]])"
            ]
          },
          "metadata": {},
          "execution_count": 14
        }
      ]
    },
    {
      "cell_type": "markdown",
      "source": [
        "- 전치\n",
        "    - `reshape`와 transpose는 다르다\n",
        "    - `transpose`는 차원을 맞바꾼다.\n",
        "    - `reshape`는 원소의 순서대로 재배치하면서 차원을 변경"
      ],
      "metadata": {
        "id": "AcEYGakJVRB_"
      }
    },
    {
      "cell_type": "code",
      "source": [
        "np.transpose(arr2) # 행이 열이되고 열이 행이됨"
      ],
      "metadata": {
        "colab": {
          "base_uri": "https://localhost:8080/"
        },
        "id": "gkW_nluGVRUF",
        "outputId": "b5cb55b5-165f-4fc8-ad28-c9e83c109558"
      },
      "execution_count": null,
      "outputs": [
        {
          "output_type": "execute_result",
          "data": {
            "text/plain": [
              "array([[0, 3],\n",
              "       [1, 4],\n",
              "       [2, 5]])"
            ]
          },
          "metadata": {},
          "execution_count": 25
        }
      ]
    },
    {
      "cell_type": "code",
      "source": [
        "arr2.T"
      ],
      "metadata": {
        "colab": {
          "base_uri": "https://localhost:8080/"
        },
        "id": "Cv0SDR30VRhr",
        "outputId": "ff24d437-3c58-4ba9-9f20-807ab11a2c3f"
      },
      "execution_count": null,
      "outputs": [
        {
          "output_type": "execute_result",
          "data": {
            "text/plain": [
              "array([[0, 3],\n",
              "       [1, 4],\n",
              "       [2, 5]])"
            ]
          },
          "metadata": {},
          "execution_count": 16
        }
      ]
    },
    {
      "cell_type": "code",
      "source": [
        "arr = np.arange(12)\n",
        "arr= arr.reshape(2,3,2)\n",
        "arr"
      ],
      "metadata": {
        "colab": {
          "base_uri": "https://localhost:8080/"
        },
        "id": "qbiej7wwVRzW",
        "outputId": "caa4fc9d-fbcf-4b64-ad35-640fdb28e173"
      },
      "execution_count": null,
      "outputs": [
        {
          "output_type": "execute_result",
          "data": {
            "text/plain": [
              "array([[[ 0,  1],\n",
              "        [ 2,  3],\n",
              "        [ 4,  5]],\n",
              "\n",
              "       [[ 6,  7],\n",
              "        [ 8,  9],\n",
              "        [10, 11]]])"
            ]
          },
          "metadata": {},
          "execution_count": 30
        }
      ]
    },
    {
      "cell_type": "code",
      "source": [
        "arr.transpose(0,2,1)"
      ],
      "metadata": {
        "colab": {
          "base_uri": "https://localhost:8080/"
        },
        "id": "B9kHrPUAVR7n",
        "outputId": "50adb00b-9303-4a33-fca7-7bbf9d950a0a"
      },
      "execution_count": null,
      "outputs": [
        {
          "output_type": "execute_result",
          "data": {
            "text/plain": [
              "array([[[ 0,  2,  4],\n",
              "        [ 1,  3,  5]],\n",
              "\n",
              "       [[ 6,  8, 10],\n",
              "        [ 7,  9, 11]]])"
            ]
          },
          "metadata": {},
          "execution_count": 29
        }
      ]
    },
    {
      "cell_type": "markdown",
      "source": [
        "- 평평하게 만들기"
      ],
      "metadata": {
        "id": "NigQS2KRYSIX"
      }
    },
    {
      "cell_type": "code",
      "source": [
        "arr.flatten()"
      ],
      "metadata": {
        "colab": {
          "base_uri": "https://localhost:8080/"
        },
        "id": "9gWeOdZBXznF",
        "outputId": "f53030d0-242d-450d-ba8a-22f6a589b09a"
      },
      "execution_count": null,
      "outputs": [
        {
          "output_type": "execute_result",
          "data": {
            "text/plain": [
              "array([ 0,  1,  2,  3,  4,  5,  6,  7,  8,  9, 10, 11])"
            ]
          },
          "metadata": {},
          "execution_count": 33
        }
      ]
    },
    {
      "cell_type": "code",
      "source": [
        "arr.reshape(-1)"
      ],
      "metadata": {
        "colab": {
          "base_uri": "https://localhost:8080/"
        },
        "id": "a8tSp-f0VSJ1",
        "outputId": "93b8f7d1-d734-4378-edd4-1144e7b3741a"
      },
      "execution_count": null,
      "outputs": [
        {
          "output_type": "execute_result",
          "data": {
            "text/plain": [
              "array([ 0,  1,  2,  3,  4,  5,  6,  7,  8,  9, 10, 11])"
            ]
          },
          "metadata": {},
          "execution_count": 34
        }
      ]
    },
    {
      "cell_type": "markdown",
      "source": [
        "- 차원이 1인 차원 제거"
      ],
      "metadata": {
        "id": "QVRnPX4PVSRN"
      }
    },
    {
      "cell_type": "code",
      "source": [
        "np.random.seed(42)\n",
        "arr = np.random.randint(50,91,[4,1,2,1])\n",
        "arr.shape"
      ],
      "metadata": {
        "colab": {
          "base_uri": "https://localhost:8080/"
        },
        "id": "Dl3P2dC3VSYH",
        "outputId": "0dabf5fb-8e75-4c97-c6d4-517fd831c879"
      },
      "execution_count": null,
      "outputs": [
        {
          "output_type": "execute_result",
          "data": {
            "text/plain": [
              "(4, 1, 2, 1)"
            ]
          },
          "metadata": {},
          "execution_count": 79
        }
      ]
    },
    {
      "cell_type": "code",
      "source": [
        "arr.squeeze()"
      ],
      "metadata": {
        "colab": {
          "base_uri": "https://localhost:8080/"
        },
        "id": "b-g1tJmxVKDI",
        "outputId": "9c468b19-3e15-423a-9a31-d99b8acb0062"
      },
      "execution_count": null,
      "outputs": [
        {
          "output_type": "execute_result",
          "data": {
            "text/plain": [
              "array([[88, 78],\n",
              "       [64, 57],\n",
              "       [70, 88],\n",
              "       [68, 72]])"
            ]
          },
          "metadata": {},
          "execution_count": 38
        }
      ]
    },
    {
      "cell_type": "code",
      "source": [
        "arr.squeeze(axis=1).shape # 흑백이미지 칼라는 뒤에가 3"
      ],
      "metadata": {
        "colab": {
          "base_uri": "https://localhost:8080/"
        },
        "id": "idaw6J0oZCFP",
        "outputId": "828dd805-b9ae-4d21-8cf5-4b49f549f0cd"
      },
      "execution_count": null,
      "outputs": [
        {
          "output_type": "execute_result",
          "data": {
            "text/plain": [
              "(4, 2, 1)"
            ]
          },
          "metadata": {},
          "execution_count": 41
        }
      ]
    },
    {
      "cell_type": "markdown",
      "source": [
        "# 배열 합치기"
      ],
      "metadata": {
        "id": "3tq407rKZOHU"
      }
    },
    {
      "cell_type": "markdown",
      "source": [
        "- `concatenate`함수 \n",
        "    - axis 방향으로 배열을 합친다."
      ],
      "metadata": {
        "id": "xHxkKu92ZhHQ"
      }
    },
    {
      "cell_type": "code",
      "source": [
        "arr1 = np.array([\n",
        "    [1,2],\n",
        "    [3,4],\n",
        "    [5,6]\n",
        "])\n",
        "\n",
        "arr2 = ([\n",
        "\n",
        "    [10,20]\n",
        "])"
      ],
      "metadata": {
        "id": "6E-mwHmDZiGc"
      },
      "execution_count": null,
      "outputs": []
    },
    {
      "cell_type": "code",
      "source": [
        "np.concatenate([arr1,arr2],axis=0)"
      ],
      "metadata": {
        "colab": {
          "base_uri": "https://localhost:8080/"
        },
        "id": "hNvTveijZiQ8",
        "outputId": "4e43ac24-127c-4e87-c466-10982e8aef00"
      },
      "execution_count": null,
      "outputs": [
        {
          "output_type": "execute_result",
          "data": {
            "text/plain": [
              "array([[ 1,  2],\n",
              "       [ 3,  4],\n",
              "       [ 5,  6],\n",
              "       [10, 20]])"
            ]
          },
          "metadata": {},
          "execution_count": 49
        }
      ]
    },
    {
      "cell_type": "code",
      "source": [
        "arr2 = np.array([\n",
        "    [10],\n",
        "    [20],\n",
        "    [30]\n",
        "])\n",
        "np.concatenate([arr1,arr2],axis =1 ) # 열방향으로 합치기"
      ],
      "metadata": {
        "colab": {
          "base_uri": "https://localhost:8080/"
        },
        "id": "cNkZ5X1xZiXO",
        "outputId": "1caa3ca2-7578-41df-9a02-b17fa0c9a832"
      },
      "execution_count": null,
      "outputs": [
        {
          "output_type": "execute_result",
          "data": {
            "text/plain": [
              "array([[ 1,  2, 10],\n",
              "       [ 3,  4, 20],\n",
              "       [ 5,  6, 30]])"
            ]
          },
          "metadata": {},
          "execution_count": 51
        }
      ]
    },
    {
      "cell_type": "markdown",
      "source": [
        "- stack 함수\n",
        "    - 합치려는 차원크기가 모두 동일해야한다.\n",
        "    - 합치려는 배열이 하나의 행으로 취급된다.\n",
        "    "
      ],
      "metadata": {
        "id": "hcxrzT5iZieI"
      }
    },
    {
      "cell_type": "code",
      "source": [
        "arr1 = np.array([\n",
        "    [1,2],\n",
        "    [3,4],\n",
        "    [5,6]\n",
        "])\n",
        "\n",
        "arr2 = ([\n",
        "\n",
        "    [10,20]\n",
        "])\n",
        "np.stack([arr1,arr2],axis=0) # 차원에 크기가 모두 동일하지 않아 에러발생 ! 행의 크기가 같지않음"
      ],
      "metadata": {
        "colab": {
          "base_uri": "https://localhost:8080/",
          "height": 391
        },
        "id": "fMCk-AH0ZijJ",
        "outputId": "61d0b9c2-f8d8-48ff-9c02-2f45bcd5b6f3"
      },
      "execution_count": null,
      "outputs": [
        {
          "output_type": "error",
          "ename": "ValueError",
          "evalue": "ignored",
          "traceback": [
            "\u001b[0;31m---------------------------------------------------------------------------\u001b[0m",
            "\u001b[0;31mValueError\u001b[0m                                Traceback (most recent call last)",
            "\u001b[0;32m<ipython-input-52-ff50f593ae94>\u001b[0m in \u001b[0;36m<module>\u001b[0;34m\u001b[0m\n\u001b[1;32m      9\u001b[0m     \u001b[0;34m[\u001b[0m\u001b[0;36m10\u001b[0m\u001b[0;34m,\u001b[0m\u001b[0;36m20\u001b[0m\u001b[0;34m]\u001b[0m\u001b[0;34m\u001b[0m\u001b[0;34m\u001b[0m\u001b[0m\n\u001b[1;32m     10\u001b[0m ])\n\u001b[0;32m---> 11\u001b[0;31m \u001b[0mnp\u001b[0m\u001b[0;34m.\u001b[0m\u001b[0mstack\u001b[0m\u001b[0;34m(\u001b[0m\u001b[0;34m[\u001b[0m\u001b[0marr1\u001b[0m\u001b[0;34m,\u001b[0m\u001b[0marr2\u001b[0m\u001b[0;34m]\u001b[0m\u001b[0;34m,\u001b[0m\u001b[0maxis\u001b[0m\u001b[0;34m=\u001b[0m\u001b[0;36m0\u001b[0m\u001b[0;34m)\u001b[0m\u001b[0;34m\u001b[0m\u001b[0;34m\u001b[0m\u001b[0m\n\u001b[0m",
            "\u001b[0;32m<__array_function__ internals>\u001b[0m in \u001b[0;36mstack\u001b[0;34m(*args, **kwargs)\u001b[0m\n",
            "\u001b[0;32m/usr/local/lib/python3.7/dist-packages/numpy/core/shape_base.py\u001b[0m in \u001b[0;36mstack\u001b[0;34m(arrays, axis, out)\u001b[0m\n\u001b[1;32m    424\u001b[0m     \u001b[0mshapes\u001b[0m \u001b[0;34m=\u001b[0m \u001b[0;34m{\u001b[0m\u001b[0marr\u001b[0m\u001b[0;34m.\u001b[0m\u001b[0mshape\u001b[0m \u001b[0;32mfor\u001b[0m \u001b[0marr\u001b[0m \u001b[0;32min\u001b[0m \u001b[0marrays\u001b[0m\u001b[0;34m}\u001b[0m\u001b[0;34m\u001b[0m\u001b[0;34m\u001b[0m\u001b[0m\n\u001b[1;32m    425\u001b[0m     \u001b[0;32mif\u001b[0m \u001b[0mlen\u001b[0m\u001b[0;34m(\u001b[0m\u001b[0mshapes\u001b[0m\u001b[0;34m)\u001b[0m \u001b[0;34m!=\u001b[0m \u001b[0;36m1\u001b[0m\u001b[0;34m:\u001b[0m\u001b[0;34m\u001b[0m\u001b[0;34m\u001b[0m\u001b[0m\n\u001b[0;32m--> 426\u001b[0;31m         \u001b[0;32mraise\u001b[0m \u001b[0mValueError\u001b[0m\u001b[0;34m(\u001b[0m\u001b[0;34m'all input arrays must have the same shape'\u001b[0m\u001b[0;34m)\u001b[0m\u001b[0;34m\u001b[0m\u001b[0;34m\u001b[0m\u001b[0m\n\u001b[0m\u001b[1;32m    427\u001b[0m \u001b[0;34m\u001b[0m\u001b[0m\n\u001b[1;32m    428\u001b[0m     \u001b[0mresult_ndim\u001b[0m \u001b[0;34m=\u001b[0m \u001b[0marrays\u001b[0m\u001b[0;34m[\u001b[0m\u001b[0;36m0\u001b[0m\u001b[0;34m]\u001b[0m\u001b[0;34m.\u001b[0m\u001b[0mndim\u001b[0m \u001b[0;34m+\u001b[0m \u001b[0;36m1\u001b[0m\u001b[0;34m\u001b[0m\u001b[0;34m\u001b[0m\u001b[0m\n",
            "\u001b[0;31mValueError\u001b[0m: all input arrays must have the same shape"
          ]
        }
      ]
    },
    {
      "cell_type": "code",
      "source": [
        "arr2 = np.array([\n",
        "    [10,20],\n",
        "    [30,40],\n",
        "    [50,60]\n",
        "])\n",
        "np.stack([arr1,arr2]).shape"
      ],
      "metadata": {
        "colab": {
          "base_uri": "https://localhost:8080/"
        },
        "id": "unugrCt0ZioZ",
        "outputId": "bab5dca7-0c1d-4b97-d444-96985e1651cf"
      },
      "execution_count": null,
      "outputs": [
        {
          "output_type": "execute_result",
          "data": {
            "text/plain": [
              "(2, 3, 2)"
            ]
          },
          "metadata": {},
          "execution_count": 54
        }
      ]
    },
    {
      "cell_type": "markdown",
      "source": [
        "- numpy 배열 리스트로 변경하기"
      ],
      "metadata": {
        "id": "zJSZscy_ZitR"
      }
    },
    {
      "cell_type": "code",
      "source": [
        "arr = np.arange(6).reshape(2,3)\n",
        "arr"
      ],
      "metadata": {
        "colab": {
          "base_uri": "https://localhost:8080/"
        },
        "id": "zZmuKwgCb7gB",
        "outputId": "be2469c2-5c3c-402d-902f-e75f55263439"
      },
      "execution_count": null,
      "outputs": [
        {
          "output_type": "execute_result",
          "data": {
            "text/plain": [
              "array([[0, 1, 2],\n",
              "       [3, 4, 5]])"
            ]
          },
          "metadata": {},
          "execution_count": 55
        }
      ]
    },
    {
      "cell_type": "code",
      "source": [
        "list(arr)"
      ],
      "metadata": {
        "colab": {
          "base_uri": "https://localhost:8080/"
        },
        "id": "7UHyCtaBb7mu",
        "outputId": "274a4578-ac3b-4384-c6c4-72f6ccb390be"
      },
      "execution_count": null,
      "outputs": [
        {
          "output_type": "execute_result",
          "data": {
            "text/plain": [
              "[array([0, 1, 2]), array([3, 4, 5])]"
            ]
          },
          "metadata": {},
          "execution_count": 56
        }
      ]
    },
    {
      "cell_type": "code",
      "source": [
        "arr.tolist()"
      ],
      "metadata": {
        "colab": {
          "base_uri": "https://localhost:8080/"
        },
        "id": "TTWhb9Lhb7sd",
        "outputId": "83a90078-d760-4057-d92f-2ef07d25b153"
      },
      "execution_count": null,
      "outputs": [
        {
          "output_type": "execute_result",
          "data": {
            "text/plain": [
              "[[0, 1, 2], [3, 4, 5]]"
            ]
          },
          "metadata": {},
          "execution_count": 57
        }
      ]
    },
    {
      "cell_type": "code",
      "source": [
        "arr.copy()"
      ],
      "metadata": {
        "colab": {
          "base_uri": "https://localhost:8080/"
        },
        "id": "zWwUJRFSb7yI",
        "outputId": "cc8b2063-f4f5-4da5-a641-daa9bab37a57"
      },
      "execution_count": null,
      "outputs": [
        {
          "output_type": "execute_result",
          "data": {
            "text/plain": [
              "array([[0, 1, 2],\n",
              "       [3, 4, 5]])"
            ]
          },
          "metadata": {},
          "execution_count": 58
        }
      ]
    },
    {
      "cell_type": "markdown",
      "source": [
        "# numpy 배열 파일로 저장하기"
      ],
      "metadata": {
        "id": "iWlcZWSfZix1"
      }
    },
    {
      "cell_type": "code",
      "source": [
        "arr"
      ],
      "metadata": {
        "colab": {
          "base_uri": "https://localhost:8080/"
        },
        "id": "frDCktyuZi2y",
        "outputId": "94e66c5f-f258-437c-ca44-9f52a4574d99"
      },
      "execution_count": null,
      "outputs": [
        {
          "output_type": "execute_result",
          "data": {
            "text/plain": [
              "array([[0, 1, 2],\n",
              "       [3, 4, 5]])"
            ]
          },
          "metadata": {},
          "execution_count": 59
        }
      ]
    },
    {
      "cell_type": "code",
      "source": [
        "np.save(\"arr\",arr) # 확장자 생략시 .npy가 붙는다."
      ],
      "metadata": {
        "id": "gq7r6ZGscsT9"
      },
      "execution_count": null,
      "outputs": []
    },
    {
      "cell_type": "code",
      "source": [
        "np.load(\"arr.npy\")"
      ],
      "metadata": {
        "colab": {
          "base_uri": "https://localhost:8080/"
        },
        "id": "efK2J3rtc8Zz",
        "outputId": "930360be-7794-41ab-ab7f-977ed884e688"
      },
      "execution_count": null,
      "outputs": [
        {
          "output_type": "execute_result",
          "data": {
            "text/plain": [
              "array([[0, 1, 2],\n",
              "       [3, 4, 5]])"
            ]
          },
          "metadata": {},
          "execution_count": 62
        }
      ]
    },
    {
      "cell_type": "markdown",
      "source": [
        "- 배열 복사하기(기본적으로 깊은 복사)"
      ],
      "metadata": {
        "id": "St_8YxLvdBcm"
      }
    },
    {
      "cell_type": "code",
      "source": [
        "arr2 = arr.copy()"
      ],
      "metadata": {
        "id": "NSwaXo7gdO1z"
      },
      "execution_count": null,
      "outputs": []
    },
    {
      "cell_type": "code",
      "source": [
        "np.random.seed(42)\n",
        "arr = np.random.randint(1,5,[4,3,2])\n",
        "arr"
      ],
      "metadata": {
        "colab": {
          "base_uri": "https://localhost:8080/"
        },
        "id": "uqWgZxJsR88k",
        "outputId": "ac980a1a-d6f1-416a-f204-ba9fac8a294d"
      },
      "execution_count": null,
      "outputs": [
        {
          "output_type": "execute_result",
          "data": {
            "text/plain": [
              "array([[[3, 4],\n",
              "        [1, 3],\n",
              "        [3, 4]],\n",
              "\n",
              "       [[1, 1],\n",
              "        [3, 2],\n",
              "        [3, 3]],\n",
              "\n",
              "       [[3, 3],\n",
              "        [4, 1],\n",
              "        [4, 4]],\n",
              "\n",
              "       [[4, 3],\n",
              "        [2, 1],\n",
              "        [2, 4]]])"
            ]
          },
          "metadata": {},
          "execution_count": 3
        }
      ]
    },
    {
      "cell_type": "code",
      "source": [],
      "metadata": {
        "colab": {
          "base_uri": "https://localhost:8080/"
        },
        "id": "i67cil__U1U8",
        "outputId": "84a26bbc-8ead-4d59-a3f3-adc585022158"
      },
      "execution_count": null,
      "outputs": [
        {
          "output_type": "execute_result",
          "data": {
            "text/plain": [
              "array([], shape=(0, 2), dtype=int64)"
            ]
          },
          "metadata": {},
          "execution_count": 24
        }
      ]
    },
    {
      "cell_type": "code",
      "source": [
        "np.random.seed(42)\n",
        "arr = np.random.randint(1,5,[3,2])\n",
        "arr"
      ],
      "metadata": {
        "colab": {
          "base_uri": "https://localhost:8080/"
        },
        "id": "v8SnET3kZCJc",
        "outputId": "b7170d0f-dde5-4227-b2fa-cdc90908cee8"
      },
      "execution_count": null,
      "outputs": [
        {
          "output_type": "execute_result",
          "data": {
            "text/plain": [
              "array([[3, 4],\n",
              "       [1, 3],\n",
              "       [3, 4]])"
            ]
          },
          "metadata": {},
          "execution_count": 76
        }
      ]
    },
    {
      "cell_type": "code",
      "source": [
        "np.sum(arr,axis =0)"
      ],
      "metadata": {
        "colab": {
          "base_uri": "https://localhost:8080/"
        },
        "id": "c7lvP6xmZIE9",
        "outputId": "338b4e18-842f-448b-cb47-ff626072464f"
      },
      "execution_count": null,
      "outputs": [
        {
          "output_type": "execute_result",
          "data": {
            "text/plain": [
              "array([ 7, 11])"
            ]
          },
          "metadata": {},
          "execution_count": 77
        }
      ]
    },
    {
      "cell_type": "code",
      "source": [],
      "metadata": {
        "id": "ImTcU6uG_Md1"
      },
      "execution_count": null,
      "outputs": []
    }
  ]
}