{
  "nbformat": 4,
  "nbformat_minor": 0,
  "metadata": {
    "colab": {
      "provenance": [],
      "toc_visible": true,
      "authorship_tag": "ABX9TyP/BSXX13CiR8kfZNTdFpf8",
      "include_colab_link": true
    },
    "kernelspec": {
      "name": "python3",
      "display_name": "Python 3"
    },
    "language_info": {
      "name": "python"
    }
  },
  "cells": [
    {
      "cell_type": "markdown",
      "metadata": {
        "id": "view-in-github",
        "colab_type": "text"
      },
      "source": [
        "<a href=\"https://colab.research.google.com/github/dpcks/playdata/blob/main/04_%EC%A0%9C%EC%96%B4%EB%AC%B8.ipynb\" target=\"_parent\"><img src=\"https://colab.research.google.com/assets/colab-badge.svg\" alt=\"Open In Colab\"/></a>"
      ]
    },
    {
      "cell_type": "markdown",
      "source": [
        "# 제어문\n",
        "- 코드의 '흐름'을 재어하는 문법\n",
        "- 주어진 조건에 따라 반복해서 코드를 실행할때 사용하는 것을 제어문이라고 한다."
      ],
      "metadata": {
        "id": "up56SXURuMsn"
      }
    },
    {
      "cell_type": "markdown",
      "source": [
        "# 조건문(condition)\n",
        "- 특정 조건을 만족하면('True') 코드를 실행\n",
        "- 'if'  'elif' , 'else'\n",
        "    - 우리 다음과 같이 'if elif else'만을 이용해서 조건문을 만든다고 가정해볼게요.\n",
        "    - 'if'의 조건이 참이면 코드를 실행해라\n",
        "    - 'elif (else if 약어): 그게아니고...elif 의 조건이 참이면 실행해라\n",
        "    - `else` : `if`i 와 `elif` 모두 조건이 참이 아니라면 실행해라\n",
        "\n",
        "-조건문\n",
        "```python\n",
        "if <condition>\n",
        "    coode context\n",
        "elif <conditoin>\n",
        "    coode context\n",
        "    ...\n",
        "    ...\n",
        "    ...\n",
        "    else:\n",
        "        coode context\n",
        "..."
      ],
      "metadata": {
        "id": "ytmXxUQzvXVm"
      }
    },
    {
      "cell_type": "code",
      "source": [
        "accuracy = 0.66\n",
        "if accuracy >= 0.9:\n",
        "    print(\"와우 최고의 인공지능 모델이네요\")\n",
        "elif accuracy <0.9 and accuracy >0.8:\n",
        "    print(\"좋은 모델이네요\")\n",
        "elif accuracy < 0.8 and accuracy >=0.7:\n",
        "    print(\"평범한 모델이네요\")\n",
        "else:\n",
        "    print(\"차라리 제가 예측하겠습니다.\")"
      ],
      "metadata": {
        "colab": {
          "base_uri": "https://localhost:8080/"
        },
        "id": "Hxb5dP-9v1P0",
        "outputId": "94f18ac6-ab01-4265-ec54-50f1e0702e28"
      },
      "execution_count": null,
      "outputs": [
        {
          "output_type": "stream",
          "name": "stdout",
          "text": [
            "차라리 제가 예측하겠습니다.\n"
          ]
        }
      ]
    },
    {
      "cell_type": "markdown",
      "source": [
        "- if 문은 단독으로 사용가능\n"
      ],
      "metadata": {
        "id": "A3Th9Ugyx0Ro"
      }
    },
    {
      "cell_type": "code",
      "source": [
        "num = 2 \n",
        "if num != 0:\n",
        "    print(10/num)"
      ],
      "metadata": {
        "colab": {
          "base_uri": "https://localhost:8080/"
        },
        "id": "sqR97DAtyZrf",
        "outputId": "e51bfac5-7967-40d1-c604-edab863622f0"
      },
      "execution_count": null,
      "outputs": [
        {
          "output_type": "stream",
          "name": "stdout",
          "text": [
            "5.0\n"
          ]
        }
      ]
    },
    {
      "cell_type": "code",
      "source": [
        "num = 0 \n",
        "if num:  # 0 과 None 객체가 아닐경울 True \n",
        "    print(10/num)"
      ],
      "metadata": {
        "id": "Roffd4dSygOp"
      },
      "execution_count": null,
      "outputs": []
    },
    {
      "cell_type": "code",
      "source": [
        "num = 0\n",
        "if num != 0:\n",
        "    print(10/num)\n",
        "else:\n",
        "    print(\"0으로 나눌수 없습니다.\")"
      ],
      "metadata": {
        "colab": {
          "base_uri": "https://localhost:8080/"
        },
        "id": "i0jdrcypysRT",
        "outputId": "ab6271a7-05be-4967-8c7b-2763d7e7375f"
      },
      "execution_count": null,
      "outputs": [
        {
          "output_type": "stream",
          "name": "stdout",
          "text": [
            "0으로 나눌수 없습니다.\n"
          ]
        }
      ]
    },
    {
      "cell_type": "code",
      "source": [
        "num = 0\n",
        "if num > 0:\n",
        "    print(10/num)\n",
        "elif num < 0:\n",
        "    print(\"양수만 넣어주세요\")\n",
        "else:\n",
        "    print(\"0으로 나눌수 없습니다.\")"
      ],
      "metadata": {
        "colab": {
          "base_uri": "https://localhost:8080/"
        },
        "id": "34bFqTpHzOko",
        "outputId": "74d1fdfc-42ea-4b3d-e253-d42a61259f06"
      },
      "execution_count": null,
      "outputs": [
        {
          "output_type": "stream",
          "name": "stdout",
          "text": [
            "0으로 나눌수 없습니다.\n"
          ]
        }
      ]
    },
    {
      "cell_type": "markdown",
      "source": [
        "```\n",
        "회원가입시 넘어온 나이값이 정수형이면 '정상값'을 출력\n",
        "그게 아니면 '잘못된 값'을 출력하는 프로그램을 만들어봅시다.\n",
        "```"
      ],
      "metadata": {
        "id": "RAdwe2aIzdde"
      }
    },
    {
      "cell_type": "code",
      "source": [
        "age = 1\n",
        "if type(age) == int:\n",
        "    print (\"정상값입니다.\")\n",
        "else:\n",
        "    print(\"잘못된 값.\")"
      ],
      "metadata": {
        "colab": {
          "base_uri": "https://localhost:8080/"
        },
        "id": "ZYKJWaUvz_10",
        "outputId": "4c0a2899-dc40-423e-c311-47ec38627f89"
      },
      "execution_count": null,
      "outputs": [
        {
          "output_type": "stream",
          "name": "stdout",
          "text": [
            "정상값입니다.\n"
          ]
        }
      ]
    },
    {
      "cell_type": "markdown",
      "source": [
        "```\n",
        "회원가입 시 나이값이 100이상이면 \"유효한 나이를 입력해주세요\"를 출력\n",
        "0 미만이면 \"태어난거 맞나요?\" 출력\n",
        "0-99살 \" DB저장완료\" 출력\n",
        "```"
      ],
      "metadata": {
        "id": "42L1ujmx0SUK"
      }
    },
    {
      "cell_type": "code",
      "source": [
        "age = -1 \n",
        "if age > 99:\n",
        "    print (\"유효한 나이를 입력해주쇼\")\n",
        "elif age < 0:\n",
        "    print(\"태어난거 맞나요?\")\n",
        "else:   \n",
        "    print(\"DB저장완료\")"
      ],
      "metadata": {
        "colab": {
          "base_uri": "https://localhost:8080/"
        },
        "id": "eS9j9s0t06FT",
        "outputId": "f6f42a6e-9131-4df3-90b8-2eeb485fc72f"
      },
      "execution_count": null,
      "outputs": [
        {
          "output_type": "stream",
          "name": "stdout",
          "text": [
            "태어난거 맞나요?\n"
          ]
        }
      ]
    },
    {
      "cell_type": "markdown",
      "source": [
        "## 중첩 조건문\n",
        "- 조건문안에 조건문을 사용할수 있다.\n"
      ],
      "metadata": {
        "id": "HpTAwUMt1QEw"
      }
    },
    {
      "cell_type": "code",
      "source": [
        "age = 18\n",
        "if age > 99 or age < 0:\n",
        "    print(\"유효한 나이를 입력해주세요\")\n",
        "else:\n",
        "    if age < 20:\n",
        "        print(\"20세 이상만 회원가입이 가능합니다.\")\n",
        "    else:\n",
        "        print(\"DB 저장 완료\")"
      ],
      "metadata": {
        "colab": {
          "base_uri": "https://localhost:8080/"
        },
        "id": "VHMBgQGZ6YEE",
        "outputId": "184b97f9-52a4-4cb3-f82a-cc2251a40e10"
      },
      "execution_count": null,
      "outputs": [
        {
          "output_type": "stream",
          "name": "stdout",
          "text": [
            "20세 이상만 회원가입이 가능합니다.\n"
          ]
        }
      ]
    },
    {
      "cell_type": "code",
      "source": [
        "input() # 사용ㅈ의 입력으로부터 입력값을 받을 수 있는 함수"
      ],
      "metadata": {
        "colab": {
          "base_uri": "https://localhost:8080/",
          "height": 54
        },
        "id": "nn64XFK562U0",
        "outputId": "a2fcbfe9-d403-46ed-b29e-65bbbfc5e262"
      },
      "execution_count": null,
      "outputs": [
        {
          "name": "stdout",
          "output_type": "stream",
          "text": [
            "10014\n"
          ]
        },
        {
          "output_type": "execute_result",
          "data": {
            "text/plain": [
              "'10014'"
            ],
            "application/vnd.google.colaboratory.intrinsic+json": {
              "type": "string"
            }
          },
          "metadata": {},
          "execution_count": 28
        }
      ]
    },
    {
      "cell_type": "code",
      "source": [
        "age = input(\"나이를 입력하시오: \")"
      ],
      "metadata": {
        "colab": {
          "base_uri": "https://localhost:8080/"
        },
        "id": "vEsLMLsH7HUD",
        "outputId": "a9c9a418-3f24-4007-890b-0bdbb0cf44aa"
      },
      "execution_count": null,
      "outputs": [
        {
          "name": "stdout",
          "output_type": "stream",
          "text": [
            "나이를 입력하시오: 42\n"
          ]
        }
      ]
    },
    {
      "cell_type": "code",
      "source": [
        "age.isdigit()"
      ],
      "metadata": {
        "colab": {
          "base_uri": "https://localhost:8080/"
        },
        "id": "0tEcyNFX7bDY",
        "outputId": "3fc6bb80-e8a4-43c5-f2a9-d03d9f9f5536"
      },
      "execution_count": null,
      "outputs": [
        {
          "output_type": "execute_result",
          "data": {
            "text/plain": [
              "True"
            ]
          },
          "metadata": {},
          "execution_count": 31
        }
      ]
    },
    {
      "cell_type": "code",
      "source": [
        "\"3.14\".isdigit()"
      ],
      "metadata": {
        "colab": {
          "base_uri": "https://localhost:8080/"
        },
        "id": "6D5yvEKr7u-X",
        "outputId": "4899a808-64ee-493c-bc53-c63a76a917be"
      },
      "execution_count": null,
      "outputs": [
        {
          "output_type": "execute_result",
          "data": {
            "text/plain": [
              "False"
            ]
          },
          "metadata": {},
          "execution_count": 34
        }
      ]
    },
    {
      "cell_type": "markdown",
      "source": [
        "```\n",
        "scors = [90,100,51,78,66,88]\n",
        "max 라는 단어를 입력받으면 최대값을 출력\n",
        "min 라는 단어를 입력받으면 최소값을 출력\n",
        "mean 라는 단어를 입력받으면 평균값을 출력\n",
        "max,min,mean 외 다른 단어를 입력받으면  \"똑바로 입력하세요\" 출력\n",
        "```"
      ],
      "metadata": {
        "id": "TqvwVJaV70KA"
      }
    },
    {
      "cell_type": "code",
      "source": [
        "scores = [90,100,51,78,66,88]\n",
        "agg = input(\"max, min,mean\")\n",
        "\n",
        "scores_sort = sorted(scores)\n",
        "\n",
        "if agg == \"max\":\n",
        "    print(scores_sort[-1])\n",
        "elif agg == \"min\":\n",
        "    print(scores_sort[0])\n",
        "elif agg == \"mean\":\n",
        "    print(sum(scores)/len(scores))\n",
        "else:\n",
        "    print(\"똑바로 입력하세요\")\n"
      ],
      "metadata": {
        "colab": {
          "base_uri": "https://localhost:8080/"
        },
        "id": "JfkLcGmt8fZu",
        "outputId": "9f9b0dcf-27cf-466a-a0b0-a1a98491745c"
      },
      "execution_count": null,
      "outputs": [
        {
          "output_type": "stream",
          "name": "stdout",
          "text": [
            "max, min,meanmax\n",
            "100\n"
          ]
        }
      ]
    },
    {
      "cell_type": "markdown",
      "source": [
        "```\n",
        "계좌에 10000원이 들어있습니다.\n",
        "인출 금액을 입력 받습니다.\n",
        "인출 금액이 'isdigt' 메소드를 이용하여 숫자가 아닐경울 \"유효한 금액을 입력하세요' 출력\n",
        "\n",
        "인출금액이 계좌에 있는 금액보다 크면 \"인출 불가능합니다. { } 원의 잔액이 부족합니다.\" 출력\n",
        "인출금액이 계좌에 있는 금액보다 작으면 \"{ }원이 인출되었습니다\" 출력\n",
        "정수가 입력될경우에는 항상 마지막에 현재 계좌의 잔액을 출력(\"현재 잔액은 {}원 입니다.\")\n"
      ],
      "metadata": {
        "id": "N4J-cuYW9YLm"
      }
    },
    {
      "cell_type": "code",
      "source": [
        "account = 10000"
      ],
      "metadata": {
        "id": "2vkJI-zu_Uud"
      },
      "execution_count": null,
      "outputs": []
    },
    {
      "cell_type": "code",
      "source": [
        "money = input(\"얼마 인출 할래?\")\n",
        "if money.isdigit():\n",
        "    money = int(money)\n",
        "    if account < money:\n",
        "        print(f\"인출이 불가능합니다.{money - account}원의 잔액이 부족합니다.\")\n",
        "    else:\n",
        "        account -= money\n",
        "        print(f\"{money }원이 인출되었습니다\")\n",
        "\n",
        "    print(f\"현재 잔액은{account}원입니다.\")\n",
        "else:\n",
        "    print(\"유효한 금액을 입력하세요.\")\n",
        "    "
      ],
      "metadata": {
        "colab": {
          "base_uri": "https://localhost:8080/"
        },
        "id": "2NZQw_2r_WwW",
        "outputId": "f39219ce-889b-4da5-e4e7-d0de136498df"
      },
      "execution_count": null,
      "outputs": [
        {
          "output_type": "stream",
          "name": "stdout",
          "text": [
            "얼마 인출 할래?asdfas\n",
            "유효한 금액을 입력하세요.\n"
          ]
        }
      ]
    },
    {
      "cell_type": "markdown",
      "source": [
        "- 중앙값\n",
        "    - 주어진 값을 크기순으로 정렬했을때 가장 중앙에 위치한 값\n",
        "    - 이상치에 영향을 받지 않는다.\n",
        "    "
      ],
      "metadata": {
        "id": "Esps_Y8O_2RV"
      }
    },
    {
      "cell_type": "code",
      "source": [
        "model_scores1 = [0.92 , 0.83 , 0.91 , 0.77, 0.99 , 0.61 , 0.88,0.76,0.75] #  홀수 개수\n",
        "model_scores2 = [0.92 , 0.83 , 0.91 , 0.77, 0.99 , 0.61 , 0.88,0.76,0.75 , 0.51] # 짝수 개수\n",
        "print(model_scores1)\n",
        "print(model_scores2)"
      ],
      "metadata": {
        "colab": {
          "base_uri": "https://localhost:8080/"
        },
        "id": "nqvCuBOaIpln",
        "outputId": "c425b47d-de15-4bfc-ac4e-3fa9ae8640e1"
      },
      "execution_count": null,
      "outputs": [
        {
          "output_type": "stream",
          "name": "stdout",
          "text": [
            "[0.92, 0.83, 0.91, 0.77, 0.99, 0.61, 0.88, 0.76, 0.75]\n",
            "[0.92, 0.83, 0.91, 0.77, 0.99, 0.61, 0.88, 0.76, 0.75, 0.51]\n"
          ]
        }
      ]
    },
    {
      "cell_type": "code",
      "source": [
        "scores = model_scores1\n",
        "scores = model_scores2\n",
        "length = len(scores)\n",
        "index = length // 2\n",
        "\n",
        "if length % 2:\n",
        "    median_val =  sorted(scores)[index]\n",
        "else:   \n",
        "    median_val = (sorted(scores)[index] + sorted(scores)[index-1]) / 2\n",
        "\n",
        "print(median_val)"
      ],
      "metadata": {
        "colab": {
          "base_uri": "https://localhost:8080/"
        },
        "id": "2ODrJN6DI1oQ",
        "outputId": "3c324524-448f-4a23-8751-b53924e850f8"
      },
      "execution_count": null,
      "outputs": [
        {
          "output_type": "stream",
          "name": "stdout",
          "text": [
            "0.8\n"
          ]
        }
      ]
    },
    {
      "cell_type": "markdown",
      "source": [
        "# 반복문(loop)\n",
        "- 반복적으로 코드를 수행할떄 사용"
      ],
      "metadata": {
        "id": "dikd3ShwJkkX"
      }
    },
    {
      "cell_type": "markdown",
      "source": [
        "## `while`\n",
        "- 조건이 참(True)인 동안 반복\n",
        "- 무한 반복 주의!!\n",
        "\n",
        "```python\n",
        "while <condition>:\n",
        "    code context\n",
        "```"
      ],
      "metadata": {
        "id": "W6_paL8VNEpW"
      }
    },
    {
      "cell_type": "markdown",
      "source": [
        "- 3단 출력해보기"
      ],
      "metadata": {
        "id": "CZEYsm7fNi0h"
      }
    },
    {
      "cell_type": "code",
      "source": [
        "n = 3 # 3단\n",
        "i = 1 #곱하는 수 1~9 증가\n",
        "\n",
        "while i < 10: # i(곱하는수가) 10 보다 작으면 반복해라\n",
        "    print(f\"{n}X{i} = {n*i}\")\n",
        "    i += 1 # i = i + 1\n"
      ],
      "metadata": {
        "colab": {
          "base_uri": "https://localhost:8080/"
        },
        "id": "9rDnj0s3N1wU",
        "outputId": "424ec8e9-920f-472f-b6ca-5955ec428274"
      },
      "execution_count": null,
      "outputs": [
        {
          "output_type": "stream",
          "name": "stdout",
          "text": [
            "3X1 = 3\n",
            "3X2 = 6\n",
            "3X3 = 9\n",
            "3X4 = 12\n",
            "3X5 = 15\n",
            "3X6 = 18\n",
            "3X7 = 21\n",
            "3X8 = 24\n",
            "3X9 = 27\n"
          ]
        }
      ]
    },
    {
      "cell_type": "code",
      "source": [
        "#n = 3 # 3단\n",
        "#i = 0 #곱하는 수 1~9 증가\n",
        "#while i < 10: # i(곱하는수가) 10 보다 작으면 반복해라\n",
        "#   i += 1\n",
        "#   print(f\"{n}X{i} = {n*i}\")\n",
        "   "
      ],
      "metadata": {
        "id": "T2edI_pkOSAy"
      },
      "execution_count": null,
      "outputs": []
    },
    {
      "cell_type": "markdown",
      "source": [
        "- `break` : 해당 반복문을 빠져 나온다."
      ],
      "metadata": {
        "id": "N757D3vFO0yL"
      }
    },
    {
      "cell_type": "code",
      "source": [
        "n = 9\n",
        "i = 1\n",
        "while True:\n",
        "    print(f\"{n}x{i}={n*i}\")\n",
        "    i+= 1\n",
        "\n",
        "    if i > 9:\n",
        "        break"
      ],
      "metadata": {
        "colab": {
          "base_uri": "https://localhost:8080/"
        },
        "id": "RzY8aEuDPjhU",
        "outputId": "46844c3c-985d-4695-b77d-b9615172f47e"
      },
      "execution_count": null,
      "outputs": [
        {
          "output_type": "stream",
          "name": "stdout",
          "text": [
            "9x1=9\n",
            "9x2=18\n",
            "9x3=27\n",
            "9x4=36\n",
            "9x5=45\n",
            "9x6=54\n",
            "9x7=63\n",
            "9x8=72\n",
            "9x9=81\n"
          ]
        }
      ]
    },
    {
      "cell_type": "markdown",
      "source": [
        "- continue\n",
        "    - 진행을 중단하고 다음 반복으로 넘어간다."
      ],
      "metadata": {
        "id": "fFRB8uZZP6l_"
      }
    },
    {
      "cell_type": "code",
      "source": [
        "n = 3\n",
        "i = 1\n",
        "while i < 10:\n",
        "    if i % 2 != 0:\n",
        "        i += 1\n",
        "        continue\n",
        "        \n",
        "    print(f\"{n}X{i} = {n*i}\")\n",
        "    i += 1"
      ],
      "metadata": {
        "colab": {
          "base_uri": "https://localhost:8080/"
        },
        "id": "_rMKS3hbQGPX",
        "outputId": "e8eba3f3-f9f3-43dd-d014-14cc6edaa8ba"
      },
      "execution_count": null,
      "outputs": [
        {
          "output_type": "stream",
          "name": "stdout",
          "text": [
            "3X2 = 6\n",
            "3X4 = 12\n",
            "3X6 = 18\n",
            "3X8 = 24\n"
          ]
        }
      ]
    },
    {
      "cell_type": "code",
      "source": [
        "fruits = {'사과': 'Apple', '바나나': 'Banana', '딸기': 'Strawberry'}\n",
        "while True:\n",
        "        word = input(\"과일단어 입력: \")\n",
        "        word = fruits.get(word)\n",
        "        if word :\n",
        "            print(word)\n",
        "            break\n",
        "        else:\n",
        "            print(\"사전에 없습니다 다시입력\")\n",
        "      \n",
        "\n",
        "        \n"
      ],
      "metadata": {
        "colab": {
          "base_uri": "https://localhost:8080/"
        },
        "id": "kJbA9GViQugp",
        "outputId": "4d8d6b08-dcd5-42e2-959b-691cdec17a9e"
      },
      "execution_count": null,
      "outputs": [
        {
          "output_type": "stream",
          "name": "stdout",
          "text": [
            "과일단어 입력: 바나나\n",
            "Banana\n"
          ]
        }
      ]
    },
    {
      "cell_type": "markdown",
      "source": [
        "```\n",
        "다음과 같이 학습에 사용할 나이 데이터가 리스트에 담겨있따.\n",
        "age_list = [20,42,None,30,25,None,27,50,60]\n",
        "None 값들은 결측치\n",
        "None 값을 제외한 나이값들의 평균 구하시오.\n"
      ],
      "metadata": {
        "id": "GMpqIrGoVrlU"
      }
    },
    {
      "cell_type": "code",
      "source": [
        "age_list = [20,42,None,30,25,None,27,50,60]\n",
        "age_list"
      ],
      "metadata": {
        "colab": {
          "base_uri": "https://localhost:8080/"
        },
        "id": "epywxdtYXepB",
        "outputId": "f1fe5f09-b2d8-495f-c9aa-c5f884a4710b"
      },
      "execution_count": null,
      "outputs": [
        {
          "output_type": "execute_result",
          "data": {
            "text/plain": [
              "[20, 42, None, 30, 25, None, 27, 50, 60]"
            ]
          },
          "metadata": {},
          "execution_count": 92
        }
      ]
    },
    {
      "cell_type": "code",
      "source": [
        "index = len(age_list)\n",
        "\n",
        "tmp = [ ]\n",
        "\n",
        "while index:\n",
        "    index -= 1\n",
        "    if age_list [index] is not None:\n",
        "        tmp.append(age_list[index])\n",
        "\n",
        "avg = sum(tmp) / len(tmp)\n",
        "avg = int(avg)\n",
        "avg"
      ],
      "metadata": {
        "colab": {
          "base_uri": "https://localhost:8080/"
        },
        "id": "GELm3wKpX4C5",
        "outputId": "f943aa1b-eacc-4e9e-bd56-75ff8b470c09"
      },
      "execution_count": null,
      "outputs": [
        {
          "output_type": "execute_result",
          "data": {
            "text/plain": [
              "36"
            ]
          },
          "metadata": {},
          "execution_count": 101
        }
      ]
    },
    {
      "cell_type": "markdown",
      "source": [
        "구한 평균 값으로 age_list 의 결측치(None)을 채우세요."
      ],
      "metadata": {
        "id": "NZfiZC5ZbdUu"
      }
    },
    {
      "cell_type": "code",
      "source": [
        "index = len(age_list)\n",
        "while index:\n",
        "    index -= 1\n",
        "    if age_list[index] is None:\n",
        "        age_list[index] = avg\n",
        "age_list"
      ],
      "metadata": {
        "colab": {
          "base_uri": "https://localhost:8080/"
        },
        "id": "o5-RXPNBZWXQ",
        "outputId": "6d698777-a3c8-43c2-8ce5-efb022cd9d97"
      },
      "execution_count": null,
      "outputs": [
        {
          "output_type": "execute_result",
          "data": {
            "text/plain": [
              "[20, 42, 36, 30, 25, 36, 27, 50, 60]"
            ]
          },
          "metadata": {},
          "execution_count": 102
        }
      ]
    },
    {
      "cell_type": "markdown",
      "source": [
        "- 중첩 while문도 가능"
      ],
      "metadata": {
        "id": "KIGl8SINbj2o"
      }
    },
    {
      "cell_type": "code",
      "source": [
        "i = 1\n",
        "while i < 3:\n",
        "    print(f\"{i}번쨰 바깥쪽 while문 입니다.\")\n",
        "    i += 1\n",
        "\n",
        "    j = 1\n",
        "    while j < 6:\n",
        "        print(f\"    {j}번째 안쪽 while문 입니다.\")\n",
        "        j += 1"
      ],
      "metadata": {
        "colab": {
          "base_uri": "https://localhost:8080/"
        },
        "id": "lb7r27x0b35N",
        "outputId": "56ec81a6-281d-4d1d-a9e9-17fd45b87390"
      },
      "execution_count": null,
      "outputs": [
        {
          "output_type": "stream",
          "name": "stdout",
          "text": [
            "1번쨰 바깥쪽 while문 입니다.\n",
            "    1번째 안쪽 while문 입니다.\n",
            "    2번째 안쪽 while문 입니다.\n",
            "    3번째 안쪽 while문 입니다.\n",
            "    4번째 안쪽 while문 입니다.\n",
            "    5번째 안쪽 while문 입니다.\n",
            "2번쨰 바깥쪽 while문 입니다.\n",
            "    1번째 안쪽 while문 입니다.\n",
            "    2번째 안쪽 while문 입니다.\n",
            "    3번째 안쪽 while문 입니다.\n",
            "    4번째 안쪽 while문 입니다.\n",
            "    5번째 안쪽 while문 입니다.\n"
          ]
        }
      ]
    },
    {
      "cell_type": "code",
      "source": [
        "n = 1\n",
        "while n < 9:\n",
        "    print(f\"{n+1}단입니다.\")\n",
        "    n += 1\n",
        "\n",
        "    i = 1\n",
        "    while i < 10:\n",
        "        print(f\"    {n}X{i} = {n*i}\")\n",
        "        i += 1"
      ],
      "metadata": {
        "colab": {
          "base_uri": "https://localhost:8080/"
        },
        "id": "UTILoKY0cVn4",
        "outputId": "c38d3cee-93ff-4085-a46d-56669b24844a"
      },
      "execution_count": null,
      "outputs": [
        {
          "output_type": "stream",
          "name": "stdout",
          "text": [
            "2단입니다.\n",
            "    2X1 = 2\n",
            "    2X2 = 4\n",
            "    2X3 = 6\n",
            "    2X4 = 8\n",
            "    2X5 = 10\n",
            "    2X6 = 12\n",
            "    2X7 = 14\n",
            "    2X8 = 16\n",
            "    2X9 = 18\n",
            "3단입니다.\n",
            "    3X1 = 3\n",
            "    3X2 = 6\n",
            "    3X3 = 9\n",
            "    3X4 = 12\n",
            "    3X5 = 15\n",
            "    3X6 = 18\n",
            "    3X7 = 21\n",
            "    3X8 = 24\n",
            "    3X9 = 27\n",
            "4단입니다.\n",
            "    4X1 = 4\n",
            "    4X2 = 8\n",
            "    4X3 = 12\n",
            "    4X4 = 16\n",
            "    4X5 = 20\n",
            "    4X6 = 24\n",
            "    4X7 = 28\n",
            "    4X8 = 32\n",
            "    4X9 = 36\n",
            "5단입니다.\n",
            "    5X1 = 5\n",
            "    5X2 = 10\n",
            "    5X3 = 15\n",
            "    5X4 = 20\n",
            "    5X5 = 25\n",
            "    5X6 = 30\n",
            "    5X7 = 35\n",
            "    5X8 = 40\n",
            "    5X9 = 45\n",
            "6단입니다.\n",
            "    6X1 = 6\n",
            "    6X2 = 12\n",
            "    6X3 = 18\n",
            "    6X4 = 24\n",
            "    6X5 = 30\n",
            "    6X6 = 36\n",
            "    6X7 = 42\n",
            "    6X8 = 48\n",
            "    6X9 = 54\n",
            "7단입니다.\n",
            "    7X1 = 7\n",
            "    7X2 = 14\n",
            "    7X3 = 21\n",
            "    7X4 = 28\n",
            "    7X5 = 35\n",
            "    7X6 = 42\n",
            "    7X7 = 49\n",
            "    7X8 = 56\n",
            "    7X9 = 63\n",
            "8단입니다.\n",
            "    8X1 = 8\n",
            "    8X2 = 16\n",
            "    8X3 = 24\n",
            "    8X4 = 32\n",
            "    8X5 = 40\n",
            "    8X6 = 48\n",
            "    8X7 = 56\n",
            "    8X8 = 64\n",
            "    8X9 = 72\n",
            "9단입니다.\n",
            "    9X1 = 9\n",
            "    9X2 = 18\n",
            "    9X3 = 27\n",
            "    9X4 = 36\n",
            "    9X5 = 45\n",
            "    9X6 = 54\n",
            "    9X7 = 63\n",
            "    9X8 = 72\n",
            "    9X9 = 81\n"
          ]
        }
      ]
    },
    {
      "cell_type": "markdown",
      "source": [
        "## `for` \n",
        "- 반복 가능(iterable)한 객체를 더이상 꺼낼수 없을때까지 반복한다.\n",
        "- `list`, `tutple`, `set`, `dict`, `srt`\n",
        "```python\n",
        "for <variable> in <iterable>:\n",
        "    code context\n",
        "```\n",
        "\n"
      ],
      "metadata": {
        "id": "KgHIJ9h5dzab"
      }
    },
    {
      "cell_type": "code",
      "source": [
        "lst = [1,2,3,4]\n",
        "for item in lst:\n",
        "    print(item ** 2)"
      ],
      "metadata": {
        "colab": {
          "base_uri": "https://localhost:8080/"
        },
        "id": "Fy50MSqE-yxT",
        "outputId": "60a74705-6e11-4e5b-edbe-091abe6f3eb3"
      },
      "execution_count": null,
      "outputs": [
        {
          "output_type": "stream",
          "name": "stdout",
          "text": [
            "1\n",
            "4\n",
            "9\n",
            "16\n"
          ]
        }
      ]
    },
    {
      "cell_type": "code",
      "source": [
        "n = 9\n",
        "lst = [1,2,3,4,5,6,7,8,9,]\n",
        "for i in lst:\n",
        "    print(f\"{n}X{i} = {n*i}\")"
      ],
      "metadata": {
        "colab": {
          "base_uri": "https://localhost:8080/"
        },
        "id": "Xr9-I4NC_cxX",
        "outputId": "8d034b5b-8c82-4bce-e52f-b87e0c160151"
      },
      "execution_count": null,
      "outputs": [
        {
          "output_type": "stream",
          "name": "stdout",
          "text": [
            "9X1 = 9\n",
            "9X2 = 18\n",
            "9X3 = 27\n",
            "9X4 = 36\n",
            "9X5 = 45\n",
            "9X6 = 54\n",
            "9X7 = 63\n",
            "9X8 = 72\n",
            "9X9 = 81\n"
          ]
        }
      ]
    },
    {
      "cell_type": "markdown",
      "source": [
        "```\n",
        "for문과 조건문을 이용하여 다음의 리스트에서 음수만 출력하세요\n",
        "lst = [-2,1,4,-88,12,-12]\n",
        "```"
      ],
      "metadata": {
        "id": "7ZIfwxtD_0iH"
      }
    },
    {
      "cell_type": "code",
      "source": [
        "lst = [-2,1,4,-88,-12,-12]\n",
        "for i in lst:\n",
        "    if i < 0:\n",
        "        print(i)\n",
        "    "
      ],
      "metadata": {
        "colab": {
          "base_uri": "https://localhost:8080/"
        },
        "id": "wUfueFtxAcmc",
        "outputId": "fed14f49-c5e1-4ade-eecb-0fe83a13513f"
      },
      "execution_count": null,
      "outputs": [
        {
          "output_type": "stream",
          "name": "stdout",
          "text": [
            "-2\n",
            "-88\n",
            "-12\n",
            "-12\n"
          ]
        }
      ]
    },
    {
      "cell_type": "markdown",
      "source": [
        "```\n",
        "for문과 조건문을 사용하여 다음의 리스트에서 3의 배수만을 출력\n",
        "lst = [3,33,100,23,81,44]\n",
        "```"
      ],
      "metadata": {
        "id": "FhOnTkr_AvGc"
      }
    },
    {
      "cell_type": "code",
      "source": [
        "lst = [3,33,100,23,81,44]\n",
        "for i in lst:\n",
        "    if i % 3 == 0:\n",
        "        print(i)"
      ],
      "metadata": {
        "colab": {
          "base_uri": "https://localhost:8080/"
        },
        "id": "A01oaqH8Dv9N",
        "outputId": "e012572f-1201-4a27-8ebd-713cb4f41365"
      },
      "execution_count": null,
      "outputs": [
        {
          "output_type": "stream",
          "name": "stdout",
          "text": [
            "3\n",
            "33\n",
            "81\n"
          ]
        }
      ]
    },
    {
      "cell_type": "markdown",
      "source": [
        "```\n",
        "다음의 리스트에서 50미만의 3의 배수만 출력\n",
        "lst = [3,33,100,23,81,44]\n",
        "```"
      ],
      "metadata": {
        "id": "TXz_rt0VD73D"
      }
    },
    {
      "cell_type": "code",
      "source": [
        "lst = [3,33,100,23,81,44]\n",
        "for i in lst:\n",
        "    if i % 3 == 0 and i < 50:\n",
        "        print(i)"
      ],
      "metadata": {
        "colab": {
          "base_uri": "https://localhost:8080/"
        },
        "id": "EW0Bt-nZFz1l",
        "outputId": "9c30c661-b2a7-46bc-954f-94d2012c494f"
      },
      "execution_count": null,
      "outputs": [
        {
          "output_type": "stream",
          "name": "stdout",
          "text": [
            "3\n",
            "33\n"
          ]
        }
      ]
    },
    {
      "cell_type": "markdown",
      "source": [
        "```\n",
        "다음과 같이 리스트에 동물 이름이 있다. 첫글자를 대문자로 변경해서 출력하세요\n",
        "lst = [\"dog\",\"cat\",\"rabbit\"]\n",
        "```"
      ],
      "metadata": {
        "id": "ah42B4CMF8vU"
      }
    },
    {
      "cell_type": "code",
      "source": [
        "lst = [\"dog\",\"cat\",\"rabbit\"]   \n",
        "for i in lst:\n",
        "      print(i[0].upper()+i[1:])\n",
        "        "
      ],
      "metadata": {
        "colab": {
          "base_uri": "https://localhost:8080/"
        },
        "id": "pmbMXrhPGxXd",
        "outputId": "01969459-d21c-4dcd-ab94-9020297c02d9"
      },
      "execution_count": null,
      "outputs": [
        {
          "output_type": "stream",
          "name": "stdout",
          "text": [
            "Dog\n",
            "Cat\n",
            "Rabbit\n"
          ]
        }
      ]
    },
    {
      "cell_type": "markdown",
      "source": [
        "```\n",
        "다음과 같이 이메일 리스트에 담겨 있다. for문과 문자열 메소드를 이용하여 아이디만 출력해라.\n",
        "\n",
        "email_list = [\"user1004@gmail.com\",\"user100@naver.com\",\"user1@gmail.com\",\"user14@hanmail.net\"]\n",
        "```\n"
      ],
      "metadata": {
        "id": "l_q6P15WHF58"
      }
    },
    {
      "cell_type": "code",
      "source": [
        "email_list = [\"user1004@gmail.com\",\"user100@naver.com\",\"user1@gmail.com\",\"user14@hanmail,net\"]\n",
        "for i in emaill_list:\n",
        "    i=i.split('@')\n",
        "    print(i[0])"
      ],
      "metadata": {
        "colab": {
          "base_uri": "https://localhost:8080/"
        },
        "id": "FZmZhjNNMpgf",
        "outputId": "56aeb6cb-8e1e-4c0b-b7d0-49ad0bea3988"
      },
      "execution_count": null,
      "outputs": [
        {
          "output_type": "stream",
          "name": "stdout",
          "text": [
            "user1004\n",
            "user100\n",
            "user1\n",
            "user14\n"
          ]
        }
      ]
    },
    {
      "cell_type": "markdown",
      "source": [
        "```\n",
        "gmail 해당하는 이메일 주소만 출력\n",
        "email_list = [\"user1004@gmail.com\",\"user100@naver.com\",\"user1@gmail.com\",\"user14@hanmail.net\"]\n",
        "```"
      ],
      "metadata": {
        "id": "Fph_iH4qOH4Q"
      }
    },
    {
      "cell_type": "code",
      "source": [
        "email_list = [\"user1004@gmail.com\",\"user100@naver.com\",\"user1@gmail.com\",\"user14@hanmail.net\"]\n",
        "for email in email_list:\n",
        "    if email.endswith(\"gmail.com\"):\n",
        "        print(email)\n",
        "\n",
        "\n",
        "        \n"
      ],
      "metadata": {
        "colab": {
          "base_uri": "https://localhost:8080/"
        },
        "id": "BmX6VeY2OOTg",
        "outputId": "5ea4f8d7-720f-4f5a-8713-aea50b23138e"
      },
      "execution_count": null,
      "outputs": [
        {
          "output_type": "stream",
          "name": "stdout",
          "text": [
            "user1004@gmail.com\n",
            "user1@gmail.com\n"
          ]
        }
      ]
    },
    {
      "cell_type": "markdown",
      "source": [
        "### `range` 함수\n",
        "- 특정 구간의 숫자의 범위를 만들어주는 함수\n",
        "- 슬라이싱 기법을 이용해서 숫자의 범위를 만들어준다.\n",
        "- 파이썬의 range 라는 숫자의 범위를 가진 iterable한 특수한 객체를 반환\n",
        "- for문과 정말 같이 자주 사용된다."
      ],
      "metadata": {
        "id": "8bWCk1xKPDCn"
      }
    },
    {
      "cell_type": "code",
      "source": [
        "range(0,10) # 숫자 0~9까지 순차적으로 뽑겠다는 말이다."
      ],
      "metadata": {
        "colab": {
          "base_uri": "https://localhost:8080/"
        },
        "id": "UFaZAFz2QBOZ",
        "outputId": "a9d8fa57-a703-432c-f1af-d7803831afd3"
      },
      "execution_count": null,
      "outputs": [
        {
          "output_type": "execute_result",
          "data": {
            "text/plain": [
              "range(0, 10)"
            ]
          },
          "metadata": {},
          "execution_count": 171
        }
      ]
    },
    {
      "cell_type": "code",
      "source": [
        "range(10) # start값을 생략해도됨 range(0,10)같음"
      ],
      "metadata": {
        "colab": {
          "base_uri": "https://localhost:8080/"
        },
        "id": "kGzsfGGaRBwQ",
        "outputId": "906cd2e5-7dd9-4e87-d683-61718c48d4c6"
      },
      "execution_count": null,
      "outputs": [
        {
          "output_type": "execute_result",
          "data": {
            "text/plain": [
              "range(0, 10)"
            ]
          },
          "metadata": {},
          "execution_count": 173
        }
      ]
    },
    {
      "cell_type": "code",
      "source": [
        "type(range(0,10))"
      ],
      "metadata": {
        "colab": {
          "base_uri": "https://localhost:8080/"
        },
        "id": "5DjgSnuTRMSq",
        "outputId": "a6245355-5624-48c2-d795-e144ebe1bb6c"
      },
      "execution_count": null,
      "outputs": [
        {
          "output_type": "execute_result",
          "data": {
            "text/plain": [
              "range"
            ]
          },
          "metadata": {},
          "execution_count": 174
        }
      ]
    },
    {
      "cell_type": "code",
      "source": [
        "list(range(2,11,2))"
      ],
      "metadata": {
        "colab": {
          "base_uri": "https://localhost:8080/"
        },
        "id": "yGWaOFGiRXjk",
        "outputId": "d6a272bb-8f10-4935-d9f3-aeaf92ebca87"
      },
      "execution_count": null,
      "outputs": [
        {
          "output_type": "execute_result",
          "data": {
            "text/plain": [
              "[2, 4, 6, 8, 10]"
            ]
          },
          "metadata": {},
          "execution_count": 179
        }
      ]
    },
    {
      "cell_type": "code",
      "source": [
        "range(10,0,-1)"
      ],
      "metadata": {
        "colab": {
          "base_uri": "https://localhost:8080/"
        },
        "id": "dg6OT8wcRhkd",
        "outputId": "bb78e787-cf92-4c26-bdc3-ad946830b09f"
      },
      "execution_count": null,
      "outputs": [
        {
          "output_type": "execute_result",
          "data": {
            "text/plain": [
              "range(10, 0, -1)"
            ]
          },
          "metadata": {},
          "execution_count": 180
        }
      ]
    },
    {
      "cell_type": "code",
      "source": [
        "n = 9\n",
        "for i in range(1,10):\n",
        "    print(f\"{n} X {i} = {n*i}\")"
      ],
      "metadata": {
        "colab": {
          "base_uri": "https://localhost:8080/"
        },
        "id": "v8XtN7yYR2Fy",
        "outputId": "b49526ab-0006-4f9c-df5b-a5020d8864db"
      },
      "execution_count": null,
      "outputs": [
        {
          "output_type": "stream",
          "name": "stdout",
          "text": [
            "9 X 1 = 9\n",
            "9 X 2 = 18\n",
            "9 X 3 = 27\n",
            "9 X 4 = 36\n",
            "9 X 5 = 45\n",
            "9 X 6 = 54\n",
            "9 X 7 = 63\n",
            "9 X 8 = 72\n",
            "9 X 9 = 81\n"
          ]
        }
      ]
    },
    {
      "cell_type": "markdown",
      "source": [
        "```\n",
        "for 와 range 함수를 사용해서 1~40까지 숫자들 중에서 4의 배수만 출력해보세요.\n",
        "```"
      ],
      "metadata": {
        "id": "upGfVLKvSLSv"
      }
    },
    {
      "cell_type": "code",
      "source": [
        "for i in range(1,41):\n",
        "    if i % 4 == 0:\n",
        "        print(i)"
      ],
      "metadata": {
        "colab": {
          "base_uri": "https://localhost:8080/"
        },
        "id": "a9Oz44cMSeVd",
        "outputId": "80e00820-4ac8-42be-9828-931414f7a480"
      },
      "execution_count": null,
      "outputs": [
        {
          "output_type": "stream",
          "name": "stdout",
          "text": [
            "4\n",
            "8\n",
            "12\n",
            "16\n",
            "20\n",
            "24\n",
            "28\n",
            "32\n",
            "36\n",
            "40\n"
          ]
        }
      ]
    },
    {
      "cell_type": "code",
      "source": [
        "for i in range(40,3,-4):\n",
        "    print(i)"
      ],
      "metadata": {
        "colab": {
          "base_uri": "https://localhost:8080/"
        },
        "id": "Lk1Xo31AUMG5",
        "outputId": "98f28617-97e6-464a-d958-ff0fd4ceaaca"
      },
      "execution_count": null,
      "outputs": [
        {
          "output_type": "stream",
          "name": "stdout",
          "text": [
            "40\n",
            "36\n",
            "32\n",
            "28\n",
            "24\n",
            "20\n",
            "16\n",
            "12\n",
            "8\n",
            "4\n"
          ]
        }
      ]
    },
    {
      "cell_type": "code",
      "source": [
        "sum_value = 0\n",
        "for i in range(1,11):\n",
        "    sum_value += i\n",
        "sum_value\n"
      ],
      "metadata": {
        "colab": {
          "base_uri": "https://localhost:8080/"
        },
        "id": "lhnBVv22US4r",
        "outputId": "7e5c56ef-77b7-484b-872c-638744025222"
      },
      "execution_count": null,
      "outputs": [
        {
          "output_type": "execute_result",
          "data": {
            "text/plain": [
              "55"
            ]
          },
          "metadata": {},
          "execution_count": 200
        }
      ]
    },
    {
      "cell_type": "code",
      "source": [
        "for i in range(6,0,-1):\n",
        "    for j in range(i):\n",
        "        print(i, end='')\n",
        "    print()\n",
        "        "
      ],
      "metadata": {
        "colab": {
          "base_uri": "https://localhost:8080/"
        },
        "id": "VZcx7Sr9b9GV",
        "outputId": "0a8f9358-4452-4b1e-9204-2150f5fd332d"
      },
      "execution_count": null,
      "outputs": [
        {
          "output_type": "stream",
          "name": "stdout",
          "text": [
            "666666\n",
            "55555\n",
            "4444\n",
            "333\n",
            "22\n",
            "1\n"
          ]
        }
      ]
    },
    {
      "cell_type": "code",
      "source": [
        "### 중첩 `for` 문"
      ],
      "metadata": {
        "id": "xRRKjWxig7VV"
      },
      "execution_count": null,
      "outputs": []
    },
    {
      "cell_type": "code",
      "source": [
        "for n in range(2,10):\n",
        "    print(f\"{n} 단 입니다.\")\n",
        "    for i in range(1,10):\n",
        "        print(f\"{n} X {i} = {n*i}\")"
      ],
      "metadata": {
        "colab": {
          "base_uri": "https://localhost:8080/"
        },
        "id": "1Ri2sEnR2KYe",
        "outputId": "79f8fcd2-2f5c-4965-a16f-9afc8e4d79a5"
      },
      "execution_count": null,
      "outputs": [
        {
          "output_type": "stream",
          "name": "stdout",
          "text": [
            "2 단 입니다.\n",
            "2 X 1 = 2\n",
            "2 X 2 = 4\n",
            "2 X 3 = 6\n",
            "2 X 4 = 8\n",
            "2 X 5 = 10\n",
            "2 X 6 = 12\n",
            "2 X 7 = 14\n",
            "2 X 8 = 16\n",
            "2 X 9 = 18\n",
            "3 단 입니다.\n",
            "3 X 1 = 3\n",
            "3 X 2 = 6\n",
            "3 X 3 = 9\n",
            "3 X 4 = 12\n",
            "3 X 5 = 15\n",
            "3 X 6 = 18\n",
            "3 X 7 = 21\n",
            "3 X 8 = 24\n",
            "3 X 9 = 27\n",
            "4 단 입니다.\n",
            "4 X 1 = 4\n",
            "4 X 2 = 8\n",
            "4 X 3 = 12\n",
            "4 X 4 = 16\n",
            "4 X 5 = 20\n",
            "4 X 6 = 24\n",
            "4 X 7 = 28\n",
            "4 X 8 = 32\n",
            "4 X 9 = 36\n",
            "5 단 입니다.\n",
            "5 X 1 = 5\n",
            "5 X 2 = 10\n",
            "5 X 3 = 15\n",
            "5 X 4 = 20\n",
            "5 X 5 = 25\n",
            "5 X 6 = 30\n",
            "5 X 7 = 35\n",
            "5 X 8 = 40\n",
            "5 X 9 = 45\n",
            "6 단 입니다.\n",
            "6 X 1 = 6\n",
            "6 X 2 = 12\n",
            "6 X 3 = 18\n",
            "6 X 4 = 24\n",
            "6 X 5 = 30\n",
            "6 X 6 = 36\n",
            "6 X 7 = 42\n",
            "6 X 8 = 48\n",
            "6 X 9 = 54\n",
            "7 단 입니다.\n",
            "7 X 1 = 7\n",
            "7 X 2 = 14\n",
            "7 X 3 = 21\n",
            "7 X 4 = 28\n",
            "7 X 5 = 35\n",
            "7 X 6 = 42\n",
            "7 X 7 = 49\n",
            "7 X 8 = 56\n",
            "7 X 9 = 63\n",
            "8 단 입니다.\n",
            "8 X 1 = 8\n",
            "8 X 2 = 16\n",
            "8 X 3 = 24\n",
            "8 X 4 = 32\n",
            "8 X 5 = 40\n",
            "8 X 6 = 48\n",
            "8 X 7 = 56\n",
            "8 X 8 = 64\n",
            "8 X 9 = 72\n",
            "9 단 입니다.\n",
            "9 X 1 = 9\n",
            "9 X 2 = 18\n",
            "9 X 3 = 27\n",
            "9 X 4 = 36\n",
            "9 X 5 = 45\n",
            "9 X 6 = 54\n",
            "9 X 7 = 63\n",
            "9 X 8 = 72\n",
            "9 X 9 = 81\n"
          ]
        }
      ]
    },
    {
      "cell_type": "code",
      "source": [
        "print(\"출력후 자동 줄바꿈이 되는 이유는?\")\n",
        "print(\"뭘까?\")"
      ],
      "metadata": {
        "colab": {
          "base_uri": "https://localhost:8080/"
        },
        "id": "enw8q2uZ2Xok",
        "outputId": "0415b826-6b41-4808-861d-9c28c2e9613c"
      },
      "execution_count": null,
      "outputs": [
        {
          "output_type": "stream",
          "name": "stdout",
          "text": [
            "출력후 자동 줄바꿈이 되는 이유는?\n",
            "뭘까?\n"
          ]
        }
      ]
    },
    {
      "cell_type": "code",
      "source": [
        "print?"
      ],
      "metadata": {
        "id": "VoQQ7gKG3Bqm"
      },
      "execution_count": null,
      "outputs": []
    },
    {
      "cell_type": "code",
      "source": [
        "print()\n",
        "print()\n",
        "print()"
      ],
      "metadata": {
        "colab": {
          "base_uri": "https://localhost:8080/"
        },
        "id": "q1thY0vY3JOz",
        "outputId": "a5e7e4c4-3003-46b1-db62-86fa1c776685"
      },
      "execution_count": null,
      "outputs": [
        {
          "output_type": "stream",
          "name": "stdout",
          "text": [
            "\n",
            "\n",
            "\n"
          ]
        }
      ]
    },
    {
      "cell_type": "code",
      "source": [
        "print(end=\" \")\n",
        "print(end=\" \")\n",
        "print(end=\" \")"
      ],
      "metadata": {
        "colab": {
          "base_uri": "https://localhost:8080/"
        },
        "id": "dtPedZ5V3avq",
        "outputId": "8b21f9e9-d7e3-4527-8765-cd6ea47892f9"
      },
      "execution_count": null,
      "outputs": [
        {
          "output_type": "stream",
          "name": "stdout",
          "text": [
            "   "
          ]
        }
      ]
    },
    {
      "cell_type": "markdown",
      "source": [
        "```\n",
        "*\n",
        "**\n",
        "***\n",
        "****\n",
        "*****\n",
        "```"
      ],
      "metadata": {
        "id": "Vbawh-M_3fyl"
      }
    },
    {
      "cell_type": "code",
      "source": [
        "for i in range(1,6):\n",
        "    print(\"*\" * i)"
      ],
      "metadata": {
        "colab": {
          "base_uri": "https://localhost:8080/"
        },
        "id": "QaNCnUyH3wRu",
        "outputId": "bf098643-34f0-4a89-cc3b-2a9a2ff02c4f"
      },
      "execution_count": null,
      "outputs": [
        {
          "output_type": "stream",
          "name": "stdout",
          "text": [
            "*\n",
            "**\n",
            "***\n",
            "****\n",
            "*****\n"
          ]
        }
      ]
    },
    {
      "cell_type": "code",
      "source": [
        "n = 5\n",
        "for i in range(n):\n",
        "    for j in range(i+1):\n",
        "        print(\"*\", end=\"\")\n",
        "    print()"
      ],
      "metadata": {
        "colab": {
          "base_uri": "https://localhost:8080/"
        },
        "id": "ZdagQrEl38vh",
        "outputId": "9b3cdf05-117c-42b1-c775-817cd9249e11"
      },
      "execution_count": null,
      "outputs": [
        {
          "output_type": "stream",
          "name": "stdout",
          "text": [
            "*\n",
            "**\n",
            "***\n",
            "****\n",
            "*****\n"
          ]
        }
      ]
    },
    {
      "cell_type": "markdown",
      "source": [
        "```\n",
        "    *\n",
        "   **\n",
        "  ***\n",
        " ****  \n",
        "*****\n",
        "```"
      ],
      "metadata": {
        "id": "gjtE51Gn4f33"
      }
    },
    {
      "cell_type": "code",
      "source": [
        "n = 5\n",
        "for i  in range(n):\n",
        "    # 공백 for문\n",
        "    for _ in range(n-i-1):\n",
        "        print(\" \", end=\"\")\n",
        "    # 별 for 문\n",
        "    for _ in range(i+1):\n",
        "        print(\"*\", end=\"\")\n",
        "    print() # 줄바꿈"
      ],
      "metadata": {
        "colab": {
          "base_uri": "https://localhost:8080/"
        },
        "id": "7gBq47cw5KPQ",
        "outputId": "febea6e0-89bf-4b42-dde3-189720d8bce5"
      },
      "execution_count": null,
      "outputs": [
        {
          "output_type": "stream",
          "name": "stdout",
          "text": [
            "    *\n",
            "   **\n",
            "  ***\n",
            " ****\n",
            "*****\n"
          ]
        }
      ]
    },
    {
      "cell_type": "markdown",
      "source": [
        "```\n",
        "*****\n",
        " ****\n",
        "  ***\n",
        "   **\n",
        "    *\n",
        "```"
      ],
      "metadata": {
        "id": "PcQwoGCC5zO3"
      }
    },
    {
      "cell_type": "code",
      "source": [
        "n = 5\n",
        "for i  in range(n):\n",
        "    # 공백 for문\n",
        "    for _ in range(i):\n",
        "        print(\" \", end=\"\")\n",
        "    # 별 for 문\n",
        "    for _ in range(n-i):\n",
        "        print(\"*\", end=\"\")\n",
        "    print() # 줄바꿈"
      ],
      "metadata": {
        "colab": {
          "base_uri": "https://localhost:8080/"
        },
        "id": "7-6pnDSh9DCp",
        "outputId": "e3a08994-a97f-4ba8-bd4b-1582bdfa3daf"
      },
      "execution_count": null,
      "outputs": [
        {
          "output_type": "stream",
          "name": "stdout",
          "text": [
            "*****\n",
            " ****\n",
            "  ***\n",
            "   **\n",
            "    *\n"
          ]
        }
      ]
    },
    {
      "cell_type": "code",
      "source": [
        "for i in range(1,10):\n",
        "    for n in range (2,10):\n",
        "        print(f\"{n} X {i} = {n*i}\" ,end=\"\\t\")\n",
        "    print()\n",
        "    \n",
        "\n"
      ],
      "metadata": {
        "colab": {
          "base_uri": "https://localhost:8080/"
        },
        "id": "1WMnciT29faC",
        "outputId": "b51521dc-6e14-41a1-8ae5-bb329bf5a03a"
      },
      "execution_count": null,
      "outputs": [
        {
          "output_type": "stream",
          "name": "stdout",
          "text": [
            "2 X 1 = 2\t3 X 1 = 3\t4 X 1 = 4\t5 X 1 = 5\t6 X 1 = 6\t7 X 1 = 7\t8 X 1 = 8\t9 X 1 = 9\t\n",
            "2 X 2 = 4\t3 X 2 = 6\t4 X 2 = 8\t5 X 2 = 10\t6 X 2 = 12\t7 X 2 = 14\t8 X 2 = 16\t9 X 2 = 18\t\n",
            "2 X 3 = 6\t3 X 3 = 9\t4 X 3 = 12\t5 X 3 = 15\t6 X 3 = 18\t7 X 3 = 21\t8 X 3 = 24\t9 X 3 = 27\t\n",
            "2 X 4 = 8\t3 X 4 = 12\t4 X 4 = 16\t5 X 4 = 20\t6 X 4 = 24\t7 X 4 = 28\t8 X 4 = 32\t9 X 4 = 36\t\n",
            "2 X 5 = 10\t3 X 5 = 15\t4 X 5 = 20\t5 X 5 = 25\t6 X 5 = 30\t7 X 5 = 35\t8 X 5 = 40\t9 X 5 = 45\t\n",
            "2 X 6 = 12\t3 X 6 = 18\t4 X 6 = 24\t5 X 6 = 30\t6 X 6 = 36\t7 X 6 = 42\t8 X 6 = 48\t9 X 6 = 54\t\n",
            "2 X 7 = 14\t3 X 7 = 21\t4 X 7 = 28\t5 X 7 = 35\t6 X 7 = 42\t7 X 7 = 49\t8 X 7 = 56\t9 X 7 = 63\t\n",
            "2 X 8 = 16\t3 X 8 = 24\t4 X 8 = 32\t5 X 8 = 40\t6 X 8 = 48\t7 X 8 = 56\t8 X 8 = 64\t9 X 8 = 72\t\n",
            "2 X 9 = 18\t3 X 9 = 27\t4 X 9 = 36\t5 X 9 = 45\t6 X 9 = 54\t7 X 9 = 63\t8 X 9 = 72\t9 X 9 = 81\t\n"
          ]
        }
      ]
    },
    {
      "cell_type": "markdown",
      "source": [
        "- 각 학생들의 평균과의 점수 차이인 편차를 알고 싶다면?"
      ],
      "metadata": {
        "id": "xFfM9D_cEzi_"
      }
    },
    {
      "cell_type": "code",
      "source": [
        "scores = [90,81,65,77,98,70,82]\n",
        "avg = sum(scores) / len(scores)\n",
        "for score in scores:\n",
        "    deviataion = avg - score #편차\n",
        "    print(deviataion)"
      ],
      "metadata": {
        "colab": {
          "base_uri": "https://localhost:8080/"
        },
        "id": "YT4F6rmAGo_d",
        "outputId": "f4d5bfd9-d935-4b45-d1f9-3bf847b2bc68"
      },
      "execution_count": null,
      "outputs": [
        {
          "output_type": "stream",
          "name": "stdout",
          "text": [
            "-9.57142857142857\n",
            "-0.5714285714285694\n",
            "15.42857142857143\n",
            "3.4285714285714306\n",
            "-17.57142857142857\n",
            "10.42857142857143\n",
            "-1.5714285714285694\n"
          ]
        }
      ]
    },
    {
      "cell_type": "markdown",
      "source": [
        "- 편차의 평균인 표준편차를 구해보자."
      ],
      "metadata": {
        "id": "7dZ7bj9DHRoh"
      }
    },
    {
      "cell_type": "code",
      "source": [
        "scores = [90,81,65,77,98,70,82]\n",
        "avg = sum(scores) / len(scores)\n",
        "deviataion_list =[]\n",
        "for score in scores:\n",
        "    deviataion = avg - score\n",
        "    deviataion_list.append(deviataion**2)\n",
        "\n",
        "var = sum(deviataion_list) / len(deviataion_list)\n",
        "var # 분산"
      ],
      "metadata": {
        "colab": {
          "base_uri": "https://localhost:8080/"
        },
        "id": "jwdtRJ4VG4qm",
        "outputId": "e71818c5-628a-4adf-cc47-d89b371ac9b3"
      },
      "execution_count": null,
      "outputs": [
        {
          "output_type": "execute_result",
          "data": {
            "text/plain": [
              "108.81632653061224"
            ]
          },
          "metadata": {},
          "execution_count": 26
        }
      ]
    },
    {
      "cell_type": "code",
      "source": [
        "var ** 0.5 # 표준편차"
      ],
      "metadata": {
        "colab": {
          "base_uri": "https://localhost:8080/"
        },
        "id": "eWd92Ek9IdGf",
        "outputId": "e1e39d95-45fa-4b30-c009-e4f0b8af6509"
      },
      "execution_count": null,
      "outputs": [
        {
          "output_type": "execute_result",
          "data": {
            "text/plain": [
              "10.431506436302104"
            ]
          },
          "metadata": {},
          "execution_count": 28
        }
      ]
    },
    {
      "cell_type": "markdown",
      "source": [
        "- Min-Max Scaling\n",
        "    - 데이터의 수치의 범위를 바꿔주는 정규화 스케일링 기법이다.\n",
        "    - 데이터의 범위를 0~1 사이로 바꿔준다.\n",
        "```\n",
        "나이데이터 =[20,30,60,65,38,63]\n",
        "연봉데이터 = [3000,3500,4000,9000,8000,12000]\n",
        "```\n"
      ],
      "metadata": {
        "id": "dyCIZZxCIpHT"
      }
    },
    {
      "cell_type": "code",
      "source": [
        "lst = [20,30,60,65,38,63]\n",
        "minmax = [] # 스케일링을 적용할 데이터를 넣어주면 됩니다."
      ],
      "metadata": {
        "id": "1vqjjM7WJypc"
      },
      "execution_count": null,
      "outputs": []
    },
    {
      "cell_type": "code",
      "source": [
        "lst = [20,30,60,65,38,63]\n",
        "minmax = [] # 스케일링을 적용할 데이터를 넣어주면 됩니다.\n",
        "\n",
        "min_value=min(lst)\n",
        "size_value = max(lst) - min_value\n",
        "for i in lst:\n",
        "    i = (i - min_value / size_value)\n",
        "    minmax.append(i)\n",
        "minmax"
      ],
      "metadata": {
        "colab": {
          "base_uri": "https://localhost:8080/"
        },
        "id": "9dc9uI5_J7VQ",
        "outputId": "0039d477-e4ec-46ca-d633-17268f9bdbba"
      },
      "execution_count": null,
      "outputs": [
        {
          "output_type": "execute_result",
          "data": {
            "text/plain": [
              "[19.555555555555557,\n",
              " 29.555555555555557,\n",
              " 59.55555555555556,\n",
              " 64.55555555555556,\n",
              " 37.55555555555556,\n",
              " 62.55555555555556]"
            ]
          },
          "metadata": {},
          "execution_count": 2
        }
      ]
    },
    {
      "cell_type": "code",
      "source": [
        "for i in minmax:\n",
        "    i = i * size_value + min_value\n",
        "    print(i)\n"
      ],
      "metadata": {
        "id": "rpC5f0F2Knze"
      },
      "execution_count": null,
      "outputs": []
    },
    {
      "cell_type": "markdown",
      "source": [
        "-주어진 데이터에서 최빈값을 구하시오\n",
        "```\n",
        "grades = [\"A-\",\"A\" ,\"A+\",\"B\",\"A\",\"A\",\"A+\",\"A-\",\"B\",\"B\",\"B\",\"C+\",\"C\",\"C+\",\"C\"]\n",
        "```"
      ],
      "metadata": {
        "id": "G66slTOdRaNa"
      }
    },
    {
      "cell_type": "code",
      "source": [
        "grades = [\"A-\",\"A\" ,\"A+\",\"B\",\"A\",\"A\",\"A+\",\"A-\",\"B\",\"B\",\"B\",\"C+\",\"C\",\"C+\",\"C\"]   \n",
        "\n",
        "cnt = 0 # 값의 개수를 체크 하기 위한 용도\n",
        "for s in set(grades) : # set 을 이용하여 중복제거, 비효율적인 반복을 방지\n",
        "    if cnt < grades.count(s): # g 변수의 개수가 cnt 변수보다 크면 최빈값\n",
        "        cnt = grades.count(s) # 현대 최대 빈도수 cnt에 업데이트\n",
        "        mode = s #최빈값 mode 변수에 저장\n",
        "print(mode)"
      ],
      "metadata": {
        "colab": {
          "base_uri": "https://localhost:8080/"
        },
        "id": "3GRgiupVR2r1",
        "outputId": "d641e69c-1082-4f1f-f9d8-2a9ecdf541d2"
      },
      "execution_count": null,
      "outputs": [
        {
          "output_type": "stream",
          "name": "stdout",
          "text": [
            "B\n"
          ]
        }
      ]
    },
    {
      "cell_type": "markdown",
      "source": [
        "- 문자열도 iterable(반복가능)하다."
      ],
      "metadata": {
        "id": "JAdQlMYtTSII"
      }
    },
    {
      "cell_type": "code",
      "source": [
        "text = \"Hello word\"\n",
        "for s in text:\n",
        "    print(s)"
      ],
      "metadata": {
        "colab": {
          "base_uri": "https://localhost:8080/"
        },
        "id": "fWNqED7VabAq",
        "outputId": "44998c97-08b0-4b64-f8a8-80a61270ae9b"
      },
      "execution_count": null,
      "outputs": [
        {
          "output_type": "stream",
          "name": "stdout",
          "text": [
            "H\n",
            "e\n",
            "l\n",
            "l\n",
            "o\n",
            " \n",
            "w\n",
            "o\n",
            "r\n",
            "d\n"
          ]
        }
      ]
    },
    {
      "cell_type": "code",
      "source": [
        "text = \"Hello word\"\n",
        "cnt = 0 \n",
        "for s in text:\n",
        "    if s == \"l\":\n",
        "        cnt += 1 \n",
        "print(cnt)"
      ],
      "metadata": {
        "colab": {
          "base_uri": "https://localhost:8080/"
        },
        "id": "HuFiJtzjahib",
        "outputId": "8a0e105c-6a1e-4d9f-926d-007c01861697"
      },
      "execution_count": null,
      "outputs": [
        {
          "output_type": "stream",
          "name": "stdout",
          "text": [
            "2\n"
          ]
        }
      ]
    },
    {
      "cell_type": "markdown",
      "source": [
        "### `enumerate` 함수 \n",
        "- iterable한 객체를 꺼낼때 인덱스도 같이 꺼낸다.\n"
      ],
      "metadata": {
        "id": "ShAScM4ea2Om"
      }
    },
    {
      "cell_type": "code",
      "source": [
        "score_list = [90,87,93]\n",
        "i = 0\n",
        "for score in score_list:\n",
        "    print(f\"{i}번째 인덱스의 점수는{score}\")\n",
        "    i += 1"
      ],
      "metadata": {
        "colab": {
          "base_uri": "https://localhost:8080/"
        },
        "id": "M14neVqfewLD",
        "outputId": "ccb21f73-b8ec-461b-ebc4-b327f15d09ea"
      },
      "execution_count": null,
      "outputs": [
        {
          "output_type": "stream",
          "name": "stdout",
          "text": [
            "0번째 인덱스의 점수는90\n",
            "1번째 인덱스의 점수는87\n",
            "2번째 인덱스의 점수는93\n"
          ]
        }
      ]
    },
    {
      "cell_type": "code",
      "source": [
        "for i,score in enumerate(score_list):\n",
        "    print(f\"{i}번째 인덱스의 점수는 {score}\")"
      ],
      "metadata": {
        "colab": {
          "base_uri": "https://localhost:8080/"
        },
        "id": "-H5MqxscfJUs",
        "outputId": "e67eaf4a-6aad-47ed-8ee2-fbc6779fd8fa"
      },
      "execution_count": null,
      "outputs": [
        {
          "output_type": "stream",
          "name": "stdout",
          "text": [
            "0번째 인덱스의 점수는 90\n",
            "1번째 인덱스의 점수는 87\n",
            "2번째 인덱스의 점수는 93\n"
          ]
        }
      ]
    },
    {
      "cell_type": "code",
      "source": [
        "list(enumerate(score_list))"
      ],
      "metadata": {
        "colab": {
          "base_uri": "https://localhost:8080/"
        },
        "id": "BwIGggF8fjX1",
        "outputId": "6a99943d-34d7-467a-afce-4f27ec2473f3"
      },
      "execution_count": null,
      "outputs": [
        {
          "output_type": "execute_result",
          "data": {
            "text/plain": [
              "[(0, 90), (1, 87), (2, 93)]"
            ]
          },
          "metadata": {},
          "execution_count": 103
        }
      ]
    },
    {
      "cell_type": "code",
      "source": [
        "dict(enumerate(score_list))"
      ],
      "metadata": {
        "colab": {
          "base_uri": "https://localhost:8080/"
        },
        "id": "Tg_7_pqgf_V3",
        "outputId": "faf769b1-ac8b-4acd-eae9-2011ff8b70e8"
      },
      "execution_count": null,
      "outputs": [
        {
          "output_type": "execute_result",
          "data": {
            "text/plain": [
              "{0: 90, 1: 87, 2: 93}"
            ]
          },
          "metadata": {},
          "execution_count": 104
        }
      ]
    },
    {
      "cell_type": "markdown",
      "source": [
        "### `zip` 함수\n",
        "- 여러개의 컬렉선 자료형을 하나로 모아서 병렬로 꺼낸다.\n"
      ],
      "metadata": {
        "id": "-HbswGxigJPQ"
      }
    },
    {
      "cell_type": "code",
      "source": [
        "class_list = [\"A반\",\"B반\",\"C반\"]\n",
        "score_list = [90,87,93]\n",
        "\n",
        "length = len(class_list)\n",
        "for i in range(length):\n",
        "    print(f\"{class_list[i]}의 점수는 {score_list[i]}점 입니다.\")"
      ],
      "metadata": {
        "colab": {
          "base_uri": "https://localhost:8080/"
        },
        "id": "Iu6yDfjegfBZ",
        "outputId": "f4e68ab7-dc52-443d-bd5a-a9a6e751e674"
      },
      "execution_count": null,
      "outputs": [
        {
          "output_type": "stream",
          "name": "stdout",
          "text": [
            "A반의 점수는 90점 입니다.\n",
            "B반의 점수는 87점 입니다.\n",
            "C반의 점수는 93점 입니다.\n"
          ]
        }
      ]
    },
    {
      "cell_type": "code",
      "source": [
        "for c,s in zip(class_list,score_list):\n",
        "    print(f\"{c}의 점수는 {s}점\")"
      ],
      "metadata": {
        "colab": {
          "base_uri": "https://localhost:8080/"
        },
        "id": "bcCsYowehVrz",
        "outputId": "a74fc57c-fce7-45ea-b52b-8c754a65dae4"
      },
      "execution_count": null,
      "outputs": [
        {
          "output_type": "stream",
          "name": "stdout",
          "text": [
            "A반의 점수는 90점\n",
            "B반의 점수는 87점\n",
            "C반의 점수는 93점\n"
          ]
        }
      ]
    },
    {
      "cell_type": "code",
      "source": [
        "score_list2 = [70,50,63]\n",
        "for c, s, s2 in zip(class_list, score_list, score_list2):\n",
        "    print(f\"{c} {s} {s2}\")"
      ],
      "metadata": {
        "colab": {
          "base_uri": "https://localhost:8080/"
        },
        "id": "ISNO3rd4hnuT",
        "outputId": "201ea1e7-49d2-4d89-b46c-430364b3089d"
      },
      "execution_count": null,
      "outputs": [
        {
          "output_type": "stream",
          "name": "stdout",
          "text": [
            "A반 90 70\n",
            "B반 87 50\n",
            "C반 93 63\n"
          ]
        }
      ]
    },
    {
      "cell_type": "code",
      "source": [
        "zip(class_list,score_list)"
      ],
      "metadata": {
        "colab": {
          "base_uri": "https://localhost:8080/"
        },
        "id": "z94OUFygiPxq",
        "outputId": "0b5f6fc0-b5a2-4057-f3eb-7c82b327d363"
      },
      "execution_count": null,
      "outputs": [
        {
          "output_type": "execute_result",
          "data": {
            "text/plain": [
              "<zip at 0x7fd6ab0e1230>"
            ]
          },
          "metadata": {},
          "execution_count": 111
        }
      ]
    },
    {
      "cell_type": "code",
      "source": [
        "list(zip(class_list,score_list))"
      ],
      "metadata": {
        "colab": {
          "base_uri": "https://localhost:8080/"
        },
        "id": "4NbKBlmziasD",
        "outputId": "b64bbe92-8ed6-424e-9ca5-eaae66cf1cdb"
      },
      "execution_count": null,
      "outputs": [
        {
          "output_type": "execute_result",
          "data": {
            "text/plain": [
              "[('A반', 90), ('B반', 87), ('C반', 93)]"
            ]
          },
          "metadata": {},
          "execution_count": 112
        }
      ]
    },
    {
      "cell_type": "code",
      "source": [
        "dict(zip(class_list,score_list))"
      ],
      "metadata": {
        "colab": {
          "base_uri": "https://localhost:8080/"
        },
        "id": "d9qxzT7yigri",
        "outputId": "f10ade3b-f850-4a9d-b356-43c4915a4861"
      },
      "execution_count": null,
      "outputs": [
        {
          "output_type": "execute_result",
          "data": {
            "text/plain": [
              "{'A반': 90, 'B반': 87, 'C반': 93}"
            ]
          },
          "metadata": {},
          "execution_count": 113
        }
      ]
    },
    {
      "cell_type": "code",
      "source": [
        "lst1 = [10,20,30,40,50,60]\n",
        "lst2 = [\"A\",\"B\",\"C\"]\n",
        "\n",
        "for item1, item2 in zip(lst1,lst2):\n",
        "    print(item1,item2)"
      ],
      "metadata": {
        "colab": {
          "base_uri": "https://localhost:8080/"
        },
        "id": "vyVm3wRfixfA",
        "outputId": "e188fe5d-95ca-4dde-a37a-376f3232b4f9"
      },
      "execution_count": null,
      "outputs": [
        {
          "output_type": "stream",
          "name": "stdout",
          "text": [
            "10 A\n",
            "20 B\n",
            "30 C\n"
          ]
        }
      ]
    },
    {
      "cell_type": "markdown",
      "source": [
        "### `dict for`문"
      ],
      "metadata": {
        "id": "NL3M3zqui7IZ"
      }
    },
    {
      "cell_type": "code",
      "source": [
        "score_dict = {\n",
        "    \"국어\":100,\n",
        "    \"수학\":80,\n",
        "    \"영어\":65\n",
        "}\n",
        "\n",
        "score_dict.keys()"
      ],
      "metadata": {
        "colab": {
          "base_uri": "https://localhost:8080/"
        },
        "id": "EsVGL1-cjkzn",
        "outputId": "7391f852-5d34-4622-efd9-bbbe4725a85f"
      },
      "execution_count": null,
      "outputs": [
        {
          "output_type": "execute_result",
          "data": {
            "text/plain": [
              "dict_keys(['국어', '수학', '영어'])"
            ]
          },
          "metadata": {},
          "execution_count": 115
        }
      ]
    },
    {
      "cell_type": "code",
      "source": [
        "for k in score_dict.keys():\n",
        "    print(f\"{k}는 {score_dict[k]}점\")"
      ],
      "metadata": {
        "colab": {
          "base_uri": "https://localhost:8080/"
        },
        "id": "iVFlskg4jysq",
        "outputId": "09ad0825-3813-401f-e41b-6452bbb06bb9"
      },
      "execution_count": null,
      "outputs": [
        {
          "output_type": "stream",
          "name": "stdout",
          "text": [
            "국어는 100점\n",
            "수학는 80점\n",
            "영어는 65점\n"
          ]
        }
      ]
    },
    {
      "cell_type": "code",
      "source": [
        "for value in score_dict.values():\n",
        "    print(f\"{value}\")"
      ],
      "metadata": {
        "colab": {
          "base_uri": "https://localhost:8080/"
        },
        "id": "-fE72XKEj6NT",
        "outputId": "6e3fb027-eb1a-4485-f38c-232c7b1f6185"
      },
      "execution_count": null,
      "outputs": [
        {
          "output_type": "stream",
          "name": "stdout",
          "text": [
            "100\n",
            "80\n",
            "65\n"
          ]
        }
      ]
    },
    {
      "cell_type": "code",
      "source": [
        "score_dict.items()"
      ],
      "metadata": {
        "colab": {
          "base_uri": "https://localhost:8080/"
        },
        "id": "-VBHJCz1kbMk",
        "outputId": "fda237e3-9fcb-46dd-825f-d43408647797"
      },
      "execution_count": null,
      "outputs": [
        {
          "output_type": "execute_result",
          "data": {
            "text/plain": [
              "dict_items([('국어', 100), ('수학', 80), ('영어', 65)])"
            ]
          },
          "metadata": {},
          "execution_count": 119
        }
      ]
    },
    {
      "cell_type": "code",
      "source": [
        "for k , v in score_dict.items():\n",
        "    print(f\"{k}는 {v}점\")"
      ],
      "metadata": {
        "colab": {
          "base_uri": "https://localhost:8080/"
        },
        "id": "_pCWg1ihkiGh",
        "outputId": "530f402a-0bdc-4fa7-eb5f-d1ad4e780698"
      },
      "execution_count": null,
      "outputs": [
        {
          "output_type": "stream",
          "name": "stdout",
          "text": [
            "국어는 100점\n",
            "수학는 80점\n",
            "영어는 65점\n"
          ]
        }
      ]
    },
    {
      "cell_type": "code",
      "source": [
        "sale = { '연필' : 500, '공책':1200, '신발':58000 }\n"
      ],
      "metadata": {
        "id": "3AhZ7kQqkwbN"
      },
      "execution_count": null,
      "outputs": []
    },
    {
      "cell_type": "code",
      "source": [
        "for k,v in sale.items():\n",
        "    print(f\"{k} 20% 할인가격 {v * 0.8 }원 \")"
      ],
      "metadata": {
        "colab": {
          "base_uri": "https://localhost:8080/"
        },
        "id": "SCsa4qgKlIg1",
        "outputId": "1d6f9d70-b344-4ae7-db9f-dc6e66815297"
      },
      "execution_count": null,
      "outputs": [
        {
          "output_type": "stream",
          "name": "stdout",
          "text": [
            "연필 20% 할인가격 400.0원 \n",
            "공책 20% 할인가격 960.0원 \n",
            "신발 20% 할인가격 46400.0원 \n"
          ]
        }
      ]
    },
    {
      "cell_type": "markdown",
      "source": [
        "# 파이써닉(pythonic)한 코드\n",
        "- 긴결하고 가독성 있게 코딩하자."
      ],
      "metadata": {
        "id": "sehBK4Crlzj8"
      }
    },
    {
      "cell_type": "markdown",
      "source": [
        "## 삼항 연산자\n",
        "- 파이썬이 아닌 다른 언어들은 삼항연산자(?)가 존재하지만. 파이썬은 없다!\n",
        "- `if`, `else`를 사용하여 삼항연산 수행\n",
        "\n",
        "```python\n",
        "<True 일 때 사용할 값> if <condition> else <False일 때 사용할 값>\n",
        "```"
      ],
      "metadata": {
        "id": "j2FmCCbkHmHU"
      }
    },
    {
      "cell_type": "code",
      "source": [
        "age = 20\n",
        "if age >= 20:\n",
        "    msg = \" 회원가입 가능\"\n",
        "else:\n",
        "    msg = \" 회원가입 불가능\"\n",
        "print(msg)"
      ],
      "metadata": {
        "colab": {
          "base_uri": "https://localhost:8080/"
        },
        "id": "uRHjGeVGHs8I",
        "outputId": "cbd60adc-d5f4-421a-aae8-d92b7cc79efb"
      },
      "execution_count": null,
      "outputs": [
        {
          "output_type": "stream",
          "name": "stdout",
          "text": [
            " 회원가입 가능\n"
          ]
        }
      ]
    },
    {
      "cell_type": "code",
      "source": [
        "age = 19\n",
        "msg = \"회원가입 가능\" if age >=20 else \"회원가입 불가능\"\n",
        "print(msg)"
      ],
      "metadata": {
        "colab": {
          "base_uri": "https://localhost:8080/"
        },
        "id": "NpW-W260IsOA",
        "outputId": "f0a6d935-2c35-4dec-def2-f0643a4a2b7b"
      },
      "execution_count": null,
      "outputs": [
        {
          "output_type": "stream",
          "name": "stdout",
          "text": [
            "회원가입 불가능\n"
          ]
        }
      ]
    },
    {
      "cell_type": "code",
      "source": [
        "if age >= 20: msg = \"회원가입가능\""
      ],
      "metadata": {
        "id": "xOtn5kJqI7Ah"
      },
      "execution_count": null,
      "outputs": []
    },
    {
      "cell_type": "code",
      "source": [
        "for i in range(3) : print(i)"
      ],
      "metadata": {
        "colab": {
          "base_uri": "https://localhost:8080/"
        },
        "id": "zC2dVeZNKxG3",
        "outputId": "cdf82ad8-760b-4b3c-ca11-026d321f4db9"
      },
      "execution_count": null,
      "outputs": [
        {
          "output_type": "stream",
          "name": "stdout",
          "text": [
            "0\n",
            "1\n",
            "2\n"
          ]
        }
      ]
    },
    {
      "cell_type": "markdown",
      "source": [
        "## 컴프리헨션(Comprehension)\n",
        "- 반복 가능한 객체를 활용해서 새로운 반복가능한 객체를 만들때 유용하다.\n",
        "- `list`, `set`, `dict` 자료형을 간단하게 만드는 문법\n",
        "- `tutple`은 컴프리헨션 지원 안함.\n",
        "\n"
      ],
      "metadata": {
        "id": "OLLL63YLK1AC"
      }
    },
    {
      "cell_type": "markdown",
      "source": [
        "list comprehension\n",
        "```pyhon\n",
        "[<추가할 값> for <변수> in <컬렉션> if <값에대한 조건>]  if 생략가능\n",
        "```"
      ],
      "metadata": {
        "id": "Mb-lMwysLoI-"
      }
    },
    {
      "cell_type": "code",
      "source": [
        "result = []\n",
        "for data in range(1,6) :\n",
        "    result.append(data ** 2 )\n",
        "result"
      ],
      "metadata": {
        "colab": {
          "base_uri": "https://localhost:8080/"
        },
        "id": "Pu3P6q8vMF0R",
        "outputId": "5c8e152d-9236-4680-af4a-365753c808da"
      },
      "execution_count": null,
      "outputs": [
        {
          "output_type": "execute_result",
          "data": {
            "text/plain": [
              "[1, 4, 9, 16, 25]"
            ]
          },
          "metadata": {},
          "execution_count": 16
        }
      ]
    },
    {
      "cell_type": "code",
      "source": [
        "result =[data **2 for data in range(1,6)]\n",
        "result"
      ],
      "metadata": {
        "colab": {
          "base_uri": "https://localhost:8080/"
        },
        "id": "MsBT429ZMTxA",
        "outputId": "b3d53cf0-4998-41a3-ae93-0c1bb8726fe8"
      },
      "execution_count": null,
      "outputs": [
        {
          "output_type": "execute_result",
          "data": {
            "text/plain": [
              "[1, 4, 9, 16, 25]"
            ]
          },
          "metadata": {},
          "execution_count": 15
        }
      ]
    },
    {
      "cell_type": "code",
      "source": [
        "num_list = list(range(1,21))\n",
        "num_list"
      ],
      "metadata": {
        "colab": {
          "base_uri": "https://localhost:8080/"
        },
        "id": "m8DSo3LFMq6y",
        "outputId": "7f9008bc-0e47-4251-c830-fa224f7d15d9"
      },
      "execution_count": null,
      "outputs": [
        {
          "output_type": "execute_result",
          "data": {
            "text/plain": [
              "[1, 2, 3, 4, 5, 6, 7, 8, 9, 10, 11, 12, 13, 14, 15, 16, 17, 18, 19, 20]"
            ]
          },
          "metadata": {},
          "execution_count": 18
        }
      ]
    },
    {
      "cell_type": "code",
      "source": [
        "result = [num for num in num_list if num % 2 == 0]\n",
        "result"
      ],
      "metadata": {
        "colab": {
          "base_uri": "https://localhost:8080/"
        },
        "id": "y-MEtKu9M4BP",
        "outputId": "e0d46ef4-e9af-4807-b048-a54c0e5d095b"
      },
      "execution_count": null,
      "outputs": [
        {
          "output_type": "execute_result",
          "data": {
            "text/plain": [
              "[2, 4, 6, 8, 10, 12, 14, 16, 18, 20]"
            ]
          },
          "metadata": {},
          "execution_count": 19
        }
      ]
    },
    {
      "cell_type": "code",
      "source": [
        "result = [num**2 if num % 2 == 0 else num for num in num_list ]\n",
        "result"
      ],
      "metadata": {
        "colab": {
          "base_uri": "https://localhost:8080/"
        },
        "id": "_6B5nQ0yNEf4",
        "outputId": "a54def68-a94a-4745-b1fb-5de7fe0ed68f"
      },
      "execution_count": null,
      "outputs": [
        {
          "output_type": "execute_result",
          "data": {
            "text/plain": [
              "[1,\n",
              " 4,\n",
              " 3,\n",
              " 16,\n",
              " 5,\n",
              " 36,\n",
              " 7,\n",
              " 64,\n",
              " 9,\n",
              " 100,\n",
              " 11,\n",
              " 144,\n",
              " 13,\n",
              " 196,\n",
              " 15,\n",
              " 256,\n",
              " 17,\n",
              " 324,\n",
              " 19,\n",
              " 400]"
            ]
          },
          "metadata": {},
          "execution_count": 20
        }
      ]
    },
    {
      "cell_type": "code",
      "source": [
        "[f\"{n} X {i} = {n*i}\"for n in range(2,10) for i in range(1,10)]"
      ],
      "metadata": {
        "colab": {
          "base_uri": "https://localhost:8080/"
        },
        "id": "4iy8_x9eNtOL",
        "outputId": "4d007c7f-e762-4547-a7b8-b489a47c4d88"
      },
      "execution_count": null,
      "outputs": [
        {
          "output_type": "execute_result",
          "data": {
            "text/plain": [
              "['2 X 1 = 2',\n",
              " '2 X 2 = 4',\n",
              " '2 X 3 = 6',\n",
              " '2 X 4 = 8',\n",
              " '2 X 5 = 10',\n",
              " '2 X 6 = 12',\n",
              " '2 X 7 = 14',\n",
              " '2 X 8 = 16',\n",
              " '2 X 9 = 18',\n",
              " '3 X 1 = 3',\n",
              " '3 X 2 = 6',\n",
              " '3 X 3 = 9',\n",
              " '3 X 4 = 12',\n",
              " '3 X 5 = 15',\n",
              " '3 X 6 = 18',\n",
              " '3 X 7 = 21',\n",
              " '3 X 8 = 24',\n",
              " '3 X 9 = 27',\n",
              " '4 X 1 = 4',\n",
              " '4 X 2 = 8',\n",
              " '4 X 3 = 12',\n",
              " '4 X 4 = 16',\n",
              " '4 X 5 = 20',\n",
              " '4 X 6 = 24',\n",
              " '4 X 7 = 28',\n",
              " '4 X 8 = 32',\n",
              " '4 X 9 = 36',\n",
              " '5 X 1 = 5',\n",
              " '5 X 2 = 10',\n",
              " '5 X 3 = 15',\n",
              " '5 X 4 = 20',\n",
              " '5 X 5 = 25',\n",
              " '5 X 6 = 30',\n",
              " '5 X 7 = 35',\n",
              " '5 X 8 = 40',\n",
              " '5 X 9 = 45',\n",
              " '6 X 1 = 6',\n",
              " '6 X 2 = 12',\n",
              " '6 X 3 = 18',\n",
              " '6 X 4 = 24',\n",
              " '6 X 5 = 30',\n",
              " '6 X 6 = 36',\n",
              " '6 X 7 = 42',\n",
              " '6 X 8 = 48',\n",
              " '6 X 9 = 54',\n",
              " '7 X 1 = 7',\n",
              " '7 X 2 = 14',\n",
              " '7 X 3 = 21',\n",
              " '7 X 4 = 28',\n",
              " '7 X 5 = 35',\n",
              " '7 X 6 = 42',\n",
              " '7 X 7 = 49',\n",
              " '7 X 8 = 56',\n",
              " '7 X 9 = 63',\n",
              " '8 X 1 = 8',\n",
              " '8 X 2 = 16',\n",
              " '8 X 3 = 24',\n",
              " '8 X 4 = 32',\n",
              " '8 X 5 = 40',\n",
              " '8 X 6 = 48',\n",
              " '8 X 7 = 56',\n",
              " '8 X 8 = 64',\n",
              " '8 X 9 = 72',\n",
              " '9 X 1 = 9',\n",
              " '9 X 2 = 18',\n",
              " '9 X 3 = 27',\n",
              " '9 X 4 = 36',\n",
              " '9 X 5 = 45',\n",
              " '9 X 6 = 54',\n",
              " '9 X 7 = 63',\n",
              " '9 X 8 = 72',\n",
              " '9 X 9 = 81']"
            ]
          },
          "metadata": {},
          "execution_count": 22
        }
      ]
    },
    {
      "cell_type": "code",
      "source": [
        "%%timeit\n",
        "lst = []\n",
        "for data in range(1,100000):\n",
        "    lst.append(data)\n",
        "    "
      ],
      "metadata": {
        "colab": {
          "base_uri": "https://localhost:8080/"
        },
        "id": "aRpQJoG2OYUb",
        "outputId": "010af8d5-6a6d-4ea1-8387-1128393ace53"
      },
      "execution_count": null,
      "outputs": [
        {
          "output_type": "stream",
          "name": "stdout",
          "text": [
            "100 loops, best of 5: 8.7 ms per loop\n"
          ]
        }
      ]
    },
    {
      "cell_type": "code",
      "source": [
        "%%timeit\n",
        "lst =[data for data in range(1,100000)]"
      ],
      "metadata": {
        "colab": {
          "base_uri": "https://localhost:8080/"
        },
        "id": "9-EaYrdaO--O",
        "outputId": "824be011-3b4f-4504-d93f-ff203ff42223"
      },
      "execution_count": null,
      "outputs": [
        {
          "output_type": "stream",
          "name": "stdout",
          "text": [
            "The slowest run took 6.42 times longer than the fastest. This could mean that an intermediate result is being cached.\n",
            "100 loops, best of 5: 5 ms per loop\n"
          ]
        }
      ]
    },
    {
      "cell_type": "markdown",
      "source": [
        "```\n",
        "s_list = []\n",
        "for w in `Python`:\n",
        "    s_list.append(w)\n",
        "s_list\n",
        "```"
      ],
      "metadata": {
        "id": "0Lc8oNK3PgRM"
      }
    },
    {
      "cell_type": "code",
      "source": [
        "s_list=[w for w in 'python']\n",
        "print(s_list)"
      ],
      "metadata": {
        "colab": {
          "base_uri": "https://localhost:8080/"
        },
        "id": "UGC1nMrSPrnn",
        "outputId": "f6c0d1ce-95f8-4ffa-d1c0-8956c4ef2e67"
      },
      "execution_count": null,
      "outputs": [
        {
          "output_type": "stream",
          "name": "stdout",
          "text": [
            "['p', 'y', 't', 'h', 'o', 'n']\n"
          ]
        }
      ]
    },
    {
      "cell_type": "markdown",
      "source": [
        "```\n",
        "lib_list = [\"pandas\",\"numpy\",\"sklearn\",\"pytorch\"]\n",
        "lst = []\n",
        "for i ,v in enumerate(lib_list):\n",
        "    lst.append((i,v))\n",
        "lst"
      ],
      "metadata": {
        "id": "Yk8vkcQ7P_W-"
      }
    },
    {
      "cell_type": "code",
      "source": [
        "lib_list = [\"pandas\",\"numpy\",\"sklearn\",\"pytorch\"]\n",
        "lst = [(i,v) for i,v in enumerate(lib_list)]\n",
        "print(lst)"
      ],
      "metadata": {
        "colab": {
          "base_uri": "https://localhost:8080/"
        },
        "id": "Ng8bRfa3QhI_",
        "outputId": "f250100d-616e-4e19-fa07-4412177abc80"
      },
      "execution_count": null,
      "outputs": [
        {
          "output_type": "stream",
          "name": "stdout",
          "text": [
            "[(0, 'pandas'), (1, 'numpy'), (2, 'sklearn'), (3, 'pytorch')]\n"
          ]
        }
      ]
    },
    {
      "cell_type": "markdown",
      "source": [
        "```\n",
        "n_list = []\n",
        "for x in zip((1,2,3),(10,20,30,),(100,200,300)):\n",
        "    n_list.append(sum(x))\n",
        "```"
      ],
      "metadata": {
        "id": "9TRmIikTRAVz"
      }
    },
    {
      "cell_type": "code",
      "source": [
        "n_list = [sum(x) for x in zip((1,2,3),(10,20,30,),(100,200,300))]\n",
        "print(n_list)"
      ],
      "metadata": {
        "colab": {
          "base_uri": "https://localhost:8080/"
        },
        "id": "PqwKCxgbVZOK",
        "outputId": "0bc60672-4154-43a1-cc4a-730ccbfda905"
      },
      "execution_count": null,
      "outputs": [
        {
          "output_type": "stream",
          "name": "stdout",
          "text": [
            "[111, 222, 333]\n"
          ]
        }
      ]
    },
    {
      "cell_type": "code",
      "source": [
        "n_list= [i  for i in range(100) if i % 10 == 0]\n",
        "print(n_list)"
      ],
      "metadata": {
        "colab": {
          "base_uri": "https://localhost:8080/"
        },
        "id": "tIt7nBoXVn22",
        "outputId": "98d33324-101f-4938-9de8-6edb37145e50"
      },
      "execution_count": null,
      "outputs": [
        {
          "output_type": "stream",
          "name": "stdout",
          "text": [
            "[0, 10, 20, 30, 40, 50, 60, 70, 80, 90]\n"
          ]
        }
      ]
    },
    {
      "cell_type": "code",
      "source": [
        "s_list = [ \"짝수\" if i % 2 == 0 else \"홀수\"for i in range(1,11)]\n",
        "s_list"
      ],
      "metadata": {
        "colab": {
          "base_uri": "https://localhost:8080/"
        },
        "id": "zlcqZWv3XJCh",
        "outputId": "f1364c6a-1fc6-41d8-f799-be614c5ff0e4"
      },
      "execution_count": null,
      "outputs": [
        {
          "output_type": "execute_result",
          "data": {
            "text/plain": [
              "['홀수', '짝수', '홀수', '짝수', '홀수', '짝수', '홀수', '짝수', '홀수', '짝수']"
            ]
          },
          "metadata": {},
          "execution_count": 32
        }
      ]
    },
    {
      "cell_type": "code",
      "source": [
        "files = [\"magage.py\",\"run.exe\" , \"urls.py\" ,\"run.bat\" ,\"image.jpg\"]\n",
        "[f for f in files if f.endswith(\".py\") or f.endswith(\".exe\")]"
      ],
      "metadata": {
        "colab": {
          "base_uri": "https://localhost:8080/"
        },
        "id": "QmSCeuF-Y0yV",
        "outputId": "5471d66d-49e0-4e9d-a0f5-6c88c5b5330e"
      },
      "execution_count": null,
      "outputs": [
        {
          "output_type": "execute_result",
          "data": {
            "text/plain": [
              "['magage.py', 'run.exe', 'urls.py']"
            ]
          },
          "metadata": {},
          "execution_count": 38
        }
      ]
    },
    {
      "cell_type": "code",
      "source": [
        "lst = [\n",
        "       [1,2,3],\n",
        "       [4,5,6],\n",
        "       [7,8,9]\n",
        "\n",
        "]\n",
        "[i[1] for i in lst ]"
      ],
      "metadata": {
        "colab": {
          "base_uri": "https://localhost:8080/"
        },
        "id": "yiC94YynZott",
        "outputId": "d3105ec6-c40c-43d4-97be-59a87d3e1068"
      },
      "execution_count": null,
      "outputs": [
        {
          "output_type": "execute_result",
          "data": {
            "text/plain": [
              "[2, 5, 8]"
            ]
          },
          "metadata": {},
          "execution_count": 45
        }
      ]
    },
    {
      "cell_type": "code",
      "source": [
        "age_list = [20,42,None,30,25,None,27,50,60]\n",
        "tmp = [age  for age in age_list if age is not None ]\n",
        "avg = sum(tmp)/len(tmp)\n",
        "avg"
      ],
      "metadata": {
        "colab": {
          "base_uri": "https://localhost:8080/"
        },
        "id": "9c-90Okoaw7u",
        "outputId": "8f29dd69-9d71-40ef-a818-1a70b8cd9afa"
      },
      "execution_count": null,
      "outputs": [
        {
          "output_type": "execute_result",
          "data": {
            "text/plain": [
              "36.285714285714285"
            ]
          },
          "metadata": {},
          "execution_count": 51
        }
      ]
    },
    {
      "cell_type": "markdown",
      "source": [
        "구한 평균이로 컴프리헨션을 이용해서 결측치를 채운 리스트 생성"
      ],
      "metadata": {
        "id": "6pwLq_gbdsxv"
      }
    },
    {
      "cell_type": "code",
      "source": [
        "[age if age is not None else avg for age in age_list]"
      ],
      "metadata": {
        "colab": {
          "base_uri": "https://localhost:8080/"
        },
        "id": "svQNYmzLelIT",
        "outputId": "99052ddf-9fd9-4954-9862-38ca28ff01be"
      },
      "execution_count": null,
      "outputs": [
        {
          "output_type": "execute_result",
          "data": {
            "text/plain": [
              "[20, 42, 36.285714285714285, 30, 25, 36.285714285714285, 27, 50, 60]"
            ]
          },
          "metadata": {},
          "execution_count": 52
        }
      ]
    },
    {
      "cell_type": "code",
      "source": [
        "pred_list = [0,1,0,0,0,1,0,0,0,1]\n",
        "label_list = [0,1,0,1,0,1,0,1,0,1]\n",
        "\n",
        "answer = [a for a,b in zip(pred_list, label_list)if a == b]\n",
        "accuracy = len(answer)/len(label_list)\n",
        "accuracy"
      ],
      "metadata": {
        "colab": {
          "base_uri": "https://localhost:8080/"
        },
        "id": "cBz9QQLXev6_",
        "outputId": "c34fdf1a-75d5-40af-cd9b-d0cd9655071f"
      },
      "execution_count": null,
      "outputs": [
        {
          "output_type": "execute_result",
          "data": {
            "text/plain": [
              "0.8"
            ]
          },
          "metadata": {},
          "execution_count": 59
        }
      ]
    },
    {
      "cell_type": "code",
      "source": [
        "pred_list  = [0,1,0,0,0,1,0,0,0,1]\n",
        "label_list = [0,1,0,1,0,1,0,1,0,1]\n",
        "tmp = [\"T\" if  i[0] == i[1] else \"F\" for i in zip(pred_list,label_list)]\n",
        "tmp.count(\"T\")\n",
        "\n"
      ],
      "metadata": {
        "colab": {
          "base_uri": "https://localhost:8080/"
        },
        "id": "lbGL-GRlpcKw",
        "outputId": "807ed358-6d1a-44c6-9d14-611074a71926"
      },
      "execution_count": null,
      "outputs": [
        {
          "output_type": "execute_result",
          "data": {
            "text/plain": [
              "8"
            ]
          },
          "metadata": {},
          "execution_count": 60
        }
      ]
    },
    {
      "cell_type": "code",
      "source": [
        "acc = [int(pred==label)for pred,lable in zip(pred_list,label_list)]\n",
        "acc = sum(acc) / len(label_list)\n",
        "acc"
      ],
      "metadata": {
        "id": "vzv8ucQvsoyS",
        "colab": {
          "base_uri": "https://localhost:8080/",
          "height": 213
        },
        "outputId": "42a19a57-6fb3-4526-fe09-f7f86a6e7d4e"
      },
      "execution_count": null,
      "outputs": [
        {
          "output_type": "error",
          "ename": "NameError",
          "evalue": "ignored",
          "traceback": [
            "\u001b[0;31m---------------------------------------------------------------------------\u001b[0m",
            "\u001b[0;31mNameError\u001b[0m                                 Traceback (most recent call last)",
            "\u001b[0;32m<ipython-input-3-cb9572200d1b>\u001b[0m in \u001b[0;36m<module>\u001b[0;34m()\u001b[0m\n\u001b[0;32m----> 1\u001b[0;31m \u001b[0macc\u001b[0m \u001b[0;34m=\u001b[0m \u001b[0;34m[\u001b[0m\u001b[0mint\u001b[0m\u001b[0;34m(\u001b[0m\u001b[0mpred\u001b[0m\u001b[0;34m==\u001b[0m\u001b[0mlabel\u001b[0m\u001b[0;34m)\u001b[0m\u001b[0;32mfor\u001b[0m \u001b[0mpred\u001b[0m\u001b[0;34m,\u001b[0m\u001b[0mlable\u001b[0m \u001b[0;32min\u001b[0m \u001b[0mzip\u001b[0m\u001b[0;34m(\u001b[0m\u001b[0mpred_list\u001b[0m\u001b[0;34m,\u001b[0m\u001b[0mlabel_list\u001b[0m\u001b[0;34m)\u001b[0m\u001b[0;34m]\u001b[0m\u001b[0;34m\u001b[0m\u001b[0;34m\u001b[0m\u001b[0m\n\u001b[0m\u001b[1;32m      2\u001b[0m \u001b[0macc\u001b[0m \u001b[0;34m=\u001b[0m \u001b[0msum\u001b[0m\u001b[0;34m(\u001b[0m\u001b[0macc\u001b[0m\u001b[0;34m)\u001b[0m \u001b[0;34m/\u001b[0m \u001b[0mlen\u001b[0m\u001b[0;34m(\u001b[0m\u001b[0mlabel_list\u001b[0m\u001b[0;34m)\u001b[0m\u001b[0;34m\u001b[0m\u001b[0;34m\u001b[0m\u001b[0m\n\u001b[1;32m      3\u001b[0m \u001b[0macc\u001b[0m\u001b[0;34m\u001b[0m\u001b[0;34m\u001b[0m\u001b[0m\n",
            "\u001b[0;31mNameError\u001b[0m: name 'pred_list' is not defined"
          ]
        }
      ]
    },
    {
      "cell_type": "markdown",
      "source": [
        "- set comprehension "
      ],
      "metadata": {
        "id": "ibdQ9NG5vswA"
      }
    },
    {
      "cell_type": "code",
      "source": [
        "a = {data for data in range(1,6)}\n",
        "a"
      ],
      "metadata": {
        "colab": {
          "base_uri": "https://localhost:8080/"
        },
        "id": "Z_cPfq0DwAkJ",
        "outputId": "78bdb62a-28ad-496f-c335-9bd631fd8a91"
      },
      "execution_count": null,
      "outputs": [
        {
          "output_type": "execute_result",
          "data": {
            "text/plain": [
              "{1, 2, 3, 4, 5}"
            ]
          },
          "metadata": {},
          "execution_count": 4
        }
      ]
    },
    {
      "cell_type": "markdown",
      "source": [
        "dict comprehension"
      ],
      "metadata": {
        "id": "2qDgYpRqwGdO"
      }
    },
    {
      "cell_type": "code",
      "source": [
        "a = {\"아침\",\"점심\",\"저녁\"}\n",
        "b ={\"샌드위치\",\"유부초밥\",\"피자\"}\n",
        "\n",
        "result = {meal:food for meal,food in zip(a,b)}\n",
        "result"
      ],
      "metadata": {
        "colab": {
          "base_uri": "https://localhost:8080/"
        },
        "id": "fsQ72wFVwQ9O",
        "outputId": "6266fd7c-c196-4967-ec29-cf7debb00274"
      },
      "execution_count": null,
      "outputs": [
        {
          "output_type": "execute_result",
          "data": {
            "text/plain": [
              "{'아침': '피자', '저녁': '유부초밥', '점심': '샌드위치'}"
            ]
          },
          "metadata": {},
          "execution_count": 6
        }
      ]
    },
    {
      "cell_type": "code",
      "source": [
        "dict(zip(a,b))"
      ],
      "metadata": {
        "colab": {
          "base_uri": "https://localhost:8080/"
        },
        "id": "vS0DUCE-xAs3",
        "outputId": "9373ae40-0298-40eb-ed4e-c584deac51d4"
      },
      "execution_count": null,
      "outputs": [
        {
          "output_type": "execute_result",
          "data": {
            "text/plain": [
              "{'아침': '피자', '저녁': '유부초밥', '점심': '샌드위치'}"
            ]
          },
          "metadata": {},
          "execution_count": 7
        }
      ]
    },
    {
      "cell_type": "code",
      "source": [
        "result = {f\"{meal}시간\": food for meal, food in zip(a,b)}\n",
        "result"
      ],
      "metadata": {
        "colab": {
          "base_uri": "https://localhost:8080/"
        },
        "id": "0lB5SSLfxI00",
        "outputId": "3bce294e-d2f8-48b3-92f2-4204e8cf9e11"
      },
      "execution_count": null,
      "outputs": [
        {
          "output_type": "execute_result",
          "data": {
            "text/plain": [
              "{'아침시간': '피자', '저녁시간': '유부초밥', '점심시간': '샌드위치'}"
            ]
          },
          "metadata": {},
          "execution_count": 9
        }
      ]
    },
    {
      "cell_type": "code",
      "source": [
        "{meal : food for meal, food in zip(a,b) if meal != \"점심\"}"
      ],
      "metadata": {
        "colab": {
          "base_uri": "https://localhost:8080/"
        },
        "id": "zCI7kqryxSeo",
        "outputId": "53484bcd-1dec-4e8d-99ee-1034b7fb29d0"
      },
      "execution_count": null,
      "outputs": [
        {
          "output_type": "execute_result",
          "data": {
            "text/plain": [
              "{'아침': '피자', '저녁': '유부초밥'}"
            ]
          },
          "metadata": {},
          "execution_count": 10
        }
      ]
    },
    {
      "cell_type": "code",
      "source": [
        "text = \"Hello Python\"\n",
        "result = {char : text.count(char) for char in set(text)}\n",
        "result"
      ],
      "metadata": {
        "colab": {
          "base_uri": "https://localhost:8080/"
        },
        "id": "_0JGeJCAxh0f",
        "outputId": "a8c1e9ea-d32c-4295-b8e5-f8e06ca644d5"
      },
      "execution_count": null,
      "outputs": [
        {
          "output_type": "execute_result",
          "data": {
            "text/plain": [
              "{' ': 1,\n",
              " 'H': 1,\n",
              " 'P': 1,\n",
              " 'e': 1,\n",
              " 'h': 1,\n",
              " 'l': 2,\n",
              " 'n': 1,\n",
              " 'o': 2,\n",
              " 't': 1,\n",
              " 'y': 1}"
            ]
          },
          "metadata": {},
          "execution_count": 12
        }
      ]
    },
    {
      "cell_type": "markdown",
      "source": [
        "인구가 30만 이상의 구만  dict로 만드세요\n",
        "```\n",
        "population = {\n",
        "    \"종로구\" : 149384,\n",
        "    \"중구\" : 125240,\n",
        "    \"용산구\": 230040,\n",
        "    \"성동구\": 293556,\n",
        "    \"광진구\":346682,\n",
        "    \"동대문구\":342837,\n",
        "    \"중랑구\":394702,\n",
        "    \"성북구\":437153,\n",
        "    \"강북구\":308055,\n",
        "    \"도봉구\":325257,\n",
        "    \"노원구\":523037,\n",
        "    \"은평구\":479835\n",
        " }\n",
        "```"
      ],
      "metadata": {
        "id": "3cT-SIbKx4Ta"
      }
    },
    {
      "cell_type": "code",
      "source": [
        "population = {\n",
        "    \"종로구\" : 149384,\n",
        "    \"중구\" : 125240,\n",
        "    \"용산구\": 230040,\n",
        "    \"성동구\": 293556,\n",
        "    \"광진구\":346682,\n",
        "    \"동대문구\":342837,\n",
        "    \"중랑구\":394702,\n",
        "    \"성북구\":437153,\n",
        "    \"강북구\":308055,\n",
        "    \"도봉구\":325257,\n",
        "    \"노원구\":523037,\n",
        "    \"은평구\":479835\n",
        " }\n",
        " "
      ],
      "metadata": {
        "id": "Vc9OhHHwylqg"
      },
      "execution_count": null,
      "outputs": []
    },
    {
      "cell_type": "code",
      "source": [
        "{k:v for k,v in population.items() if v >= 300000}\n"
      ],
      "metadata": {
        "colab": {
          "base_uri": "https://localhost:8080/"
        },
        "id": "Ob0SgVFcyQR6",
        "outputId": "4b851250-e0a3-4d22-931b-953fca506d3f"
      },
      "execution_count": null,
      "outputs": [
        {
          "output_type": "execute_result",
          "data": {
            "text/plain": [
              "{'강북구': 308055,\n",
              " '광진구': 346682,\n",
              " '노원구': 523037,\n",
              " '도봉구': 325257,\n",
              " '동대문구': 342837,\n",
              " '성북구': 437153,\n",
              " '은평구': 479835,\n",
              " '중랑구': 394702}"
            ]
          },
          "metadata": {},
          "execution_count": 47
        }
      ]
    },
    {
      "cell_type": "markdown",
      "source": [
        "```\n",
        "인구수가 30만 넘는 구의 인구수 합을 구하시오.\n",
        "```\n",
        " "
      ],
      "metadata": {
        "id": "qurjGVZ2yo9u"
      }
    },
    {
      "cell_type": "code",
      "source": [
        "population = {\n",
        "    \"종로구\" : 149384,\n",
        "    \"중구\" : 125240,\n",
        "    \"용산구\": 230040,\n",
        "    \"성동구\": 293556,\n",
        "    \"광진구\":346682,\n",
        "    \"동대문구\":342837,\n",
        "    \"중랑구\":394702,\n",
        "    \"성북구\":437153,\n",
        "    \"강북구\":308055,\n",
        "    \"도봉구\":325257,\n",
        "    \"노원구\":523037,\n",
        "    \"은평구\":479835\n",
        " }"
      ],
      "metadata": {
        "id": "IgUi8mVN2bju"
      },
      "execution_count": null,
      "outputs": []
    },
    {
      "cell_type": "code",
      "source": [
        "lst = [ v for v in population.values()]\n",
        "sum(lst)"
      ],
      "metadata": {
        "colab": {
          "base_uri": "https://localhost:8080/",
          "height": 194
        },
        "id": "qwxqf2t00izT",
        "outputId": "00c8e6de-0787-4b13-d1da-8c5a96745f82"
      },
      "execution_count": null,
      "outputs": [
        {
          "output_type": "error",
          "ename": "TypeError",
          "evalue": "ignored",
          "traceback": [
            "\u001b[0;31m---------------------------------------------------------------------------\u001b[0m",
            "\u001b[0;31mTypeError\u001b[0m                                 Traceback (most recent call last)",
            "\u001b[0;32m<ipython-input-58-496031c0678c>\u001b[0m in \u001b[0;36m<module>\u001b[0;34m()\u001b[0m\n\u001b[1;32m      1\u001b[0m \u001b[0mlst\u001b[0m \u001b[0;34m=\u001b[0m \u001b[0;34m[\u001b[0m \u001b[0mv\u001b[0m \u001b[0;32mfor\u001b[0m \u001b[0mv\u001b[0m \u001b[0;32min\u001b[0m \u001b[0mpopulation\u001b[0m\u001b[0;34m.\u001b[0m\u001b[0mvalues\u001b[0m\u001b[0;34m(\u001b[0m\u001b[0;34m)\u001b[0m\u001b[0;34m]\u001b[0m\u001b[0;34m\u001b[0m\u001b[0;34m\u001b[0m\u001b[0m\n\u001b[0;32m----> 2\u001b[0;31m \u001b[0msum\u001b[0m\u001b[0;34m(\u001b[0m\u001b[0mlst\u001b[0m\u001b[0;34m)\u001b[0m\u001b[0;34m\u001b[0m\u001b[0;34m\u001b[0m\u001b[0m\n\u001b[0m",
            "\u001b[0;31mTypeError\u001b[0m: 'set' object is not callable"
          ]
        }
      ]
    },
    {
      "cell_type": "code",
      "source": [
        "text = \"#안녕#파이썬#파이썬#최고#파이썬#안녕\"\n",
        "\n",
        "{word:text.count(word) for word in text.split(\"#\")[1:]}"
      ],
      "metadata": {
        "colab": {
          "base_uri": "https://localhost:8080/"
        },
        "id": "WFwGmO_R0vfK",
        "outputId": "16f7cb0d-73d6-4afe-ddc8-a3921b6e0710"
      },
      "execution_count": null,
      "outputs": [
        {
          "output_type": "execute_result",
          "data": {
            "text/plain": [
              "{'안녕': 2, '최고': 1, '파이썬': 3}"
            ]
          },
          "metadata": {},
          "execution_count": 57
        }
      ]
    },
    {
      "cell_type": "code",
      "source": [],
      "metadata": {
        "id": "tHb3LSWy3nwA"
      },
      "execution_count": null,
      "outputs": []
    }
  ]
}
