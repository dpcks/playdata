{
  "nbformat": 4,
  "nbformat_minor": 0,
  "metadata": {
    "colab": {
      "provenance": [],
      "authorship_tag": "ABX9TyNu/WQnSoRm7nkEB+4jtw3K",
      "include_colab_link": true
    },
    "kernelspec": {
      "name": "python3",
      "display_name": "Python 3"
    },
    "language_info": {
      "name": "python"
    }
  },
  "cells": [
    {
      "cell_type": "markdown",
      "metadata": {
        "id": "view-in-github",
        "colab_type": "text"
      },
      "source": [
        "<a href=\"https://colab.research.google.com/github/dpcks/playdata/blob/main/09_%EC%A0%9C%EB%84%88%EB%A0%88%EC%9D%B4%ED%84%B0.ipynb\" target=\"_parent\"><img src=\"https://colab.research.google.com/assets/colab-badge.svg\" alt=\"Open In Colab\"/></a>"
      ]
    },
    {
      "cell_type": "markdown",
      "source": [
        "# iterable & iterator\n",
        "- iterable 객체: 반복 가능한 객체(list,dict,set,tuple,str,range...)\n",
        "- iterator 객체: 값을 차례대로 꺼낼 수 있는 객체\n",
        "    - 다 꺼내면 사라진다.\n",
        "    - 꺼낼때 데이터를 메모리에 생성해주는 방식\n",
        "    "
      ],
      "metadata": {
        "id": "gZ0IWNKZ7rqM"
      }
    },
    {
      "cell_type": "markdown",
      "source": [
        "- iter 함수\n",
        "    - iterable 객체를 iterator 객체로 변환한다.\n",
        "    "
      ],
      "metadata": {
        "id": "kwhuGALe8eTu"
      }
    },
    {
      "cell_type": "code",
      "source": [
        "lst = [1, 2, 3]\n",
        "iterator = iter(lst)\n",
        "type(iterator)"
      ],
      "metadata": {
        "colab": {
          "base_uri": "https://localhost:8080/"
        },
        "id": "Lx7gk1709CuA",
        "outputId": "9e3e1ac5-fd04-4227-b71d-e89dd42dc68f"
      },
      "execution_count": null,
      "outputs": [
        {
          "output_type": "execute_result",
          "data": {
            "text/plain": [
              "list_iterator"
            ]
          },
          "metadata": {},
          "execution_count": 2
        }
      ]
    },
    {
      "cell_type": "markdown",
      "source": [
        "- for 문은 iterable , iterator 객체를 모두 반복해준다."
      ],
      "metadata": {
        "id": "7Wo6ct4o9LbI"
      }
    },
    {
      "cell_type": "code",
      "source": [
        "for i in lst:\n",
        "    print(i)"
      ],
      "metadata": {
        "colab": {
          "base_uri": "https://localhost:8080/"
        },
        "id": "b_Cc2jbO9Xnf",
        "outputId": "db473465-09f7-4246-c405-7c75f3575bce"
      },
      "execution_count": null,
      "outputs": [
        {
          "output_type": "stream",
          "name": "stdout",
          "text": [
            "1\n",
            "2\n",
            "3\n"
          ]
        }
      ]
    },
    {
      "cell_type": "code",
      "source": [
        "for i in iterator: # 두번 이상 실행시 값이 안나옴 iterator 객체는 다꺼내면 사라진다.\n",
        "    print(i)"
      ],
      "metadata": {
        "id": "L03fzA2u9cWn"
      },
      "execution_count": null,
      "outputs": []
    },
    {
      "cell_type": "markdown",
      "source": [
        "- next 함수\n",
        "    - iterator 객체를 순서대로 하나씩 꺼내주는 함수."
      ],
      "metadata": {
        "id": "jYMMS0b69h6y"
      }
    },
    {
      "cell_type": "code",
      "source": [
        "lst = [1,2,3]\n",
        "iterator = iter(lst)\n",
        "\n",
        "print(next(iterator))\n",
        "print(next(iterator))\n",
        "print(next(iterator))\n",
        "print(next(iterator)) # 더이상 꺼낼수 없어 에러 발생"
      ],
      "metadata": {
        "colab": {
          "base_uri": "https://localhost:8080/",
          "height": 262
        },
        "id": "3CHXgCh192nd",
        "outputId": "1828a2c1-44fd-4596-d76c-ce07f10f086b"
      },
      "execution_count": null,
      "outputs": [
        {
          "output_type": "stream",
          "name": "stdout",
          "text": [
            "1\n",
            "2\n",
            "3\n"
          ]
        },
        {
          "output_type": "error",
          "ename": "StopIteration",
          "evalue": "ignored",
          "traceback": [
            "\u001b[0;31m---------------------------------------------------------------------------\u001b[0m",
            "\u001b[0;31mStopIteration\u001b[0m                             Traceback (most recent call last)",
            "\u001b[0;32m<ipython-input-8-8d13da8f695e>\u001b[0m in \u001b[0;36m<module>\u001b[0;34m()\u001b[0m\n\u001b[1;32m      5\u001b[0m \u001b[0mprint\u001b[0m\u001b[0;34m(\u001b[0m\u001b[0mnext\u001b[0m\u001b[0;34m(\u001b[0m\u001b[0miterator\u001b[0m\u001b[0;34m)\u001b[0m\u001b[0;34m)\u001b[0m\u001b[0;34m\u001b[0m\u001b[0;34m\u001b[0m\u001b[0m\n\u001b[1;32m      6\u001b[0m \u001b[0mprint\u001b[0m\u001b[0;34m(\u001b[0m\u001b[0mnext\u001b[0m\u001b[0;34m(\u001b[0m\u001b[0miterator\u001b[0m\u001b[0;34m)\u001b[0m\u001b[0;34m)\u001b[0m\u001b[0;34m\u001b[0m\u001b[0;34m\u001b[0m\u001b[0m\n\u001b[0;32m----> 7\u001b[0;31m \u001b[0mprint\u001b[0m\u001b[0;34m(\u001b[0m\u001b[0mnext\u001b[0m\u001b[0;34m(\u001b[0m\u001b[0miterator\u001b[0m\u001b[0;34m)\u001b[0m\u001b[0;34m)\u001b[0m \u001b[0;31m# 더이상 꺼낼수 없어 에러 발생\u001b[0m\u001b[0;34m\u001b[0m\u001b[0;34m\u001b[0m\u001b[0m\n\u001b[0m",
            "\u001b[0;31mStopIteration\u001b[0m: "
          ]
        }
      ]
    },
    {
      "cell_type": "code",
      "source": [
        "iterator = zip([1,2,3],[4,5,6])\n",
        "print(next(iterator))\n",
        "print(next(iterator))\n",
        "print(next(iterator))\n",
        "print(next(iterator)) # 더이상 꺼낼수 없어 여기서 에러 발생"
      ],
      "metadata": {
        "colab": {
          "base_uri": "https://localhost:8080/",
          "height": 262
        },
        "id": "GFY8U69X-Nl3",
        "outputId": "59801b06-9088-4b74-fa8e-d0beaee175c2"
      },
      "execution_count": null,
      "outputs": [
        {
          "output_type": "stream",
          "name": "stdout",
          "text": [
            "(1, 4)\n",
            "(2, 5)\n",
            "(3, 6)\n"
          ]
        },
        {
          "output_type": "error",
          "ename": "StopIteration",
          "evalue": "ignored",
          "traceback": [
            "\u001b[0;31m---------------------------------------------------------------------------\u001b[0m",
            "\u001b[0;31mStopIteration\u001b[0m                             Traceback (most recent call last)",
            "\u001b[0;32m<ipython-input-11-de340b16bcd6>\u001b[0m in \u001b[0;36m<module>\u001b[0;34m()\u001b[0m\n\u001b[1;32m      3\u001b[0m \u001b[0mprint\u001b[0m\u001b[0;34m(\u001b[0m\u001b[0mnext\u001b[0m\u001b[0;34m(\u001b[0m\u001b[0miterator\u001b[0m\u001b[0;34m)\u001b[0m\u001b[0;34m)\u001b[0m\u001b[0;34m\u001b[0m\u001b[0;34m\u001b[0m\u001b[0m\n\u001b[1;32m      4\u001b[0m \u001b[0mprint\u001b[0m\u001b[0;34m(\u001b[0m\u001b[0mnext\u001b[0m\u001b[0;34m(\u001b[0m\u001b[0miterator\u001b[0m\u001b[0;34m)\u001b[0m\u001b[0;34m)\u001b[0m\u001b[0;34m\u001b[0m\u001b[0;34m\u001b[0m\u001b[0m\n\u001b[0;32m----> 5\u001b[0;31m \u001b[0mprint\u001b[0m\u001b[0;34m(\u001b[0m\u001b[0mnext\u001b[0m\u001b[0;34m(\u001b[0m\u001b[0miterator\u001b[0m\u001b[0;34m)\u001b[0m\u001b[0;34m)\u001b[0m \u001b[0;31m# 더이상 꺼낼수 없어 에러 발생\u001b[0m\u001b[0;34m\u001b[0m\u001b[0;34m\u001b[0m\u001b[0m\n\u001b[0m",
            "\u001b[0;31mStopIteration\u001b[0m: "
          ]
        }
      ]
    },
    {
      "cell_type": "markdown",
      "source": [
        "iterator = enumerate([1,2,3])\n",
        "print(next(iterator))\n",
        "print(next(iterator))\n",
        "print(next(iterator))\n",
        "print(next(iterator)) # 더이상 꺼낼수 없어 여기서 에러 발생\n",
        "\n",
        "\n"
      ],
      "metadata": {
        "id": "lHOJRvnv-pl7"
      }
    },
    {
      "cell_type": "code",
      "source": [
        "iterator = zip([1,2,3],[4,5,6])"
      ],
      "metadata": {
        "id": "_l0WeC69_NVH"
      },
      "execution_count": null,
      "outputs": []
    },
    {
      "cell_type": "code",
      "source": [
        "for n1,n2 in iterator:\n",
        "    print(n1,n2)"
      ],
      "metadata": {
        "id": "g0tcm1nZ_T17"
      },
      "execution_count": null,
      "outputs": []
    },
    {
      "cell_type": "code",
      "source": [
        "for n1,n2 in zip([1,2,3],[4,5,6]): # zip 객체가 계속 생성\n",
        "    print(n1,n2)\n"
      ],
      "metadata": {
        "colab": {
          "base_uri": "https://localhost:8080/"
        },
        "id": "EHOCB4FQ_baW",
        "outputId": "af697f3d-07a9-4e94-bea0-76f79f510300"
      },
      "execution_count": null,
      "outputs": [
        {
          "output_type": "stream",
          "name": "stdout",
          "text": [
            "1 4\n",
            "2 5\n",
            "3 6\n"
          ]
        }
      ]
    },
    {
      "cell_type": "markdown",
      "source": [
        "- next 함수는 iterator 객체만 꺼낼수 있다."
      ],
      "metadata": {
        "id": "mwvB-OYk_3Sy"
      }
    },
    {
      "cell_type": "code",
      "source": [
        "next([1,2,3])"
      ],
      "metadata": {
        "colab": {
          "base_uri": "https://localhost:8080/",
          "height": 172
        },
        "id": "yWre1bbS_ojW",
        "outputId": "32f24b3d-da60-4be4-e57a-98b0b8d6cfd1"
      },
      "execution_count": null,
      "outputs": [
        {
          "output_type": "error",
          "ename": "TypeError",
          "evalue": "ignored",
          "traceback": [
            "\u001b[0;31m---------------------------------------------------------------------------\u001b[0m",
            "\u001b[0;31mTypeError\u001b[0m                                 Traceback (most recent call last)",
            "\u001b[0;32m<ipython-input-22-b3d6b235ab2a>\u001b[0m in \u001b[0;36m<module>\u001b[0;34m()\u001b[0m\n\u001b[0;32m----> 1\u001b[0;31m \u001b[0mnext\u001b[0m\u001b[0;34m(\u001b[0m\u001b[0;34m[\u001b[0m\u001b[0;36m1\u001b[0m\u001b[0;34m,\u001b[0m\u001b[0;36m2\u001b[0m\u001b[0;34m,\u001b[0m\u001b[0;36m3\u001b[0m\u001b[0;34m]\u001b[0m\u001b[0;34m)\u001b[0m\u001b[0;34m\u001b[0m\u001b[0;34m\u001b[0m\u001b[0m\n\u001b[0m",
            "\u001b[0;31mTypeError\u001b[0m: 'list' object is not an iterator"
          ]
        }
      ]
    },
    {
      "cell_type": "markdown",
      "source": [
        "# Generator 란?\n",
        "- iterator를 생성해주는 표현식\n",
        "- iteraotr와 같은 동작을 하는 객체"
      ],
      "metadata": {
        "id": "BIGIL-qM_2l8"
      }
    },
    {
      "cell_type": "markdown",
      "source": [
        "- 소괄호를 이용한 제너레이터 객체 만들기"
      ],
      "metadata": {
        "id": "0l1IWiUcAfCV"
      }
    },
    {
      "cell_type": "code",
      "source": [
        "gen = (x for x in range(3))\n",
        "type(gen)"
      ],
      "metadata": {
        "colab": {
          "base_uri": "https://localhost:8080/"
        },
        "id": "kzdJMHUQAj4p",
        "outputId": "29216212-5db4-4eaa-970a-dc3924018acc"
      },
      "execution_count": null,
      "outputs": [
        {
          "output_type": "execute_result",
          "data": {
            "text/plain": [
              "generator"
            ]
          },
          "metadata": {},
          "execution_count": 23
        }
      ]
    },
    {
      "cell_type": "code",
      "source": [
        "print(next(gen))\n",
        "print(next(gen))\n",
        "print(next(gen))\n",
        "print(next(gen)) # 여기서 에러발생~~ 다 꺼냈으니까!\n",
        " "
      ],
      "metadata": {
        "colab": {
          "base_uri": "https://localhost:8080/",
          "height": 281
        },
        "id": "ZzjtQ_WRA2nn",
        "outputId": "35a7e37a-aaf4-4c67-bf2c-89969908ce38"
      },
      "execution_count": null,
      "outputs": [
        {
          "output_type": "stream",
          "name": "stdout",
          "text": [
            "0\n",
            "1\n",
            "2\n"
          ]
        },
        {
          "output_type": "error",
          "ename": "StopIteration",
          "evalue": "ignored",
          "traceback": [
            "\u001b[0;31m---------------------------------------------------------------------------\u001b[0m",
            "\u001b[0;31mStopIteration\u001b[0m                             Traceback (most recent call last)",
            "\u001b[0;32m<ipython-input-24-6e829be55854>\u001b[0m in \u001b[0;36m<module>\u001b[0;34m()\u001b[0m\n\u001b[1;32m      2\u001b[0m \u001b[0mprint\u001b[0m\u001b[0;34m(\u001b[0m\u001b[0mnext\u001b[0m\u001b[0;34m(\u001b[0m\u001b[0mgen\u001b[0m\u001b[0;34m)\u001b[0m\u001b[0;34m)\u001b[0m\u001b[0;34m\u001b[0m\u001b[0;34m\u001b[0m\u001b[0m\n\u001b[1;32m      3\u001b[0m \u001b[0mprint\u001b[0m\u001b[0;34m(\u001b[0m\u001b[0mnext\u001b[0m\u001b[0;34m(\u001b[0m\u001b[0mgen\u001b[0m\u001b[0;34m)\u001b[0m\u001b[0;34m)\u001b[0m\u001b[0;34m\u001b[0m\u001b[0;34m\u001b[0m\u001b[0m\n\u001b[0;32m----> 4\u001b[0;31m \u001b[0mprint\u001b[0m\u001b[0;34m(\u001b[0m\u001b[0mnext\u001b[0m\u001b[0;34m(\u001b[0m\u001b[0mgen\u001b[0m\u001b[0;34m)\u001b[0m\u001b[0;34m)\u001b[0m \u001b[0;31m# 여기서 에러발생~~ 다 꺼냈으니까!\u001b[0m\u001b[0;34m\u001b[0m\u001b[0;34m\u001b[0m\u001b[0m\n\u001b[0m\u001b[1;32m      5\u001b[0m \u001b[0;34m\u001b[0m\u001b[0m\n",
            "\u001b[0;31mStopIteration\u001b[0m: "
          ]
        }
      ]
    },
    {
      "cell_type": "code",
      "source": [
        "map_obj = map(lambda x: x , range(3)) # (x for x in range(3))\n",
        "print(next(map_obj))\n",
        "print(next(map_obj))\n",
        "print(next(map_obj))\n",
        "print(next(map_obj)) # 다 꺼내서 에러발생"
      ],
      "metadata": {
        "colab": {
          "base_uri": "https://localhost:8080/",
          "height": 262
        },
        "id": "LHXhgwJqBBQY",
        "outputId": "ba5cfd60-cb69-429c-81f6-f59ca8a7d0a3"
      },
      "execution_count": null,
      "outputs": [
        {
          "output_type": "stream",
          "name": "stdout",
          "text": [
            "0\n",
            "1\n",
            "2\n"
          ]
        },
        {
          "output_type": "error",
          "ename": "StopIteration",
          "evalue": "ignored",
          "traceback": [
            "\u001b[0;31m---------------------------------------------------------------------------\u001b[0m",
            "\u001b[0;31mStopIteration\u001b[0m                             Traceback (most recent call last)",
            "\u001b[0;32m<ipython-input-26-65a3bc2a3286>\u001b[0m in \u001b[0;36m<module>\u001b[0;34m()\u001b[0m\n\u001b[1;32m      3\u001b[0m \u001b[0mprint\u001b[0m\u001b[0;34m(\u001b[0m\u001b[0mnext\u001b[0m\u001b[0;34m(\u001b[0m\u001b[0mmap_obj\u001b[0m\u001b[0;34m)\u001b[0m\u001b[0;34m)\u001b[0m\u001b[0;34m\u001b[0m\u001b[0;34m\u001b[0m\u001b[0m\n\u001b[1;32m      4\u001b[0m \u001b[0mprint\u001b[0m\u001b[0;34m(\u001b[0m\u001b[0mnext\u001b[0m\u001b[0;34m(\u001b[0m\u001b[0mmap_obj\u001b[0m\u001b[0;34m)\u001b[0m\u001b[0;34m)\u001b[0m\u001b[0;34m\u001b[0m\u001b[0;34m\u001b[0m\u001b[0m\n\u001b[0;32m----> 5\u001b[0;31m \u001b[0mprint\u001b[0m\u001b[0;34m(\u001b[0m\u001b[0mnext\u001b[0m\u001b[0;34m(\u001b[0m\u001b[0mmap_obj\u001b[0m\u001b[0;34m)\u001b[0m\u001b[0;34m)\u001b[0m \u001b[0;31m# 다 꺼내서 에러발생\u001b[0m\u001b[0;34m\u001b[0m\u001b[0;34m\u001b[0m\u001b[0m\n\u001b[0m",
            "\u001b[0;31mStopIteration\u001b[0m: "
          ]
        }
      ]
    },
    {
      "cell_type": "markdown",
      "source": [
        "- 메모리 사이즈 비교"
      ],
      "metadata": {
        "id": "9MjFC4LIBauJ"
      }
    },
    {
      "cell_type": "code",
      "source": [
        "import sys\n",
        "\n",
        "gen = (x for x in range(1000000))\n",
        "lst = list(range(1000000))\n",
        "\n",
        "sys.getsizeof(gen) , sys.getsizeof(lst) #바이트 단위로 변환"
      ],
      "metadata": {
        "colab": {
          "base_uri": "https://localhost:8080/"
        },
        "id": "9B2MYvESBpTb",
        "outputId": "33427722-fe9e-4e0e-952e-d112523cafa2"
      },
      "execution_count": null,
      "outputs": [
        {
          "output_type": "execute_result",
          "data": {
            "text/plain": [
              "(128, 9000120)"
            ]
          },
          "metadata": {},
          "execution_count": 27
        }
      ]
    },
    {
      "cell_type": "code",
      "source": [
        "#sys.getsizeof?"
      ],
      "metadata": {
        "id": "cl0o9i-4CKHs"
      },
      "execution_count": null,
      "outputs": []
    },
    {
      "cell_type": "code",
      "source": [
        "%%timeit \n",
        "lst = list(range(1000000))\n",
        "tmp = []\n",
        "for data in lst:\n",
        "    tmp.append(data)"
      ],
      "metadata": {
        "colab": {
          "base_uri": "https://localhost:8080/"
        },
        "id": "_3jF-hFrCP4k",
        "outputId": "05ff8278-4ed4-4e31-a689-ac340242685c"
      },
      "execution_count": null,
      "outputs": [
        {
          "output_type": "stream",
          "name": "stdout",
          "text": [
            "10 loops, best of 5: 120 ms per loop\n"
          ]
        }
      ]
    },
    {
      "cell_type": "code",
      "source": [
        "%%timeit\n",
        "gen = (x for x in range(1000000))\n",
        "tmp = []\n",
        "for data in gen:\n",
        "    tmp.append(gen)"
      ],
      "metadata": {
        "colab": {
          "base_uri": "https://localhost:8080/"
        },
        "id": "xfd9LKTrCnfW",
        "outputId": "729929c0-4baf-40b3-ba7f-469a6eb089d1"
      },
      "execution_count": null,
      "outputs": [
        {
          "output_type": "stream",
          "name": "stdout",
          "text": [
            "10 loops, best of 5: 132 ms per loop\n"
          ]
        }
      ]
    },
    {
      "cell_type": "markdown",
      "source": [
        "```\n",
        "소괄호를 이용해서 0~300까지의 숫자들 중에서 3의 배수만 꺼내는 제너레이터 객체를 생성하시오.\n",
        "``` "
      ],
      "metadata": {
        "id": "tcGmywsDC4jA"
      }
    },
    {
      "cell_type": "code",
      "source": [
        "gen = (x for x in range(3,301,3))\n",
        "for i in gen:\n",
        "    if i > 10:\n",
        "        break\n",
        "    print(i)"
      ],
      "metadata": {
        "colab": {
          "base_uri": "https://localhost:8080/"
        },
        "id": "7mwiJqmaEwf_",
        "outputId": "9a6a7570-2915-479e-f2a0-47b04968ab05"
      },
      "execution_count": null,
      "outputs": [
        {
          "output_type": "stream",
          "name": "stdout",
          "text": [
            "3\n",
            "6\n",
            "9\n"
          ]
        }
      ]
    },
    {
      "cell_type": "code",
      "source": [
        "gen = (x for x in range(301) if x % 3 == 0 )\n",
        "print(gen)"
      ],
      "metadata": {
        "colab": {
          "base_uri": "https://localhost:8080/"
        },
        "id": "kXidVjufDUkP",
        "outputId": "75b902d7-2e76-4ce8-b6eb-159719a4766a"
      },
      "execution_count": null,
      "outputs": [
        {
          "output_type": "stream",
          "name": "stdout",
          "text": [
            "<generator object <genexpr> at 0x7f2ca9056750>\n"
          ]
        }
      ]
    },
    {
      "cell_type": "markdown",
      "source": [
        "```\n",
        "소괄호를 이용해서 다음의 리스트의 요소들의 제곱근을 꺼내는 제너레이터를 생성하시오.\n",
        "lst = [20,40,60,80,34,90,10]\n",
        "```"
      ],
      "metadata": {
        "id": "BP8G4IuJDp9Q"
      }
    },
    {
      "cell_type": "code",
      "source": [
        "lst = [20,40,60,80,34,90,10]\n",
        "gen =(x**0.5 for x in lst)\n",
        "for i in gen:\n",
        "    print(i)"
      ],
      "metadata": {
        "colab": {
          "base_uri": "https://localhost:8080/"
        },
        "id": "Ju0yDZSEERAi",
        "outputId": "91eebb99-65ad-4bfa-d347-086c9d508f57"
      },
      "execution_count": null,
      "outputs": [
        {
          "output_type": "stream",
          "name": "stdout",
          "text": [
            "4.47213595499958\n",
            "6.324555320336759\n",
            "7.745966692414834\n",
            "8.94427190999916\n",
            "5.830951894845301\n",
            "9.486832980505138\n",
            "3.1622776601683795\n"
          ]
        }
      ]
    },
    {
      "cell_type": "markdown",
      "source": [
        "## 함수를 이용한 제너레이터 객체 만들기\n",
        "- yield 문을 이용하면 된다."
      ],
      "metadata": {
        "id": "YqpnXG3mEaOl"
      }
    },
    {
      "cell_type": "code",
      "source": [
        "def gen_func():\n",
        "    yield 1 \n",
        "    yield 2\n",
        "    yield 3"
      ],
      "metadata": {
        "id": "6vox44sxJBZM"
      },
      "execution_count": null,
      "outputs": []
    },
    {
      "cell_type": "code",
      "source": [
        "gen = gen_func()\n",
        "type(gen)"
      ],
      "metadata": {
        "colab": {
          "base_uri": "https://localhost:8080/"
        },
        "id": "dQ846BleJOeU",
        "outputId": "34373dc2-d5ef-46e3-8ec8-befa52d862fa"
      },
      "execution_count": null,
      "outputs": [
        {
          "output_type": "execute_result",
          "data": {
            "text/plain": [
              "generator"
            ]
          },
          "metadata": {},
          "execution_count": 48
        }
      ]
    },
    {
      "cell_type": "code",
      "source": [
        "print(next(gen))\n",
        "print(next(gen))\n",
        "print(next(gen))\n",
        "print(next(gen)) # 더 이상 꺼낼게 없으므로 여기서 에러발생"
      ],
      "metadata": {
        "colab": {
          "base_uri": "https://localhost:8080/",
          "height": 226
        },
        "id": "gqyft4O7JT4Z",
        "outputId": "fef6047b-f65b-4e80-e6d5-0c8d837d1500"
      },
      "execution_count": null,
      "outputs": [
        {
          "output_type": "error",
          "ename": "StopIteration",
          "evalue": "ignored",
          "traceback": [
            "\u001b[0;31m---------------------------------------------------------------------------\u001b[0m",
            "\u001b[0;31mStopIteration\u001b[0m                             Traceback (most recent call last)",
            "\u001b[0;32m<ipython-input-52-3a205afa4844>\u001b[0m in \u001b[0;36m<module>\u001b[0;34m()\u001b[0m\n\u001b[0;32m----> 1\u001b[0;31m \u001b[0mprint\u001b[0m\u001b[0;34m(\u001b[0m\u001b[0mnext\u001b[0m\u001b[0;34m(\u001b[0m\u001b[0mgen\u001b[0m\u001b[0;34m)\u001b[0m\u001b[0;34m)\u001b[0m\u001b[0;34m\u001b[0m\u001b[0;34m\u001b[0m\u001b[0m\n\u001b[0m\u001b[1;32m      2\u001b[0m \u001b[0mprint\u001b[0m\u001b[0;34m(\u001b[0m\u001b[0mnext\u001b[0m\u001b[0;34m(\u001b[0m\u001b[0mgen\u001b[0m\u001b[0;34m)\u001b[0m\u001b[0;34m)\u001b[0m\u001b[0;34m\u001b[0m\u001b[0;34m\u001b[0m\u001b[0m\n\u001b[1;32m      3\u001b[0m \u001b[0mprint\u001b[0m\u001b[0;34m(\u001b[0m\u001b[0mnext\u001b[0m\u001b[0;34m(\u001b[0m\u001b[0mgen\u001b[0m\u001b[0;34m)\u001b[0m\u001b[0;34m)\u001b[0m\u001b[0;34m\u001b[0m\u001b[0;34m\u001b[0m\u001b[0m\n\u001b[1;32m      4\u001b[0m \u001b[0mprint\u001b[0m\u001b[0;34m(\u001b[0m\u001b[0mnext\u001b[0m\u001b[0;34m(\u001b[0m\u001b[0mgen\u001b[0m\u001b[0;34m)\u001b[0m\u001b[0;34m)\u001b[0m \u001b[0;31m# 더 이상 꺼낼게 없으므로 여기서 에러발생\u001b[0m\u001b[0;34m\u001b[0m\u001b[0;34m\u001b[0m\u001b[0m\n",
            "\u001b[0;31mStopIteration\u001b[0m: "
          ]
        }
      ]
    },
    {
      "cell_type": "code",
      "source": [
        "def gen_func(sum):\n",
        "    for i in range(num):\n",
        "        yield i\n",
        "        "
      ],
      "metadata": {
        "id": "QK1VXW7ZJaZb"
      },
      "execution_count": null,
      "outputs": []
    },
    {
      "cell_type": "code",
      "source": [
        "gen = gen_func(5)\n",
        "type(gen)"
      ],
      "metadata": {
        "colab": {
          "base_uri": "https://localhost:8080/"
        },
        "id": "JPeQNI4MKE1i",
        "outputId": "683fedf7-99bd-4ec9-d661-053476226500"
      },
      "execution_count": null,
      "outputs": [
        {
          "output_type": "execute_result",
          "data": {
            "text/plain": [
              "generator"
            ]
          },
          "metadata": {},
          "execution_count": 195
        }
      ]
    },
    {
      "cell_type": "code",
      "source": [
        "for n in gen:\n",
        "    print(n)"
      ],
      "metadata": {
        "colab": {
          "base_uri": "https://localhost:8080/",
          "height": 299
        },
        "id": "H7NBCUD6KJCR",
        "outputId": "94ddacf1-a680-4a8a-9b41-d945bc72f059"
      },
      "execution_count": null,
      "outputs": [
        {
          "output_type": "error",
          "ename": "NameError",
          "evalue": "ignored",
          "traceback": [
            "\u001b[0;31m---------------------------------------------------------------------------\u001b[0m",
            "\u001b[0;31mNameError\u001b[0m                                 Traceback (most recent call last)",
            "\u001b[0;32m<ipython-input-196-c05b20e6642e>\u001b[0m in \u001b[0;36m<module>\u001b[0;34m()\u001b[0m\n\u001b[0;32m----> 1\u001b[0;31m \u001b[0;32mfor\u001b[0m \u001b[0mn\u001b[0m \u001b[0;32min\u001b[0m \u001b[0mgen\u001b[0m\u001b[0;34m:\u001b[0m\u001b[0;34m\u001b[0m\u001b[0;34m\u001b[0m\u001b[0m\n\u001b[0m\u001b[1;32m      2\u001b[0m     \u001b[0mprint\u001b[0m\u001b[0;34m(\u001b[0m\u001b[0mn\u001b[0m\u001b[0;34m)\u001b[0m\u001b[0;34m\u001b[0m\u001b[0;34m\u001b[0m\u001b[0m\n",
            "\u001b[0;32m<ipython-input-194-4588206aae43>\u001b[0m in \u001b[0;36mgen_func\u001b[0;34m(sum)\u001b[0m\n\u001b[1;32m      1\u001b[0m \u001b[0;32mdef\u001b[0m \u001b[0mgen_func\u001b[0m\u001b[0;34m(\u001b[0m\u001b[0msum\u001b[0m\u001b[0;34m)\u001b[0m\u001b[0;34m:\u001b[0m\u001b[0;34m\u001b[0m\u001b[0;34m\u001b[0m\u001b[0m\n\u001b[0;32m----> 2\u001b[0;31m     \u001b[0;32mfor\u001b[0m \u001b[0mi\u001b[0m \u001b[0;32min\u001b[0m \u001b[0mrange\u001b[0m\u001b[0;34m(\u001b[0m\u001b[0mnum\u001b[0m\u001b[0;34m)\u001b[0m\u001b[0;34m:\u001b[0m\u001b[0;34m\u001b[0m\u001b[0;34m\u001b[0m\u001b[0m\n\u001b[0m\u001b[1;32m      3\u001b[0m         \u001b[0;32myield\u001b[0m \u001b[0mi\u001b[0m\u001b[0;34m\u001b[0m\u001b[0;34m\u001b[0m\u001b[0m\n\u001b[1;32m      4\u001b[0m \u001b[0;34m\u001b[0m\u001b[0m\n",
            "\u001b[0;31mNameError\u001b[0m: name 'num' is not defined"
          ]
        }
      ]
    },
    {
      "cell_type": "markdown",
      "source": [
        "리스트를 입력 받아 None 값을 제외하고 꺼내주는 제너레이터를 생성하시오\n",
        "yield 문을 이용해서 함수로 만드세요.\n",
        "\n",
        "ex)\n",
        "lst = [\"사과\",\"딸기\",None,\"참외\",None,\"수박\"]\n",
        "\n",
        "gen = gen_list(lst)\n",
        "for s in gen:\n",
        "    print(s)\n",
        "\n",
        "Output:\n",
        "사과\n",
        "딸기\n",
        "참외\n",
        "수박"
      ],
      "metadata": {
        "id": "_8omOtbWKMj9"
      }
    },
    {
      "cell_type": "code",
      "source": [
        "lst = [\"사과\",\"딸기\",None,\"참외\",None,\"수박\"]\n",
        "def gen_list(lst):\n",
        "     for i in lst:\n",
        "         if i is not None:\n",
        "             yield i\n",
        "        \n",
        "         \n",
        "\n"
      ],
      "metadata": {
        "id": "3pjeROVnKtVF"
      },
      "execution_count": null,
      "outputs": []
    },
    {
      "cell_type": "code",
      "source": [
        "gen = gen_list(lst)     \n",
        "for s in gen:\n",
        "     print(s)"
      ],
      "metadata": {
        "colab": {
          "base_uri": "https://localhost:8080/"
        },
        "id": "6fbAx7toLW13",
        "outputId": "393c9414-9521-45c9-976c-28bea54215ee"
      },
      "execution_count": null,
      "outputs": [
        {
          "output_type": "stream",
          "name": "stdout",
          "text": [
            "사과\n",
            "딸기\n",
            "참외\n",
            "수박\n"
          ]
        }
      ]
    },
    {
      "cell_type": "markdown",
      "source": [
        "```\n",
        "enumerate 함수 구현해보기\n",
        "yield 문을 이용하여 gen_enumerate 이름의 함수로 enumerate 함수를 구현해보자.\n",
        "enumerate 함수가 없다는 가정하에 만들어보자.\n",
        "ex)\n",
        "def gen_enumerate(param):\n",
        "    pass\n",
        "lst = [50,70,80]\n",
        "for i,item in gen_enumerate(lst):\n",
        "    print(i,item)\n",
        "Output:\n",
        "0 50\n",
        "1 70\n",
        "2 80\n",
        "```"
      ],
      "metadata": {
        "id": "Mk3XnfFPQF9L"
      }
    },
    {
      "cell_type": "code",
      "source": [
        "def gen_enumerate(lst):\n",
        "    for n,v in zip(range(len(lst)),lst):\n",
        "        yield n,v\n"
      ],
      "metadata": {
        "id": "lRUb8WmgNngm"
      },
      "execution_count": null,
      "outputs": []
    },
    {
      "cell_type": "code",
      "source": [
        "lst = [50,70,80]\n",
        "for i,item in gen_enumerate(lst):\n",
        "    print(i,item)"
      ],
      "metadata": {
        "colab": {
          "base_uri": "https://localhost:8080/"
        },
        "id": "wZCiBUXbQ9cz",
        "outputId": "e51fd77a-d1db-4e5c-a79a-f4123092d993"
      },
      "execution_count": null,
      "outputs": [
        {
          "output_type": "stream",
          "name": "stdout",
          "text": [
            "0 50\n",
            "1 70\n",
            "2 80\n"
          ]
        }
      ]
    },
    {
      "cell_type": "code",
      "source": [
        "def gen_enumerate(param): # 강사님 정답 \n",
        "    length = len(param)\n",
        "    for i in range(length):\n",
        "        yield i,param[i]\n",
        "\n",
        "lst = [50,70,80]\n",
        "for i,items in gen_enumerate(lst):\n",
        "    print(i,items)"
      ],
      "metadata": {
        "colab": {
          "base_uri": "https://localhost:8080/"
        },
        "id": "-Phg0nkMR3q5",
        "outputId": "9ed33433-4baf-43a7-d331-a9e99d3aacbc"
      },
      "execution_count": null,
      "outputs": [
        {
          "output_type": "stream",
          "name": "stdout",
          "text": [
            "0 50\n",
            "1 70\n",
            "2 80\n"
          ]
        }
      ]
    },
    {
      "cell_type": "code",
      "source": [
        "def gen_enumerate(lst):\n",
        "    length = len(lst)\n",
        "    return((i,lst[i]) for i in range(length))\n",
        "\n",
        "lst = [50,70,80]\n",
        "for i,item in gen_enumerate(lst):\n",
        "    print(i,item)"
      ],
      "metadata": {
        "colab": {
          "base_uri": "https://localhost:8080/"
        },
        "id": "bpZjRGyjSVuU",
        "outputId": "6e815516-caa0-4332-984c-92765ee45e54"
      },
      "execution_count": null,
      "outputs": [
        {
          "output_type": "stream",
          "name": "stdout",
          "text": [
            "0 50\n",
            "1 70\n",
            "2 80\n"
          ]
        }
      ]
    },
    {
      "cell_type": "markdown",
      "source": [
        "```\n",
        "zip 함수 구현해보기\n",
        "yield 문을 이용하여 gen_zip 이름의 함수로 zip 함수를 구현해보자.\n",
        "2개 이상의 리스트가 인수로 들어 온다고 가정하자.\n",
        "인수로 들어오는 리스트의 길이는 편의상 같은 길이가 들어온다고 가정하자.\n",
        "zip 함수가 없다는 가정하에 만들어보자.\n",
        "ex)\n",
        "def gen_zip(*args):\n",
        "    pass\n",
        "list1 = [50,70,80]\n",
        "list2 = [105,320,380]\n",
        "for item1,item2 in gen_zip(list1,list2):\n",
        "    print(item1,item2)\n",
        "Output:\n",
        "50 105\n",
        "70 320\n",
        "80 380\n",
        "```"
      ],
      "metadata": {
        "id": "I7ziOeunWn4x"
      }
    },
    {
      "cell_type": "code",
      "source": [
        "def gen_zip(*args):\n",
        "    print(args)\n",
        "    length=len(args[0])\n",
        "    for i in range(length):\n",
        "        yield [lst[i] for lst in args]\n",
        "\n",
        "\n",
        "list1 = [50,70,80]\n",
        "list2 = [105,320,380]\n",
        "for item1,item2 in gen_zip(list1,list2):\n",
        "    print(item1,item2)"
      ],
      "metadata": {
        "colab": {
          "base_uri": "https://localhost:8080/"
        },
        "id": "pOJAieXcWovO",
        "outputId": "1e8a251e-85e3-4978-c7b9-a615d27d6891"
      },
      "execution_count": null,
      "outputs": [
        {
          "output_type": "stream",
          "name": "stdout",
          "text": [
            "([50, 70, 80], [105, 320, 380])\n",
            "50 105\n",
            "70 320\n",
            "80 380\n"
          ]
        }
      ]
    },
    {
      "cell_type": "markdown",
      "source": [
        "- yield form 이용해서 간단히 제너레이터 만들기"
      ],
      "metadata": {
        "id": "Po_nCAlHXIs2"
      }
    },
    {
      "cell_type": "code",
      "source": [
        "def gen_func(num):\n",
        "    yield from range(num)"
      ],
      "metadata": {
        "id": "vozUOgjReRSu"
      },
      "execution_count": null,
      "outputs": []
    },
    {
      "cell_type": "code",
      "source": [
        "gen = gen_func(5)"
      ],
      "metadata": {
        "id": "2gw4M_2MenCy"
      },
      "execution_count": null,
      "outputs": []
    },
    {
      "cell_type": "code",
      "source": [
        "for i in gen:\n",
        "    print(i)"
      ],
      "metadata": {
        "colab": {
          "base_uri": "https://localhost:8080/"
        },
        "id": "xcMHsbyXeou3",
        "outputId": "1c874f03-67d3-4fd7-cb97-b6163f026dc9"
      },
      "execution_count": null,
      "outputs": [
        {
          "output_type": "stream",
          "name": "stdout",
          "text": [
            "0\n",
            "1\n",
            "2\n",
            "3\n",
            "4\n"
          ]
        }
      ]
    },
    {
      "cell_type": "code",
      "source": [
        "n = 5\n",
        "gen = (i for i in range(n))"
      ],
      "metadata": {
        "id": "NN1b9ZkretiC"
      },
      "execution_count": null,
      "outputs": []
    },
    {
      "cell_type": "code",
      "source": [
        "def gen_func(lst):  # 데이터들이 담긴 리스트를 받는다.\n",
        "    tmp =[]\n",
        "    for i in lst:\n",
        "        tmp.append(i **2)\n",
        "    \n",
        "    yield from tmp # 값을 하나씩 반환할때 사용\n",
        "lst = list(range(10))\n",
        "gen = gen_func(lst)\n",
        "\n",
        "for i in gen:\n",
        "    print(i)"
      ],
      "metadata": {
        "colab": {
          "base_uri": "https://localhost:8080/"
        },
        "id": "7iSHTizqe4K2",
        "outputId": "05ef8903-b2e7-487c-b1fe-62a27f270a63"
      },
      "execution_count": null,
      "outputs": [
        {
          "output_type": "stream",
          "name": "stdout",
          "text": [
            "0\n",
            "1\n",
            "4\n",
            "9\n",
            "16\n",
            "25\n",
            "36\n",
            "49\n",
            "64\n",
            "81\n"
          ]
        }
      ]
    },
    {
      "cell_type": "code",
      "source": [],
      "metadata": {
        "id": "1kIc1g6ifY33"
      },
      "execution_count": null,
      "outputs": []
    }
  ]
}
