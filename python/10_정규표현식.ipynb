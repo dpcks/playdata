{
  "nbformat": 4,
  "nbformat_minor": 0,
  "metadata": {
    "colab": {
      "provenance": [],
      "authorship_tag": "ABX9TyO1JAIqL342Yg6M5jVty80j",
      "include_colab_link": true
    },
    "kernelspec": {
      "name": "python3",
      "display_name": "Python 3"
    },
    "language_info": {
      "name": "python"
    }
  },
  "cells": [
    {
      "cell_type": "markdown",
      "metadata": {
        "id": "view-in-github",
        "colab_type": "text"
      },
      "source": [
        "<a href=\"https://colab.research.google.com/github/dpcks/playdata/blob/main/10_%EC%A0%95%EA%B7%9C%ED%91%9C%ED%98%84%EC%8B%9D.ipynb\" target=\"_parent\"><img src=\"https://colab.research.google.com/assets/colab-badge.svg\" alt=\"Open In Colab\"/></a>"
      ]
    },
    {
      "cell_type": "markdown",
      "source": [
        "# 정규식\n",
        "- 정규표현식은 복잡한 문자열을 처리할 때 사용하는 기법\n",
        "- 파이썬만의 고유한 기법이 아니라 문자열을 처리하는 모든 곳에서 사용"
      ],
      "metadata": {
        "id": "SRd0ZHJdAjr7"
      }
    },
    {
      "cell_type": "code",
      "source": [
        "data = \"나의 전화번호는 010-0000-0000 입니다. 너의 전화번호는 010-1111-1111 입니다.\""
      ],
      "metadata": {
        "id": "hqVW5g2-Ay0p"
      },
      "execution_count": null,
      "outputs": []
    },
    {
      "cell_type": "markdown",
      "source": [
        "- 텍스트의 규칙을 보니 띄어씌기 기준으로 나누자\n",
        "- 전화번호의 특징이 하이픈이 사이에 2개가 있다.\n",
        "- 전화번호의 특징이 첫 3자리, 두번째 4자리, 세번째 4자리 형식이다."
      ],
      "metadata": {
        "id": "kpIGIcK3A-6a"
      }
    },
    {
      "cell_type": "code",
      "source": [
        "phone_list = []\n",
        "for item in data.split():\n",
        "    item = item.split(\"-\")\n",
        "\n",
        "    cond_list = []\n",
        "    if len(item) == 3:\n",
        "       cond = item[0].isdigit() and len(item[0]) == 3\n",
        "       cond_list.append(cond)\n",
        "       cond = item[0].isdigit() and len(item[1]) == 4\n",
        "       cond_list.append(cond)\n",
        "       cond = item[0].isdigit() and len(item[2]) == 4\n",
        "       cond_list.append(cond)\n",
        "\n",
        "    if sum(cond_list) == 3:\n",
        "        phone_list.append(\"-\".join(item))\n",
        "phone_list"
      ],
      "metadata": {
        "colab": {
          "base_uri": "https://localhost:8080/"
        },
        "id": "DbE-ONQiBkLY",
        "outputId": "f90f168e-0867-4c67-cdd1-d9c0e7f1bd16"
      },
      "execution_count": null,
      "outputs": [
        {
          "output_type": "execute_result",
          "data": {
            "text/plain": [
              "['010-0000-0000', '010-1111-1111']"
            ]
          },
          "metadata": {},
          "execution_count": 4
        }
      ]
    },
    {
      "cell_type": "code",
      "source": [
        "data = \"나의 전화번호는 010-0000-0000 입니다. 너의 전화번호는 010-1111-1111 입니다.\"\n",
        "import re\n",
        "pat = re.compile(\"\\d{3}-\\d{3}-\\d{3}\")\n",
        "phone_list = pat.findall(data)\n",
        "phone_list"
      ],
      "metadata": {
        "colab": {
          "base_uri": "https://localhost:8080/"
        },
        "id": "qds2Zn8DDM02",
        "outputId": "a9b3c6e6-46d8-40e1-98b2-ab8746abbe8d"
      },
      "execution_count": null,
      "outputs": [
        {
          "output_type": "execute_result",
          "data": {
            "text/plain": [
              "[]"
            ]
          },
          "metadata": {},
          "execution_count": 5
        }
      ]
    },
    {
      "cell_type": "markdown",
      "source": [
        "## re(regular expression) 모듈\n",
        "- 파이썬의 정규표현식을 지원하기 위한 모듈 "
      ],
      "metadata": {
        "id": "hIxbYFaWDkNr"
      }
    },
    {
      "cell_type": "markdown",
      "source": [
        "- match 함수\n",
        "    - pattern 맞는 문자열로 시작하는지 검사하고 매칭이 되면 match 객체를 반환하고 그렇지 않으면 None 반환한다."
      ],
      "metadata": {
        "id": "I8ZIbMu3D0G1"
      }
    },
    {
      "cell_type": "code",
      "source": [
        "data = \"나의 전화번호는 010-0000-0000 입니다. 너의 전화번호는 010-1111-1111 입니다.\"\n",
        "print(re.match(\"나의\",data))\n",
        "print(re.match(\"전화\",data))"
      ],
      "metadata": {
        "colab": {
          "base_uri": "https://localhost:8080/"
        },
        "id": "HMGWHP7GEHhw",
        "outputId": "5384d2ba-bd36-44ba-b561-15875018fa7b"
      },
      "execution_count": null,
      "outputs": [
        {
          "output_type": "stream",
          "name": "stdout",
          "text": [
            "<re.Match object; span=(0, 2), match='나의'>\n",
            "None\n"
          ]
        }
      ]
    },
    {
      "cell_type": "code",
      "source": [
        "match = re.match(\"나의\",data)\n",
        "match.group()"
      ],
      "metadata": {
        "colab": {
          "base_uri": "https://localhost:8080/",
          "height": 35
        },
        "id": "muvIizv7Ed3t",
        "outputId": "6a0b570a-bafe-4d09-c3f5-69e1e0635d32"
      },
      "execution_count": null,
      "outputs": [
        {
          "output_type": "execute_result",
          "data": {
            "text/plain": [
              "'나의'"
            ],
            "application/vnd.google.colaboratory.intrinsic+json": {
              "type": "string"
            }
          },
          "metadata": {},
          "execution_count": 10
        }
      ]
    },
    {
      "cell_type": "markdown",
      "source": [
        "- search 함수\n",
        "    - pattern에 맞는 문자열을 검사하고 매칭되면 바로 match 객체를 반환한다. 매칭이 안되면 None을 반환"
      ],
      "metadata": {
        "id": "1BaP2_5SEzoO"
      }
    },
    {
      "cell_type": "code",
      "source": [
        "data = \"나의 전화번호는 010-0000-0000 입니다. 너의 전화번호는 010-1111-1111 입니다.\"\n",
        "re.search(\"전화\",data)"
      ],
      "metadata": {
        "colab": {
          "base_uri": "https://localhost:8080/"
        },
        "id": "DI52VcAVFDOz",
        "outputId": "ab8d2403-1629-4842-f0d8-3da58847ffbb"
      },
      "execution_count": null,
      "outputs": [
        {
          "output_type": "execute_result",
          "data": {
            "text/plain": [
              "<re.Match object; span=(3, 5), match='전화'>"
            ]
          },
          "metadata": {},
          "execution_count": 7
        }
      ]
    },
    {
      "cell_type": "markdown",
      "source": [
        "- findall 함수\n",
        "    - 정규식과 매칭되는 모든 문자열을 리스트로 반환한다."
      ],
      "metadata": {
        "id": "olTAFcJyFLNI"
      }
    },
    {
      "cell_type": "code",
      "source": [
        "data = \"나의 전화번호는 010-0000-0000 입니다. 너의 전화번호는 010-1111-1111 입니다.\"\n",
        "re.findall(\"번호\", data)"
      ],
      "metadata": {
        "colab": {
          "base_uri": "https://localhost:8080/"
        },
        "id": "BGdJklxHFZ58",
        "outputId": "4e5ee48b-234f-4dd9-c2b8-6b7d2bf52e24"
      },
      "execution_count": null,
      "outputs": [
        {
          "output_type": "execute_result",
          "data": {
            "text/plain": [
              "['번호', '번호']"
            ]
          },
          "metadata": {},
          "execution_count": 12
        }
      ]
    },
    {
      "cell_type": "markdown",
      "source": [
        "- sub 함수\n",
        "    - 정규식과 매칭되는 부분을 치환해준다."
      ],
      "metadata": {
        "id": "8A0U92r6FeYp"
      }
    },
    {
      "cell_type": "code",
      "source": [
        "data = \"나의 전화번호는 010-0000-0000 입니다. 너의 전화번호는 010-1111-1111 입니다.\"\n",
        "re.sub(\"전화번호\",\"핸드폰번호\",data)"
      ],
      "metadata": {
        "colab": {
          "base_uri": "https://localhost:8080/",
          "height": 35
        },
        "id": "EE87Ysp1Fn6j",
        "outputId": "77ea2814-ea5b-417d-b74d-65e83a940d87"
      },
      "execution_count": null,
      "outputs": [
        {
          "output_type": "execute_result",
          "data": {
            "text/plain": [
              "'나의 핸드폰번호는 010-0000-0000 입니다. 너의 핸드폰번호는 010-1111-1111 입니다.'"
            ],
            "application/vnd.google.colaboratory.intrinsic+json": {
              "type": "string"
            }
          },
          "metadata": {},
          "execution_count": 13
        }
      ]
    },
    {
      "cell_type": "markdown",
      "source": [
        "## 메타문자\n",
        "- 메타문자란 원래 그문자가 가진 뜻이 아닌 특별한 용도로 사용하는 문자\n",
        "- ` \\ ^ $ . [ ] ( ) * + ? { } ` \n"
      ],
      "metadata": {
        "id": "ifbqgPQpF1lD"
      }
    },
    {
      "cell_type": "markdown",
      "source": [
        "- `.` : 줄바꿈(`\\n`)를 제외한 모든 문자와 매치 "
      ],
      "metadata": {
        "id": "thN7PjaBGjSD"
      }
    },
    {
      "cell_type": "code",
      "source": [
        "data = \"abc a\\nc a c\"\n",
        "re.findall(\"a.c\", data)"
      ],
      "metadata": {
        "colab": {
          "base_uri": "https://localhost:8080/"
        },
        "id": "m2eAJeaDGwqN",
        "outputId": "dfc445c5-455a-4441-c93c-01cdfc633e0f"
      },
      "execution_count": null,
      "outputs": [
        {
          "output_type": "execute_result",
          "data": {
            "text/plain": [
              "['abc', 'a c']"
            ]
          },
          "metadata": {},
          "execution_count": 15
        }
      ]
    },
    {
      "cell_type": "markdown",
      "source": [
        "\n",
        "- `*` : 바로 앞에 문자가 0번이상 반복할 경우 매치"
      ],
      "metadata": {
        "id": "_rVxlhuRHDZh"
      }
    },
    {
      "cell_type": "code",
      "source": [
        "data = \"abc ac abbc a c\"\n",
        "re.findall(\"ab*c\",data)"
      ],
      "metadata": {
        "colab": {
          "base_uri": "https://localhost:8080/"
        },
        "id": "Sr0afHLsHYjQ",
        "outputId": "c6d3e5ee-3812-4062-a4b8-9afba46fd473"
      },
      "execution_count": null,
      "outputs": [
        {
          "output_type": "execute_result",
          "data": {
            "text/plain": [
              "['abc', 'ac', 'abbc']"
            ]
          },
          "metadata": {},
          "execution_count": 16
        }
      ]
    },
    {
      "cell_type": "markdown",
      "source": [
        "`+`: 바로 앞에 문자가 1번 이상 반복할 경우 매치"
      ],
      "metadata": {
        "id": "SmJdhXXDHi_1"
      }
    },
    {
      "cell_type": "code",
      "source": [
        "data = \"abc ac abbc\"\n",
        "re.findall(\"ab+c\",data)"
      ],
      "metadata": {
        "colab": {
          "base_uri": "https://localhost:8080/"
        },
        "id": "9pxkD8p7H67s",
        "outputId": "f99cf53e-368f-4996-f40d-fc723473c25a"
      },
      "execution_count": null,
      "outputs": [
        {
          "output_type": "execute_result",
          "data": {
            "text/plain": [
              "['abc', 'abbc']"
            ]
          },
          "metadata": {},
          "execution_count": 17
        }
      ]
    },
    {
      "cell_type": "code",
      "source": [
        "data = \"나는 말했다 '오늘 행복하다' 라고...\"\n",
        "re.findall(\"\\'.+\\'\",data)  # \\ 는 사용자 의도대로 사용할수있도록 하기위해 사용 "
      ],
      "metadata": {
        "colab": {
          "base_uri": "https://localhost:8080/"
        },
        "id": "yEPr5IHpIhpf",
        "outputId": "3c6e8b4c-4233-4cff-971c-a315814066c3"
      },
      "execution_count": null,
      "outputs": [
        {
          "output_type": "execute_result",
          "data": {
            "text/plain": [
              "[\"'오늘 행복하다'\"]"
            ]
          },
          "metadata": {},
          "execution_count": 22
        }
      ]
    },
    {
      "cell_type": "code",
      "source": [
        "re.findall(\"\\'(.+)\\'\",data)"
      ],
      "metadata": {
        "colab": {
          "base_uri": "https://localhost:8080/"
        },
        "id": "lIchRNvNI8RO",
        "outputId": "00c0fc25-fb5d-4955-e877-649398cb261f"
      },
      "execution_count": null,
      "outputs": [
        {
          "output_type": "execute_result",
          "data": {
            "text/plain": [
              "['오늘 행복하다']"
            ]
          },
          "metadata": {},
          "execution_count": 21
        }
      ]
    },
    {
      "cell_type": "markdown",
      "source": [
        "- 반복 횟수를 제한하고 싶다면?\n",
        "    - `{m,n}`: 바로 앞에 문자의 반복횟수가 m번에서 n번사이 \n",
        "    - `{m}` : 바로 앞에 문자의 반복횟수가 m번\n",
        "    - `{m,}`: 바로 앞에 문자의 반복횟수가 m번 이상\n",
        "    - `{,n}`: 바로 앞에 문자의 반복횟수가 n번 이하"
      ],
      "metadata": {
        "id": "0eWnCTmjJWBO"
      }
    },
    {
      "cell_type": "code",
      "source": [
        "data = \"abc ac abbbc abbbbc\"\n",
        "re.findall(\"ab{1,3}c\",data)"
      ],
      "metadata": {
        "colab": {
          "base_uri": "https://localhost:8080/"
        },
        "id": "p89wwxE7KFeD",
        "outputId": "4fa2b36c-4f04-4507-834e-ccd47bb793ea"
      },
      "execution_count": null,
      "outputs": [
        {
          "output_type": "execute_result",
          "data": {
            "text/plain": [
              "['abc', 'abbbc']"
            ]
          },
          "metadata": {},
          "execution_count": 8
        }
      ]
    },
    {
      "cell_type": "code",
      "source": [
        "data = \"abc ac abbbc abbbbc\"\n",
        "re.findall(\"ab{4}c\",data)"
      ],
      "metadata": {
        "colab": {
          "base_uri": "https://localhost:8080/"
        },
        "id": "GPUukAZUN3X4",
        "outputId": "0e4a510f-f6e7-4e10-aff6-05d8b3f0f8aa"
      },
      "execution_count": null,
      "outputs": [
        {
          "output_type": "execute_result",
          "data": {
            "text/plain": [
              "['abbbbc']"
            ]
          },
          "metadata": {},
          "execution_count": 26
        }
      ]
    },
    {
      "cell_type": "code",
      "source": [
        "data = \"abc ac abbbc abbbbc\"\n",
        "re.findall(\"ab{1,}c\",data) # ab+c"
      ],
      "metadata": {
        "colab": {
          "base_uri": "https://localhost:8080/"
        },
        "id": "QXvW8DGfOdDp",
        "outputId": "960dfe69-4d8f-41f6-e57e-3de2b39bd70a"
      },
      "execution_count": null,
      "outputs": [
        {
          "output_type": "execute_result",
          "data": {
            "text/plain": [
              "['abc', 'abbbc', 'abbbbc']"
            ]
          },
          "metadata": {},
          "execution_count": 27
        }
      ]
    },
    {
      "cell_type": "code",
      "source": [
        "data = \"abc ac abbbc abbbbc\"\n",
        "re.findall(\"ab{0,}c\",data) # ab*c"
      ],
      "metadata": {
        "colab": {
          "base_uri": "https://localhost:8080/"
        },
        "id": "KInNEwUzOtba",
        "outputId": "0116e559-43c9-4078-8ea2-349ceff84cae"
      },
      "execution_count": null,
      "outputs": [
        {
          "output_type": "execute_result",
          "data": {
            "text/plain": [
              "['abc', 'ac', 'abbbc', 'abbbbc']"
            ]
          },
          "metadata": {},
          "execution_count": 29
        }
      ]
    },
    {
      "cell_type": "code",
      "source": [
        "data = \"abc ac abbbc abbbbc\"\n",
        "re.findall(\"ab{,3}c\",data) "
      ],
      "metadata": {
        "colab": {
          "base_uri": "https://localhost:8080/"
        },
        "id": "tDC9f96VO0ud",
        "outputId": "48ec7961-30ef-4158-e6ea-9223bfd1b346"
      },
      "execution_count": null,
      "outputs": [
        {
          "output_type": "execute_result",
          "data": {
            "text/plain": [
              "['abc', 'ac', 'abbbc']"
            ]
          },
          "metadata": {},
          "execution_count": 30
        }
      ]
    },
    {
      "cell_type": "markdown",
      "source": [
        "- `?` : 반복은 아니지만 앞에 문자가 있거나 없거나를 의미"
      ],
      "metadata": {
        "id": "45gCtBCtPlxK"
      }
    },
    {
      "cell_type": "code",
      "source": [
        "data = \"abc ac abbbc abbbbc \"\n",
        "re.findall(\"ab?c\",data) # ab{0,1}c"
      ],
      "metadata": {
        "colab": {
          "base_uri": "https://localhost:8080/"
        },
        "id": "vtQMaoNdQYCD",
        "outputId": "beb56d84-3c70-4d0e-e710-201b8c25b97b"
      },
      "execution_count": null,
      "outputs": [
        {
          "output_type": "execute_result",
          "data": {
            "text/plain": [
              "['abc', 'ac']"
            ]
          },
          "metadata": {},
          "execution_count": 31
        }
      ]
    },
    {
      "cell_type": "markdown",
      "source": [
        "- `[]` : [] 사이의 문자들과 매칭이라는 의미"
      ],
      "metadata": {
        "id": "d2vLCdkzQkjo"
      }
    },
    {
      "cell_type": "code",
      "source": [
        "data = \"abc ac acc acb\"\n",
        "re.findall(\"a[bc]c\",data)"
      ],
      "metadata": {
        "colab": {
          "base_uri": "https://localhost:8080/"
        },
        "id": "YqI0EMisQ5H8",
        "outputId": "d735b05f-e973-4ea0-8764-f68e5f0e5047"
      },
      "execution_count": null,
      "outputs": [
        {
          "output_type": "execute_result",
          "data": {
            "text/plain": [
              "['abc', 'acc']"
            ]
          },
          "metadata": {},
          "execution_count": 32
        }
      ]
    },
    {
      "cell_type": "markdown",
      "source": [
        "- 대괄호 안에서는 메타문자 역할을 안한다."
      ],
      "metadata": {
        "id": "5CE-lh5oRNzk"
      }
    },
    {
      "cell_type": "code",
      "source": [
        "data =\"abc a+c a.c a?c\"\n",
        "re.findall(\"a[+.?]c\",data)"
      ],
      "metadata": {
        "colab": {
          "base_uri": "https://localhost:8080/"
        },
        "id": "c9CgsozhRblq",
        "outputId": "193de7ee-4041-4990-8ec0-d3c1ca0d9798"
      },
      "execution_count": null,
      "outputs": [
        {
          "output_type": "execute_result",
          "data": {
            "text/plain": [
              "['a+c', 'a.c', 'a?c']"
            ]
          },
          "metadata": {},
          "execution_count": 33
        }
      ]
    },
    {
      "cell_type": "code",
      "source": [
        "data = \"abc a[c a]c \"\n",
        "re.findall(\"a[\\[\\]]c\",data)"
      ],
      "metadata": {
        "colab": {
          "base_uri": "https://localhost:8080/"
        },
        "id": "ZjuGiu3URvhs",
        "outputId": "7e8ca436-df33-4973-a6c3-1acc19c26bd1"
      },
      "execution_count": null,
      "outputs": [
        {
          "output_type": "execute_result",
          "data": {
            "text/plain": [
              "['a[c', 'a]c']"
            ]
          },
          "metadata": {},
          "execution_count": 43
        }
      ]
    },
    {
      "cell_type": "markdown",
      "source": [
        "- 하이픈(`-`) 사용하기\n",
        "    - `[a-zA-Z]` : 모든 알파벳과 매치\n",
        "    - `[0-9]` : 모든 숫자와 매치\n",
        "    "
      ],
      "metadata": {
        "id": "uobkLEsySApL"
      }
    },
    {
      "cell_type": "code",
      "source": [
        "data = \"python 3.10.5\"\n",
        "re.findall(\"[0-9a-zA-Z]\",data)"
      ],
      "metadata": {
        "colab": {
          "base_uri": "https://localhost:8080/"
        },
        "id": "sM-BisqyU2pm",
        "outputId": "a5311537-f35b-4080-f1a5-b4ecfe9d765a"
      },
      "execution_count": null,
      "outputs": [
        {
          "output_type": "execute_result",
          "data": {
            "text/plain": [
              "['p', 'y', 't', 'h', 'o', 'n', '3', '1', '0', '5']"
            ]
          },
          "metadata": {},
          "execution_count": 46
        }
      ]
    },
    {
      "cell_type": "code",
      "source": [
        "data = \"python 3.10.5\"\n",
        "re.findall(\"[0-9a-zA-Z.]+\",data)"
      ],
      "metadata": {
        "colab": {
          "base_uri": "https://localhost:8080/"
        },
        "id": "tz_GtGWTVfJf",
        "outputId": "f80cbd25-26b4-4c86-d8cb-d84e2e7f4746"
      },
      "execution_count": null,
      "outputs": [
        {
          "output_type": "execute_result",
          "data": {
            "text/plain": [
              "['python', '3.10.5']"
            ]
          },
          "metadata": {},
          "execution_count": 47
        }
      ]
    },
    {
      "cell_type": "code",
      "source": [
        "data = \"파이썬 버전은 3.10.5\"\n",
        "re.findall(\"[가-힣]+\",data)"
      ],
      "metadata": {
        "colab": {
          "base_uri": "https://localhost:8080/"
        },
        "id": "azjwDtQHVmW_",
        "outputId": "b593a329-3e18-4fc8-8f5a-b38d7849e7d1"
      },
      "execution_count": null,
      "outputs": [
        {
          "output_type": "execute_result",
          "data": {
            "text/plain": [
              "['파이썬', '버전은']"
            ]
          },
          "metadata": {},
          "execution_count": 49
        }
      ]
    },
    {
      "cell_type": "code",
      "source": [
        "data = \"파이썬 버전은 3.10.5 ㅋㅋㅋ ㅜㅜ\"\n",
        "re.findall(\"[ㅏ-ㅣ가-힣-ㄱ-ㅎ]+\",data)"
      ],
      "metadata": {
        "colab": {
          "base_uri": "https://localhost:8080/"
        },
        "id": "2ztjkNiJWE1X",
        "outputId": "cc548643-751d-42fb-832e-6892598c65a3"
      },
      "execution_count": null,
      "outputs": [
        {
          "output_type": "execute_result",
          "data": {
            "text/plain": [
              "['파이썬', '버전은', 'ㅋㅋㅋ', 'ㅜㅜ']"
            ]
          },
          "metadata": {},
          "execution_count": 50
        }
      ]
    },
    {
      "cell_type": "markdown",
      "source": [
        "- `\\d`: `[0-9]` 동일\n",
        "- `\\w` : `[a-zA-Z0-9_]` 동일\n"
      ],
      "metadata": {
        "id": "ADRJEVrxWUa7"
      }
    },
    {
      "cell_type": "code",
      "source": [
        "data = \"python 3_10_5\"\n",
        "re.findall(\"\\w+\",data)"
      ],
      "metadata": {
        "colab": {
          "base_uri": "https://localhost:8080/"
        },
        "id": "gTB16E-mWxX8",
        "outputId": "fd08941f-3ec9-45ec-ef35-b9ee48cb44e5"
      },
      "execution_count": null,
      "outputs": [
        {
          "output_type": "execute_result",
          "data": {
            "text/plain": [
              "['python', '3_10_5']"
            ]
          },
          "metadata": {},
          "execution_count": 51
        }
      ]
    },
    {
      "cell_type": "code",
      "source": [
        "re.findall(\"\\d+\",data)"
      ],
      "metadata": {
        "colab": {
          "base_uri": "https://localhost:8080/"
        },
        "id": "HflRvdv_W8X6",
        "outputId": "25ba29f4-5d9d-424e-a03b-32e3910d7cda"
      },
      "execution_count": null,
      "outputs": [
        {
          "output_type": "execute_result",
          "data": {
            "text/plain": [
              "['3', '10', '5']"
            ]
          },
          "metadata": {},
          "execution_count": 53
        }
      ]
    },
    {
      "cell_type": "markdown",
      "source": [
        "- [^]: not을 의미한다."
      ],
      "metadata": {
        "id": "edkC7z4KXJN8"
      }
    },
    {
      "cell_type": "code",
      "source": [
        "data = \"python 3.10.5\"\n",
        "re.findall(\"[^\\d.]+\",data)"
      ],
      "metadata": {
        "colab": {
          "base_uri": "https://localhost:8080/"
        },
        "id": "1vJC46Y8XSrJ",
        "outputId": "9e175395-4176-4fdd-aab0-699b45e2332d"
      },
      "execution_count": null,
      "outputs": [
        {
          "output_type": "execute_result",
          "data": {
            "text/plain": [
              "['python ']"
            ]
          },
          "metadata": {},
          "execution_count": 54
        }
      ]
    },
    {
      "cell_type": "markdown",
      "source": [
        "`^` : 검사하고자하는 문자열에 정규식에 맞는 문자로 시작하는지를 검사한다. #mach랑 비슷\n",
        "`$` : 검사하고자하는 문자열에 정규식에 맞는 문자로 끝나는지를 검사한다."
      ],
      "metadata": {
        "id": "iqUrX5xAXkGR"
      }
    },
    {
      "cell_type": "code",
      "source": [
        "phone = \"010-0000-0000\"\n",
        "match = re.search(\"^\\d{3}-\\d{4}-\\d{4}$\",phone)\n",
        "match"
      ],
      "metadata": {
        "colab": {
          "base_uri": "https://localhost:8080/"
        },
        "id": "fXl_79QNcLv6",
        "outputId": "7bd8edb0-82b4-4ddf-ad22-4c2b7d9210aa"
      },
      "execution_count": null,
      "outputs": [
        {
          "output_type": "execute_result",
          "data": {
            "text/plain": [
              "<re.Match object; span=(0, 13), match='010-0000-0000'>"
            ]
          },
          "metadata": {},
          "execution_count": 55
        }
      ]
    },
    {
      "cell_type": "markdown",
      "source": [
        "```\n",
        "data = \"\"\"\n",
        "연월일 형식에 문자열을 추출해 보시오.\n",
        "다음은 2002-06-09 형식의 날짜이다.\n",
        "이것도 2002/10/19 형식의 날짜이다.\n",
        "출력 예시처럼 담아주세요.\n",
        "\"\"\"\n",
        "Output:\n",
        "['2002-06-09', '2002/10/19']\n",
        "```\n",
        "\n"
      ],
      "metadata": {
        "id": "DxYPY_D8cjmx"
      }
    },
    {
      "cell_type": "code",
      "source": [
        "data = \"\"\"\n",
        "연월일 형식에 문자열을 추출해 보시오.\n",
        "다음은 2002-06-09 형식의 날짜이다.\n",
        "이것도 2002/10/19 형식의 날짜이다.\n",
        "출력 예시처럼 담아주세요.\n",
        "\"\"\"\n",
        "\n",
        "pat= \"\\d{4}[-/]\\d{2}[-/]\\d{2}\"\n",
        "re.findall(pat,data)"
      ],
      "metadata": {
        "colab": {
          "base_uri": "https://localhost:8080/"
        },
        "id": "spI0anbHdHeP",
        "outputId": "e4572ab6-b331-4c97-d25b-3a53d3e4d660"
      },
      "execution_count": null,
      "outputs": [
        {
          "output_type": "execute_result",
          "data": {
            "text/plain": [
              "['2002-06-09', '2002/10/19']"
            ]
          },
          "metadata": {},
          "execution_count": 99
        }
      ]
    },
    {
      "cell_type": "markdown",
      "source": [
        "data = \"\"\"\n",
        "다음의 html 에서 태그를 제거해서 출력 예시와 같은 문자열을 만들어주세요.\n",
        "<div>\n",
        "    <a href=\"https://www.naver.com\">클릭시 href 속성 값의 링크로 이동하는 태그</a>\n",
        "    <img src=\"image.jpg\">src 속성에 이미지를 브라우저에 나타내주는 태그</img>\n",
        "    <ul>\n",
        "        <li>ul 태그와 함께 목록을 생성해주는 태그</li>\n",
        "        <li>ul 태그와 함께 목록을 생성해주는 태그</li>\n",
        "    </ul>\n",
        "    <p>문단을 의미하는 태그</p>\n",
        "    <br memo=\"줄바꿈을 해주는 태그\">\n",
        "</div>\n",
        "\"\"\"\n",
        "Output:\n",
        "\n",
        "다음의 html 에서 태그를 제거해서 출력 예시와 같은 문자열을 만들어주세요.\n",
        "\n",
        "    클릭시 href 속성 값의 링크로 이동하는 태그\n",
        "    src 속성에 이미지를 브라우저에 나타내주는 태그\n",
        "\n",
        "        ul 태그와 함께 목록을 생성해주는 태그\n",
        "        ul 태그와 함께 목록을 생성해주는 태그\n",
        "\n",
        "    문단을 의미하는 태그"
      ],
      "metadata": {
        "id": "-uiFvYv6eT33"
      }
    },
    {
      "cell_type": "code",
      "source": [
        "data = \"\"\"\n",
        "다음의 html 에서 태그를 제거해서 출력 예시와 같은 문자열을 만들어주세요.\n",
        "<div>\n",
        "    <a href=\"https://www.naver.com\">클릭시 href 속성 값의 링크로 이동하는 태그</a>\n",
        "    <img src=\"image.jpg\">src 속성에 이미지를 브라우저에 나타내주는 태그</img>\n",
        "    <ul>\n",
        "        <li>ul 태그와 함께 목록을 생성해주는 태그</li>\n",
        "        <li>ul 태그와 함께 목록을 생성해주는 태그</li>\n",
        "    </ul>\n",
        "    <p>문단을 의미하는 태그</p>\n",
        "    <br memo=\"줄바꿈을 해주는 태그\">\n",
        "</div>\n",
        "\"\"\"\n",
        "\n",
        "pat = \"<[^>]+>\"\n",
        "print(re.sub(pat,\"\",data))"
      ],
      "metadata": {
        "colab": {
          "base_uri": "https://localhost:8080/"
        },
        "id": "GmM8F11bgYfY",
        "outputId": "d0202056-a533-4aab-ada2-c049aa42d38a"
      },
      "execution_count": null,
      "outputs": [
        {
          "output_type": "stream",
          "name": "stdout",
          "text": [
            "\n",
            "다음의 html 에서 태그를 제거해서 출력 예시와 같은 문자열을 만들어주세요.\n",
            "\n",
            "    클릭시 href 속성 값의 링크로 이동하는 태그\n",
            "    src 속성에 이미지를 브라우저에 나타내주는 태그\n",
            "    \n",
            "        ul 태그와 함께 목록을 생성해주는 태그\n",
            "        ul 태그와 함께 목록을 생성해주는 태그\n",
            "    \n",
            "    문단을 의미하는 태그\n",
            "    \n",
            "\n",
            "\n"
          ]
        }
      ]
    },
    {
      "cell_type": "code",
      "source": [
        "data = \"나의 전화번호는 010-0000-0000 입니다. 너의 전화번호는 010-1111-1111 입니다.\"\n",
        "re.findall(\"\\d{3}-\\d{4}-\\d{4}\",data)"
      ],
      "metadata": {
        "colab": {
          "base_uri": "https://localhost:8080/"
        },
        "id": "2SNe9Ms7jPd2",
        "outputId": "35d0d552-a645-4302-e682-3db0c6d9895e"
      },
      "execution_count": null,
      "outputs": [
        {
          "output_type": "execute_result",
          "data": {
            "text/plain": [
              "['010-0000-0000', '010-1111-1111']"
            ]
          },
          "metadata": {},
          "execution_count": 92
        }
      ]
    },
    {
      "cell_type": "markdown",
      "source": [
        "- 프로그램 내에서 자주 사용하는 정규식 패턴에 경우 `re.compile` 함수를 이용해서 컴파일을 미리하여 패턴객체를 생성해서 찾자.\n",
        "- 자주쓰는 패턴이라면 정규식을 미리 컴파일하자."
      ],
      "metadata": {
        "id": "YvhyIFYgkI7W"
      }
    },
    {
      "cell_type": "code",
      "source": [
        "pat_obj = re.compile(\"\\d{3}-\\d{4}-\\d{4}\")\n",
        "type(pat_obj)"
      ],
      "metadata": {
        "colab": {
          "base_uri": "https://localhost:8080/"
        },
        "id": "DEinPa2HjZBY",
        "outputId": "12bc5c38-397a-44b0-c86c-f46c303e0791"
      },
      "execution_count": null,
      "outputs": [
        {
          "output_type": "execute_result",
          "data": {
            "text/plain": [
              "re.Pattern"
            ]
          },
          "metadata": {},
          "execution_count": 93
        }
      ]
    },
    {
      "cell_type": "code",
      "source": [
        "pat_obj.findall(data)"
      ],
      "metadata": {
        "colab": {
          "base_uri": "https://localhost:8080/"
        },
        "id": "vh-em-RNjnyK",
        "outputId": "b22f9bf9-0f9e-4908-f72a-6eb44cc6e3df"
      },
      "execution_count": null,
      "outputs": [
        {
          "output_type": "execute_result",
          "data": {
            "text/plain": [
              "['010-0000-0000', '010-1111-1111']"
            ]
          },
          "metadata": {},
          "execution_count": 94
        }
      ]
    },
    {
      "cell_type": "code",
      "source": [],
      "metadata": {
        "id": "GK2kKyP6jr7F"
      },
      "execution_count": null,
      "outputs": []
    }
  ]
}
