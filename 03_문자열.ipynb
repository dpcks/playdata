{
  "cells": [
    {
      "cell_type": "markdown",
      "metadata": {
        "id": "view-in-github",
        "colab_type": "text"
      },
      "source": [
        "<a href=\"https://colab.research.google.com/github/dpcks/playdata/blob/main/03_%EB%AC%B8%EC%9E%90%EC%97%B4.ipynb\" target=\"_parent\"><img src=\"https://colab.research.google.com/assets/colab-badge.svg\" alt=\"Open In Colab\"/></a>"
      ]
    },
    {
      "cell_type": "markdown",
      "metadata": {
        "id": "6U-ItmIYfYSP"
      },
      "source": [
        "# 문자열이란?\n",
        "- 문자들이 열거 되어있으면 문자열(`str`)\n",
        "- 파이썬은 문자 하나도 문자열로 취급한다.\n",
        "- 문자열은 Sequence 자료형 이다.\n",
        "- 문자열은 수정불가능한 객체이다.\n",
        "- 컴퓨터는 문자도 숫자(이진수)로 변경해서 저장 또는 처리해야한다.\n",
        "- 이진수로 변경하려면 어떠한 규칙이 있어야하는데 그 표준규칙을 인코딩이라고 한다.\n",
        "- 사람이 이해할수 있게 문자로 원복하는 것을 디코딩이라고 한다.\n",
        "- ASCII(영어키보드에 할당되는 모든 키), EUC-KR, UTF-8(세계적인 표준) 등등"
      ]
    },
    {
      "cell_type": "code",
      "execution_count": null,
      "metadata": {
        "id": "tnK_32xXiOq1"
      },
      "outputs": [],
      "source": [
        "name1 = \"광수\"\n",
        "name2 = '철수'"
      ]
    },
    {
      "cell_type": "code",
      "execution_count": null,
      "metadata": {
        "colab": {
          "base_uri": "https://localhost:8080/",
          "height": 35
        },
        "id": "sjaz3bvMikW9",
        "outputId": "a78e7884-d202-47f3-ac8d-9a5366dfa1c1"
      },
      "outputs": [
        {
          "output_type": "execute_result",
          "data": {
            "text/plain": [
              "\"나는 말했다. '안녕하세요'라고...\""
            ],
            "application/vnd.google.colaboratory.intrinsic+json": {
              "type": "string"
            }
          },
          "metadata": {},
          "execution_count": 33
        }
      ],
      "source": [
        "text = \"나는 말했다. '안녕하세요'라고...\"\n",
        "text"
      ]
    },
    {
      "cell_type": "code",
      "execution_count": null,
      "metadata": {
        "colab": {
          "base_uri": "https://localhost:8080/",
          "height": 35
        },
        "id": "GKICajJ_i2Cv",
        "outputId": "fd75e2a0-e0ee-4996-8139-0c17e0688621"
      },
      "outputs": [
        {
          "output_type": "execute_result",
          "data": {
            "text/plain": [
              "'나는 말했다. \"안녕하세요\"라고....'"
            ],
            "application/vnd.google.colaboratory.intrinsic+json": {
              "type": "string"
            }
          },
          "metadata": {},
          "execution_count": 34
        }
      ],
      "source": [
        "text = '나는 말했다. \"안녕하세요\"라고....'\n",
        "text"
      ]
    },
    {
      "cell_type": "markdown",
      "metadata": {
        "id": "CLPQy2vwkpfZ"
      },
      "source": [
        "- 이스케이프 문자: `\\` 다음에 오는 문자가 특수문자라는 것을 알린다."
      ]
    },
    {
      "cell_type": "code",
      "execution_count": null,
      "metadata": {
        "colab": {
          "base_uri": "https://localhost:8080/"
        },
        "id": "xy8TOq59jDN9",
        "outputId": "eb3d05ab-d8d6-4c83-c823-4ec50a395fb8"
      },
      "outputs": [
        {
          "output_type": "stream",
          "name": "stdout",
          "text": [
            " 나는 말했다. \"안녕하세요'라고...\n"
          ]
        }
      ],
      "source": [
        "text = ' 나는 말했다. \"안녕하세요\\'라고...'\n",
        "print(text)"
      ]
    },
    {
      "cell_type": "code",
      "execution_count": null,
      "metadata": {
        "colab": {
          "base_uri": "https://localhost:8080/"
        },
        "id": "sXisFdI3kcZN",
        "outputId": "819f18d0-1db9-4a12-81db-3abc6bef65f1"
      },
      "outputs": [
        {
          "output_type": "stream",
          "name": "stdout",
          "text": [
            "나는 말했다.  \n",
            " '안녕하세요'라고....\n"
          ]
        }
      ],
      "source": [
        "print(\"나는 말했다.  \\n '안녕하세요'라고....\") # 줄바꿈"
      ]
    },
    {
      "cell_type": "code",
      "execution_count": null,
      "metadata": {
        "colab": {
          "base_uri": "https://localhost:8080/"
        },
        "id": "Y66M6nVFlFjM",
        "outputId": "f7922784-d19e-4458-92c8-b1b66163b969"
      },
      "outputs": [
        {
          "output_type": "stream",
          "name": "stdout",
          "text": [
            "나는 말했다.\t'잘가'라고...\n"
          ]
        }
      ],
      "source": [
        "print(\"나는 말했다.\\t'잘가'라고...\")    # 탭 4칸 띄움"
      ]
    },
    {
      "cell_type": "markdown",
      "metadata": {
        "id": "YEyuKhczlasK"
      },
      "source": [
        "## Dos string \n",
        "- 따옴표를 3개 이어서 쓰면 된다. Dos string 안에 위치한 문자열은 무조건 적은대로 표현된다.\n",
        "```python\n",
        "\"\"\"문자열\"\"\"\n",
        "'''문자열'''\n",
        "```\n",
        "- 여러줄 주석으로도 사용된다."
      ]
    },
    {
      "cell_type": "code",
      "execution_count": null,
      "metadata": {
        "colab": {
          "base_uri": "https://localhost:8080/"
        },
        "id": "9rMXoku1lzeu",
        "outputId": "26130045-433c-42ab-cc87-a75ba4b882ed"
      },
      "outputs": [
        {
          "output_type": "stream",
          "name": "stdout",
          "text": [
            "I said, \"I'm Student\" \n"
          ]
        }
      ],
      "source": [
        "text = \"\"\"I said, \"I'm Student\" \"\"\"\n",
        "print(text)"
      ]
    },
    {
      "cell_type": "code",
      "execution_count": null,
      "metadata": {
        "colab": {
          "base_uri": "https://localhost:8080/"
        },
        "id": "XyWQ3h9imCmg",
        "outputId": "a90e6ccb-c6a3-46ac-e24a-0984cdf7565b"
      },
      "outputs": [
        {
          "output_type": "stream",
          "name": "stdout",
          "text": [
            "asdfasdf\n",
            "asdfasdf               \n",
            "    sdfasdf\n",
            "\n"
          ]
        }
      ],
      "source": [
        "text = \"\"\"asdfasdf\n",
        "asdfasdf               \n",
        "    sdfasdf\n",
        "\"\"\"\n",
        "print(text) # Dos string은 \\t \\n(이스케이프문자) 사용안해도 된다."
      ]
    },
    {
      "cell_type": "markdown",
      "metadata": {
        "id": "i6Bw--4gnLRJ"
      },
      "source": [
        "## 문자열 연산"
      ]
    },
    {
      "cell_type": "code",
      "execution_count": null,
      "metadata": {
        "id": "WUn6DWLGn0fQ"
      },
      "outputs": [],
      "source": [
        "text1 = \"hello\"\n",
        "text2 = \"world\""
      ]
    },
    {
      "cell_type": "code",
      "execution_count": null,
      "metadata": {
        "colab": {
          "base_uri": "https://localhost:8080/"
        },
        "id": "uKGwEBISn54B",
        "outputId": "97c9cf2d-ec6e-463e-f0cd-ff482dd62721"
      },
      "outputs": [
        {
          "output_type": "stream",
          "name": "stdout",
          "text": [
            "helloworld\n"
          ]
        }
      ],
      "source": [
        "print(text1 + text2) # 더하기 기호는 문자열과 문자열을 이어 붙인다."
      ]
    },
    {
      "cell_type": "code",
      "execution_count": null,
      "metadata": {
        "colab": {
          "base_uri": "https://localhost:8080/",
          "height": 35
        },
        "id": "yt4YkM9coAva",
        "outputId": "f5a22c98-af45-4fc9-ff7f-51901d0a13f5"
      },
      "outputs": [
        {
          "output_type": "execute_result",
          "data": {
            "text/plain": [
              "'hellohellohellohellohello'"
            ],
            "application/vnd.google.colaboratory.intrinsic+json": {
              "type": "string"
            }
          },
          "metadata": {},
          "execution_count": 42
        }
      ],
      "source": [
        "text1 * 5 # 곱하면 문자열은 반복한다."
      ]
    },
    {
      "cell_type": "code",
      "execution_count": null,
      "metadata": {
        "colab": {
          "base_uri": "https://localhost:8080/"
        },
        "id": "cVC-T87UoRUy",
        "outputId": "dbfa5072-cee9-42af-a7fa-ebb806683107"
      },
      "outputs": [
        {
          "output_type": "execute_result",
          "data": {
            "text/plain": [
              "True"
            ]
          },
          "metadata": {},
          "execution_count": 43
        }
      ],
      "source": [
        "\"h\" in text1"
      ]
    },
    {
      "cell_type": "code",
      "execution_count": null,
      "metadata": {
        "colab": {
          "base_uri": "https://localhost:8080/"
        },
        "id": "eN1-w_CGoXIY",
        "outputId": "e05d847f-2606-450d-cc71-95d9dd27f813"
      },
      "outputs": [
        {
          "output_type": "execute_result",
          "data": {
            "text/plain": [
              "False"
            ]
          },
          "metadata": {},
          "execution_count": 44
        }
      ],
      "source": [
        "text1 == text2"
      ]
    },
    {
      "cell_type": "markdown",
      "metadata": {
        "id": "jE367unoocNm"
      },
      "source": [
        "## 인덱싱 & 슬라이싱 가능"
      ]
    },
    {
      "cell_type": "code",
      "execution_count": null,
      "metadata": {
        "colab": {
          "base_uri": "https://localhost:8080/",
          "height": 172
        },
        "id": "C5JdhePMofKI",
        "outputId": "96f570bf-64dd-4647-a983-5cdec9c35500"
      },
      "outputs": [
        {
          "output_type": "error",
          "ename": "TypeError",
          "evalue": "ignored",
          "traceback": [
            "\u001b[0;31m---------------------------------------------------------------------------\u001b[0m",
            "\u001b[0;31mTypeError\u001b[0m                                 Traceback (most recent call last)",
            "\u001b[0;32m<ipython-input-45-0cfb5ad19689>\u001b[0m in \u001b[0;36m<module>\u001b[0;34m()\u001b[0m\n\u001b[0;32m----> 1\u001b[0;31m \u001b[0mtext1\u001b[0m \u001b[0;34m[\u001b[0m\u001b[0;34m-\u001b[0m\u001b[0;36m1\u001b[0m\u001b[0;34m]\u001b[0m \u001b[0;34m=\u001b[0m \u001b[0;34m\"Y\"\u001b[0m \u001b[0;31m#수정 불가\u001b[0m\u001b[0;34m\u001b[0m\u001b[0;34m\u001b[0m\u001b[0m\n\u001b[0m",
            "\u001b[0;31mTypeError\u001b[0m: 'str' object does not support item assignment"
          ]
        }
      ],
      "source": [
        "text1 [-1] = \"Y\" #수정 불가"
      ]
    },
    {
      "cell_type": "markdown",
      "metadata": {
        "id": "H3gVBJPopY4R"
      },
      "source": [
        "- 슬라이싱과 더하기 연산자를 이용해서 다음과 같은 출력이 나오게 하시오\n",
        "```\n",
        "01011112222\n",
        "```"
      ]
    },
    {
      "cell_type": "code",
      "execution_count": null,
      "metadata": {
        "id": "qu9h4YM2o_k7"
      },
      "outputs": [],
      "source": [
        "phone = \"010-1111-2222\""
      ]
    },
    {
      "cell_type": "code",
      "execution_count": null,
      "metadata": {
        "colab": {
          "base_uri": "https://localhost:8080/",
          "height": 35
        },
        "id": "xhfgdCFvprw3",
        "outputId": "caf2b07f-cfa7-411c-fec3-e697f28943c7"
      },
      "outputs": [
        {
          "output_type": "execute_result",
          "data": {
            "text/plain": [
              "'01011112222'"
            ],
            "application/vnd.google.colaboratory.intrinsic+json": {
              "type": "string"
            }
          },
          "metadata": {},
          "execution_count": 53
        }
      ],
      "source": [
        "phone[0:3] + phone[4:8] + phone[-4:]"
      ]
    },
    {
      "cell_type": "markdown",
      "source": [
        "## String Formatting\n",
        "- 문자열 내의 특정한 값을 변수로부터 동적으로 받아 포함시켜 문자열을 생성"
      ],
      "metadata": {
        "id": "cN0dyEzeuAAW"
      }
    },
    {
      "cell_type": "code",
      "source": [
        "name = \"이예찬\"\n",
        "age = 25"
      ],
      "metadata": {
        "id": "JVkJ97EFuqAo"
      },
      "execution_count": null,
      "outputs": []
    },
    {
      "cell_type": "code",
      "source": [
        "text = \"제 이름은\" + name + \"입니다.\" \"나이는\" + str(age) + \"입니다\"\n",
        "print(text)"
      ],
      "metadata": {
        "colab": {
          "base_uri": "https://localhost:8080/"
        },
        "id": "RgVKgaI3u1MB",
        "outputId": "3bd2c8dc-77ba-4742-f0a3-4524643e4f58"
      },
      "execution_count": null,
      "outputs": [
        {
          "output_type": "stream",
          "name": "stdout",
          "text": [
            "제 이름은이예찬입니다.나이는25입니다\n"
          ]
        }
      ]
    },
    {
      "cell_type": "code",
      "source": [
        "text = \"제 이름은 {}입니다. 나이는 {}입니다.\"\n",
        "text.format(name, age)"
      ],
      "metadata": {
        "colab": {
          "base_uri": "https://localhost:8080/",
          "height": 35
        },
        "id": "6cFVzssfvIFk",
        "outputId": "dd03a3cf-93fe-472d-a72c-3e9629fc658b"
      },
      "execution_count": null,
      "outputs": [
        {
          "output_type": "execute_result",
          "data": {
            "text/plain": [
              "'제 이름은 이예찬입니다. 나이는 25입니다.'"
            ],
            "application/vnd.google.colaboratory.intrinsic+json": {
              "type": "string"
            }
          },
          "metadata": {},
          "execution_count": 57
        }
      ]
    },
    {
      "cell_type": "markdown",
      "source": [
        "- F-string(파이썬 3.6 이상부터 지원)"
      ],
      "metadata": {
        "id": "LAfvD0fMv4NO"
      }
    },
    {
      "cell_type": "code",
      "source": [
        "text = f\"제 이름은 {name}입니다. 나이는{age}입니다.\"\n",
        "print(text)"
      ],
      "metadata": {
        "colab": {
          "base_uri": "https://localhost:8080/"
        },
        "id": "Qn8uFznqwENp",
        "outputId": "2e0c6555-dca1-4711-d022-43b11a0c3726"
      },
      "execution_count": null,
      "outputs": [
        {
          "output_type": "stream",
          "name": "stdout",
          "text": [
            "제 이름은 이예찬입니다. 나이는25입니다.\n"
          ]
        }
      ]
    },
    {
      "cell_type": "markdown",
      "source": [
        "- 다음과 같이 9단으로 보기 좋게 출력해 보세요.\n",
        "```\n",
        "9 X 1 = 9\n",
        "9 X 2 = 9\n",
        "9 X 3 = 9\n",
        "9 X 4 = 9\n",
        "9 X 5 = 9\n",
        "9 X 6 = 9\n",
        "9 X 7 = 9\n",
        "9 X 8 = 9\n",
        "9 X 9 = 9\n",
        "```"
      ],
      "metadata": {
        "id": "zcexUcdhwXA4"
      }
    },
    {
      "cell_type": "code",
      "source": [
        "num = 9"
      ],
      "metadata": {
        "id": "UN_PowWTw-t9"
      },
      "execution_count": null,
      "outputs": []
    },
    {
      "cell_type": "code",
      "source": [
        "print(f\"{num} X 1 = {num*1}\")\n",
        "print(f\"{num} X 2 = {num*2}\")\n",
        "print(f\"{num} X 3 = {num*3}\")\n",
        "print(f\"{num} X 4 = {num*4}\")\n",
        "print(f\"{num} X 5 = {num*5}\")\n",
        "print(f\"{num} X 6 = {num*6}\")\n",
        "print(f\"{num} X 7 = {num*7}\")\n",
        "print(f\"{num} X 8 = {num*8}\")\n",
        "print(f\"{num} X 9 = {num*9}\")"
      ],
      "metadata": {
        "colab": {
          "base_uri": "https://localhost:8080/"
        },
        "id": "1d4B3eBqxDxz",
        "outputId": "a4e503c3-6c63-4bde-c740-2e30636538ef"
      },
      "execution_count": null,
      "outputs": [
        {
          "output_type": "stream",
          "name": "stdout",
          "text": [
            "9 X 1 = 9\n",
            "9 X 2 = 18\n",
            "9 X 3 = 27\n",
            "9 X 4 = 36\n",
            "9 X 5 = 45\n",
            "9 X 6 = 54\n",
            "9 X 7 = 63\n",
            "9 X 8 = 72\n",
            "9 X 9 = 81\n"
          ]
        }
      ]
    },
    {
      "cell_type": "markdown",
      "source": [
        "## 문자열 메소드 \n",
        "- 파이썬에는 문자열을 다루기 위한 다양한 메소드가 있다.\n"
      ],
      "metadata": {
        "id": "H5Vvga-Vxfde"
      }
    },
    {
      "cell_type": "markdown",
      "source": [
        "- 대/소문자화 하기"
      ],
      "metadata": {
        "id": "I1fZL1X2zn52"
      }
    },
    {
      "cell_type": "code",
      "source": [
        "text = \"Hello Python\"\n",
        "text.upper() # 모든 문자를 대문자로 변경"
      ],
      "metadata": {
        "colab": {
          "base_uri": "https://localhost:8080/",
          "height": 35
        },
        "id": "D-rQ8sUuzyjy",
        "outputId": "fecc0e50-14bc-40a7-b9c0-4ca455c9b50a"
      },
      "execution_count": null,
      "outputs": [
        {
          "output_type": "execute_result",
          "data": {
            "text/plain": [
              "'HELLO PYTHON'"
            ],
            "application/vnd.google.colaboratory.intrinsic+json": {
              "type": "string"
            }
          },
          "metadata": {},
          "execution_count": 71
        }
      ]
    },
    {
      "cell_type": "code",
      "source": [
        "text.lower() # 모든 문자를 소문자로 변경"
      ],
      "metadata": {
        "colab": {
          "base_uri": "https://localhost:8080/",
          "height": 35
        },
        "id": "1B8i6VfFz7rm",
        "outputId": "99c9fe2e-3e13-4362-d906-4327016ea345"
      },
      "execution_count": null,
      "outputs": [
        {
          "output_type": "execute_result",
          "data": {
            "text/plain": [
              "'hello python'"
            ],
            "application/vnd.google.colaboratory.intrinsic+json": {
              "type": "string"
            }
          },
          "metadata": {},
          "execution_count": 72
        }
      ]
    },
    {
      "cell_type": "markdown",
      "source": [
        "- 문자열 치환\n",
        "    - 치환 : A라는 문자열을 B라는 문자열로 바꾸는것\n",
        "(`replace`)"
      ],
      "metadata": {
        "id": "Y4W8-qUp0Gcg"
      }
    },
    {
      "cell_type": "code",
      "source": [
        "text.replace(\"P\", \"C\") # 첫번째 인자에 매칭되는 모든 문자열을 두번째 인자의 문자열로 변경한다."
      ],
      "metadata": {
        "colab": {
          "base_uri": "https://localhost:8080/",
          "height": 35
        },
        "id": "3nUk4Tkp0pK-",
        "outputId": "c4245515-b019-44d9-97e2-b3626153bd3d"
      },
      "execution_count": null,
      "outputs": [
        {
          "output_type": "execute_result",
          "data": {
            "text/plain": [
              "'Hello Cython'"
            ],
            "application/vnd.google.colaboratory.intrinsic+json": {
              "type": "string"
            }
          },
          "metadata": {},
          "execution_count": 74
        }
      ]
    },
    {
      "cell_type": "code",
      "source": [
        "text.replace(\"Hello\", \"Bye\")"
      ],
      "metadata": {
        "colab": {
          "base_uri": "https://localhost:8080/",
          "height": 35
        },
        "id": "FMUizFsX03to",
        "outputId": "e4e93142-e6e6-46c7-9d46-a69ae8a233f0"
      },
      "execution_count": null,
      "outputs": [
        {
          "output_type": "execute_result",
          "data": {
            "text/plain": [
              "'Bye Python'"
            ],
            "application/vnd.google.colaboratory.intrinsic+json": {
              "type": "string"
            }
          },
          "metadata": {},
          "execution_count": 76
        }
      ]
    },
    {
      "cell_type": "code",
      "source": [
        "text.replace(\" \",\"-\")"
      ],
      "metadata": {
        "colab": {
          "base_uri": "https://localhost:8080/",
          "height": 35
        },
        "id": "YTURLC_U1Pc1",
        "outputId": "5cc67c1b-7880-489b-b2d8-1c58b49024b7"
      },
      "execution_count": null,
      "outputs": [
        {
          "output_type": "execute_result",
          "data": {
            "text/plain": [
              "'Hello-Python'"
            ],
            "application/vnd.google.colaboratory.intrinsic+json": {
              "type": "string"
            }
          },
          "metadata": {},
          "execution_count": 77
        }
      ]
    },
    {
      "cell_type": "markdown",
      "source": [
        "## 문자열 분리(`split`)하기\n",
        "- 특정 구분자를 이용해서 문자열을 분리하여 리스트로 반환한다."
      ],
      "metadata": {
        "id": "4Sd6vnNS1rhQ"
      }
    },
    {
      "cell_type": "code",
      "source": [
        "text = \"날이 너무 더워서 힘드네요. 내일은 시원 했으면 좋겠습니다.\"\n",
        "text.split()"
      ],
      "metadata": {
        "colab": {
          "base_uri": "https://localhost:8080/"
        },
        "id": "i19FgAUg2KrG",
        "outputId": "75801d52-d3fc-439e-abc7-703974b81381"
      },
      "execution_count": null,
      "outputs": [
        {
          "output_type": "execute_result",
          "data": {
            "text/plain": [
              "['날이', '너무', '더워서', '힘드네요.', '내일은', '시원', '했으면', '좋겠습니다.']"
            ]
          },
          "metadata": {},
          "execution_count": 78
        }
      ]
    },
    {
      "cell_type": "code",
      "source": [
        "text = \"         오늘 하루 너무 행복하다. \"\n",
        "result = text.split() # 공백만 있거나 비어있는 문자열일 경우 리스트에 포함 X\n",
        "result"
      ],
      "metadata": {
        "colab": {
          "base_uri": "https://localhost:8080/"
        },
        "id": "7ZgmVxLr2YUd",
        "outputId": "b7527e8e-42f6-4c36-8017-9d7dce9eb292"
      },
      "execution_count": null,
      "outputs": [
        {
          "output_type": "execute_result",
          "data": {
            "text/plain": [
              "['오늘', '하루', '너무', '행복하다.']"
            ]
          },
          "metadata": {},
          "execution_count": 82
        }
      ]
    },
    {
      "cell_type": "code",
      "source": [
        "text = \"#8시간#하루종일#파이썬#하고있음\"\n",
        "result = text.split(\"#\") # 기준값을 줄경우 다음과 같이 비어있는 문자도 리스트에 포함됨\n",
        "result"
      ],
      "metadata": {
        "colab": {
          "base_uri": "https://localhost:8080/"
        },
        "id": "Rf4UIzbs21il",
        "outputId": "b0df4948-654e-4b70-8820-3f3fa102d053"
      },
      "execution_count": null,
      "outputs": [
        {
          "output_type": "execute_result",
          "data": {
            "text/plain": [
              "['', '8시간', '하루종일', '파이썬', '하고있음']"
            ]
          },
          "metadata": {},
          "execution_count": 87
        }
      ]
    },
    {
      "cell_type": "code",
      "source": [
        "result[1:]"
      ],
      "metadata": {
        "colab": {
          "base_uri": "https://localhost:8080/"
        },
        "id": "5M1iYY_G3Uy0",
        "outputId": "2e3bf17f-7cb1-43ef-d919-1872b61efc7c"
      },
      "execution_count": null,
      "outputs": [
        {
          "output_type": "execute_result",
          "data": {
            "text/plain": [
              "['8시간', '하루종일', '파이썬', '하고있음']"
            ]
          },
          "metadata": {},
          "execution_count": 88
        }
      ]
    },
    {
      "cell_type": "markdown",
      "source": [
        "- 문자열의 좌/우 공백 제거(`strip`)"
      ],
      "metadata": {
        "id": "MKh5Sq0P32rx"
      }
    },
    {
      "cell_type": "code",
      "source": [
        "text = \"          오늘    하루  너무    행복하다\\n\\n\\n\\n\\n\\n\\n\\n\"\n",
        "print(text)"
      ],
      "metadata": {
        "colab": {
          "base_uri": "https://localhost:8080/"
        },
        "id": "9OYOvSgH4Qq0",
        "outputId": "99613fa5-3ac3-43c9-991b-14902f97b131"
      },
      "execution_count": null,
      "outputs": [
        {
          "output_type": "stream",
          "name": "stdout",
          "text": [
            "          오늘    하루  너무    행복하다\n",
            "\n",
            "\n",
            "\n",
            "\n",
            "\n",
            "\n",
            "\n",
            "\n"
          ]
        }
      ]
    },
    {
      "cell_type": "code",
      "source": [
        "print(text.strip())"
      ],
      "metadata": {
        "colab": {
          "base_uri": "https://localhost:8080/"
        },
        "id": "QCg7insw4cZn",
        "outputId": "2c644580-fe83-4beb-aebb-3ef91c2a2e35"
      },
      "execution_count": null,
      "outputs": [
        {
          "output_type": "stream",
          "name": "stdout",
          "text": [
            "오늘    하루  너무    행복하다\n"
          ]
        }
      ]
    },
    {
      "cell_type": "code",
      "source": [
        "print(text.rstrip()) #오른쪽 공백 제거 "
      ],
      "metadata": {
        "colab": {
          "base_uri": "https://localhost:8080/"
        },
        "id": "kmRjkG154kfl",
        "outputId": "9d7f516a-1658-4910-9ff9-8736250b1f1e"
      },
      "execution_count": null,
      "outputs": [
        {
          "output_type": "stream",
          "name": "stdout",
          "text": [
            "          오늘    하루  너무    행복하다\n"
          ]
        }
      ]
    },
    {
      "cell_type": "markdown",
      "source": [
        "- 문자열 합치기(`join`)\n",
        "    - `split` 반대 개념\n",
        "    - 특정 문자열을 기준으로 리스트에 들어있는 문자열들을 합쳐주는 역할\n",
        "    "
      ],
      "metadata": {
        "id": "02sR8Zpv4ube"
      }
    },
    {
      "cell_type": "code",
      "source": [
        "text = \"오늘 하루 너무 행복하다\"\n",
        "result = text.split()\n",
        "result"
      ],
      "metadata": {
        "colab": {
          "base_uri": "https://localhost:8080/"
        },
        "id": "EbdyNn_f8tHB",
        "outputId": "1386e127-2005-4dc1-c010-005a22857bcc"
      },
      "execution_count": null,
      "outputs": [
        {
          "output_type": "execute_result",
          "data": {
            "text/plain": [
              "['오늘', '하루', '너무', '행복하다']"
            ]
          },
          "metadata": {},
          "execution_count": 94
        }
      ]
    },
    {
      "cell_type": "code",
      "source": [
        "\"#\"+\"#\".join(result) # 인자값으로 리스트같은 자료형을 넣어주면 된다."
      ],
      "metadata": {
        "colab": {
          "base_uri": "https://localhost:8080/",
          "height": 35
        },
        "id": "1LJCm2mB889m",
        "outputId": "02367eef-692b-4e99-9ed0-8290663e8b6b"
      },
      "execution_count": null,
      "outputs": [
        {
          "output_type": "execute_result",
          "data": {
            "text/plain": [
              "'#오늘#하루#너무#행복하다'"
            ],
            "application/vnd.google.colaboratory.intrinsic+json": {
              "type": "string"
            }
          },
          "metadata": {},
          "execution_count": 99
        }
      ]
    },
    {
      "cell_type": "markdown",
      "source": [
        "- 특정 문자열로 시작하는지에 대한 여부 반환(`startswith`)"
      ],
      "metadata": {
        "id": "GHIdAKTY96FR"
      }
    },
    {
      "cell_type": "code",
      "source": [
        "text = \"이제는 날이 점점 더워지는 것 같아요.\"\n",
        "text.startswith(\"이제는\")  # 이 텍스트가 \"이제는\" 이라는 문자열로 시작하는지"
      ],
      "metadata": {
        "colab": {
          "base_uri": "https://localhost:8080/"
        },
        "id": "demy9XlZ-IHd",
        "outputId": "f63c100d-ffcd-49a8-c8d0-e0fc669c8fed"
      },
      "execution_count": null,
      "outputs": [
        {
          "output_type": "execute_result",
          "data": {
            "text/plain": [
              "True"
            ]
          },
          "metadata": {},
          "execution_count": 104
        }
      ]
    },
    {
      "cell_type": "markdown",
      "source": [
        "- 특정 문자열로 끝나는지에 대한 여부 반환(`endswith`)"
      ],
      "metadata": {
        "id": "VSmJddjP-Uvd"
      }
    },
    {
      "cell_type": "code",
      "source": [
        "str_list = [\"오늘은 몇일 입니까?\", \"파이썬 쉽다\", \"내일 만나요...\", \"주말에 복습하실꺼죠?\"]\n",
        "str_list"
      ],
      "metadata": {
        "colab": {
          "base_uri": "https://localhost:8080/"
        },
        "id": "o-I2Z3Au-rss",
        "outputId": "84c3190f-0203-43c5-e22e-c4a2fcb2e9ed"
      },
      "execution_count": null,
      "outputs": [
        {
          "output_type": "execute_result",
          "data": {
            "text/plain": [
              "['오늘은 몇일 입니까?', '파이썬 쉽다', '내일 만나요...', '주말에 복습하실꺼죠?']"
            ]
          },
          "metadata": {},
          "execution_count": 105
        }
      ]
    },
    {
      "cell_type": "code",
      "source": [
        "print(str_list[0].endswith(\"?\"))\n",
        "print(str_list[1].endswith(\"?\"))\n",
        "print(str_list[2].endswith(\"?\"))\n",
        "print(str_list[3].endswith(\"?\"))"
      ],
      "metadata": {
        "colab": {
          "base_uri": "https://localhost:8080/"
        },
        "id": "MX_Uoiw1_IEr",
        "outputId": "acc4427d-f0e7-430c-86ac-79b4e61573c9"
      },
      "execution_count": null,
      "outputs": [
        {
          "output_type": "stream",
          "name": "stdout",
          "text": [
            "True\n",
            "False\n",
            "False\n",
            "True\n"
          ]
        }
      ]
    },
    {
      "cell_type": "code",
      "source": [
        "text = \"이제는 날이 점점 더워지는 것 같아요.\"\n",
        "text.count(\"이\")"
      ],
      "metadata": {
        "colab": {
          "base_uri": "https://localhost:8080/"
        },
        "id": "PzxjhyDl_RGt",
        "outputId": "33a1c856-bd57-434e-97ef-3bcb75012f64"
      },
      "execution_count": null,
      "outputs": [
        {
          "output_type": "execute_result",
          "data": {
            "text/plain": [
              "2"
            ]
          },
          "metadata": {},
          "execution_count": 109
        }
      ]
    },
    {
      "cell_type": "markdown",
      "source": [
        "- 문자열의 앞을 지정한 길이로 0으로 채우기(`zfill`)"
      ],
      "metadata": {
        "id": "kPC6DL9L_8Mg"
      }
    },
    {
      "cell_type": "code",
      "source": [
        "a = \"1\""
      ],
      "metadata": {
        "id": "15HutSJ1AXef"
      },
      "execution_count": null,
      "outputs": []
    },
    {
      "cell_type": "code",
      "source": [
        "a.zfill(5)"
      ],
      "metadata": {
        "id": "6HOWXyQwAdNT",
        "outputId": "5c7ef083-5d40-4da6-a542-394f45b51d4b",
        "colab": {
          "base_uri": "https://localhost:8080/",
          "height": 35
        }
      },
      "execution_count": null,
      "outputs": [
        {
          "output_type": "execute_result",
          "data": {
            "text/plain": [
              "'00001'"
            ],
            "application/vnd.google.colaboratory.intrinsic+json": {
              "type": "string"
            }
          },
          "metadata": {},
          "execution_count": 111
        }
      ]
    },
    {
      "cell_type": "code",
      "source": [],
      "metadata": {
        "id": "Hkt9qR5wAhg1"
      },
      "execution_count": null,
      "outputs": []
    }
  ],
  "metadata": {
    "colab": {
      "provenance": [],
      "toc_visible": true,
      "authorship_tag": "ABX9TyNzByRIqpHJSTgpsTMY6hdg",
      "include_colab_link": true
    },
    "kernelspec": {
      "display_name": "Python 3",
      "name": "python3"
    },
    "language_info": {
      "name": "python"
    }
  },
  "nbformat": 4,
  "nbformat_minor": 0
}