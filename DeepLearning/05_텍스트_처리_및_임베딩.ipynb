{
  "nbformat": 4,
  "nbformat_minor": 0,
  "metadata": {
    "colab": {
      "provenance": [],
      "authorship_tag": "ABX9TyMzKdHPiWErgDAcjTeKYMBA",
      "include_colab_link": true
    },
    "kernelspec": {
      "name": "python3",
      "display_name": "Python 3"
    },
    "language_info": {
      "name": "python"
    },
    "widgets": {
      "application/vnd.jupyter.widget-state+json": {
        "e213d6101ecf4643aa967a7099d1a541": {
          "model_module": "@jupyter-widgets/controls",
          "model_name": "HBoxModel",
          "model_module_version": "1.5.0",
          "state": {
            "_dom_classes": [],
            "_model_module": "@jupyter-widgets/controls",
            "_model_module_version": "1.5.0",
            "_model_name": "HBoxModel",
            "_view_count": null,
            "_view_module": "@jupyter-widgets/controls",
            "_view_module_version": "1.5.0",
            "_view_name": "HBoxView",
            "box_style": "",
            "children": [
              "IPY_MODEL_9b7c7e549af8425d93f1006aaa7446aa",
              "IPY_MODEL_9aa6eed32d2447bfa148070e5c5b4f91",
              "IPY_MODEL_2dd3e058e7f149f2aca893919398dbd9"
            ],
            "layout": "IPY_MODEL_9b64dbd08b724cf7988850e7a54aed5e"
          }
        },
        "9b7c7e549af8425d93f1006aaa7446aa": {
          "model_module": "@jupyter-widgets/controls",
          "model_name": "HTMLModel",
          "model_module_version": "1.5.0",
          "state": {
            "_dom_classes": [],
            "_model_module": "@jupyter-widgets/controls",
            "_model_module_version": "1.5.0",
            "_model_name": "HTMLModel",
            "_view_count": null,
            "_view_module": "@jupyter-widgets/controls",
            "_view_module_version": "1.5.0",
            "_view_name": "HTMLView",
            "description": "",
            "description_tooltip": null,
            "layout": "IPY_MODEL_321231f0273f416594ce8514d6e2d6f4",
            "placeholder": "​",
            "style": "IPY_MODEL_c206ac6479644aac803a44c0cad6cda5",
            "value": "  5%"
          }
        },
        "9aa6eed32d2447bfa148070e5c5b4f91": {
          "model_module": "@jupyter-widgets/controls",
          "model_name": "FloatProgressModel",
          "model_module_version": "1.5.0",
          "state": {
            "_dom_classes": [],
            "_model_module": "@jupyter-widgets/controls",
            "_model_module_version": "1.5.0",
            "_model_name": "FloatProgressModel",
            "_view_count": null,
            "_view_module": "@jupyter-widgets/controls",
            "_view_module_version": "1.5.0",
            "_view_name": "ProgressView",
            "bar_style": "danger",
            "description": "",
            "description_tooltip": null,
            "layout": "IPY_MODEL_a58ff667f2984238b589ac25a5876f70",
            "max": 100,
            "min": 0,
            "orientation": "horizontal",
            "style": "IPY_MODEL_f7b863cf0e9b4b398b5bda58b5b636b1",
            "value": 5
          }
        },
        "2dd3e058e7f149f2aca893919398dbd9": {
          "model_module": "@jupyter-widgets/controls",
          "model_name": "HTMLModel",
          "model_module_version": "1.5.0",
          "state": {
            "_dom_classes": [],
            "_model_module": "@jupyter-widgets/controls",
            "_model_module_version": "1.5.0",
            "_model_name": "HTMLModel",
            "_view_count": null,
            "_view_module": "@jupyter-widgets/controls",
            "_view_module_version": "1.5.0",
            "_view_name": "HTMLView",
            "description": "",
            "description_tooltip": null,
            "layout": "IPY_MODEL_7fe0c4e630a74ddd9928acb0cc10132b",
            "placeholder": "​",
            "style": "IPY_MODEL_58aad59815074d56a83828d54a714a6e",
            "value": " 5/100 [00:11&lt;03:04,  1.94s/it]"
          }
        },
        "9b64dbd08b724cf7988850e7a54aed5e": {
          "model_module": "@jupyter-widgets/base",
          "model_name": "LayoutModel",
          "model_module_version": "1.2.0",
          "state": {
            "_model_module": "@jupyter-widgets/base",
            "_model_module_version": "1.2.0",
            "_model_name": "LayoutModel",
            "_view_count": null,
            "_view_module": "@jupyter-widgets/base",
            "_view_module_version": "1.2.0",
            "_view_name": "LayoutView",
            "align_content": null,
            "align_items": null,
            "align_self": null,
            "border": null,
            "bottom": null,
            "display": null,
            "flex": null,
            "flex_flow": null,
            "grid_area": null,
            "grid_auto_columns": null,
            "grid_auto_flow": null,
            "grid_auto_rows": null,
            "grid_column": null,
            "grid_gap": null,
            "grid_row": null,
            "grid_template_areas": null,
            "grid_template_columns": null,
            "grid_template_rows": null,
            "height": null,
            "justify_content": null,
            "justify_items": null,
            "left": null,
            "margin": null,
            "max_height": null,
            "max_width": null,
            "min_height": null,
            "min_width": null,
            "object_fit": null,
            "object_position": null,
            "order": null,
            "overflow": null,
            "overflow_x": null,
            "overflow_y": null,
            "padding": null,
            "right": null,
            "top": null,
            "visibility": null,
            "width": null
          }
        },
        "321231f0273f416594ce8514d6e2d6f4": {
          "model_module": "@jupyter-widgets/base",
          "model_name": "LayoutModel",
          "model_module_version": "1.2.0",
          "state": {
            "_model_module": "@jupyter-widgets/base",
            "_model_module_version": "1.2.0",
            "_model_name": "LayoutModel",
            "_view_count": null,
            "_view_module": "@jupyter-widgets/base",
            "_view_module_version": "1.2.0",
            "_view_name": "LayoutView",
            "align_content": null,
            "align_items": null,
            "align_self": null,
            "border": null,
            "bottom": null,
            "display": null,
            "flex": null,
            "flex_flow": null,
            "grid_area": null,
            "grid_auto_columns": null,
            "grid_auto_flow": null,
            "grid_auto_rows": null,
            "grid_column": null,
            "grid_gap": null,
            "grid_row": null,
            "grid_template_areas": null,
            "grid_template_columns": null,
            "grid_template_rows": null,
            "height": null,
            "justify_content": null,
            "justify_items": null,
            "left": null,
            "margin": null,
            "max_height": null,
            "max_width": null,
            "min_height": null,
            "min_width": null,
            "object_fit": null,
            "object_position": null,
            "order": null,
            "overflow": null,
            "overflow_x": null,
            "overflow_y": null,
            "padding": null,
            "right": null,
            "top": null,
            "visibility": null,
            "width": null
          }
        },
        "c206ac6479644aac803a44c0cad6cda5": {
          "model_module": "@jupyter-widgets/controls",
          "model_name": "DescriptionStyleModel",
          "model_module_version": "1.5.0",
          "state": {
            "_model_module": "@jupyter-widgets/controls",
            "_model_module_version": "1.5.0",
            "_model_name": "DescriptionStyleModel",
            "_view_count": null,
            "_view_module": "@jupyter-widgets/base",
            "_view_module_version": "1.2.0",
            "_view_name": "StyleView",
            "description_width": ""
          }
        },
        "a58ff667f2984238b589ac25a5876f70": {
          "model_module": "@jupyter-widgets/base",
          "model_name": "LayoutModel",
          "model_module_version": "1.2.0",
          "state": {
            "_model_module": "@jupyter-widgets/base",
            "_model_module_version": "1.2.0",
            "_model_name": "LayoutModel",
            "_view_count": null,
            "_view_module": "@jupyter-widgets/base",
            "_view_module_version": "1.2.0",
            "_view_name": "LayoutView",
            "align_content": null,
            "align_items": null,
            "align_self": null,
            "border": null,
            "bottom": null,
            "display": null,
            "flex": null,
            "flex_flow": null,
            "grid_area": null,
            "grid_auto_columns": null,
            "grid_auto_flow": null,
            "grid_auto_rows": null,
            "grid_column": null,
            "grid_gap": null,
            "grid_row": null,
            "grid_template_areas": null,
            "grid_template_columns": null,
            "grid_template_rows": null,
            "height": null,
            "justify_content": null,
            "justify_items": null,
            "left": null,
            "margin": null,
            "max_height": null,
            "max_width": null,
            "min_height": null,
            "min_width": null,
            "object_fit": null,
            "object_position": null,
            "order": null,
            "overflow": null,
            "overflow_x": null,
            "overflow_y": null,
            "padding": null,
            "right": null,
            "top": null,
            "visibility": null,
            "width": null
          }
        },
        "f7b863cf0e9b4b398b5bda58b5b636b1": {
          "model_module": "@jupyter-widgets/controls",
          "model_name": "ProgressStyleModel",
          "model_module_version": "1.5.0",
          "state": {
            "_model_module": "@jupyter-widgets/controls",
            "_model_module_version": "1.5.0",
            "_model_name": "ProgressStyleModel",
            "_view_count": null,
            "_view_module": "@jupyter-widgets/base",
            "_view_module_version": "1.2.0",
            "_view_name": "StyleView",
            "bar_color": null,
            "description_width": ""
          }
        },
        "7fe0c4e630a74ddd9928acb0cc10132b": {
          "model_module": "@jupyter-widgets/base",
          "model_name": "LayoutModel",
          "model_module_version": "1.2.0",
          "state": {
            "_model_module": "@jupyter-widgets/base",
            "_model_module_version": "1.2.0",
            "_model_name": "LayoutModel",
            "_view_count": null,
            "_view_module": "@jupyter-widgets/base",
            "_view_module_version": "1.2.0",
            "_view_name": "LayoutView",
            "align_content": null,
            "align_items": null,
            "align_self": null,
            "border": null,
            "bottom": null,
            "display": null,
            "flex": null,
            "flex_flow": null,
            "grid_area": null,
            "grid_auto_columns": null,
            "grid_auto_flow": null,
            "grid_auto_rows": null,
            "grid_column": null,
            "grid_gap": null,
            "grid_row": null,
            "grid_template_areas": null,
            "grid_template_columns": null,
            "grid_template_rows": null,
            "height": null,
            "justify_content": null,
            "justify_items": null,
            "left": null,
            "margin": null,
            "max_height": null,
            "max_width": null,
            "min_height": null,
            "min_width": null,
            "object_fit": null,
            "object_position": null,
            "order": null,
            "overflow": null,
            "overflow_x": null,
            "overflow_y": null,
            "padding": null,
            "right": null,
            "top": null,
            "visibility": null,
            "width": null
          }
        },
        "58aad59815074d56a83828d54a714a6e": {
          "model_module": "@jupyter-widgets/controls",
          "model_name": "DescriptionStyleModel",
          "model_module_version": "1.5.0",
          "state": {
            "_model_module": "@jupyter-widgets/controls",
            "_model_module_version": "1.5.0",
            "_model_name": "DescriptionStyleModel",
            "_view_count": null,
            "_view_module": "@jupyter-widgets/base",
            "_view_module_version": "1.2.0",
            "_view_name": "StyleView",
            "description_width": ""
          }
        },
        "45a4d0d014214e4d8f683a010f0518b9": {
          "model_module": "@jupyter-widgets/controls",
          "model_name": "HBoxModel",
          "model_module_version": "1.5.0",
          "state": {
            "_dom_classes": [],
            "_model_module": "@jupyter-widgets/controls",
            "_model_module_version": "1.5.0",
            "_model_name": "HBoxModel",
            "_view_count": null,
            "_view_module": "@jupyter-widgets/controls",
            "_view_module_version": "1.5.0",
            "_view_name": "HBoxView",
            "box_style": "",
            "children": [
              "IPY_MODEL_5def698c12644f9c8dfc665e977e7126",
              "IPY_MODEL_cc81dc28166c444ca90b78871cb11d2c",
              "IPY_MODEL_7c8e277892b14e24ba19f2cf62647d32"
            ],
            "layout": "IPY_MODEL_d6abb274cfd8421aa3b75ec5122ff31b"
          }
        },
        "5def698c12644f9c8dfc665e977e7126": {
          "model_module": "@jupyter-widgets/controls",
          "model_name": "HTMLModel",
          "model_module_version": "1.5.0",
          "state": {
            "_dom_classes": [],
            "_model_module": "@jupyter-widgets/controls",
            "_model_module_version": "1.5.0",
            "_model_name": "HTMLModel",
            "_view_count": null,
            "_view_module": "@jupyter-widgets/controls",
            "_view_module_version": "1.5.0",
            "_view_name": "HTMLView",
            "description": "",
            "description_tooltip": null,
            "layout": "IPY_MODEL_05be870c49814607a023d3fad553aebb",
            "placeholder": "​",
            "style": "IPY_MODEL_a2d4f44938b142f3b1d4cdcfbb033fb5",
            "value": "  5%"
          }
        },
        "cc81dc28166c444ca90b78871cb11d2c": {
          "model_module": "@jupyter-widgets/controls",
          "model_name": "FloatProgressModel",
          "model_module_version": "1.5.0",
          "state": {
            "_dom_classes": [],
            "_model_module": "@jupyter-widgets/controls",
            "_model_module_version": "1.5.0",
            "_model_name": "FloatProgressModel",
            "_view_count": null,
            "_view_module": "@jupyter-widgets/controls",
            "_view_module_version": "1.5.0",
            "_view_name": "ProgressView",
            "bar_style": "danger",
            "description": "",
            "description_tooltip": null,
            "layout": "IPY_MODEL_8665abddcad345528e1cd78fb5cc6739",
            "max": 100,
            "min": 0,
            "orientation": "horizontal",
            "style": "IPY_MODEL_132010e9e90c4eeba42cc0188f839d21",
            "value": 5
          }
        },
        "7c8e277892b14e24ba19f2cf62647d32": {
          "model_module": "@jupyter-widgets/controls",
          "model_name": "HTMLModel",
          "model_module_version": "1.5.0",
          "state": {
            "_dom_classes": [],
            "_model_module": "@jupyter-widgets/controls",
            "_model_module_version": "1.5.0",
            "_model_name": "HTMLModel",
            "_view_count": null,
            "_view_module": "@jupyter-widgets/controls",
            "_view_module_version": "1.5.0",
            "_view_name": "HTMLView",
            "description": "",
            "description_tooltip": null,
            "layout": "IPY_MODEL_c8c88491a98c4f3696f6d411c22620aa",
            "placeholder": "​",
            "style": "IPY_MODEL_27b45de6a52d43819213ea9c700fa978",
            "value": " 5/100 [00:08&lt;02:17,  1.45s/it]"
          }
        },
        "d6abb274cfd8421aa3b75ec5122ff31b": {
          "model_module": "@jupyter-widgets/base",
          "model_name": "LayoutModel",
          "model_module_version": "1.2.0",
          "state": {
            "_model_module": "@jupyter-widgets/base",
            "_model_module_version": "1.2.0",
            "_model_name": "LayoutModel",
            "_view_count": null,
            "_view_module": "@jupyter-widgets/base",
            "_view_module_version": "1.2.0",
            "_view_name": "LayoutView",
            "align_content": null,
            "align_items": null,
            "align_self": null,
            "border": null,
            "bottom": null,
            "display": null,
            "flex": null,
            "flex_flow": null,
            "grid_area": null,
            "grid_auto_columns": null,
            "grid_auto_flow": null,
            "grid_auto_rows": null,
            "grid_column": null,
            "grid_gap": null,
            "grid_row": null,
            "grid_template_areas": null,
            "grid_template_columns": null,
            "grid_template_rows": null,
            "height": null,
            "justify_content": null,
            "justify_items": null,
            "left": null,
            "margin": null,
            "max_height": null,
            "max_width": null,
            "min_height": null,
            "min_width": null,
            "object_fit": null,
            "object_position": null,
            "order": null,
            "overflow": null,
            "overflow_x": null,
            "overflow_y": null,
            "padding": null,
            "right": null,
            "top": null,
            "visibility": null,
            "width": null
          }
        },
        "05be870c49814607a023d3fad553aebb": {
          "model_module": "@jupyter-widgets/base",
          "model_name": "LayoutModel",
          "model_module_version": "1.2.0",
          "state": {
            "_model_module": "@jupyter-widgets/base",
            "_model_module_version": "1.2.0",
            "_model_name": "LayoutModel",
            "_view_count": null,
            "_view_module": "@jupyter-widgets/base",
            "_view_module_version": "1.2.0",
            "_view_name": "LayoutView",
            "align_content": null,
            "align_items": null,
            "align_self": null,
            "border": null,
            "bottom": null,
            "display": null,
            "flex": null,
            "flex_flow": null,
            "grid_area": null,
            "grid_auto_columns": null,
            "grid_auto_flow": null,
            "grid_auto_rows": null,
            "grid_column": null,
            "grid_gap": null,
            "grid_row": null,
            "grid_template_areas": null,
            "grid_template_columns": null,
            "grid_template_rows": null,
            "height": null,
            "justify_content": null,
            "justify_items": null,
            "left": null,
            "margin": null,
            "max_height": null,
            "max_width": null,
            "min_height": null,
            "min_width": null,
            "object_fit": null,
            "object_position": null,
            "order": null,
            "overflow": null,
            "overflow_x": null,
            "overflow_y": null,
            "padding": null,
            "right": null,
            "top": null,
            "visibility": null,
            "width": null
          }
        },
        "a2d4f44938b142f3b1d4cdcfbb033fb5": {
          "model_module": "@jupyter-widgets/controls",
          "model_name": "DescriptionStyleModel",
          "model_module_version": "1.5.0",
          "state": {
            "_model_module": "@jupyter-widgets/controls",
            "_model_module_version": "1.5.0",
            "_model_name": "DescriptionStyleModel",
            "_view_count": null,
            "_view_module": "@jupyter-widgets/base",
            "_view_module_version": "1.2.0",
            "_view_name": "StyleView",
            "description_width": ""
          }
        },
        "8665abddcad345528e1cd78fb5cc6739": {
          "model_module": "@jupyter-widgets/base",
          "model_name": "LayoutModel",
          "model_module_version": "1.2.0",
          "state": {
            "_model_module": "@jupyter-widgets/base",
            "_model_module_version": "1.2.0",
            "_model_name": "LayoutModel",
            "_view_count": null,
            "_view_module": "@jupyter-widgets/base",
            "_view_module_version": "1.2.0",
            "_view_name": "LayoutView",
            "align_content": null,
            "align_items": null,
            "align_self": null,
            "border": null,
            "bottom": null,
            "display": null,
            "flex": null,
            "flex_flow": null,
            "grid_area": null,
            "grid_auto_columns": null,
            "grid_auto_flow": null,
            "grid_auto_rows": null,
            "grid_column": null,
            "grid_gap": null,
            "grid_row": null,
            "grid_template_areas": null,
            "grid_template_columns": null,
            "grid_template_rows": null,
            "height": null,
            "justify_content": null,
            "justify_items": null,
            "left": null,
            "margin": null,
            "max_height": null,
            "max_width": null,
            "min_height": null,
            "min_width": null,
            "object_fit": null,
            "object_position": null,
            "order": null,
            "overflow": null,
            "overflow_x": null,
            "overflow_y": null,
            "padding": null,
            "right": null,
            "top": null,
            "visibility": null,
            "width": null
          }
        },
        "132010e9e90c4eeba42cc0188f839d21": {
          "model_module": "@jupyter-widgets/controls",
          "model_name": "ProgressStyleModel",
          "model_module_version": "1.5.0",
          "state": {
            "_model_module": "@jupyter-widgets/controls",
            "_model_module_version": "1.5.0",
            "_model_name": "ProgressStyleModel",
            "_view_count": null,
            "_view_module": "@jupyter-widgets/base",
            "_view_module_version": "1.2.0",
            "_view_name": "StyleView",
            "bar_color": null,
            "description_width": ""
          }
        },
        "c8c88491a98c4f3696f6d411c22620aa": {
          "model_module": "@jupyter-widgets/base",
          "model_name": "LayoutModel",
          "model_module_version": "1.2.0",
          "state": {
            "_model_module": "@jupyter-widgets/base",
            "_model_module_version": "1.2.0",
            "_model_name": "LayoutModel",
            "_view_count": null,
            "_view_module": "@jupyter-widgets/base",
            "_view_module_version": "1.2.0",
            "_view_name": "LayoutView",
            "align_content": null,
            "align_items": null,
            "align_self": null,
            "border": null,
            "bottom": null,
            "display": null,
            "flex": null,
            "flex_flow": null,
            "grid_area": null,
            "grid_auto_columns": null,
            "grid_auto_flow": null,
            "grid_auto_rows": null,
            "grid_column": null,
            "grid_gap": null,
            "grid_row": null,
            "grid_template_areas": null,
            "grid_template_columns": null,
            "grid_template_rows": null,
            "height": null,
            "justify_content": null,
            "justify_items": null,
            "left": null,
            "margin": null,
            "max_height": null,
            "max_width": null,
            "min_height": null,
            "min_width": null,
            "object_fit": null,
            "object_position": null,
            "order": null,
            "overflow": null,
            "overflow_x": null,
            "overflow_y": null,
            "padding": null,
            "right": null,
            "top": null,
            "visibility": null,
            "width": null
          }
        },
        "27b45de6a52d43819213ea9c700fa978": {
          "model_module": "@jupyter-widgets/controls",
          "model_name": "DescriptionStyleModel",
          "model_module_version": "1.5.0",
          "state": {
            "_model_module": "@jupyter-widgets/controls",
            "_model_module_version": "1.5.0",
            "_model_name": "DescriptionStyleModel",
            "_view_count": null,
            "_view_module": "@jupyter-widgets/base",
            "_view_module_version": "1.2.0",
            "_view_name": "StyleView",
            "description_width": ""
          }
        },
        "021f7d9f485d460f865141d45b26f167": {
          "model_module": "@jupyter-widgets/controls",
          "model_name": "HBoxModel",
          "model_module_version": "1.5.0",
          "state": {
            "_dom_classes": [],
            "_model_module": "@jupyter-widgets/controls",
            "_model_module_version": "1.5.0",
            "_model_name": "HBoxModel",
            "_view_count": null,
            "_view_module": "@jupyter-widgets/controls",
            "_view_module_version": "1.5.0",
            "_view_name": "HBoxView",
            "box_style": "",
            "children": [
              "IPY_MODEL_92a21071c6d74fe9bf6bcec56492b30b",
              "IPY_MODEL_83a466aeb4db41cdb54d2b7401e3bfa8",
              "IPY_MODEL_46f2f8ddea1d4de3ab385b3a5d69bd5b"
            ],
            "layout": "IPY_MODEL_4229e5e9763745dd9049a58cab925723"
          }
        },
        "92a21071c6d74fe9bf6bcec56492b30b": {
          "model_module": "@jupyter-widgets/controls",
          "model_name": "HTMLModel",
          "model_module_version": "1.5.0",
          "state": {
            "_dom_classes": [],
            "_model_module": "@jupyter-widgets/controls",
            "_model_module_version": "1.5.0",
            "_model_name": "HTMLModel",
            "_view_count": null,
            "_view_module": "@jupyter-widgets/controls",
            "_view_module_version": "1.5.0",
            "_view_name": "HTMLView",
            "description": "",
            "description_tooltip": null,
            "layout": "IPY_MODEL_cebede896b5b4c778975f25bcf768ea9",
            "placeholder": "​",
            "style": "IPY_MODEL_4b981b44afed4e73869cdc4af0ffe944",
            "value": "  5%"
          }
        },
        "83a466aeb4db41cdb54d2b7401e3bfa8": {
          "model_module": "@jupyter-widgets/controls",
          "model_name": "FloatProgressModel",
          "model_module_version": "1.5.0",
          "state": {
            "_dom_classes": [],
            "_model_module": "@jupyter-widgets/controls",
            "_model_module_version": "1.5.0",
            "_model_name": "FloatProgressModel",
            "_view_count": null,
            "_view_module": "@jupyter-widgets/controls",
            "_view_module_version": "1.5.0",
            "_view_name": "ProgressView",
            "bar_style": "danger",
            "description": "",
            "description_tooltip": null,
            "layout": "IPY_MODEL_fc86c61f63614cf88de034ac3fd642c2",
            "max": 100,
            "min": 0,
            "orientation": "horizontal",
            "style": "IPY_MODEL_36aa10c6bf40487ea076549788679092",
            "value": 5
          }
        },
        "46f2f8ddea1d4de3ab385b3a5d69bd5b": {
          "model_module": "@jupyter-widgets/controls",
          "model_name": "HTMLModel",
          "model_module_version": "1.5.0",
          "state": {
            "_dom_classes": [],
            "_model_module": "@jupyter-widgets/controls",
            "_model_module_version": "1.5.0",
            "_model_name": "HTMLModel",
            "_view_count": null,
            "_view_module": "@jupyter-widgets/controls",
            "_view_module_version": "1.5.0",
            "_view_name": "HTMLView",
            "description": "",
            "description_tooltip": null,
            "layout": "IPY_MODEL_9aa10cb1117340b79f709b90e0637471",
            "placeholder": "​",
            "style": "IPY_MODEL_6aace5666aa94189a2b1676b1144548f",
            "value": " 5/100 [00:08&lt;02:18,  1.46s/it]"
          }
        },
        "4229e5e9763745dd9049a58cab925723": {
          "model_module": "@jupyter-widgets/base",
          "model_name": "LayoutModel",
          "model_module_version": "1.2.0",
          "state": {
            "_model_module": "@jupyter-widgets/base",
            "_model_module_version": "1.2.0",
            "_model_name": "LayoutModel",
            "_view_count": null,
            "_view_module": "@jupyter-widgets/base",
            "_view_module_version": "1.2.0",
            "_view_name": "LayoutView",
            "align_content": null,
            "align_items": null,
            "align_self": null,
            "border": null,
            "bottom": null,
            "display": null,
            "flex": null,
            "flex_flow": null,
            "grid_area": null,
            "grid_auto_columns": null,
            "grid_auto_flow": null,
            "grid_auto_rows": null,
            "grid_column": null,
            "grid_gap": null,
            "grid_row": null,
            "grid_template_areas": null,
            "grid_template_columns": null,
            "grid_template_rows": null,
            "height": null,
            "justify_content": null,
            "justify_items": null,
            "left": null,
            "margin": null,
            "max_height": null,
            "max_width": null,
            "min_height": null,
            "min_width": null,
            "object_fit": null,
            "object_position": null,
            "order": null,
            "overflow": null,
            "overflow_x": null,
            "overflow_y": null,
            "padding": null,
            "right": null,
            "top": null,
            "visibility": null,
            "width": null
          }
        },
        "cebede896b5b4c778975f25bcf768ea9": {
          "model_module": "@jupyter-widgets/base",
          "model_name": "LayoutModel",
          "model_module_version": "1.2.0",
          "state": {
            "_model_module": "@jupyter-widgets/base",
            "_model_module_version": "1.2.0",
            "_model_name": "LayoutModel",
            "_view_count": null,
            "_view_module": "@jupyter-widgets/base",
            "_view_module_version": "1.2.0",
            "_view_name": "LayoutView",
            "align_content": null,
            "align_items": null,
            "align_self": null,
            "border": null,
            "bottom": null,
            "display": null,
            "flex": null,
            "flex_flow": null,
            "grid_area": null,
            "grid_auto_columns": null,
            "grid_auto_flow": null,
            "grid_auto_rows": null,
            "grid_column": null,
            "grid_gap": null,
            "grid_row": null,
            "grid_template_areas": null,
            "grid_template_columns": null,
            "grid_template_rows": null,
            "height": null,
            "justify_content": null,
            "justify_items": null,
            "left": null,
            "margin": null,
            "max_height": null,
            "max_width": null,
            "min_height": null,
            "min_width": null,
            "object_fit": null,
            "object_position": null,
            "order": null,
            "overflow": null,
            "overflow_x": null,
            "overflow_y": null,
            "padding": null,
            "right": null,
            "top": null,
            "visibility": null,
            "width": null
          }
        },
        "4b981b44afed4e73869cdc4af0ffe944": {
          "model_module": "@jupyter-widgets/controls",
          "model_name": "DescriptionStyleModel",
          "model_module_version": "1.5.0",
          "state": {
            "_model_module": "@jupyter-widgets/controls",
            "_model_module_version": "1.5.0",
            "_model_name": "DescriptionStyleModel",
            "_view_count": null,
            "_view_module": "@jupyter-widgets/base",
            "_view_module_version": "1.2.0",
            "_view_name": "StyleView",
            "description_width": ""
          }
        },
        "fc86c61f63614cf88de034ac3fd642c2": {
          "model_module": "@jupyter-widgets/base",
          "model_name": "LayoutModel",
          "model_module_version": "1.2.0",
          "state": {
            "_model_module": "@jupyter-widgets/base",
            "_model_module_version": "1.2.0",
            "_model_name": "LayoutModel",
            "_view_count": null,
            "_view_module": "@jupyter-widgets/base",
            "_view_module_version": "1.2.0",
            "_view_name": "LayoutView",
            "align_content": null,
            "align_items": null,
            "align_self": null,
            "border": null,
            "bottom": null,
            "display": null,
            "flex": null,
            "flex_flow": null,
            "grid_area": null,
            "grid_auto_columns": null,
            "grid_auto_flow": null,
            "grid_auto_rows": null,
            "grid_column": null,
            "grid_gap": null,
            "grid_row": null,
            "grid_template_areas": null,
            "grid_template_columns": null,
            "grid_template_rows": null,
            "height": null,
            "justify_content": null,
            "justify_items": null,
            "left": null,
            "margin": null,
            "max_height": null,
            "max_width": null,
            "min_height": null,
            "min_width": null,
            "object_fit": null,
            "object_position": null,
            "order": null,
            "overflow": null,
            "overflow_x": null,
            "overflow_y": null,
            "padding": null,
            "right": null,
            "top": null,
            "visibility": null,
            "width": null
          }
        },
        "36aa10c6bf40487ea076549788679092": {
          "model_module": "@jupyter-widgets/controls",
          "model_name": "ProgressStyleModel",
          "model_module_version": "1.5.0",
          "state": {
            "_model_module": "@jupyter-widgets/controls",
            "_model_module_version": "1.5.0",
            "_model_name": "ProgressStyleModel",
            "_view_count": null,
            "_view_module": "@jupyter-widgets/base",
            "_view_module_version": "1.2.0",
            "_view_name": "StyleView",
            "bar_color": null,
            "description_width": ""
          }
        },
        "9aa10cb1117340b79f709b90e0637471": {
          "model_module": "@jupyter-widgets/base",
          "model_name": "LayoutModel",
          "model_module_version": "1.2.0",
          "state": {
            "_model_module": "@jupyter-widgets/base",
            "_model_module_version": "1.2.0",
            "_model_name": "LayoutModel",
            "_view_count": null,
            "_view_module": "@jupyter-widgets/base",
            "_view_module_version": "1.2.0",
            "_view_name": "LayoutView",
            "align_content": null,
            "align_items": null,
            "align_self": null,
            "border": null,
            "bottom": null,
            "display": null,
            "flex": null,
            "flex_flow": null,
            "grid_area": null,
            "grid_auto_columns": null,
            "grid_auto_flow": null,
            "grid_auto_rows": null,
            "grid_column": null,
            "grid_gap": null,
            "grid_row": null,
            "grid_template_areas": null,
            "grid_template_columns": null,
            "grid_template_rows": null,
            "height": null,
            "justify_content": null,
            "justify_items": null,
            "left": null,
            "margin": null,
            "max_height": null,
            "max_width": null,
            "min_height": null,
            "min_width": null,
            "object_fit": null,
            "object_position": null,
            "order": null,
            "overflow": null,
            "overflow_x": null,
            "overflow_y": null,
            "padding": null,
            "right": null,
            "top": null,
            "visibility": null,
            "width": null
          }
        },
        "6aace5666aa94189a2b1676b1144548f": {
          "model_module": "@jupyter-widgets/controls",
          "model_name": "DescriptionStyleModel",
          "model_module_version": "1.5.0",
          "state": {
            "_model_module": "@jupyter-widgets/controls",
            "_model_module_version": "1.5.0",
            "_model_name": "DescriptionStyleModel",
            "_view_count": null,
            "_view_module": "@jupyter-widgets/base",
            "_view_module_version": "1.2.0",
            "_view_name": "StyleView",
            "description_width": ""
          }
        },
        "b628337416c740ec9e312869a4007cf6": {
          "model_module": "@jupyter-widgets/controls",
          "model_name": "HBoxModel",
          "model_module_version": "1.5.0",
          "state": {
            "_dom_classes": [],
            "_model_module": "@jupyter-widgets/controls",
            "_model_module_version": "1.5.0",
            "_model_name": "HBoxModel",
            "_view_count": null,
            "_view_module": "@jupyter-widgets/controls",
            "_view_module_version": "1.5.0",
            "_view_name": "HBoxView",
            "box_style": "",
            "children": [
              "IPY_MODEL_cbed1fdbba2e4bc2b2d120536baf5ecb",
              "IPY_MODEL_978066db17c3420f8983a6fd80390627",
              "IPY_MODEL_884d91d20ce24df6b98c5c980d59aa0f"
            ],
            "layout": "IPY_MODEL_a25c55bf239f41998c74a9fe41ff5f22"
          }
        },
        "cbed1fdbba2e4bc2b2d120536baf5ecb": {
          "model_module": "@jupyter-widgets/controls",
          "model_name": "HTMLModel",
          "model_module_version": "1.5.0",
          "state": {
            "_dom_classes": [],
            "_model_module": "@jupyter-widgets/controls",
            "_model_module_version": "1.5.0",
            "_model_name": "HTMLModel",
            "_view_count": null,
            "_view_module": "@jupyter-widgets/controls",
            "_view_module_version": "1.5.0",
            "_view_name": "HTMLView",
            "description": "",
            "description_tooltip": null,
            "layout": "IPY_MODEL_4f002a24914c47f9bc824e025114253d",
            "placeholder": "​",
            "style": "IPY_MODEL_a303d7253b994696991e56b8feb71a92",
            "value": "  5%"
          }
        },
        "978066db17c3420f8983a6fd80390627": {
          "model_module": "@jupyter-widgets/controls",
          "model_name": "FloatProgressModel",
          "model_module_version": "1.5.0",
          "state": {
            "_dom_classes": [],
            "_model_module": "@jupyter-widgets/controls",
            "_model_module_version": "1.5.0",
            "_model_name": "FloatProgressModel",
            "_view_count": null,
            "_view_module": "@jupyter-widgets/controls",
            "_view_module_version": "1.5.0",
            "_view_name": "ProgressView",
            "bar_style": "danger",
            "description": "",
            "description_tooltip": null,
            "layout": "IPY_MODEL_9734ace65f814e8f94883e0baa645f5b",
            "max": 100,
            "min": 0,
            "orientation": "horizontal",
            "style": "IPY_MODEL_d8cb112719c145e0a163ba097c56d931",
            "value": 5
          }
        },
        "884d91d20ce24df6b98c5c980d59aa0f": {
          "model_module": "@jupyter-widgets/controls",
          "model_name": "HTMLModel",
          "model_module_version": "1.5.0",
          "state": {
            "_dom_classes": [],
            "_model_module": "@jupyter-widgets/controls",
            "_model_module_version": "1.5.0",
            "_model_name": "HTMLModel",
            "_view_count": null,
            "_view_module": "@jupyter-widgets/controls",
            "_view_module_version": "1.5.0",
            "_view_name": "HTMLView",
            "description": "",
            "description_tooltip": null,
            "layout": "IPY_MODEL_ea75b0baddf3446ea464880daf530559",
            "placeholder": "​",
            "style": "IPY_MODEL_dde22c4239204bbead84fde24da1f151",
            "value": " 5/100 [00:11&lt;03:07,  1.97s/it]"
          }
        },
        "a25c55bf239f41998c74a9fe41ff5f22": {
          "model_module": "@jupyter-widgets/base",
          "model_name": "LayoutModel",
          "model_module_version": "1.2.0",
          "state": {
            "_model_module": "@jupyter-widgets/base",
            "_model_module_version": "1.2.0",
            "_model_name": "LayoutModel",
            "_view_count": null,
            "_view_module": "@jupyter-widgets/base",
            "_view_module_version": "1.2.0",
            "_view_name": "LayoutView",
            "align_content": null,
            "align_items": null,
            "align_self": null,
            "border": null,
            "bottom": null,
            "display": null,
            "flex": null,
            "flex_flow": null,
            "grid_area": null,
            "grid_auto_columns": null,
            "grid_auto_flow": null,
            "grid_auto_rows": null,
            "grid_column": null,
            "grid_gap": null,
            "grid_row": null,
            "grid_template_areas": null,
            "grid_template_columns": null,
            "grid_template_rows": null,
            "height": null,
            "justify_content": null,
            "justify_items": null,
            "left": null,
            "margin": null,
            "max_height": null,
            "max_width": null,
            "min_height": null,
            "min_width": null,
            "object_fit": null,
            "object_position": null,
            "order": null,
            "overflow": null,
            "overflow_x": null,
            "overflow_y": null,
            "padding": null,
            "right": null,
            "top": null,
            "visibility": null,
            "width": null
          }
        },
        "4f002a24914c47f9bc824e025114253d": {
          "model_module": "@jupyter-widgets/base",
          "model_name": "LayoutModel",
          "model_module_version": "1.2.0",
          "state": {
            "_model_module": "@jupyter-widgets/base",
            "_model_module_version": "1.2.0",
            "_model_name": "LayoutModel",
            "_view_count": null,
            "_view_module": "@jupyter-widgets/base",
            "_view_module_version": "1.2.0",
            "_view_name": "LayoutView",
            "align_content": null,
            "align_items": null,
            "align_self": null,
            "border": null,
            "bottom": null,
            "display": null,
            "flex": null,
            "flex_flow": null,
            "grid_area": null,
            "grid_auto_columns": null,
            "grid_auto_flow": null,
            "grid_auto_rows": null,
            "grid_column": null,
            "grid_gap": null,
            "grid_row": null,
            "grid_template_areas": null,
            "grid_template_columns": null,
            "grid_template_rows": null,
            "height": null,
            "justify_content": null,
            "justify_items": null,
            "left": null,
            "margin": null,
            "max_height": null,
            "max_width": null,
            "min_height": null,
            "min_width": null,
            "object_fit": null,
            "object_position": null,
            "order": null,
            "overflow": null,
            "overflow_x": null,
            "overflow_y": null,
            "padding": null,
            "right": null,
            "top": null,
            "visibility": null,
            "width": null
          }
        },
        "a303d7253b994696991e56b8feb71a92": {
          "model_module": "@jupyter-widgets/controls",
          "model_name": "DescriptionStyleModel",
          "model_module_version": "1.5.0",
          "state": {
            "_model_module": "@jupyter-widgets/controls",
            "_model_module_version": "1.5.0",
            "_model_name": "DescriptionStyleModel",
            "_view_count": null,
            "_view_module": "@jupyter-widgets/base",
            "_view_module_version": "1.2.0",
            "_view_name": "StyleView",
            "description_width": ""
          }
        },
        "9734ace65f814e8f94883e0baa645f5b": {
          "model_module": "@jupyter-widgets/base",
          "model_name": "LayoutModel",
          "model_module_version": "1.2.0",
          "state": {
            "_model_module": "@jupyter-widgets/base",
            "_model_module_version": "1.2.0",
            "_model_name": "LayoutModel",
            "_view_count": null,
            "_view_module": "@jupyter-widgets/base",
            "_view_module_version": "1.2.0",
            "_view_name": "LayoutView",
            "align_content": null,
            "align_items": null,
            "align_self": null,
            "border": null,
            "bottom": null,
            "display": null,
            "flex": null,
            "flex_flow": null,
            "grid_area": null,
            "grid_auto_columns": null,
            "grid_auto_flow": null,
            "grid_auto_rows": null,
            "grid_column": null,
            "grid_gap": null,
            "grid_row": null,
            "grid_template_areas": null,
            "grid_template_columns": null,
            "grid_template_rows": null,
            "height": null,
            "justify_content": null,
            "justify_items": null,
            "left": null,
            "margin": null,
            "max_height": null,
            "max_width": null,
            "min_height": null,
            "min_width": null,
            "object_fit": null,
            "object_position": null,
            "order": null,
            "overflow": null,
            "overflow_x": null,
            "overflow_y": null,
            "padding": null,
            "right": null,
            "top": null,
            "visibility": null,
            "width": null
          }
        },
        "d8cb112719c145e0a163ba097c56d931": {
          "model_module": "@jupyter-widgets/controls",
          "model_name": "ProgressStyleModel",
          "model_module_version": "1.5.0",
          "state": {
            "_model_module": "@jupyter-widgets/controls",
            "_model_module_version": "1.5.0",
            "_model_name": "ProgressStyleModel",
            "_view_count": null,
            "_view_module": "@jupyter-widgets/base",
            "_view_module_version": "1.2.0",
            "_view_name": "StyleView",
            "bar_color": null,
            "description_width": ""
          }
        },
        "ea75b0baddf3446ea464880daf530559": {
          "model_module": "@jupyter-widgets/base",
          "model_name": "LayoutModel",
          "model_module_version": "1.2.0",
          "state": {
            "_model_module": "@jupyter-widgets/base",
            "_model_module_version": "1.2.0",
            "_model_name": "LayoutModel",
            "_view_count": null,
            "_view_module": "@jupyter-widgets/base",
            "_view_module_version": "1.2.0",
            "_view_name": "LayoutView",
            "align_content": null,
            "align_items": null,
            "align_self": null,
            "border": null,
            "bottom": null,
            "display": null,
            "flex": null,
            "flex_flow": null,
            "grid_area": null,
            "grid_auto_columns": null,
            "grid_auto_flow": null,
            "grid_auto_rows": null,
            "grid_column": null,
            "grid_gap": null,
            "grid_row": null,
            "grid_template_areas": null,
            "grid_template_columns": null,
            "grid_template_rows": null,
            "height": null,
            "justify_content": null,
            "justify_items": null,
            "left": null,
            "margin": null,
            "max_height": null,
            "max_width": null,
            "min_height": null,
            "min_width": null,
            "object_fit": null,
            "object_position": null,
            "order": null,
            "overflow": null,
            "overflow_x": null,
            "overflow_y": null,
            "padding": null,
            "right": null,
            "top": null,
            "visibility": null,
            "width": null
          }
        },
        "dde22c4239204bbead84fde24da1f151": {
          "model_module": "@jupyter-widgets/controls",
          "model_name": "DescriptionStyleModel",
          "model_module_version": "1.5.0",
          "state": {
            "_model_module": "@jupyter-widgets/controls",
            "_model_module_version": "1.5.0",
            "_model_name": "DescriptionStyleModel",
            "_view_count": null,
            "_view_module": "@jupyter-widgets/base",
            "_view_module_version": "1.2.0",
            "_view_name": "StyleView",
            "description_width": ""
          }
        },
        "7510783e60f647149bdcd8f8058252cd": {
          "model_module": "@jupyter-widgets/controls",
          "model_name": "HBoxModel",
          "model_module_version": "1.5.0",
          "state": {
            "_dom_classes": [],
            "_model_module": "@jupyter-widgets/controls",
            "_model_module_version": "1.5.0",
            "_model_name": "HBoxModel",
            "_view_count": null,
            "_view_module": "@jupyter-widgets/controls",
            "_view_module_version": "1.5.0",
            "_view_name": "HBoxView",
            "box_style": "",
            "children": [
              "IPY_MODEL_948b2f6f5d3b47eda34726c0810815db",
              "IPY_MODEL_755aac70beb94bd1a2de239c67cfe7f1",
              "IPY_MODEL_0ab007d16e7a49d2981b83108d4bc8b5"
            ],
            "layout": "IPY_MODEL_ceb78486c0ab4fbfb4a7df2edca6c80f"
          }
        },
        "948b2f6f5d3b47eda34726c0810815db": {
          "model_module": "@jupyter-widgets/controls",
          "model_name": "HTMLModel",
          "model_module_version": "1.5.0",
          "state": {
            "_dom_classes": [],
            "_model_module": "@jupyter-widgets/controls",
            "_model_module_version": "1.5.0",
            "_model_name": "HTMLModel",
            "_view_count": null,
            "_view_module": "@jupyter-widgets/controls",
            "_view_module_version": "1.5.0",
            "_view_name": "HTMLView",
            "description": "",
            "description_tooltip": null,
            "layout": "IPY_MODEL_0a60f0450a7948af8fcc33dd420fb88a",
            "placeholder": "​",
            "style": "IPY_MODEL_a3aa55919b57424983e03d8d2742986c",
            "value": "  5%"
          }
        },
        "755aac70beb94bd1a2de239c67cfe7f1": {
          "model_module": "@jupyter-widgets/controls",
          "model_name": "FloatProgressModel",
          "model_module_version": "1.5.0",
          "state": {
            "_dom_classes": [],
            "_model_module": "@jupyter-widgets/controls",
            "_model_module_version": "1.5.0",
            "_model_name": "FloatProgressModel",
            "_view_count": null,
            "_view_module": "@jupyter-widgets/controls",
            "_view_module_version": "1.5.0",
            "_view_name": "ProgressView",
            "bar_style": "danger",
            "description": "",
            "description_tooltip": null,
            "layout": "IPY_MODEL_709dc181ff2544bebc3d14fa92c06b46",
            "max": 100,
            "min": 0,
            "orientation": "horizontal",
            "style": "IPY_MODEL_c21ee7231c90421a90b5801317302577",
            "value": 5
          }
        },
        "0ab007d16e7a49d2981b83108d4bc8b5": {
          "model_module": "@jupyter-widgets/controls",
          "model_name": "HTMLModel",
          "model_module_version": "1.5.0",
          "state": {
            "_dom_classes": [],
            "_model_module": "@jupyter-widgets/controls",
            "_model_module_version": "1.5.0",
            "_model_name": "HTMLModel",
            "_view_count": null,
            "_view_module": "@jupyter-widgets/controls",
            "_view_module_version": "1.5.0",
            "_view_name": "HTMLView",
            "description": "",
            "description_tooltip": null,
            "layout": "IPY_MODEL_ef50dde0eab34bd18cd549eb620bf8ee",
            "placeholder": "​",
            "style": "IPY_MODEL_8eeb061360a0412099aae4b3e6e0c8ba",
            "value": " 5/100 [00:09&lt;02:35,  1.64s/it]"
          }
        },
        "ceb78486c0ab4fbfb4a7df2edca6c80f": {
          "model_module": "@jupyter-widgets/base",
          "model_name": "LayoutModel",
          "model_module_version": "1.2.0",
          "state": {
            "_model_module": "@jupyter-widgets/base",
            "_model_module_version": "1.2.0",
            "_model_name": "LayoutModel",
            "_view_count": null,
            "_view_module": "@jupyter-widgets/base",
            "_view_module_version": "1.2.0",
            "_view_name": "LayoutView",
            "align_content": null,
            "align_items": null,
            "align_self": null,
            "border": null,
            "bottom": null,
            "display": null,
            "flex": null,
            "flex_flow": null,
            "grid_area": null,
            "grid_auto_columns": null,
            "grid_auto_flow": null,
            "grid_auto_rows": null,
            "grid_column": null,
            "grid_gap": null,
            "grid_row": null,
            "grid_template_areas": null,
            "grid_template_columns": null,
            "grid_template_rows": null,
            "height": null,
            "justify_content": null,
            "justify_items": null,
            "left": null,
            "margin": null,
            "max_height": null,
            "max_width": null,
            "min_height": null,
            "min_width": null,
            "object_fit": null,
            "object_position": null,
            "order": null,
            "overflow": null,
            "overflow_x": null,
            "overflow_y": null,
            "padding": null,
            "right": null,
            "top": null,
            "visibility": null,
            "width": null
          }
        },
        "0a60f0450a7948af8fcc33dd420fb88a": {
          "model_module": "@jupyter-widgets/base",
          "model_name": "LayoutModel",
          "model_module_version": "1.2.0",
          "state": {
            "_model_module": "@jupyter-widgets/base",
            "_model_module_version": "1.2.0",
            "_model_name": "LayoutModel",
            "_view_count": null,
            "_view_module": "@jupyter-widgets/base",
            "_view_module_version": "1.2.0",
            "_view_name": "LayoutView",
            "align_content": null,
            "align_items": null,
            "align_self": null,
            "border": null,
            "bottom": null,
            "display": null,
            "flex": null,
            "flex_flow": null,
            "grid_area": null,
            "grid_auto_columns": null,
            "grid_auto_flow": null,
            "grid_auto_rows": null,
            "grid_column": null,
            "grid_gap": null,
            "grid_row": null,
            "grid_template_areas": null,
            "grid_template_columns": null,
            "grid_template_rows": null,
            "height": null,
            "justify_content": null,
            "justify_items": null,
            "left": null,
            "margin": null,
            "max_height": null,
            "max_width": null,
            "min_height": null,
            "min_width": null,
            "object_fit": null,
            "object_position": null,
            "order": null,
            "overflow": null,
            "overflow_x": null,
            "overflow_y": null,
            "padding": null,
            "right": null,
            "top": null,
            "visibility": null,
            "width": null
          }
        },
        "a3aa55919b57424983e03d8d2742986c": {
          "model_module": "@jupyter-widgets/controls",
          "model_name": "DescriptionStyleModel",
          "model_module_version": "1.5.0",
          "state": {
            "_model_module": "@jupyter-widgets/controls",
            "_model_module_version": "1.5.0",
            "_model_name": "DescriptionStyleModel",
            "_view_count": null,
            "_view_module": "@jupyter-widgets/base",
            "_view_module_version": "1.2.0",
            "_view_name": "StyleView",
            "description_width": ""
          }
        },
        "709dc181ff2544bebc3d14fa92c06b46": {
          "model_module": "@jupyter-widgets/base",
          "model_name": "LayoutModel",
          "model_module_version": "1.2.0",
          "state": {
            "_model_module": "@jupyter-widgets/base",
            "_model_module_version": "1.2.0",
            "_model_name": "LayoutModel",
            "_view_count": null,
            "_view_module": "@jupyter-widgets/base",
            "_view_module_version": "1.2.0",
            "_view_name": "LayoutView",
            "align_content": null,
            "align_items": null,
            "align_self": null,
            "border": null,
            "bottom": null,
            "display": null,
            "flex": null,
            "flex_flow": null,
            "grid_area": null,
            "grid_auto_columns": null,
            "grid_auto_flow": null,
            "grid_auto_rows": null,
            "grid_column": null,
            "grid_gap": null,
            "grid_row": null,
            "grid_template_areas": null,
            "grid_template_columns": null,
            "grid_template_rows": null,
            "height": null,
            "justify_content": null,
            "justify_items": null,
            "left": null,
            "margin": null,
            "max_height": null,
            "max_width": null,
            "min_height": null,
            "min_width": null,
            "object_fit": null,
            "object_position": null,
            "order": null,
            "overflow": null,
            "overflow_x": null,
            "overflow_y": null,
            "padding": null,
            "right": null,
            "top": null,
            "visibility": null,
            "width": null
          }
        },
        "c21ee7231c90421a90b5801317302577": {
          "model_module": "@jupyter-widgets/controls",
          "model_name": "ProgressStyleModel",
          "model_module_version": "1.5.0",
          "state": {
            "_model_module": "@jupyter-widgets/controls",
            "_model_module_version": "1.5.0",
            "_model_name": "ProgressStyleModel",
            "_view_count": null,
            "_view_module": "@jupyter-widgets/base",
            "_view_module_version": "1.2.0",
            "_view_name": "StyleView",
            "bar_color": null,
            "description_width": ""
          }
        },
        "ef50dde0eab34bd18cd549eb620bf8ee": {
          "model_module": "@jupyter-widgets/base",
          "model_name": "LayoutModel",
          "model_module_version": "1.2.0",
          "state": {
            "_model_module": "@jupyter-widgets/base",
            "_model_module_version": "1.2.0",
            "_model_name": "LayoutModel",
            "_view_count": null,
            "_view_module": "@jupyter-widgets/base",
            "_view_module_version": "1.2.0",
            "_view_name": "LayoutView",
            "align_content": null,
            "align_items": null,
            "align_self": null,
            "border": null,
            "bottom": null,
            "display": null,
            "flex": null,
            "flex_flow": null,
            "grid_area": null,
            "grid_auto_columns": null,
            "grid_auto_flow": null,
            "grid_auto_rows": null,
            "grid_column": null,
            "grid_gap": null,
            "grid_row": null,
            "grid_template_areas": null,
            "grid_template_columns": null,
            "grid_template_rows": null,
            "height": null,
            "justify_content": null,
            "justify_items": null,
            "left": null,
            "margin": null,
            "max_height": null,
            "max_width": null,
            "min_height": null,
            "min_width": null,
            "object_fit": null,
            "object_position": null,
            "order": null,
            "overflow": null,
            "overflow_x": null,
            "overflow_y": null,
            "padding": null,
            "right": null,
            "top": null,
            "visibility": null,
            "width": null
          }
        },
        "8eeb061360a0412099aae4b3e6e0c8ba": {
          "model_module": "@jupyter-widgets/controls",
          "model_name": "DescriptionStyleModel",
          "model_module_version": "1.5.0",
          "state": {
            "_model_module": "@jupyter-widgets/controls",
            "_model_module_version": "1.5.0",
            "_model_name": "DescriptionStyleModel",
            "_view_count": null,
            "_view_module": "@jupyter-widgets/base",
            "_view_module_version": "1.2.0",
            "_view_name": "StyleView",
            "description_width": ""
          }
        }
      }
    }
  },
  "cells": [
    {
      "cell_type": "markdown",
      "metadata": {
        "id": "view-in-github",
        "colab_type": "text"
      },
      "source": [
        "<a href=\"https://colab.research.google.com/github/dpcks/playdata/blob/main/DeepLearning/05_%ED%85%8D%EC%8A%A4%ED%8A%B8_%EC%B2%98%EB%A6%AC_%EB%B0%8F_%EC%9E%84%EB%B2%A0%EB%94%A9.ipynb\" target=\"_parent\"><img src=\"https://colab.research.google.com/assets/colab-badge.svg\" alt=\"Open In Colab\"/></a>"
      ]
    },
    {
      "cell_type": "code",
      "execution_count": null,
      "metadata": {
        "colab": {
          "base_uri": "https://localhost:8080/"
        },
        "id": "nAUFzASfkZ4H",
        "outputId": "275403eb-cd16-4278-bc11-b3854efd18e5"
      },
      "outputs": [
        {
          "output_type": "stream",
          "name": "stdout",
          "text": [
            "Mounted at /content/drive\n"
          ]
        }
      ],
      "source": [
        "from google.colab import drive\n",
        "drive.mount(\"/content/drive\")"
      ]
    },
    {
      "cell_type": "code",
      "source": [
        "DATA_PATH = \"/content/drive/MyDrive/딥러닝/data/\"\n",
        "SEED =42"
      ],
      "metadata": {
        "id": "CesloqjrmA07"
      },
      "execution_count": null,
      "outputs": []
    },
    {
      "cell_type": "code",
      "source": [
        "import pandas as pd\n",
        "import numpy as np\n",
        "df = pd.read_csv(f\"{DATA_PATH}imdb.csv\")\n",
        "df.head()"
      ],
      "metadata": {
        "colab": {
          "base_uri": "https://localhost:8080/",
          "height": 206
        },
        "id": "HPQNKJ_YmMSk",
        "outputId": "e699d10a-4025-4da6-86fa-71a0ea244f29"
      },
      "execution_count": null,
      "outputs": [
        {
          "output_type": "execute_result",
          "data": {
            "text/plain": [
              "                                              review  sentiment\n",
              "0  A very, very, very slow-moving, aimless movie ...          0\n",
              "1  Not sure who was more lost - the flat characte...          0\n",
              "2  Attempting artiness with black & white and cle...          0\n",
              "3       Very little music or anything to speak of.            0\n",
              "4  The best scene in the movie was when Gerardo i...          1"
            ],
            "text/html": [
              "\n",
              "  <div id=\"df-b9f35fb8-60b3-4401-a20f-8ecda253cff4\">\n",
              "    <div class=\"colab-df-container\">\n",
              "      <div>\n",
              "<style scoped>\n",
              "    .dataframe tbody tr th:only-of-type {\n",
              "        vertical-align: middle;\n",
              "    }\n",
              "\n",
              "    .dataframe tbody tr th {\n",
              "        vertical-align: top;\n",
              "    }\n",
              "\n",
              "    .dataframe thead th {\n",
              "        text-align: right;\n",
              "    }\n",
              "</style>\n",
              "<table border=\"1\" class=\"dataframe\">\n",
              "  <thead>\n",
              "    <tr style=\"text-align: right;\">\n",
              "      <th></th>\n",
              "      <th>review</th>\n",
              "      <th>sentiment</th>\n",
              "    </tr>\n",
              "  </thead>\n",
              "  <tbody>\n",
              "    <tr>\n",
              "      <th>0</th>\n",
              "      <td>A very, very, very slow-moving, aimless movie ...</td>\n",
              "      <td>0</td>\n",
              "    </tr>\n",
              "    <tr>\n",
              "      <th>1</th>\n",
              "      <td>Not sure who was more lost - the flat characte...</td>\n",
              "      <td>0</td>\n",
              "    </tr>\n",
              "    <tr>\n",
              "      <th>2</th>\n",
              "      <td>Attempting artiness with black &amp; white and cle...</td>\n",
              "      <td>0</td>\n",
              "    </tr>\n",
              "    <tr>\n",
              "      <th>3</th>\n",
              "      <td>Very little music or anything to speak of.</td>\n",
              "      <td>0</td>\n",
              "    </tr>\n",
              "    <tr>\n",
              "      <th>4</th>\n",
              "      <td>The best scene in the movie was when Gerardo i...</td>\n",
              "      <td>1</td>\n",
              "    </tr>\n",
              "  </tbody>\n",
              "</table>\n",
              "</div>\n",
              "      <button class=\"colab-df-convert\" onclick=\"convertToInteractive('df-b9f35fb8-60b3-4401-a20f-8ecda253cff4')\"\n",
              "              title=\"Convert this dataframe to an interactive table.\"\n",
              "              style=\"display:none;\">\n",
              "        \n",
              "  <svg xmlns=\"http://www.w3.org/2000/svg\" height=\"24px\"viewBox=\"0 0 24 24\"\n",
              "       width=\"24px\">\n",
              "    <path d=\"M0 0h24v24H0V0z\" fill=\"none\"/>\n",
              "    <path d=\"M18.56 5.44l.94 2.06.94-2.06 2.06-.94-2.06-.94-.94-2.06-.94 2.06-2.06.94zm-11 1L8.5 8.5l.94-2.06 2.06-.94-2.06-.94L8.5 2.5l-.94 2.06-2.06.94zm10 10l.94 2.06.94-2.06 2.06-.94-2.06-.94-.94-2.06-.94 2.06-2.06.94z\"/><path d=\"M17.41 7.96l-1.37-1.37c-.4-.4-.92-.59-1.43-.59-.52 0-1.04.2-1.43.59L10.3 9.45l-7.72 7.72c-.78.78-.78 2.05 0 2.83L4 21.41c.39.39.9.59 1.41.59.51 0 1.02-.2 1.41-.59l7.78-7.78 2.81-2.81c.8-.78.8-2.07 0-2.86zM5.41 20L4 18.59l7.72-7.72 1.47 1.35L5.41 20z\"/>\n",
              "  </svg>\n",
              "      </button>\n",
              "      \n",
              "  <style>\n",
              "    .colab-df-container {\n",
              "      display:flex;\n",
              "      flex-wrap:wrap;\n",
              "      gap: 12px;\n",
              "    }\n",
              "\n",
              "    .colab-df-convert {\n",
              "      background-color: #E8F0FE;\n",
              "      border: none;\n",
              "      border-radius: 50%;\n",
              "      cursor: pointer;\n",
              "      display: none;\n",
              "      fill: #1967D2;\n",
              "      height: 32px;\n",
              "      padding: 0 0 0 0;\n",
              "      width: 32px;\n",
              "    }\n",
              "\n",
              "    .colab-df-convert:hover {\n",
              "      background-color: #E2EBFA;\n",
              "      box-shadow: 0px 1px 2px rgba(60, 64, 67, 0.3), 0px 1px 3px 1px rgba(60, 64, 67, 0.15);\n",
              "      fill: #174EA6;\n",
              "    }\n",
              "\n",
              "    [theme=dark] .colab-df-convert {\n",
              "      background-color: #3B4455;\n",
              "      fill: #D2E3FC;\n",
              "    }\n",
              "\n",
              "    [theme=dark] .colab-df-convert:hover {\n",
              "      background-color: #434B5C;\n",
              "      box-shadow: 0px 1px 3px 1px rgba(0, 0, 0, 0.15);\n",
              "      filter: drop-shadow(0px 1px 2px rgba(0, 0, 0, 0.3));\n",
              "      fill: #FFFFFF;\n",
              "    }\n",
              "  </style>\n",
              "\n",
              "      <script>\n",
              "        const buttonEl =\n",
              "          document.querySelector('#df-b9f35fb8-60b3-4401-a20f-8ecda253cff4 button.colab-df-convert');\n",
              "        buttonEl.style.display =\n",
              "          google.colab.kernel.accessAllowed ? 'block' : 'none';\n",
              "\n",
              "        async function convertToInteractive(key) {\n",
              "          const element = document.querySelector('#df-b9f35fb8-60b3-4401-a20f-8ecda253cff4');\n",
              "          const dataTable =\n",
              "            await google.colab.kernel.invokeFunction('convertToInteractive',\n",
              "                                                     [key], {});\n",
              "          if (!dataTable) return;\n",
              "\n",
              "          const docLinkHtml = 'Like what you see? Visit the ' +\n",
              "            '<a target=\"_blank\" href=https://colab.research.google.com/notebooks/data_table.ipynb>data table notebook</a>'\n",
              "            + ' to learn more about interactive tables.';\n",
              "          element.innerHTML = '';\n",
              "          dataTable['output_type'] = 'display_data';\n",
              "          await google.colab.output.renderOutput(dataTable, element);\n",
              "          const docLink = document.createElement('div');\n",
              "          docLink.innerHTML = docLinkHtml;\n",
              "          element.appendChild(docLink);\n",
              "        }\n",
              "      </script>\n",
              "    </div>\n",
              "  </div>\n",
              "  "
            ]
          },
          "metadata": {},
          "execution_count": 4
        }
      ]
    },
    {
      "cell_type": "code",
      "source": [
        "df.info()"
      ],
      "metadata": {
        "colab": {
          "base_uri": "https://localhost:8080/"
        },
        "id": "tQMRGE92nBOT",
        "outputId": "7d8de704-94b8-4697-a149-8f9fbfa7e554"
      },
      "execution_count": null,
      "outputs": [
        {
          "output_type": "stream",
          "name": "stdout",
          "text": [
            "<class 'pandas.core.frame.DataFrame'>\n",
            "RangeIndex: 748 entries, 0 to 747\n",
            "Data columns (total 2 columns):\n",
            " #   Column     Non-Null Count  Dtype \n",
            "---  ------     --------------  ----- \n",
            " 0   review     748 non-null    object\n",
            " 1   sentiment  748 non-null    int64 \n",
            "dtypes: int64(1), object(1)\n",
            "memory usage: 11.8+ KB\n"
          ]
        }
      ]
    },
    {
      "cell_type": "code",
      "source": [
        "df[\"sentiment\"].mean() # sentiment에 대한 1에 대한 비율"
      ],
      "metadata": {
        "colab": {
          "base_uri": "https://localhost:8080/"
        },
        "id": "1-CLPIQLnH66",
        "outputId": "2318080e-d6e7-41ac-fe33-46abebbd9ea5"
      },
      "execution_count": null,
      "outputs": [
        {
          "output_type": "execute_result",
          "data": {
            "text/plain": [
              "0.516042780748663"
            ]
          },
          "metadata": {},
          "execution_count": 6
        }
      ]
    },
    {
      "cell_type": "markdown",
      "source": [
        "# 자연어 처리 (Natural Language Processing)\n",
        "- 자연어 이해\n",
        "    - 읽기 ex) 뉴스를 읽어 카테고리 분류\n",
        "- 자연어 생성\n",
        "    - Text to Text\n",
        "    - 챗봇\n"
      ],
      "metadata": {
        "id": "W4QEc0MInH4C"
      }
    },
    {
      "cell_type": "markdown",
      "source": [
        "# 단어문서행렬(Term Document Matrix) TDM\n",
        "- 문서별로 단어의 빈도를 정리한 표\n"
      ],
      "metadata": {
        "id": "OHi3IDkCnHzB"
      }
    },
    {
      "cell_type": "code",
      "source": [
        "from sklearn.feature_extraction.text import CountVectorizer # 각 문장의 단어의 빈도수를 세줌\n",
        "cnt_vec = CountVectorizer(max_features=100, stop_words=\"english\") # 상위 가장 많은 빈도순 설정 100개까지\n",
        "\n",
        "tdm = cnt_vec.fit_transform(df[\"review\"])\n",
        "tdm # 100개까지 해줫으니까 열이 100"
      ],
      "metadata": {
        "colab": {
          "base_uri": "https://localhost:8080/"
        },
        "id": "_lOLefm4nHwy",
        "outputId": "281ddc4b-fd0c-4b04-b8b8-831574bccda0"
      },
      "execution_count": null,
      "outputs": [
        {
          "output_type": "execute_result",
          "data": {
            "text/plain": [
              "<748x100 sparse matrix of type '<class 'numpy.int64'>'\n",
              "\twith 1775 stored elements in Compressed Sparse Row format>"
            ]
          },
          "metadata": {},
          "execution_count": 7
        }
      ]
    },
    {
      "cell_type": "code",
      "source": [
        "tdm.toarray()"
      ],
      "metadata": {
        "colab": {
          "base_uri": "https://localhost:8080/"
        },
        "id": "6g1wbIPMnHuJ",
        "outputId": "4a5a98bc-9bad-4705-dec9-d18a304602dc"
      },
      "execution_count": null,
      "outputs": [
        {
          "output_type": "execute_result",
          "data": {
            "text/plain": [
              "array([[0, 0, 0, ..., 0, 0, 0],\n",
              "       [0, 0, 0, ..., 0, 0, 0],\n",
              "       [0, 1, 0, ..., 0, 0, 0],\n",
              "       ...,\n",
              "       [0, 0, 0, ..., 0, 0, 0],\n",
              "       [0, 0, 0, ..., 0, 0, 0],\n",
              "       [0, 0, 0, ..., 0, 0, 0]])"
            ]
          },
          "metadata": {},
          "execution_count": 8
        }
      ]
    },
    {
      "cell_type": "code",
      "source": [
        "cnt_vec.get_feature_names_out() # 컬럼명(알파벳순)"
      ],
      "metadata": {
        "colab": {
          "base_uri": "https://localhost:8080/"
        },
        "id": "6aU3dSjdnHri",
        "outputId": "fe7264fc-0cee-4f4b-eb49-a988b1491dbc"
      },
      "execution_count": null,
      "outputs": [
        {
          "output_type": "execute_result",
          "data": {
            "text/plain": [
              "array(['10', 'acting', 'actor', 'actors', 'actually', 'art', 'awful',\n",
              "       'bad', 'beautiful', 'best', 'better', 'big', 'black', 'boring',\n",
              "       'camera', 'cast', 'character', 'characters', 'cinematography',\n",
              "       'definitely', 'dialogue', 'did', 'didn', 'director', 'doesn',\n",
              "       'don', 'drama', 'effects', 'end', 'ending', 'excellent', 'feeling',\n",
              "       'film', 'films', 'funny', 'game', 'going', 'good', 'great',\n",
              "       'highly', 'interesting', 'job', 'just', 'know', 'life', 'like',\n",
              "       'liked', 'line', 'little', 'look', 'love', 'loved', 'make', 'man',\n",
              "       'movie', 'movies', 'music', 'people', 'performance', 'piece',\n",
              "       'played', 'plot', 'predictable', 'pretty', 'quite', 'real',\n",
              "       'really', 'recommend', 'right', 'saw', 'say', 'scene', 'scenes',\n",
              "       'screen', 'script', 'seen', 'short', 'simply', 'story', 'stupid',\n",
              "       'terrible', 'thing', 'things', 'think', 'thought', 'time',\n",
              "       'totally', 'truly', 've', 'waste', 'watch', 'watching', 'way',\n",
              "       'wonderful', 'work', 'worse', 'worst', 'worth', 'writing', 'years'],\n",
              "      dtype=object)"
            ]
          },
          "metadata": {},
          "execution_count": 9
        }
      ]
    },
    {
      "cell_type": "code",
      "source": [
        "tdm_df = pd.DataFrame(tdm.toarray(),columns=cnt_vec.get_feature_names_out()) # 데이터프레임 만들어주기\n",
        "tdm_df"
      ],
      "metadata": {
        "colab": {
          "base_uri": "https://localhost:8080/",
          "height": 424
        },
        "id": "iXQoh3D0nHpH",
        "outputId": "899c62f8-9d12-4db1-b962-32d73325bdaa"
      },
      "execution_count": null,
      "outputs": [
        {
          "output_type": "execute_result",
          "data": {
            "text/plain": [
              "     10  acting  actor  actors  actually  art  awful  bad  beautiful  best  \\\n",
              "0     0       0      0       0         0    0      0    0          0     0   \n",
              "1     0       0      0       0         0    0      0    0          0     0   \n",
              "2     0       1      0       0         0    0      0    0          0     0   \n",
              "3     0       0      0       0         0    0      0    0          0     0   \n",
              "4     0       0      0       0         0    0      0    0          0     1   \n",
              "..   ..     ...    ...     ...       ...  ...    ...  ...        ...   ...   \n",
              "743   0       0      0       0         0    0      0    0          0     0   \n",
              "744   0       0      0       0         0    0      0    0          0     0   \n",
              "745   0       0      0       0         0    0      0    0          0     0   \n",
              "746   0       0      0       0         0    0      0    1          0     0   \n",
              "747   0       0      0       0         0    0      0    0          0     0   \n",
              "\n",
              "     ...  watch  watching  way  wonderful  work  worse  worst  worth  writing  \\\n",
              "0    ...      0         0    0          0     0      0      0      0        0   \n",
              "1    ...      0         0    0          0     0      0      0      0        0   \n",
              "2    ...      0         0    0          0     0      0      0      0        0   \n",
              "3    ...      0         0    0          0     0      0      0      0        0   \n",
              "4    ...      0         0    0          0     0      0      0      0        0   \n",
              "..   ...    ...       ...  ...        ...   ...    ...    ...    ...      ...   \n",
              "743  ...      0         1    0          0     0      0      0      0        0   \n",
              "744  ...      0         0    0          0     1      0      0      0        0   \n",
              "745  ...      0         0    0          0     0      0      0      0        0   \n",
              "746  ...      0         0    0          0     0      0      0      0        0   \n",
              "747  ...      0         0    0          0     0      0      0      0        0   \n",
              "\n",
              "     years  \n",
              "0        0  \n",
              "1        0  \n",
              "2        0  \n",
              "3        0  \n",
              "4        0  \n",
              "..     ...  \n",
              "743      0  \n",
              "744      0  \n",
              "745      0  \n",
              "746      0  \n",
              "747      0  \n",
              "\n",
              "[748 rows x 100 columns]"
            ],
            "text/html": [
              "\n",
              "  <div id=\"df-10899ae4-09f3-45b5-9399-19bf6c4e0f73\">\n",
              "    <div class=\"colab-df-container\">\n",
              "      <div>\n",
              "<style scoped>\n",
              "    .dataframe tbody tr th:only-of-type {\n",
              "        vertical-align: middle;\n",
              "    }\n",
              "\n",
              "    .dataframe tbody tr th {\n",
              "        vertical-align: top;\n",
              "    }\n",
              "\n",
              "    .dataframe thead th {\n",
              "        text-align: right;\n",
              "    }\n",
              "</style>\n",
              "<table border=\"1\" class=\"dataframe\">\n",
              "  <thead>\n",
              "    <tr style=\"text-align: right;\">\n",
              "      <th></th>\n",
              "      <th>10</th>\n",
              "      <th>acting</th>\n",
              "      <th>actor</th>\n",
              "      <th>actors</th>\n",
              "      <th>actually</th>\n",
              "      <th>art</th>\n",
              "      <th>awful</th>\n",
              "      <th>bad</th>\n",
              "      <th>beautiful</th>\n",
              "      <th>best</th>\n",
              "      <th>...</th>\n",
              "      <th>watch</th>\n",
              "      <th>watching</th>\n",
              "      <th>way</th>\n",
              "      <th>wonderful</th>\n",
              "      <th>work</th>\n",
              "      <th>worse</th>\n",
              "      <th>worst</th>\n",
              "      <th>worth</th>\n",
              "      <th>writing</th>\n",
              "      <th>years</th>\n",
              "    </tr>\n",
              "  </thead>\n",
              "  <tbody>\n",
              "    <tr>\n",
              "      <th>0</th>\n",
              "      <td>0</td>\n",
              "      <td>0</td>\n",
              "      <td>0</td>\n",
              "      <td>0</td>\n",
              "      <td>0</td>\n",
              "      <td>0</td>\n",
              "      <td>0</td>\n",
              "      <td>0</td>\n",
              "      <td>0</td>\n",
              "      <td>0</td>\n",
              "      <td>...</td>\n",
              "      <td>0</td>\n",
              "      <td>0</td>\n",
              "      <td>0</td>\n",
              "      <td>0</td>\n",
              "      <td>0</td>\n",
              "      <td>0</td>\n",
              "      <td>0</td>\n",
              "      <td>0</td>\n",
              "      <td>0</td>\n",
              "      <td>0</td>\n",
              "    </tr>\n",
              "    <tr>\n",
              "      <th>1</th>\n",
              "      <td>0</td>\n",
              "      <td>0</td>\n",
              "      <td>0</td>\n",
              "      <td>0</td>\n",
              "      <td>0</td>\n",
              "      <td>0</td>\n",
              "      <td>0</td>\n",
              "      <td>0</td>\n",
              "      <td>0</td>\n",
              "      <td>0</td>\n",
              "      <td>...</td>\n",
              "      <td>0</td>\n",
              "      <td>0</td>\n",
              "      <td>0</td>\n",
              "      <td>0</td>\n",
              "      <td>0</td>\n",
              "      <td>0</td>\n",
              "      <td>0</td>\n",
              "      <td>0</td>\n",
              "      <td>0</td>\n",
              "      <td>0</td>\n",
              "    </tr>\n",
              "    <tr>\n",
              "      <th>2</th>\n",
              "      <td>0</td>\n",
              "      <td>1</td>\n",
              "      <td>0</td>\n",
              "      <td>0</td>\n",
              "      <td>0</td>\n",
              "      <td>0</td>\n",
              "      <td>0</td>\n",
              "      <td>0</td>\n",
              "      <td>0</td>\n",
              "      <td>0</td>\n",
              "      <td>...</td>\n",
              "      <td>0</td>\n",
              "      <td>0</td>\n",
              "      <td>0</td>\n",
              "      <td>0</td>\n",
              "      <td>0</td>\n",
              "      <td>0</td>\n",
              "      <td>0</td>\n",
              "      <td>0</td>\n",
              "      <td>0</td>\n",
              "      <td>0</td>\n",
              "    </tr>\n",
              "    <tr>\n",
              "      <th>3</th>\n",
              "      <td>0</td>\n",
              "      <td>0</td>\n",
              "      <td>0</td>\n",
              "      <td>0</td>\n",
              "      <td>0</td>\n",
              "      <td>0</td>\n",
              "      <td>0</td>\n",
              "      <td>0</td>\n",
              "      <td>0</td>\n",
              "      <td>0</td>\n",
              "      <td>...</td>\n",
              "      <td>0</td>\n",
              "      <td>0</td>\n",
              "      <td>0</td>\n",
              "      <td>0</td>\n",
              "      <td>0</td>\n",
              "      <td>0</td>\n",
              "      <td>0</td>\n",
              "      <td>0</td>\n",
              "      <td>0</td>\n",
              "      <td>0</td>\n",
              "    </tr>\n",
              "    <tr>\n",
              "      <th>4</th>\n",
              "      <td>0</td>\n",
              "      <td>0</td>\n",
              "      <td>0</td>\n",
              "      <td>0</td>\n",
              "      <td>0</td>\n",
              "      <td>0</td>\n",
              "      <td>0</td>\n",
              "      <td>0</td>\n",
              "      <td>0</td>\n",
              "      <td>1</td>\n",
              "      <td>...</td>\n",
              "      <td>0</td>\n",
              "      <td>0</td>\n",
              "      <td>0</td>\n",
              "      <td>0</td>\n",
              "      <td>0</td>\n",
              "      <td>0</td>\n",
              "      <td>0</td>\n",
              "      <td>0</td>\n",
              "      <td>0</td>\n",
              "      <td>0</td>\n",
              "    </tr>\n",
              "    <tr>\n",
              "      <th>...</th>\n",
              "      <td>...</td>\n",
              "      <td>...</td>\n",
              "      <td>...</td>\n",
              "      <td>...</td>\n",
              "      <td>...</td>\n",
              "      <td>...</td>\n",
              "      <td>...</td>\n",
              "      <td>...</td>\n",
              "      <td>...</td>\n",
              "      <td>...</td>\n",
              "      <td>...</td>\n",
              "      <td>...</td>\n",
              "      <td>...</td>\n",
              "      <td>...</td>\n",
              "      <td>...</td>\n",
              "      <td>...</td>\n",
              "      <td>...</td>\n",
              "      <td>...</td>\n",
              "      <td>...</td>\n",
              "      <td>...</td>\n",
              "      <td>...</td>\n",
              "    </tr>\n",
              "    <tr>\n",
              "      <th>743</th>\n",
              "      <td>0</td>\n",
              "      <td>0</td>\n",
              "      <td>0</td>\n",
              "      <td>0</td>\n",
              "      <td>0</td>\n",
              "      <td>0</td>\n",
              "      <td>0</td>\n",
              "      <td>0</td>\n",
              "      <td>0</td>\n",
              "      <td>0</td>\n",
              "      <td>...</td>\n",
              "      <td>0</td>\n",
              "      <td>1</td>\n",
              "      <td>0</td>\n",
              "      <td>0</td>\n",
              "      <td>0</td>\n",
              "      <td>0</td>\n",
              "      <td>0</td>\n",
              "      <td>0</td>\n",
              "      <td>0</td>\n",
              "      <td>0</td>\n",
              "    </tr>\n",
              "    <tr>\n",
              "      <th>744</th>\n",
              "      <td>0</td>\n",
              "      <td>0</td>\n",
              "      <td>0</td>\n",
              "      <td>0</td>\n",
              "      <td>0</td>\n",
              "      <td>0</td>\n",
              "      <td>0</td>\n",
              "      <td>0</td>\n",
              "      <td>0</td>\n",
              "      <td>0</td>\n",
              "      <td>...</td>\n",
              "      <td>0</td>\n",
              "      <td>0</td>\n",
              "      <td>0</td>\n",
              "      <td>0</td>\n",
              "      <td>1</td>\n",
              "      <td>0</td>\n",
              "      <td>0</td>\n",
              "      <td>0</td>\n",
              "      <td>0</td>\n",
              "      <td>0</td>\n",
              "    </tr>\n",
              "    <tr>\n",
              "      <th>745</th>\n",
              "      <td>0</td>\n",
              "      <td>0</td>\n",
              "      <td>0</td>\n",
              "      <td>0</td>\n",
              "      <td>0</td>\n",
              "      <td>0</td>\n",
              "      <td>0</td>\n",
              "      <td>0</td>\n",
              "      <td>0</td>\n",
              "      <td>0</td>\n",
              "      <td>...</td>\n",
              "      <td>0</td>\n",
              "      <td>0</td>\n",
              "      <td>0</td>\n",
              "      <td>0</td>\n",
              "      <td>0</td>\n",
              "      <td>0</td>\n",
              "      <td>0</td>\n",
              "      <td>0</td>\n",
              "      <td>0</td>\n",
              "      <td>0</td>\n",
              "    </tr>\n",
              "    <tr>\n",
              "      <th>746</th>\n",
              "      <td>0</td>\n",
              "      <td>0</td>\n",
              "      <td>0</td>\n",
              "      <td>0</td>\n",
              "      <td>0</td>\n",
              "      <td>0</td>\n",
              "      <td>0</td>\n",
              "      <td>1</td>\n",
              "      <td>0</td>\n",
              "      <td>0</td>\n",
              "      <td>...</td>\n",
              "      <td>0</td>\n",
              "      <td>0</td>\n",
              "      <td>0</td>\n",
              "      <td>0</td>\n",
              "      <td>0</td>\n",
              "      <td>0</td>\n",
              "      <td>0</td>\n",
              "      <td>0</td>\n",
              "      <td>0</td>\n",
              "      <td>0</td>\n",
              "    </tr>\n",
              "    <tr>\n",
              "      <th>747</th>\n",
              "      <td>0</td>\n",
              "      <td>0</td>\n",
              "      <td>0</td>\n",
              "      <td>0</td>\n",
              "      <td>0</td>\n",
              "      <td>0</td>\n",
              "      <td>0</td>\n",
              "      <td>0</td>\n",
              "      <td>0</td>\n",
              "      <td>0</td>\n",
              "      <td>...</td>\n",
              "      <td>0</td>\n",
              "      <td>0</td>\n",
              "      <td>0</td>\n",
              "      <td>0</td>\n",
              "      <td>0</td>\n",
              "      <td>0</td>\n",
              "      <td>0</td>\n",
              "      <td>0</td>\n",
              "      <td>0</td>\n",
              "      <td>0</td>\n",
              "    </tr>\n",
              "  </tbody>\n",
              "</table>\n",
              "<p>748 rows × 100 columns</p>\n",
              "</div>\n",
              "      <button class=\"colab-df-convert\" onclick=\"convertToInteractive('df-10899ae4-09f3-45b5-9399-19bf6c4e0f73')\"\n",
              "              title=\"Convert this dataframe to an interactive table.\"\n",
              "              style=\"display:none;\">\n",
              "        \n",
              "  <svg xmlns=\"http://www.w3.org/2000/svg\" height=\"24px\"viewBox=\"0 0 24 24\"\n",
              "       width=\"24px\">\n",
              "    <path d=\"M0 0h24v24H0V0z\" fill=\"none\"/>\n",
              "    <path d=\"M18.56 5.44l.94 2.06.94-2.06 2.06-.94-2.06-.94-.94-2.06-.94 2.06-2.06.94zm-11 1L8.5 8.5l.94-2.06 2.06-.94-2.06-.94L8.5 2.5l-.94 2.06-2.06.94zm10 10l.94 2.06.94-2.06 2.06-.94-2.06-.94-.94-2.06-.94 2.06-2.06.94z\"/><path d=\"M17.41 7.96l-1.37-1.37c-.4-.4-.92-.59-1.43-.59-.52 0-1.04.2-1.43.59L10.3 9.45l-7.72 7.72c-.78.78-.78 2.05 0 2.83L4 21.41c.39.39.9.59 1.41.59.51 0 1.02-.2 1.41-.59l7.78-7.78 2.81-2.81c.8-.78.8-2.07 0-2.86zM5.41 20L4 18.59l7.72-7.72 1.47 1.35L5.41 20z\"/>\n",
              "  </svg>\n",
              "      </button>\n",
              "      \n",
              "  <style>\n",
              "    .colab-df-container {\n",
              "      display:flex;\n",
              "      flex-wrap:wrap;\n",
              "      gap: 12px;\n",
              "    }\n",
              "\n",
              "    .colab-df-convert {\n",
              "      background-color: #E8F0FE;\n",
              "      border: none;\n",
              "      border-radius: 50%;\n",
              "      cursor: pointer;\n",
              "      display: none;\n",
              "      fill: #1967D2;\n",
              "      height: 32px;\n",
              "      padding: 0 0 0 0;\n",
              "      width: 32px;\n",
              "    }\n",
              "\n",
              "    .colab-df-convert:hover {\n",
              "      background-color: #E2EBFA;\n",
              "      box-shadow: 0px 1px 2px rgba(60, 64, 67, 0.3), 0px 1px 3px 1px rgba(60, 64, 67, 0.15);\n",
              "      fill: #174EA6;\n",
              "    }\n",
              "\n",
              "    [theme=dark] .colab-df-convert {\n",
              "      background-color: #3B4455;\n",
              "      fill: #D2E3FC;\n",
              "    }\n",
              "\n",
              "    [theme=dark] .colab-df-convert:hover {\n",
              "      background-color: #434B5C;\n",
              "      box-shadow: 0px 1px 3px 1px rgba(0, 0, 0, 0.15);\n",
              "      filter: drop-shadow(0px 1px 2px rgba(0, 0, 0, 0.3));\n",
              "      fill: #FFFFFF;\n",
              "    }\n",
              "  </style>\n",
              "\n",
              "      <script>\n",
              "        const buttonEl =\n",
              "          document.querySelector('#df-10899ae4-09f3-45b5-9399-19bf6c4e0f73 button.colab-df-convert');\n",
              "        buttonEl.style.display =\n",
              "          google.colab.kernel.accessAllowed ? 'block' : 'none';\n",
              "\n",
              "        async function convertToInteractive(key) {\n",
              "          const element = document.querySelector('#df-10899ae4-09f3-45b5-9399-19bf6c4e0f73');\n",
              "          const dataTable =\n",
              "            await google.colab.kernel.invokeFunction('convertToInteractive',\n",
              "                                                     [key], {});\n",
              "          if (!dataTable) return;\n",
              "\n",
              "          const docLinkHtml = 'Like what you see? Visit the ' +\n",
              "            '<a target=\"_blank\" href=https://colab.research.google.com/notebooks/data_table.ipynb>data table notebook</a>'\n",
              "            + ' to learn more about interactive tables.';\n",
              "          element.innerHTML = '';\n",
              "          dataTable['output_type'] = 'display_data';\n",
              "          await google.colab.output.renderOutput(dataTable, element);\n",
              "          const docLink = document.createElement('div');\n",
              "          docLink.innerHTML = docLinkHtml;\n",
              "          element.appendChild(docLink);\n",
              "        }\n",
              "      </script>\n",
              "    </div>\n",
              "  </div>\n",
              "  "
            ]
          },
          "metadata": {},
          "execution_count": 10
        }
      ]
    },
    {
      "cell_type": "code",
      "source": [
        "tdm_df.sum().to_dict() # 시각화 해보고자 딕셔너리로 변경"
      ],
      "metadata": {
        "colab": {
          "base_uri": "https://localhost:8080/"
        },
        "id": "1336zb2GnHmx",
        "outputId": "163fea03-5fbb-49c2-81f4-07981f5ee6e7"
      },
      "execution_count": null,
      "outputs": [
        {
          "output_type": "execute_result",
          "data": {
            "text/plain": [
              "{'10': 29,\n",
              " 'acting': 43,\n",
              " 'actor': 10,\n",
              " 'actors': 19,\n",
              " 'actually': 10,\n",
              " 'art': 13,\n",
              " 'awful': 14,\n",
              " 'bad': 71,\n",
              " 'beautiful': 11,\n",
              " 'best': 25,\n",
              " 'better': 18,\n",
              " 'big': 10,\n",
              " 'black': 10,\n",
              " 'boring': 10,\n",
              " 'camera': 10,\n",
              " 'cast': 18,\n",
              " 'character': 24,\n",
              " 'characters': 35,\n",
              " 'cinematography': 10,\n",
              " 'definitely': 9,\n",
              " 'dialogue': 13,\n",
              " 'did': 11,\n",
              " 'didn': 22,\n",
              " 'director': 12,\n",
              " 'doesn': 12,\n",
              " 'don': 26,\n",
              " 'drama': 10,\n",
              " 'effects': 9,\n",
              " 'end': 11,\n",
              " 'ending': 11,\n",
              " 'excellent': 16,\n",
              " 'feeling': 10,\n",
              " 'film': 163,\n",
              " 'films': 24,\n",
              " 'funny': 19,\n",
              " 'game': 9,\n",
              " 'going': 10,\n",
              " 'good': 58,\n",
              " 'great': 41,\n",
              " 'highly': 10,\n",
              " 'interesting': 12,\n",
              " 'job': 9,\n",
              " 'just': 63,\n",
              " 'know': 14,\n",
              " 'life': 12,\n",
              " 'like': 48,\n",
              " 'liked': 10,\n",
              " 'line': 12,\n",
              " 'little': 17,\n",
              " 'look': 19,\n",
              " 'love': 22,\n",
              " 'loved': 10,\n",
              " 'make': 22,\n",
              " 'man': 13,\n",
              " 'movie': 182,\n",
              " 'movies': 29,\n",
              " 'music': 14,\n",
              " 'people': 14,\n",
              " 'performance': 12,\n",
              " 'piece': 10,\n",
              " 'played': 10,\n",
              " 'plot': 28,\n",
              " 'predictable': 10,\n",
              " 'pretty': 13,\n",
              " 'quite': 10,\n",
              " 'real': 21,\n",
              " 'really': 41,\n",
              " 'recommend': 13,\n",
              " 'right': 13,\n",
              " 'saw': 12,\n",
              " 'say': 13,\n",
              " 'scene': 14,\n",
              " 'scenes': 19,\n",
              " 'screen': 14,\n",
              " 'script': 24,\n",
              " 'seen': 23,\n",
              " 'short': 11,\n",
              " 'simply': 10,\n",
              " 'story': 28,\n",
              " 'stupid': 14,\n",
              " 'terrible': 12,\n",
              " 'thing': 13,\n",
              " 'things': 12,\n",
              " 'think': 21,\n",
              " 'thought': 12,\n",
              " 'time': 43,\n",
              " 'totally': 15,\n",
              " 'truly': 9,\n",
              " 've': 13,\n",
              " 'waste': 14,\n",
              " 'watch': 17,\n",
              " 'watching': 22,\n",
              " 'way': 23,\n",
              " 'wonderful': 18,\n",
              " 'work': 20,\n",
              " 'worse': 11,\n",
              " 'worst': 11,\n",
              " 'worth': 13,\n",
              " 'writing': 13,\n",
              " 'years': 14}"
            ]
          },
          "metadata": {},
          "execution_count": 11
        }
      ]
    },
    {
      "cell_type": "markdown",
      "source": [
        "# 단어구름 만들어 시각화해보기"
      ],
      "metadata": {
        "id": "lxMkOZM7nHhk"
      }
    },
    {
      "cell_type": "code",
      "source": [
        "from wordcloud import WordCloud\n",
        "wc = WordCloud(background_color='white',width=500,height=500)"
      ],
      "metadata": {
        "id": "y-oHvFOSnHfN"
      },
      "execution_count": null,
      "outputs": []
    },
    {
      "cell_type": "code",
      "source": [
        "cloud = wc.generate_from_frequencies(tdm_df.sum().to_dict())\n",
        "cloud.to_image()"
      ],
      "metadata": {
        "colab": {
          "base_uri": "https://localhost:8080/",
          "height": 517
        },
        "id": "p8R8-td2nHc5",
        "outputId": "2f301db0-fcd9-4060-e712-200d6c189c7e"
      },
      "execution_count": null,
      "outputs": [
        {
          "output_type": "execute_result",
          "data": {
            "text/plain": [
              "<PIL.Image.Image image mode=RGB size=500x500 at 0x7FB2A05BCC90>"
            ],
            "image/png": "[encoded data removed]"
          },
          "metadata": {},
          "execution_count": 13
        }
      ]
    },
    {
      "cell_type": "markdown",
      "source": [
        "# TF-IDF\n",
        "- 단어 빈도(TF) 와 역문서빈도(IDF) 를 곱한값\n",
        "- 단어 빈도에 가중치를 주는 방법\n",
        "- 문서빈도(DF) : 각 단어가 등장한 문서의 수\n",
        "- 역문서빈도(IDF) : 총문서를 DF로 나눈 값 \n",
        "- idf가 높을수록 좋은 단어이다  "
      ],
      "metadata": {
        "id": "hLaWjNRJnHaJ"
      }
    },
    {
      "cell_type": "code",
      "source": [
        "from sklearn.feature_extraction.text import TfidfVectorizer\n",
        "tfidf_vec = TfidfVectorizer(max_features=100, stop_words=\"english\")\n",
        "tfidf= tfidf_vec.fit_transform(df[\"review\"])\n",
        "tfidf"
      ],
      "metadata": {
        "colab": {
          "base_uri": "https://localhost:8080/"
        },
        "id": "n2T3uvyXnHXq",
        "outputId": "59ab41d5-0f39-4c9c-b611-f34f53e67b01"
      },
      "execution_count": null,
      "outputs": [
        {
          "output_type": "execute_result",
          "data": {
            "text/plain": [
              "<748x100 sparse matrix of type '<class 'numpy.float64'>'\n",
              "\twith 1775 stored elements in Compressed Sparse Row format>"
            ]
          },
          "metadata": {},
          "execution_count": 14
        }
      ]
    },
    {
      "cell_type": "code",
      "source": [
        "pd.DataFrame(tfidf.toarray(),columns = tfidf_vec.get_feature_names_out())"
      ],
      "metadata": {
        "colab": {
          "base_uri": "https://localhost:8080/",
          "height": 424
        },
        "id": "2lkocmQEnHVD",
        "outputId": "0aabd343-e060-467e-dd79-b7d84d5026ba"
      },
      "execution_count": null,
      "outputs": [
        {
          "output_type": "execute_result",
          "data": {
            "text/plain": [
              "      10    acting  actor  actors  actually  art  awful  bad  beautiful  \\\n",
              "0    0.0  0.000000    0.0     0.0       0.0  0.0    0.0  0.0        0.0   \n",
              "1    0.0  0.000000    0.0     0.0       0.0  0.0    0.0  0.0        0.0   \n",
              "2    0.0  0.402595    0.0     0.0       0.0  0.0    0.0  0.0        0.0   \n",
              "3    0.0  0.000000    0.0     0.0       0.0  0.0    0.0  0.0        0.0   \n",
              "4    0.0  0.000000    0.0     0.0       0.0  0.0    0.0  0.0        0.0   \n",
              "..   ...       ...    ...     ...       ...  ...    ...  ...        ...   \n",
              "743  0.0  0.000000    0.0     0.0       0.0  0.0    0.0  0.0        0.0   \n",
              "744  0.0  0.000000    0.0     0.0       0.0  0.0    0.0  0.0        0.0   \n",
              "745  0.0  0.000000    0.0     0.0       0.0  0.0    0.0  0.0        0.0   \n",
              "746  0.0  0.000000    0.0     0.0       0.0  0.0    0.0  1.0        0.0   \n",
              "747  0.0  0.000000    0.0     0.0       0.0  0.0    0.0  0.0        0.0   \n",
              "\n",
              "         best  ...  watch  watching  way  wonderful      work  worse  worst  \\\n",
              "0    0.000000  ...    0.0  0.000000  0.0        0.0  0.000000    0.0    0.0   \n",
              "1    0.000000  ...    0.0  0.000000  0.0        0.0  0.000000    0.0    0.0   \n",
              "2    0.000000  ...    0.0  0.000000  0.0        0.0  0.000000    0.0    0.0   \n",
              "3    0.000000  ...    0.0  0.000000  0.0        0.0  0.000000    0.0    0.0   \n",
              "4    0.618573  ...    0.0  0.000000  0.0        0.0  0.000000    0.0    0.0   \n",
              "..        ...  ...    ...       ...  ...        ...       ...    ...    ...   \n",
              "743  0.000000  ...    0.0  0.785154  0.0        0.0  0.000000    0.0    0.0   \n",
              "744  0.000000  ...    0.0  0.000000  0.0        0.0  0.652005    0.0    0.0   \n",
              "745  0.000000  ...    0.0  0.000000  0.0        0.0  0.000000    0.0    0.0   \n",
              "746  0.000000  ...    0.0  0.000000  0.0        0.0  0.000000    0.0    0.0   \n",
              "747  0.000000  ...    0.0  0.000000  0.0        0.0  0.000000    0.0    0.0   \n",
              "\n",
              "     worth  writing  years  \n",
              "0      0.0      0.0    0.0  \n",
              "1      0.0      0.0    0.0  \n",
              "2      0.0      0.0    0.0  \n",
              "3      0.0      0.0    0.0  \n",
              "4      0.0      0.0    0.0  \n",
              "..     ...      ...    ...  \n",
              "743    0.0      0.0    0.0  \n",
              "744    0.0      0.0    0.0  \n",
              "745    0.0      0.0    0.0  \n",
              "746    0.0      0.0    0.0  \n",
              "747    0.0      0.0    0.0  \n",
              "\n",
              "[748 rows x 100 columns]"
            ],
            "text/html": [
              "\n",
              "  <div id=\"df-f17d3c0a-84f7-470b-987e-a2829f137cdd\">\n",
              "    <div class=\"colab-df-container\">\n",
              "      <div>\n",
              "<style scoped>\n",
              "    .dataframe tbody tr th:only-of-type {\n",
              "        vertical-align: middle;\n",
              "    }\n",
              "\n",
              "    .dataframe tbody tr th {\n",
              "        vertical-align: top;\n",
              "    }\n",
              "\n",
              "    .dataframe thead th {\n",
              "        text-align: right;\n",
              "    }\n",
              "</style>\n",
              "<table border=\"1\" class=\"dataframe\">\n",
              "  <thead>\n",
              "    <tr style=\"text-align: right;\">\n",
              "      <th></th>\n",
              "      <th>10</th>\n",
              "      <th>acting</th>\n",
              "      <th>actor</th>\n",
              "      <th>actors</th>\n",
              "      <th>actually</th>\n",
              "      <th>art</th>\n",
              "      <th>awful</th>\n",
              "      <th>bad</th>\n",
              "      <th>beautiful</th>\n",
              "      <th>best</th>\n",
              "      <th>...</th>\n",
              "      <th>watch</th>\n",
              "      <th>watching</th>\n",
              "      <th>way</th>\n",
              "      <th>wonderful</th>\n",
              "      <th>work</th>\n",
              "      <th>worse</th>\n",
              "      <th>worst</th>\n",
              "      <th>worth</th>\n",
              "      <th>writing</th>\n",
              "      <th>years</th>\n",
              "    </tr>\n",
              "  </thead>\n",
              "  <tbody>\n",
              "    <tr>\n",
              "      <th>0</th>\n",
              "      <td>0.0</td>\n",
              "      <td>0.000000</td>\n",
              "      <td>0.0</td>\n",
              "      <td>0.0</td>\n",
              "      <td>0.0</td>\n",
              "      <td>0.0</td>\n",
              "      <td>0.0</td>\n",
              "      <td>0.0</td>\n",
              "      <td>0.0</td>\n",
              "      <td>0.000000</td>\n",
              "      <td>...</td>\n",
              "      <td>0.0</td>\n",
              "      <td>0.000000</td>\n",
              "      <td>0.0</td>\n",
              "      <td>0.0</td>\n",
              "      <td>0.000000</td>\n",
              "      <td>0.0</td>\n",
              "      <td>0.0</td>\n",
              "      <td>0.0</td>\n",
              "      <td>0.0</td>\n",
              "      <td>0.0</td>\n",
              "    </tr>\n",
              "    <tr>\n",
              "      <th>1</th>\n",
              "      <td>0.0</td>\n",
              "      <td>0.000000</td>\n",
              "      <td>0.0</td>\n",
              "      <td>0.0</td>\n",
              "      <td>0.0</td>\n",
              "      <td>0.0</td>\n",
              "      <td>0.0</td>\n",
              "      <td>0.0</td>\n",
              "      <td>0.0</td>\n",
              "      <td>0.000000</td>\n",
              "      <td>...</td>\n",
              "      <td>0.0</td>\n",
              "      <td>0.000000</td>\n",
              "      <td>0.0</td>\n",
              "      <td>0.0</td>\n",
              "      <td>0.000000</td>\n",
              "      <td>0.0</td>\n",
              "      <td>0.0</td>\n",
              "      <td>0.0</td>\n",
              "      <td>0.0</td>\n",
              "      <td>0.0</td>\n",
              "    </tr>\n",
              "    <tr>\n",
              "      <th>2</th>\n",
              "      <td>0.0</td>\n",
              "      <td>0.402595</td>\n",
              "      <td>0.0</td>\n",
              "      <td>0.0</td>\n",
              "      <td>0.0</td>\n",
              "      <td>0.0</td>\n",
              "      <td>0.0</td>\n",
              "      <td>0.0</td>\n",
              "      <td>0.0</td>\n",
              "      <td>0.000000</td>\n",
              "      <td>...</td>\n",
              "      <td>0.0</td>\n",
              "      <td>0.000000</td>\n",
              "      <td>0.0</td>\n",
              "      <td>0.0</td>\n",
              "      <td>0.000000</td>\n",
              "      <td>0.0</td>\n",
              "      <td>0.0</td>\n",
              "      <td>0.0</td>\n",
              "      <td>0.0</td>\n",
              "      <td>0.0</td>\n",
              "    </tr>\n",
              "    <tr>\n",
              "      <th>3</th>\n",
              "      <td>0.0</td>\n",
              "      <td>0.000000</td>\n",
              "      <td>0.0</td>\n",
              "      <td>0.0</td>\n",
              "      <td>0.0</td>\n",
              "      <td>0.0</td>\n",
              "      <td>0.0</td>\n",
              "      <td>0.0</td>\n",
              "      <td>0.0</td>\n",
              "      <td>0.000000</td>\n",
              "      <td>...</td>\n",
              "      <td>0.0</td>\n",
              "      <td>0.000000</td>\n",
              "      <td>0.0</td>\n",
              "      <td>0.0</td>\n",
              "      <td>0.000000</td>\n",
              "      <td>0.0</td>\n",
              "      <td>0.0</td>\n",
              "      <td>0.0</td>\n",
              "      <td>0.0</td>\n",
              "      <td>0.0</td>\n",
              "    </tr>\n",
              "    <tr>\n",
              "      <th>4</th>\n",
              "      <td>0.0</td>\n",
              "      <td>0.000000</td>\n",
              "      <td>0.0</td>\n",
              "      <td>0.0</td>\n",
              "      <td>0.0</td>\n",
              "      <td>0.0</td>\n",
              "      <td>0.0</td>\n",
              "      <td>0.0</td>\n",
              "      <td>0.0</td>\n",
              "      <td>0.618573</td>\n",
              "      <td>...</td>\n",
              "      <td>0.0</td>\n",
              "      <td>0.000000</td>\n",
              "      <td>0.0</td>\n",
              "      <td>0.0</td>\n",
              "      <td>0.000000</td>\n",
              "      <td>0.0</td>\n",
              "      <td>0.0</td>\n",
              "      <td>0.0</td>\n",
              "      <td>0.0</td>\n",
              "      <td>0.0</td>\n",
              "    </tr>\n",
              "    <tr>\n",
              "      <th>...</th>\n",
              "      <td>...</td>\n",
              "      <td>...</td>\n",
              "      <td>...</td>\n",
              "      <td>...</td>\n",
              "      <td>...</td>\n",
              "      <td>...</td>\n",
              "      <td>...</td>\n",
              "      <td>...</td>\n",
              "      <td>...</td>\n",
              "      <td>...</td>\n",
              "      <td>...</td>\n",
              "      <td>...</td>\n",
              "      <td>...</td>\n",
              "      <td>...</td>\n",
              "      <td>...</td>\n",
              "      <td>...</td>\n",
              "      <td>...</td>\n",
              "      <td>...</td>\n",
              "      <td>...</td>\n",
              "      <td>...</td>\n",
              "      <td>...</td>\n",
              "    </tr>\n",
              "    <tr>\n",
              "      <th>743</th>\n",
              "      <td>0.0</td>\n",
              "      <td>0.000000</td>\n",
              "      <td>0.0</td>\n",
              "      <td>0.0</td>\n",
              "      <td>0.0</td>\n",
              "      <td>0.0</td>\n",
              "      <td>0.0</td>\n",
              "      <td>0.0</td>\n",
              "      <td>0.0</td>\n",
              "      <td>0.000000</td>\n",
              "      <td>...</td>\n",
              "      <td>0.0</td>\n",
              "      <td>0.785154</td>\n",
              "      <td>0.0</td>\n",
              "      <td>0.0</td>\n",
              "      <td>0.000000</td>\n",
              "      <td>0.0</td>\n",
              "      <td>0.0</td>\n",
              "      <td>0.0</td>\n",
              "      <td>0.0</td>\n",
              "      <td>0.0</td>\n",
              "    </tr>\n",
              "    <tr>\n",
              "      <th>744</th>\n",
              "      <td>0.0</td>\n",
              "      <td>0.000000</td>\n",
              "      <td>0.0</td>\n",
              "      <td>0.0</td>\n",
              "      <td>0.0</td>\n",
              "      <td>0.0</td>\n",
              "      <td>0.0</td>\n",
              "      <td>0.0</td>\n",
              "      <td>0.0</td>\n",
              "      <td>0.000000</td>\n",
              "      <td>...</td>\n",
              "      <td>0.0</td>\n",
              "      <td>0.000000</td>\n",
              "      <td>0.0</td>\n",
              "      <td>0.0</td>\n",
              "      <td>0.652005</td>\n",
              "      <td>0.0</td>\n",
              "      <td>0.0</td>\n",
              "      <td>0.0</td>\n",
              "      <td>0.0</td>\n",
              "      <td>0.0</td>\n",
              "    </tr>\n",
              "    <tr>\n",
              "      <th>745</th>\n",
              "      <td>0.0</td>\n",
              "      <td>0.000000</td>\n",
              "      <td>0.0</td>\n",
              "      <td>0.0</td>\n",
              "      <td>0.0</td>\n",
              "      <td>0.0</td>\n",
              "      <td>0.0</td>\n",
              "      <td>0.0</td>\n",
              "      <td>0.0</td>\n",
              "      <td>0.000000</td>\n",
              "      <td>...</td>\n",
              "      <td>0.0</td>\n",
              "      <td>0.000000</td>\n",
              "      <td>0.0</td>\n",
              "      <td>0.0</td>\n",
              "      <td>0.000000</td>\n",
              "      <td>0.0</td>\n",
              "      <td>0.0</td>\n",
              "      <td>0.0</td>\n",
              "      <td>0.0</td>\n",
              "      <td>0.0</td>\n",
              "    </tr>\n",
              "    <tr>\n",
              "      <th>746</th>\n",
              "      <td>0.0</td>\n",
              "      <td>0.000000</td>\n",
              "      <td>0.0</td>\n",
              "      <td>0.0</td>\n",
              "      <td>0.0</td>\n",
              "      <td>0.0</td>\n",
              "      <td>0.0</td>\n",
              "      <td>1.0</td>\n",
              "      <td>0.0</td>\n",
              "      <td>0.000000</td>\n",
              "      <td>...</td>\n",
              "      <td>0.0</td>\n",
              "      <td>0.000000</td>\n",
              "      <td>0.0</td>\n",
              "      <td>0.0</td>\n",
              "      <td>0.000000</td>\n",
              "      <td>0.0</td>\n",
              "      <td>0.0</td>\n",
              "      <td>0.0</td>\n",
              "      <td>0.0</td>\n",
              "      <td>0.0</td>\n",
              "    </tr>\n",
              "    <tr>\n",
              "      <th>747</th>\n",
              "      <td>0.0</td>\n",
              "      <td>0.000000</td>\n",
              "      <td>0.0</td>\n",
              "      <td>0.0</td>\n",
              "      <td>0.0</td>\n",
              "      <td>0.0</td>\n",
              "      <td>0.0</td>\n",
              "      <td>0.0</td>\n",
              "      <td>0.0</td>\n",
              "      <td>0.000000</td>\n",
              "      <td>...</td>\n",
              "      <td>0.0</td>\n",
              "      <td>0.000000</td>\n",
              "      <td>0.0</td>\n",
              "      <td>0.0</td>\n",
              "      <td>0.000000</td>\n",
              "      <td>0.0</td>\n",
              "      <td>0.0</td>\n",
              "      <td>0.0</td>\n",
              "      <td>0.0</td>\n",
              "      <td>0.0</td>\n",
              "    </tr>\n",
              "  </tbody>\n",
              "</table>\n",
              "<p>748 rows × 100 columns</p>\n",
              "</div>\n",
              "      <button class=\"colab-df-convert\" onclick=\"convertToInteractive('df-f17d3c0a-84f7-470b-987e-a2829f137cdd')\"\n",
              "              title=\"Convert this dataframe to an interactive table.\"\n",
              "              style=\"display:none;\">\n",
              "        \n",
              "  <svg xmlns=\"http://www.w3.org/2000/svg\" height=\"24px\"viewBox=\"0 0 24 24\"\n",
              "       width=\"24px\">\n",
              "    <path d=\"M0 0h24v24H0V0z\" fill=\"none\"/>\n",
              "    <path d=\"M18.56 5.44l.94 2.06.94-2.06 2.06-.94-2.06-.94-.94-2.06-.94 2.06-2.06.94zm-11 1L8.5 8.5l.94-2.06 2.06-.94-2.06-.94L8.5 2.5l-.94 2.06-2.06.94zm10 10l.94 2.06.94-2.06 2.06-.94-2.06-.94-.94-2.06-.94 2.06-2.06.94z\"/><path d=\"M17.41 7.96l-1.37-1.37c-.4-.4-.92-.59-1.43-.59-.52 0-1.04.2-1.43.59L10.3 9.45l-7.72 7.72c-.78.78-.78 2.05 0 2.83L4 21.41c.39.39.9.59 1.41.59.51 0 1.02-.2 1.41-.59l7.78-7.78 2.81-2.81c.8-.78.8-2.07 0-2.86zM5.41 20L4 18.59l7.72-7.72 1.47 1.35L5.41 20z\"/>\n",
              "  </svg>\n",
              "      </button>\n",
              "      \n",
              "  <style>\n",
              "    .colab-df-container {\n",
              "      display:flex;\n",
              "      flex-wrap:wrap;\n",
              "      gap: 12px;\n",
              "    }\n",
              "\n",
              "    .colab-df-convert {\n",
              "      background-color: #E8F0FE;\n",
              "      border: none;\n",
              "      border-radius: 50%;\n",
              "      cursor: pointer;\n",
              "      display: none;\n",
              "      fill: #1967D2;\n",
              "      height: 32px;\n",
              "      padding: 0 0 0 0;\n",
              "      width: 32px;\n",
              "    }\n",
              "\n",
              "    .colab-df-convert:hover {\n",
              "      background-color: #E2EBFA;\n",
              "      box-shadow: 0px 1px 2px rgba(60, 64, 67, 0.3), 0px 1px 3px 1px rgba(60, 64, 67, 0.15);\n",
              "      fill: #174EA6;\n",
              "    }\n",
              "\n",
              "    [theme=dark] .colab-df-convert {\n",
              "      background-color: #3B4455;\n",
              "      fill: #D2E3FC;\n",
              "    }\n",
              "\n",
              "    [theme=dark] .colab-df-convert:hover {\n",
              "      background-color: #434B5C;\n",
              "      box-shadow: 0px 1px 3px 1px rgba(0, 0, 0, 0.15);\n",
              "      filter: drop-shadow(0px 1px 2px rgba(0, 0, 0, 0.3));\n",
              "      fill: #FFFFFF;\n",
              "    }\n",
              "  </style>\n",
              "\n",
              "      <script>\n",
              "        const buttonEl =\n",
              "          document.querySelector('#df-f17d3c0a-84f7-470b-987e-a2829f137cdd button.colab-df-convert');\n",
              "        buttonEl.style.display =\n",
              "          google.colab.kernel.accessAllowed ? 'block' : 'none';\n",
              "\n",
              "        async function convertToInteractive(key) {\n",
              "          const element = document.querySelector('#df-f17d3c0a-84f7-470b-987e-a2829f137cdd');\n",
              "          const dataTable =\n",
              "            await google.colab.kernel.invokeFunction('convertToInteractive',\n",
              "                                                     [key], {});\n",
              "          if (!dataTable) return;\n",
              "\n",
              "          const docLinkHtml = 'Like what you see? Visit the ' +\n",
              "            '<a target=\"_blank\" href=https://colab.research.google.com/notebooks/data_table.ipynb>data table notebook</a>'\n",
              "            + ' to learn more about interactive tables.';\n",
              "          element.innerHTML = '';\n",
              "          dataTable['output_type'] = 'display_data';\n",
              "          await google.colab.output.renderOutput(dataTable, element);\n",
              "          const docLink = document.createElement('div');\n",
              "          docLink.innerHTML = docLinkHtml;\n",
              "          element.appendChild(docLink);\n",
              "        }\n",
              "      </script>\n",
              "    </div>\n",
              "  </div>\n",
              "  "
            ]
          },
          "metadata": {},
          "execution_count": 15
        }
      ]
    },
    {
      "cell_type": "markdown",
      "source": [
        "# 토큰화(tokenization)\n",
        "- 자연어 처리를 위해 문장을 처리하기 위한 단위인 토큰으로 분리하는 것 "
      ],
      "metadata": {
        "id": "D0hf5rBYnHSs"
      }
    },
    {
      "cell_type": "code",
      "source": [
        "from torchtext.data.utils import get_tokenizer\n",
        "tokenizer = get_tokenizer(\"basic_english\")\n",
        "# get_tokenizer(lambda x : x.split()) # 콜백함수로 넣는 또다른 방법"
      ],
      "metadata": {
        "id": "FGU28jmEnHP1"
      },
      "execution_count": null,
      "outputs": []
    },
    {
      "cell_type": "code",
      "source": [
        "tokenizer(\"i love you\")"
      ],
      "metadata": {
        "colab": {
          "base_uri": "https://localhost:8080/"
        },
        "id": "RPoTQGjSnHNq",
        "outputId": "357535c3-e826-4ca0-c9c4-1a7c837d7a29"
      },
      "execution_count": null,
      "outputs": [
        {
          "output_type": "execute_result",
          "data": {
            "text/plain": [
              "['i', 'love', 'you']"
            ]
          },
          "metadata": {},
          "execution_count": 17
        }
      ]
    },
    {
      "cell_type": "markdown",
      "source": [
        "- 어휘집 만들기"
      ],
      "metadata": {
        "id": "0BmD-boMnHKy"
      }
    },
    {
      "cell_type": "code",
      "source": [
        "from torchtext.vocab import build_vocab_from_iterator"
      ],
      "metadata": {
        "id": "Pxy-4tSVnHIa"
      },
      "execution_count": null,
      "outputs": []
    },
    {
      "cell_type": "code",
      "source": [
        "def yield_tokens(data,tokenizer):\n",
        "    for text in data:\n",
        "        yield tokenizer(text)"
      ],
      "metadata": {
        "id": "Xk0i1zyHnHF8"
      },
      "execution_count": null,
      "outputs": []
    },
    {
      "cell_type": "markdown",
      "source": [
        "- padding\n",
        "    - 문자열의 길이를 맞추기 위해 채워주는것 (대부분 0)\n",
        "- OOV(Out-Of-Vocabulary)\n",
        "    - 모르는 새로운 단어가 나올떄 특정 숫자로 채우겠다 (대부분 1)\n"
      ],
      "metadata": {
        "id": "CWKLk0ia312K"
      }
    },
    {
      "cell_type": "code",
      "source": [
        "gen = yield_tokens(df[\"review\"],tokenizer)\n",
        "vocab = build_vocab_from_iterator(gen,specials=[\"<pad>\",\"<unk>\"]) # 문자의길이를 맞추기위해 <pad>를 사용함으로써 0으로 지정 <pad>사전에 없는 단어를 1로 지정\n",
        "vocab.set_default_index(vocab[\"<unk>\"]) # 새로운 단어가 생기면 1로 바꾸겠다"
      ],
      "metadata": {
        "id": "bxu9HpewnHDl"
      },
      "execution_count": null,
      "outputs": []
    },
    {
      "cell_type": "code",
      "source": [
        "len(vocab) # 내가 만든 단어사전에 단어가 몇개 있는지"
      ],
      "metadata": {
        "colab": {
          "base_uri": "https://localhost:8080/"
        },
        "id": "1Z-dTmsWnG-Z",
        "outputId": "28998cbf-cfee-4d3b-c638-d9e0254bc41e"
      },
      "execution_count": null,
      "outputs": [
        {
          "output_type": "execute_result",
          "data": {
            "text/plain": [
              "3146"
            ]
          },
          "metadata": {},
          "execution_count": 21
        }
      ]
    },
    {
      "cell_type": "code",
      "source": [
        "vocab([\"a\",\"very\",\"karns\"]) # karns는 단어장에 정의되있지 않기 때문에 1로 출력"
      ],
      "metadata": {
        "colab": {
          "base_uri": "https://localhost:8080/"
        },
        "id": "06GqMAwVnG8K",
        "outputId": "63892542-5abe-485c-9c83-a57b8b9154b2"
      },
      "execution_count": null,
      "outputs": [
        {
          "output_type": "execute_result",
          "data": {
            "text/plain": [
              "[6, 34, 1]"
            ]
          },
          "metadata": {},
          "execution_count": 22
        }
      ]
    },
    {
      "cell_type": "code",
      "source": [
        "vocab.lookup_tokens([6,34,1,0]) # 디코딩 방법"
      ],
      "metadata": {
        "colab": {
          "base_uri": "https://localhost:8080/"
        },
        "id": "flWI76UKnG5-",
        "outputId": "dc6d0683-24e9-4910-ad02-aaf602f983b4"
      },
      "execution_count": null,
      "outputs": [
        {
          "output_type": "execute_result",
          "data": {
            "text/plain": [
              "['a', 'very', '<unk>', '<pad>']"
            ]
          },
          "metadata": {},
          "execution_count": 23
        }
      ]
    },
    {
      "cell_type": "markdown",
      "source": [
        "- 학습 및 정답 데이터 만들기 "
      ],
      "metadata": {
        "id": "lIRFlb26nG3K"
      }
    },
    {
      "cell_type": "code",
      "source": [
        "train = [vocab(tokenizer(text)) for text in df[\"review\"].tolist()] # 토큰화와 정수인코딩가지 마친 데이터\n",
        "target = df.sentiment.to_numpy()\n",
        "len(train), target.shape"
      ],
      "metadata": {
        "colab": {
          "base_uri": "https://localhost:8080/"
        },
        "id": "OQZicPz6nG1B",
        "outputId": "efd0a76b-18e8-4680-809f-23a7969e9e87"
      },
      "execution_count": null,
      "outputs": [
        {
          "output_type": "execute_result",
          "data": {
            "text/plain": [
              "(748, (748,))"
            ]
          },
          "metadata": {},
          "execution_count": 24
        }
      ]
    },
    {
      "cell_type": "code",
      "source": [
        "import torch\n",
        "import numpy as np\n",
        "import pandas as pd\n",
        "from tqdm.auto import tqdm\n",
        "import random # 시드 고정을 위해\n",
        "import os # 시드 고정을 위해\n",
        "\n",
        "device = 'cuda' if torch.cuda.is_available() else 'cpu'\n",
        "device"
      ],
      "metadata": {
        "colab": {
          "base_uri": "https://localhost:8080/",
          "height": 36
        },
        "id": "-BXC0YzYABuk",
        "outputId": "508795b9-b33f-429e-db7c-f34a4e31cbb9"
      },
      "execution_count": null,
      "outputs": [
        {
          "output_type": "execute_result",
          "data": {
            "text/plain": [
              "'cpu'"
            ],
            "application/vnd.google.colaboratory.intrinsic+json": {
              "type": "string"
            }
          },
          "metadata": {},
          "execution_count": 25
        }
      ]
    },
    {
      "cell_type": "code",
      "source": [
        "def reset_seeds(seed):\n",
        "    random.seed(seed)\n",
        "    os.environ['PYTHONHASHSEED'] = str(seed)    # 파이썬 환경변수 시드 고정\n",
        "    np.random.seed(seed)\n",
        "    torch.manual_seed(seed) # cpu 연산 무작위 고정\n",
        "    torch.cuda.manual_seed(seed) # gpu 연산 무작위 고정\n",
        "    torch.backends.cudnn.deterministic = True  # cuda 라이브러리에서 Deterministic(결정론적)으로 예측하기 (예측에 대한 불확실성 제거 )"
      ],
      "metadata": {
        "id": "MLfSZD53AOEz"
      },
      "execution_count": null,
      "outputs": []
    },
    {
      "cell_type": "code",
      "source": [
        "class ReviewDataset(torch.utils.data.Dataset):\n",
        "    def __init__(self,x,y=None):\n",
        "        self.x = x\n",
        "        self.y = y\n",
        "    def __len__(self):\n",
        "        return len(self.x) # 리스트로 들어오때문에 len으로 반환\n",
        "    def __getitem__(self,idx):\n",
        "        item={}\n",
        "        item[\"x\"] = self.x[idx]\n",
        "        if self.y is not None:\n",
        "            item[\"y\"] = self.y[idx]\n",
        "        return item"
      ],
      "metadata": {
        "id": "Hmis0DRhnGyb"
      },
      "execution_count": null,
      "outputs": []
    },
    {
      "cell_type": "code",
      "source": [
        "dt = ReviewDataset(train,target)\n",
        "dt[0]"
      ],
      "metadata": {
        "id": "PBgQ9cManGv0",
        "colab": {
          "base_uri": "https://localhost:8080/"
        },
        "outputId": "1466e13c-d59e-4e97-8824-ad9a61f6724d"
      },
      "execution_count": null,
      "outputs": [
        {
          "output_type": "execute_result",
          "data": {
            "text/plain": [
              "{'x': [6,\n",
              "  34,\n",
              "  4,\n",
              "  34,\n",
              "  4,\n",
              "  34,\n",
              "  2741,\n",
              "  4,\n",
              "  1263,\n",
              "  16,\n",
              "  44,\n",
              "  6,\n",
              "  1688,\n",
              "  4,\n",
              "  1709,\n",
              "  524,\n",
              "  155,\n",
              "  2],\n",
              " 'y': 0}"
            ]
          },
          "metadata": {},
          "execution_count": 28
        }
      ]
    },
    {
      "cell_type": "markdown",
      "source": [
        "- collate_fn"
      ],
      "metadata": {
        "id": "X_nrSTMWCwRz"
      }
    },
    {
      "cell_type": "code",
      "source": [
        "def collate_fn(samples):\n",
        "    x = [torch.LongTensor(sample[\"x\"]) for sample in samples] # int 64형태로 변경 LongTensor\n",
        "    y = [sample[\"y\"] for sample in samples]\n",
        "    y = torch.Tensor(y).view(-1,1)\n",
        "    x = torch.nn.utils.rnn.pad_sequence(x,batch_first=True) # 문자 길이에 맞춰 채워준다. 입력데이터 batch가 먼저기 때문에 True\n",
        "    return {\"x\":x, \"y\":y}\n"
      ],
      "metadata": {
        "id": "qxDEykRNDIIk"
      },
      "execution_count": null,
      "outputs": []
    },
    {
      "cell_type": "code",
      "source": [
        "dl = torch.utils.data.DataLoader(dt, shuffle=False , batch_size = 8, collate_fn = collate_fn)"
      ],
      "metadata": {
        "id": "6ZwcWRWcnGti"
      },
      "execution_count": null,
      "outputs": []
    },
    {
      "cell_type": "code",
      "source": [
        "batch = next(iter(dl))\n",
        "batch"
      ],
      "metadata": {
        "id": "zyywIk0snGq6",
        "colab": {
          "base_uri": "https://localhost:8080/"
        },
        "outputId": "9fd171c4-8258-4185-ef5d-882f128e6b55"
      },
      "execution_count": null,
      "outputs": [
        {
          "output_type": "execute_result",
          "data": {
            "text/plain": [
              "{'x': tensor([[   6,   34,    4,   34,    4,   34, 2741,    4, 1263,   16,   44,    6,\n",
              "          1688,    4, 1709,  524,  155,    2,    0,    0,    0,    0,    0,    0,\n",
              "             0,    0,    0,    0,    0,    0,    0,    0,    0],\n",
              "         [  32,  696,   62,   15,   71,  462,   70,    3,  896,   66,   58,    3,\n",
              "           345,    4, 2338,  312,    7, 1187, 1174,   52,    2,    0,    0,    0,\n",
              "             0,    0,    0,    0,    0,    0,    0,    0,    0],\n",
              "         [1319, 1306,   26,  198,  216,  264,    5,  352,  244,  753,    4,    3,\n",
              "            16,  304,   70,  769,   59,   71,  387,   70,   24,    3,   54,   15,\n",
              "           329,    5,    3,   80,    5,  280,  218, 2357,    2],\n",
              "         [  34,  125,  144,   58,  241,   13,  690,    7,    2,    0,    0,    0,\n",
              "             0,    0,    0,    0,    0,    0,    0,    0,    0,    0,    0,    0,\n",
              "             0,    0,    0,    0,    0,    0,    0,    0,    0],\n",
              "         [   3,   85,  147,   14,    3,   16,   15,   77, 1934,    8,  513,   13,\n",
              "           202,    6,  497,   17,  963, 1085,  214,   51,  927,    2,    0,    0,\n",
              "             0,    0,    0,    0,    0,    0,    0,    0,    0],\n",
              "         [   3,  487,    7,    3,   16,  322,  165,    4,  796,    4,  626,    2,\n",
              "             2,    2,   50,   10,    9,   18,   44, 1748,    4,   10,  403,   11,\n",
              "           370,   84,   10,    9,   18,  872,    2,    0,    0],\n",
              "         [ 293,  161,  448,    2,    0,    0,    0,    0,    0,    0,    0,    0,\n",
              "             0,    0,    0,    0,    0,    0,    0,    0,    0,    0,    0,    0,\n",
              "             0,    0,    0,    0,    0,    0,    0,    0,    0],\n",
              "         [ 174,    3,   16,  508,    5,  192,   10,   15,    6,   40, 1729,    4,\n",
              "            40, 2281,   22,  251,    2,    0,    0,    0,    0,    0,    0,    0,\n",
              "             0,    0,    0,    0,    0,    0,    0,    0,    0]]),\n",
              " 'y': tensor([[0.],\n",
              "         [0.],\n",
              "         [0.],\n",
              "         [0.],\n",
              "         [1.],\n",
              "         [0.],\n",
              "         [0.],\n",
              "         [1.]])}"
            ]
          },
          "metadata": {},
          "execution_count": 31
        }
      ]
    },
    {
      "cell_type": "markdown",
      "source": [
        "# 단어 임베딩 (embedding)\n",
        "- 단어를 실수 형태의 벡터로 표현하는것\n",
        "- 신경망에서 임베딩 레이어를 추가하여 단어에 임베딩을 얻을수 있음."
      ],
      "metadata": {
        "id": "XX6kNibHnGl6"
      }
    },
    {
      "cell_type": "markdown",
      "source": [
        "- num_embeddings\n",
        "    - 임베딩을 할 단어들의 개수\n",
        "- embedding_dim\n",
        "    - 단어마다 임베딩할 벡터의 차원\n",
        "\n",
        "\n"
      ],
      "metadata": {
        "id": "c6YMuqK6IsWz"
      }
    },
    {
      "cell_type": "code",
      "source": [
        "len(vocab)"
      ],
      "metadata": {
        "colab": {
          "base_uri": "https://localhost:8080/"
        },
        "id": "eD1VWtixIwU6",
        "outputId": "12dbde9d-7c2a-452c-ab52-af486ade4148"
      },
      "execution_count": null,
      "outputs": [
        {
          "output_type": "execute_result",
          "data": {
            "text/plain": [
              "3146"
            ]
          },
          "metadata": {},
          "execution_count": 32
        }
      ]
    },
    {
      "cell_type": "code",
      "source": [
        "batch[\"x\"].shape"
      ],
      "metadata": {
        "colab": {
          "base_uri": "https://localhost:8080/"
        },
        "id": "v6hOOT64wQ13",
        "outputId": "a2d8023b-a3b6-44f4-d0c9-4f88db1f626e"
      },
      "execution_count": null,
      "outputs": [
        {
          "output_type": "execute_result",
          "data": {
            "text/plain": [
              "torch.Size([8, 33])"
            ]
          },
          "metadata": {},
          "execution_count": 35
        }
      ]
    },
    {
      "cell_type": "code",
      "source": [
        "emb_layer = torch.nn.Embedding(len(vocab),4) # 4개의 차원\n",
        "x = emb_layer(batch[\"x\"])\n",
        "x.shape # 8개행 입력길이 33 4개로 벡터화"
      ],
      "metadata": {
        "id": "7HMumunEnGca",
        "colab": {
          "base_uri": "https://localhost:8080/"
        },
        "outputId": "68ffb409-9b7b-455e-89cc-caa59ec5fdcf"
      },
      "execution_count": null,
      "outputs": [
        {
          "output_type": "execute_result",
          "data": {
            "text/plain": [
              "torch.Size([8, 33, 4])"
            ]
          },
          "metadata": {},
          "execution_count": 33
        }
      ]
    },
    {
      "cell_type": "code",
      "source": [
        "x"
      ],
      "metadata": {
        "id": "r5L-BNqHnGZy",
        "colab": {
          "base_uri": "https://localhost:8080/"
        },
        "outputId": "6af84bfc-31ed-4ac0-c4fd-606c422e1631"
      },
      "execution_count": null,
      "outputs": [
        {
          "output_type": "execute_result",
          "data": {
            "text/plain": [
              "tensor([[[ 0.0766,  0.2152, -0.4008,  0.8827],\n",
              "         [ 0.6231, -0.7009, -1.4008, -1.7198],\n",
              "         [ 1.1863,  0.0233, -0.5774,  2.7251],\n",
              "         ...,\n",
              "         [ 1.2833,  0.2229, -0.6474, -0.3285],\n",
              "         [ 1.2833,  0.2229, -0.6474, -0.3285],\n",
              "         [ 1.2833,  0.2229, -0.6474, -0.3285]],\n",
              "\n",
              "        [[ 0.3649, -0.8922, -0.6169, -1.2437],\n",
              "         [ 0.3201,  1.4867, -0.5243, -0.5753],\n",
              "         [-0.3363,  0.9650, -2.6857, -1.2600],\n",
              "         ...,\n",
              "         [ 1.2833,  0.2229, -0.6474, -0.3285],\n",
              "         [ 1.2833,  0.2229, -0.6474, -0.3285],\n",
              "         [ 1.2833,  0.2229, -0.6474, -0.3285]],\n",
              "\n",
              "        [[-0.9602, -1.8088,  1.0082,  0.3409],\n",
              "         [ 0.3308, -0.7767, -0.3932, -1.2909],\n",
              "         [-2.0816,  0.9417, -0.4835, -0.2564],\n",
              "         ...,\n",
              "         [ 0.7707, -3.1561, -0.2798,  0.1369],\n",
              "         [ 0.4193, -0.2384,  0.2517,  0.8529],\n",
              "         [-0.1960,  0.7695,  0.1302,  0.6749]],\n",
              "\n",
              "        ...,\n",
              "\n",
              "        [[ 0.2881,  1.0138, -0.7301, -0.9562],\n",
              "         [ 0.8240, -0.2852, -0.9649,  0.9801],\n",
              "         [ 0.4313, -0.9360, -0.0989, -1.8623],\n",
              "         ...,\n",
              "         [-0.1960,  0.7695,  0.1302,  0.6749],\n",
              "         [ 1.2833,  0.2229, -0.6474, -0.3285],\n",
              "         [ 1.2833,  0.2229, -0.6474, -0.3285]],\n",
              "\n",
              "        [[-0.1585,  0.0225,  1.4053, -1.1435],\n",
              "         [ 0.3184, -0.0386, -0.3790, -1.1080],\n",
              "         [ 0.5104,  0.0419, -0.6464,  1.2747],\n",
              "         ...,\n",
              "         [ 1.2833,  0.2229, -0.6474, -0.3285],\n",
              "         [ 1.2833,  0.2229, -0.6474, -0.3285],\n",
              "         [ 1.2833,  0.2229, -0.6474, -0.3285]],\n",
              "\n",
              "        [[ 0.2245,  2.0792, -0.8436, -0.8089],\n",
              "         [ 0.2881,  1.0138, -0.7301, -0.9562],\n",
              "         [-0.3472, -0.6837, -1.1787,  2.2755],\n",
              "         ...,\n",
              "         [ 1.2833,  0.2229, -0.6474, -0.3285],\n",
              "         [ 1.2833,  0.2229, -0.6474, -0.3285],\n",
              "         [ 1.2833,  0.2229, -0.6474, -0.3285]]], grad_fn=<EmbeddingBackward0>)"
            ]
          },
          "metadata": {},
          "execution_count": 36
        }
      ]
    },
    {
      "cell_type": "code",
      "source": [
        "emb_layer.weight # 1번쨰 행이 0번째 단어의 가중치"
      ],
      "metadata": {
        "id": "V8IPATIPnGXV",
        "colab": {
          "base_uri": "https://localhost:8080/"
        },
        "outputId": "961c07e5-4c37-4e19-fe67-cf5c18d97a76"
      },
      "execution_count": null,
      "outputs": [
        {
          "output_type": "execute_result",
          "data": {
            "text/plain": [
              "Parameter containing:\n",
              "tensor([[ 1.2833,  0.2229, -0.6474, -0.3285],\n",
              "        [-0.0170, -1.2954, -1.8925, -0.6245],\n",
              "        [-0.1960,  0.7695,  0.1302,  0.6749],\n",
              "        ...,\n",
              "        [-0.5238,  0.4188, -1.1470, -2.0733],\n",
              "        [-1.1832,  1.1193, -0.5827, -0.0641],\n",
              "        [-1.6993,  0.3360, -0.8105, -0.5283]], requires_grad=True)"
            ]
          },
          "metadata": {},
          "execution_count": 37
        }
      ]
    },
    {
      "cell_type": "code",
      "source": [
        "# 임베딩 레이어를 통과시킨다.\n",
        "# rnn 레이어를 통과시킨다\n",
        "# torch.info는 안됨"
      ],
      "metadata": {
        "id": "M7-hN-gKnGUx"
      },
      "execution_count": null,
      "outputs": []
    },
    {
      "cell_type": "code",
      "source": [
        "type(train)"
      ],
      "metadata": {
        "id": "CCtWxUs8nGS5",
        "colab": {
          "base_uri": "https://localhost:8080/"
        },
        "outputId": "3c760dbf-8382-4e4a-9765-8d214126962d"
      },
      "execution_count": null,
      "outputs": [
        {
          "output_type": "execute_result",
          "data": {
            "text/plain": [
              "list"
            ]
          },
          "metadata": {},
          "execution_count": 38
        }
      ]
    },
    {
      "cell_type": "code",
      "source": [
        "train = np.array(train,dtype=\"object\")# 학습데이터와 검증데이터를 나눌려면 넘파이로 바꿔야한다."
      ],
      "metadata": {
        "id": "C_3DBco6nGQT"
      },
      "execution_count": null,
      "outputs": []
    },
    {
      "cell_type": "code",
      "source": [
        "train.shape"
      ],
      "metadata": {
        "colab": {
          "base_uri": "https://localhost:8080/"
        },
        "id": "ZCMzlH44g568",
        "outputId": "4fc3071a-f564-4ced-a42b-094e016ba029"
      },
      "execution_count": null,
      "outputs": [
        {
          "output_type": "execute_result",
          "data": {
            "text/plain": [
              "(748,)"
            ]
          },
          "metadata": {},
          "execution_count": 40
        }
      ]
    },
    {
      "cell_type": "code",
      "source": [
        "target.shape"
      ],
      "metadata": {
        "colab": {
          "base_uri": "https://localhost:8080/"
        },
        "id": "41DBvzPVQcm6",
        "outputId": "deafdbe9-e8a4-4e12-ba84-a902f0eb0a66"
      },
      "execution_count": null,
      "outputs": [
        {
          "output_type": "execute_result",
          "data": {
            "text/plain": [
              "(748,)"
            ]
          },
          "metadata": {},
          "execution_count": 41
        }
      ]
    },
    {
      "cell_type": "code",
      "source": [
        "class RNNModel(torch.nn.Module):\n",
        "    def __init__(self,vocab_size,embedding_dim):\n",
        "        super().__init__()\n",
        "        self.emb_layer = torch.nn.Embedding(vocab_size,embedding_dim)\n",
        "        self.lstm_layer = torch.nn.LSTM(embedding_dim,embedding_dim//2,batch_first=True)\n",
        "        self.output_layer = torch.nn.Linear(embedding_dim//2,1)\n",
        "    def forward(self,x):\n",
        "        x = self.emb_layer(x)\n",
        "        _, (x,y) = self.lstm_layer(x) # hn은 마지막셀에 히든출력이 나온다. output은 각셀의 히든출력, 입력길이가 33이면 33개출력 cn은 셀스테이트 출력\n",
        "        x = x.squeeze() \n",
        "        x = self.output_layer(x)\n",
        "        return x"
      ],
      "metadata": {
        "id": "iJoFeDiGnGOB"
      },
      "execution_count": null,
      "outputs": []
    },
    {
      "cell_type": "code",
      "source": [
        "# class RNNModel(torch.nn.Module):\n",
        "#     def __init__(self,vocab_size,embedding_dim):\n",
        "#         super().__init__()\n",
        "#         self.emb_layer = torch.nn.Embedding(vocab_size,embedding_dim)\n",
        "#         self.gru_layer = torch.nn.GRU(embedding_dim,embedding_dim//2,batch_first=True) #torch.Size([1, 8, 16]) torch.Size([8, 16])\n",
        "#         self.output_layer = torch.nn.Linear(embedding_dim//2,1)\n",
        "#     def forward(self,x):\n",
        "#         x = self.emb_layer(x)\n",
        "#         _,x = self.gru_layer(x) # hn은 마지막셀에 히든출력이 나온다. output은 각셀의 히든출력, 입력길이가 33이면 33개출력 cn은 셀스테이트 출력\n",
        "#         x = x.squeeze() \n",
        "#         x = self.output_layer(x)\n",
        "#         return x"
      ],
      "metadata": {
        "id": "RcJm_8eqBOGD"
      },
      "execution_count": null,
      "outputs": []
    },
    {
      "cell_type": "code",
      "source": [
        "# class RNNModel(torch.nn.Module):\n",
        "#     def __init__(self, vocab_size,embedding_dim):\n",
        "#         super().__init__()\n",
        "#         self.emb_layer = torch.nn.Embedding(vocab_size,embedding_dim)\n",
        "#         self.lstm_layer = torch.nn.LSTM(embedding_dim,embedding_dim//2,batch_first=True)\n",
        "#         self.gru_layer = torch.nn.GRU(embedding_dim//2,embedding_dim//4,batch_first=True)\n",
        "#         self.seq = torch.nn.Sequential(\n",
        "#             torch.nn.Linear(embedding_dim,embedding_dim//4),\n",
        "#             torch.nn.ReLU(),\n",
        "#             torch.nn.Linear(embedding_dim//4,embedding_dim//4),\n",
        "#             torch.nn.ReLU(),\n",
        "#             torch.nn.Linear(embedding_dim,embedding_dim//2,1)\n",
        "#         )\n",
        "\n",
        "#         def forward(self,x):\n",
        "#             x = self.emb_layer(x)\n",
        "#             _,(x,_) = self.lstm_layer(x)\n",
        "#             x1 = x.squeeze()\n",
        "\n",
        "#             _,x = self.gru_layer(x)\n",
        "#             x2 = x.squeeze()\n",
        "\n",
        "#             x = torch.cat((x,x1,x2),dim=1)\n",
        "\n",
        "#             x= self.seq(x)\n",
        "\n",
        "#             return x\n"
      ],
      "metadata": {
        "id": "W6ry066hQNBv"
      },
      "execution_count": null,
      "outputs": []
    },
    {
      "cell_type": "code",
      "source": [
        "# class RNNModel(torch.nn.Module):\n",
        "#     def __init__(self,vocab_size,embedding_dim):\n",
        "#         super().__init__()\n",
        "#         self.emb_layer = torch.nn.Embedding(vocab_size,embedding_dim)\n",
        "#         self.lstm_layer = torch.nn.LSTM(embedding_dim,embedding_dim//2,batch_first=True) #torch.Size([1, 8, 16]) torch.Size([8, 16])\n",
        "#         self.seq = torch.nn.Sequential(\n",
        "#             torch.nn.Linear(embedding_dim,embedding_dim//4),\n",
        "#             torch.nn.ReLU(),\n",
        "#             torch.nn.Linear(embedding_dim//4,embedding_dim//4),\n",
        "#             torch.nn.ReLU(),\n",
        "#             torch.nn.Linear(embedding_dim,embedding_dim//2,1)\n",
        "#         )\n",
        "        \n",
        "#         self.gru_layer = torch.nn.GRU(embedding_dim,embedding_dim//2,batch_first=True) #torch.Size([1, 8, 16]) torch.Size([8, 16])\n",
        "#         self.seq = torch.nn.Sequential(\n",
        "#             torch.nn.Linear(embedding_dim,embedding_dim//4),\n",
        "#             torch.nn.ReLU(),\n",
        "#             torch.nn.Linear(embedding_dim,embedding_dim//4),\n",
        "#             torch.nn.ReLU(),\n",
        "#             torch.nn.Linear(embedding_dim,embedding_dim//2,1)\n",
        "#         )\n",
        "    \n",
        "#     def forward(self,x):\n",
        "#         y = self.emb_layer(x)\n",
        "#         _,(a,b) = self.lstm_layer(y) # hn은 마지막셀에 히든출력이 나온다. output은 각셀의 히든출력, 입력길이가 33이면 33개출력 cn은 셀스테이트 출력\n",
        "        \n",
        "#         a = a.squeeze() \n",
        "#         y = self.seq(a)\n",
        "\n",
        "#         # ----------------------\n",
        "\n",
        "#         x = self.emb_layer(x)\n",
        "#         _,x = self.gru_layer(x) # hn은 마지막셀에 히든출력이 나온다. output은 각셀의 히든출력, 입력길이가 33이면 33개출력 cn은 셀스테이트 출력\n",
        "        \n",
        "#         x = x.squeeze() \n",
        "#         x = self.seq(x)\n",
        "\n",
        "#         # torch.mean((x,y),dim=1)\n",
        "\n",
        "#         return x,y"
      ],
      "metadata": {
        "id": "Hwh8nI5bN1Q2"
      },
      "execution_count": null,
      "outputs": []
    },
    {
      "cell_type": "code",
      "source": [
        "model = RNNModel(len(vocab),32)\n",
        "model(batch[\"x\"])"
      ],
      "metadata": {
        "colab": {
          "base_uri": "https://localhost:8080/"
        },
        "id": "MW2-weX3SVNk",
        "outputId": "6092e9e5-e43f-49df-f98d-db540f0704e1"
      },
      "execution_count": null,
      "outputs": [
        {
          "output_type": "execute_result",
          "data": {
            "text/plain": [
              "tensor([[ 0.1680],\n",
              "        [ 0.1678],\n",
              "        [-0.1398],\n",
              "        [ 0.1680],\n",
              "        [ 0.1678],\n",
              "        [ 0.1219],\n",
              "        [ 0.1680],\n",
              "        [ 0.1680]], grad_fn=<AddmmBackward0>)"
            ]
          },
          "metadata": {},
          "execution_count": 49
        }
      ]
    },
    {
      "cell_type": "code",
      "source": [
        "# x.shape, y.shape\n",
        "# lst = [x,y]\n",
        "# np.mean(lst,axis=1)"
      ],
      "metadata": {
        "colab": {
          "base_uri": "https://localhost:8080/",
          "height": 396
        },
        "id": "SilOAiZRZD4d",
        "outputId": "a870a1b9-01fd-4d3b-f024-27085bbeec8d"
      },
      "execution_count": null,
      "outputs": [
        {
          "output_type": "error",
          "ename": "RuntimeError",
          "evalue": "ignored",
          "traceback": [
            "\u001b[0;31m---------------------------------------------------------------------------\u001b[0m",
            "\u001b[0;31mRuntimeError\u001b[0m                              Traceback (most recent call last)",
            "\u001b[0;32m<ipython-input-317-a5990fe31ce0>\u001b[0m in \u001b[0;36m<module>\u001b[0;34m\u001b[0m\n\u001b[1;32m      1\u001b[0m \u001b[0mx\u001b[0m\u001b[0;34m.\u001b[0m\u001b[0mshape\u001b[0m\u001b[0;34m,\u001b[0m \u001b[0my\u001b[0m\u001b[0;34m.\u001b[0m\u001b[0mshape\u001b[0m\u001b[0;34m\u001b[0m\u001b[0;34m\u001b[0m\u001b[0m\n\u001b[1;32m      2\u001b[0m \u001b[0mlst\u001b[0m \u001b[0;34m=\u001b[0m \u001b[0;34m[\u001b[0m\u001b[0mx\u001b[0m\u001b[0;34m,\u001b[0m\u001b[0my\u001b[0m\u001b[0;34m]\u001b[0m\u001b[0;34m\u001b[0m\u001b[0;34m\u001b[0m\u001b[0m\n\u001b[0;32m----> 3\u001b[0;31m \u001b[0mnp\u001b[0m\u001b[0;34m.\u001b[0m\u001b[0mmean\u001b[0m\u001b[0;34m(\u001b[0m\u001b[0mlst\u001b[0m\u001b[0;34m,\u001b[0m\u001b[0maxis\u001b[0m\u001b[0;34m=\u001b[0m\u001b[0;36m1\u001b[0m\u001b[0;34m)\u001b[0m\u001b[0;34m\u001b[0m\u001b[0;34m\u001b[0m\u001b[0m\n\u001b[0m",
            "\u001b[0;32m<__array_function__ internals>\u001b[0m in \u001b[0;36mmean\u001b[0;34m(*args, **kwargs)\u001b[0m\n",
            "\u001b[0;32m/usr/local/lib/python3.7/dist-packages/numpy/core/fromnumeric.py\u001b[0m in \u001b[0;36mmean\u001b[0;34m(a, axis, dtype, out, keepdims, where)\u001b[0m\n\u001b[1;32m   3439\u001b[0m \u001b[0;34m\u001b[0m\u001b[0m\n\u001b[1;32m   3440\u001b[0m     return _methods._mean(a, axis=axis, dtype=dtype,\n\u001b[0;32m-> 3441\u001b[0;31m                           out=out, **kwargs)\n\u001b[0m\u001b[1;32m   3442\u001b[0m \u001b[0;34m\u001b[0m\u001b[0m\n\u001b[1;32m   3443\u001b[0m \u001b[0;34m\u001b[0m\u001b[0m\n",
            "\u001b[0;32m/usr/local/lib/python3.7/dist-packages/numpy/core/_methods.py\u001b[0m in \u001b[0;36m_mean\u001b[0;34m(a, axis, dtype, out, keepdims, where)\u001b[0m\n\u001b[1;32m    161\u001b[0m \u001b[0;34m\u001b[0m\u001b[0m\n\u001b[1;32m    162\u001b[0m \u001b[0;32mdef\u001b[0m \u001b[0m_mean\u001b[0m\u001b[0;34m(\u001b[0m\u001b[0ma\u001b[0m\u001b[0;34m,\u001b[0m \u001b[0maxis\u001b[0m\u001b[0;34m=\u001b[0m\u001b[0;32mNone\u001b[0m\u001b[0;34m,\u001b[0m \u001b[0mdtype\u001b[0m\u001b[0;34m=\u001b[0m\u001b[0;32mNone\u001b[0m\u001b[0;34m,\u001b[0m \u001b[0mout\u001b[0m\u001b[0;34m=\u001b[0m\u001b[0;32mNone\u001b[0m\u001b[0;34m,\u001b[0m \u001b[0mkeepdims\u001b[0m\u001b[0;34m=\u001b[0m\u001b[0;32mFalse\u001b[0m\u001b[0;34m,\u001b[0m \u001b[0;34m*\u001b[0m\u001b[0;34m,\u001b[0m \u001b[0mwhere\u001b[0m\u001b[0;34m=\u001b[0m\u001b[0;32mTrue\u001b[0m\u001b[0;34m)\u001b[0m\u001b[0;34m:\u001b[0m\u001b[0;34m\u001b[0m\u001b[0;34m\u001b[0m\u001b[0m\n\u001b[0;32m--> 163\u001b[0;31m     \u001b[0marr\u001b[0m \u001b[0;34m=\u001b[0m \u001b[0masanyarray\u001b[0m\u001b[0;34m(\u001b[0m\u001b[0ma\u001b[0m\u001b[0;34m)\u001b[0m\u001b[0;34m\u001b[0m\u001b[0;34m\u001b[0m\u001b[0m\n\u001b[0m\u001b[1;32m    164\u001b[0m \u001b[0;34m\u001b[0m\u001b[0m\n\u001b[1;32m    165\u001b[0m     \u001b[0mis_float16_result\u001b[0m \u001b[0;34m=\u001b[0m \u001b[0;32mFalse\u001b[0m\u001b[0;34m\u001b[0m\u001b[0;34m\u001b[0m\u001b[0m\n",
            "\u001b[0;32m/usr/local/lib/python3.7/dist-packages/torch/_tensor.py\u001b[0m in \u001b[0;36m__array__\u001b[0;34m(self, dtype)\u001b[0m\n\u001b[1;32m    755\u001b[0m             \u001b[0;32mreturn\u001b[0m \u001b[0mhandle_torch_function\u001b[0m\u001b[0;34m(\u001b[0m\u001b[0mTensor\u001b[0m\u001b[0;34m.\u001b[0m\u001b[0m__array__\u001b[0m\u001b[0;34m,\u001b[0m \u001b[0;34m(\u001b[0m\u001b[0mself\u001b[0m\u001b[0;34m,\u001b[0m\u001b[0;34m)\u001b[0m\u001b[0;34m,\u001b[0m \u001b[0mself\u001b[0m\u001b[0;34m,\u001b[0m \u001b[0mdtype\u001b[0m\u001b[0;34m=\u001b[0m\u001b[0mdtype\u001b[0m\u001b[0;34m)\u001b[0m\u001b[0;34m\u001b[0m\u001b[0;34m\u001b[0m\u001b[0m\n\u001b[1;32m    756\u001b[0m         \u001b[0;32mif\u001b[0m \u001b[0mdtype\u001b[0m \u001b[0;32mis\u001b[0m \u001b[0;32mNone\u001b[0m\u001b[0;34m:\u001b[0m\u001b[0;34m\u001b[0m\u001b[0;34m\u001b[0m\u001b[0m\n\u001b[0;32m--> 757\u001b[0;31m             \u001b[0;32mreturn\u001b[0m \u001b[0mself\u001b[0m\u001b[0;34m.\u001b[0m\u001b[0mnumpy\u001b[0m\u001b[0;34m(\u001b[0m\u001b[0;34m)\u001b[0m\u001b[0;34m\u001b[0m\u001b[0;34m\u001b[0m\u001b[0m\n\u001b[0m\u001b[1;32m    758\u001b[0m         \u001b[0;32melse\u001b[0m\u001b[0;34m:\u001b[0m\u001b[0;34m\u001b[0m\u001b[0;34m\u001b[0m\u001b[0m\n\u001b[1;32m    759\u001b[0m             \u001b[0;32mreturn\u001b[0m \u001b[0mself\u001b[0m\u001b[0;34m.\u001b[0m\u001b[0mnumpy\u001b[0m\u001b[0;34m(\u001b[0m\u001b[0;34m)\u001b[0m\u001b[0;34m.\u001b[0m\u001b[0mastype\u001b[0m\u001b[0;34m(\u001b[0m\u001b[0mdtype\u001b[0m\u001b[0;34m,\u001b[0m \u001b[0mcopy\u001b[0m\u001b[0;34m=\u001b[0m\u001b[0;32mFalse\u001b[0m\u001b[0;34m)\u001b[0m\u001b[0;34m\u001b[0m\u001b[0;34m\u001b[0m\u001b[0m\n",
            "\u001b[0;31mRuntimeError\u001b[0m: Can't call numpy() on Tensor that requires grad. Use tensor.detach().numpy() instead."
          ]
        }
      ]
    },
    {
      "cell_type": "code",
      "source": [
        "batch[\"x\"].shape"
      ],
      "metadata": {
        "colab": {
          "base_uri": "https://localhost:8080/"
        },
        "id": "VKG2y2-ro1Sb",
        "outputId": "b3dad139-8c14-4fa7-d216-689780e2f9d5"
      },
      "execution_count": null,
      "outputs": [
        {
          "output_type": "execute_result",
          "data": {
            "text/plain": [
              "torch.Size([8, 33])"
            ]
          },
          "metadata": {},
          "execution_count": 50
        }
      ]
    },
    {
      "cell_type": "code",
      "source": [
        "def train_loop(dataloader, model, loss_fn,optimizer,device):\n",
        "    epoch_loss = 0\n",
        "    model.train()\n",
        "    for batch in dataloader:\n",
        "        pred = model(batch[\"x\"].to(device))\n",
        "        # print(pred.ndim, pred)\n",
        "        loss = loss_fn(pred,batch[\"y\"].to(device))\n",
        "\n",
        "        optimizer.zero_grad()\n",
        "        loss.backward()\n",
        "        optimizer.step()\n",
        "\n",
        "        epoch_loss += loss.item()\n",
        "    \n",
        "    epoch_loss /= len(dataloader)\n",
        "    \n",
        "    return epoch_loss\n",
        "# print(train_loop(train,model,torch.nn.BCEWithLogitsLoss(),torch.optim.Adam(model.parameters()),device))"
      ],
      "metadata": {
        "id": "XcwJptVpnGL0"
      },
      "execution_count": null,
      "outputs": []
    },
    {
      "cell_type": "code",
      "source": [
        "@torch.no_grad()\n",
        "def test_loop(dataloader,model,loss_fn,device):\n",
        "    epoch_loss = 0\n",
        "    model.eval() # 모델 객체가 들어오는 train메소드선언\n",
        "\n",
        "    pred_list = []\n",
        "    for batch in dataloader:\n",
        "        pred = model(batch[\"x\"].to(device)) #gpu로 옮겨줌\n",
        "\n",
        "        if batch.get(\"y\") is not None:\n",
        "            loss = loss_fn(pred,batch[\"y\"].to(device))# 정답값과 예측값의 오차\n",
        "            epoch_loss += loss.item()\n",
        "        pred = pred.to(\"cpu\").numpy()\n",
        "        pred_list.append(pred)\n",
        "\n",
        "    epoch_loss /= len(dataloader)\n",
        "\n",
        "    pred = np.concatenate(pred_list)\n",
        "    return epoch_loss,pred"
      ],
      "metadata": {
        "id": "Uc5aJAVSnGJK"
      },
      "execution_count": null,
      "outputs": []
    },
    {
      "cell_type": "code",
      "source": [
        "n_splits = 5\n",
        "num_features = len(vocab)\n",
        "embedding_dim = 32\n",
        "batch_size = 32\n",
        "epoch = 100\n",
        "loss_fn = torch.nn.BCEWithLogitsLoss() #이진분류"
      ],
      "metadata": {
        "id": "fLbveT8dVK9L"
      },
      "execution_count": null,
      "outputs": []
    },
    {
      "cell_type": "code",
      "source": [
        "from sklearn.metrics import accuracy_score\n",
        "from sklearn.model_selection import KFold\n",
        "cv = KFold(n_splits=n_splits,shuffle=True,random_state=SEED)"
      ],
      "metadata": {
        "id": "CW-QcsJffT1z"
      },
      "execution_count": null,
      "outputs": []
    },
    {
      "cell_type": "code",
      "source": [
        "is_holdout = False\n",
        "\n",
        "best_score_list = []\n",
        "reset_seeds(SEED)\n",
        "for i,(tri,vai) in enumerate(cv.split(train)):\n",
        "    model = RNNModel(num_features,embedding_dim).to(device)\n",
        "    optimizer = torch.optim.Adam(model.parameters())\n",
        "\n",
        "    # datatset\n",
        "    train_dt = ReviewDataset(train[tri],target[tri]) # x_train,y_train 이거랑 똑같음\n",
        "    valid_dt = ReviewDataset(train[vai],target[vai])\n",
        "\n",
        "    # dataloader\n",
        "    train_dl = torch.utils.data.DataLoader(train_dt,batch_size=batch_size,shuffle=True,collate_fn=collate_fn)\n",
        "    valid_dl = torch.utils.data.DataLoader(valid_dt,batch_size=batch_size,shuffle=False,collate_fn=collate_fn) # 검증은 학습이 아니니까 섞을 필요가 없다.\n",
        "\n",
        "    best_score = 0\n",
        "    patience = 0 # 5가되면 멈춰\n",
        "    for e in tqdm(range(epoch)):\n",
        "        train_loss = train_loop(train_dl,model, loss_fn, optimizer, device)\n",
        "        valid_loss,pred = test_loop(valid_dl,model,loss_fn,device)\n",
        "        pred = (pred > 0.2).astype(int)\n",
        "        score = accuracy_score(target[vai],pred)\n",
        "        patience += 1\n",
        "        if best_score < score:\n",
        "            patience = 0\n",
        "            best_score = score\n",
        "            torch.save(model.state_dict(),f\"model_{i}.pth\")\n",
        "\n",
        "        if patience == 5:\n",
        "            break\n",
        "    print(f\"BEST ACCURACY:{best_score}\")\n",
        "    best_score_list.append(best_score)\n",
        "  \n",
        "        \n",
        "    if is_holdout:\n",
        "        break "
      ],
      "metadata": {
        "colab": {
          "base_uri": "https://localhost:8080/",
          "height": 270,
          "referenced_widgets": [
            "e213d6101ecf4643aa967a7099d1a541",
            "9b7c7e549af8425d93f1006aaa7446aa",
            "9aa6eed32d2447bfa148070e5c5b4f91",
            "2dd3e058e7f149f2aca893919398dbd9",
            "9b64dbd08b724cf7988850e7a54aed5e",
            "321231f0273f416594ce8514d6e2d6f4",
            "c206ac6479644aac803a44c0cad6cda5",
            "a58ff667f2984238b589ac25a5876f70",
            "f7b863cf0e9b4b398b5bda58b5b636b1",
            "7fe0c4e630a74ddd9928acb0cc10132b",
            "58aad59815074d56a83828d54a714a6e",
            "45a4d0d014214e4d8f683a010f0518b9",
            "5def698c12644f9c8dfc665e977e7126",
            "cc81dc28166c444ca90b78871cb11d2c",
            "7c8e277892b14e24ba19f2cf62647d32",
            "d6abb274cfd8421aa3b75ec5122ff31b",
            "05be870c49814607a023d3fad553aebb",
            "a2d4f44938b142f3b1d4cdcfbb033fb5",
            "8665abddcad345528e1cd78fb5cc6739",
            "132010e9e90c4eeba42cc0188f839d21",
            "c8c88491a98c4f3696f6d411c22620aa",
            "27b45de6a52d43819213ea9c700fa978",
            "021f7d9f485d460f865141d45b26f167",
            "92a21071c6d74fe9bf6bcec56492b30b",
            "83a466aeb4db41cdb54d2b7401e3bfa8",
            "46f2f8ddea1d4de3ab385b3a5d69bd5b",
            "4229e5e9763745dd9049a58cab925723",
            "cebede896b5b4c778975f25bcf768ea9",
            "4b981b44afed4e73869cdc4af0ffe944",
            "fc86c61f63614cf88de034ac3fd642c2",
            "36aa10c6bf40487ea076549788679092",
            "9aa10cb1117340b79f709b90e0637471",
            "6aace5666aa94189a2b1676b1144548f",
            "b628337416c740ec9e312869a4007cf6",
            "cbed1fdbba2e4bc2b2d120536baf5ecb",
            "978066db17c3420f8983a6fd80390627",
            "884d91d20ce24df6b98c5c980d59aa0f",
            "a25c55bf239f41998c74a9fe41ff5f22",
            "4f002a24914c47f9bc824e025114253d",
            "a303d7253b994696991e56b8feb71a92",
            "9734ace65f814e8f94883e0baa645f5b",
            "d8cb112719c145e0a163ba097c56d931",
            "ea75b0baddf3446ea464880daf530559",
            "dde22c4239204bbead84fde24da1f151",
            "7510783e60f647149bdcd8f8058252cd",
            "948b2f6f5d3b47eda34726c0810815db",
            "755aac70beb94bd1a2de239c67cfe7f1",
            "0ab007d16e7a49d2981b83108d4bc8b5",
            "ceb78486c0ab4fbfb4a7df2edca6c80f",
            "0a60f0450a7948af8fcc33dd420fb88a",
            "a3aa55919b57424983e03d8d2742986c",
            "709dc181ff2544bebc3d14fa92c06b46",
            "c21ee7231c90421a90b5801317302577",
            "ef50dde0eab34bd18cd549eb620bf8ee",
            "8eeb061360a0412099aae4b3e6e0c8ba"
          ]
        },
        "id": "R6012LU8fW7L",
        "outputId": "276b313d-031f-41cf-8c8b-5c9655d4f96e"
      },
      "execution_count": null,
      "outputs": [
        {
          "output_type": "display_data",
          "data": {
            "text/plain": [
              "  0%|          | 0/100 [00:00<?, ?it/s]"
            ],
            "application/vnd.jupyter.widget-view+json": {
              "version_major": 2,
              "version_minor": 0,
              "model_id": "e213d6101ecf4643aa967a7099d1a541"
            }
          },
          "metadata": {}
        },
        {
          "output_type": "stream",
          "name": "stdout",
          "text": [
            "BEST ACCURACY:0.5066666666666667\n"
          ]
        },
        {
          "output_type": "display_data",
          "data": {
            "text/plain": [
              "  0%|          | 0/100 [00:00<?, ?it/s]"
            ],
            "application/vnd.jupyter.widget-view+json": {
              "version_major": 2,
              "version_minor": 0,
              "model_id": "45a4d0d014214e4d8f683a010f0518b9"
            }
          },
          "metadata": {}
        },
        {
          "output_type": "stream",
          "name": "stdout",
          "text": [
            "BEST ACCURACY:0.5066666666666667\n"
          ]
        },
        {
          "output_type": "display_data",
          "data": {
            "text/plain": [
              "  0%|          | 0/100 [00:00<?, ?it/s]"
            ],
            "application/vnd.jupyter.widget-view+json": {
              "version_major": 2,
              "version_minor": 0,
              "model_id": "021f7d9f485d460f865141d45b26f167"
            }
          },
          "metadata": {}
        },
        {
          "output_type": "stream",
          "name": "stdout",
          "text": [
            "BEST ACCURACY:0.48\n"
          ]
        },
        {
          "output_type": "display_data",
          "data": {
            "text/plain": [
              "  0%|          | 0/100 [00:00<?, ?it/s]"
            ],
            "application/vnd.jupyter.widget-view+json": {
              "version_major": 2,
              "version_minor": 0,
              "model_id": "b628337416c740ec9e312869a4007cf6"
            }
          },
          "metadata": {}
        },
        {
          "output_type": "stream",
          "name": "stdout",
          "text": [
            "BEST ACCURACY:0.4966442953020134\n"
          ]
        },
        {
          "output_type": "display_data",
          "data": {
            "text/plain": [
              "  0%|          | 0/100 [00:00<?, ?it/s]"
            ],
            "application/vnd.jupyter.widget-view+json": {
              "version_major": 2,
              "version_minor": 0,
              "model_id": "7510783e60f647149bdcd8f8058252cd"
            }
          },
          "metadata": {}
        },
        {
          "output_type": "stream",
          "name": "stdout",
          "text": [
            "BEST ACCURACY:0.42953020134228187\n"
          ]
        }
      ]
    },
    {
      "cell_type": "code",
      "source": [],
      "metadata": {
        "id": "SWHWPXGy1nJv"
      },
      "execution_count": null,
      "outputs": []
    },
    {
      "cell_type": "code",
      "source": [
        "type(pred)\n"
      ],
      "metadata": {
        "colab": {
          "base_uri": "https://localhost:8080/"
        },
        "id": "udcSLWaOmqd6",
        "outputId": "7dd0f382-353f-4b4c-d70a-53cc58b3ef58"
      },
      "execution_count": null,
      "outputs": [
        {
          "output_type": "execute_result",
          "data": {
            "text/plain": [
              "numpy.ndarray"
            ]
          },
          "metadata": {},
          "execution_count": 292
        }
      ]
    },
    {
      "cell_type": "code",
      "source": [
        "is_holdout = False\n",
        "reset_seeds(SEED)\n",
        "best_score_list = []\n",
        "for i,(tri,vai) in enumerate(cv.split(train)):\n",
        "  model = Conv1dModel(num_features,embedding_dim).to(device)\n",
        "  optimizer = torch.optim.Adam(model.parameters())\n",
        "  # dataset\n",
        "  train_dt = ReviewDataset(train[tri],target[tri])\n",
        "  valid_dt = ReviewDataset(train[vai],target[vai])\n",
        "  # dataloaer\n",
        "  train_dl = torch.utils.data.DataLoader(train_dt,batch_size=batch_size, shuffle=True)\n",
        "  valid_dl = torch.utils.data.DataLoader(valid_dt,batch_size=batch_size, shuffle=False)\n",
        "  best_score = 0\n",
        "  patience = 0\n",
        "  for epoch in tqdm(range(epochs)):\n",
        "    train_loss = train_loop(train_dl, model, loss_fn, optimizer, device)\n",
        "    valid_loss, pred = test_loop(valid_dl, model, loss_fn, device)\n",
        "    pred = pred.flatten()\n",
        "    pred = np.where(pred>0.5,1,0)\n",
        "    score = accuracy_score(target[vai],pred)\n",
        "    patience += 1\n",
        "    if best_score < score:\n",
        "      patience = 0\n",
        "      best_score = score\n",
        "      torch.save(model.state_dict(), f\"model_{i}.pth\")\n",
        "    if patience == 10:\n",
        "      break\n",
        "  print(f\"Fold ({i}), BEST accuracy: {best_score}\")\n",
        "  best_score_list.append(best_score)\n",
        "  if is_holdout:\n",
        "    break"
      ],
      "metadata": {
        "id": "qbnuF2csuxNl"
      },
      "execution_count": null,
      "outputs": []
    }
  ]
}