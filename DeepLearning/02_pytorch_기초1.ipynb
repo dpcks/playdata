{
  "nbformat": 4,
  "nbformat_minor": 0,
  "metadata": {
    "colab": {
      "provenance": [],
      "mount_file_id": "1pGBpEKga3x02mTN8tVOWXVaovHkB32Pp",
      "authorship_tag": "ABX9TyPbR9j3hs0cpcqVfevnZvMX",
      "include_colab_link": true
    },
    "kernelspec": {
      "name": "python3",
      "display_name": "Python 3"
    },
    "language_info": {
      "name": "python"
    }
  },
  "cells": [
    {
      "cell_type": "markdown",
      "metadata": {
        "id": "view-in-github",
        "colab_type": "text"
      },
      "source": [
        "<a href=\"https://colab.research.google.com/github/dpcks/playdata/blob/main/DeepLearning/02_pytorch_%EA%B8%B0%EC%B4%881.ipynb\" target=\"_parent\"><img src=\"https://colab.research.google.com/assets/colab-badge.svg\" alt=\"Open In Colab\"/></a>"
      ]
    },
    {
      "cell_type": "markdown",
      "source": [
        "# Pytorch\n",
        "- 구글의 tensorlow와 유사한 딥러닝 라이브러리\n",
        "- 페이스북 인공지능 연구팀에 의해 주로 개발\n",
        "- torch\n",
        "    - 텐서 변환 및 다양한 수학 함수와 클래스가 들어가 있다.\n",
        "- torch.nn\n",
        "    - 신경망을 구축하기위한 레이어(층), 활성화 함수, 손실함수 등이 들어가 있다.\n",
        "- torch.utils.data\n",
        "    - 미니 배치 학습을 위한 데이터셋을 구성하는 클래스들이 들어가 있다.\n",
        "- torch.optim\n",
        "    - optimizer 관련된 함수와 클래스가 있다.\n",
        "    "
      ],
      "metadata": {
        "id": "OEg1HBEhaQ0j"
      }
    },
    {
      "cell_type": "code",
      "source": [
        "import torch\n",
        "# from torch import nn 이런식으로 사용하지만 익숙해지기 위해 위에 방법으로 사용\n",
        "import numpy as np"
      ],
      "metadata": {
        "id": "vhtdH5xxcUrE"
      },
      "execution_count": null,
      "outputs": []
    },
    {
      "cell_type": "markdown",
      "source": [
        "# 텐서(Tensor)\n",
        "- N-차원 배열\n",
        "- 텐서는 다차원 배열이나 행렬과 매우 유사한 특수한 자료구조\n",
        "- Pytorch 에서는 텐서를 딥러닝 모델의 입력과 출력으로 하여 학습을 진행"
      ],
      "metadata": {
        "id": "q_iagRz_c_-m"
      }
    },
    {
      "cell_type": "markdown",
      "source": [
        "# 텐서 만들기"
      ],
      "metadata": {
        "id": "AnPBky4EdvHP"
      }
    },
    {
      "cell_type": "markdown",
      "source": [
        "- tesnor 함수\n",
        "    - 입력받은 데이터를 텐서 객체로 반환"
      ],
      "metadata": {
        "id": "Cb3GVf-ZdyXD"
      }
    },
    {
      "cell_type": "code",
      "source": [
        "data = [\n",
        "    [1,2,3],\n",
        "    [4,5,6]\n",
        "]\n",
        "x = torch.tensor(data)\n",
        "x"
      ],
      "metadata": {
        "colab": {
          "base_uri": "https://localhost:8080/"
        },
        "id": "fdbvLu54eMkG",
        "outputId": "90d98b69-28ef-4e24-cc39-b270c3f4d755"
      },
      "execution_count": null,
      "outputs": [
        {
          "output_type": "execute_result",
          "data": {
            "text/plain": [
              "tensor([[1, 2, 3],\n",
              "        [4, 5, 6]])"
            ]
          },
          "metadata": {},
          "execution_count": 2
        }
      ]
    },
    {
      "cell_type": "code",
      "source": [
        "type(x)"
      ],
      "metadata": {
        "colab": {
          "base_uri": "https://localhost:8080/"
        },
        "id": "Ph5FvL76eQV2",
        "outputId": "0e9faa90-f315-463c-c2ce-02eb2d0fd747"
      },
      "execution_count": null,
      "outputs": [
        {
          "output_type": "execute_result",
          "data": {
            "text/plain": [
              "torch.Tensor"
            ]
          },
          "metadata": {},
          "execution_count": 3
        }
      ]
    },
    {
      "cell_type": "code",
      "source": [
        "x.dtype"
      ],
      "metadata": {
        "colab": {
          "base_uri": "https://localhost:8080/"
        },
        "id": "MTFQi_kVeR_W",
        "outputId": "10d81be7-7284-4f98-abfc-1a9be60e7864"
      },
      "execution_count": null,
      "outputs": [
        {
          "output_type": "execute_result",
          "data": {
            "text/plain": [
              "torch.int64"
            ]
          },
          "metadata": {},
          "execution_count": 4
        }
      ]
    },
    {
      "cell_type": "code",
      "source": [
        "arr = np.array(data)\n",
        "torch.tensor(arr)"
      ],
      "metadata": {
        "colab": {
          "base_uri": "https://localhost:8080/"
        },
        "id": "DgNHjJ0seX29",
        "outputId": "ae2ab08f-52cf-499e-92f9-30c195e245e0"
      },
      "execution_count": null,
      "outputs": [
        {
          "output_type": "execute_result",
          "data": {
            "text/plain": [
              "tensor([[1, 2, 3],\n",
              "        [4, 5, 6]])"
            ]
          },
          "metadata": {},
          "execution_count": 5
        }
      ]
    },
    {
      "cell_type": "code",
      "source": [
        "arr"
      ],
      "metadata": {
        "colab": {
          "base_uri": "https://localhost:8080/"
        },
        "id": "Z81-CAJAeXzF",
        "outputId": "90430841-a08d-4ec7-c9b8-8685a70ae518"
      },
      "execution_count": null,
      "outputs": [
        {
          "output_type": "execute_result",
          "data": {
            "text/plain": [
              "array([[1, 2, 3],\n",
              "       [4, 5, 6]])"
            ]
          },
          "metadata": {},
          "execution_count": 6
        }
      ]
    },
    {
      "cell_type": "markdown",
      "source": [
        "- Tensor 클래스\n",
        "    - 입력받은 데이터를 객체로 반환\n",
        "    - 다른점은 데이터 타입을 float32 로 변경해준다. (64는 두배로 늘어나는거기 때문에 학습이 안됨 너무커)\n"
      ],
      "metadata": {
        "id": "VGvoR8z3eXxN"
      }
    },
    {
      "cell_type": "code",
      "source": [
        "x = torch.Tensor(arr)\n",
        "x"
      ],
      "metadata": {
        "colab": {
          "base_uri": "https://localhost:8080/"
        },
        "id": "7fFAvDGIeXvO",
        "outputId": "6527e5d1-763d-4150-bd18-23440d37f232"
      },
      "execution_count": null,
      "outputs": [
        {
          "output_type": "execute_result",
          "data": {
            "text/plain": [
              "tensor([[1., 2., 3.],\n",
              "        [4., 5., 6.]])"
            ]
          },
          "metadata": {},
          "execution_count": 7
        }
      ]
    },
    {
      "cell_type": "code",
      "source": [
        "x.dtype"
      ],
      "metadata": {
        "colab": {
          "base_uri": "https://localhost:8080/"
        },
        "id": "m73XK4G9eXtg",
        "outputId": "ae327333-420f-4b9d-fdac-d3a392b3aa0d"
      },
      "execution_count": null,
      "outputs": [
        {
          "output_type": "execute_result",
          "data": {
            "text/plain": [
              "torch.float32"
            ]
          },
          "metadata": {},
          "execution_count": 8
        }
      ]
    },
    {
      "cell_type": "markdown",
      "source": [
        "- 슬라이싱, 인덱싱, 마스킹\n",
        "- ones., zeros"
      ],
      "metadata": {
        "id": "nunM496Qi-n2"
      }
    },
    {
      "cell_type": "code",
      "source": [
        "x[:,1:]"
      ],
      "metadata": {
        "colab": {
          "base_uri": "https://localhost:8080/"
        },
        "id": "DvYAnsQmeXrN",
        "outputId": "172c763d-7325-47ee-b503-334cf9cb7693"
      },
      "execution_count": null,
      "outputs": [
        {
          "output_type": "execute_result",
          "data": {
            "text/plain": [
              "tensor([[2., 3.],\n",
              "        [5., 6.]])"
            ]
          },
          "metadata": {},
          "execution_count": 9
        }
      ]
    },
    {
      "cell_type": "code",
      "source": [
        "x[:,:1]"
      ],
      "metadata": {
        "colab": {
          "base_uri": "https://localhost:8080/"
        },
        "id": "tHbM9D3meXpG",
        "outputId": "85f0586f-c550-4f5a-9a99-d696fc3cf9f5"
      },
      "execution_count": null,
      "outputs": [
        {
          "output_type": "execute_result",
          "data": {
            "text/plain": [
              "tensor([[1.],\n",
              "        [4.]])"
            ]
          },
          "metadata": {},
          "execution_count": 10
        }
      ]
    },
    {
      "cell_type": "code",
      "source": [
        "x[:1,1:]"
      ],
      "metadata": {
        "colab": {
          "base_uri": "https://localhost:8080/"
        },
        "id": "YH9naZJmeXm2",
        "outputId": "4f35a031-a462-4be9-8264-46090be68353"
      },
      "execution_count": null,
      "outputs": [
        {
          "output_type": "execute_result",
          "data": {
            "text/plain": [
              "tensor([[2., 3.]])"
            ]
          },
          "metadata": {},
          "execution_count": 11
        }
      ]
    },
    {
      "cell_type": "code",
      "source": [
        "x[x<3]"
      ],
      "metadata": {
        "colab": {
          "base_uri": "https://localhost:8080/"
        },
        "id": "uH_t7zyOkqvv",
        "outputId": "fc0f5da2-7147-4f98-ae1f-8ffa29d35893"
      },
      "execution_count": null,
      "outputs": [
        {
          "output_type": "execute_result",
          "data": {
            "text/plain": [
              "tensor([1., 2.])"
            ]
          },
          "metadata": {},
          "execution_count": 12
        }
      ]
    },
    {
      "cell_type": "code",
      "source": [
        "ones_tensor = torch.ones(2,3) # 2행 3열\n",
        "ones_tensor"
      ],
      "metadata": {
        "colab": {
          "base_uri": "https://localhost:8080/"
        },
        "id": "wbYdh6A-eXku",
        "outputId": "8d9d8243-a668-4dfd-e98d-1ce72747a19a"
      },
      "execution_count": null,
      "outputs": [
        {
          "output_type": "execute_result",
          "data": {
            "text/plain": [
              "tensor([[1., 1., 1.],\n",
              "        [1., 1., 1.]])"
            ]
          },
          "metadata": {},
          "execution_count": 13
        }
      ]
    },
    {
      "cell_type": "code",
      "source": [
        "zeros_tensor = torch.zeros(2,3) # 2행 3열\n",
        "zeros_tensor"
      ],
      "metadata": {
        "colab": {
          "base_uri": "https://localhost:8080/"
        },
        "id": "F61p4uGreXiu",
        "outputId": "d376f956-73c0-41e2-ba55-695c6b1376a1"
      },
      "execution_count": null,
      "outputs": [
        {
          "output_type": "execute_result",
          "data": {
            "text/plain": [
              "tensor([[0., 0., 0.],\n",
              "        [0., 0., 0.]])"
            ]
          },
          "metadata": {},
          "execution_count": 14
        }
      ]
    },
    {
      "cell_type": "code",
      "source": [
        "torch.cat([ones_tensor,zeros_tensor],dim=1) # axis 대신 dim으로"
      ],
      "metadata": {
        "colab": {
          "base_uri": "https://localhost:8080/"
        },
        "id": "D6rnrCvHeXgl",
        "outputId": "87f9b543-9622-4fc4-8737-df37e7167f3d"
      },
      "execution_count": null,
      "outputs": [
        {
          "output_type": "execute_result",
          "data": {
            "text/plain": [
              "tensor([[1., 1., 1., 0., 0., 0.],\n",
              "        [1., 1., 1., 0., 0., 0.]])"
            ]
          },
          "metadata": {},
          "execution_count": 15
        }
      ]
    },
    {
      "cell_type": "markdown",
      "source": [
        "# 차원 변경\n",
        "- view 메소드\n",
        "    - 원소의 순서대로 차원을 변경해서 반환"
      ],
      "metadata": {
        "id": "FIHzpx2ReXep"
      }
    },
    {
      "cell_type": "code",
      "source": [
        "x = torch.Tensor(arr)\n",
        "x"
      ],
      "metadata": {
        "colab": {
          "base_uri": "https://localhost:8080/"
        },
        "id": "JswQHblLeXZ2",
        "outputId": "24e76790-9eac-4965-a5c3-96fcf19867b3"
      },
      "execution_count": null,
      "outputs": [
        {
          "output_type": "execute_result",
          "data": {
            "text/plain": [
              "tensor([[1., 2., 3.],\n",
              "        [4., 5., 6.]])"
            ]
          },
          "metadata": {},
          "execution_count": 16
        }
      ]
    },
    {
      "cell_type": "code",
      "source": [
        "x_view = x.view(3,2) # 3행 2열로 바꾸겠다. 원소의 순서가 유지되면서 바뀜\n",
        "x_view "
      ],
      "metadata": {
        "colab": {
          "base_uri": "https://localhost:8080/"
        },
        "id": "cIiMw3Q8eXX5",
        "outputId": "8c6a8df1-97bc-4279-ec75-17e8ead3674e"
      },
      "execution_count": null,
      "outputs": [
        {
          "output_type": "execute_result",
          "data": {
            "text/plain": [
              "tensor([[1., 2.],\n",
              "        [3., 4.],\n",
              "        [5., 6.]])"
            ]
          },
          "metadata": {},
          "execution_count": 17
        }
      ]
    },
    {
      "cell_type": "code",
      "source": [
        "x_view[0,0] = 100"
      ],
      "metadata": {
        "id": "NswuQrkseXVu"
      },
      "execution_count": null,
      "outputs": []
    },
    {
      "cell_type": "code",
      "source": [
        "x # 메모리를 공유하기 때문에 "
      ],
      "metadata": {
        "colab": {
          "base_uri": "https://localhost:8080/"
        },
        "id": "bEImbfXyeXTu",
        "outputId": "e1e79078-e894-4ec1-ff97-5c8bc6729958"
      },
      "execution_count": null,
      "outputs": [
        {
          "output_type": "execute_result",
          "data": {
            "text/plain": [
              "tensor([[100.,   2.,   3.],\n",
              "        [  4.,   5.,   6.]])"
            ]
          },
          "metadata": {},
          "execution_count": 19
        }
      ]
    },
    {
      "cell_type": "code",
      "source": [
        "# x.reshape(3,2) # 복사본을 반환할지 원본메모리를 공유하는 것을 반환할지 알수 없다"
      ],
      "metadata": {
        "id": "RKvQ59UYeXRo"
      },
      "execution_count": null,
      "outputs": []
    },
    {
      "cell_type": "markdown",
      "source": [
        "- 복사하기"
      ],
      "metadata": {
        "id": "bUFpqi-xeXPf"
      }
    },
    {
      "cell_type": "code",
      "source": [
        "x.clone()"
      ],
      "metadata": {
        "colab": {
          "base_uri": "https://localhost:8080/"
        },
        "id": "ygOfP08GeXJX",
        "outputId": "ce7d7198-cbed-4330-8dd3-52a44125835c"
      },
      "execution_count": null,
      "outputs": [
        {
          "output_type": "execute_result",
          "data": {
            "text/plain": [
              "tensor([[100.,   2.,   3.],\n",
              "        [  4.,   5.,   6.]])"
            ]
          },
          "metadata": {},
          "execution_count": 21
        }
      ]
    },
    {
      "cell_type": "markdown",
      "source": [
        "- transpose 메소드\n",
        "    - 차원 맞바꾸기\n",
        "    - 두개의 차원만 가능\n",
        "    "
      ],
      "metadata": {
        "id": "Eda-LA4ylCI9"
      }
    },
    {
      "cell_type": "code",
      "source": [
        "x"
      ],
      "metadata": {
        "colab": {
          "base_uri": "https://localhost:8080/"
        },
        "id": "unDgiR-Tmp8A",
        "outputId": "955e9347-cf1a-4457-c25a-aace0271a52e"
      },
      "execution_count": null,
      "outputs": [
        {
          "output_type": "execute_result",
          "data": {
            "text/plain": [
              "tensor([[100.,   2.,   3.],\n",
              "        [  4.,   5.,   6.]])"
            ]
          },
          "metadata": {},
          "execution_count": 22
        }
      ]
    },
    {
      "cell_type": "code",
      "source": [
        "x.transpose(0,1) # 행이 열이되고 열이 행이 되는 형태"
      ],
      "metadata": {
        "colab": {
          "base_uri": "https://localhost:8080/"
        },
        "id": "MyDbPoDUlCHb",
        "outputId": "5efdcbee-44fb-4f62-dc2b-ffecc7ca5130"
      },
      "execution_count": null,
      "outputs": [
        {
          "output_type": "execute_result",
          "data": {
            "text/plain": [
              "tensor([[100.,   4.],\n",
              "        [  2.,   5.],\n",
              "        [  3.,   6.]])"
            ]
          },
          "metadata": {},
          "execution_count": 23
        }
      ]
    },
    {
      "cell_type": "markdown",
      "source": [
        "- permute 메소드\n",
        "    - 여러개 차원 맞바꾸기\n",
        "    "
      ],
      "metadata": {
        "id": "GK7lNGhtlCFF"
      }
    },
    {
      "cell_type": "code",
      "source": [
        "arr = np.arange(1,25).reshape(2,3,4) # 2행 3행 4열\n",
        "arr"
      ],
      "metadata": {
        "colab": {
          "base_uri": "https://localhost:8080/"
        },
        "id": "sd9luPsMlCC9",
        "outputId": "8f7224de-89dd-45ab-c458-48891dc2ca9b"
      },
      "execution_count": null,
      "outputs": [
        {
          "output_type": "execute_result",
          "data": {
            "text/plain": [
              "array([[[ 1,  2,  3,  4],\n",
              "        [ 5,  6,  7,  8],\n",
              "        [ 9, 10, 11, 12]],\n",
              "\n",
              "       [[13, 14, 15, 16],\n",
              "        [17, 18, 19, 20],\n",
              "        [21, 22, 23, 24]]])"
            ]
          },
          "metadata": {},
          "execution_count": 24
        }
      ]
    },
    {
      "cell_type": "code",
      "source": [
        "x = torch.Tensor(arr)\n",
        "x"
      ],
      "metadata": {
        "colab": {
          "base_uri": "https://localhost:8080/"
        },
        "id": "dqhDHdm1lCAu",
        "outputId": "4f1eaa53-9808-4bb4-ebc4-86164de8c904"
      },
      "execution_count": null,
      "outputs": [
        {
          "output_type": "execute_result",
          "data": {
            "text/plain": [
              "tensor([[[ 1.,  2.,  3.,  4.],\n",
              "         [ 5.,  6.,  7.,  8.],\n",
              "         [ 9., 10., 11., 12.]],\n",
              "\n",
              "        [[13., 14., 15., 16.],\n",
              "         [17., 18., 19., 20.],\n",
              "         [21., 22., 23., 24.]]])"
            ]
          },
          "metadata": {},
          "execution_count": 25
        }
      ]
    },
    {
      "cell_type": "code",
      "source": [
        "x.shape"
      ],
      "metadata": {
        "colab": {
          "base_uri": "https://localhost:8080/"
        },
        "id": "Ppkoiu16lB-z",
        "outputId": "dfc18a69-30d5-46c3-b103-a15c2995fde9"
      },
      "execution_count": null,
      "outputs": [
        {
          "output_type": "execute_result",
          "data": {
            "text/plain": [
              "torch.Size([2, 3, 4])"
            ]
          },
          "metadata": {},
          "execution_count": 26
        }
      ]
    },
    {
      "cell_type": "code",
      "source": [
        "x.permute(0,2,1).shape # 1번째 차원은 그대로 두고 두번째와 세번째를 마꾸겟다"
      ],
      "metadata": {
        "colab": {
          "base_uri": "https://localhost:8080/"
        },
        "id": "0InYW7eNlB8e",
        "outputId": "3cf0dacf-3b11-482a-fe69-68f2898881ad"
      },
      "execution_count": null,
      "outputs": [
        {
          "output_type": "execute_result",
          "data": {
            "text/plain": [
              "torch.Size([2, 4, 3])"
            ]
          },
          "metadata": {},
          "execution_count": 27
        }
      ]
    },
    {
      "cell_type": "code",
      "source": [
        "x.permute(0,2,1)"
      ],
      "metadata": {
        "colab": {
          "base_uri": "https://localhost:8080/"
        },
        "id": "dTxRohVOlB6H",
        "outputId": "cc0ecf36-e954-4ed7-e9bb-2e8598c38210"
      },
      "execution_count": null,
      "outputs": [
        {
          "output_type": "execute_result",
          "data": {
            "text/plain": [
              "tensor([[[ 1.,  5.,  9.],\n",
              "         [ 2.,  6., 10.],\n",
              "         [ 3.,  7., 11.],\n",
              "         [ 4.,  8., 12.]],\n",
              "\n",
              "        [[13., 17., 21.],\n",
              "         [14., 18., 22.],\n",
              "         [15., 19., 23.],\n",
              "         [16., 20., 24.]]])"
            ]
          },
          "metadata": {},
          "execution_count": 28
        }
      ]
    },
    {
      "cell_type": "markdown",
      "source": [
        "# 모델 학습에 사용할 CPU or GPU 장치 확인\n",
        " "
      ],
      "metadata": {
        "id": "_-ILRmaBnw_e"
      }
    },
    {
      "cell_type": "code",
      "source": [
        "device = \"cuda\" if torch.cuda.is_available() else \"cpu\" # 장치에 gpu가 있다. true가 나오면\n",
        "device"
      ],
      "metadata": {
        "colab": {
          "base_uri": "https://localhost:8080/",
          "height": 35
        },
        "id": "CV5H2hZqn2l1",
        "outputId": "e61b5626-5e78-4bdc-cb32-c900d72cf173"
      },
      "execution_count": null,
      "outputs": [
        {
          "output_type": "execute_result",
          "data": {
            "text/plain": [
              "'cpu'"
            ],
            "application/vnd.google.colaboratory.intrinsic+json": {
              "type": "string"
            }
          },
          "metadata": {},
          "execution_count": 29
        }
      ]
    },
    {
      "cell_type": "markdown",
      "source": [
        "- 텐서를 gpu로 이동시키기\n"
      ],
      "metadata": {
        "id": "t5-CfJNEoT8P"
      }
    },
    {
      "cell_type": "code",
      "source": [
        "x = x.to(device)\n",
        "x"
      ],
      "metadata": {
        "colab": {
          "base_uri": "https://localhost:8080/"
        },
        "id": "CeHnfcOIoT52",
        "outputId": "560fbf8d-207c-4d94-f6a5-4ff9df69022a"
      },
      "execution_count": null,
      "outputs": [
        {
          "output_type": "execute_result",
          "data": {
            "text/plain": [
              "tensor([[[ 1.,  2.,  3.,  4.],\n",
              "         [ 5.,  6.,  7.,  8.],\n",
              "         [ 9., 10., 11., 12.]],\n",
              "\n",
              "        [[13., 14., 15., 16.],\n",
              "         [17., 18., 19., 20.],\n",
              "         [21., 22., 23., 24.]]])"
            ]
          },
          "metadata": {},
          "execution_count": 30
        }
      ]
    },
    {
      "cell_type": "markdown",
      "source": [
        "- 텐서가 위치한 장치 확인하기"
      ],
      "metadata": {
        "id": "omYQsS1KotQU"
      }
    },
    {
      "cell_type": "code",
      "source": [
        "x.device"
      ],
      "metadata": {
        "colab": {
          "base_uri": "https://localhost:8080/"
        },
        "id": "lVbbUJP8oT3u",
        "outputId": "5f2f4c40-7368-4e9f-ec46-0491ce0b9de3"
      },
      "execution_count": null,
      "outputs": [
        {
          "output_type": "execute_result",
          "data": {
            "text/plain": [
              "device(type='cpu')"
            ]
          },
          "metadata": {},
          "execution_count": 31
        }
      ]
    },
    {
      "cell_type": "code",
      "source": [
        "x = x.to(\"cpu\")\n",
        "x.device"
      ],
      "metadata": {
        "colab": {
          "base_uri": "https://localhost:8080/"
        },
        "id": "HDIWGOPCoT1m",
        "outputId": "2f653a7b-639c-4b33-8066-e249f61cac74"
      },
      "execution_count": null,
      "outputs": [
        {
          "output_type": "execute_result",
          "data": {
            "text/plain": [
              "device(type='cpu')"
            ]
          },
          "metadata": {},
          "execution_count": 32
        }
      ]
    },
    {
      "cell_type": "code",
      "source": [
        "from google.colab import drive\n",
        "drive.mount(\"/content/dirve\")"
      ],
      "metadata": {
        "colab": {
          "base_uri": "https://localhost:8080/"
        },
        "id": "E2A6sgdwplWM",
        "outputId": "b9d57c74-70ef-4102-bbf6-51cad4733990"
      },
      "execution_count": null,
      "outputs": [
        {
          "output_type": "stream",
          "name": "stdout",
          "text": [
            "Mounted at /content/dirve\n"
          ]
        }
      ]
    },
    {
      "cell_type": "code",
      "source": [
        "DATA_PATH = \"/content/dirve/MyDrive/data/\""
      ],
      "metadata": {
        "id": "l7rTd_PypVzO"
      },
      "execution_count": null,
      "outputs": []
    },
    {
      "cell_type": "code",
      "source": [
        "# 아래 복붙\n",
        "import pandas as pd\n",
        "from sklearn.preprocessing import OneHotEncoder\n",
        "from sklearn.model_selection import train_test_split\n",
        "from sklearn.model_selection import cross_val_score\n",
        "from sklearn.model_selection import KFold\n",
        "from lightgbm import LGBMClassifier\n",
        "df = pd.read_csv(f\"{DATA_PATH}titanic.csv\")\n",
        "# 결측치 미리 채우기\n",
        "df.age = df.age.fillna(df.age.median()) # age 중앙값\n",
        "df.fare = df.fare.fillna(df.fare.median()) # fare 중앙값\n",
        "df.cabin = df.cabin.fillna(\"UNK\") # cabin 임의의 문자열로 채우기\n",
        "df.embarked = df.embarked.fillna(df.embarked.mode()[0]) # embarked 최빈값\n",
        "# 학습에 바로 사용가능한 특성\n",
        "cols = [\"pclass\",\"age\",\"sibsp\",\"parch\",\"fare\"]\n",
        "features = df[cols]\n",
        "# 범주형 one-hot encoding\n",
        "cols = [\"gender\",\"embarked\"]\n",
        "enc = OneHotEncoder()\n",
        "tmp = pd.DataFrame(\n",
        "    enc.fit_transform(df[cols]).toarray(),\n",
        "    columns = enc.get_feature_names_out()\n",
        ")\n",
        "features = pd.concat([features,tmp],axis=1) # 특성\n",
        "target = df[\"survived\"].to_numpy() # 정답값\n",
        "# 스케일링\n",
        "from sklearn.preprocessing import MinMaxScaler\n",
        "scaler = MinMaxScaler()\n",
        "features = scaler.fit_transform(features)\n",
        "SEED = 42\n",
        "# 학습 검증 나누기\n",
        "from sklearn.model_selection import train_test_split\n",
        "x_train, x_valid, y_train, y_valid = train_test_split(features, target, random_state=SEED)\n",
        "x_train.shape, x_valid.shape, y_train.shape, y_valid.shape"
      ],
      "metadata": {
        "colab": {
          "base_uri": "https://localhost:8080/"
        },
        "id": "mqqwDF7ioTzo",
        "outputId": "c5f48194-4ef7-4037-b89d-119b22ab5b73"
      },
      "execution_count": null,
      "outputs": [
        {
          "output_type": "execute_result",
          "data": {
            "text/plain": [
              "((981, 10), (328, 10), (981,), (328,))"
            ]
          },
          "metadata": {},
          "execution_count": 35
        }
      ]
    },
    {
      "cell_type": "code",
      "source": [
        "features.shape"
      ],
      "metadata": {
        "id": "Bz2W1ylEt367",
        "outputId": "a19949b8-29ea-482c-8644-bcf14f2917e3",
        "colab": {
          "base_uri": "https://localhost:8080/"
        }
      },
      "execution_count": null,
      "outputs": [
        {
          "output_type": "execute_result",
          "data": {
            "text/plain": [
              "(1309, 10)"
            ]
          },
          "metadata": {},
          "execution_count": 82
        }
      ]
    },
    {
      "cell_type": "code",
      "source": [
        "y_train"
      ],
      "metadata": {
        "colab": {
          "base_uri": "https://localhost:8080/"
        },
        "id": "Qx9UMUhmpMe9",
        "outputId": "5267e492-4f8e-435c-d1e4-3cdc5eaa3555"
      },
      "execution_count": null,
      "outputs": [
        {
          "output_type": "execute_result",
          "data": {
            "text/plain": [
              "array([0, 1, 1, ..., 1, 0, 0])"
            ]
          },
          "metadata": {},
          "execution_count": 79
        }
      ]
    },
    {
      "cell_type": "markdown",
      "source": [
        "# Dataset 와 DataLoader\n",
        "- torch.utils.data.Dataset\n",
        "    - 학습데이터와 정답을 저장해서 인덱싱을 통해 반환하는 클래스 \n",
        "- torch.utils.data.DataLoader\n",
        "    - Dataset의 데이터를 쉽게 접근 할수 있도록 iterable한 객체로 만들어 준다.\n"
      ],
      "metadata": {
        "id": "u4xAclH0rU1G"
      }
    },
    {
      "cell_type": "code",
      "source": [
        "# y_train.reshape(-1,1) # 파이토치는 1차원이 학습이 안되기 때문에 2차원형태로 만들어줘야함"
      ],
      "metadata": {
        "id": "g5IhXQs8w0uF"
      },
      "execution_count": null,
      "outputs": []
    },
    {
      "cell_type": "code",
      "source": [
        "class TitanicDataset(torch.utils.data.Dataset):\n",
        "    def __init__(self,x,y = None): # 정답값이 없을 경우를 대비해서 \n",
        "        self.x = x\n",
        "        self.y = y\n",
        "        if self.y is not None:\n",
        "            self.y = y.astype(\"float32\").reshape(-1,1) # 2차원 형태로 변경\n",
        "    def __len__(self):\n",
        "        return self.x.shape[0]\n",
        "    def __getitem__(self,idx):\n",
        "        item = {}\n",
        "        item[\"x\"] = torch.Tensor(self.x[idx])\n",
        "        if self.y is not None:\n",
        "            item[\"y\"] = torch.Tensor(self.y[idx])\n",
        "\n",
        "        return item"
      ],
      "metadata": {
        "id": "BAPL6NyPoTxn"
      },
      "execution_count": null,
      "outputs": []
    },
    {
      "cell_type": "code",
      "source": [
        "x_train"
      ],
      "metadata": {
        "colab": {
          "base_uri": "https://localhost:8080/"
        },
        "id": "gShcGEvwqg7k",
        "outputId": "565273f2-eb8b-4dfc-bc06-cfdc78685d50"
      },
      "execution_count": null,
      "outputs": [
        {
          "output_type": "execute_result",
          "data": {
            "text/plain": [
              "array([[1.        , 0.27345609, 0.125     , ..., 0.        , 0.        ,\n",
              "        1.        ],\n",
              "       [1.        , 0.32356257, 0.        , ..., 0.        , 0.        ,\n",
              "        1.        ],\n",
              "       [0.        , 0.43630214, 0.125     , ..., 0.        , 0.        ,\n",
              "        1.        ],\n",
              "       ...,\n",
              "       [0.        , 0.48640862, 0.        , ..., 1.        , 0.        ,\n",
              "        0.        ],\n",
              "       [1.        , 0.48014531, 0.        , ..., 0.        , 0.        ,\n",
              "        1.        ],\n",
              "       [1.        , 0.34861581, 0.        , ..., 0.        , 0.        ,\n",
              "        1.        ]])"
            ]
          },
          "metadata": {},
          "execution_count": 80
        }
      ]
    },
    {
      "cell_type": "code",
      "source": [
        "y_train"
      ],
      "metadata": {
        "colab": {
          "base_uri": "https://localhost:8080/"
        },
        "id": "kUR7nx6toCMk",
        "outputId": "71f89177-5c4f-4d5e-d773-7e9741ea3ccc"
      },
      "execution_count": null,
      "outputs": [
        {
          "output_type": "execute_result",
          "data": {
            "text/plain": [
              "array([0, 1, 1, ..., 1, 0, 0])"
            ]
          },
          "metadata": {},
          "execution_count": 78
        }
      ]
    },
    {
      "cell_type": "code",
      "source": [
        "train_dt = TitanicDataset(x_train,y_train)\n",
        "train_dt"
      ],
      "metadata": {
        "colab": {
          "base_uri": "https://localhost:8080/"
        },
        "id": "mSw6rDI6oTvz",
        "outputId": "260473a2-ac7a-4757-9d91-e36a34fea941"
      },
      "execution_count": null,
      "outputs": [
        {
          "output_type": "execute_result",
          "data": {
            "text/plain": [
              "<__main__.TitanicDataset at 0x7f3a47f80390>"
            ]
          },
          "metadata": {},
          "execution_count": 38
        }
      ]
    },
    {
      "cell_type": "code",
      "source": [
        "train_dt[0]"
      ],
      "metadata": {
        "colab": {
          "base_uri": "https://localhost:8080/"
        },
        "id": "8sn7kCz_zABm",
        "outputId": "a6d80e4f-1dd4-4170-8a52-badd5e542781"
      },
      "execution_count": null,
      "outputs": [
        {
          "output_type": "execute_result",
          "data": {
            "text/plain": [
              "{'x': tensor([0.5000, 0.3611, 0.1250, 0.0000, 0.0507, 1.0000, 0.0000, 0.0000, 0.0000,\n",
              "         1.0000]), 'y': tensor([1.])}"
            ]
          },
          "metadata": {},
          "execution_count": 39
        }
      ]
    },
    {
      "cell_type": "code",
      "source": [
        "len(train_dt)"
      ],
      "metadata": {
        "colab": {
          "base_uri": "https://localhost:8080/"
        },
        "id": "VsPZ9qACoTtn",
        "outputId": "4ea26381-038b-4e84-9c94-05c071e240e5"
      },
      "execution_count": null,
      "outputs": [
        {
          "output_type": "execute_result",
          "data": {
            "text/plain": [
              "981"
            ]
          },
          "metadata": {},
          "execution_count": 40
        }
      ]
    },
    {
      "cell_type": "code",
      "source": [
        "train_dl = torch.utils.data.DataLoader(train_dt,batch_size=2,shuffle=False)\n",
        "train_dl"
      ],
      "metadata": {
        "colab": {
          "base_uri": "https://localhost:8080/"
        },
        "id": "-6tedOTXoTre",
        "outputId": "4263eeb1-c28d-4b7f-bc8b-8d60a201cdfb"
      },
      "execution_count": null,
      "outputs": [
        {
          "output_type": "execute_result",
          "data": {
            "text/plain": [
              "<torch.utils.data.dataloader.DataLoader at 0x7f3a34ed0150>"
            ]
          },
          "metadata": {},
          "execution_count": 41
        }
      ]
    },
    {
      "cell_type": "code",
      "source": [
        "# for i in train_dl: # 이터러블 하니까 for문 가능\n",
        "#     print(i)"
      ],
      "metadata": {
        "id": "Uz4hr5LxoTpv"
      },
      "execution_count": null,
      "outputs": []
    },
    {
      "cell_type": "code",
      "source": [
        "next(iter(train_dl)) # 잘꺼내지는지 확인할때 사용"
      ],
      "metadata": {
        "colab": {
          "base_uri": "https://localhost:8080/"
        },
        "id": "D9HE2h0KoTmJ",
        "outputId": "de30b738-a3a2-4a65-9b99-55555913ca72"
      },
      "execution_count": null,
      "outputs": [
        {
          "output_type": "execute_result",
          "data": {
            "text/plain": [
              "{'x': tensor([[0.5000, 0.3611, 0.1250, 0.0000, 0.0507, 1.0000, 0.0000, 0.0000, 0.0000,\n",
              "          1.0000],\n",
              "         [1.0000, 0.5365, 0.1250, 0.6667, 0.0915, 1.0000, 0.0000, 0.0000, 0.0000,\n",
              "          1.0000]]), 'y': tensor([[1.],\n",
              "         [0.]])}"
            ]
          },
          "metadata": {},
          "execution_count": 43
        }
      ]
    },
    {
      "cell_type": "code",
      "source": [
        "# next(iter(train_dl))[\"x\"]"
      ],
      "metadata": {
        "id": "YDb4J0o5oTkn"
      },
      "execution_count": null,
      "outputs": []
    },
    {
      "cell_type": "markdown",
      "source": [
        "# 모델 계층(Layer) 정의해보기\n",
        "- torch.nn.Linear\n",
        "    - 가중치와 편향을 사용해서 입력에 대해 선형변환 \n",
        "    - in_features\n",
        "        - 입력값의 개수\n",
        "    - out_features\n",
        "        - 출력값의 개수\n",
        "        \n"
      ],
      "metadata": {
        "id": "gakCp0iq0R19"
      }
    },
    {
      "cell_type": "code",
      "source": [
        "torch.manual_seed(SEED) # cpu 에 대한 랜덤값\n",
        "torch.cuda.manual_seed(SEED) # gpu10\n",
        "input_layer = torch.nn.Linear(x_train.shape[1],1) # in_features는 x_train.shape[1](피쳐의 수), out_features는 1로 하겠다.\n",
        "data = next(iter(train_dl))\n",
        "hidden_layer = input_layer(data[\"x\"])\n",
        "hidden_layer # batch_size = 2 ,두개씩 꺼내니까 값 두개. 시그모이드함수 통과하기 전."
      ],
      "metadata": {
        "colab": {
          "base_uri": "https://localhost:8080/"
        },
        "id": "ktcr8VFg0R0H",
        "outputId": "91c8e666-f484-42f9-c505-aabf5db70966"
      },
      "execution_count": null,
      "outputs": [
        {
          "output_type": "execute_result",
          "data": {
            "text/plain": [
              "tensor([[0.3096],\n",
              "        [0.6673]], grad_fn=<AddmmBackward0>)"
            ]
          },
          "metadata": {},
          "execution_count": 45
        }
      ]
    },
    {
      "cell_type": "markdown",
      "source": [
        "# 모델 만들기\n",
        "- Pytorch 에서 신경말 모델은 torch.nn.Module을 상속받아서 클래스를 생성해서 정의\n",
        "- `__init__` 메소드에서는 신경망의 계층들을 정의 \n",
        "- `forward` 메소드에서는 신경망에서 텐서를 어떻게 전달할지를 지정"
      ],
      "metadata": {
        "id": "YuPFCC_e0RyB"
      }
    },
    {
      "cell_type": "code",
      "source": [
        "class LogisticRegression(torch.nn.Module):\n",
        "    def __init__(self,in_features):\n",
        "        super().__init__() # 부모클래스 초기화\n",
        "        self.hidden_layer = torch.nn.Linear(in_features,1)\n",
        "        # self.sig = torch.nn.Sigmoid()\n",
        "    def forward(self,x):\n",
        "        x = self.hidden_layer(x)\n",
        "        # x = self.sig(x)\n",
        "        return x"
      ],
      "metadata": {
        "id": "3z6efCa40Rv9"
      },
      "execution_count": null,
      "outputs": []
    },
    {
      "cell_type": "code",
      "source": [
        "model = LogisticRegression(x_train.shape[1])\n",
        "model(data[\"x\"])"
      ],
      "metadata": {
        "colab": {
          "base_uri": "https://localhost:8080/"
        },
        "id": "Ftjx89SX0Rt3",
        "outputId": "2a69857a-1ce7-4f52-8ac1-3b7f589026b2"
      },
      "execution_count": null,
      "outputs": [
        {
          "output_type": "execute_result",
          "data": {
            "text/plain": [
              "tensor([[0.0070],\n",
              "        [0.2196]], grad_fn=<AddmmBackward0>)"
            ]
          },
          "metadata": {},
          "execution_count": 47
        }
      ]
    },
    {
      "cell_type": "code",
      "source": [
        "x_train.shape"
      ],
      "metadata": {
        "colab": {
          "base_uri": "https://localhost:8080/"
        },
        "id": "mJZe9USC0Rr-",
        "outputId": "4af80824-9eec-4733-dd73-f68f97c1a2ef"
      },
      "execution_count": null,
      "outputs": [
        {
          "output_type": "execute_result",
          "data": {
            "text/plain": [
              "(981, 10)"
            ]
          },
          "metadata": {},
          "execution_count": 48
        }
      ]
    },
    {
      "cell_type": "markdown",
      "source": [
        "# 모델 학습 "
      ],
      "metadata": {
        "id": "UcO4KPVP0Rp-"
      }
    },
    {
      "cell_type": "code",
      "source": [
        "batch_size = 32 # 미니 배치 사이즈"
      ],
      "metadata": {
        "id": "SRJ8kFLO0Rnv"
      },
      "execution_count": null,
      "outputs": []
    },
    {
      "cell_type": "markdown",
      "source": [
        "- 손실함수 객체 생성"
      ],
      "metadata": {
        "id": "WxU0yFgB0Rll"
      }
    },
    {
      "cell_type": "code",
      "source": [
        "loss_fn = torch.nn.BCEWithLogitsLoss() # 모델 출력에 시그모이드함수를 통과시켜 BCE 계산\n",
        "loss_fn\n",
        "# torch.nn.BCELoss() #시그모이드 함수 사용할경우"
      ],
      "metadata": {
        "colab": {
          "base_uri": "https://localhost:8080/"
        },
        "id": "BcNKJcYD0Rjd",
        "outputId": "2747b6f6-4b1c-472d-cbd6-02c993c5e27f"
      },
      "execution_count": null,
      "outputs": [
        {
          "output_type": "execute_result",
          "data": {
            "text/plain": [
              "BCEWithLogitsLoss()"
            ]
          },
          "metadata": {},
          "execution_count": 50
        }
      ]
    },
    {
      "cell_type": "markdown",
      "source": [
        "- 모델 객체 생성"
      ],
      "metadata": {
        "id": "R5V2bFGQ0Rg-"
      }
    },
    {
      "cell_type": "code",
      "source": [
        "model = LogisticRegression(x_train.shape[1]).to(device)"
      ],
      "metadata": {
        "id": "oVdZrxpd0Red"
      },
      "execution_count": null,
      "outputs": []
    },
    {
      "cell_type": "markdown",
      "source": [
        "- optimizer 객체 생성\n"
      ],
      "metadata": {
        "id": "ngPMBSivoTd-"
      }
    },
    {
      "cell_type": "code",
      "source": [
        "optimizer = torch.optim.Adam(model.parameters(),lr = 0.001)"
      ],
      "metadata": {
        "id": "O80uPds4oTb2"
      },
      "execution_count": null,
      "outputs": []
    },
    {
      "cell_type": "markdown",
      "source": [
        "- 학습데이터 객체 생성"
      ],
      "metadata": {
        "id": "ACQWBeaMoTY-"
      }
    },
    {
      "cell_type": "code",
      "source": [
        "train_dt = TitanicDataset(x_train,y_train)\n",
        "train_dl = torch.utils.data.DataLoader(train_dt,batch_size=batch_size,shuffle = True)"
      ],
      "metadata": {
        "id": "za-nX9VcoTHu"
      },
      "execution_count": null,
      "outputs": []
    },
    {
      "cell_type": "markdown",
      "source": [
        "- 학습하기\n"
      ],
      "metadata": {
        "id": "H-IV5LfTb3eO"
      }
    },
    {
      "cell_type": "code",
      "source": [
        "model.train()\n",
        "\n",
        "epoch_loss = 0\n",
        "for batch in train_dl:\n",
        "    # print(batch[\"x\"].shape)\n",
        "    # break\n",
        "    pred = model(batch[\"x\"].to(device)) # gpu안에 학습데이터 모델을 넣어줌\n",
        "    loss = loss_fn(pred,batch[\"y\"].to(device)) # 손실값이 넘옴\n",
        "    \n",
        "    optimizer.zero_grad() # 경사를 0으로 초기화\n",
        "    loss.backward() # 역전파 코드\n",
        "    optimizer.step() # 가중치 업데이트\n",
        "\n",
        "\n",
        "    epoch_loss += loss.item() # 값을 가져올때 item\n",
        "\n",
        "epoch_loss /= len(train_dl)\n",
        "\n",
        "print(f\"epoch_loss: {epoch_loss}\")"
      ],
      "metadata": {
        "colab": {
          "base_uri": "https://localhost:8080/"
        },
        "id": "C-iK6rY4b3b2",
        "outputId": "e3d4c826-c3a2-4097-ef01-d6c8c74f54a1"
      },
      "execution_count": null,
      "outputs": [
        {
          "output_type": "stream",
          "name": "stdout",
          "text": [
            "epoch_loss: 0.7615217739535917\n"
          ]
        }
      ]
    },
    {
      "cell_type": "markdown",
      "source": [
        "- 학습 loop 함수화"
      ],
      "metadata": {
        "id": "h3eEydthb3WW"
      }
    },
    {
      "cell_type": "code",
      "source": [
        "def train_loop(train_dl,model,device,optimizer,loss_fn):\n",
        "    model.train()\n",
        "\n",
        "    epoch_loss = 0\n",
        "    for batch in train_dl:\n",
        "        # print(batch[\"x\"].shape)\n",
        "        # break\n",
        "        pred = model(batch[\"x\"].to(device)) # gpu안에 학습데이터 모델을 넣어줌\n",
        "        loss = loss_fn(pred,batch[\"y\"].to(device)) # 손실값이 넘옴\n",
        "        \n",
        "        optimizer.zero_grad() # 경사를 0으로 초기화\n",
        "        loss.backward() # 역전파 코드\n",
        "        optimizer.step() # 가중치 업데이트\n",
        "\n",
        "\n",
        "        epoch_loss += loss.item() # 값을 가져올때 item\n",
        "\n",
        "    epoch_loss /= len(train_dl)\n",
        "\n",
        "    return epoch_loss"
      ],
      "metadata": {
        "id": "Hs9LUDpbb3T4"
      },
      "execution_count": null,
      "outputs": []
    },
    {
      "cell_type": "code",
      "source": [
        "train_loop(train_dl,model,device,optimizer,loss_fn)"
      ],
      "metadata": {
        "colab": {
          "base_uri": "https://localhost:8080/"
        },
        "id": "zPnNUFKUb3RF",
        "outputId": "090f288e-debb-4bbc-9d31-0ee6cba887d3"
      },
      "execution_count": null,
      "outputs": [
        {
          "output_type": "execute_result",
          "data": {
            "text/plain": [
              "0.7423399283039954"
            ]
          },
          "metadata": {},
          "execution_count": 56
        }
      ]
    },
    {
      "cell_type": "markdown",
      "source": [
        "- 검증셋에 대한 평가 loop 함수화"
      ],
      "metadata": {
        "id": "qCjD2kbAb3OY"
      }
    },
    {
      "cell_type": "code",
      "source": [
        "@torch.no_grad() # with torch.no.grad() 와 같다\n",
        "def test_loop(dataloader, model, loss_fn,device):\n",
        "    epoch_loss = 0\n",
        "    model.eval() # 평가할때 모델 모드를 eval로 꼭 변경해줘야함, 랜덤적인 요소를 없애기위해\n",
        "\n",
        "    \n",
        "    for batch in dataloader:\n",
        "        pred = model(batch[\"x\"].to(device))\n",
        "        loss = loss_fn(pred,batch[\"y\"].to(device))\n",
        "        epoch_loss += loss.item() # 값을 가져올때 item\n",
        "\n",
        "    epoch_loss /= len(dataloader)\n",
        "    return epoch_loss"
      ],
      "metadata": {
        "id": "tRJA7wA_b3IB"
      },
      "execution_count": null,
      "outputs": []
    },
    {
      "cell_type": "code",
      "source": [
        "valid_dt = TitanicDataset(x_valid,y_valid)\n",
        "valid_dl = torch.utils.data.DataLoader(valid_dt,batch_size=batch_size,shuffle=False)"
      ],
      "metadata": {
        "id": "JKI-zkMwb3Fw"
      },
      "execution_count": null,
      "outputs": []
    },
    {
      "cell_type": "code",
      "source": [
        "test_loop(valid_dl,model,loss_fn,device)"
      ],
      "metadata": {
        "colab": {
          "base_uri": "https://localhost:8080/"
        },
        "id": "BXeOsBP7b3DW",
        "outputId": "61205977-1673-4b10-d20b-06939e7fbd48"
      },
      "execution_count": null,
      "outputs": [
        {
          "output_type": "execute_result",
          "data": {
            "text/plain": [
              "0.7517904259941794"
            ]
          },
          "metadata": {},
          "execution_count": 59
        }
      ]
    },
    {
      "cell_type": "markdown",
      "source": [
        "- 검증평가 뿐만 아니라 테스트데이터에 대한 예측만 해야하는 상황이라면?"
      ],
      "metadata": {
        "id": "9_cW8E7ipcQ3"
      }
    },
    {
      "cell_type": "code",
      "source": [
        "@torch.no_grad() # with torch.no.grad() 와 같다\n",
        "def test_loop(dataloader, model, loss_fn,device):\n",
        "    epoch_loss = 0\n",
        "    model.eval() # 평가할때 모델 모드를 eval로 꼭 변경해줘야함, 랜덤적인 요소를 없애기위해\n",
        "\n",
        "    pred_list = []\n",
        "    sig = torch.nn.Sigmoid()\n",
        "    \n",
        "    for batch in dataloader:\n",
        "        pred = model(batch[\"x\"].to(device))\n",
        "\n",
        "        if batch.get(\"y\") is not None: # y값이 있을 경우만 loss 계산\n",
        "            loss = loss_fn(pred,batch[\"y\"].to(device))\n",
        "            epoch_loss += loss.item() # 값을 가져올때 item\n",
        "        \n",
        "        pred = sig(pred) # 시그모이드 함수 통과, 0 ~ 1 확률값으로 변경\n",
        "        pred = pred.to(\"cpu\").numpy() # cpu 이동후 numpy 변환\n",
        "        pred_list.append(pred)\n",
        "\n",
        "    epoch_loss /= len(dataloader)\n",
        "\n",
        "    pred = np.concatenate(pred_list) #pred값이 있으니 auc도 확인가능\n",
        "\n",
        "    return epoch_loss,pred"
      ],
      "metadata": {
        "id": "tOiHrh1jb3A-"
      },
      "execution_count": null,
      "outputs": []
    },
    {
      "cell_type": "code",
      "source": [
        "x_test = x_valid.copy() # 테스트 데이터라고 가정하고 복사"
      ],
      "metadata": {
        "id": "IrcjYmYxb2-n"
      },
      "execution_count": null,
      "outputs": []
    },
    {
      "cell_type": "code",
      "source": [
        "test_dt = TitanicDataset(x_test)\n",
        "test_dl = torch.utils.data.DataLoader(test_dt,batch_size=batch_size,shuffle=False)\n",
        "\n",
        "_,pred = test_loop(test_dl,model,loss_fn,device)\n",
        "pred"
      ],
      "metadata": {
        "colab": {
          "base_uri": "https://localhost:8080/"
        },
        "id": "qbrnwPI-rHe6",
        "outputId": "b5cf00ef-db28-48e2-e13c-9ce146eb60f4"
      },
      "execution_count": null,
      "outputs": [
        {
          "output_type": "execute_result",
          "data": {
            "text/plain": [
              "array([[0.43548584],\n",
              "       [0.50419056],\n",
              "       [0.43547758],\n",
              "       [0.46744052],\n",
              "       [0.37289846],\n",
              "       [0.26883337],\n",
              "       [0.37289846],\n",
              "       [0.35799813],\n",
              "       [0.31267574],\n",
              "       [0.36820227],\n",
              "       [0.43127477],\n",
              "       [0.43652943],\n",
              "       [0.4395618 ],\n",
              "       [0.3198314 ],\n",
              "       [0.43592188],\n",
              "       [0.35671872],\n",
              "       [0.37021402],\n",
              "       [0.4354708 ],\n",
              "       [0.40801257],\n",
              "       [0.44177526],\n",
              "       [0.4711563 ],\n",
              "       [0.4391496 ],\n",
              "       [0.42718893],\n",
              "       [0.42771393],\n",
              "       [0.4407235 ],\n",
              "       [0.45517012],\n",
              "       [0.43339115],\n",
              "       [0.43762025],\n",
              "       [0.46477994],\n",
              "       [0.32468432],\n",
              "       [0.43568015],\n",
              "       [0.36222067],\n",
              "       [0.3728993 ],\n",
              "       [0.4301358 ],\n",
              "       [0.4976283 ],\n",
              "       [0.4899348 ],\n",
              "       [0.37889856],\n",
              "       [0.3114683 ],\n",
              "       [0.43548125],\n",
              "       [0.32646543],\n",
              "       [0.5025921 ],\n",
              "       [0.33414972],\n",
              "       [0.37290213],\n",
              "       [0.4286808 ],\n",
              "       [0.44236574],\n",
              "       [0.46511748],\n",
              "       [0.42158246],\n",
              "       [0.36934462],\n",
              "       [0.37289846],\n",
              "       [0.3620326 ],\n",
              "       [0.37739867],\n",
              "       [0.33514825],\n",
              "       [0.4349537 ],\n",
              "       [0.47872564],\n",
              "       [0.349303  ],\n",
              "       [0.48993728],\n",
              "       [0.43915334],\n",
              "       [0.32541928],\n",
              "       [0.44062513],\n",
              "       [0.42814994],\n",
              "       [0.5084526 ],\n",
              "       [0.4899348 ],\n",
              "       [0.40815872],\n",
              "       [0.3190734 ],\n",
              "       [0.3355198 ],\n",
              "       [0.5119223 ],\n",
              "       [0.30363154],\n",
              "       [0.34669045],\n",
              "       [0.43391088],\n",
              "       [0.48404935],\n",
              "       [0.43548125],\n",
              "       [0.50238544],\n",
              "       [0.38418955],\n",
              "       [0.43440565],\n",
              "       [0.47679   ],\n",
              "       [0.49866167],\n",
              "       [0.37165326],\n",
              "       [0.43338737],\n",
              "       [0.39098918],\n",
              "       [0.4728841 ],\n",
              "       [0.40015203],\n",
              "       [0.43545574],\n",
              "       [0.44913426],\n",
              "       [0.4605496 ],\n",
              "       [0.43757698],\n",
              "       [0.43548125],\n",
              "       [0.4800082 ],\n",
              "       [0.47759345],\n",
              "       [0.35072693],\n",
              "       [0.37433127],\n",
              "       [0.37289846],\n",
              "       [0.51190704],\n",
              "       [0.43476462],\n",
              "       [0.26385108],\n",
              "       [0.4350056 ],\n",
              "       [0.3413148 ],\n",
              "       [0.43755275],\n",
              "       [0.51178455],\n",
              "       [0.35690072],\n",
              "       [0.32193512],\n",
              "       [0.43860433],\n",
              "       [0.43267074],\n",
              "       [0.43545425],\n",
              "       [0.35061142],\n",
              "       [0.32164198],\n",
              "       [0.3726153 ],\n",
              "       [0.3381732 ],\n",
              "       [0.4925685 ],\n",
              "       [0.44510835],\n",
              "       [0.37289846],\n",
              "       [0.46783704],\n",
              "       [0.3481443 ],\n",
              "       [0.37289846],\n",
              "       [0.42399538],\n",
              "       [0.33891323],\n",
              "       [0.4343613 ],\n",
              "       [0.3734007 ],\n",
              "       [0.30932048],\n",
              "       [0.43286783],\n",
              "       [0.37536448],\n",
              "       [0.42344517],\n",
              "       [0.3575136 ],\n",
              "       [0.37432286],\n",
              "       [0.375341  ],\n",
              "       [0.43355152],\n",
              "       [0.26191267],\n",
              "       [0.31702122],\n",
              "       [0.51259905],\n",
              "       [0.4418274 ],\n",
              "       [0.33041108],\n",
              "       [0.37529913],\n",
              "       [0.33447823],\n",
              "       [0.42550647],\n",
              "       [0.35523534],\n",
              "       [0.47381246],\n",
              "       [0.43448186],\n",
              "       [0.35591498],\n",
              "       [0.43843397],\n",
              "       [0.37932786],\n",
              "       [0.43705463],\n",
              "       [0.4899348 ],\n",
              "       [0.2652999 ],\n",
              "       [0.51078373],\n",
              "       [0.44178358],\n",
              "       [0.4317916 ],\n",
              "       [0.27519158],\n",
              "       [0.41068816],\n",
              "       [0.3304327 ],\n",
              "       [0.37532187],\n",
              "       [0.42209062],\n",
              "       [0.4370343 ],\n",
              "       [0.5083254 ],\n",
              "       [0.43548125],\n",
              "       [0.4993951 ],\n",
              "       [0.27111188],\n",
              "       [0.33614284],\n",
              "       [0.4598863 ],\n",
              "       [0.33400548],\n",
              "       [0.43704635],\n",
              "       [0.31615683],\n",
              "       [0.47107998],\n",
              "       [0.37532178],\n",
              "       [0.43602833],\n",
              "       [0.36753756],\n",
              "       [0.43861628],\n",
              "       [0.42607167],\n",
              "       [0.43809986],\n",
              "       [0.377632  ],\n",
              "       [0.43522227],\n",
              "       [0.4899348 ],\n",
              "       [0.36991674],\n",
              "       [0.32427007],\n",
              "       [0.4336384 ],\n",
              "       [0.36036962],\n",
              "       [0.51164836],\n",
              "       [0.40918887],\n",
              "       [0.3154021 ],\n",
              "       [0.37219188],\n",
              "       [0.4936659 ],\n",
              "       [0.4356233 ],\n",
              "       [0.43548584],\n",
              "       [0.4899348 ],\n",
              "       [0.3255464 ],\n",
              "       [0.33509845],\n",
              "       [0.32431486],\n",
              "       [0.43547758],\n",
              "       [0.48405376],\n",
              "       [0.4736782 ],\n",
              "       [0.31602153],\n",
              "       [0.4354708 ],\n",
              "       [0.47479898],\n",
              "       [0.37839663],\n",
              "       [0.4365903 ],\n",
              "       [0.42427507],\n",
              "       [0.45095786],\n",
              "       [0.44075108],\n",
              "       [0.3598333 ],\n",
              "       [0.37289846],\n",
              "       [0.4732811 ],\n",
              "       [0.5116292 ],\n",
              "       [0.42749384],\n",
              "       [0.32490587],\n",
              "       [0.3428022 ],\n",
              "       [0.4716111 ],\n",
              "       [0.29583988],\n",
              "       [0.4297274 ],\n",
              "       [0.47420958],\n",
              "       [0.43762136],\n",
              "       [0.4347695 ],\n",
              "       [0.43940008],\n",
              "       [0.47434387],\n",
              "       [0.4086376 ],\n",
              "       [0.5176229 ],\n",
              "       [0.426343  ],\n",
              "       [0.46723914],\n",
              "       [0.43278703],\n",
              "       [0.33134124],\n",
              "       [0.36079842],\n",
              "       [0.43602833],\n",
              "       [0.51164836],\n",
              "       [0.4412765 ],\n",
              "       [0.37046114],\n",
              "       [0.4460861 ],\n",
              "       [0.37290955],\n",
              "       [0.4365258 ],\n",
              "       [0.34666976],\n",
              "       [0.4616088 ],\n",
              "       [0.37932795],\n",
              "       [0.46895632],\n",
              "       [0.43495607],\n",
              "       [0.27421373],\n",
              "       [0.42759517],\n",
              "       [0.4107651 ],\n",
              "       [0.3983305 ],\n",
              "       [0.35935315],\n",
              "       [0.46903256],\n",
              "       [0.35824364],\n",
              "       [0.4728841 ],\n",
              "       [0.32658753],\n",
              "       [0.4292043 ],\n",
              "       [0.50044394],\n",
              "       [0.48833653],\n",
              "       [0.43495825],\n",
              "       [0.4123047 ],\n",
              "       [0.43338737],\n",
              "       [0.31203598],\n",
              "       [0.47060314],\n",
              "       [0.43705076],\n",
              "       [0.35158256],\n",
              "       [0.3117158 ],\n",
              "       [0.49427977],\n",
              "       [0.3728981 ],\n",
              "       [0.47385198],\n",
              "       [0.39826697],\n",
              "       [0.30668637],\n",
              "       [0.32274485],\n",
              "       [0.44317698],\n",
              "       [0.50738215],\n",
              "       [0.26385108],\n",
              "       [0.37187928],\n",
              "       [0.35157466],\n",
              "       [0.35939562],\n",
              "       [0.3432984 ],\n",
              "       [0.46845293],\n",
              "       [0.37589374],\n",
              "       [0.32776892],\n",
              "       [0.31902608],\n",
              "       [0.44109392],\n",
              "       [0.38268387],\n",
              "       [0.4899103 ],\n",
              "       [0.43814296],\n",
              "       [0.43352023],\n",
              "       [0.34666976],\n",
              "       [0.4509284 ],\n",
              "       [0.4728841 ],\n",
              "       [0.43441412],\n",
              "       [0.4143724 ],\n",
              "       [0.4404246 ],\n",
              "       [0.51176924],\n",
              "       [0.396322  ],\n",
              "       [0.43547156],\n",
              "       [0.50985473],\n",
              "       [0.4355043 ],\n",
              "       [0.46478856],\n",
              "       [0.4235778 ],\n",
              "       [0.43756622],\n",
              "       [0.42503092],\n",
              "       [0.49673092],\n",
              "       [0.31964877],\n",
              "       [0.31733948],\n",
              "       [0.4673916 ],\n",
              "       [0.4270486 ],\n",
              "       [0.37444106],\n",
              "       [0.37757322],\n",
              "       [0.38034046],\n",
              "       [0.450522  ],\n",
              "       [0.37889808],\n",
              "       [0.3229941 ],\n",
              "       [0.43187547],\n",
              "       [0.3114683 ],\n",
              "       [0.39123285],\n",
              "       [0.35619268],\n",
              "       [0.34516266],\n",
              "       [0.4899348 ],\n",
              "       [0.43027195],\n",
              "       [0.3379482 ],\n",
              "       [0.46580026],\n",
              "       [0.3295521 ],\n",
              "       [0.47275877],\n",
              "       [0.51046884],\n",
              "       [0.46680328],\n",
              "       [0.3731137 ],\n",
              "       [0.44184995],\n",
              "       [0.37289846],\n",
              "       [0.47221857],\n",
              "       [0.4386276 ],\n",
              "       [0.37581468],\n",
              "       [0.30725425],\n",
              "       [0.43757826],\n",
              "       [0.31267574],\n",
              "       [0.32321426],\n",
              "       [0.37391037],\n",
              "       [0.4211513 ],\n",
              "       [0.384927  ],\n",
              "       [0.3363787 ],\n",
              "       [0.3377679 ],\n",
              "       [0.43569824],\n",
              "       [0.26402038]], dtype=float32)"
            ]
          },
          "metadata": {},
          "execution_count": 62
        }
      ]
    },
    {
      "cell_type": "markdown",
      "source": [
        "# 10에폭 학습 하고 검증평가해보기"
      ],
      "metadata": {
        "id": "U3wWVrRirHdF"
      }
    },
    {
      "cell_type": "code",
      "source": [
        "epochs = 10\n",
        "for epoch in range(epochs):\n",
        "    print(f\"{epoch+1} epoch 시작\")\n",
        "    train_loss = train_loop(train_dl, model, device, optimizer, loss_fn)\n",
        "    valid_loss , pred = test_loop(valid_dl, model, loss_fn, device)\n",
        "    print(train_loss, valid_loss)"
      ],
      "metadata": {
        "colab": {
          "base_uri": "https://localhost:8080/"
        },
        "id": "5F38wgBCrHbE",
        "outputId": "93cc8844-2cdf-41fe-ea44-f04fce115ea5"
      },
      "execution_count": null,
      "outputs": [
        {
          "output_type": "stream",
          "name": "stdout",
          "text": [
            "1 epoch 시작\n",
            "0.7284330033486889 0.7388763644478538\n",
            "2 epoch 시작\n",
            "0.7147180226541334 0.7264711911028082\n",
            "3 epoch 시작\n",
            "0.7007835603529408 0.7149528319185431\n",
            "4 epoch 시작\n",
            "0.6898600939781435 0.7038845907558094\n",
            "5 epoch 시작\n",
            "0.6781554568198419 0.6928930553522977\n",
            "6 epoch 시작\n",
            "0.6673279058548712 0.682576445015994\n",
            "7 epoch 시작\n",
            "0.6592964856855331 0.6726287711750377\n",
            "8 epoch 시작\n",
            "0.6484159096594779 0.6627776189283892\n",
            "9 epoch 시작\n",
            "0.6379899747910038 0.6531625660982999\n",
            "10 epoch 시작\n",
            "0.6300130005805723 0.6440484957261519\n"
          ]
        }
      ]
    },
    {
      "cell_type": "code",
      "source": [
        "from sklearn.metrics import roc_auc_score\n",
        "roc_auc_score(y_valid,pred)"
      ],
      "metadata": {
        "colab": {
          "base_uri": "https://localhost:8080/"
        },
        "id": "_8Aweb7IrHZj",
        "outputId": "833e9460-5587-4d31-d887-25302c225396"
      },
      "execution_count": null,
      "outputs": [
        {
          "output_type": "execute_result",
          "data": {
            "text/plain": [
              "0.7694036501724338"
            ]
          },
          "metadata": {},
          "execution_count": 64
        }
      ]
    },
    {
      "cell_type": "markdown",
      "source": [
        "# 정리해보자\n"
      ],
      "metadata": {
        "id": "gkjT0plyrHXK"
      }
    },
    {
      "cell_type": "markdown",
      "source": [
        "## dataset 정의\n"
      ],
      "metadata": {
        "id": "2BI7pSl-rHVH"
      }
    },
    {
      "cell_type": "code",
      "source": [
        "class TitanicDataset(torch.utils.data.Dataset):\n",
        "    def __init__(self,x,y = None): # 정답값이 없을 경우를 대비해서 \n",
        "        self.x = x\n",
        "        self.y = y\n",
        "        if self.y is not None:\n",
        "            self.y = y.astype(\"float32\").reshape(-1,1) # 2차원 형태로 변경\n",
        "    def __len__(self):\n",
        "        return self.x.shape[0] # 데이터 샘플의 길이값 반환\n",
        "    def __getitem__(self,idx):\n",
        "        item = {}\n",
        "        item[\"x\"] = torch.Tensor(self.x[idx])\n",
        "        if self.y is not None:\n",
        "            item[\"y\"] = torch.Tensor(self.y[idx])\n",
        "        return item"
      ],
      "metadata": {
        "id": "lylMTvyprHTZ"
      },
      "execution_count": null,
      "outputs": []
    },
    {
      "cell_type": "markdown",
      "source": [
        "## 모델정의"
      ],
      "metadata": {
        "id": "-pR-gjI0vJ2Y"
      }
    },
    {
      "cell_type": "code",
      "source": [
        "class LogisticRegression(torch.nn.Module):\n",
        "    def __init__(self,in_features):\n",
        "        super().__init__() # 부모클래스 초기화\n",
        "        self.hidden_layer = torch.nn.Linear(in_features,1) # 1을 줫을경우 노드가 하나 in_Feactures 10개가 out_features노드 1개에 연결\n",
        "        # self.sig = torch.nn.Sigmoid()\n",
        "    def forward(self,x):\n",
        "        x = self.hidden_layer(x)\n",
        "        # x = self.sig(x)\n",
        "        return x"
      ],
      "metadata": {
        "id": "jrXY30HevLnb"
      },
      "execution_count": null,
      "outputs": []
    },
    {
      "cell_type": "markdown",
      "source": [
        "## 학습하는 함수 정의"
      ],
      "metadata": {
        "id": "VeR7zbTDvRZH"
      }
    },
    {
      "cell_type": "code",
      "source": [
        "def train_loop(train_dl,model,device,optimizer,loss_fn):\n",
        "    model.train()\n",
        "\n",
        "    epoch_loss = 0\n",
        "    for batch in train_dl:\n",
        "        # print(batch[\"x\"].shape)\n",
        "        # break\n",
        "        pred = model(batch[\"x\"].to(device)) # gpu안에 학습데이터 모델을 넣어줌\n",
        "        loss = loss_fn(pred,batch[\"y\"].to(device)) # 손실값이 넘옴\n",
        "        \n",
        "        optimizer.zero_grad() # 경사를 0으로 초기화\n",
        "        loss.backward() # 역전파 코드\n",
        "        optimizer.step() # 가중치 업데이트\n",
        "\n",
        "\n",
        "        epoch_loss += loss.item() # 값을 가져올때 item\n",
        "\n",
        "    epoch_loss /= len(train_dl)\n",
        "\n",
        "    return epoch_loss"
      ],
      "metadata": {
        "id": "kbK24C2vvTVI"
      },
      "execution_count": null,
      "outputs": []
    },
    {
      "cell_type": "markdown",
      "source": [
        "## 평가 or 예측 하는 함수 정의"
      ],
      "metadata": {
        "id": "tx9JEUgDvefX"
      }
    },
    {
      "cell_type": "code",
      "source": [
        "@torch.no_grad() # with torch.no.grad() 와 같다\n",
        "def test_loop(dataloader, model, loss_fn,device):\n",
        "    epoch_loss = 0\n",
        "    model.eval() # 평가할때 모델 모드를 eval로 꼭 변경해줘야함, 랜덤적인 요소를 없애기위해\n",
        "\n",
        "    pred_list = []\n",
        "    sig = torch.nn.Sigmoid()\n",
        "    \n",
        "    for batch in dataloader:\n",
        "        pred = model(batch[\"x\"].to(device))\n",
        "\n",
        "        if batch.get(\"y\") is not None: # y값이 있을 경우만 loss 계산\n",
        "            loss = loss_fn(pred,batch[\"y\"].to(device))\n",
        "            epoch_loss += loss.item() # 값을 가져올때 item\n",
        "        \n",
        "        pred = sig(pred) # 시그모이드 함수 통과, 0 ~ 1 확률값으로 변경\n",
        "        pred = pred.to(\"cpu\").numpy() # cpu 이동후 numpy 변환\n",
        "        pred_list.append(pred)\n",
        "\n",
        "    epoch_loss /= len(dataloader)\n",
        "\n",
        "    pred = np.concatenate(pred_list) #pred값이 있으니 auc도 확인가능\n",
        "\n",
        "    return epoch_loss,pred"
      ],
      "metadata": {
        "id": "N65NZM9Vvh72"
      },
      "execution_count": null,
      "outputs": []
    },
    {
      "cell_type": "markdown",
      "source": [
        "## 학습에 필요한 손실과 최적화등 하이퍼파라미터 정의\n"
      ],
      "metadata": {
        "id": "liiubnmFvsEW"
      }
    },
    {
      "cell_type": "code",
      "source": [
        "loss_fn = torch.nn.BCEWithLogitsLoss()\n",
        "epoch = 1000\n",
        "batch_size = 32\n",
        "num_features = x_train.shape[1]"
      ],
      "metadata": {
        "id": "9SIVjkmavzSH"
      },
      "execution_count": null,
      "outputs": []
    },
    {
      "cell_type": "code",
      "source": [
        "from sklearn.model_selection import KFold\n",
        "cv = KFold(n_splits=5, shuffle= True, random_state=SEED)"
      ],
      "metadata": {
        "id": "HR5Jb8sPwcOo"
      },
      "execution_count": null,
      "outputs": []
    },
    {
      "cell_type": "code",
      "source": [
        "features.shape , target.shape"
      ],
      "metadata": {
        "colab": {
          "base_uri": "https://localhost:8080/"
        },
        "id": "h9z0ZZxQwcMj",
        "outputId": "0195cdec-80ef-4129-b13f-45a27994cca0"
      },
      "execution_count": null,
      "outputs": [
        {
          "output_type": "execute_result",
          "data": {
            "text/plain": [
              "((1309, 10), (1309,))"
            ]
          },
          "metadata": {},
          "execution_count": 71
        }
      ]
    },
    {
      "cell_type": "code",
      "source": [
        "is_holdout = True # 홀드아웃 하나로 체크해보고 점수가 괜찮으면 다섯개 다 돌려보자\n",
        "for tri,vai in cv.split(features):\n",
        "    # 학습데이터\n",
        "    x_train = features[tri]\n",
        "    y_train = target[tri]\n",
        "\n",
        "    # 검증데이터\n",
        "    x_valid = features[vai]\n",
        "    y_valid = target[vai]\n",
        "\n",
        "    model = LogisticRegression(num_features).to(device)\n",
        "    optimizer = torch.optim.Adam(model.parameters())\n",
        "\n",
        "    train_dt = TitanicDataset(x_train,y_train)\n",
        "    valid_dt = TitanicDataset(x_valid,y_valid)\n",
        "\n",
        "    train_dl = torch.utils.data.DataLoader(train_dt, batch_size=batch_size,shuffle=True)\n",
        "    valid_dl = torch.utils.data.DataLoader(valid_dt, batch_size=batch_size,shuffle=False)\n",
        "\n",
        "    train_loss_history = []\n",
        "    valid_loss_history = []\n",
        "\n",
        "\n",
        "    for e in range(epoch):\n",
        "        train_loss = train_loop(train_dl, model, device, optimizer, loss_fn)\n",
        "        valid_loss, pred = test_loop(valid_dl, model, loss_fn , device)\n",
        "\n",
        "        \n",
        "\n",
        "        \n",
        "\n",
        "        train_loss_history.append(train_loss)\n",
        "        valid_loss_history.append(valid_loss)\n",
        "\n",
        "    if is_holdout:\n",
        "        break"
      ],
      "metadata": {
        "id": "vLf96bqAwcKn"
      },
      "execution_count": null,
      "outputs": []
    },
    {
      "cell_type": "markdown",
      "source": [
        "- 시각화 해보기"
      ],
      "metadata": {
        "id": "ZDLAAlhYwcIv"
      }
    },
    {
      "cell_type": "code",
      "source": [
        "import matplotlib.pyplot as plt\n",
        "fig,ax = plt.subplots()\n",
        "\n",
        "ax.plot(train_loss_history)\n",
        "ax.plot(valid_loss_history)\n",
        "ax.set_xlabel(\"epochs\")\n",
        "ax.set_ylabel(\"loss_value\")\n",
        "ax.legend([\"train\",\"valid\"])\n",
        "plt.show()"
      ],
      "metadata": {
        "id": "DrCX7JFXwcGy",
        "colab": {
          "base_uri": "https://localhost:8080/",
          "height": 279
        },
        "outputId": "38750b8f-74bd-4320-cc1c-e855fe8ed333"
      },
      "execution_count": null,
      "outputs": [
        {
          "output_type": "display_data",
          "data": {
            "text/plain": [
              "<Figure size 432x288 with 1 Axes>"
            ],
            "image/png": "[encoded data removed]"
          },
          "metadata": {
            "needs_background": "light"
          }
        }
      ]
    },
    {
      "cell_type": "markdown",
      "source": [
        "- 검증셋 평가 및 검증셋에 대한 AUC 개선이 없을 경우 조기 종료 조건주고 모델 가중치를 저장하기"
      ],
      "metadata": {
        "id": "7uAGB8W-WSk7"
      }
    },
    {
      "cell_type": "code",
      "source": [
        "is_holdout = False # 홀드아웃 하나로 체크해보고 점수가 괜찮으면 다섯개 다 돌려보자\n",
        "for i,(tri,vai) in enumerate(cv.split(features)): # 폴드 5개로 나눠\n",
        "    # 학습데이터\n",
        "    x_train = features[tri]\n",
        "    y_train = target[tri]\n",
        "\n",
        "    # 검증데이터\n",
        "    x_valid = features[vai]\n",
        "    y_valid = target[vai]\n",
        "\n",
        "    model = LogisticRegression(num_features).to(device)\n",
        "    optimizer = torch.optim.Adam(model.parameters())\n",
        "\n",
        "    train_dt = TitanicDataset(x_train,y_train)\n",
        "    valid_dt = TitanicDataset(x_valid,y_valid)\n",
        "\n",
        "    train_dl = torch.utils.data.DataLoader(train_dt, batch_size=batch_size,shuffle=True)\n",
        "    valid_dl = torch.utils.data.DataLoader(valid_dt, batch_size=batch_size,shuffle=False)\n",
        "\n",
        "    best_score = 0\n",
        "    patience = 0\n",
        "    for e in range(epoch):\n",
        "        train_loss = train_loop(train_dl, model, device, optimizer, loss_fn)\n",
        "        valid_loss, pred = test_loop(valid_dl, model, loss_fn , device)\n",
        "\n",
        "        score = roc_auc_score(y_valid,pred)\n",
        "        patience += 1 # 5번동안 갱신이 안됬을 경우, 반복문을 멈추기 위해서\n",
        "        if best_score < score:\n",
        "            patience = 0 # 갱신되면 초기화\n",
        "            best_score = score\n",
        "            torch.save(model.state_dict(),f\"model_{i}.pth\") # 저장하는 습관을 들이자 재현성을 검증하기위해 항상 저장!!!!!!!!!\n",
        "       \n",
        "        if patience == 5:\n",
        "           break\n",
        "        \n",
        "    print(f\"{i} 번째 폴드 AUC: {best_score}\") # 폴드별 auc score 최고점수 갱신\n",
        "\n",
        "     \n",
        "\n",
        "    if is_holdout:\n",
        "        break"
      ],
      "metadata": {
        "id": "OPadn7gPwcEW",
        "colab": {
          "base_uri": "https://localhost:8080/"
        },
        "outputId": "4aaba35e-fa19-4734-e80b-bb0af2a5d146"
      },
      "execution_count": null,
      "outputs": [
        {
          "output_type": "stream",
          "name": "stdout",
          "text": [
            "0 번째 폴드 AUC: 0.8829455944312146\n",
            "1 번째 폴드 AUC: 0.896429467871486\n",
            "2 번째 폴드 AUC: 0.8862855357700719\n",
            "3 번째 폴드 AUC: 0.9048713235294118\n",
            "4 번째 폴드 AUC: 0.8917929292929293\n"
          ]
        }
      ]
    },
    {
      "cell_type": "code",
      "source": [
        "x_test.shape # 정답이 없는 테스트 셋이라고 가정"
      ],
      "metadata": {
        "id": "waeS6CqKwcCw",
        "colab": {
          "base_uri": "https://localhost:8080/"
        },
        "outputId": "7ee32adf-4216-4305-c011-2b9d1a715e63"
      },
      "execution_count": null,
      "outputs": [
        {
          "output_type": "execute_result",
          "data": {
            "text/plain": [
              "(328, 10)"
            ]
          },
          "metadata": {},
          "execution_count": 75
        }
      ]
    },
    {
      "cell_type": "markdown",
      "source": [
        "- 저장된 모델 불러오고 추론하기"
      ],
      "metadata": {
        "id": "IU7uMfvgwcAT"
      }
    },
    {
      "cell_type": "code",
      "source": [
        "test_dt = TitanicDataset(x_test)\n",
        "test_dl = torch.utils.data.DataLoader(test_dt,batch_size=batch_size,shuffle=False) # 예측하는데 섞을 필요없음 "
      ],
      "metadata": {
        "id": "9Ex2RtdSwb-J"
      },
      "execution_count": null,
      "outputs": []
    },
    {
      "cell_type": "code",
      "source": [
        "pred_list = []\n",
        "for i in range(5):\n",
        "    model = LogisticRegression(num_features).to(device)\n",
        "    state_dict = torch.load(f\"model_{i}.pth\") # 가중치가 로드가 됨\n",
        "    model.load_state_dict(state_dict)\n",
        "    _,pred = test_loop(test_dl,model,loss_fn,device)\n",
        "    pred_list.append(pred)\n",
        "pred = np.mean(pred_list, axis = 0)\n",
        "pred"
      ],
      "metadata": {
        "id": "niya7Wqiwb7-",
        "colab": {
          "base_uri": "https://localhost:8080/"
        },
        "outputId": "2ba1d10c-8bb4-4a09-a4fb-ebb997ffc408"
      },
      "execution_count": null,
      "outputs": [
        {
          "output_type": "execute_result",
          "data": {
            "text/plain": [
              "array([[0.21984585],\n",
              "       [0.29206133],\n",
              "       [0.21981521],\n",
              "       [0.25112122],\n",
              "       [0.56901723],\n",
              "       [0.57488954],\n",
              "       [0.56901723],\n",
              "       [0.5935812 ],\n",
              "       [0.5487515 ],\n",
              "       [0.24627304],\n",
              "       [0.21853085],\n",
              "       [0.22013874],\n",
              "       [0.33338493],\n",
              "       [0.6719295 ],\n",
              "       [0.22146586],\n",
              "       [0.5993741 ],\n",
              "       [0.56377196],\n",
              "       [0.21979013],\n",
              "       [0.2811474 ],\n",
              "       [0.2216963 ],\n",
              "       [0.25249055],\n",
              "       [0.2209092 ],\n",
              "       [0.2175751 ],\n",
              "       [0.21774623],\n",
              "       [0.22137646],\n",
              "       [0.43247136],\n",
              "       [0.21922977],\n",
              "       [0.217275  ],\n",
              "       [0.25431117],\n",
              "       [0.5348467 ],\n",
              "       [0.22056606],\n",
              "       [0.59475225],\n",
              "       [0.5690223 ],\n",
              "       [0.22117317],\n",
              "       [0.3141759 ],\n",
              "       [0.23819008],\n",
              "       [0.5723166 ],\n",
              "       [0.528134  ],\n",
              "       [0.21982865],\n",
              "       [0.5621179 ],\n",
              "       [0.29133344],\n",
              "       [0.5468529 ],\n",
              "       [0.5690395 ],\n",
              "       [0.2178417 ],\n",
              "       [0.35874504],\n",
              "       [0.24759884],\n",
              "       [0.2130804 ],\n",
              "       [0.24323551],\n",
              "       [0.56901723],\n",
              "       [0.5962478 ],\n",
              "       [0.57151854],\n",
              "       [0.67484605],\n",
              "       [0.21966068],\n",
              "       [0.2710474 ],\n",
              "       [0.6055156 ],\n",
              "       [0.23819983],\n",
              "       [0.22092326],\n",
              "       [0.536986  ],\n",
              "       [0.22604012],\n",
              "       [0.21765871],\n",
              "       [0.2940212 ],\n",
              "       [0.23819008],\n",
              "       [0.6159707 ],\n",
              "       [0.536765  ],\n",
              "       [0.6689893 ],\n",
              "       [0.29690948],\n",
              "       [0.6394986 ],\n",
              "       [0.6030297 ],\n",
              "       [0.21936938],\n",
              "       [0.23070817],\n",
              "       [0.21982865],\n",
              "       [0.29151157],\n",
              "       [0.25051862],\n",
              "       [0.2227265 ],\n",
              "       [0.26030737],\n",
              "       [0.28874406],\n",
              "       [0.56832373],\n",
              "       [0.2192159 ],\n",
              "       [0.65562594],\n",
              "       [0.25156885],\n",
              "       [0.6552414 ],\n",
              "       [0.21973443],\n",
              "       [0.3350938 ],\n",
              "       [0.24863012],\n",
              "       [0.22044554],\n",
              "       [0.21982865],\n",
              "       [0.25881773],\n",
              "       [0.34362826],\n",
              "       [0.6034224 ],\n",
              "       [0.63073784],\n",
              "       [0.56901723],\n",
              "       [0.29683107],\n",
              "       [0.21741691],\n",
              "       [0.5931741 ],\n",
              "       [0.2198528 ],\n",
              "       [0.6100751 ],\n",
              "       [0.22035551],\n",
              "       [0.29620457],\n",
              "       [0.5872551 ],\n",
              "       [0.6660365 ],\n",
              "       [0.22067657],\n",
              "       [0.21681257],\n",
              "       [0.21972886],\n",
              "       [0.5865929 ],\n",
              "       [0.53423965],\n",
              "       [0.24174972],\n",
              "       [0.66911304],\n",
              "       [0.30991676],\n",
              "       [0.22815137],\n",
              "       [0.56901723],\n",
              "       [0.25282574],\n",
              "       [0.5824362 ],\n",
              "       [0.56901723],\n",
              "       [0.21652496],\n",
              "       [0.6707489 ],\n",
              "       [0.23128507],\n",
              "       [0.5693164 ],\n",
              "       [0.5512117 ],\n",
              "       [0.21907663],\n",
              "       [0.24576148],\n",
              "       [0.2162697 ],\n",
              "       [0.6042681 ],\n",
              "       [0.24517429],\n",
              "       [0.24565467],\n",
              "       [0.21645352],\n",
              "       [0.6005066 ],\n",
              "       [0.55551183],\n",
              "       [0.26941296],\n",
              "       [0.2218912 ],\n",
              "       [0.66362953],\n",
              "       [0.24546404],\n",
              "       [0.6879324 ],\n",
              "       [0.23215063],\n",
              "       [0.5891074 ],\n",
              "       [0.25348073],\n",
              "       [0.21969843],\n",
              "       [0.59242076],\n",
              "       [0.32414645],\n",
              "       [0.24715424],\n",
              "       [0.22029755],\n",
              "       [0.23819008],\n",
              "       [0.5823369 ],\n",
              "       [0.29851276],\n",
              "       [0.22172734],\n",
              "       [0.21866076],\n",
              "       [0.59975165],\n",
              "       [0.28519452],\n",
              "       [0.7214192 ],\n",
              "       [0.24556753],\n",
              "       [0.38226637],\n",
              "       [0.22022209],\n",
              "       [0.2909401 ],\n",
              "       [0.21982865],\n",
              "       [0.28988928],\n",
              "       [0.5799407 ],\n",
              "       [0.6761106 ],\n",
              "       [0.24992883],\n",
              "       [0.6915927 ],\n",
              "       [0.22026679],\n",
              "       [0.54136115],\n",
              "       [0.25216162],\n",
              "       [0.245567  ],\n",
              "       [0.22006908],\n",
              "       [0.5584452 ],\n",
              "       [0.22072096],\n",
              "       [0.22366962],\n",
              "       [0.22059521],\n",
              "       [0.5715531 ],\n",
              "       [0.21732716],\n",
              "       [0.23819008],\n",
              "       [0.23802857],\n",
              "       [0.53490686],\n",
              "       [0.341099  ],\n",
              "       [0.59742135],\n",
              "       [0.29550904],\n",
              "       [0.6164423 ],\n",
              "       [0.5362051 ],\n",
              "       [0.24794844],\n",
              "       [0.23946102],\n",
              "       [0.36181355],\n",
              "       [0.21984585],\n",
              "       [0.23819008],\n",
              "       [0.5406845 ],\n",
              "       [0.6710781 ],\n",
              "       [0.6708816 ],\n",
              "       [0.21981521],\n",
              "       [0.2836365 ],\n",
              "       [0.25500768],\n",
              "       [0.55441666],\n",
              "       [0.21979013],\n",
              "       [0.2535481 ],\n",
              "       [0.5720406 ],\n",
              "       [0.22280376],\n",
              "       [0.2157975 ],\n",
              "       [0.24497566],\n",
              "       [0.22147933],\n",
              "       [0.5944723 ],\n",
              "       [0.56901723],\n",
              "       [0.2532819 ],\n",
              "       [0.29541153],\n",
              "       [0.32659504],\n",
              "       [0.5363696 ],\n",
              "       [0.5927712 ],\n",
              "       [0.2523585 ],\n",
              "       [0.5668293 ],\n",
              "       [0.21815112],\n",
              "       [0.25520852],\n",
              "       [0.22061022],\n",
              "       [0.32760495],\n",
              "       [0.22184353],\n",
              "       [0.25368002],\n",
              "       [0.28195292],\n",
              "       [0.32749957],\n",
              "       [0.33704242],\n",
              "       [0.24835965],\n",
              "       [0.21723576],\n",
              "       [0.5543985 ],\n",
              "       [0.59169734],\n",
              "       [0.22006908],\n",
              "       [0.29550904],\n",
              "       [0.22163777],\n",
              "       [0.5652848 ],\n",
              "       [0.38377947],\n",
              "       [0.56908417],\n",
              "       [0.22012523],\n",
              "       [0.5840291 ],\n",
              "       [0.24900898],\n",
              "       [0.24715476],\n",
              "       [0.2513782 ],\n",
              "       [0.21966954],\n",
              "       [0.5826699 ],\n",
              "       [0.21738847],\n",
              "       [0.20517845],\n",
              "       [0.66196185],\n",
              "       [0.60938245],\n",
              "       [0.25170565],\n",
              "       [0.60044587],\n",
              "       [0.25156885],\n",
              "       [0.66185033],\n",
              "       [0.21799715],\n",
              "       [0.29028496],\n",
              "       [0.2376529 ],\n",
              "       [0.2196774 ],\n",
              "       [0.28628927],\n",
              "       [0.2192159 ],\n",
              "       [0.67470205],\n",
              "       [0.25219837],\n",
              "       [0.22028308],\n",
              "       [0.58712494],\n",
              "       [0.5260551 ],\n",
              "       [0.2885664 ],\n",
              "       [0.569015  ],\n",
              "       [0.24963745],\n",
              "       [0.66343266],\n",
              "       [0.5679345 ],\n",
              "       [0.53888017],\n",
              "       [0.33228797],\n",
              "       [0.29350352],\n",
              "       [0.5931741 ],\n",
              "       [0.5683241 ],\n",
              "       [0.5928286 ],\n",
              "       [0.5913301 ],\n",
              "       [0.58213365],\n",
              "       [0.24938896],\n",
              "       [0.570673  ],\n",
              "       [0.54780996],\n",
              "       [0.54943115],\n",
              "       [0.22436292],\n",
              "       [0.6450362 ],\n",
              "       [0.23809119],\n",
              "       [0.22075543],\n",
              "       [0.21488664],\n",
              "       [0.5840291 ],\n",
              "       [0.33582705],\n",
              "       [0.25156885],\n",
              "       [0.21944818],\n",
              "       [0.28728542],\n",
              "       [0.22364993],\n",
              "       [0.2961263 ],\n",
              "       [0.6371055 ],\n",
              "       [0.21979292],\n",
              "       [0.26797062],\n",
              "       [0.21991412],\n",
              "       [0.25015515],\n",
              "       [0.22487283],\n",
              "       [0.22040541],\n",
              "       [0.21679875],\n",
              "       [0.28869754],\n",
              "       [0.54716223],\n",
              "       [0.6982914 ],\n",
              "       [0.24900475],\n",
              "       [0.32403588],\n",
              "       [0.24783666],\n",
              "       [0.2464571 ],\n",
              "       [0.6334586 ],\n",
              "       [0.33624133],\n",
              "       [0.5723137 ],\n",
              "       [0.66314316],\n",
              "       [0.21567604],\n",
              "       [0.528134  ],\n",
              "       [0.6569681 ],\n",
              "       [0.59082574],\n",
              "       [0.59132946],\n",
              "       [0.23819008],\n",
              "       [0.2183835 ],\n",
              "       [0.6760864 ],\n",
              "       [0.2484314 ],\n",
              "       [0.597135  ],\n",
              "       [0.24911901],\n",
              "       [0.26855794],\n",
              "       [0.25079298],\n",
              "       [0.24194118],\n",
              "       [0.33289045],\n",
              "       [0.56901723],\n",
              "       [0.2528854 ],\n",
              "       [0.22076301],\n",
              "       [0.64067376],\n",
              "       [0.56896514],\n",
              "       [0.22045016],\n",
              "       [0.5487515 ],\n",
              "       [0.5392046 ],\n",
              "       [0.61906606],\n",
              "       [0.21341331],\n",
              "       [0.6647093 ],\n",
              "       [0.6885847 ],\n",
              "       [0.5995302 ],\n",
              "       [0.22063318],\n",
              "       [0.594303  ]], dtype=float32)"
            ]
          },
          "metadata": {},
          "execution_count": 77
        }
      ]
    },
    {
      "cell_type": "code",
      "source": [],
      "metadata": {
        "id": "i93RXxJNwb6G"
      },
      "execution_count": null,
      "outputs": []
    },
    {
      "cell_type": "code",
      "source": [],
      "metadata": {
        "id": "Q0qjtA-Uwb4O"
      },
      "execution_count": null,
      "outputs": []
    },
    {
      "cell_type": "code",
      "source": [],
      "metadata": {
        "id": "qhc6lYWkwb2q"
      },
      "execution_count": null,
      "outputs": []
    },
    {
      "cell_type": "code",
      "source": [],
      "metadata": {
        "id": "CoTlxJxawb0D"
      },
      "execution_count": null,
      "outputs": []
    },
    {
      "cell_type": "code",
      "source": [],
      "metadata": {
        "id": "KoMM_dz_wbyZ"
      },
      "execution_count": null,
      "outputs": []
    },
    {
      "cell_type": "code",
      "source": [],
      "metadata": {
        "id": "k-tSfHqLwbwo"
      },
      "execution_count": null,
      "outputs": []
    },
    {
      "cell_type": "code",
      "source": [],
      "metadata": {
        "id": "Y-VzUMs0wbuG"
      },
      "execution_count": null,
      "outputs": []
    },
    {
      "cell_type": "code",
      "source": [],
      "metadata": {
        "id": "JWM-ZwSYwbr-"
      },
      "execution_count": null,
      "outputs": []
    },
    {
      "cell_type": "code",
      "source": [],
      "metadata": {
        "id": "yZG2p_Eowbp4"
      },
      "execution_count": null,
      "outputs": []
    }
  ]
}