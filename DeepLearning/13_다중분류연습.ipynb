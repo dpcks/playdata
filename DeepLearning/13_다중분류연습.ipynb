{
  "nbformat": 4,
  "nbformat_minor": 0,
  "metadata": {
    "colab": {
      "provenance": [],
      "include_colab_link": true
    },
    "kernelspec": {
      "name": "python3",
      "display_name": "Python 3"
    },
    "language_info": {
      "name": "python"
    },
    "accelerator": "GPU",
    "gpuClass": "standard",
    "widgets": {
      "application/vnd.jupyter.widget-state+json": {
        "333d19d25b4f44179b03ab4f1b553e2a": {
          "model_module": "@jupyter-widgets/controls",
          "model_name": "HBoxModel",
          "model_module_version": "1.5.0",
          "state": {
            "_dom_classes": [],
            "_model_module": "@jupyter-widgets/controls",
            "_model_module_version": "1.5.0",
            "_model_name": "HBoxModel",
            "_view_count": null,
            "_view_module": "@jupyter-widgets/controls",
            "_view_module_version": "1.5.0",
            "_view_name": "HBoxView",
            "box_style": "",
            "children": [
              "IPY_MODEL_25e57eafa80b4f1fa5a00b40b544df76",
              "IPY_MODEL_ae57224da92c455fb7c040d77f438cf2",
              "IPY_MODEL_33e9955488cb47cfbc6df255700aab40"
            ],
            "layout": "IPY_MODEL_d0d68832c2b6471899303c4f1a34a0bb"
          }
        },
        "25e57eafa80b4f1fa5a00b40b544df76": {
          "model_module": "@jupyter-widgets/controls",
          "model_name": "HTMLModel",
          "model_module_version": "1.5.0",
          "state": {
            "_dom_classes": [],
            "_model_module": "@jupyter-widgets/controls",
            "_model_module_version": "1.5.0",
            "_model_name": "HTMLModel",
            "_view_count": null,
            "_view_module": "@jupyter-widgets/controls",
            "_view_module_version": "1.5.0",
            "_view_name": "HTMLView",
            "description": "",
            "description_tooltip": null,
            "layout": "IPY_MODEL_52825f6344f2454180c442c1f14cdafe",
            "placeholder": "​",
            "style": "IPY_MODEL_282ad1d5d0914ab09dbac331b9865b99",
            "value": "  6%"
          }
        },
        "ae57224da92c455fb7c040d77f438cf2": {
          "model_module": "@jupyter-widgets/controls",
          "model_name": "FloatProgressModel",
          "model_module_version": "1.5.0",
          "state": {
            "_dom_classes": [],
            "_model_module": "@jupyter-widgets/controls",
            "_model_module_version": "1.5.0",
            "_model_name": "FloatProgressModel",
            "_view_count": null,
            "_view_module": "@jupyter-widgets/controls",
            "_view_module_version": "1.5.0",
            "_view_name": "ProgressView",
            "bar_style": "danger",
            "description": "",
            "description_tooltip": null,
            "layout": "IPY_MODEL_21bb044487ea464093ce8a4c6ae59ea5",
            "max": 100,
            "min": 0,
            "orientation": "horizontal",
            "style": "IPY_MODEL_9a7abb859549476289879e7c43a2e500",
            "value": 6
          }
        },
        "33e9955488cb47cfbc6df255700aab40": {
          "model_module": "@jupyter-widgets/controls",
          "model_name": "HTMLModel",
          "model_module_version": "1.5.0",
          "state": {
            "_dom_classes": [],
            "_model_module": "@jupyter-widgets/controls",
            "_model_module_version": "1.5.0",
            "_model_name": "HTMLModel",
            "_view_count": null,
            "_view_module": "@jupyter-widgets/controls",
            "_view_module_version": "1.5.0",
            "_view_name": "HTMLView",
            "description": "",
            "description_tooltip": null,
            "layout": "IPY_MODEL_fc5d82fb82f241d4932db9a39805b581",
            "placeholder": "​",
            "style": "IPY_MODEL_37a9cd37124040e6aac0ad46fea91cea",
            "value": " 6/100 [04:02&lt;54:03, 34.51s/it]"
          }
        },
        "d0d68832c2b6471899303c4f1a34a0bb": {
          "model_module": "@jupyter-widgets/base",
          "model_name": "LayoutModel",
          "model_module_version": "1.2.0",
          "state": {
            "_model_module": "@jupyter-widgets/base",
            "_model_module_version": "1.2.0",
            "_model_name": "LayoutModel",
            "_view_count": null,
            "_view_module": "@jupyter-widgets/base",
            "_view_module_version": "1.2.0",
            "_view_name": "LayoutView",
            "align_content": null,
            "align_items": null,
            "align_self": null,
            "border": null,
            "bottom": null,
            "display": null,
            "flex": null,
            "flex_flow": null,
            "grid_area": null,
            "grid_auto_columns": null,
            "grid_auto_flow": null,
            "grid_auto_rows": null,
            "grid_column": null,
            "grid_gap": null,
            "grid_row": null,
            "grid_template_areas": null,
            "grid_template_columns": null,
            "grid_template_rows": null,
            "height": null,
            "justify_content": null,
            "justify_items": null,
            "left": null,
            "margin": null,
            "max_height": null,
            "max_width": null,
            "min_height": null,
            "min_width": null,
            "object_fit": null,
            "object_position": null,
            "order": null,
            "overflow": null,
            "overflow_x": null,
            "overflow_y": null,
            "padding": null,
            "right": null,
            "top": null,
            "visibility": null,
            "width": null
          }
        },
        "52825f6344f2454180c442c1f14cdafe": {
          "model_module": "@jupyter-widgets/base",
          "model_name": "LayoutModel",
          "model_module_version": "1.2.0",
          "state": {
            "_model_module": "@jupyter-widgets/base",
            "_model_module_version": "1.2.0",
            "_model_name": "LayoutModel",
            "_view_count": null,
            "_view_module": "@jupyter-widgets/base",
            "_view_module_version": "1.2.0",
            "_view_name": "LayoutView",
            "align_content": null,
            "align_items": null,
            "align_self": null,
            "border": null,
            "bottom": null,
            "display": null,
            "flex": null,
            "flex_flow": null,
            "grid_area": null,
            "grid_auto_columns": null,
            "grid_auto_flow": null,
            "grid_auto_rows": null,
            "grid_column": null,
            "grid_gap": null,
            "grid_row": null,
            "grid_template_areas": null,
            "grid_template_columns": null,
            "grid_template_rows": null,
            "height": null,
            "justify_content": null,
            "justify_items": null,
            "left": null,
            "margin": null,
            "max_height": null,
            "max_width": null,
            "min_height": null,
            "min_width": null,
            "object_fit": null,
            "object_position": null,
            "order": null,
            "overflow": null,
            "overflow_x": null,
            "overflow_y": null,
            "padding": null,
            "right": null,
            "top": null,
            "visibility": null,
            "width": null
          }
        },
        "282ad1d5d0914ab09dbac331b9865b99": {
          "model_module": "@jupyter-widgets/controls",
          "model_name": "DescriptionStyleModel",
          "model_module_version": "1.5.0",
          "state": {
            "_model_module": "@jupyter-widgets/controls",
            "_model_module_version": "1.5.0",
            "_model_name": "DescriptionStyleModel",
            "_view_count": null,
            "_view_module": "@jupyter-widgets/base",
            "_view_module_version": "1.2.0",
            "_view_name": "StyleView",
            "description_width": ""
          }
        },
        "21bb044487ea464093ce8a4c6ae59ea5": {
          "model_module": "@jupyter-widgets/base",
          "model_name": "LayoutModel",
          "model_module_version": "1.2.0",
          "state": {
            "_model_module": "@jupyter-widgets/base",
            "_model_module_version": "1.2.0",
            "_model_name": "LayoutModel",
            "_view_count": null,
            "_view_module": "@jupyter-widgets/base",
            "_view_module_version": "1.2.0",
            "_view_name": "LayoutView",
            "align_content": null,
            "align_items": null,
            "align_self": null,
            "border": null,
            "bottom": null,
            "display": null,
            "flex": null,
            "flex_flow": null,
            "grid_area": null,
            "grid_auto_columns": null,
            "grid_auto_flow": null,
            "grid_auto_rows": null,
            "grid_column": null,
            "grid_gap": null,
            "grid_row": null,
            "grid_template_areas": null,
            "grid_template_columns": null,
            "grid_template_rows": null,
            "height": null,
            "justify_content": null,
            "justify_items": null,
            "left": null,
            "margin": null,
            "max_height": null,
            "max_width": null,
            "min_height": null,
            "min_width": null,
            "object_fit": null,
            "object_position": null,
            "order": null,
            "overflow": null,
            "overflow_x": null,
            "overflow_y": null,
            "padding": null,
            "right": null,
            "top": null,
            "visibility": null,
            "width": null
          }
        },
        "9a7abb859549476289879e7c43a2e500": {
          "model_module": "@jupyter-widgets/controls",
          "model_name": "ProgressStyleModel",
          "model_module_version": "1.5.0",
          "state": {
            "_model_module": "@jupyter-widgets/controls",
            "_model_module_version": "1.5.0",
            "_model_name": "ProgressStyleModel",
            "_view_count": null,
            "_view_module": "@jupyter-widgets/base",
            "_view_module_version": "1.2.0",
            "_view_name": "StyleView",
            "bar_color": null,
            "description_width": ""
          }
        },
        "fc5d82fb82f241d4932db9a39805b581": {
          "model_module": "@jupyter-widgets/base",
          "model_name": "LayoutModel",
          "model_module_version": "1.2.0",
          "state": {
            "_model_module": "@jupyter-widgets/base",
            "_model_module_version": "1.2.0",
            "_model_name": "LayoutModel",
            "_view_count": null,
            "_view_module": "@jupyter-widgets/base",
            "_view_module_version": "1.2.0",
            "_view_name": "LayoutView",
            "align_content": null,
            "align_items": null,
            "align_self": null,
            "border": null,
            "bottom": null,
            "display": null,
            "flex": null,
            "flex_flow": null,
            "grid_area": null,
            "grid_auto_columns": null,
            "grid_auto_flow": null,
            "grid_auto_rows": null,
            "grid_column": null,
            "grid_gap": null,
            "grid_row": null,
            "grid_template_areas": null,
            "grid_template_columns": null,
            "grid_template_rows": null,
            "height": null,
            "justify_content": null,
            "justify_items": null,
            "left": null,
            "margin": null,
            "max_height": null,
            "max_width": null,
            "min_height": null,
            "min_width": null,
            "object_fit": null,
            "object_position": null,
            "order": null,
            "overflow": null,
            "overflow_x": null,
            "overflow_y": null,
            "padding": null,
            "right": null,
            "top": null,
            "visibility": null,
            "width": null
          }
        },
        "37a9cd37124040e6aac0ad46fea91cea": {
          "model_module": "@jupyter-widgets/controls",
          "model_name": "DescriptionStyleModel",
          "model_module_version": "1.5.0",
          "state": {
            "_model_module": "@jupyter-widgets/controls",
            "_model_module_version": "1.5.0",
            "_model_name": "DescriptionStyleModel",
            "_view_count": null,
            "_view_module": "@jupyter-widgets/base",
            "_view_module_version": "1.2.0",
            "_view_name": "StyleView",
            "description_width": ""
          }
        }
      }
    }
  },
  "cells": [
    {
      "cell_type": "markdown",
      "metadata": {
        "id": "view-in-github",
        "colab_type": "text"
      },
      "source": [
        "<a href=\"https://colab.research.google.com/github/dpcks/playdata/blob/main/DeepLearning/13_%EB%8B%A4%EC%A4%91%EB%B6%84%EB%A5%98%EC%97%B0%EC%8A%B5.ipynb\" target=\"_parent\"><img src=\"https://colab.research.google.com/assets/colab-badge.svg\" alt=\"Open In Colab\"/></a>"
      ]
    },
    {
      "cell_type": "markdown",
      "source": [
        "# 데이터 경로를 변경하시오"
      ],
      "metadata": {
        "id": "WQGMaLWfA9qy"
      }
    },
    {
      "cell_type": "code",
      "source": [
        "DATA_PATH = \"/content/drive/MyDrive/딥러닝/data/\"\n",
        "SEED = 42"
      ],
      "metadata": {
        "id": "bCxy97pEA9MK"
      },
      "execution_count": null,
      "outputs": []
    },
    {
      "cell_type": "code",
      "execution_count": null,
      "metadata": {
        "id": "Xacrbo86ZRRu",
        "colab": {
          "base_uri": "https://localhost:8080/",
          "height": 35
        },
        "outputId": "b733f48d-13e1-4c33-d5a1-321e1eb6c514"
      },
      "outputs": [
        {
          "output_type": "execute_result",
          "data": {
            "text/plain": [
              "'cuda'"
            ],
            "application/vnd.google.colaboratory.intrinsic+json": {
              "type": "string"
            }
          },
          "metadata": {},
          "execution_count": 2
        }
      ],
      "source": [
        "import pandas as pd\n",
        "import numpy as np\n",
        "import torch\n",
        "from tqdm.auto import tqdm\n",
        "import random # 시드 고정을 위해\n",
        "import os # 시드 고정을 위해\n",
        "from PIL import Image\n",
        "\n",
        "def reset_seeds(seed):\n",
        "    random.seed(seed)\n",
        "    os.environ['PYTHONHASHSEED'] = str(seed)    # 파이썬 환경변수 시드 고정\n",
        "    np.random.seed(seed)\n",
        "    torch.manual_seed(seed) # cpu 연산 무작위 고정\n",
        "    torch.cuda.manual_seed(seed) # gpu 연산 무작위 고정\n",
        "    torch.backends.cudnn.deterministic = True  # cuda 라이브러리에서 Deterministic(결정론적)으로 예측하기 (예측에 대한 불확실성 제거 )\n",
        "\n",
        "\n",
        "device = 'cuda' if torch.cuda.is_available() else 'cpu'\n",
        "device"
      ]
    },
    {
      "cell_type": "markdown",
      "source": [
        "# 구글 드라이브 마운트"
      ],
      "metadata": {
        "id": "A4ERYFkEaqZy"
      }
    },
    {
      "cell_type": "code",
      "source": [
        "from google.colab import drive\n",
        "drive.mount('/content/drive')"
      ],
      "metadata": {
        "colab": {
          "base_uri": "https://localhost:8080/"
        },
        "id": "uSmx_vJ5ZfiJ",
        "outputId": "0ce5a193-5f33-460e-8c54-c5c7c64d1e9f"
      },
      "execution_count": null,
      "outputs": [
        {
          "output_type": "stream",
          "name": "stdout",
          "text": [
            "Mounted at /content/drive\n"
          ]
        }
      ]
    },
    {
      "cell_type": "markdown",
      "source": [
        "# 데이터 복사및 압축풀기"
      ],
      "metadata": {
        "id": "rXulmAS6atfZ"
      }
    },
    {
      "cell_type": "code",
      "source": [
        "if not os.path.isdir(\"train\"):\n",
        "    !cp \"{DATA_PATH}meat.zip\" \"meat.zip\"\n",
        "    !unzip -qq \"meat.zip\" "
      ],
      "metadata": {
        "id": "L4tJcfijZhKZ"
      },
      "execution_count": null,
      "outputs": []
    },
    {
      "cell_type": "markdown",
      "source": [
        "# 이미지경로 및 정답 데이터셋"
      ],
      "metadata": {
        "id": "rKQnsDlagA5y"
      }
    },
    {
      "cell_type": "code",
      "source": [
        "train = pd.read_csv(\"train/class_info.csv\")\n",
        "test = pd.read_csv(\"test/class_info.csv\")\n",
        "train.shape , test.shape"
      ],
      "metadata": {
        "colab": {
          "base_uri": "https://localhost:8080/"
        },
        "id": "jctKq2rnrIxD",
        "outputId": "641a5ba2-8aed-45c6-aef8-c0b71e593181"
      },
      "execution_count": null,
      "outputs": [
        {
          "output_type": "execute_result",
          "data": {
            "text/plain": [
              "((1246, 2), (1020, 2))"
            ]
          },
          "metadata": {},
          "execution_count": 5
        }
      ]
    },
    {
      "cell_type": "markdown",
      "source": [
        "# 정답값\n",
        "- 0 : 신선한고기\n",
        "- 1 : 반 신선한 고기\n",
        "- 2 : 상태 안좋은 고기"
      ],
      "metadata": {
        "id": "W7Up5oFTBelf"
      }
    },
    {
      "cell_type": "code",
      "source": [
        "train"
      ],
      "metadata": {
        "colab": {
          "base_uri": "https://localhost:8080/",
          "height": 424
        },
        "id": "JfGQ-qReBSYF",
        "outputId": "2cbca9ab-575a-4357-b426-4527ed72f51f"
      },
      "execution_count": null,
      "outputs": [
        {
          "output_type": "execute_result",
          "data": {
            "text/plain": [
              "      filename  target\n",
              "0     1074.jpg       0\n",
              "1     1222.jpg       1\n",
              "2     2105.jpg       1\n",
              "3       81.jpg       2\n",
              "4     1791.jpg       2\n",
              "...        ...     ...\n",
              "1241  1670.jpg       1\n",
              "1242  1244.jpg       0\n",
              "1243   776.jpg       2\n",
              "1244   750.jpg       0\n",
              "1245   948.jpg       2\n",
              "\n",
              "[1246 rows x 2 columns]"
            ],
            "text/html": [
              "\n",
              "  <div id=\"df-3e950a2c-9fa1-44b2-8aa8-ee1127e6b381\">\n",
              "    <div class=\"colab-df-container\">\n",
              "      <div>\n",
              "<style scoped>\n",
              "    .dataframe tbody tr th:only-of-type {\n",
              "        vertical-align: middle;\n",
              "    }\n",
              "\n",
              "    .dataframe tbody tr th {\n",
              "        vertical-align: top;\n",
              "    }\n",
              "\n",
              "    .dataframe thead th {\n",
              "        text-align: right;\n",
              "    }\n",
              "</style>\n",
              "<table border=\"1\" class=\"dataframe\">\n",
              "  <thead>\n",
              "    <tr style=\"text-align: right;\">\n",
              "      <th></th>\n",
              "      <th>filename</th>\n",
              "      <th>target</th>\n",
              "    </tr>\n",
              "  </thead>\n",
              "  <tbody>\n",
              "    <tr>\n",
              "      <th>0</th>\n",
              "      <td>1074.jpg</td>\n",
              "      <td>0</td>\n",
              "    </tr>\n",
              "    <tr>\n",
              "      <th>1</th>\n",
              "      <td>1222.jpg</td>\n",
              "      <td>1</td>\n",
              "    </tr>\n",
              "    <tr>\n",
              "      <th>2</th>\n",
              "      <td>2105.jpg</td>\n",
              "      <td>1</td>\n",
              "    </tr>\n",
              "    <tr>\n",
              "      <th>3</th>\n",
              "      <td>81.jpg</td>\n",
              "      <td>2</td>\n",
              "    </tr>\n",
              "    <tr>\n",
              "      <th>4</th>\n",
              "      <td>1791.jpg</td>\n",
              "      <td>2</td>\n",
              "    </tr>\n",
              "    <tr>\n",
              "      <th>...</th>\n",
              "      <td>...</td>\n",
              "      <td>...</td>\n",
              "    </tr>\n",
              "    <tr>\n",
              "      <th>1241</th>\n",
              "      <td>1670.jpg</td>\n",
              "      <td>1</td>\n",
              "    </tr>\n",
              "    <tr>\n",
              "      <th>1242</th>\n",
              "      <td>1244.jpg</td>\n",
              "      <td>0</td>\n",
              "    </tr>\n",
              "    <tr>\n",
              "      <th>1243</th>\n",
              "      <td>776.jpg</td>\n",
              "      <td>2</td>\n",
              "    </tr>\n",
              "    <tr>\n",
              "      <th>1244</th>\n",
              "      <td>750.jpg</td>\n",
              "      <td>0</td>\n",
              "    </tr>\n",
              "    <tr>\n",
              "      <th>1245</th>\n",
              "      <td>948.jpg</td>\n",
              "      <td>2</td>\n",
              "    </tr>\n",
              "  </tbody>\n",
              "</table>\n",
              "<p>1246 rows × 2 columns</p>\n",
              "</div>\n",
              "      <button class=\"colab-df-convert\" onclick=\"convertToInteractive('df-3e950a2c-9fa1-44b2-8aa8-ee1127e6b381')\"\n",
              "              title=\"Convert this dataframe to an interactive table.\"\n",
              "              style=\"display:none;\">\n",
              "        \n",
              "  <svg xmlns=\"http://www.w3.org/2000/svg\" height=\"24px\"viewBox=\"0 0 24 24\"\n",
              "       width=\"24px\">\n",
              "    <path d=\"M0 0h24v24H0V0z\" fill=\"none\"/>\n",
              "    <path d=\"M18.56 5.44l.94 2.06.94-2.06 2.06-.94-2.06-.94-.94-2.06-.94 2.06-2.06.94zm-11 1L8.5 8.5l.94-2.06 2.06-.94-2.06-.94L8.5 2.5l-.94 2.06-2.06.94zm10 10l.94 2.06.94-2.06 2.06-.94-2.06-.94-.94-2.06-.94 2.06-2.06.94z\"/><path d=\"M17.41 7.96l-1.37-1.37c-.4-.4-.92-.59-1.43-.59-.52 0-1.04.2-1.43.59L10.3 9.45l-7.72 7.72c-.78.78-.78 2.05 0 2.83L4 21.41c.39.39.9.59 1.41.59.51 0 1.02-.2 1.41-.59l7.78-7.78 2.81-2.81c.8-.78.8-2.07 0-2.86zM5.41 20L4 18.59l7.72-7.72 1.47 1.35L5.41 20z\"/>\n",
              "  </svg>\n",
              "      </button>\n",
              "      \n",
              "  <style>\n",
              "    .colab-df-container {\n",
              "      display:flex;\n",
              "      flex-wrap:wrap;\n",
              "      gap: 12px;\n",
              "    }\n",
              "\n",
              "    .colab-df-convert {\n",
              "      background-color: #E8F0FE;\n",
              "      border: none;\n",
              "      border-radius: 50%;\n",
              "      cursor: pointer;\n",
              "      display: none;\n",
              "      fill: #1967D2;\n",
              "      height: 32px;\n",
              "      padding: 0 0 0 0;\n",
              "      width: 32px;\n",
              "    }\n",
              "\n",
              "    .colab-df-convert:hover {\n",
              "      background-color: #E2EBFA;\n",
              "      box-shadow: 0px 1px 2px rgba(60, 64, 67, 0.3), 0px 1px 3px 1px rgba(60, 64, 67, 0.15);\n",
              "      fill: #174EA6;\n",
              "    }\n",
              "\n",
              "    [theme=dark] .colab-df-convert {\n",
              "      background-color: #3B4455;\n",
              "      fill: #D2E3FC;\n",
              "    }\n",
              "\n",
              "    [theme=dark] .colab-df-convert:hover {\n",
              "      background-color: #434B5C;\n",
              "      box-shadow: 0px 1px 3px 1px rgba(0, 0, 0, 0.15);\n",
              "      filter: drop-shadow(0px 1px 2px rgba(0, 0, 0, 0.3));\n",
              "      fill: #FFFFFF;\n",
              "    }\n",
              "  </style>\n",
              "\n",
              "      <script>\n",
              "        const buttonEl =\n",
              "          document.querySelector('#df-3e950a2c-9fa1-44b2-8aa8-ee1127e6b381 button.colab-df-convert');\n",
              "        buttonEl.style.display =\n",
              "          google.colab.kernel.accessAllowed ? 'block' : 'none';\n",
              "\n",
              "        async function convertToInteractive(key) {\n",
              "          const element = document.querySelector('#df-3e950a2c-9fa1-44b2-8aa8-ee1127e6b381');\n",
              "          const dataTable =\n",
              "            await google.colab.kernel.invokeFunction('convertToInteractive',\n",
              "                                                     [key], {});\n",
              "          if (!dataTable) return;\n",
              "\n",
              "          const docLinkHtml = 'Like what you see? Visit the ' +\n",
              "            '<a target=\"_blank\" href=https://colab.research.google.com/notebooks/data_table.ipynb>data table notebook</a>'\n",
              "            + ' to learn more about interactive tables.';\n",
              "          element.innerHTML = '';\n",
              "          dataTable['output_type'] = 'display_data';\n",
              "          await google.colab.output.renderOutput(dataTable, element);\n",
              "          const docLink = document.createElement('div');\n",
              "          docLink.innerHTML = docLinkHtml;\n",
              "          element.appendChild(docLink);\n",
              "        }\n",
              "      </script>\n",
              "    </div>\n",
              "  </div>\n",
              "  "
            ]
          },
          "metadata": {},
          "execution_count": 6
        }
      ]
    },
    {
      "cell_type": "markdown",
      "source": [
        "# transforms 객체"
      ],
      "metadata": {
        "id": "TMshs013Bwmh"
      }
    },
    {
      "cell_type": "code",
      "source": [
        "from torchvision import transforms\n",
        "\n",
        "img_size = [224,224]\n",
        "\n",
        "train_lst = [\n",
        "    transforms.Resize(img_size),\n",
        "    transforms.RandomHorizontalFlip(p=0.4),# 증강함수 사용해주기\n",
        "    transforms.ToTensor(),\n",
        "    transforms.Normalize([0.485, 0.456, 0.406], [0.229, 0.224, 0.225])\n",
        "    ]\n",
        "train_transform = transforms.Compose(train_lst)\n",
        "\n",
        "test_lst = [\n",
        "    transforms.Resize(img_size),\n",
        "    transforms.ToTensor(),\n",
        "    transforms.Normalize([0.485, 0.456, 0.406], [0.229, 0.224, 0.225])\n",
        "    ]\n",
        "test_transform = transforms.Compose(test_lst)"
      ],
      "metadata": {
        "id": "LhqSyN9qvb9l"
      },
      "execution_count": null,
      "outputs": []
    },
    {
      "cell_type": "markdown",
      "source": [
        "# 데이터셋"
      ],
      "metadata": {
        "id": "nPpndZeqB0e4"
      }
    },
    {
      "cell_type": "markdown",
      "source": [
        "- 다중분류에서는 1차원텐서로 넣어줘야함"
      ],
      "metadata": {
        "id": "Ju9OfVdH6aul"
      }
    },
    {
      "cell_type": "code",
      "source": [
        "class MeatDataset(torch.utils.data.Dataset):\n",
        "    def __init__(self ,transform , x , is_inference = False ): \n",
        "        self.is_inference = is_inference\n",
        "        self.transform = transform\n",
        "        if not self.is_inference: # false이면 학습모드\n",
        "            self.y = x[\"target\"].to_numpy() # 다중분류에서는 정답값을 내부적으로 원핫 인코딩하기 때문에 1차원형태로 전달해줘야하고, int64 형태로 전달해줘야한다.\n",
        "            self.x = \"train/\" + x[\"filename\"]\n",
        "        else:\n",
        "            self.x = \"test/\" + x[\"filename\"]\n",
        "    def __len__(self): \n",
        "        return self.x.shape[0]\n",
        "    def __getitem__(self, idx): \n",
        "        item = {}\n",
        "        x = Image.open(self.x[idx])\n",
        "        item[\"x\"] = self.transform(x)\n",
        "        if not self.is_inference:\n",
        "            item[\"y\"] = torch.tensor(self.y[idx]) # 넘파이 데이터 타입 그대로 유지하기위해 tensor 함수를 사용한다.\n",
        "        return item   "
      ],
      "metadata": {
        "id": "mMOsTxM8ryWO"
      },
      "execution_count": null,
      "outputs": []
    },
    {
      "cell_type": "code",
      "source": [
        "dt = MeatDataset(train_transform,train)\n",
        "dl = torch.utils.data.DataLoader(dt, batch_size=2, shuffle=True)\n",
        "batch  = next(iter(dl))\n",
        "batch"
      ],
      "metadata": {
        "id": "t4Z542R_CacI"
      },
      "execution_count": null,
      "outputs": []
    },
    {
      "cell_type": "code",
      "source": [
        "from torchvision.models import resnet50 , ResNet50_Weights \n",
        "from torchvision.models import swin_t , Swin_T_Weights "
      ],
      "metadata": {
        "id": "LflGlLribKvA"
      },
      "execution_count": null,
      "outputs": []
    },
    {
      "cell_type": "code",
      "source": [
        "swin_t(weights = Swin_T_Weights.IMAGENET1K_V1)"
      ],
      "metadata": {
        "colab": {
          "base_uri": "https://localhost:8080/"
        },
        "id": "mYCOlKcBJAnc",
        "outputId": "ab21ec4b-f2ac-498a-a65a-d296884a8a41"
      },
      "execution_count": null,
      "outputs": [
        {
          "output_type": "execute_result",
          "data": {
            "text/plain": [
              "SwinTransformer(\n",
              "  (features): Sequential(\n",
              "    (0): Sequential(\n",
              "      (0): Conv2d(3, 96, kernel_size=(4, 4), stride=(4, 4))\n",
              "      (1): Permute()\n",
              "      (2): LayerNorm((96,), eps=1e-05, elementwise_affine=True)\n",
              "    )\n",
              "    (1): Sequential(\n",
              "      (0): SwinTransformerBlock(\n",
              "        (norm1): LayerNorm((96,), eps=1e-05, elementwise_affine=True)\n",
              "        (attn): ShiftedWindowAttention(\n",
              "          (qkv): Linear(in_features=96, out_features=288, bias=True)\n",
              "          (proj): Linear(in_features=96, out_features=96, bias=True)\n",
              "        )\n",
              "        (stochastic_depth): StochasticDepth(p=0.0, mode=row)\n",
              "        (norm2): LayerNorm((96,), eps=1e-05, elementwise_affine=True)\n",
              "        (mlp): MLP(\n",
              "          (0): Linear(in_features=96, out_features=384, bias=True)\n",
              "          (1): GELU(approximate=none)\n",
              "          (2): Dropout(p=0.0, inplace=False)\n",
              "          (3): Linear(in_features=384, out_features=96, bias=True)\n",
              "          (4): Dropout(p=0.0, inplace=False)\n",
              "        )\n",
              "      )\n",
              "      (1): SwinTransformerBlock(\n",
              "        (norm1): LayerNorm((96,), eps=1e-05, elementwise_affine=True)\n",
              "        (attn): ShiftedWindowAttention(\n",
              "          (qkv): Linear(in_features=96, out_features=288, bias=True)\n",
              "          (proj): Linear(in_features=96, out_features=96, bias=True)\n",
              "        )\n",
              "        (stochastic_depth): StochasticDepth(p=0.018181818181818184, mode=row)\n",
              "        (norm2): LayerNorm((96,), eps=1e-05, elementwise_affine=True)\n",
              "        (mlp): MLP(\n",
              "          (0): Linear(in_features=96, out_features=384, bias=True)\n",
              "          (1): GELU(approximate=none)\n",
              "          (2): Dropout(p=0.0, inplace=False)\n",
              "          (3): Linear(in_features=384, out_features=96, bias=True)\n",
              "          (4): Dropout(p=0.0, inplace=False)\n",
              "        )\n",
              "      )\n",
              "    )\n",
              "    (2): PatchMerging(\n",
              "      (reduction): Linear(in_features=384, out_features=192, bias=False)\n",
              "      (norm): LayerNorm((384,), eps=1e-05, elementwise_affine=True)\n",
              "    )\n",
              "    (3): Sequential(\n",
              "      (0): SwinTransformerBlock(\n",
              "        (norm1): LayerNorm((192,), eps=1e-05, elementwise_affine=True)\n",
              "        (attn): ShiftedWindowAttention(\n",
              "          (qkv): Linear(in_features=192, out_features=576, bias=True)\n",
              "          (proj): Linear(in_features=192, out_features=192, bias=True)\n",
              "        )\n",
              "        (stochastic_depth): StochasticDepth(p=0.03636363636363637, mode=row)\n",
              "        (norm2): LayerNorm((192,), eps=1e-05, elementwise_affine=True)\n",
              "        (mlp): MLP(\n",
              "          (0): Linear(in_features=192, out_features=768, bias=True)\n",
              "          (1): GELU(approximate=none)\n",
              "          (2): Dropout(p=0.0, inplace=False)\n",
              "          (3): Linear(in_features=768, out_features=192, bias=True)\n",
              "          (4): Dropout(p=0.0, inplace=False)\n",
              "        )\n",
              "      )\n",
              "      (1): SwinTransformerBlock(\n",
              "        (norm1): LayerNorm((192,), eps=1e-05, elementwise_affine=True)\n",
              "        (attn): ShiftedWindowAttention(\n",
              "          (qkv): Linear(in_features=192, out_features=576, bias=True)\n",
              "          (proj): Linear(in_features=192, out_features=192, bias=True)\n",
              "        )\n",
              "        (stochastic_depth): StochasticDepth(p=0.05454545454545456, mode=row)\n",
              "        (norm2): LayerNorm((192,), eps=1e-05, elementwise_affine=True)\n",
              "        (mlp): MLP(\n",
              "          (0): Linear(in_features=192, out_features=768, bias=True)\n",
              "          (1): GELU(approximate=none)\n",
              "          (2): Dropout(p=0.0, inplace=False)\n",
              "          (3): Linear(in_features=768, out_features=192, bias=True)\n",
              "          (4): Dropout(p=0.0, inplace=False)\n",
              "        )\n",
              "      )\n",
              "    )\n",
              "    (4): PatchMerging(\n",
              "      (reduction): Linear(in_features=768, out_features=384, bias=False)\n",
              "      (norm): LayerNorm((768,), eps=1e-05, elementwise_affine=True)\n",
              "    )\n",
              "    (5): Sequential(\n",
              "      (0): SwinTransformerBlock(\n",
              "        (norm1): LayerNorm((384,), eps=1e-05, elementwise_affine=True)\n",
              "        (attn): ShiftedWindowAttention(\n",
              "          (qkv): Linear(in_features=384, out_features=1152, bias=True)\n",
              "          (proj): Linear(in_features=384, out_features=384, bias=True)\n",
              "        )\n",
              "        (stochastic_depth): StochasticDepth(p=0.07272727272727274, mode=row)\n",
              "        (norm2): LayerNorm((384,), eps=1e-05, elementwise_affine=True)\n",
              "        (mlp): MLP(\n",
              "          (0): Linear(in_features=384, out_features=1536, bias=True)\n",
              "          (1): GELU(approximate=none)\n",
              "          (2): Dropout(p=0.0, inplace=False)\n",
              "          (3): Linear(in_features=1536, out_features=384, bias=True)\n",
              "          (4): Dropout(p=0.0, inplace=False)\n",
              "        )\n",
              "      )\n",
              "      (1): SwinTransformerBlock(\n",
              "        (norm1): LayerNorm((384,), eps=1e-05, elementwise_affine=True)\n",
              "        (attn): ShiftedWindowAttention(\n",
              "          (qkv): Linear(in_features=384, out_features=1152, bias=True)\n",
              "          (proj): Linear(in_features=384, out_features=384, bias=True)\n",
              "        )\n",
              "        (stochastic_depth): StochasticDepth(p=0.09090909090909091, mode=row)\n",
              "        (norm2): LayerNorm((384,), eps=1e-05, elementwise_affine=True)\n",
              "        (mlp): MLP(\n",
              "          (0): Linear(in_features=384, out_features=1536, bias=True)\n",
              "          (1): GELU(approximate=none)\n",
              "          (2): Dropout(p=0.0, inplace=False)\n",
              "          (3): Linear(in_features=1536, out_features=384, bias=True)\n",
              "          (4): Dropout(p=0.0, inplace=False)\n",
              "        )\n",
              "      )\n",
              "      (2): SwinTransformerBlock(\n",
              "        (norm1): LayerNorm((384,), eps=1e-05, elementwise_affine=True)\n",
              "        (attn): ShiftedWindowAttention(\n",
              "          (qkv): Linear(in_features=384, out_features=1152, bias=True)\n",
              "          (proj): Linear(in_features=384, out_features=384, bias=True)\n",
              "        )\n",
              "        (stochastic_depth): StochasticDepth(p=0.10909090909090911, mode=row)\n",
              "        (norm2): LayerNorm((384,), eps=1e-05, elementwise_affine=True)\n",
              "        (mlp): MLP(\n",
              "          (0): Linear(in_features=384, out_features=1536, bias=True)\n",
              "          (1): GELU(approximate=none)\n",
              "          (2): Dropout(p=0.0, inplace=False)\n",
              "          (3): Linear(in_features=1536, out_features=384, bias=True)\n",
              "          (4): Dropout(p=0.0, inplace=False)\n",
              "        )\n",
              "      )\n",
              "      (3): SwinTransformerBlock(\n",
              "        (norm1): LayerNorm((384,), eps=1e-05, elementwise_affine=True)\n",
              "        (attn): ShiftedWindowAttention(\n",
              "          (qkv): Linear(in_features=384, out_features=1152, bias=True)\n",
              "          (proj): Linear(in_features=384, out_features=384, bias=True)\n",
              "        )\n",
              "        (stochastic_depth): StochasticDepth(p=0.1272727272727273, mode=row)\n",
              "        (norm2): LayerNorm((384,), eps=1e-05, elementwise_affine=True)\n",
              "        (mlp): MLP(\n",
              "          (0): Linear(in_features=384, out_features=1536, bias=True)\n",
              "          (1): GELU(approximate=none)\n",
              "          (2): Dropout(p=0.0, inplace=False)\n",
              "          (3): Linear(in_features=1536, out_features=384, bias=True)\n",
              "          (4): Dropout(p=0.0, inplace=False)\n",
              "        )\n",
              "      )\n",
              "      (4): SwinTransformerBlock(\n",
              "        (norm1): LayerNorm((384,), eps=1e-05, elementwise_affine=True)\n",
              "        (attn): ShiftedWindowAttention(\n",
              "          (qkv): Linear(in_features=384, out_features=1152, bias=True)\n",
              "          (proj): Linear(in_features=384, out_features=384, bias=True)\n",
              "        )\n",
              "        (stochastic_depth): StochasticDepth(p=0.14545454545454548, mode=row)\n",
              "        (norm2): LayerNorm((384,), eps=1e-05, elementwise_affine=True)\n",
              "        (mlp): MLP(\n",
              "          (0): Linear(in_features=384, out_features=1536, bias=True)\n",
              "          (1): GELU(approximate=none)\n",
              "          (2): Dropout(p=0.0, inplace=False)\n",
              "          (3): Linear(in_features=1536, out_features=384, bias=True)\n",
              "          (4): Dropout(p=0.0, inplace=False)\n",
              "        )\n",
              "      )\n",
              "      (5): SwinTransformerBlock(\n",
              "        (norm1): LayerNorm((384,), eps=1e-05, elementwise_affine=True)\n",
              "        (attn): ShiftedWindowAttention(\n",
              "          (qkv): Linear(in_features=384, out_features=1152, bias=True)\n",
              "          (proj): Linear(in_features=384, out_features=384, bias=True)\n",
              "        )\n",
              "        (stochastic_depth): StochasticDepth(p=0.16363636363636364, mode=row)\n",
              "        (norm2): LayerNorm((384,), eps=1e-05, elementwise_affine=True)\n",
              "        (mlp): MLP(\n",
              "          (0): Linear(in_features=384, out_features=1536, bias=True)\n",
              "          (1): GELU(approximate=none)\n",
              "          (2): Dropout(p=0.0, inplace=False)\n",
              "          (3): Linear(in_features=1536, out_features=384, bias=True)\n",
              "          (4): Dropout(p=0.0, inplace=False)\n",
              "        )\n",
              "      )\n",
              "    )\n",
              "    (6): PatchMerging(\n",
              "      (reduction): Linear(in_features=1536, out_features=768, bias=False)\n",
              "      (norm): LayerNorm((1536,), eps=1e-05, elementwise_affine=True)\n",
              "    )\n",
              "    (7): Sequential(\n",
              "      (0): SwinTransformerBlock(\n",
              "        (norm1): LayerNorm((768,), eps=1e-05, elementwise_affine=True)\n",
              "        (attn): ShiftedWindowAttention(\n",
              "          (qkv): Linear(in_features=768, out_features=2304, bias=True)\n",
              "          (proj): Linear(in_features=768, out_features=768, bias=True)\n",
              "        )\n",
              "        (stochastic_depth): StochasticDepth(p=0.18181818181818182, mode=row)\n",
              "        (norm2): LayerNorm((768,), eps=1e-05, elementwise_affine=True)\n",
              "        (mlp): MLP(\n",
              "          (0): Linear(in_features=768, out_features=3072, bias=True)\n",
              "          (1): GELU(approximate=none)\n",
              "          (2): Dropout(p=0.0, inplace=False)\n",
              "          (3): Linear(in_features=3072, out_features=768, bias=True)\n",
              "          (4): Dropout(p=0.0, inplace=False)\n",
              "        )\n",
              "      )\n",
              "      (1): SwinTransformerBlock(\n",
              "        (norm1): LayerNorm((768,), eps=1e-05, elementwise_affine=True)\n",
              "        (attn): ShiftedWindowAttention(\n",
              "          (qkv): Linear(in_features=768, out_features=2304, bias=True)\n",
              "          (proj): Linear(in_features=768, out_features=768, bias=True)\n",
              "        )\n",
              "        (stochastic_depth): StochasticDepth(p=0.2, mode=row)\n",
              "        (norm2): LayerNorm((768,), eps=1e-05, elementwise_affine=True)\n",
              "        (mlp): MLP(\n",
              "          (0): Linear(in_features=768, out_features=3072, bias=True)\n",
              "          (1): GELU(approximate=none)\n",
              "          (2): Dropout(p=0.0, inplace=False)\n",
              "          (3): Linear(in_features=3072, out_features=768, bias=True)\n",
              "          (4): Dropout(p=0.0, inplace=False)\n",
              "        )\n",
              "      )\n",
              "    )\n",
              "  )\n",
              "  (norm): LayerNorm((768,), eps=1e-05, elementwise_affine=True)\n",
              "  (avgpool): AdaptiveAvgPool2d(output_size=1)\n",
              "  (head): Linear(in_features=768, out_features=1000, bias=True)\n",
              ")"
            ]
          },
          "metadata": {},
          "execution_count": 79
        }
      ]
    },
    {
      "cell_type": "code",
      "source": [
        "class Net(torch.nn.Module):\n",
        "    def __init__(self): \n",
        "        super().__init__()\n",
        "        self.pre_model1 = swin_t(weights = Swin_T_Weights.IMAGENET1K_V1)\n",
        "        self.pre_model2 = resnet50(weights=ResNet50_Weights.IMAGENET1K_V2)\n",
        "        # self.pre_model = resnet50(weights=ResNet50_Weights.IMAGENET1K_V2)\n",
        "        self.pre_model1.head = torch.nn.Linear(768,512) # 예측을 3개 맞춰야하기때문\n",
        "        self.pre_model2.fc = torch.nn.Linear(2048,1024)\n",
        "        self.dropout = torch.nn.Dropout(0.2)\n",
        "        self.output_layer = torch.nn.Linear(1536,3)\n",
        "\n",
        "    def forward(self, x):\n",
        "        x1 = self.pre_model1(x)\n",
        "        x2 = self.pre_model2(x)\n",
        "        x  = torch.cat((x1,x2),dim=1)\n",
        "        x  = self.dropout(x)\n",
        "        x  = self.output_layer(x)\n",
        "        return x"
      ],
      "metadata": {
        "id": "QNjteAXippbM"
      },
      "execution_count": null,
      "outputs": []
    },
    {
      "cell_type": "code",
      "source": [
        "model = Net()\n",
        "model(batch[\"x\"])"
      ],
      "metadata": {
        "colab": {
          "base_uri": "https://localhost:8080/"
        },
        "id": "7hbgqRLW9whc",
        "outputId": "3ed792a7-f204-4d37-b69a-64a4e790a3bb"
      },
      "execution_count": null,
      "outputs": [
        {
          "output_type": "execute_result",
          "data": {
            "text/plain": [
              "tensor([[-0.0340,  0.0286, -0.0589],\n",
              "        [ 0.2502,  0.0178, -0.2234]], grad_fn=<AddmmBackward0>)"
            ]
          },
          "metadata": {},
          "execution_count": 81
        }
      ]
    },
    {
      "cell_type": "code",
      "source": [
        "!pip install torchinfo"
      ],
      "metadata": {
        "colab": {
          "base_uri": "https://localhost:8080/"
        },
        "id": "kxTksaVBqbZu",
        "outputId": "a80aa584-8468-47e6-e8d0-d21d30b505d7"
      },
      "execution_count": null,
      "outputs": [
        {
          "output_type": "stream",
          "name": "stdout",
          "text": [
            "Looking in indexes: https://pypi.org/simple, https://us-python.pkg.dev/colab-wheels/public/simple/\n",
            "Requirement already satisfied: torchinfo in /usr/local/lib/python3.7/dist-packages (1.7.1)\n"
          ]
        }
      ]
    },
    {
      "cell_type": "code",
      "source": [
        "import torchinfo\n",
        "model = Net()\n",
        "torchinfo.summary(model,(32,3,224,224))  "
      ],
      "metadata": {
        "colab": {
          "base_uri": "https://localhost:8080/"
        },
        "id": "tDWxHEXJqefu",
        "outputId": "ca96021c-b2fe-4f17-b629-cb0032e214ba"
      },
      "execution_count": null,
      "outputs": [
        {
          "output_type": "execute_result",
          "data": {
            "text/plain": [
              "=========================================================================================================\n",
              "Layer (type:depth-idx)                                  Output Shape              Param #\n",
              "=========================================================================================================\n",
              "Net                                                     [32, 3]                   --\n",
              "├─SwinTransformer: 1-1                                  [32, 512]                 --\n",
              "│    └─Sequential: 2-1                                  [32, 7, 7, 768]           --\n",
              "│    │    └─Sequential: 3-1                             [32, 56, 56, 96]          4,896\n",
              "│    │    └─Sequential: 3-2                             [32, 56, 56, 96]          224,694\n",
              "│    │    └─PatchMerging: 3-3                           [32, 28, 28, 192]         74,496\n",
              "│    │    └─Sequential: 3-4                             [32, 28, 28, 192]         891,756\n",
              "│    │    └─PatchMerging: 3-5                           [32, 14, 14, 384]         296,448\n",
              "│    │    └─Sequential: 3-6                             [32, 14, 14, 384]         10,658,952\n",
              "│    │    └─PatchMerging: 3-7                           [32, 7, 7, 768]           1,182,720\n",
              "│    │    └─Sequential: 3-8                             [32, 7, 7, 768]           14,183,856\n",
              "│    └─LayerNorm: 2-2                                   [32, 7, 7, 768]           1,536\n",
              "│    └─AdaptiveAvgPool2d: 2-3                           [32, 768, 1, 1]           --\n",
              "│    └─Linear: 2-4                                      [32, 512]                 393,728\n",
              "├─ResNet: 1-2                                           [32, 1024]                --\n",
              "│    └─Conv2d: 2-5                                      [32, 64, 112, 112]        9,408\n",
              "│    └─BatchNorm2d: 2-6                                 [32, 64, 112, 112]        128\n",
              "│    └─ReLU: 2-7                                        [32, 64, 112, 112]        --\n",
              "│    └─MaxPool2d: 2-8                                   [32, 64, 56, 56]          --\n",
              "│    └─Sequential: 2-9                                  [32, 256, 56, 56]         --\n",
              "│    │    └─Bottleneck: 3-9                             [32, 256, 56, 56]         75,008\n",
              "│    │    └─Bottleneck: 3-10                            [32, 256, 56, 56]         70,400\n",
              "│    │    └─Bottleneck: 3-11                            [32, 256, 56, 56]         70,400\n",
              "│    └─Sequential: 2-10                                 [32, 512, 28, 28]         --\n",
              "│    │    └─Bottleneck: 3-12                            [32, 512, 28, 28]         379,392\n",
              "│    │    └─Bottleneck: 3-13                            [32, 512, 28, 28]         280,064\n",
              "│    │    └─Bottleneck: 3-14                            [32, 512, 28, 28]         280,064\n",
              "│    │    └─Bottleneck: 3-15                            [32, 512, 28, 28]         280,064\n",
              "│    └─Sequential: 2-11                                 [32, 1024, 14, 14]        --\n",
              "│    │    └─Bottleneck: 3-16                            [32, 1024, 14, 14]        1,512,448\n",
              "│    │    └─Bottleneck: 3-17                            [32, 1024, 14, 14]        1,117,184\n",
              "│    │    └─Bottleneck: 3-18                            [32, 1024, 14, 14]        1,117,184\n",
              "│    │    └─Bottleneck: 3-19                            [32, 1024, 14, 14]        1,117,184\n",
              "│    │    └─Bottleneck: 3-20                            [32, 1024, 14, 14]        1,117,184\n",
              "│    │    └─Bottleneck: 3-21                            [32, 1024, 14, 14]        1,117,184\n",
              "│    └─Sequential: 2-12                                 [32, 2048, 7, 7]          --\n",
              "│    │    └─Bottleneck: 3-22                            [32, 2048, 7, 7]          6,039,552\n",
              "│    │    └─Bottleneck: 3-23                            [32, 2048, 7, 7]          4,462,592\n",
              "│    │    └─Bottleneck: 3-24                            [32, 2048, 7, 7]          4,462,592\n",
              "│    └─AdaptiveAvgPool2d: 2-13                          [32, 2048, 1, 1]          --\n",
              "│    └─Linear: 2-14                                     [32, 1024]                2,098,176\n",
              "├─Dropout: 1-3                                          [32, 1536]                --\n",
              "├─Linear: 1-4                                           [32, 3]                   4,611\n",
              "=========================================================================================================\n",
              "Total params: 53,523,901\n",
              "Trainable params: 53,523,901\n",
              "Non-trainable params: 0\n",
              "Total mult-adds (G): 131.95\n",
              "=========================================================================================================\n",
              "Input size (MB): 19.27\n",
              "Forward/backward pass size (MB): 8619.43\n",
              "Params size (MB): 179.43\n",
              "Estimated Total Size (MB): 8818.12\n",
              "========================================================================================================="
            ]
          },
          "metadata": {},
          "execution_count": 82
        }
      ]
    },
    {
      "cell_type": "code",
      "source": [
        "def train_loop(dataloader,model,loss_fn,optimizer,device):\n",
        "    epoch_loss = 0 \n",
        "    model.train() \n",
        "    for batch in dataloader: \n",
        "        pred = model(batch[\"x\"].to(device)) \n",
        "        loss = loss_fn(pred, batch[\"y\"].to(device)) \n",
        "        \n",
        "        optimizer.zero_grad() \n",
        "        loss.backward()  \n",
        "        optimizer.step() \n",
        "        \n",
        "        epoch_loss += loss.item() \n",
        "\n",
        "    epoch_loss /= len(dataloader) \n",
        "\n",
        "    return epoch_loss "
      ],
      "metadata": {
        "id": "QYSnRK7YkeD_"
      },
      "execution_count": null,
      "outputs": []
    },
    {
      "cell_type": "code",
      "source": [
        "@torch.no_grad() \n",
        "def test_loop(dataloader,model,loss_fn,device): \n",
        "    epoch_loss = 0\n",
        "    model.eval() \n",
        "\n",
        "    \n",
        "    pred_list = []\n",
        "    softmax = torch.nn.Softmax(dim=1) # 다중분류 예측 확률을 출력하기위해 softmax 사용, 회귀문제였다면 없어도댐\n",
        "\n",
        "    for batch in dataloader:\n",
        "        \n",
        "        pred = model(batch[\"x\"].to(device))\n",
        "        if batch.get(\"y\") is not None: \n",
        "            loss = loss_fn(pred, batch[\"y\"].to(device))\n",
        "            epoch_loss += loss.item()\n",
        "        \n",
        "        pred = softmax(pred)\n",
        "        pred = pred.to(\"cpu\").numpy() \n",
        "        pred_list.append(pred)\n",
        "\n",
        "    epoch_loss /= len(dataloader)\n",
        "\n",
        "    pred = np.concatenate(pred_list) \n",
        "    return epoch_loss , pred "
      ],
      "metadata": {
        "id": "jAgxb7eDt5LL"
      },
      "execution_count": null,
      "outputs": []
    },
    {
      "cell_type": "markdown",
      "source": [
        "# 일부 동결\n",
        "- 고기는 일부동결하니까 더 떨어짐 0.984\n"
      ],
      "metadata": {
        "id": "kMNBwJ3m_tRd"
      }
    },
    {
      "cell_type": "code",
      "source": [
        "# model = Net()\n",
        "# model"
      ],
      "metadata": {
        "id": "YTZBeeqr_x50"
      },
      "execution_count": null,
      "outputs": []
    },
    {
      "cell_type": "code",
      "source": [
        "# for name, param in model.named_parameters():\n",
        "#     print(name,param.requires_grad)"
      ],
      "metadata": {
        "id": "DqpYk-OOAHNl"
      },
      "execution_count": null,
      "outputs": []
    },
    {
      "cell_type": "code",
      "source": [
        "# model = Net()\n",
        "# for name, param in model.named_parameters():\n",
        "#     if name.startswith(\"pre_model.layer3\"):\n",
        "#         break\n",
        "#     param.requires_grad = False"
      ],
      "metadata": {
        "id": "u-Xe4Yc8AS10"
      },
      "execution_count": null,
      "outputs": []
    },
    {
      "cell_type": "code",
      "source": [
        "n_splits = 5\n",
        "batch_size = 32 \n",
        "epochs = 100\n",
        "loss_fn = torch.nn.CrossEntropyLoss() # 다중분류 손실객체"
      ],
      "metadata": {
        "id": "PfRHU8jtt8if"
      },
      "execution_count": null,
      "outputs": []
    },
    {
      "cell_type": "code",
      "source": [
        "from sklearn.metrics import f1_score\n",
        "from sklearn.model_selection import KFold\n",
        "cv = KFold(n_splits=n_splits,shuffle=True, random_state=SEED)"
      ],
      "metadata": {
        "id": "QI_EEi1xt8rT"
      },
      "execution_count": null,
      "outputs": []
    },
    {
      "cell_type": "code",
      "source": [
        "is_holdout = True\n",
        "reset_seeds(SEED)\n",
        "best_score_list = []\n",
        "for i,(tri,vai) in enumerate(cv.split(train)):\n",
        "    \n",
        "    model = Net().to(device)\n",
        "    optimizer = torch.optim.Adam(model.parameters(),lr=0.0001)\n",
        "    \n",
        "    x_train = train.iloc[tri].reset_index(drop=True) # 학습 데이터 프레임, 인덱스가 흐트러지기떄문에 reset_index 인덱스 정렬하는 습관을 들여라!\n",
        "    x_valid = train.iloc[vai].reset_index(drop=True) # 검증 데이터 프레임\n",
        "\n",
        "    train_dt = MeatDataset(train_transform,x_train)\n",
        "    valid_dt = MeatDataset(test_transform,x_valid)\n",
        "    train_dl = torch.utils.data.DataLoader(train_dt, batch_size=batch_size, shuffle=True)\n",
        "    valid_dl = torch.utils.data.DataLoader(valid_dt, batch_size=batch_size,shuffle=False)\n",
        "\n",
        "    best_score = 0\n",
        "    patience = 0\n",
        "\n",
        "    for epoch in tqdm(range(epochs)):\n",
        "        \n",
        "        train_loss = train_loop(train_dl, model, loss_fn,optimizer,device )\n",
        "        valid_loss , pred = test_loop(valid_dl, model, loss_fn,device  )\n",
        "        \n",
        "        pred = np.argmax(pred, axis=1) # 가장 확률이 높은 인덱스를 정답값으로 결정\n",
        "        true = valid_dt.y # y 인스턴스 변수에 정답값이 있음\n",
        "        score = f1_score(true, pred , average=\"micro\")\n",
        "        print(train_loss,valid_loss,score)\n",
        "        patience += 1\n",
        "        if best_score < score:\n",
        "            patience = 0\n",
        "            best_score = score\n",
        "            torch.save(model.state_dict(),f\"model_{i}.pth\")\n",
        "\n",
        "        if patience == 5:\n",
        "            break\n",
        "    print(f\"Fold ({i}), BEST F1: {best_score}\")\n",
        "    best_score_list.append(best_score)\n",
        "\n",
        "    if is_holdout:\n",
        "        break"
      ],
      "metadata": {
        "colab": {
          "base_uri": "https://localhost:8080/",
          "height": 194,
          "referenced_widgets": [
            "333d19d25b4f44179b03ab4f1b553e2a",
            "25e57eafa80b4f1fa5a00b40b544df76",
            "ae57224da92c455fb7c040d77f438cf2",
            "33e9955488cb47cfbc6df255700aab40",
            "d0d68832c2b6471899303c4f1a34a0bb",
            "52825f6344f2454180c442c1f14cdafe",
            "282ad1d5d0914ab09dbac331b9865b99",
            "21bb044487ea464093ce8a4c6ae59ea5",
            "9a7abb859549476289879e7c43a2e500",
            "fc5d82fb82f241d4932db9a39805b581",
            "37a9cd37124040e6aac0ad46fea91cea"
          ]
        },
        "id": "nQPErmi3t8zA",
        "outputId": "d4bf850a-6a64-4b07-f88e-2a764e2d7558"
      },
      "execution_count": null,
      "outputs": [
        {
          "output_type": "display_data",
          "data": {
            "text/plain": [
              "  0%|          | 0/100 [00:00<?, ?it/s]"
            ],
            "application/vnd.jupyter.widget-view+json": {
              "version_major": 2,
              "version_minor": 0,
              "model_id": "333d19d25b4f44179b03ab4f1b553e2a"
            }
          },
          "metadata": {}
        },
        {
          "output_type": "stream",
          "name": "stdout",
          "text": [
            "0.4097107562702149 0.1481275800615549 0.944\n",
            "0.05522358624875778 0.019908253278117627 0.996\n",
            "0.029401572362985462 0.010952422824630048 0.996\n",
            "0.01101626367380959 0.013627399068354862 0.996\n",
            "0.010058776024379767 0.006058800900063943 0.996\n",
            "0.019347587800439214 0.011150261914735893 0.992\n",
            "0.006097366603171395 0.013590980186563684 0.996\n",
            "Fold (0), BEST F1: 0.996\n"
          ]
        }
      ]
    },
    {
      "cell_type": "code",
      "source": [],
      "metadata": {
        "id": "tka8UW7Aycwr"
      },
      "execution_count": null,
      "outputs": []
    },
    {
      "cell_type": "code",
      "source": [],
      "metadata": {
        "id": "uiHjks2cyctc"
      },
      "execution_count": null,
      "outputs": []
    },
    {
      "cell_type": "code",
      "source": [],
      "metadata": {
        "id": "ftyZycEfycql"
      },
      "execution_count": null,
      "outputs": []
    },
    {
      "cell_type": "code",
      "source": [],
      "metadata": {
        "id": "kM7pLA4vycnL"
      },
      "execution_count": null,
      "outputs": []
    },
    {
      "cell_type": "code",
      "source": [],
      "metadata": {
        "id": "DKaGX6HU0BIt"
      },
      "execution_count": null,
      "outputs": []
    },
    {
      "cell_type": "code",
      "source": [],
      "metadata": {
        "id": "QyaSZDmbCqCc"
      },
      "execution_count": null,
      "outputs": []
    },
    {
      "cell_type": "code",
      "source": [],
      "metadata": {
        "id": "4FL-yYgVCp_W"
      },
      "execution_count": null,
      "outputs": []
    },
    {
      "cell_type": "code",
      "source": [],
      "metadata": {
        "id": "VreVSDL0bKd4"
      },
      "execution_count": null,
      "outputs": []
    }
  ]
}