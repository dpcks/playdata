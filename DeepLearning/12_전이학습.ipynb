{
  "nbformat": 4,
  "nbformat_minor": 0,
  "metadata": {
    "colab": {
      "provenance": [],
      "include_colab_link": true
    },
    "kernelspec": {
      "name": "python3",
      "display_name": "Python 3"
    },
    "language_info": {
      "name": "python"
    },
    "accelerator": "GPU",
    "gpuClass": "standard",
    "widgets": {
      "application/vnd.jupyter.widget-state+json": {
        "d5a294d5c5a7451b8a0693fa292bfddc": {
          "model_module": "@jupyter-widgets/controls",
          "model_name": "HBoxModel",
          "model_module_version": "1.5.0",
          "state": {
            "_dom_classes": [],
            "_model_module": "@jupyter-widgets/controls",
            "_model_module_version": "1.5.0",
            "_model_name": "HBoxModel",
            "_view_count": null,
            "_view_module": "@jupyter-widgets/controls",
            "_view_module_version": "1.5.0",
            "_view_name": "HBoxView",
            "box_style": "",
            "children": [
              "IPY_MODEL_95402dc3a03c4992965998911b20e98b",
              "IPY_MODEL_e662d5bcfc6d4a9ab880776c88ac991c",
              "IPY_MODEL_3a65fa92c49b4fecb8c9034807dca913"
            ],
            "layout": "IPY_MODEL_02cc87f2f67d4bf69e8e5e57699ad1f5"
          }
        },
        "95402dc3a03c4992965998911b20e98b": {
          "model_module": "@jupyter-widgets/controls",
          "model_name": "HTMLModel",
          "model_module_version": "1.5.0",
          "state": {
            "_dom_classes": [],
            "_model_module": "@jupyter-widgets/controls",
            "_model_module_version": "1.5.0",
            "_model_name": "HTMLModel",
            "_view_count": null,
            "_view_module": "@jupyter-widgets/controls",
            "_view_module_version": "1.5.0",
            "_view_name": "HTMLView",
            "description": "",
            "description_tooltip": null,
            "layout": "IPY_MODEL_3bc82427f7c54123a7e50c7ad60d783f",
            "placeholder": "​",
            "style": "IPY_MODEL_6c109ee0ffb5426984b87492b9c6dd58",
            "value": "100%"
          }
        },
        "e662d5bcfc6d4a9ab880776c88ac991c": {
          "model_module": "@jupyter-widgets/controls",
          "model_name": "FloatProgressModel",
          "model_module_version": "1.5.0",
          "state": {
            "_dom_classes": [],
            "_model_module": "@jupyter-widgets/controls",
            "_model_module_version": "1.5.0",
            "_model_name": "FloatProgressModel",
            "_view_count": null,
            "_view_module": "@jupyter-widgets/controls",
            "_view_module_version": "1.5.0",
            "_view_name": "ProgressView",
            "bar_style": "success",
            "description": "",
            "description_tooltip": null,
            "layout": "IPY_MODEL_c8836a38efb14c5888eafc4b69a61a7b",
            "max": 102540417,
            "min": 0,
            "orientation": "horizontal",
            "style": "IPY_MODEL_4c732c4af68e441b9fe0a32fcce99263",
            "value": 102540417
          }
        },
        "3a65fa92c49b4fecb8c9034807dca913": {
          "model_module": "@jupyter-widgets/controls",
          "model_name": "HTMLModel",
          "model_module_version": "1.5.0",
          "state": {
            "_dom_classes": [],
            "_model_module": "@jupyter-widgets/controls",
            "_model_module_version": "1.5.0",
            "_model_name": "HTMLModel",
            "_view_count": null,
            "_view_module": "@jupyter-widgets/controls",
            "_view_module_version": "1.5.0",
            "_view_name": "HTMLView",
            "description": "",
            "description_tooltip": null,
            "layout": "IPY_MODEL_ef1f9b44e63843c39691a0aab200cdc2",
            "placeholder": "​",
            "style": "IPY_MODEL_8cdd31edce0843b5884584816d63397b",
            "value": " 97.8M/97.8M [00:01&lt;00:00, 95.4MB/s]"
          }
        },
        "02cc87f2f67d4bf69e8e5e57699ad1f5": {
          "model_module": "@jupyter-widgets/base",
          "model_name": "LayoutModel",
          "model_module_version": "1.2.0",
          "state": {
            "_model_module": "@jupyter-widgets/base",
            "_model_module_version": "1.2.0",
            "_model_name": "LayoutModel",
            "_view_count": null,
            "_view_module": "@jupyter-widgets/base",
            "_view_module_version": "1.2.0",
            "_view_name": "LayoutView",
            "align_content": null,
            "align_items": null,
            "align_self": null,
            "border": null,
            "bottom": null,
            "display": null,
            "flex": null,
            "flex_flow": null,
            "grid_area": null,
            "grid_auto_columns": null,
            "grid_auto_flow": null,
            "grid_auto_rows": null,
            "grid_column": null,
            "grid_gap": null,
            "grid_row": null,
            "grid_template_areas": null,
            "grid_template_columns": null,
            "grid_template_rows": null,
            "height": null,
            "justify_content": null,
            "justify_items": null,
            "left": null,
            "margin": null,
            "max_height": null,
            "max_width": null,
            "min_height": null,
            "min_width": null,
            "object_fit": null,
            "object_position": null,
            "order": null,
            "overflow": null,
            "overflow_x": null,
            "overflow_y": null,
            "padding": null,
            "right": null,
            "top": null,
            "visibility": null,
            "width": null
          }
        },
        "3bc82427f7c54123a7e50c7ad60d783f": {
          "model_module": "@jupyter-widgets/base",
          "model_name": "LayoutModel",
          "model_module_version": "1.2.0",
          "state": {
            "_model_module": "@jupyter-widgets/base",
            "_model_module_version": "1.2.0",
            "_model_name": "LayoutModel",
            "_view_count": null,
            "_view_module": "@jupyter-widgets/base",
            "_view_module_version": "1.2.0",
            "_view_name": "LayoutView",
            "align_content": null,
            "align_items": null,
            "align_self": null,
            "border": null,
            "bottom": null,
            "display": null,
            "flex": null,
            "flex_flow": null,
            "grid_area": null,
            "grid_auto_columns": null,
            "grid_auto_flow": null,
            "grid_auto_rows": null,
            "grid_column": null,
            "grid_gap": null,
            "grid_row": null,
            "grid_template_areas": null,
            "grid_template_columns": null,
            "grid_template_rows": null,
            "height": null,
            "justify_content": null,
            "justify_items": null,
            "left": null,
            "margin": null,
            "max_height": null,
            "max_width": null,
            "min_height": null,
            "min_width": null,
            "object_fit": null,
            "object_position": null,
            "order": null,
            "overflow": null,
            "overflow_x": null,
            "overflow_y": null,
            "padding": null,
            "right": null,
            "top": null,
            "visibility": null,
            "width": null
          }
        },
        "6c109ee0ffb5426984b87492b9c6dd58": {
          "model_module": "@jupyter-widgets/controls",
          "model_name": "DescriptionStyleModel",
          "model_module_version": "1.5.0",
          "state": {
            "_model_module": "@jupyter-widgets/controls",
            "_model_module_version": "1.5.0",
            "_model_name": "DescriptionStyleModel",
            "_view_count": null,
            "_view_module": "@jupyter-widgets/base",
            "_view_module_version": "1.2.0",
            "_view_name": "StyleView",
            "description_width": ""
          }
        },
        "c8836a38efb14c5888eafc4b69a61a7b": {
          "model_module": "@jupyter-widgets/base",
          "model_name": "LayoutModel",
          "model_module_version": "1.2.0",
          "state": {
            "_model_module": "@jupyter-widgets/base",
            "_model_module_version": "1.2.0",
            "_model_name": "LayoutModel",
            "_view_count": null,
            "_view_module": "@jupyter-widgets/base",
            "_view_module_version": "1.2.0",
            "_view_name": "LayoutView",
            "align_content": null,
            "align_items": null,
            "align_self": null,
            "border": null,
            "bottom": null,
            "display": null,
            "flex": null,
            "flex_flow": null,
            "grid_area": null,
            "grid_auto_columns": null,
            "grid_auto_flow": null,
            "grid_auto_rows": null,
            "grid_column": null,
            "grid_gap": null,
            "grid_row": null,
            "grid_template_areas": null,
            "grid_template_columns": null,
            "grid_template_rows": null,
            "height": null,
            "justify_content": null,
            "justify_items": null,
            "left": null,
            "margin": null,
            "max_height": null,
            "max_width": null,
            "min_height": null,
            "min_width": null,
            "object_fit": null,
            "object_position": null,
            "order": null,
            "overflow": null,
            "overflow_x": null,
            "overflow_y": null,
            "padding": null,
            "right": null,
            "top": null,
            "visibility": null,
            "width": null
          }
        },
        "4c732c4af68e441b9fe0a32fcce99263": {
          "model_module": "@jupyter-widgets/controls",
          "model_name": "ProgressStyleModel",
          "model_module_version": "1.5.0",
          "state": {
            "_model_module": "@jupyter-widgets/controls",
            "_model_module_version": "1.5.0",
            "_model_name": "ProgressStyleModel",
            "_view_count": null,
            "_view_module": "@jupyter-widgets/base",
            "_view_module_version": "1.2.0",
            "_view_name": "StyleView",
            "bar_color": null,
            "description_width": ""
          }
        },
        "ef1f9b44e63843c39691a0aab200cdc2": {
          "model_module": "@jupyter-widgets/base",
          "model_name": "LayoutModel",
          "model_module_version": "1.2.0",
          "state": {
            "_model_module": "@jupyter-widgets/base",
            "_model_module_version": "1.2.0",
            "_model_name": "LayoutModel",
            "_view_count": null,
            "_view_module": "@jupyter-widgets/base",
            "_view_module_version": "1.2.0",
            "_view_name": "LayoutView",
            "align_content": null,
            "align_items": null,
            "align_self": null,
            "border": null,
            "bottom": null,
            "display": null,
            "flex": null,
            "flex_flow": null,
            "grid_area": null,
            "grid_auto_columns": null,
            "grid_auto_flow": null,
            "grid_auto_rows": null,
            "grid_column": null,
            "grid_gap": null,
            "grid_row": null,
            "grid_template_areas": null,
            "grid_template_columns": null,
            "grid_template_rows": null,
            "height": null,
            "justify_content": null,
            "justify_items": null,
            "left": null,
            "margin": null,
            "max_height": null,
            "max_width": null,
            "min_height": null,
            "min_width": null,
            "object_fit": null,
            "object_position": null,
            "order": null,
            "overflow": null,
            "overflow_x": null,
            "overflow_y": null,
            "padding": null,
            "right": null,
            "top": null,
            "visibility": null,
            "width": null
          }
        },
        "8cdd31edce0843b5884584816d63397b": {
          "model_module": "@jupyter-widgets/controls",
          "model_name": "DescriptionStyleModel",
          "model_module_version": "1.5.0",
          "state": {
            "_model_module": "@jupyter-widgets/controls",
            "_model_module_version": "1.5.0",
            "_model_name": "DescriptionStyleModel",
            "_view_count": null,
            "_view_module": "@jupyter-widgets/base",
            "_view_module_version": "1.2.0",
            "_view_name": "StyleView",
            "description_width": ""
          }
        },
        "aed2915972a946028d5b4cb231807124": {
          "model_module": "@jupyter-widgets/controls",
          "model_name": "HBoxModel",
          "model_module_version": "1.5.0",
          "state": {
            "_dom_classes": [],
            "_model_module": "@jupyter-widgets/controls",
            "_model_module_version": "1.5.0",
            "_model_name": "HBoxModel",
            "_view_count": null,
            "_view_module": "@jupyter-widgets/controls",
            "_view_module_version": "1.5.0",
            "_view_name": "HBoxView",
            "box_style": "",
            "children": [
              "IPY_MODEL_cc9bfc3b17b349a0b848e4b8b4ff7ef3",
              "IPY_MODEL_791054a6ddb14432bb66bd8eef7e954a",
              "IPY_MODEL_5a114856cd944bf0866654f090cb952b"
            ],
            "layout": "IPY_MODEL_0cf47940200c40b3b1d7ff4ae150a2f8"
          }
        },
        "cc9bfc3b17b349a0b848e4b8b4ff7ef3": {
          "model_module": "@jupyter-widgets/controls",
          "model_name": "HTMLModel",
          "model_module_version": "1.5.0",
          "state": {
            "_dom_classes": [],
            "_model_module": "@jupyter-widgets/controls",
            "_model_module_version": "1.5.0",
            "_model_name": "HTMLModel",
            "_view_count": null,
            "_view_module": "@jupyter-widgets/controls",
            "_view_module_version": "1.5.0",
            "_view_name": "HTMLView",
            "description": "",
            "description_tooltip": null,
            "layout": "IPY_MODEL_424fde72b8ad42a8ace0e40e6f1706e7",
            "placeholder": "​",
            "style": "IPY_MODEL_908d1ad22afd498a925150f590469551",
            "value": "  6%"
          }
        },
        "791054a6ddb14432bb66bd8eef7e954a": {
          "model_module": "@jupyter-widgets/controls",
          "model_name": "FloatProgressModel",
          "model_module_version": "1.5.0",
          "state": {
            "_dom_classes": [],
            "_model_module": "@jupyter-widgets/controls",
            "_model_module_version": "1.5.0",
            "_model_name": "FloatProgressModel",
            "_view_count": null,
            "_view_module": "@jupyter-widgets/controls",
            "_view_module_version": "1.5.0",
            "_view_name": "ProgressView",
            "bar_style": "danger",
            "description": "",
            "description_tooltip": null,
            "layout": "IPY_MODEL_ae43f8098f724c798626135236b29e01",
            "max": 100,
            "min": 0,
            "orientation": "horizontal",
            "style": "IPY_MODEL_528f58203b7f48d9be534b953c65557d",
            "value": 6
          }
        },
        "5a114856cd944bf0866654f090cb952b": {
          "model_module": "@jupyter-widgets/controls",
          "model_name": "HTMLModel",
          "model_module_version": "1.5.0",
          "state": {
            "_dom_classes": [],
            "_model_module": "@jupyter-widgets/controls",
            "_model_module_version": "1.5.0",
            "_model_name": "HTMLModel",
            "_view_count": null,
            "_view_module": "@jupyter-widgets/controls",
            "_view_module_version": "1.5.0",
            "_view_name": "HTMLView",
            "description": "",
            "description_tooltip": null,
            "layout": "IPY_MODEL_dd1f5583f1d04a3d99df712952db55c7",
            "placeholder": "​",
            "style": "IPY_MODEL_ff5ed2d9689048048de52930ce0d6a25",
            "value": " 6/100 [03:18&lt;44:11, 28.21s/it]"
          }
        },
        "0cf47940200c40b3b1d7ff4ae150a2f8": {
          "model_module": "@jupyter-widgets/base",
          "model_name": "LayoutModel",
          "model_module_version": "1.2.0",
          "state": {
            "_model_module": "@jupyter-widgets/base",
            "_model_module_version": "1.2.0",
            "_model_name": "LayoutModel",
            "_view_count": null,
            "_view_module": "@jupyter-widgets/base",
            "_view_module_version": "1.2.0",
            "_view_name": "LayoutView",
            "align_content": null,
            "align_items": null,
            "align_self": null,
            "border": null,
            "bottom": null,
            "display": null,
            "flex": null,
            "flex_flow": null,
            "grid_area": null,
            "grid_auto_columns": null,
            "grid_auto_flow": null,
            "grid_auto_rows": null,
            "grid_column": null,
            "grid_gap": null,
            "grid_row": null,
            "grid_template_areas": null,
            "grid_template_columns": null,
            "grid_template_rows": null,
            "height": null,
            "justify_content": null,
            "justify_items": null,
            "left": null,
            "margin": null,
            "max_height": null,
            "max_width": null,
            "min_height": null,
            "min_width": null,
            "object_fit": null,
            "object_position": null,
            "order": null,
            "overflow": null,
            "overflow_x": null,
            "overflow_y": null,
            "padding": null,
            "right": null,
            "top": null,
            "visibility": null,
            "width": null
          }
        },
        "424fde72b8ad42a8ace0e40e6f1706e7": {
          "model_module": "@jupyter-widgets/base",
          "model_name": "LayoutModel",
          "model_module_version": "1.2.0",
          "state": {
            "_model_module": "@jupyter-widgets/base",
            "_model_module_version": "1.2.0",
            "_model_name": "LayoutModel",
            "_view_count": null,
            "_view_module": "@jupyter-widgets/base",
            "_view_module_version": "1.2.0",
            "_view_name": "LayoutView",
            "align_content": null,
            "align_items": null,
            "align_self": null,
            "border": null,
            "bottom": null,
            "display": null,
            "flex": null,
            "flex_flow": null,
            "grid_area": null,
            "grid_auto_columns": null,
            "grid_auto_flow": null,
            "grid_auto_rows": null,
            "grid_column": null,
            "grid_gap": null,
            "grid_row": null,
            "grid_template_areas": null,
            "grid_template_columns": null,
            "grid_template_rows": null,
            "height": null,
            "justify_content": null,
            "justify_items": null,
            "left": null,
            "margin": null,
            "max_height": null,
            "max_width": null,
            "min_height": null,
            "min_width": null,
            "object_fit": null,
            "object_position": null,
            "order": null,
            "overflow": null,
            "overflow_x": null,
            "overflow_y": null,
            "padding": null,
            "right": null,
            "top": null,
            "visibility": null,
            "width": null
          }
        },
        "908d1ad22afd498a925150f590469551": {
          "model_module": "@jupyter-widgets/controls",
          "model_name": "DescriptionStyleModel",
          "model_module_version": "1.5.0",
          "state": {
            "_model_module": "@jupyter-widgets/controls",
            "_model_module_version": "1.5.0",
            "_model_name": "DescriptionStyleModel",
            "_view_count": null,
            "_view_module": "@jupyter-widgets/base",
            "_view_module_version": "1.2.0",
            "_view_name": "StyleView",
            "description_width": ""
          }
        },
        "ae43f8098f724c798626135236b29e01": {
          "model_module": "@jupyter-widgets/base",
          "model_name": "LayoutModel",
          "model_module_version": "1.2.0",
          "state": {
            "_model_module": "@jupyter-widgets/base",
            "_model_module_version": "1.2.0",
            "_model_name": "LayoutModel",
            "_view_count": null,
            "_view_module": "@jupyter-widgets/base",
            "_view_module_version": "1.2.0",
            "_view_name": "LayoutView",
            "align_content": null,
            "align_items": null,
            "align_self": null,
            "border": null,
            "bottom": null,
            "display": null,
            "flex": null,
            "flex_flow": null,
            "grid_area": null,
            "grid_auto_columns": null,
            "grid_auto_flow": null,
            "grid_auto_rows": null,
            "grid_column": null,
            "grid_gap": null,
            "grid_row": null,
            "grid_template_areas": null,
            "grid_template_columns": null,
            "grid_template_rows": null,
            "height": null,
            "justify_content": null,
            "justify_items": null,
            "left": null,
            "margin": null,
            "max_height": null,
            "max_width": null,
            "min_height": null,
            "min_width": null,
            "object_fit": null,
            "object_position": null,
            "order": null,
            "overflow": null,
            "overflow_x": null,
            "overflow_y": null,
            "padding": null,
            "right": null,
            "top": null,
            "visibility": null,
            "width": null
          }
        },
        "528f58203b7f48d9be534b953c65557d": {
          "model_module": "@jupyter-widgets/controls",
          "model_name": "ProgressStyleModel",
          "model_module_version": "1.5.0",
          "state": {
            "_model_module": "@jupyter-widgets/controls",
            "_model_module_version": "1.5.0",
            "_model_name": "ProgressStyleModel",
            "_view_count": null,
            "_view_module": "@jupyter-widgets/base",
            "_view_module_version": "1.2.0",
            "_view_name": "StyleView",
            "bar_color": null,
            "description_width": ""
          }
        },
        "dd1f5583f1d04a3d99df712952db55c7": {
          "model_module": "@jupyter-widgets/base",
          "model_name": "LayoutModel",
          "model_module_version": "1.2.0",
          "state": {
            "_model_module": "@jupyter-widgets/base",
            "_model_module_version": "1.2.0",
            "_model_name": "LayoutModel",
            "_view_count": null,
            "_view_module": "@jupyter-widgets/base",
            "_view_module_version": "1.2.0",
            "_view_name": "LayoutView",
            "align_content": null,
            "align_items": null,
            "align_self": null,
            "border": null,
            "bottom": null,
            "display": null,
            "flex": null,
            "flex_flow": null,
            "grid_area": null,
            "grid_auto_columns": null,
            "grid_auto_flow": null,
            "grid_auto_rows": null,
            "grid_column": null,
            "grid_gap": null,
            "grid_row": null,
            "grid_template_areas": null,
            "grid_template_columns": null,
            "grid_template_rows": null,
            "height": null,
            "justify_content": null,
            "justify_items": null,
            "left": null,
            "margin": null,
            "max_height": null,
            "max_width": null,
            "min_height": null,
            "min_width": null,
            "object_fit": null,
            "object_position": null,
            "order": null,
            "overflow": null,
            "overflow_x": null,
            "overflow_y": null,
            "padding": null,
            "right": null,
            "top": null,
            "visibility": null,
            "width": null
          }
        },
        "ff5ed2d9689048048de52930ce0d6a25": {
          "model_module": "@jupyter-widgets/controls",
          "model_name": "DescriptionStyleModel",
          "model_module_version": "1.5.0",
          "state": {
            "_model_module": "@jupyter-widgets/controls",
            "_model_module_version": "1.5.0",
            "_model_name": "DescriptionStyleModel",
            "_view_count": null,
            "_view_module": "@jupyter-widgets/base",
            "_view_module_version": "1.2.0",
            "_view_name": "StyleView",
            "description_width": ""
          }
        }
      }
    }
  },
  "cells": [
    {
      "cell_type": "markdown",
      "metadata": {
        "id": "view-in-github",
        "colab_type": "text"
      },
      "source": [
        "<a href=\"https://colab.research.google.com/github/dpcks/playdata/blob/main/DeepLearning/12_%EC%A0%84%EC%9D%B4%ED%95%99%EC%8A%B5.ipynb\" target=\"_parent\"><img src=\"https://colab.research.google.com/assets/colab-badge.svg\" alt=\"Open In Colab\"/></a>"
      ]
    },
    {
      "cell_type": "markdown",
      "source": [
        "# 전이학습\n",
        "- 다른 Task 에서 대량의 데이터로 학습된 모델의 가중치를 활용하여 비슷한 다른 Task에 적용하여 모델 성능을 향상시키는 학습 방법\n"
      ],
      "metadata": {
        "id": "cUOsHEhjSbTc"
      }
    },
    {
      "cell_type": "markdown",
      "source": [
        "## 일반적으로 합성곱 신경망 기반 모델들은 두가지 파트로 구성\n",
        "- Feature extractor \n",
        "    - 합성곱층과 풀링층으로 구성\n",
        "- Classifier\n",
        "    - 주로 Fully-connected 레이어로 구성\n"
      ],
      "metadata": {
        "id": "TOg2MYfoVGaz"
      }
    },
    {
      "cell_type": "markdown",
      "source": [
        "![20221003142924.png](data:image/png;base64,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)"
      ],
      "metadata": {
        "id": "tQAcsltqUj9U"
      }
    },
    {
      "cell_type": "markdown",
      "source": [
        "## 합성곱 신경망 학습에 특징\n",
        "- input 에 가까운 부분은 일반적인 특징을 추출하도록 학습된다.\n",
        "- output 에 가까워 질수록 특정 문제 혹은 데이터셋에서만 나타나는 구체적인 특징을 추출하도록 학습된다.\n"
      ],
      "metadata": {
        "id": "IEugs61qV-fs"
      }
    },
    {
      "cell_type": "markdown",
      "source": [
        "## 미세 조정(Fine-tuning)\n",
        "- 기존 모델의 분류기를 제거하고, 풀고자 하는 문제에 맞는 새로운 분류기를 추가하여 학습\n",
        "- 1번째는 lr을 작게줘야함, 두번째는 반쪽(파랑)만 가중치 업데이트하자, 마지막은 동결 "
      ],
      "metadata": {
        "id": "XuIks3NqWv1r"
      }
    },
    {
      "cell_type": "markdown",
      "source": [
        "![20221003143858.png](data:image/png;base64,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)"
      ],
      "metadata": {
        "id": "AlWq4qZ2WtSk"
      }
    },
    {
      "cell_type": "markdown",
      "source": [
        "# 데이터 경로를 변경하시오"
      ],
      "metadata": {
        "id": "sf1oTI-JakxL"
      }
    },
    {
      "cell_type": "code",
      "source": [
        "DATA_PATH = \"/content/drive/MyDrive/딥러닝/data/\"\n",
        "SEED = 42"
      ],
      "metadata": {
        "id": "7iTclP4B-glo"
      },
      "execution_count": null,
      "outputs": []
    },
    {
      "cell_type": "code",
      "execution_count": null,
      "metadata": {
        "id": "Xacrbo86ZRRu",
        "colab": {
          "base_uri": "https://localhost:8080/",
          "height": 35
        },
        "outputId": "bea5b632-25c9-4e9b-b90a-b9d37b9838bf"
      },
      "outputs": [
        {
          "output_type": "execute_result",
          "data": {
            "text/plain": [
              "'cuda'"
            ],
            "application/vnd.google.colaboratory.intrinsic+json": {
              "type": "string"
            }
          },
          "metadata": {},
          "execution_count": 2
        }
      ],
      "source": [
        "import pandas as pd\n",
        "import numpy as np\n",
        "import torch\n",
        "from tqdm.auto import tqdm\n",
        "import random # 시드 고정을 위해\n",
        "import os # 시드 고정을 위해\n",
        "from PIL import Image\n",
        "\n",
        "def reset_seeds(seed):\n",
        "    random.seed(seed)\n",
        "    os.environ['PYTHONHASHSEED'] = str(seed)    # 파이썬 환경변수 시드 고정\n",
        "    np.random.seed(seed)\n",
        "    torch.manual_seed(seed) # cpu 연산 무작위 고정\n",
        "    torch.cuda.manual_seed(seed) # gpu 연산 무작위 고정\n",
        "    torch.backends.cudnn.deterministic = True  # cuda 라이브러리에서 Deterministic(결정론적)으로 예측하기 (예측에 대한 불확실성 제거 )\n",
        "\n",
        "\n",
        "\n",
        "device = 'cuda' if torch.cuda.is_available() else 'cpu'\n",
        "device"
      ]
    },
    {
      "cell_type": "markdown",
      "source": [
        "# 구글 드라이브 마운트"
      ],
      "metadata": {
        "id": "A4ERYFkEaqZy"
      }
    },
    {
      "cell_type": "code",
      "source": [
        "from google.colab import drive\n",
        "drive.mount('/content/drive')"
      ],
      "metadata": {
        "id": "uSmx_vJ5ZfiJ",
        "colab": {
          "base_uri": "https://localhost:8080/"
        },
        "outputId": "6e4950bb-1096-4773-d0c3-67cb272bc20c"
      },
      "execution_count": null,
      "outputs": [
        {
          "output_type": "stream",
          "name": "stdout",
          "text": [
            "Mounted at /content/drive\n"
          ]
        }
      ]
    },
    {
      "cell_type": "markdown",
      "source": [
        "# 데이터 복사및 압축풀기"
      ],
      "metadata": {
        "id": "rXulmAS6atfZ"
      }
    },
    {
      "cell_type": "code",
      "source": [
        "if not os.path.isdir(\"train\"):\n",
        "    !cp \"{DATA_PATH}cats_and_dogs.zip\" \"cats_and_dogs.zip\"\n",
        "    !unzip -qq \"cats_and_dogs.zip\"  "
      ],
      "metadata": {
        "id": "L4tJcfijZhKZ"
      },
      "execution_count": null,
      "outputs": []
    },
    {
      "cell_type": "markdown",
      "source": [
        "# 이미지 파일 경로 리스트에 담기"
      ],
      "metadata": {
        "id": "7R-OZXsma2HZ"
      }
    },
    {
      "cell_type": "code",
      "source": [
        "from glob import glob\n",
        "cats_list = sorted(glob(\"train/cats/*.jpg\"),key= lambda x : x)  \n",
        "dogs_list = sorted(glob(\"train/dogs/*.jpg\"),key= lambda x : x)\n",
        "len(cats_list) , len(dogs_list) , cats_list[:5]"
      ],
      "metadata": {
        "id": "bmZEGgm-ZlDh",
        "colab": {
          "base_uri": "https://localhost:8080/"
        },
        "outputId": "ca6e3fc8-62a4-4269-a151-1b5c7725ec5a"
      },
      "execution_count": null,
      "outputs": [
        {
          "output_type": "execute_result",
          "data": {
            "text/plain": [
              "(1000,\n",
              " 1000,\n",
              " ['train/cats/cat.0.jpg',\n",
              "  'train/cats/cat.1.jpg',\n",
              "  'train/cats/cat.10.jpg',\n",
              "  'train/cats/cat.100.jpg',\n",
              "  'train/cats/cat.101.jpg'])"
            ]
          },
          "metadata": {},
          "execution_count": 5
        }
      ]
    },
    {
      "cell_type": "markdown",
      "source": [
        "# 학습 이미지경로 및 정답데이터 생성"
      ],
      "metadata": {
        "id": "UJGoEy9da6mQ"
      }
    },
    {
      "cell_type": "code",
      "source": [
        "img_path = cats_list + dogs_list \n",
        "labels = [0] * len(cats_list) + [1] * len(dogs_list)\n",
        "\n",
        "len(img_path) , len(labels) , img_path[:5]"
      ],
      "metadata": {
        "id": "ROuPjuSTZngx",
        "colab": {
          "base_uri": "https://localhost:8080/"
        },
        "outputId": "315f075f-25b1-45ed-f46a-f3af8b2316e9"
      },
      "execution_count": null,
      "outputs": [
        {
          "output_type": "execute_result",
          "data": {
            "text/plain": [
              "(2000,\n",
              " 2000,\n",
              " ['train/cats/cat.0.jpg',\n",
              "  'train/cats/cat.1.jpg',\n",
              "  'train/cats/cat.10.jpg',\n",
              "  'train/cats/cat.100.jpg',\n",
              "  'train/cats/cat.101.jpg'])"
            ]
          },
          "metadata": {},
          "execution_count": 6
        }
      ]
    },
    {
      "cell_type": "markdown",
      "source": [
        "# 섞기"
      ],
      "metadata": {
        "id": "nNtSYtLIbH2R"
      }
    },
    {
      "cell_type": "code",
      "source": [
        "train = np.array(img_path,dtype=\"object\")\n",
        "target = np.array(labels)\n",
        "\n",
        "np.random.seed(SEED) \n",
        "index_list = np.arange(train.shape[0]) \n",
        "np.random.shuffle(index_list) \n",
        "np.random.shuffle(index_list) \n",
        "\n",
        "train = train[index_list] \n",
        "target = target[index_list].reshape(-1,1) \n",
        "\n",
        "target[:10] , target.shape"
      ],
      "metadata": {
        "id": "oUSV-s8OZrEr",
        "colab": {
          "base_uri": "https://localhost:8080/"
        },
        "outputId": "2973bf24-8328-4128-b7b0-a5b228972b2f"
      },
      "execution_count": null,
      "outputs": [
        {
          "output_type": "execute_result",
          "data": {
            "text/plain": [
              "(array([[1],\n",
              "        [1],\n",
              "        [0],\n",
              "        [1],\n",
              "        [0],\n",
              "        [1],\n",
              "        [1],\n",
              "        [0],\n",
              "        [1],\n",
              "        [1]]), (2000, 1))"
            ]
          },
          "metadata": {},
          "execution_count": 7
        }
      ]
    },
    {
      "cell_type": "markdown",
      "source": [
        "- 다음의 url 접속하여 사전학습 모델을 선택하면 된다.\n",
        "    - https://pytorch.org/vision/stable/models.html#classification\n",
        "\n",
        "- Acc@1 탑원 우리가 일반적으로 알고있는 정확도\n",
        "- ACC@5 탑파이브 가장높은 다섯개의 확률(클래스)\n",
        "- resnet50 모델\n",
        "- 민맥스 스케일링후 정규화\n",
        "    - mean=[0.485, 0.456, 0.406] and std=[0.229, 0.224, 0.225] 224 * 224(crop_size)"
      ],
      "metadata": {
        "id": "JD7TvGFdk70H"
      }
    },
    {
      "cell_type": "code",
      "source": [
        "from torchvision.models import resnet50 , ResNet50_Weights "
      ],
      "metadata": {
        "id": "LflGlLribKvA"
      },
      "execution_count": null,
      "outputs": []
    },
    {
      "cell_type": "code",
      "source": [
        "ResNet50_Weights.DEFAULT "
      ],
      "metadata": {
        "id": "yrpjQudqbs6k",
        "colab": {
          "base_uri": "https://localhost:8080/"
        },
        "outputId": "d7800ce9-9f06-4d3a-a90b-0977e75f85fa"
      },
      "execution_count": null,
      "outputs": [
        {
          "output_type": "execute_result",
          "data": {
            "text/plain": [
              "ResNet50_Weights.IMAGENET1K_V2"
            ]
          },
          "metadata": {},
          "execution_count": 9
        }
      ]
    },
    {
      "cell_type": "code",
      "source": [
        "batch"
      ],
      "metadata": {
        "id": "SDdPLvuWEXT9"
      },
      "execution_count": null,
      "outputs": []
    },
    {
      "cell_type": "code",
      "source": [
        "model = resnet50(weights=ResNet50_Weights.IMAGENET1K_V2) # DEFAULT 로 넣으면 가중치를 자동으로 지정\n",
        "model "
      ],
      "metadata": {
        "id": "P6itkQzX4PDX",
        "colab": {
          "base_uri": "https://localhost:8080/",
          "height": 1000,
          "referenced_widgets": [
            "d5a294d5c5a7451b8a0693fa292bfddc",
            "95402dc3a03c4992965998911b20e98b",
            "e662d5bcfc6d4a9ab880776c88ac991c",
            "3a65fa92c49b4fecb8c9034807dca913",
            "02cc87f2f67d4bf69e8e5e57699ad1f5",
            "3bc82427f7c54123a7e50c7ad60d783f",
            "6c109ee0ffb5426984b87492b9c6dd58",
            "c8836a38efb14c5888eafc4b69a61a7b",
            "4c732c4af68e441b9fe0a32fcce99263",
            "ef1f9b44e63843c39691a0aab200cdc2",
            "8cdd31edce0843b5884584816d63397b"
          ]
        },
        "outputId": "c28d9d58-1691-4561-b4fa-7535401eac01"
      },
      "execution_count": null,
      "outputs": [
        {
          "output_type": "stream",
          "name": "stderr",
          "text": [
            "Downloading: \"https://download.pytorch.org/models/resnet50-11ad3fa6.pth\" to /root/.cache/torch/hub/checkpoints/resnet50-11ad3fa6.pth\n"
          ]
        },
        {
          "output_type": "display_data",
          "data": {
            "text/plain": [
              "  0%|          | 0.00/97.8M [00:00<?, ?B/s]"
            ],
            "application/vnd.jupyter.widget-view+json": {
              "version_major": 2,
              "version_minor": 0,
              "model_id": "d5a294d5c5a7451b8a0693fa292bfddc"
            }
          },
          "metadata": {}
        },
        {
          "output_type": "execute_result",
          "data": {
            "text/plain": [
              "ResNet(\n",
              "  (conv1): Conv2d(3, 64, kernel_size=(7, 7), stride=(2, 2), padding=(3, 3), bias=False)\n",
              "  (bn1): BatchNorm2d(64, eps=1e-05, momentum=0.1, affine=True, track_running_stats=True)\n",
              "  (relu): ReLU(inplace=True)\n",
              "  (maxpool): MaxPool2d(kernel_size=3, stride=2, padding=1, dilation=1, ceil_mode=False)\n",
              "  (layer1): Sequential(\n",
              "    (0): Bottleneck(\n",
              "      (conv1): Conv2d(64, 64, kernel_size=(1, 1), stride=(1, 1), bias=False)\n",
              "      (bn1): BatchNorm2d(64, eps=1e-05, momentum=0.1, affine=True, track_running_stats=True)\n",
              "      (conv2): Conv2d(64, 64, kernel_size=(3, 3), stride=(1, 1), padding=(1, 1), bias=False)\n",
              "      (bn2): BatchNorm2d(64, eps=1e-05, momentum=0.1, affine=True, track_running_stats=True)\n",
              "      (conv3): Conv2d(64, 256, kernel_size=(1, 1), stride=(1, 1), bias=False)\n",
              "      (bn3): BatchNorm2d(256, eps=1e-05, momentum=0.1, affine=True, track_running_stats=True)\n",
              "      (relu): ReLU(inplace=True)\n",
              "      (downsample): Sequential(\n",
              "        (0): Conv2d(64, 256, kernel_size=(1, 1), stride=(1, 1), bias=False)\n",
              "        (1): BatchNorm2d(256, eps=1e-05, momentum=0.1, affine=True, track_running_stats=True)\n",
              "      )\n",
              "    )\n",
              "    (1): Bottleneck(\n",
              "      (conv1): Conv2d(256, 64, kernel_size=(1, 1), stride=(1, 1), bias=False)\n",
              "      (bn1): BatchNorm2d(64, eps=1e-05, momentum=0.1, affine=True, track_running_stats=True)\n",
              "      (conv2): Conv2d(64, 64, kernel_size=(3, 3), stride=(1, 1), padding=(1, 1), bias=False)\n",
              "      (bn2): BatchNorm2d(64, eps=1e-05, momentum=0.1, affine=True, track_running_stats=True)\n",
              "      (conv3): Conv2d(64, 256, kernel_size=(1, 1), stride=(1, 1), bias=False)\n",
              "      (bn3): BatchNorm2d(256, eps=1e-05, momentum=0.1, affine=True, track_running_stats=True)\n",
              "      (relu): ReLU(inplace=True)\n",
              "    )\n",
              "    (2): Bottleneck(\n",
              "      (conv1): Conv2d(256, 64, kernel_size=(1, 1), stride=(1, 1), bias=False)\n",
              "      (bn1): BatchNorm2d(64, eps=1e-05, momentum=0.1, affine=True, track_running_stats=True)\n",
              "      (conv2): Conv2d(64, 64, kernel_size=(3, 3), stride=(1, 1), padding=(1, 1), bias=False)\n",
              "      (bn2): BatchNorm2d(64, eps=1e-05, momentum=0.1, affine=True, track_running_stats=True)\n",
              "      (conv3): Conv2d(64, 256, kernel_size=(1, 1), stride=(1, 1), bias=False)\n",
              "      (bn3): BatchNorm2d(256, eps=1e-05, momentum=0.1, affine=True, track_running_stats=True)\n",
              "      (relu): ReLU(inplace=True)\n",
              "    )\n",
              "  )\n",
              "  (layer2): Sequential(\n",
              "    (0): Bottleneck(\n",
              "      (conv1): Conv2d(256, 128, kernel_size=(1, 1), stride=(1, 1), bias=False)\n",
              "      (bn1): BatchNorm2d(128, eps=1e-05, momentum=0.1, affine=True, track_running_stats=True)\n",
              "      (conv2): Conv2d(128, 128, kernel_size=(3, 3), stride=(2, 2), padding=(1, 1), bias=False)\n",
              "      (bn2): BatchNorm2d(128, eps=1e-05, momentum=0.1, affine=True, track_running_stats=True)\n",
              "      (conv3): Conv2d(128, 512, kernel_size=(1, 1), stride=(1, 1), bias=False)\n",
              "      (bn3): BatchNorm2d(512, eps=1e-05, momentum=0.1, affine=True, track_running_stats=True)\n",
              "      (relu): ReLU(inplace=True)\n",
              "      (downsample): Sequential(\n",
              "        (0): Conv2d(256, 512, kernel_size=(1, 1), stride=(2, 2), bias=False)\n",
              "        (1): BatchNorm2d(512, eps=1e-05, momentum=0.1, affine=True, track_running_stats=True)\n",
              "      )\n",
              "    )\n",
              "    (1): Bottleneck(\n",
              "      (conv1): Conv2d(512, 128, kernel_size=(1, 1), stride=(1, 1), bias=False)\n",
              "      (bn1): BatchNorm2d(128, eps=1e-05, momentum=0.1, affine=True, track_running_stats=True)\n",
              "      (conv2): Conv2d(128, 128, kernel_size=(3, 3), stride=(1, 1), padding=(1, 1), bias=False)\n",
              "      (bn2): BatchNorm2d(128, eps=1e-05, momentum=0.1, affine=True, track_running_stats=True)\n",
              "      (conv3): Conv2d(128, 512, kernel_size=(1, 1), stride=(1, 1), bias=False)\n",
              "      (bn3): BatchNorm2d(512, eps=1e-05, momentum=0.1, affine=True, track_running_stats=True)\n",
              "      (relu): ReLU(inplace=True)\n",
              "    )\n",
              "    (2): Bottleneck(\n",
              "      (conv1): Conv2d(512, 128, kernel_size=(1, 1), stride=(1, 1), bias=False)\n",
              "      (bn1): BatchNorm2d(128, eps=1e-05, momentum=0.1, affine=True, track_running_stats=True)\n",
              "      (conv2): Conv2d(128, 128, kernel_size=(3, 3), stride=(1, 1), padding=(1, 1), bias=False)\n",
              "      (bn2): BatchNorm2d(128, eps=1e-05, momentum=0.1, affine=True, track_running_stats=True)\n",
              "      (conv3): Conv2d(128, 512, kernel_size=(1, 1), stride=(1, 1), bias=False)\n",
              "      (bn3): BatchNorm2d(512, eps=1e-05, momentum=0.1, affine=True, track_running_stats=True)\n",
              "      (relu): ReLU(inplace=True)\n",
              "    )\n",
              "    (3): Bottleneck(\n",
              "      (conv1): Conv2d(512, 128, kernel_size=(1, 1), stride=(1, 1), bias=False)\n",
              "      (bn1): BatchNorm2d(128, eps=1e-05, momentum=0.1, affine=True, track_running_stats=True)\n",
              "      (conv2): Conv2d(128, 128, kernel_size=(3, 3), stride=(1, 1), padding=(1, 1), bias=False)\n",
              "      (bn2): BatchNorm2d(128, eps=1e-05, momentum=0.1, affine=True, track_running_stats=True)\n",
              "      (conv3): Conv2d(128, 512, kernel_size=(1, 1), stride=(1, 1), bias=False)\n",
              "      (bn3): BatchNorm2d(512, eps=1e-05, momentum=0.1, affine=True, track_running_stats=True)\n",
              "      (relu): ReLU(inplace=True)\n",
              "    )\n",
              "  )\n",
              "  (layer3): Sequential(\n",
              "    (0): Bottleneck(\n",
              "      (conv1): Conv2d(512, 256, kernel_size=(1, 1), stride=(1, 1), bias=False)\n",
              "      (bn1): BatchNorm2d(256, eps=1e-05, momentum=0.1, affine=True, track_running_stats=True)\n",
              "      (conv2): Conv2d(256, 256, kernel_size=(3, 3), stride=(2, 2), padding=(1, 1), bias=False)\n",
              "      (bn2): BatchNorm2d(256, eps=1e-05, momentum=0.1, affine=True, track_running_stats=True)\n",
              "      (conv3): Conv2d(256, 1024, kernel_size=(1, 1), stride=(1, 1), bias=False)\n",
              "      (bn3): BatchNorm2d(1024, eps=1e-05, momentum=0.1, affine=True, track_running_stats=True)\n",
              "      (relu): ReLU(inplace=True)\n",
              "      (downsample): Sequential(\n",
              "        (0): Conv2d(512, 1024, kernel_size=(1, 1), stride=(2, 2), bias=False)\n",
              "        (1): BatchNorm2d(1024, eps=1e-05, momentum=0.1, affine=True, track_running_stats=True)\n",
              "      )\n",
              "    )\n",
              "    (1): Bottleneck(\n",
              "      (conv1): Conv2d(1024, 256, kernel_size=(1, 1), stride=(1, 1), bias=False)\n",
              "      (bn1): BatchNorm2d(256, eps=1e-05, momentum=0.1, affine=True, track_running_stats=True)\n",
              "      (conv2): Conv2d(256, 256, kernel_size=(3, 3), stride=(1, 1), padding=(1, 1), bias=False)\n",
              "      (bn2): BatchNorm2d(256, eps=1e-05, momentum=0.1, affine=True, track_running_stats=True)\n",
              "      (conv3): Conv2d(256, 1024, kernel_size=(1, 1), stride=(1, 1), bias=False)\n",
              "      (bn3): BatchNorm2d(1024, eps=1e-05, momentum=0.1, affine=True, track_running_stats=True)\n",
              "      (relu): ReLU(inplace=True)\n",
              "    )\n",
              "    (2): Bottleneck(\n",
              "      (conv1): Conv2d(1024, 256, kernel_size=(1, 1), stride=(1, 1), bias=False)\n",
              "      (bn1): BatchNorm2d(256, eps=1e-05, momentum=0.1, affine=True, track_running_stats=True)\n",
              "      (conv2): Conv2d(256, 256, kernel_size=(3, 3), stride=(1, 1), padding=(1, 1), bias=False)\n",
              "      (bn2): BatchNorm2d(256, eps=1e-05, momentum=0.1, affine=True, track_running_stats=True)\n",
              "      (conv3): Conv2d(256, 1024, kernel_size=(1, 1), stride=(1, 1), bias=False)\n",
              "      (bn3): BatchNorm2d(1024, eps=1e-05, momentum=0.1, affine=True, track_running_stats=True)\n",
              "      (relu): ReLU(inplace=True)\n",
              "    )\n",
              "    (3): Bottleneck(\n",
              "      (conv1): Conv2d(1024, 256, kernel_size=(1, 1), stride=(1, 1), bias=False)\n",
              "      (bn1): BatchNorm2d(256, eps=1e-05, momentum=0.1, affine=True, track_running_stats=True)\n",
              "      (conv2): Conv2d(256, 256, kernel_size=(3, 3), stride=(1, 1), padding=(1, 1), bias=False)\n",
              "      (bn2): BatchNorm2d(256, eps=1e-05, momentum=0.1, affine=True, track_running_stats=True)\n",
              "      (conv3): Conv2d(256, 1024, kernel_size=(1, 1), stride=(1, 1), bias=False)\n",
              "      (bn3): BatchNorm2d(1024, eps=1e-05, momentum=0.1, affine=True, track_running_stats=True)\n",
              "      (relu): ReLU(inplace=True)\n",
              "    )\n",
              "    (4): Bottleneck(\n",
              "      (conv1): Conv2d(1024, 256, kernel_size=(1, 1), stride=(1, 1), bias=False)\n",
              "      (bn1): BatchNorm2d(256, eps=1e-05, momentum=0.1, affine=True, track_running_stats=True)\n",
              "      (conv2): Conv2d(256, 256, kernel_size=(3, 3), stride=(1, 1), padding=(1, 1), bias=False)\n",
              "      (bn2): BatchNorm2d(256, eps=1e-05, momentum=0.1, affine=True, track_running_stats=True)\n",
              "      (conv3): Conv2d(256, 1024, kernel_size=(1, 1), stride=(1, 1), bias=False)\n",
              "      (bn3): BatchNorm2d(1024, eps=1e-05, momentum=0.1, affine=True, track_running_stats=True)\n",
              "      (relu): ReLU(inplace=True)\n",
              "    )\n",
              "    (5): Bottleneck(\n",
              "      (conv1): Conv2d(1024, 256, kernel_size=(1, 1), stride=(1, 1), bias=False)\n",
              "      (bn1): BatchNorm2d(256, eps=1e-05, momentum=0.1, affine=True, track_running_stats=True)\n",
              "      (conv2): Conv2d(256, 256, kernel_size=(3, 3), stride=(1, 1), padding=(1, 1), bias=False)\n",
              "      (bn2): BatchNorm2d(256, eps=1e-05, momentum=0.1, affine=True, track_running_stats=True)\n",
              "      (conv3): Conv2d(256, 1024, kernel_size=(1, 1), stride=(1, 1), bias=False)\n",
              "      (bn3): BatchNorm2d(1024, eps=1e-05, momentum=0.1, affine=True, track_running_stats=True)\n",
              "      (relu): ReLU(inplace=True)\n",
              "    )\n",
              "  )\n",
              "  (layer4): Sequential(\n",
              "    (0): Bottleneck(\n",
              "      (conv1): Conv2d(1024, 512, kernel_size=(1, 1), stride=(1, 1), bias=False)\n",
              "      (bn1): BatchNorm2d(512, eps=1e-05, momentum=0.1, affine=True, track_running_stats=True)\n",
              "      (conv2): Conv2d(512, 512, kernel_size=(3, 3), stride=(2, 2), padding=(1, 1), bias=False)\n",
              "      (bn2): BatchNorm2d(512, eps=1e-05, momentum=0.1, affine=True, track_running_stats=True)\n",
              "      (conv3): Conv2d(512, 2048, kernel_size=(1, 1), stride=(1, 1), bias=False)\n",
              "      (bn3): BatchNorm2d(2048, eps=1e-05, momentum=0.1, affine=True, track_running_stats=True)\n",
              "      (relu): ReLU(inplace=True)\n",
              "      (downsample): Sequential(\n",
              "        (0): Conv2d(1024, 2048, kernel_size=(1, 1), stride=(2, 2), bias=False)\n",
              "        (1): BatchNorm2d(2048, eps=1e-05, momentum=0.1, affine=True, track_running_stats=True)\n",
              "      )\n",
              "    )\n",
              "    (1): Bottleneck(\n",
              "      (conv1): Conv2d(2048, 512, kernel_size=(1, 1), stride=(1, 1), bias=False)\n",
              "      (bn1): BatchNorm2d(512, eps=1e-05, momentum=0.1, affine=True, track_running_stats=True)\n",
              "      (conv2): Conv2d(512, 512, kernel_size=(3, 3), stride=(1, 1), padding=(1, 1), bias=False)\n",
              "      (bn2): BatchNorm2d(512, eps=1e-05, momentum=0.1, affine=True, track_running_stats=True)\n",
              "      (conv3): Conv2d(512, 2048, kernel_size=(1, 1), stride=(1, 1), bias=False)\n",
              "      (bn3): BatchNorm2d(2048, eps=1e-05, momentum=0.1, affine=True, track_running_stats=True)\n",
              "      (relu): ReLU(inplace=True)\n",
              "    )\n",
              "    (2): Bottleneck(\n",
              "      (conv1): Conv2d(2048, 512, kernel_size=(1, 1), stride=(1, 1), bias=False)\n",
              "      (bn1): BatchNorm2d(512, eps=1e-05, momentum=0.1, affine=True, track_running_stats=True)\n",
              "      (conv2): Conv2d(512, 512, kernel_size=(3, 3), stride=(1, 1), padding=(1, 1), bias=False)\n",
              "      (bn2): BatchNorm2d(512, eps=1e-05, momentum=0.1, affine=True, track_running_stats=True)\n",
              "      (conv3): Conv2d(512, 2048, kernel_size=(1, 1), stride=(1, 1), bias=False)\n",
              "      (bn3): BatchNorm2d(2048, eps=1e-05, momentum=0.1, affine=True, track_running_stats=True)\n",
              "      (relu): ReLU(inplace=True)\n",
              "    )\n",
              "  )\n",
              "  (avgpool): AdaptiveAvgPool2d(output_size=(1, 1))\n",
              "  (fc): Linear(in_features=2048, out_features=1000, bias=True)\n",
              ")"
            ]
          },
          "metadata": {},
          "execution_count": 10
        }
      ]
    },
    {
      "cell_type": "markdown",
      "source": [
        "# 모델"
      ],
      "metadata": {
        "id": "0aWZ-cso_zaP"
      }
    },
    {
      "cell_type": "code",
      "source": [
        "class Net(torch.nn.Module):\n",
        "    def __init__(self): \n",
        "        super().__init__()\n",
        "        self.pre_model = resnet50(weights=ResNet50_Weights.IMAGENET1K_V2)\n",
        "        self.pre_model.fc = torch.nn.Linear(2048,1) # 인스턴스 변수활용\n",
        "\n",
        "    def forward(self, x):\n",
        "        x  = self.pre_model(x)\n",
        "        return x"
      ],
      "metadata": {
        "id": "QNjteAXippbM"
      },
      "execution_count": null,
      "outputs": []
    },
    {
      "cell_type": "code",
      "source": [
        "!pip install torchinfo"
      ],
      "metadata": {
        "id": "kxTksaVBqbZu",
        "colab": {
          "base_uri": "https://localhost:8080/"
        },
        "outputId": "d26936bc-c062-43f7-cd18-b83f076934f4"
      },
      "execution_count": null,
      "outputs": [
        {
          "output_type": "stream",
          "name": "stdout",
          "text": [
            "Looking in indexes: https://pypi.org/simple, https://us-python.pkg.dev/colab-wheels/public/simple/\n",
            "Collecting torchinfo\n",
            "  Downloading torchinfo-1.7.1-py3-none-any.whl (22 kB)\n",
            "Installing collected packages: torchinfo\n",
            "Successfully installed torchinfo-1.7.1\n"
          ]
        }
      ]
    },
    {
      "cell_type": "code",
      "source": [
        "import torchinfo\n",
        "model = Net()\n",
        "torchinfo.summary(model,(32,3,224,224))  # B,C ,H,W # 채널이 3인 이유는 컬러"
      ],
      "metadata": {
        "id": "tDWxHEXJqefu",
        "colab": {
          "base_uri": "https://localhost:8080/"
        },
        "outputId": "9ffef76e-50e0-4e68-e3d9-b99731373d81"
      },
      "execution_count": null,
      "outputs": [
        {
          "output_type": "execute_result",
          "data": {
            "text/plain": [
              "===============================================================================================\n",
              "Layer (type:depth-idx)                        Output Shape              Param #\n",
              "===============================================================================================\n",
              "Net                                           [32, 1]                   --\n",
              "├─ResNet: 1-1                                 [32, 1]                   --\n",
              "│    └─Conv2d: 2-1                            [32, 64, 112, 112]        9,408\n",
              "│    └─BatchNorm2d: 2-2                       [32, 64, 112, 112]        128\n",
              "│    └─ReLU: 2-3                              [32, 64, 112, 112]        --\n",
              "│    └─MaxPool2d: 2-4                         [32, 64, 56, 56]          --\n",
              "│    └─Sequential: 2-5                        [32, 256, 56, 56]         --\n",
              "│    │    └─Bottleneck: 3-1                   [32, 256, 56, 56]         75,008\n",
              "│    │    └─Bottleneck: 3-2                   [32, 256, 56, 56]         70,400\n",
              "│    │    └─Bottleneck: 3-3                   [32, 256, 56, 56]         70,400\n",
              "│    └─Sequential: 2-6                        [32, 512, 28, 28]         --\n",
              "│    │    └─Bottleneck: 3-4                   [32, 512, 28, 28]         379,392\n",
              "│    │    └─Bottleneck: 3-5                   [32, 512, 28, 28]         280,064\n",
              "│    │    └─Bottleneck: 3-6                   [32, 512, 28, 28]         280,064\n",
              "│    │    └─Bottleneck: 3-7                   [32, 512, 28, 28]         280,064\n",
              "│    └─Sequential: 2-7                        [32, 1024, 14, 14]        --\n",
              "│    │    └─Bottleneck: 3-8                   [32, 1024, 14, 14]        1,512,448\n",
              "│    │    └─Bottleneck: 3-9                   [32, 1024, 14, 14]        1,117,184\n",
              "│    │    └─Bottleneck: 3-10                  [32, 1024, 14, 14]        1,117,184\n",
              "│    │    └─Bottleneck: 3-11                  [32, 1024, 14, 14]        1,117,184\n",
              "│    │    └─Bottleneck: 3-12                  [32, 1024, 14, 14]        1,117,184\n",
              "│    │    └─Bottleneck: 3-13                  [32, 1024, 14, 14]        1,117,184\n",
              "│    └─Sequential: 2-8                        [32, 2048, 7, 7]          --\n",
              "│    │    └─Bottleneck: 3-14                  [32, 2048, 7, 7]          6,039,552\n",
              "│    │    └─Bottleneck: 3-15                  [32, 2048, 7, 7]          4,462,592\n",
              "│    │    └─Bottleneck: 3-16                  [32, 2048, 7, 7]          4,462,592\n",
              "│    └─AdaptiveAvgPool2d: 2-9                 [32, 2048, 1, 1]          --\n",
              "│    └─Linear: 2-10                           [32, 1]                   2,049\n",
              "===============================================================================================\n",
              "Total params: 23,510,081\n",
              "Trainable params: 23,510,081\n",
              "Non-trainable params: 0\n",
              "Total mult-adds (G): 130.79\n",
              "===============================================================================================\n",
              "Input size (MB): 19.27\n",
              "Forward/backward pass size (MB): 5690.36\n",
              "Params size (MB): 94.04\n",
              "Estimated Total Size (MB): 5803.67\n",
              "==============================================================================================="
            ]
          },
          "metadata": {},
          "execution_count": 13
        }
      ]
    },
    {
      "cell_type": "markdown",
      "source": [
        "# transforms 객체 생성"
      ],
      "metadata": {
        "id": "zJx5-wqE_yEI"
      }
    },
    {
      "cell_type": "code",
      "source": [
        "from torchvision import transforms\n",
        "\n",
        "img_size = [224,224] # crop size 224\n",
        "\n",
        "train_lst = [\n",
        "    transforms.Resize(img_size),\n",
        "    transforms.RandomHorizontalFlip(p=0.4),# 증강 추가할수있음\n",
        "    transforms.ToTensor(),\n",
        "    transforms.Normalize([0.485, 0.456, 0.406], [0.229, 0.224, 0.225]) # 홈페이지에 나와있음 정규화\n",
        "    ]\n",
        "train_transform = transforms.Compose(train_lst)\n",
        "\n",
        "test_lst = [\n",
        "    transforms.Resize(img_size),\n",
        "    transforms.ToTensor(),\n",
        "    transforms.Normalize([0.485, 0.456, 0.406], [0.229, 0.224, 0.225])\n",
        "    ]\n",
        "test_transform = transforms.Compose(test_lst)"
      ],
      "metadata": {
        "id": "BZghRcL-tBNO"
      },
      "execution_count": null,
      "outputs": []
    },
    {
      "cell_type": "markdown",
      "source": [
        "# 데이터셋"
      ],
      "metadata": {
        "id": "EZD-_UH1_stY"
      }
    },
    {
      "cell_type": "code",
      "source": [
        "class CatDogDataset(torch.utils.data.Dataset):\n",
        "    def __init__(self ,transform , x, y = None ): \n",
        "        self.x = x\n",
        "        self.y = y\n",
        "        self.transform = transform\n",
        "    def __len__(self): \n",
        "        return self.x.shape[0]\n",
        "    def __getitem__(self, idx): \n",
        "        item = {}\n",
        "        x = Image.open(self.x[idx])\n",
        "        item[\"x\"] = self.transform(x)\n",
        "        if self.y is not None:\n",
        "            item[\"y\"] = torch.Tensor(self.y[idx])\n",
        "        return item   "
      ],
      "metadata": {
        "id": "PnBV2ZMQsbD6"
      },
      "execution_count": null,
      "outputs": []
    },
    {
      "cell_type": "code",
      "source": [
        "def train_loop(dataloader,model,loss_fn,optimizer,device):\n",
        "    epoch_loss = 0 \n",
        "    model.train() \n",
        "    for batch in dataloader: \n",
        "        pred = model(batch[\"x\"].to(device)) \n",
        "        loss = loss_fn(pred, batch[\"y\"].to(device)) \n",
        "        \n",
        "        optimizer.zero_grad() \n",
        "        loss.backward()  \n",
        "        optimizer.step() \n",
        "        \n",
        "        epoch_loss += loss.item()\n",
        "\n",
        "    epoch_loss /= len(dataloader) \n",
        "\n",
        "    return epoch_loss "
      ],
      "metadata": {
        "id": "QYSnRK7YkeD_"
      },
      "execution_count": null,
      "outputs": []
    },
    {
      "cell_type": "code",
      "source": [
        "@torch.no_grad() \n",
        "def test_loop(dataloader,model,loss_fn,device): \n",
        "    epoch_loss = 0\n",
        "    model.eval() \n",
        "\n",
        "    pred_list = []\n",
        "    sig = torch.nn.Sigmoid()\n",
        "\n",
        "    for batch in dataloader:\n",
        "        \n",
        "        pred = model(batch[\"x\"].to(device))\n",
        "        if batch.get(\"y\") is not None: \n",
        "            loss = loss_fn(pred, batch[\"y\"].to(device))\n",
        "            epoch_loss += loss.item()\n",
        "        \n",
        "        pred = sig(pred)\n",
        "        pred = pred.to(\"cpu\").numpy() \n",
        "        pred_list.append(pred)\n",
        "\n",
        "    epoch_loss /= len(dataloader)\n",
        "\n",
        "    pred = np.concatenate(pred_list) \n",
        "    return epoch_loss , pred "
      ],
      "metadata": {
        "id": "jAgxb7eDt5LL"
      },
      "execution_count": null,
      "outputs": []
    },
    {
      "cell_type": "code",
      "source": [
        "n_splits = 5\n",
        "batch_size = 32 \n",
        "epochs = 100\n",
        "loss_fn = torch.nn.BCEWithLogitsLoss()"
      ],
      "metadata": {
        "id": "PfRHU8jtt8if"
      },
      "execution_count": null,
      "outputs": []
    },
    {
      "cell_type": "code",
      "source": [
        "from sklearn.metrics import accuracy_score\n",
        "from sklearn.model_selection import KFold\n",
        "cv = KFold(n_splits=n_splits,shuffle=True, random_state=SEED)"
      ],
      "metadata": {
        "id": "QI_EEi1xt8rT"
      },
      "execution_count": null,
      "outputs": []
    },
    {
      "cell_type": "markdown",
      "source": [
        "# 학습"
      ],
      "metadata": {
        "id": "3fjrkvOJABPY"
      }
    },
    {
      "cell_type": "code",
      "source": [
        "is_holdout = True\n",
        "reset_seeds(SEED)\n",
        "best_score_list = []\n",
        "for i,(tri,vai) in enumerate(cv.split(train)):\n",
        "    \n",
        "    model = Net().to(device)\n",
        "    optimizer = torch.optim.Adam(model.parameters(),lr=0.0001) # LR 낮추면 다잘나올수있음\n",
        "    \n",
        "    train_dt = CatDogDataset(train_transform,train[tri],target[tri])\n",
        "    valid_dt = CatDogDataset(test_transform,train[vai],target[vai])\n",
        "    train_dl = torch.utils.data.DataLoader(train_dt, batch_size=batch_size, shuffle=True)\n",
        "    valid_dl = torch.utils.data.DataLoader(valid_dt, batch_size=batch_size,shuffle=False)\n",
        "\n",
        "    best_score = 0\n",
        "    patience = 0\n",
        "\n",
        "    for epoch in tqdm(range(epochs)):\n",
        "        \n",
        "        train_loss = train_loop(train_dl, model, loss_fn,optimizer,device )\n",
        "        valid_loss , pred = test_loop(valid_dl, model, loss_fn,device  )\n",
        "        pred = (pred > 0.5).astype(int) \n",
        "        \n",
        "        score = accuracy_score(target[vai],pred )\n",
        "        print(train_loss,valid_loss,score)\n",
        "        patience += 1\n",
        "        if best_score < score:\n",
        "            patience = 0\n",
        "            best_score = score\n",
        "            torch.save(model.state_dict(),f\"model_{i}.pth\")\n",
        "\n",
        "        if patience == 5:\n",
        "            break\n",
        "    print(f\"Fold ({i}), BEST ACC: {best_score}\")\n",
        "    best_score_list.append(best_score)\n",
        "\n",
        "    if is_holdout:\n",
        "        break"
      ],
      "metadata": {
        "id": "nQPErmi3t8zA",
        "colab": {
          "base_uri": "https://localhost:8080/",
          "height": 194,
          "referenced_widgets": [
            "aed2915972a946028d5b4cb231807124",
            "cc9bfc3b17b349a0b848e4b8b4ff7ef3",
            "791054a6ddb14432bb66bd8eef7e954a",
            "5a114856cd944bf0866654f090cb952b",
            "0cf47940200c40b3b1d7ff4ae150a2f8",
            "424fde72b8ad42a8ace0e40e6f1706e7",
            "908d1ad22afd498a925150f590469551",
            "ae43f8098f724c798626135236b29e01",
            "528f58203b7f48d9be534b953c65557d",
            "dd1f5583f1d04a3d99df712952db55c7",
            "ff5ed2d9689048048de52930ce0d6a25"
          ]
        },
        "outputId": "2448fcbc-b0d1-4747-e8e8-1eeffe95f3a6"
      },
      "execution_count": null,
      "outputs": [
        {
          "output_type": "display_data",
          "data": {
            "text/plain": [
              "  0%|          | 0/100 [00:00<?, ?it/s]"
            ],
            "application/vnd.jupyter.widget-view+json": {
              "version_major": 2,
              "version_minor": 0,
              "model_id": "aed2915972a946028d5b4cb231807124"
            }
          },
          "metadata": {}
        },
        {
          "output_type": "stream",
          "name": "stdout",
          "text": [
            "0.2383128732815385 0.032523152275154225 0.99\n",
            "0.04246187217533588 0.02300109090999915 0.9975\n",
            "0.022497958689928054 0.0237455007333595 0.995\n",
            "0.005802924311719835 0.011574194569570513 0.995\n",
            "0.002608862897614017 0.009667490752270589 0.9975\n",
            "0.0046075264282990245 0.017002508097973008 0.995\n",
            "0.0018895258102566003 0.014796683417024234 0.9975\n",
            "Fold (0), BEST ACC: 0.9975\n"
          ]
        }
      ]
    },
    {
      "cell_type": "markdown",
      "source": [
        "# 동결(Freezing)"
      ],
      "metadata": {
        "id": "06JVhv2kI73O"
      }
    },
    {
      "cell_type": "markdown",
      "source": [
        "## 특성 부분 전체 동결"
      ],
      "metadata": {
        "id": "zGCtZdC6yHw_"
      }
    },
    {
      "cell_type": "code",
      "source": [
        "class FreezNet(torch.nn.Module):\n",
        "    def __init__(self): \n",
        "        super().__init__()\n",
        "        self.pre_model = resnet50(weights=ResNet50_Weights.IMAGENET1K_V2)\n",
        "        for param in self.pre_model.parameters(): \n",
        "            param.requires_grad = False \n",
        "        self.pre_model.fc = torch.nn.Linear(2048,1) # 가중치 업데이트\n",
        "\n",
        "    def forward(self, x):\n",
        "        x  = self.pre_model(x)\n",
        "        return x"
      ],
      "metadata": {
        "id": "LL3vhvMWyGyu"
      },
      "execution_count": null,
      "outputs": []
    },
    {
      "cell_type": "code",
      "source": [
        "model = FreezNet()\n",
        "for name, param in model.named_parameters(): \n",
        "    print(name ,param.requires_grad) "
      ],
      "metadata": {
        "id": "sLDfpounyyVu"
      },
      "execution_count": null,
      "outputs": []
    },
    {
      "cell_type": "markdown",
      "source": [
        "## 일부 동결"
      ],
      "metadata": {
        "id": "1Ez2OY-Vy93Q"
      }
    },
    {
      "cell_type": "code",
      "source": [
        "model = Net()\n",
        "model "
      ],
      "metadata": {
        "id": "l2XApx4Yw6iA",
        "colab": {
          "base_uri": "https://localhost:8080/"
        },
        "outputId": "30eef7e6-d630-4467-82fd-f34f0cdab9b7"
      },
      "execution_count": null,
      "outputs": [
        {
          "output_type": "execute_result",
          "data": {
            "text/plain": [
              "Net(\n",
              "  (pre_model): ResNet(\n",
              "    (conv1): Conv2d(3, 64, kernel_size=(7, 7), stride=(2, 2), padding=(3, 3), bias=False)\n",
              "    (bn1): BatchNorm2d(64, eps=1e-05, momentum=0.1, affine=True, track_running_stats=True)\n",
              "    (relu): ReLU(inplace=True)\n",
              "    (maxpool): MaxPool2d(kernel_size=3, stride=2, padding=1, dilation=1, ceil_mode=False)\n",
              "    (layer1): Sequential(\n",
              "      (0): Bottleneck(\n",
              "        (conv1): Conv2d(64, 64, kernel_size=(1, 1), stride=(1, 1), bias=False)\n",
              "        (bn1): BatchNorm2d(64, eps=1e-05, momentum=0.1, affine=True, track_running_stats=True)\n",
              "        (conv2): Conv2d(64, 64, kernel_size=(3, 3), stride=(1, 1), padding=(1, 1), bias=False)\n",
              "        (bn2): BatchNorm2d(64, eps=1e-05, momentum=0.1, affine=True, track_running_stats=True)\n",
              "        (conv3): Conv2d(64, 256, kernel_size=(1, 1), stride=(1, 1), bias=False)\n",
              "        (bn3): BatchNorm2d(256, eps=1e-05, momentum=0.1, affine=True, track_running_stats=True)\n",
              "        (relu): ReLU(inplace=True)\n",
              "        (downsample): Sequential(\n",
              "          (0): Conv2d(64, 256, kernel_size=(1, 1), stride=(1, 1), bias=False)\n",
              "          (1): BatchNorm2d(256, eps=1e-05, momentum=0.1, affine=True, track_running_stats=True)\n",
              "        )\n",
              "      )\n",
              "      (1): Bottleneck(\n",
              "        (conv1): Conv2d(256, 64, kernel_size=(1, 1), stride=(1, 1), bias=False)\n",
              "        (bn1): BatchNorm2d(64, eps=1e-05, momentum=0.1, affine=True, track_running_stats=True)\n",
              "        (conv2): Conv2d(64, 64, kernel_size=(3, 3), stride=(1, 1), padding=(1, 1), bias=False)\n",
              "        (bn2): BatchNorm2d(64, eps=1e-05, momentum=0.1, affine=True, track_running_stats=True)\n",
              "        (conv3): Conv2d(64, 256, kernel_size=(1, 1), stride=(1, 1), bias=False)\n",
              "        (bn3): BatchNorm2d(256, eps=1e-05, momentum=0.1, affine=True, track_running_stats=True)\n",
              "        (relu): ReLU(inplace=True)\n",
              "      )\n",
              "      (2): Bottleneck(\n",
              "        (conv1): Conv2d(256, 64, kernel_size=(1, 1), stride=(1, 1), bias=False)\n",
              "        (bn1): BatchNorm2d(64, eps=1e-05, momentum=0.1, affine=True, track_running_stats=True)\n",
              "        (conv2): Conv2d(64, 64, kernel_size=(3, 3), stride=(1, 1), padding=(1, 1), bias=False)\n",
              "        (bn2): BatchNorm2d(64, eps=1e-05, momentum=0.1, affine=True, track_running_stats=True)\n",
              "        (conv3): Conv2d(64, 256, kernel_size=(1, 1), stride=(1, 1), bias=False)\n",
              "        (bn3): BatchNorm2d(256, eps=1e-05, momentum=0.1, affine=True, track_running_stats=True)\n",
              "        (relu): ReLU(inplace=True)\n",
              "      )\n",
              "    )\n",
              "    (layer2): Sequential(\n",
              "      (0): Bottleneck(\n",
              "        (conv1): Conv2d(256, 128, kernel_size=(1, 1), stride=(1, 1), bias=False)\n",
              "        (bn1): BatchNorm2d(128, eps=1e-05, momentum=0.1, affine=True, track_running_stats=True)\n",
              "        (conv2): Conv2d(128, 128, kernel_size=(3, 3), stride=(2, 2), padding=(1, 1), bias=False)\n",
              "        (bn2): BatchNorm2d(128, eps=1e-05, momentum=0.1, affine=True, track_running_stats=True)\n",
              "        (conv3): Conv2d(128, 512, kernel_size=(1, 1), stride=(1, 1), bias=False)\n",
              "        (bn3): BatchNorm2d(512, eps=1e-05, momentum=0.1, affine=True, track_running_stats=True)\n",
              "        (relu): ReLU(inplace=True)\n",
              "        (downsample): Sequential(\n",
              "          (0): Conv2d(256, 512, kernel_size=(1, 1), stride=(2, 2), bias=False)\n",
              "          (1): BatchNorm2d(512, eps=1e-05, momentum=0.1, affine=True, track_running_stats=True)\n",
              "        )\n",
              "      )\n",
              "      (1): Bottleneck(\n",
              "        (conv1): Conv2d(512, 128, kernel_size=(1, 1), stride=(1, 1), bias=False)\n",
              "        (bn1): BatchNorm2d(128, eps=1e-05, momentum=0.1, affine=True, track_running_stats=True)\n",
              "        (conv2): Conv2d(128, 128, kernel_size=(3, 3), stride=(1, 1), padding=(1, 1), bias=False)\n",
              "        (bn2): BatchNorm2d(128, eps=1e-05, momentum=0.1, affine=True, track_running_stats=True)\n",
              "        (conv3): Conv2d(128, 512, kernel_size=(1, 1), stride=(1, 1), bias=False)\n",
              "        (bn3): BatchNorm2d(512, eps=1e-05, momentum=0.1, affine=True, track_running_stats=True)\n",
              "        (relu): ReLU(inplace=True)\n",
              "      )\n",
              "      (2): Bottleneck(\n",
              "        (conv1): Conv2d(512, 128, kernel_size=(1, 1), stride=(1, 1), bias=False)\n",
              "        (bn1): BatchNorm2d(128, eps=1e-05, momentum=0.1, affine=True, track_running_stats=True)\n",
              "        (conv2): Conv2d(128, 128, kernel_size=(3, 3), stride=(1, 1), padding=(1, 1), bias=False)\n",
              "        (bn2): BatchNorm2d(128, eps=1e-05, momentum=0.1, affine=True, track_running_stats=True)\n",
              "        (conv3): Conv2d(128, 512, kernel_size=(1, 1), stride=(1, 1), bias=False)\n",
              "        (bn3): BatchNorm2d(512, eps=1e-05, momentum=0.1, affine=True, track_running_stats=True)\n",
              "        (relu): ReLU(inplace=True)\n",
              "      )\n",
              "      (3): Bottleneck(\n",
              "        (conv1): Conv2d(512, 128, kernel_size=(1, 1), stride=(1, 1), bias=False)\n",
              "        (bn1): BatchNorm2d(128, eps=1e-05, momentum=0.1, affine=True, track_running_stats=True)\n",
              "        (conv2): Conv2d(128, 128, kernel_size=(3, 3), stride=(1, 1), padding=(1, 1), bias=False)\n",
              "        (bn2): BatchNorm2d(128, eps=1e-05, momentum=0.1, affine=True, track_running_stats=True)\n",
              "        (conv3): Conv2d(128, 512, kernel_size=(1, 1), stride=(1, 1), bias=False)\n",
              "        (bn3): BatchNorm2d(512, eps=1e-05, momentum=0.1, affine=True, track_running_stats=True)\n",
              "        (relu): ReLU(inplace=True)\n",
              "      )\n",
              "    )\n",
              "    (layer3): Sequential(\n",
              "      (0): Bottleneck(\n",
              "        (conv1): Conv2d(512, 256, kernel_size=(1, 1), stride=(1, 1), bias=False)\n",
              "        (bn1): BatchNorm2d(256, eps=1e-05, momentum=0.1, affine=True, track_running_stats=True)\n",
              "        (conv2): Conv2d(256, 256, kernel_size=(3, 3), stride=(2, 2), padding=(1, 1), bias=False)\n",
              "        (bn2): BatchNorm2d(256, eps=1e-05, momentum=0.1, affine=True, track_running_stats=True)\n",
              "        (conv3): Conv2d(256, 1024, kernel_size=(1, 1), stride=(1, 1), bias=False)\n",
              "        (bn3): BatchNorm2d(1024, eps=1e-05, momentum=0.1, affine=True, track_running_stats=True)\n",
              "        (relu): ReLU(inplace=True)\n",
              "        (downsample): Sequential(\n",
              "          (0): Conv2d(512, 1024, kernel_size=(1, 1), stride=(2, 2), bias=False)\n",
              "          (1): BatchNorm2d(1024, eps=1e-05, momentum=0.1, affine=True, track_running_stats=True)\n",
              "        )\n",
              "      )\n",
              "      (1): Bottleneck(\n",
              "        (conv1): Conv2d(1024, 256, kernel_size=(1, 1), stride=(1, 1), bias=False)\n",
              "        (bn1): BatchNorm2d(256, eps=1e-05, momentum=0.1, affine=True, track_running_stats=True)\n",
              "        (conv2): Conv2d(256, 256, kernel_size=(3, 3), stride=(1, 1), padding=(1, 1), bias=False)\n",
              "        (bn2): BatchNorm2d(256, eps=1e-05, momentum=0.1, affine=True, track_running_stats=True)\n",
              "        (conv3): Conv2d(256, 1024, kernel_size=(1, 1), stride=(1, 1), bias=False)\n",
              "        (bn3): BatchNorm2d(1024, eps=1e-05, momentum=0.1, affine=True, track_running_stats=True)\n",
              "        (relu): ReLU(inplace=True)\n",
              "      )\n",
              "      (2): Bottleneck(\n",
              "        (conv1): Conv2d(1024, 256, kernel_size=(1, 1), stride=(1, 1), bias=False)\n",
              "        (bn1): BatchNorm2d(256, eps=1e-05, momentum=0.1, affine=True, track_running_stats=True)\n",
              "        (conv2): Conv2d(256, 256, kernel_size=(3, 3), stride=(1, 1), padding=(1, 1), bias=False)\n",
              "        (bn2): BatchNorm2d(256, eps=1e-05, momentum=0.1, affine=True, track_running_stats=True)\n",
              "        (conv3): Conv2d(256, 1024, kernel_size=(1, 1), stride=(1, 1), bias=False)\n",
              "        (bn3): BatchNorm2d(1024, eps=1e-05, momentum=0.1, affine=True, track_running_stats=True)\n",
              "        (relu): ReLU(inplace=True)\n",
              "      )\n",
              "      (3): Bottleneck(\n",
              "        (conv1): Conv2d(1024, 256, kernel_size=(1, 1), stride=(1, 1), bias=False)\n",
              "        (bn1): BatchNorm2d(256, eps=1e-05, momentum=0.1, affine=True, track_running_stats=True)\n",
              "        (conv2): Conv2d(256, 256, kernel_size=(3, 3), stride=(1, 1), padding=(1, 1), bias=False)\n",
              "        (bn2): BatchNorm2d(256, eps=1e-05, momentum=0.1, affine=True, track_running_stats=True)\n",
              "        (conv3): Conv2d(256, 1024, kernel_size=(1, 1), stride=(1, 1), bias=False)\n",
              "        (bn3): BatchNorm2d(1024, eps=1e-05, momentum=0.1, affine=True, track_running_stats=True)\n",
              "        (relu): ReLU(inplace=True)\n",
              "      )\n",
              "      (4): Bottleneck(\n",
              "        (conv1): Conv2d(1024, 256, kernel_size=(1, 1), stride=(1, 1), bias=False)\n",
              "        (bn1): BatchNorm2d(256, eps=1e-05, momentum=0.1, affine=True, track_running_stats=True)\n",
              "        (conv2): Conv2d(256, 256, kernel_size=(3, 3), stride=(1, 1), padding=(1, 1), bias=False)\n",
              "        (bn2): BatchNorm2d(256, eps=1e-05, momentum=0.1, affine=True, track_running_stats=True)\n",
              "        (conv3): Conv2d(256, 1024, kernel_size=(1, 1), stride=(1, 1), bias=False)\n",
              "        (bn3): BatchNorm2d(1024, eps=1e-05, momentum=0.1, affine=True, track_running_stats=True)\n",
              "        (relu): ReLU(inplace=True)\n",
              "      )\n",
              "      (5): Bottleneck(\n",
              "        (conv1): Conv2d(1024, 256, kernel_size=(1, 1), stride=(1, 1), bias=False)\n",
              "        (bn1): BatchNorm2d(256, eps=1e-05, momentum=0.1, affine=True, track_running_stats=True)\n",
              "        (conv2): Conv2d(256, 256, kernel_size=(3, 3), stride=(1, 1), padding=(1, 1), bias=False)\n",
              "        (bn2): BatchNorm2d(256, eps=1e-05, momentum=0.1, affine=True, track_running_stats=True)\n",
              "        (conv3): Conv2d(256, 1024, kernel_size=(1, 1), stride=(1, 1), bias=False)\n",
              "        (bn3): BatchNorm2d(1024, eps=1e-05, momentum=0.1, affine=True, track_running_stats=True)\n",
              "        (relu): ReLU(inplace=True)\n",
              "      )\n",
              "    )\n",
              "    (layer4): Sequential(\n",
              "      (0): Bottleneck(\n",
              "        (conv1): Conv2d(1024, 512, kernel_size=(1, 1), stride=(1, 1), bias=False)\n",
              "        (bn1): BatchNorm2d(512, eps=1e-05, momentum=0.1, affine=True, track_running_stats=True)\n",
              "        (conv2): Conv2d(512, 512, kernel_size=(3, 3), stride=(2, 2), padding=(1, 1), bias=False)\n",
              "        (bn2): BatchNorm2d(512, eps=1e-05, momentum=0.1, affine=True, track_running_stats=True)\n",
              "        (conv3): Conv2d(512, 2048, kernel_size=(1, 1), stride=(1, 1), bias=False)\n",
              "        (bn3): BatchNorm2d(2048, eps=1e-05, momentum=0.1, affine=True, track_running_stats=True)\n",
              "        (relu): ReLU(inplace=True)\n",
              "        (downsample): Sequential(\n",
              "          (0): Conv2d(1024, 2048, kernel_size=(1, 1), stride=(2, 2), bias=False)\n",
              "          (1): BatchNorm2d(2048, eps=1e-05, momentum=0.1, affine=True, track_running_stats=True)\n",
              "        )\n",
              "      )\n",
              "      (1): Bottleneck(\n",
              "        (conv1): Conv2d(2048, 512, kernel_size=(1, 1), stride=(1, 1), bias=False)\n",
              "        (bn1): BatchNorm2d(512, eps=1e-05, momentum=0.1, affine=True, track_running_stats=True)\n",
              "        (conv2): Conv2d(512, 512, kernel_size=(3, 3), stride=(1, 1), padding=(1, 1), bias=False)\n",
              "        (bn2): BatchNorm2d(512, eps=1e-05, momentum=0.1, affine=True, track_running_stats=True)\n",
              "        (conv3): Conv2d(512, 2048, kernel_size=(1, 1), stride=(1, 1), bias=False)\n",
              "        (bn3): BatchNorm2d(2048, eps=1e-05, momentum=0.1, affine=True, track_running_stats=True)\n",
              "        (relu): ReLU(inplace=True)\n",
              "      )\n",
              "      (2): Bottleneck(\n",
              "        (conv1): Conv2d(2048, 512, kernel_size=(1, 1), stride=(1, 1), bias=False)\n",
              "        (bn1): BatchNorm2d(512, eps=1e-05, momentum=0.1, affine=True, track_running_stats=True)\n",
              "        (conv2): Conv2d(512, 512, kernel_size=(3, 3), stride=(1, 1), padding=(1, 1), bias=False)\n",
              "        (bn2): BatchNorm2d(512, eps=1e-05, momentum=0.1, affine=True, track_running_stats=True)\n",
              "        (conv3): Conv2d(512, 2048, kernel_size=(1, 1), stride=(1, 1), bias=False)\n",
              "        (bn3): BatchNorm2d(2048, eps=1e-05, momentum=0.1, affine=True, track_running_stats=True)\n",
              "        (relu): ReLU(inplace=True)\n",
              "      )\n",
              "    )\n",
              "    (avgpool): AdaptiveAvgPool2d(output_size=(1, 1))\n",
              "    (fc): Linear(in_features=2048, out_features=1, bias=True)\n",
              "  )\n",
              ")"
            ]
          },
          "metadata": {},
          "execution_count": 21
        }
      ]
    },
    {
      "cell_type": "code",
      "source": [
        "model = Net()\n",
        "for name, param in model.named_parameters(): \n",
        "    if name.startswith(\"pre_model.layer3\"):\n",
        "        break #LAYER 2까지만\n",
        "    param.requires_grad = False"
      ],
      "metadata": {
        "id": "RvEKuL8KCqJv"
      },
      "execution_count": null,
      "outputs": []
    },
    {
      "cell_type": "code",
      "source": [
        "for name, param in model.named_parameters():\n",
        "    print(name ,param.requires_grad) "
      ],
      "metadata": {
        "id": "B_Nufuy80A_O",
        "colab": {
          "base_uri": "https://localhost:8080/"
        },
        "outputId": "4ca3c118-b1eb-4bd9-d474-3db3db5a26c4"
      },
      "execution_count": null,
      "outputs": [
        {
          "output_type": "stream",
          "name": "stdout",
          "text": [
            "pre_model.conv1.weight False\n",
            "pre_model.bn1.weight False\n",
            "pre_model.bn1.bias False\n",
            "pre_model.layer1.0.conv1.weight False\n",
            "pre_model.layer1.0.bn1.weight False\n",
            "pre_model.layer1.0.bn1.bias False\n",
            "pre_model.layer1.0.conv2.weight False\n",
            "pre_model.layer1.0.bn2.weight False\n",
            "pre_model.layer1.0.bn2.bias False\n",
            "pre_model.layer1.0.conv3.weight False\n",
            "pre_model.layer1.0.bn3.weight False\n",
            "pre_model.layer1.0.bn3.bias False\n",
            "pre_model.layer1.0.downsample.0.weight False\n",
            "pre_model.layer1.0.downsample.1.weight False\n",
            "pre_model.layer1.0.downsample.1.bias False\n",
            "pre_model.layer1.1.conv1.weight False\n",
            "pre_model.layer1.1.bn1.weight False\n",
            "pre_model.layer1.1.bn1.bias False\n",
            "pre_model.layer1.1.conv2.weight False\n",
            "pre_model.layer1.1.bn2.weight False\n",
            "pre_model.layer1.1.bn2.bias False\n",
            "pre_model.layer1.1.conv3.weight False\n",
            "pre_model.layer1.1.bn3.weight False\n",
            "pre_model.layer1.1.bn3.bias False\n",
            "pre_model.layer1.2.conv1.weight False\n",
            "pre_model.layer1.2.bn1.weight False\n",
            "pre_model.layer1.2.bn1.bias False\n",
            "pre_model.layer1.2.conv2.weight False\n",
            "pre_model.layer1.2.bn2.weight False\n",
            "pre_model.layer1.2.bn2.bias False\n",
            "pre_model.layer1.2.conv3.weight False\n",
            "pre_model.layer1.2.bn3.weight False\n",
            "pre_model.layer1.2.bn3.bias False\n",
            "pre_model.layer2.0.conv1.weight False\n",
            "pre_model.layer2.0.bn1.weight False\n",
            "pre_model.layer2.0.bn1.bias False\n",
            "pre_model.layer2.0.conv2.weight False\n",
            "pre_model.layer2.0.bn2.weight False\n",
            "pre_model.layer2.0.bn2.bias False\n",
            "pre_model.layer2.0.conv3.weight False\n",
            "pre_model.layer2.0.bn3.weight False\n",
            "pre_model.layer2.0.bn3.bias False\n",
            "pre_model.layer2.0.downsample.0.weight False\n",
            "pre_model.layer2.0.downsample.1.weight False\n",
            "pre_model.layer2.0.downsample.1.bias False\n",
            "pre_model.layer2.1.conv1.weight False\n",
            "pre_model.layer2.1.bn1.weight False\n",
            "pre_model.layer2.1.bn1.bias False\n",
            "pre_model.layer2.1.conv2.weight False\n",
            "pre_model.layer2.1.bn2.weight False\n",
            "pre_model.layer2.1.bn2.bias False\n",
            "pre_model.layer2.1.conv3.weight False\n",
            "pre_model.layer2.1.bn3.weight False\n",
            "pre_model.layer2.1.bn3.bias False\n",
            "pre_model.layer2.2.conv1.weight False\n",
            "pre_model.layer2.2.bn1.weight False\n",
            "pre_model.layer2.2.bn1.bias False\n",
            "pre_model.layer2.2.conv2.weight False\n",
            "pre_model.layer2.2.bn2.weight False\n",
            "pre_model.layer2.2.bn2.bias False\n",
            "pre_model.layer2.2.conv3.weight False\n",
            "pre_model.layer2.2.bn3.weight False\n",
            "pre_model.layer2.2.bn3.bias False\n",
            "pre_model.layer2.3.conv1.weight False\n",
            "pre_model.layer2.3.bn1.weight False\n",
            "pre_model.layer2.3.bn1.bias False\n",
            "pre_model.layer2.3.conv2.weight False\n",
            "pre_model.layer2.3.bn2.weight False\n",
            "pre_model.layer2.3.bn2.bias False\n",
            "pre_model.layer2.3.conv3.weight False\n",
            "pre_model.layer2.3.bn3.weight False\n",
            "pre_model.layer2.3.bn3.bias False\n",
            "pre_model.layer3.0.conv1.weight True\n",
            "pre_model.layer3.0.bn1.weight True\n",
            "pre_model.layer3.0.bn1.bias True\n",
            "pre_model.layer3.0.conv2.weight True\n",
            "pre_model.layer3.0.bn2.weight True\n",
            "pre_model.layer3.0.bn2.bias True\n",
            "pre_model.layer3.0.conv3.weight True\n",
            "pre_model.layer3.0.bn3.weight True\n",
            "pre_model.layer3.0.bn3.bias True\n",
            "pre_model.layer3.0.downsample.0.weight True\n",
            "pre_model.layer3.0.downsample.1.weight True\n",
            "pre_model.layer3.0.downsample.1.bias True\n",
            "pre_model.layer3.1.conv1.weight True\n",
            "pre_model.layer3.1.bn1.weight True\n",
            "pre_model.layer3.1.bn1.bias True\n",
            "pre_model.layer3.1.conv2.weight True\n",
            "pre_model.layer3.1.bn2.weight True\n",
            "pre_model.layer3.1.bn2.bias True\n",
            "pre_model.layer3.1.conv3.weight True\n",
            "pre_model.layer3.1.bn3.weight True\n",
            "pre_model.layer3.1.bn3.bias True\n",
            "pre_model.layer3.2.conv1.weight True\n",
            "pre_model.layer3.2.bn1.weight True\n",
            "pre_model.layer3.2.bn1.bias True\n",
            "pre_model.layer3.2.conv2.weight True\n",
            "pre_model.layer3.2.bn2.weight True\n",
            "pre_model.layer3.2.bn2.bias True\n",
            "pre_model.layer3.2.conv3.weight True\n",
            "pre_model.layer3.2.bn3.weight True\n",
            "pre_model.layer3.2.bn3.bias True\n",
            "pre_model.layer3.3.conv1.weight True\n",
            "pre_model.layer3.3.bn1.weight True\n",
            "pre_model.layer3.3.bn1.bias True\n",
            "pre_model.layer3.3.conv2.weight True\n",
            "pre_model.layer3.3.bn2.weight True\n",
            "pre_model.layer3.3.bn2.bias True\n",
            "pre_model.layer3.3.conv3.weight True\n",
            "pre_model.layer3.3.bn3.weight True\n",
            "pre_model.layer3.3.bn3.bias True\n",
            "pre_model.layer3.4.conv1.weight True\n",
            "pre_model.layer3.4.bn1.weight True\n",
            "pre_model.layer3.4.bn1.bias True\n",
            "pre_model.layer3.4.conv2.weight True\n",
            "pre_model.layer3.4.bn2.weight True\n",
            "pre_model.layer3.4.bn2.bias True\n",
            "pre_model.layer3.4.conv3.weight True\n",
            "pre_model.layer3.4.bn3.weight True\n",
            "pre_model.layer3.4.bn3.bias True\n",
            "pre_model.layer3.5.conv1.weight True\n",
            "pre_model.layer3.5.bn1.weight True\n",
            "pre_model.layer3.5.bn1.bias True\n",
            "pre_model.layer3.5.conv2.weight True\n",
            "pre_model.layer3.5.bn2.weight True\n",
            "pre_model.layer3.5.bn2.bias True\n",
            "pre_model.layer3.5.conv3.weight True\n",
            "pre_model.layer3.5.bn3.weight True\n",
            "pre_model.layer3.5.bn3.bias True\n",
            "pre_model.layer4.0.conv1.weight True\n",
            "pre_model.layer4.0.bn1.weight True\n",
            "pre_model.layer4.0.bn1.bias True\n",
            "pre_model.layer4.0.conv2.weight True\n",
            "pre_model.layer4.0.bn2.weight True\n",
            "pre_model.layer4.0.bn2.bias True\n",
            "pre_model.layer4.0.conv3.weight True\n",
            "pre_model.layer4.0.bn3.weight True\n",
            "pre_model.layer4.0.bn3.bias True\n",
            "pre_model.layer4.0.downsample.0.weight True\n",
            "pre_model.layer4.0.downsample.1.weight True\n",
            "pre_model.layer4.0.downsample.1.bias True\n",
            "pre_model.layer4.1.conv1.weight True\n",
            "pre_model.layer4.1.bn1.weight True\n",
            "pre_model.layer4.1.bn1.bias True\n",
            "pre_model.layer4.1.conv2.weight True\n",
            "pre_model.layer4.1.bn2.weight True\n",
            "pre_model.layer4.1.bn2.bias True\n",
            "pre_model.layer4.1.conv3.weight True\n",
            "pre_model.layer4.1.bn3.weight True\n",
            "pre_model.layer4.1.bn3.bias True\n",
            "pre_model.layer4.2.conv1.weight True\n",
            "pre_model.layer4.2.bn1.weight True\n",
            "pre_model.layer4.2.bn1.bias True\n",
            "pre_model.layer4.2.conv2.weight True\n",
            "pre_model.layer4.2.bn2.weight True\n",
            "pre_model.layer4.2.bn2.bias True\n",
            "pre_model.layer4.2.conv3.weight True\n",
            "pre_model.layer4.2.bn3.weight True\n",
            "pre_model.layer4.2.bn3.bias True\n",
            "pre_model.fc.weight True\n",
            "pre_model.fc.bias True\n"
          ]
        }
      ]
    },
    {
      "cell_type": "code",
      "source": [],
      "metadata": {
        "id": "4FL-yYgVCp_W"
      },
      "execution_count": null,
      "outputs": []
    },
    {
      "cell_type": "code",
      "source": [],
      "metadata": {
        "id": "VreVSDL0bKd4"
      },
      "execution_count": null,
      "outputs": []
    }
  ]
}